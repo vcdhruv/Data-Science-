{
 "cells": [
  {
   "cell_type": "code",
   "execution_count": 1,
   "metadata": {},
   "outputs": [],
   "source": [
    "import sqlite3"
   ]
  },
  {
   "cell_type": "code",
   "execution_count": 2,
   "metadata": {},
   "outputs": [],
   "source": [
    "connection = sqlite3.connect('example.db')"
   ]
  },
  {
   "cell_type": "code",
   "execution_count": 3,
   "metadata": {},
   "outputs": [
    {
     "data": {
      "text/plain": [
       "<sqlite3.Connection at 0x1e8914a47c0>"
      ]
     },
     "execution_count": 3,
     "metadata": {},
     "output_type": "execute_result"
    }
   ],
   "source": [
    "connection"
   ]
  },
  {
   "cell_type": "code",
   "execution_count": 4,
   "metadata": {},
   "outputs": [],
   "source": [
    "cursor = connection.cursor()"
   ]
  },
  {
   "cell_type": "code",
   "execution_count": 5,
   "metadata": {},
   "outputs": [
    {
     "data": {
      "text/plain": [
       "<sqlite3.Cursor at 0x1e891693f40>"
      ]
     },
     "execution_count": 5,
     "metadata": {},
     "output_type": "execute_result"
    }
   ],
   "source": [
    "cursor.execute('''\n",
    "Create Table if not exists Employee(\n",
    "        id Integer Primary Key,\n",
    "        name Text Not Null,\n",
    "        age Integer,\n",
    "        department text\n",
    "        )\n",
    "    ''')"
   ]
  },
  {
   "cell_type": "code",
   "execution_count": 6,
   "metadata": {},
   "outputs": [],
   "source": [
    "connection.commit()"
   ]
  },
  {
   "cell_type": "code",
   "execution_count": 7,
   "metadata": {},
   "outputs": [
    {
     "data": {
      "text/plain": [
       "<sqlite3.Cursor at 0x1e891693f40>"
      ]
     },
     "execution_count": 7,
     "metadata": {},
     "output_type": "execute_result"
    }
   ],
   "source": [
    "cursor.execute(\"select * from Employee\")"
   ]
  },
  {
   "cell_type": "code",
   "execution_count": 28,
   "metadata": {},
   "outputs": [
    {
     "data": {
      "text/plain": [
       "<sqlite3.Cursor at 0x1e891693f40>"
      ]
     },
     "execution_count": 28,
     "metadata": {},
     "output_type": "execute_result"
    }
   ],
   "source": [
    "cursor.execute('''\n",
    "               Insert into Employee(name,age,department)\n",
    "               values(\"vishmay\",20,\"computer\")\n",
    "               ''')\n",
    "cursor.execute('''\n",
    "               Insert into Employee(name,age,department)\n",
    "               values(\"krish\",20,\"computer\")\n",
    "               ''')\n",
    "cursor.execute('''\n",
    "               Insert into Employee(name,age,department)\n",
    "               values(\"devansh\",20,\"computer\")\n",
    "               ''')\n",
    "cursor.execute('''\n",
    "               Insert into Employee(name,age,department)\n",
    "               values(\"harsh\",20,\"computer\")\n",
    "               ''')"
   ]
  },
  {
   "cell_type": "code",
   "execution_count": 29,
   "metadata": {},
   "outputs": [],
   "source": [
    "connection.commit()"
   ]
  },
  {
   "cell_type": "code",
   "execution_count": 30,
   "metadata": {},
   "outputs": [],
   "source": [
    "cursor.execute(\"Select * from Employee\")\n",
    "rows = cursor.fetchall()"
   ]
  },
  {
   "cell_type": "code",
   "execution_count": 31,
   "metadata": {},
   "outputs": [
    {
     "name": "stdout",
     "output_type": "stream",
     "text": [
      "(1, 'qusai', 20, 'computer')\n",
      "(2, 'qusai', 20, 'computer')\n",
      "(3, 'krish', 20, 'computer')\n",
      "(4, 'devansh', 20, 'computer')\n",
      "(5, 'harsh', 20, 'computer')\n",
      "(6, 'vishmay', 20, 'computer')\n",
      "(7, 'krish', 20, 'computer')\n",
      "(8, 'devansh', 20, 'computer')\n",
      "(9, 'harsh', 20, 'computer')\n"
     ]
    }
   ],
   "source": [
    "for row in rows:\n",
    "    print(row)"
   ]
  },
  {
   "cell_type": "code",
   "execution_count": 41,
   "metadata": {},
   "outputs": [],
   "source": [
    "cursor.execute(\"Update Employee set name = 'qusai' where name = 'vishmay'\")\n",
    "connection.commit()"
   ]
  },
  {
   "cell_type": "code",
   "execution_count": 42,
   "metadata": {},
   "outputs": [],
   "source": [
    "cursor.execute(\"select * from Employee\")\n",
    "data = cursor.fetchall()"
   ]
  },
  {
   "cell_type": "code",
   "execution_count": 43,
   "metadata": {},
   "outputs": [
    {
     "name": "stdout",
     "output_type": "stream",
     "text": [
      "(1, 'qusai', 20, 'computer')\n",
      "(2, 'qusai', 20, 'computer')\n",
      "(3, 'krish', 20, 'computer')\n",
      "(4, 'devansh', 20, 'computer')\n",
      "(5, 'harsh', 20, 'computer')\n",
      "(6, 'qusai', 20, 'computer')\n",
      "(7, 'krish', 20, 'computer')\n",
      "(8, 'devansh', 20, 'computer')\n",
      "(9, 'harsh', 20, 'computer')\n"
     ]
    }
   ],
   "source": [
    "for row in data:\n",
    "    print(row)"
   ]
  },
  {
   "cell_type": "code",
   "execution_count": 44,
   "metadata": {},
   "outputs": [],
   "source": [
    "cursor.execute(\"Delete from Employee where name = 'qusai'\")\n",
    "connection.commit()"
   ]
  },
  {
   "cell_type": "code",
   "execution_count": 45,
   "metadata": {},
   "outputs": [],
   "source": [
    "cursor.execute(\"select * from Employee\")\n",
    "data = cursor.fetchall()"
   ]
  },
  {
   "cell_type": "code",
   "execution_count": 46,
   "metadata": {},
   "outputs": [
    {
     "name": "stdout",
     "output_type": "stream",
     "text": [
      "(3, 'krish', 20, 'computer')\n",
      "(4, 'devansh', 20, 'computer')\n",
      "(5, 'harsh', 20, 'computer')\n",
      "(7, 'krish', 20, 'computer')\n",
      "(8, 'devansh', 20, 'computer')\n",
      "(9, 'harsh', 20, 'computer')\n"
     ]
    }
   ],
   "source": [
    "for i in data:\n",
    "    print(i)"
   ]
  },
  {
   "cell_type": "code",
   "execution_count": 48,
   "metadata": {},
   "outputs": [],
   "source": [
    "bulk_data = [\n",
    "    ('vishmay', 21, 'computer'),\n",
    "    ('cheatn', 54, 'banking'),\n",
    "    ('meeta', 48, 'accountant'),\n",
    "    ('drashty', 25, 'physiotherapist')\n",
    "]"
   ]
  },
  {
   "cell_type": "code",
   "execution_count": 50,
   "metadata": {},
   "outputs": [
    {
     "data": {
      "text/plain": [
       "<sqlite3.Cursor at 0x1e891693f40>"
      ]
     },
     "execution_count": 50,
     "metadata": {},
     "output_type": "execute_result"
    }
   ],
   "source": [
    "cursor.executemany('''\n",
    "insert into Employee(name,age,department) values(?,?,?)\n",
    "''',bulk_data)"
   ]
  },
  {
   "cell_type": "code",
   "execution_count": 51,
   "metadata": {},
   "outputs": [],
   "source": [
    "connection.commit()"
   ]
  },
  {
   "cell_type": "code",
   "execution_count": 52,
   "metadata": {},
   "outputs": [
    {
     "data": {
      "text/plain": [
       "<sqlite3.Cursor at 0x1e891693f40>"
      ]
     },
     "execution_count": 52,
     "metadata": {},
     "output_type": "execute_result"
    }
   ],
   "source": [
    "cursor.execute(\"select * from Employee\")"
   ]
  },
  {
   "cell_type": "code",
   "execution_count": 53,
   "metadata": {},
   "outputs": [],
   "source": [
    "data = cursor.fetchall()"
   ]
  },
  {
   "cell_type": "code",
   "execution_count": 54,
   "metadata": {},
   "outputs": [
    {
     "name": "stdout",
     "output_type": "stream",
     "text": [
      "(3, 'krish', 20, 'computer')\n",
      "(4, 'devansh', 20, 'computer')\n",
      "(5, 'harsh', 20, 'computer')\n",
      "(7, 'krish', 20, 'computer')\n",
      "(8, 'devansh', 20, 'computer')\n",
      "(9, 'harsh', 20, 'computer')\n",
      "(10, 'vishmay', 21, 'computer')\n",
      "(11, 'cheatn', 54, 'banking')\n",
      "(12, 'meeta', 48, 'accountant')\n",
      "(13, 'drashty', 25, 'physiotherapist')\n"
     ]
    }
   ],
   "source": [
    "for i in data:\n",
    "    print(i)"
   ]
  },
  {
   "cell_type": "code",
   "execution_count": null,
   "metadata": {},
   "outputs": [],
   "source": []
  }
 ],
 "metadata": {
  "kernelspec": {
   "display_name": "Python 3",
   "language": "python",
   "name": "python3"
  },
  "language_info": {
   "codemirror_mode": {
    "name": "ipython",
    "version": 3
   },
   "file_extension": ".py",
   "mimetype": "text/x-python",
   "name": "python",
   "nbconvert_exporter": "python",
   "pygments_lexer": "ipython3",
   "version": "3.12.0"
  }
 },
 "nbformat": 4,
 "nbformat_minor": 2
}
