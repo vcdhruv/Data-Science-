{
 "cells": [
  {
   "cell_type": "code",
   "execution_count": 1,
   "id": "da1f34c6",
   "metadata": {},
   "outputs": [],
   "source": [
    "class test:\n",
    "    pass"
   ]
  },
  {
   "cell_type": "code",
   "execution_count": 2,
   "id": "d620d69e",
   "metadata": {},
   "outputs": [],
   "source": [
    "a = test()"
   ]
  },
  {
   "cell_type": "code",
   "execution_count": 3,
   "id": "162294f3",
   "metadata": {},
   "outputs": [
    {
     "data": {
      "text/plain": [
       "__main__.test"
      ]
     },
     "execution_count": 3,
     "metadata": {},
     "output_type": "execute_result"
    }
   ],
   "source": [
    "type(a)"
   ]
  },
  {
   "cell_type": "code",
   "execution_count": 4,
   "id": "463bc952",
   "metadata": {},
   "outputs": [
    {
     "name": "stdout",
     "output_type": "stream",
     "text": [
      "<class '__main__.test'>\n"
     ]
    }
   ],
   "source": [
    "print(type(a))"
   ]
  },
  {
   "cell_type": "code",
   "execution_count": 5,
   "id": "958e3867",
   "metadata": {},
   "outputs": [],
   "source": [
    "class numbers:\n",
    "    \n",
    "    def int_num(self):\n",
    "        print(\"I'm Integer\")"
   ]
  },
  {
   "cell_type": "code",
   "execution_count": 6,
   "id": "f01528fe",
   "metadata": {},
   "outputs": [],
   "source": [
    "n = numbers()"
   ]
  },
  {
   "cell_type": "code",
   "execution_count": 7,
   "id": "5212ff04",
   "metadata": {},
   "outputs": [
    {
     "name": "stdout",
     "output_type": "stream",
     "text": [
      "I'm Integer\n"
     ]
    }
   ],
   "source": [
    "n.int_num()"
   ]
  },
  {
   "cell_type": "code",
   "execution_count": 26,
   "id": "98a6a3f1",
   "metadata": {},
   "outputs": [],
   "source": [
    "get_all_student_details = {}\n",
    "name_list = []\n",
    "no_list = []\n",
    "marks_list = []"
   ]
  },
  {
   "cell_type": "code",
   "execution_count": 27,
   "id": "c77537d6",
   "metadata": {},
   "outputs": [],
   "source": [
    "class Student_details:\n",
    "    \n",
    "    def __init__(self,name,no,marks):\n",
    "        self.name = name \n",
    "        self.no = no\n",
    "        self.marks = marks\n",
    "        name_list.append(self.name)\n",
    "        no_list.append(self.no)\n",
    "        marks_list.append(self.marks)\n",
    "        get_all_student_details[\"name\"]=name_list\n",
    "        get_all_student_details[\"no\"]=no_list\n",
    "        get_all_student_details[\"marks\"]=marks_list\n",
    "    \n",
    "    def return_details(self):\n",
    "        return self.name,self.no,self.marks\n",
    "    \n",
    "    "
   ]
  },
  {
   "cell_type": "code",
   "execution_count": 28,
   "id": "79f14492",
   "metadata": {},
   "outputs": [],
   "source": [
    "vcd = Student_details(\"vishmay\",305,100)"
   ]
  },
  {
   "cell_type": "code",
   "execution_count": 29,
   "id": "5574c012",
   "metadata": {},
   "outputs": [
    {
     "data": {
      "text/plain": [
       "('vishmay', 305, 100)"
      ]
     },
     "execution_count": 29,
     "metadata": {},
     "output_type": "execute_result"
    }
   ],
   "source": [
    "vcd.return_details()"
   ]
  },
  {
   "cell_type": "code",
   "execution_count": 30,
   "id": "881e8b0d",
   "metadata": {},
   "outputs": [],
   "source": [
    "krish = Student_details(\"krish\",306,100)"
   ]
  },
  {
   "cell_type": "code",
   "execution_count": 31,
   "id": "a27bce03",
   "metadata": {},
   "outputs": [
    {
     "data": {
      "text/plain": [
       "('krish', 306, 100)"
      ]
     },
     "execution_count": 31,
     "metadata": {},
     "output_type": "execute_result"
    }
   ],
   "source": [
    "krish.return_details()"
   ]
  },
  {
   "cell_type": "code",
   "execution_count": 32,
   "id": "b74cfd64",
   "metadata": {},
   "outputs": [
    {
     "data": {
      "text/plain": [
       "{'name': ['vishmay', 'krish'], 'no': [305, 306], 'marks': [100, 100]}"
      ]
     },
     "execution_count": 32,
     "metadata": {},
     "output_type": "execute_result"
    }
   ],
   "source": [
    "get_all_student_details"
   ]
  },
  {
   "cell_type": "markdown",
   "id": "310133dd",
   "metadata": {},
   "source": [
    "#### POLYMORPHISM"
   ]
  },
  {
   "cell_type": "code",
   "execution_count": 33,
   "id": "0f93920a",
   "metadata": {},
   "outputs": [],
   "source": [
    "class python:\n",
    "    \n",
    "    def syllabus(self):\n",
    "        print(\"this is the class of python\")\n",
    "        "
   ]
  },
  {
   "cell_type": "code",
   "execution_count": 34,
   "id": "938fa41a",
   "metadata": {},
   "outputs": [],
   "source": [
    "class c:\n",
    "    \n",
    "    def syllabus(self):\n",
    "        print(\"this is the class of c\")"
   ]
  },
  {
   "cell_type": "code",
   "execution_count": 35,
   "id": "264fcb90",
   "metadata": {},
   "outputs": [],
   "source": [
    "python_lan = python()"
   ]
  },
  {
   "cell_type": "code",
   "execution_count": 36,
   "id": "5a1ed2a6",
   "metadata": {},
   "outputs": [],
   "source": [
    "c_lan = c()"
   ]
  },
  {
   "cell_type": "code",
   "execution_count": 37,
   "id": "a28f43fd",
   "metadata": {},
   "outputs": [],
   "source": [
    "def class_parser(class_obj):\n",
    "    for i in class_obj:\n",
    "        i.syllabus()"
   ]
  },
  {
   "cell_type": "code",
   "execution_count": 38,
   "id": "35a8a714",
   "metadata": {},
   "outputs": [],
   "source": [
    "class_obj = [python_lan,c_lan]"
   ]
  },
  {
   "cell_type": "code",
   "execution_count": 39,
   "id": "e0ad5fd9",
   "metadata": {},
   "outputs": [
    {
     "name": "stdout",
     "output_type": "stream",
     "text": [
      "this is the class of python\n",
      "this is the class of c\n"
     ]
    }
   ],
   "source": [
    "class_parser(class_obj)"
   ]
  },
  {
   "cell_type": "markdown",
   "id": "bdaab2b1",
   "metadata": {},
   "source": [
    "#### ENCAPSULATION"
   ]
  },
  {
   "cell_type": "code",
   "execution_count": 1,
   "id": "27797c95",
   "metadata": {},
   "outputs": [],
   "source": [
    "class bank_account:\n",
    "    \n",
    "    def __init__(self,balance):\n",
    "        self.__balance = balance\n",
    "        \n",
    "    def deposit(self,amount):\n",
    "        self.__balance = self.__balance + amount\n",
    "        \n",
    "    def withdraw(self, amount):\n",
    "        if self.__balance >= amount:\n",
    "            self.__balance = self.__balance - amount\n",
    "            return True\n",
    "        else:\n",
    "            return False\n",
    "    \n",
    "    def get_balance(self):\n",
    "        return self.__balance"
   ]
  },
  {
   "cell_type": "code",
   "execution_count": 2,
   "id": "1246b71e",
   "metadata": {},
   "outputs": [],
   "source": [
    "vcd = bank_account(1000)"
   ]
  },
  {
   "cell_type": "code",
   "execution_count": 3,
   "id": "b60ac357",
   "metadata": {},
   "outputs": [
    {
     "ename": "AttributeError",
     "evalue": "'bank_account' object has no attribute '__balance'",
     "output_type": "error",
     "traceback": [
      "\u001b[1;31m---------------------------------------------------------------------------\u001b[0m",
      "\u001b[1;31mAttributeError\u001b[0m                            Traceback (most recent call last)",
      "\u001b[1;32m~\\AppData\\Local\\Temp\\ipykernel_24476\\3681666844.py\u001b[0m in \u001b[0;36m<module>\u001b[1;34m\u001b[0m\n\u001b[1;32m----> 1\u001b[1;33m \u001b[0mvcd\u001b[0m\u001b[1;33m.\u001b[0m\u001b[0m__balance\u001b[0m\u001b[1;33m\u001b[0m\u001b[1;33m\u001b[0m\u001b[0m\n\u001b[0m",
      "\u001b[1;31mAttributeError\u001b[0m: 'bank_account' object has no attribute '__balance'"
     ]
    }
   ],
   "source": [
    "vcd.__balance"
   ]
  },
  {
   "cell_type": "code",
   "execution_count": 5,
   "id": "74345c89",
   "metadata": {},
   "outputs": [
    {
     "data": {
      "text/plain": [
       "1000"
      ]
     },
     "execution_count": 5,
     "metadata": {},
     "output_type": "execute_result"
    }
   ],
   "source": [
    "vcd._bank_account__balance"
   ]
  },
  {
   "cell_type": "code",
   "execution_count": 6,
   "id": "2e179e75",
   "metadata": {},
   "outputs": [
    {
     "data": {
      "text/plain": [
       "1000"
      ]
     },
     "execution_count": 6,
     "metadata": {},
     "output_type": "execute_result"
    }
   ],
   "source": [
    "vcd.get_balance()"
   ]
  },
  {
   "cell_type": "code",
   "execution_count": 7,
   "id": "9fd75dc3",
   "metadata": {},
   "outputs": [],
   "source": [
    "vcd.deposit(3000)"
   ]
  },
  {
   "cell_type": "code",
   "execution_count": 8,
   "id": "922bd9ab",
   "metadata": {},
   "outputs": [
    {
     "data": {
      "text/plain": [
       "4000"
      ]
     },
     "execution_count": 8,
     "metadata": {},
     "output_type": "execute_result"
    }
   ],
   "source": [
    "vcd.get_balance()"
   ]
  },
  {
   "cell_type": "code",
   "execution_count": 9,
   "id": "4f92fb3b",
   "metadata": {},
   "outputs": [
    {
     "data": {
      "text/plain": [
       "False"
      ]
     },
     "execution_count": 9,
     "metadata": {},
     "output_type": "execute_result"
    }
   ],
   "source": [
    "vcd.withdraw(5000)"
   ]
  },
  {
   "cell_type": "code",
   "execution_count": 10,
   "id": "b24ea144",
   "metadata": {},
   "outputs": [
    {
     "data": {
      "text/plain": [
       "True"
      ]
     },
     "execution_count": 10,
     "metadata": {},
     "output_type": "execute_result"
    }
   ],
   "source": [
    "vcd.withdraw(2000)"
   ]
  },
  {
   "cell_type": "code",
   "execution_count": 11,
   "id": "813e57d9",
   "metadata": {},
   "outputs": [
    {
     "data": {
      "text/plain": [
       "2000"
      ]
     },
     "execution_count": 11,
     "metadata": {},
     "output_type": "execute_result"
    }
   ],
   "source": [
    "vcd.get_balance()"
   ]
  },
  {
   "cell_type": "markdown",
   "id": "96cb746f",
   "metadata": {},
   "source": [
    "#### INHERITANCE"
   ]
  },
  {
   "cell_type": "code",
   "execution_count": 12,
   "id": "f67506d3",
   "metadata": {},
   "outputs": [],
   "source": [
    "class parent_class:\n",
    "    \n",
    "    def hello(self):\n",
    "        print(\"Hello!!!!\")"
   ]
  },
  {
   "cell_type": "code",
   "execution_count": 13,
   "id": "1f3df131",
   "metadata": {},
   "outputs": [],
   "source": [
    "class child_class(parent_class):\n",
    "    pass"
   ]
  },
  {
   "cell_type": "code",
   "execution_count": 15,
   "id": "c30ff69d",
   "metadata": {},
   "outputs": [],
   "source": [
    "child_cls_obj = child_class()"
   ]
  },
  {
   "cell_type": "code",
   "execution_count": 16,
   "id": "031788d0",
   "metadata": {},
   "outputs": [
    {
     "name": "stdout",
     "output_type": "stream",
     "text": [
      "Hello!!!!\n"
     ]
    }
   ],
   "source": [
    "child_cls_obj.hello()"
   ]
  },
  {
   "cell_type": "markdown",
   "id": "43050720",
   "metadata": {},
   "source": [
    "##### MULTIPLE"
   ]
  },
  {
   "cell_type": "code",
   "execution_count": 37,
   "id": "8db70d4c",
   "metadata": {},
   "outputs": [],
   "source": [
    "class class1:\n",
    "    \n",
    "    def test_class1(self):\n",
    "        print(\"Hello this is from class 1\")\n",
    "        \n",
    "        def classy(self):\n",
    "            print(\"Hello class 1\")"
   ]
  },
  {
   "cell_type": "code",
   "execution_count": 38,
   "id": "db22be6c",
   "metadata": {},
   "outputs": [],
   "source": [
    "class class2:\n",
    "    \n",
    "    def test_class2(self):\n",
    "        print(\"Hello this is from class 2\")\n",
    "        \n",
    "    def classy(self):\n",
    "        print(\"Hello class 2\")"
   ]
  },
  {
   "cell_type": "code",
   "execution_count": 39,
   "id": "cf1ca7e2",
   "metadata": {},
   "outputs": [],
   "source": [
    "class class3(class1,class2):\n",
    "    pass"
   ]
  },
  {
   "cell_type": "code",
   "execution_count": 40,
   "id": "82dccb6b",
   "metadata": {},
   "outputs": [],
   "source": [
    "class3_obj = class3()"
   ]
  },
  {
   "cell_type": "code",
   "execution_count": 41,
   "id": "660ef2fa",
   "metadata": {},
   "outputs": [
    {
     "name": "stdout",
     "output_type": "stream",
     "text": [
      "Hello this is from class 1\n"
     ]
    }
   ],
   "source": [
    "class3_obj.test_class1()"
   ]
  },
  {
   "cell_type": "code",
   "execution_count": 42,
   "id": "fedf6df8",
   "metadata": {},
   "outputs": [
    {
     "name": "stdout",
     "output_type": "stream",
     "text": [
      "Hello this is from class 2\n"
     ]
    }
   ],
   "source": [
    "class3_obj.test_class2()"
   ]
  },
  {
   "cell_type": "code",
   "execution_count": 44,
   "id": "35fe434d",
   "metadata": {},
   "outputs": [
    {
     "name": "stdout",
     "output_type": "stream",
     "text": [
      "Hello class 2\n"
     ]
    }
   ],
   "source": [
    "class3_obj.classy()"
   ]
  },
  {
   "cell_type": "code",
   "execution_count": 45,
   "id": "9f651cc8",
   "metadata": {},
   "outputs": [
    {
     "name": "stdout",
     "output_type": "stream",
     "text": [
      "Hello class 2\n"
     ]
    }
   ],
   "source": [
    "class3_obj.classy()"
   ]
  },
  {
   "cell_type": "markdown",
   "id": "6f25452d",
   "metadata": {},
   "source": [
    "##### MULTILEVEL"
   ]
  },
  {
   "cell_type": "code",
   "execution_count": 54,
   "id": "5ef20f10",
   "metadata": {},
   "outputs": [],
   "source": [
    "class class1:\n",
    "    \n",
    "    def test_class1(self):\n",
    "        print(\"hello from class 1\")"
   ]
  },
  {
   "cell_type": "code",
   "execution_count": 55,
   "id": "ffeec285",
   "metadata": {},
   "outputs": [],
   "source": [
    "class class2(class1):\n",
    "    \n",
    "    def test_class2(self):\n",
    "        print(\"hello from class 2\")"
   ]
  },
  {
   "cell_type": "code",
   "execution_count": 56,
   "id": "9479e1c1",
   "metadata": {},
   "outputs": [],
   "source": [
    "class class3(class2):\n",
    "    pass"
   ]
  },
  {
   "cell_type": "code",
   "execution_count": 57,
   "id": "c2e43c8f",
   "metadata": {},
   "outputs": [],
   "source": [
    "childest_class3_obj = class3()"
   ]
  },
  {
   "cell_type": "code",
   "execution_count": 58,
   "id": "973f24ef",
   "metadata": {},
   "outputs": [
    {
     "name": "stdout",
     "output_type": "stream",
     "text": [
      "hello from class 2\n"
     ]
    }
   ],
   "source": [
    "childest_class3_obj.test_class2()"
   ]
  },
  {
   "cell_type": "code",
   "execution_count": 61,
   "id": "5b32e00a",
   "metadata": {},
   "outputs": [
    {
     "name": "stdout",
     "output_type": "stream",
     "text": [
      "hello from class 1\n"
     ]
    }
   ],
   "source": [
    "childest_class3_obj.test_class1()"
   ]
  },
  {
   "cell_type": "markdown",
   "id": "c13ed9b9",
   "metadata": {},
   "source": [
    "# ABSTRACTION"
   ]
  },
  {
   "cell_type": "code",
   "execution_count": 62,
   "id": "ba8d4804",
   "metadata": {},
   "outputs": [],
   "source": [
    "import abc"
   ]
  },
  {
   "cell_type": "code",
   "execution_count": 63,
   "id": "d068ff18",
   "metadata": {},
   "outputs": [],
   "source": [
    "class college:\n",
    "    \n",
    "    @abc.abstractmethod\n",
    "    def student_detail(self):\n",
    "        pass\n",
    "    \n",
    "    @abc.abstractmethod\n",
    "    def student_assignments(self):\n",
    "        pass"
   ]
  },
  {
   "cell_type": "code",
   "execution_count": 64,
   "id": "df08b2d7",
   "metadata": {},
   "outputs": [],
   "source": [
    "class students(college):\n",
    "    \n",
    "    def student_detail(self):\n",
    "        return \"this is the method for student details\"\n",
    "    \n",
    "    def student_assignments(self):\n",
    "        return \"this is the method for student assignments\""
   ]
  },
  {
   "cell_type": "code",
   "execution_count": 65,
   "id": "e2762b27",
   "metadata": {},
   "outputs": [],
   "source": [
    "sd = students()"
   ]
  },
  {
   "cell_type": "code",
   "execution_count": 66,
   "id": "f3835505",
   "metadata": {},
   "outputs": [
    {
     "data": {
      "text/plain": [
       "'this is the method for student assignments'"
      ]
     },
     "execution_count": 66,
     "metadata": {},
     "output_type": "execute_result"
    }
   ],
   "source": [
    "sd.student_assignments()"
   ]
  },
  {
   "cell_type": "code",
   "execution_count": 67,
   "id": "ec9c2776",
   "metadata": {},
   "outputs": [
    {
     "data": {
      "text/plain": [
       "'this is the method for student details'"
      ]
     },
     "execution_count": 67,
     "metadata": {},
     "output_type": "execute_result"
    }
   ],
   "source": [
    "sd.student_detail()"
   ]
  },
  {
   "cell_type": "code",
   "execution_count": null,
   "id": "0fe10f2f",
   "metadata": {},
   "outputs": [],
   "source": []
  }
 ],
 "metadata": {
  "kernelspec": {
   "display_name": "Python 3 (ipykernel)",
   "language": "python",
   "name": "python3"
  },
  "language_info": {
   "codemirror_mode": {
    "name": "ipython",
    "version": 3
   },
   "file_extension": ".py",
   "mimetype": "text/x-python",
   "name": "python",
   "nbconvert_exporter": "python",
   "pygments_lexer": "ipython3",
   "version": "3.9.13"
  }
 },
 "nbformat": 4,
 "nbformat_minor": 5
}
