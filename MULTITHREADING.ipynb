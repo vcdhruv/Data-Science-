{
 "cells": [
  {
   "cell_type": "code",
   "execution_count": 16,
   "id": "50fe2508",
   "metadata": {},
   "outputs": [],
   "source": [
    "import threading"
   ]
  },
  {
   "cell_type": "code",
   "execution_count": 2,
   "id": "dd663588",
   "metadata": {},
   "outputs": [],
   "source": [
    "def test(id):\n",
    "    print(\"program starts %d\"% id)"
   ]
  },
  {
   "cell_type": "code",
   "execution_count": 3,
   "id": "b32ce614",
   "metadata": {},
   "outputs": [
    {
     "name": "stdout",
     "output_type": "stream",
     "text": [
      "program starts 1\n"
     ]
    }
   ],
   "source": [
    "test(1)"
   ]
  },
  {
   "cell_type": "code",
   "execution_count": 5,
   "id": "27300154",
   "metadata": {},
   "outputs": [],
   "source": [
    "thread = [threading.Thread(target=test , args=(i,)) for i in range(10)]"
   ]
  },
  {
   "cell_type": "code",
   "execution_count": 6,
   "id": "97f05535",
   "metadata": {},
   "outputs": [
    {
     "name": "stdout",
     "output_type": "stream",
     "text": [
      "program starts 0\n",
      "program starts 1\n",
      "program starts 2\n",
      "program starts 3\n",
      "program starts 4\n",
      "program starts 5\n",
      "program starts 6\n",
      "program starts 7\n",
      "program starts 8\n",
      "program starts 9\n"
     ]
    }
   ],
   "source": [
    "for i in thread:\n",
    "    i.start()"
   ]
  },
  {
   "cell_type": "code",
   "execution_count": 8,
   "id": "2ac20171",
   "metadata": {},
   "outputs": [
    {
     "data": {
      "text/plain": [
       "[<Thread(Thread-5, stopped 23188)>,\n",
       " <Thread(Thread-6, stopped 16916)>,\n",
       " <Thread(Thread-7, stopped 19420)>,\n",
       " <Thread(Thread-8, stopped 19380)>,\n",
       " <Thread(Thread-9, stopped 2092)>,\n",
       " <Thread(Thread-10, stopped 22280)>,\n",
       " <Thread(Thread-11, stopped 17120)>,\n",
       " <Thread(Thread-12, stopped 18576)>,\n",
       " <Thread(Thread-13, stopped 21088)>,\n",
       " <Thread(Thread-14, stopped 18320)>]"
      ]
     },
     "execution_count": 8,
     "metadata": {},
     "output_type": "execute_result"
    }
   ],
   "source": [
    "thread"
   ]
  },
  {
   "cell_type": "code",
   "execution_count": 9,
   "id": "bdff7029",
   "metadata": {},
   "outputs": [
    {
     "data": {
      "text/plain": [
       "2324917827776"
      ]
     },
     "execution_count": 9,
     "metadata": {},
     "output_type": "execute_result"
    }
   ],
   "source": [
    "id(thread)"
   ]
  },
  {
   "cell_type": "code",
   "execution_count": 10,
   "id": "a79187dc",
   "metadata": {},
   "outputs": [],
   "source": [
    "import urllib.request"
   ]
  },
  {
   "cell_type": "code",
   "execution_count": 11,
   "id": "1da18be9",
   "metadata": {},
   "outputs": [],
   "source": [
    "def file_download(url,file_name):\n",
    "    urllib.request.urlretrieve(url,file_name)"
   ]
  },
  {
   "cell_type": "code",
   "execution_count": 12,
   "id": "474f0590",
   "metadata": {},
   "outputs": [],
   "source": [
    "url_list = ['https://raw.githubusercontent.com/itsfoss/text-files/master/agatha.txt',\n",
    " 'https://raw.githubusercontent.com/itsfoss/text-files/master/sherlock.txt',\n",
    " 'https://raw.githubusercontent.com/itsfoss/text-files/master/sample_log_file.txt']"
   ]
  },
  {
   "cell_type": "code",
   "execution_count": 13,
   "id": "a03e6a64",
   "metadata": {},
   "outputs": [
    {
     "data": {
      "text/plain": [
       "['https://raw.githubusercontent.com/itsfoss/text-files/master/agatha.txt',\n",
       " 'https://raw.githubusercontent.com/itsfoss/text-files/master/sherlock.txt',\n",
       " 'https://raw.githubusercontent.com/itsfoss/text-files/master/sample_log_file.txt']"
      ]
     },
     "execution_count": 13,
     "metadata": {},
     "output_type": "execute_result"
    }
   ],
   "source": [
    "url_list"
   ]
  },
  {
   "cell_type": "code",
   "execution_count": 14,
   "id": "636226b3",
   "metadata": {},
   "outputs": [],
   "source": [
    "file_name_list = [\"data1.txt\",\"data2.txt\",\"data3.txt\"]"
   ]
  },
  {
   "cell_type": "code",
   "execution_count": 15,
   "id": "ec73bce9",
   "metadata": {},
   "outputs": [
    {
     "data": {
      "text/plain": [
       "['data1.txt', 'data2.txt', 'data3.txt']"
      ]
     },
     "execution_count": 15,
     "metadata": {},
     "output_type": "execute_result"
    }
   ],
   "source": [
    "file_name_list"
   ]
  },
  {
   "cell_type": "code",
   "execution_count": 17,
   "id": "791eda2d",
   "metadata": {},
   "outputs": [],
   "source": [
    "file_thread = [threading.Thread(target=file_download,args=(url_list[i],file_name_list[i])) for i in range(len(url_list))]"
   ]
  },
  {
   "cell_type": "code",
   "execution_count": 18,
   "id": "16c154c7",
   "metadata": {},
   "outputs": [
    {
     "data": {
      "text/plain": [
       "[<Thread(Thread-15, initial)>,\n",
       " <Thread(Thread-16, initial)>,\n",
       " <Thread(Thread-17, initial)>]"
      ]
     },
     "execution_count": 18,
     "metadata": {},
     "output_type": "execute_result"
    }
   ],
   "source": [
    "file_thread"
   ]
  },
  {
   "cell_type": "code",
   "execution_count": 19,
   "id": "944f3b4f",
   "metadata": {},
   "outputs": [],
   "source": [
    "for i in file_thread:\n",
    "    i.start()"
   ]
  },
  {
   "cell_type": "code",
   "execution_count": 20,
   "id": "a23b58a0",
   "metadata": {},
   "outputs": [],
   "source": [
    "import time"
   ]
  },
  {
   "cell_type": "code",
   "execution_count": 31,
   "id": "1733847b",
   "metadata": {},
   "outputs": [],
   "source": [
    "def test2(id):\n",
    "    for i in range(10):\n",
    "        print(\"test %d printing %d %s\" %(id,i,time.ctime()))"
   ]
  },
  {
   "cell_type": "code",
   "execution_count": 32,
   "id": "a6d468ca",
   "metadata": {},
   "outputs": [
    {
     "name": "stdout",
     "output_type": "stream",
     "text": [
      "test 0 printing 0 Sun Jun 11 19:57:31 2023\n",
      "test 0 printing 1 Sun Jun 11 19:57:31 2023\n",
      "test 0 printing 2 Sun Jun 11 19:57:31 2023\n",
      "test 0 printing 3 Sun Jun 11 19:57:31 2023\n",
      "test 0 printing 4 Sun Jun 11 19:57:31 2023\n",
      "test 0 printing 5 Sun Jun 11 19:57:31 2023\n",
      "test 0 printing 6 Sun Jun 11 19:57:31 2023\n",
      "test 0 printing 7 Sun Jun 11 19:57:31 2023\n",
      "test 0 printing 8 Sun Jun 11 19:57:31 2023\n",
      "test 0 printing 9 Sun Jun 11 19:57:31 2023\n"
     ]
    }
   ],
   "source": [
    "test2(0)"
   ]
  },
  {
   "cell_type": "code",
   "execution_count": 33,
   "id": "2a82d233",
   "metadata": {},
   "outputs": [],
   "source": [
    "thread2 = [threading.Thread(target=test2 , args=(i,)) for i in range(3)]"
   ]
  },
  {
   "cell_type": "code",
   "execution_count": 34,
   "id": "78c3cbf4",
   "metadata": {},
   "outputs": [
    {
     "data": {
      "text/plain": [
       "[<Thread(Thread-24, initial)>,\n",
       " <Thread(Thread-25, initial)>,\n",
       " <Thread(Thread-26, initial)>]"
      ]
     },
     "execution_count": 34,
     "metadata": {},
     "output_type": "execute_result"
    }
   ],
   "source": [
    "thread2"
   ]
  },
  {
   "cell_type": "code",
   "execution_count": 35,
   "id": "34ae361b",
   "metadata": {},
   "outputs": [
    {
     "name": "stdout",
     "output_type": "stream",
     "text": [
      "test 0 printing 0 Sun Jun 11 19:57:35 2023\n",
      "test 0 printing 1 Sun Jun 11 19:57:35 2023\n",
      "test 0 printing 2 Sun Jun 11 19:57:35 2023\n",
      "test 0 printing 3 Sun Jun 11 19:57:35 2023\n",
      "test 0 printing 4 Sun Jun 11 19:57:35 2023\n",
      "test 0 printing 5 Sun Jun 11 19:57:35 2023\n",
      "test 0 printing 6 Sun Jun 11 19:57:35 2023\n",
      "test 0 printing 7 Sun Jun 11 19:57:35 2023\n",
      "test 0 printing 8 Sun Jun 11 19:57:35 2023\n",
      "test 0 printing 9 Sun Jun 11 19:57:35 2023\n",
      "test 1 printing 0 Sun Jun 11 19:57:35 2023\n",
      "test 1 printing 1 Sun Jun 11 19:57:35 2023\n",
      "test 1 printing 2 Sun Jun 11 19:57:35 2023\n",
      "test 1 printing 3 Sun Jun 11 19:57:35 2023\n",
      "test 1 printing 4 Sun Jun 11 19:57:35 2023\n",
      "test 1 printing 5 Sun Jun 11 19:57:35 2023\n",
      "test 1 printing 6 Sun Jun 11 19:57:35 2023\n",
      "test 1 printing 7 Sun Jun 11 19:57:35 2023\n",
      "test 1 printing 8 Sun Jun 11 19:57:35 2023\n",
      "test 1 printing 9 Sun Jun 11 19:57:35 2023\n",
      "test 2 printing 0 Sun Jun 11 19:57:35 2023\n",
      "test 2 printing 1 Sun Jun 11 19:57:35 2023\n",
      "test 2 printing 2 Sun Jun 11 19:57:35 2023\n",
      "test 2 printing 3 Sun Jun 11 19:57:35 2023\n",
      "test 2 printing 4 Sun Jun 11 19:57:35 2023\n",
      "test 2 printing 5 Sun Jun 11 19:57:35 2023\n",
      "test 2 printing 6 Sun Jun 11 19:57:35 2023\n",
      "test 2 printing 7 Sun Jun 11 19:57:35 2023\n",
      "test 2 printing 8 Sun Jun 11 19:57:35 2023\n",
      "test 2 printing 9 Sun Jun 11 19:57:35 2023\n"
     ]
    }
   ],
   "source": [
    "for i in thread2:\n",
    "    i.start()"
   ]
  },
  {
   "cell_type": "code",
   "execution_count": 40,
   "id": "ff212450",
   "metadata": {},
   "outputs": [],
   "source": [
    "def test3(id):\n",
    "    for i in range(10):\n",
    "        print(\"test %d printing %d %s\" %(id,i,time.ctime()))\n",
    "        time.sleep(1)"
   ]
  },
  {
   "cell_type": "code",
   "execution_count": 41,
   "id": "88f4a26a",
   "metadata": {},
   "outputs": [
    {
     "name": "stdout",
     "output_type": "stream",
     "text": [
      "test 0 printing 0 Sun Jun 11 19:58:21 2023\n",
      "test 0 printing 1 Sun Jun 11 19:58:22 2023\n",
      "test 0 printing 2 Sun Jun 11 19:58:23 2023\n",
      "test 0 printing 3 Sun Jun 11 19:58:24 2023\n",
      "test 0 printing 4 Sun Jun 11 19:58:25 2023\n",
      "test 0 printing 5 Sun Jun 11 19:58:26 2023\n",
      "test 0 printing 6 Sun Jun 11 19:58:27 2023\n",
      "test 0 printing 7 Sun Jun 11 19:58:28 2023\n",
      "test 0 printing 8 Sun Jun 11 19:58:29 2023\n",
      "test 0 printing 9 Sun Jun 11 19:58:30 2023\n"
     ]
    }
   ],
   "source": [
    "test3(0)"
   ]
  },
  {
   "cell_type": "code",
   "execution_count": 42,
   "id": "19d0afdb",
   "metadata": {},
   "outputs": [],
   "source": [
    "thread3 = [threading.Thread(target=test3 , args=(i,)) for i in range(3)]"
   ]
  },
  {
   "cell_type": "code",
   "execution_count": 43,
   "id": "8f70f6bb",
   "metadata": {},
   "outputs": [
    {
     "data": {
      "text/plain": [
       "[<Thread(Thread-30, initial)>,\n",
       " <Thread(Thread-31, initial)>,\n",
       " <Thread(Thread-32, initial)>]"
      ]
     },
     "execution_count": 43,
     "metadata": {},
     "output_type": "execute_result"
    }
   ],
   "source": [
    "thread3"
   ]
  },
  {
   "cell_type": "code",
   "execution_count": 44,
   "id": "a8468e6c",
   "metadata": {},
   "outputs": [
    {
     "name": "stdout",
     "output_type": "stream",
     "text": [
      "test 0 printing 0 Sun Jun 11 19:58:36 2023\n",
      "test 1 printing 0 Sun Jun 11 19:58:36 2023\n",
      "test 2 printing 0 Sun Jun 11 19:58:36 2023\n",
      "test 1 printing 1 Sun Jun 11 19:58:37 2023\n",
      "test 0 printing 1 Sun Jun 11 19:58:37 2023\n",
      "test 2 printing 1 Sun Jun 11 19:58:37 2023\n",
      "test 2 printing 2 Sun Jun 11 19:58:38 2023\n",
      "test 1 printing 2 Sun Jun 11 19:58:38 2023\n",
      "test 0 printing 2 Sun Jun 11 19:58:38 2023\n",
      "test 2 printing 3 Sun Jun 11 19:58:39 2023test 0 printing 3 Sun Jun 11 19:58:39 2023\n",
      "test 1 printing 3 Sun Jun 11 19:58:39 2023\n",
      "\n",
      "test 0 printing 4 Sun Jun 11 19:58:40 2023\n",
      "test 2 printing 4 Sun Jun 11 19:58:40 2023\n",
      "test 1 printing 4 Sun Jun 11 19:58:40 2023\n",
      "test 2 printing 5 Sun Jun 11 19:58:41 2023test 1 printing 5 Sun Jun 11 19:58:41 2023\n",
      "test 0 printing 5 Sun Jun 11 19:58:41 2023\n",
      "\n",
      "test 2 printing 6 Sun Jun 11 19:58:42 2023test 0 printing 6 Sun Jun 11 19:58:42 2023\n",
      "test 1 printing 6 Sun Jun 11 19:58:42 2023\n",
      "\n",
      "test 2 printing 7 Sun Jun 11 19:58:43 2023test 1 printing 7 Sun Jun 11 19:58:43 2023\n",
      "test 0 printing 7 Sun Jun 11 19:58:43 2023\n",
      "\n",
      "test 2 printing 8 Sun Jun 11 19:58:44 2023test 0 printing 8 Sun Jun 11 19:58:44 2023\n",
      "test 1 printing 8 Sun Jun 11 19:58:44 2023\n",
      "\n",
      "test 1 printing 9 Sun Jun 11 19:58:45 2023test 2 printing 9 Sun Jun 11 19:58:45 2023\n",
      "test 0 printing 9 Sun Jun 11 19:58:45 2023\n",
      "\n"
     ]
    }
   ],
   "source": [
    "for i in thread3:\n",
    "    i.start()"
   ]
  },
  {
   "cell_type": "code",
   "execution_count": 47,
   "id": "1d402779",
   "metadata": {},
   "outputs": [
    {
     "name": "stdout",
     "output_type": "stream",
     "text": [
      "test4 is 0 has increased the shared variable by 1 \n",
      "test4 is 1 has increased the shared variable by 2 \n",
      "test4 is 2 has increased the shared variable by 3 \n"
     ]
    }
   ],
   "source": [
    "shared_var = 0\n",
    "lock_var = threading.Lock()\n",
    "def test4(id) : \n",
    "    global shared_var\n",
    "    with lock_var:\n",
    "        shared_var = shared_var+1\n",
    "        print(\"test4 is %d has increased the shared variable by %d \" % (id ,shared_var) )\n",
    "        time.sleep(1)\n",
    "ther3 = [threading.Thread(target=test4 , args = (i,) ) for i in range(3)]    \n",
    "for t in ther3:\n",
    "    t.start()"
   ]
  },
  {
   "cell_type": "code",
   "execution_count": null,
   "id": "d394e990",
   "metadata": {},
   "outputs": [],
   "source": []
  }
 ],
 "metadata": {
  "kernelspec": {
   "display_name": "Python 3 (ipykernel)",
   "language": "python",
   "name": "python3"
  },
  "language_info": {
   "codemirror_mode": {
    "name": "ipython",
    "version": 3
   },
   "file_extension": ".py",
   "mimetype": "text/x-python",
   "name": "python",
   "nbconvert_exporter": "python",
   "pygments_lexer": "ipython3",
   "version": "3.9.13"
  }
 },
 "nbformat": 4,
 "nbformat_minor": 5
}
