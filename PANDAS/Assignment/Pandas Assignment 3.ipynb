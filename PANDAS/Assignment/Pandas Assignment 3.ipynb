{
 "cells": [
  {
   "cell_type": "code",
   "execution_count": 1,
   "id": "5bae234c",
   "metadata": {},
   "outputs": [],
   "source": [
    "import pandas as pd"
   ]
  },
  {
   "cell_type": "code",
   "execution_count": 2,
   "id": "d65715b5",
   "metadata": {},
   "outputs": [],
   "source": [
    "course_name = ['Data Science', 'Machine Learning', 'Big Data', 'DAta Engineer']\n",
    "duration = [2,3,6,4]\n",
    "df = pd.DataFrame({'course_name':course_name,'duration':duration})"
   ]
  },
  {
   "cell_type": "code",
   "execution_count": 3,
   "id": "9c2844f1",
   "metadata": {},
   "outputs": [
    {
     "data": {
      "text/html": [
       "<div>\n",
       "<style scoped>\n",
       "    .dataframe tbody tr th:only-of-type {\n",
       "        vertical-align: middle;\n",
       "    }\n",
       "\n",
       "    .dataframe tbody tr th {\n",
       "        vertical-align: top;\n",
       "    }\n",
       "\n",
       "    .dataframe thead th {\n",
       "        text-align: right;\n",
       "    }\n",
       "</style>\n",
       "<table border=\"1\" class=\"dataframe\">\n",
       "  <thead>\n",
       "    <tr style=\"text-align: right;\">\n",
       "      <th></th>\n",
       "      <th>course_name</th>\n",
       "      <th>duration</th>\n",
       "    </tr>\n",
       "  </thead>\n",
       "  <tbody>\n",
       "    <tr>\n",
       "      <th>0</th>\n",
       "      <td>Data Science</td>\n",
       "      <td>2</td>\n",
       "    </tr>\n",
       "    <tr>\n",
       "      <th>1</th>\n",
       "      <td>Machine Learning</td>\n",
       "      <td>3</td>\n",
       "    </tr>\n",
       "    <tr>\n",
       "      <th>2</th>\n",
       "      <td>Big Data</td>\n",
       "      <td>6</td>\n",
       "    </tr>\n",
       "    <tr>\n",
       "      <th>3</th>\n",
       "      <td>DAta Engineer</td>\n",
       "      <td>4</td>\n",
       "    </tr>\n",
       "  </tbody>\n",
       "</table>\n",
       "</div>"
      ],
      "text/plain": [
       "        course_name  duration\n",
       "0      Data Science         2\n",
       "1  Machine Learning         3\n",
       "2          Big Data         6\n",
       "3     DAta Engineer         4"
      ]
     },
     "execution_count": 3,
     "metadata": {},
     "output_type": "execute_result"
    }
   ],
   "source": [
    "df"
   ]
  },
  {
   "cell_type": "code",
   "execution_count": 4,
   "id": "60a07db3",
   "metadata": {},
   "outputs": [],
   "source": [
    "# Q1. Write a code to print the data present in the second row of the dataframe, df."
   ]
  },
  {
   "cell_type": "code",
   "execution_count": 5,
   "id": "e4335e14",
   "metadata": {},
   "outputs": [],
   "source": [
    "data = df.iloc[1]"
   ]
  },
  {
   "cell_type": "code",
   "execution_count": 6,
   "id": "df76aca2",
   "metadata": {},
   "outputs": [
    {
     "data": {
      "text/plain": [
       "course_name    Machine Learning\n",
       "duration                      3\n",
       "Name: 1, dtype: object"
      ]
     },
     "execution_count": 6,
     "metadata": {},
     "output_type": "execute_result"
    }
   ],
   "source": [
    "data"
   ]
  },
  {
   "cell_type": "code",
   "execution_count": 7,
   "id": "7c0fab81",
   "metadata": {},
   "outputs": [],
   "source": [
    "# Q2. What is the difference between the functions loc and iloc in pandas.DataFrame?"
   ]
  },
  {
   "cell_type": "code",
   "execution_count": 8,
   "id": "d663aeb1",
   "metadata": {},
   "outputs": [
    {
     "name": "stdout",
     "output_type": "stream",
     "text": [
      "The loc function is primarily label-based and is used for indexing and selecting data based on the labels of rows and columns. It takes the row and column labels as arguments and returns a subset of the DataFrame based on those labels.\n"
     ]
    }
   ],
   "source": [
    "print(\"The loc function is primarily label-based and is used for indexing and selecting data based on the labels of rows and columns. It takes the row and column labels as arguments and returns a subset of the DataFrame based on those labels.\")"
   ]
  },
  {
   "cell_type": "code",
   "execution_count": 9,
   "id": "e52999aa",
   "metadata": {},
   "outputs": [
    {
     "data": {
      "text/html": [
       "<div>\n",
       "<style scoped>\n",
       "    .dataframe tbody tr th:only-of-type {\n",
       "        vertical-align: middle;\n",
       "    }\n",
       "\n",
       "    .dataframe tbody tr th {\n",
       "        vertical-align: top;\n",
       "    }\n",
       "\n",
       "    .dataframe thead th {\n",
       "        text-align: right;\n",
       "    }\n",
       "</style>\n",
       "<table border=\"1\" class=\"dataframe\">\n",
       "  <thead>\n",
       "    <tr style=\"text-align: right;\">\n",
       "      <th></th>\n",
       "      <th>course_name</th>\n",
       "      <th>duration</th>\n",
       "    </tr>\n",
       "  </thead>\n",
       "  <tbody>\n",
       "    <tr>\n",
       "      <th>1</th>\n",
       "      <td>Machine Learning</td>\n",
       "      <td>3</td>\n",
       "    </tr>\n",
       "    <tr>\n",
       "      <th>2</th>\n",
       "      <td>Big Data</td>\n",
       "      <td>6</td>\n",
       "    </tr>\n",
       "  </tbody>\n",
       "</table>\n",
       "</div>"
      ],
      "text/plain": [
       "        course_name  duration\n",
       "1  Machine Learning         3\n",
       "2          Big Data         6"
      ]
     },
     "execution_count": 9,
     "metadata": {},
     "output_type": "execute_result"
    }
   ],
   "source": [
    "df.loc[1:2,'course_name':'duration']"
   ]
  },
  {
   "cell_type": "code",
   "execution_count": 10,
   "id": "4776a400",
   "metadata": {},
   "outputs": [
    {
     "name": "stdout",
     "output_type": "stream",
     "text": [
      "the iloc function is primarily integer-based and is used for indexing and selecting data based on the integer positions of rows and columns. It takes integer values as arguments and returns a subset of the DataFrame based on those positions.\n"
     ]
    }
   ],
   "source": [
    "print(\"the iloc function is primarily integer-based and is used for indexing and selecting data based on the integer positions of rows and columns. It takes integer values as arguments and returns a subset of the DataFrame based on those positions.\")"
   ]
  },
  {
   "cell_type": "code",
   "execution_count": 11,
   "id": "90006ccc",
   "metadata": {},
   "outputs": [
    {
     "data": {
      "text/html": [
       "<div>\n",
       "<style scoped>\n",
       "    .dataframe tbody tr th:only-of-type {\n",
       "        vertical-align: middle;\n",
       "    }\n",
       "\n",
       "    .dataframe tbody tr th {\n",
       "        vertical-align: top;\n",
       "    }\n",
       "\n",
       "    .dataframe thead th {\n",
       "        text-align: right;\n",
       "    }\n",
       "</style>\n",
       "<table border=\"1\" class=\"dataframe\">\n",
       "  <thead>\n",
       "    <tr style=\"text-align: right;\">\n",
       "      <th></th>\n",
       "      <th>course_name</th>\n",
       "      <th>duration</th>\n",
       "    </tr>\n",
       "  </thead>\n",
       "  <tbody>\n",
       "    <tr>\n",
       "      <th>1</th>\n",
       "      <td>Machine Learning</td>\n",
       "      <td>3</td>\n",
       "    </tr>\n",
       "    <tr>\n",
       "      <th>2</th>\n",
       "      <td>Big Data</td>\n",
       "      <td>6</td>\n",
       "    </tr>\n",
       "  </tbody>\n",
       "</table>\n",
       "</div>"
      ],
      "text/plain": [
       "        course_name  duration\n",
       "1  Machine Learning         3\n",
       "2          Big Data         6"
      ]
     },
     "execution_count": 11,
     "metadata": {},
     "output_type": "execute_result"
    }
   ],
   "source": [
    "df.iloc[1:3,0:2]"
   ]
  },
  {
   "cell_type": "code",
   "execution_count": 12,
   "id": "91fc97c9",
   "metadata": {},
   "outputs": [],
   "source": [
    "# Q3. Reindex the given dataframe using a variable, reindex = [3,0,1,2] and store it in the variable, new_df\n",
    "# then find the output for both new_df.loc[2] and new_df.iloc[2]."
   ]
  },
  {
   "cell_type": "code",
   "execution_count": 13,
   "id": "24ddadf7",
   "metadata": {},
   "outputs": [],
   "source": [
    "reindex = [3,0,1,2]"
   ]
  },
  {
   "cell_type": "code",
   "execution_count": 14,
   "id": "b9526855",
   "metadata": {},
   "outputs": [],
   "source": [
    "new_df = df.reindex(reindex)"
   ]
  },
  {
   "cell_type": "code",
   "execution_count": 15,
   "id": "04cad67f",
   "metadata": {},
   "outputs": [
    {
     "data": {
      "text/html": [
       "<div>\n",
       "<style scoped>\n",
       "    .dataframe tbody tr th:only-of-type {\n",
       "        vertical-align: middle;\n",
       "    }\n",
       "\n",
       "    .dataframe tbody tr th {\n",
       "        vertical-align: top;\n",
       "    }\n",
       "\n",
       "    .dataframe thead th {\n",
       "        text-align: right;\n",
       "    }\n",
       "</style>\n",
       "<table border=\"1\" class=\"dataframe\">\n",
       "  <thead>\n",
       "    <tr style=\"text-align: right;\">\n",
       "      <th></th>\n",
       "      <th>course_name</th>\n",
       "      <th>duration</th>\n",
       "    </tr>\n",
       "  </thead>\n",
       "  <tbody>\n",
       "    <tr>\n",
       "      <th>3</th>\n",
       "      <td>DAta Engineer</td>\n",
       "      <td>4</td>\n",
       "    </tr>\n",
       "    <tr>\n",
       "      <th>0</th>\n",
       "      <td>Data Science</td>\n",
       "      <td>2</td>\n",
       "    </tr>\n",
       "    <tr>\n",
       "      <th>1</th>\n",
       "      <td>Machine Learning</td>\n",
       "      <td>3</td>\n",
       "    </tr>\n",
       "    <tr>\n",
       "      <th>2</th>\n",
       "      <td>Big Data</td>\n",
       "      <td>6</td>\n",
       "    </tr>\n",
       "  </tbody>\n",
       "</table>\n",
       "</div>"
      ],
      "text/plain": [
       "        course_name  duration\n",
       "3     DAta Engineer         4\n",
       "0      Data Science         2\n",
       "1  Machine Learning         3\n",
       "2          Big Data         6"
      ]
     },
     "execution_count": 15,
     "metadata": {},
     "output_type": "execute_result"
    }
   ],
   "source": [
    "new_df"
   ]
  },
  {
   "cell_type": "code",
   "execution_count": 16,
   "id": "06c8b0a9",
   "metadata": {},
   "outputs": [
    {
     "data": {
      "text/plain": [
       "course_name    Machine Learning\n",
       "duration                      3\n",
       "Name: 1, dtype: object"
      ]
     },
     "execution_count": 16,
     "metadata": {},
     "output_type": "execute_result"
    }
   ],
   "source": [
    "new_df.iloc[2]"
   ]
  },
  {
   "cell_type": "code",
   "execution_count": 17,
   "id": "0ca1077d",
   "metadata": {},
   "outputs": [
    {
     "data": {
      "text/plain": [
       "course_name    Big Data\n",
       "duration              6\n",
       "Name: 2, dtype: object"
      ]
     },
     "execution_count": 17,
     "metadata": {},
     "output_type": "execute_result"
    }
   ],
   "source": [
    "new_df.loc[2]"
   ]
  },
  {
   "cell_type": "code",
   "execution_count": 18,
   "id": "4c7869ff",
   "metadata": {},
   "outputs": [
    {
     "name": "stdout",
     "output_type": "stream",
     "text": [
      "new_df.loc[2] returns the row with the label 2 and new_df.iloc[2] returns the row with the integer position 2\n"
     ]
    }
   ],
   "source": [
    "print(\"new_df.loc[2] returns the row with the label 2 and new_df.iloc[2] returns the row with the integer position 2\")"
   ]
  },
  {
   "cell_type": "code",
   "execution_count": 19,
   "id": "dc5ad6dc",
   "metadata": {},
   "outputs": [],
   "source": [
    "import numpy as np\n",
    "columns = ['column_1', 'column_2', 'column_3', 'column_4', 'column_5', 'column_6']\n",
    "indices = [1,2,3,4,5,6]\n",
    "df1 = pd.DataFrame(np.random.rand(6,6), columns = columns, index = indices)"
   ]
  },
  {
   "cell_type": "code",
   "execution_count": 20,
   "id": "35cc5bd8",
   "metadata": {},
   "outputs": [
    {
     "data": {
      "text/html": [
       "<div>\n",
       "<style scoped>\n",
       "    .dataframe tbody tr th:only-of-type {\n",
       "        vertical-align: middle;\n",
       "    }\n",
       "\n",
       "    .dataframe tbody tr th {\n",
       "        vertical-align: top;\n",
       "    }\n",
       "\n",
       "    .dataframe thead th {\n",
       "        text-align: right;\n",
       "    }\n",
       "</style>\n",
       "<table border=\"1\" class=\"dataframe\">\n",
       "  <thead>\n",
       "    <tr style=\"text-align: right;\">\n",
       "      <th></th>\n",
       "      <th>column_1</th>\n",
       "      <th>column_2</th>\n",
       "      <th>column_3</th>\n",
       "      <th>column_4</th>\n",
       "      <th>column_5</th>\n",
       "      <th>column_6</th>\n",
       "    </tr>\n",
       "  </thead>\n",
       "  <tbody>\n",
       "    <tr>\n",
       "      <th>1</th>\n",
       "      <td>0.255536</td>\n",
       "      <td>0.887243</td>\n",
       "      <td>0.327922</td>\n",
       "      <td>0.221151</td>\n",
       "      <td>0.727195</td>\n",
       "      <td>0.966611</td>\n",
       "    </tr>\n",
       "    <tr>\n",
       "      <th>2</th>\n",
       "      <td>0.899967</td>\n",
       "      <td>0.099279</td>\n",
       "      <td>0.095778</td>\n",
       "      <td>0.882377</td>\n",
       "      <td>0.513207</td>\n",
       "      <td>0.895505</td>\n",
       "    </tr>\n",
       "    <tr>\n",
       "      <th>3</th>\n",
       "      <td>0.010997</td>\n",
       "      <td>0.241590</td>\n",
       "      <td>0.587593</td>\n",
       "      <td>0.232626</td>\n",
       "      <td>0.432127</td>\n",
       "      <td>0.825682</td>\n",
       "    </tr>\n",
       "    <tr>\n",
       "      <th>4</th>\n",
       "      <td>0.771908</td>\n",
       "      <td>0.886822</td>\n",
       "      <td>0.214342</td>\n",
       "      <td>0.979548</td>\n",
       "      <td>0.217858</td>\n",
       "      <td>0.023193</td>\n",
       "    </tr>\n",
       "    <tr>\n",
       "      <th>5</th>\n",
       "      <td>0.428171</td>\n",
       "      <td>0.385427</td>\n",
       "      <td>0.573889</td>\n",
       "      <td>0.414680</td>\n",
       "      <td>0.224560</td>\n",
       "      <td>0.733409</td>\n",
       "    </tr>\n",
       "    <tr>\n",
       "      <th>6</th>\n",
       "      <td>0.282241</td>\n",
       "      <td>0.360089</td>\n",
       "      <td>0.218904</td>\n",
       "      <td>0.563522</td>\n",
       "      <td>0.173544</td>\n",
       "      <td>0.005275</td>\n",
       "    </tr>\n",
       "  </tbody>\n",
       "</table>\n",
       "</div>"
      ],
      "text/plain": [
       "   column_1  column_2  column_3  column_4  column_5  column_6\n",
       "1  0.255536  0.887243  0.327922  0.221151  0.727195  0.966611\n",
       "2  0.899967  0.099279  0.095778  0.882377  0.513207  0.895505\n",
       "3  0.010997  0.241590  0.587593  0.232626  0.432127  0.825682\n",
       "4  0.771908  0.886822  0.214342  0.979548  0.217858  0.023193\n",
       "5  0.428171  0.385427  0.573889  0.414680  0.224560  0.733409\n",
       "6  0.282241  0.360089  0.218904  0.563522  0.173544  0.005275"
      ]
     },
     "execution_count": 20,
     "metadata": {},
     "output_type": "execute_result"
    }
   ],
   "source": [
    "df1"
   ]
  },
  {
   "cell_type": "code",
   "execution_count": 21,
   "id": "7be17441",
   "metadata": {},
   "outputs": [],
   "source": [
    "# Q4. Write a code to find the following statistical measurements for the above dataframe df1:\n",
    "# (i) mean of each and every column present in the dataframe.\n",
    "# (ii) standard deviation of column, ‘column_2’"
   ]
  },
  {
   "cell_type": "code",
   "execution_count": 22,
   "id": "d338d681",
   "metadata": {},
   "outputs": [
    {
     "name": "stdout",
     "output_type": "stream",
     "text": [
      "1.\n",
      "0.4414700207427853\n",
      "0.47674169369552977\n",
      "0.3364047331541867\n",
      "0.5489840957705548\n",
      "0.3814151767861902\n",
      "0.574945554379889\n"
     ]
    }
   ],
   "source": [
    "print('1.')\n",
    "for i in range(1,7):\n",
    "    column_name = 'column_{}'.format(i)\n",
    "    print(df1[column_name].mean())"
   ]
  },
  {
   "cell_type": "code",
   "execution_count": 23,
   "id": "f97b26f3",
   "metadata": {},
   "outputs": [
    {
     "name": "stdout",
     "output_type": "stream",
     "text": [
      "2.\n"
     ]
    },
    {
     "data": {
      "text/plain": [
       "0.33358572190199637"
      ]
     },
     "execution_count": 23,
     "metadata": {},
     "output_type": "execute_result"
    }
   ],
   "source": [
    "print('2.')\n",
    "df1['column_2'].std()"
   ]
  },
  {
   "cell_type": "code",
   "execution_count": 24,
   "id": "d96d265f",
   "metadata": {},
   "outputs": [],
   "source": [
    "df1.loc[2,'column_2'] = 'xyz'"
   ]
  },
  {
   "cell_type": "code",
   "execution_count": 25,
   "id": "4f8079cd",
   "metadata": {},
   "outputs": [
    {
     "data": {
      "text/html": [
       "<div>\n",
       "<style scoped>\n",
       "    .dataframe tbody tr th:only-of-type {\n",
       "        vertical-align: middle;\n",
       "    }\n",
       "\n",
       "    .dataframe tbody tr th {\n",
       "        vertical-align: top;\n",
       "    }\n",
       "\n",
       "    .dataframe thead th {\n",
       "        text-align: right;\n",
       "    }\n",
       "</style>\n",
       "<table border=\"1\" class=\"dataframe\">\n",
       "  <thead>\n",
       "    <tr style=\"text-align: right;\">\n",
       "      <th></th>\n",
       "      <th>column_1</th>\n",
       "      <th>column_2</th>\n",
       "      <th>column_3</th>\n",
       "      <th>column_4</th>\n",
       "      <th>column_5</th>\n",
       "      <th>column_6</th>\n",
       "    </tr>\n",
       "  </thead>\n",
       "  <tbody>\n",
       "    <tr>\n",
       "      <th>1</th>\n",
       "      <td>0.255536</td>\n",
       "      <td>0.887243</td>\n",
       "      <td>0.327922</td>\n",
       "      <td>0.221151</td>\n",
       "      <td>0.727195</td>\n",
       "      <td>0.966611</td>\n",
       "    </tr>\n",
       "    <tr>\n",
       "      <th>2</th>\n",
       "      <td>0.899967</td>\n",
       "      <td>xyz</td>\n",
       "      <td>0.095778</td>\n",
       "      <td>0.882377</td>\n",
       "      <td>0.513207</td>\n",
       "      <td>0.895505</td>\n",
       "    </tr>\n",
       "    <tr>\n",
       "      <th>3</th>\n",
       "      <td>0.010997</td>\n",
       "      <td>0.24159</td>\n",
       "      <td>0.587593</td>\n",
       "      <td>0.232626</td>\n",
       "      <td>0.432127</td>\n",
       "      <td>0.825682</td>\n",
       "    </tr>\n",
       "    <tr>\n",
       "      <th>4</th>\n",
       "      <td>0.771908</td>\n",
       "      <td>0.886822</td>\n",
       "      <td>0.214342</td>\n",
       "      <td>0.979548</td>\n",
       "      <td>0.217858</td>\n",
       "      <td>0.023193</td>\n",
       "    </tr>\n",
       "    <tr>\n",
       "      <th>5</th>\n",
       "      <td>0.428171</td>\n",
       "      <td>0.385427</td>\n",
       "      <td>0.573889</td>\n",
       "      <td>0.414680</td>\n",
       "      <td>0.224560</td>\n",
       "      <td>0.733409</td>\n",
       "    </tr>\n",
       "    <tr>\n",
       "      <th>6</th>\n",
       "      <td>0.282241</td>\n",
       "      <td>0.360089</td>\n",
       "      <td>0.218904</td>\n",
       "      <td>0.563522</td>\n",
       "      <td>0.173544</td>\n",
       "      <td>0.005275</td>\n",
       "    </tr>\n",
       "  </tbody>\n",
       "</table>\n",
       "</div>"
      ],
      "text/plain": [
       "   column_1  column_2  column_3  column_4  column_5  column_6\n",
       "1  0.255536  0.887243  0.327922  0.221151  0.727195  0.966611\n",
       "2  0.899967       xyz  0.095778  0.882377  0.513207  0.895505\n",
       "3  0.010997   0.24159  0.587593  0.232626  0.432127  0.825682\n",
       "4  0.771908  0.886822  0.214342  0.979548  0.217858  0.023193\n",
       "5  0.428171  0.385427  0.573889  0.414680  0.224560  0.733409\n",
       "6  0.282241  0.360089  0.218904  0.563522  0.173544  0.005275"
      ]
     },
     "execution_count": 25,
     "metadata": {},
     "output_type": "execute_result"
    }
   ],
   "source": [
    "df1"
   ]
  },
  {
   "cell_type": "code",
   "execution_count": 26,
   "id": "7caf5fe3",
   "metadata": {},
   "outputs": [
    {
     "name": "stdout",
     "output_type": "stream",
     "text": [
      "After replacing the data in the second row of 'column_2' with the string variable, the DataFrame df1 is updated accordingly. However, when a string variable is assigned to a column that originally contains numerical data, the column's data type is automatically converted to object to accommodate the string value.Since the 'column_2' now contains a string value, the mean calculation results in nan so the mean operation cannot be performed on non-numeric data.\n"
     ]
    }
   ],
   "source": [
    "try:\n",
    "    df1['column_2'].mean()\n",
    "except:\n",
    "    print(\"After replacing the data in the second row of 'column_2' with the string variable, the DataFrame df1 is updated accordingly. However, when a string variable is assigned to a column that originally contains numerical data, the column's data type is automatically converted to object to accommodate the string value.Since the 'column_2' now contains a string value, the mean calculation results in nan so the mean operation cannot be performed on non-numeric data.\")"
   ]
  },
  {
   "cell_type": "code",
   "execution_count": 27,
   "id": "a663c8d7",
   "metadata": {},
   "outputs": [],
   "source": [
    "# Q6. What do you understand about the windows function in pandas and list the types of windows\n",
    "# functions?"
   ]
  },
  {
   "cell_type": "code",
   "execution_count": 28,
   "id": "5dd7ca99",
   "metadata": {},
   "outputs": [
    {
     "name": "stdout",
     "output_type": "stream",
     "text": [
      "window functions refers to a group of functions that operate on a set of data points called a window within a DataFrame. These functions allow us to perform calculations and transformations on subsets of data defined by a specific window size or condition.\n"
     ]
    }
   ],
   "source": [
    "print(\"window functions refers to a group of functions that operate on a set of data points called a window within a DataFrame. These functions allow us to perform calculations and transformations on subsets of data defined by a specific window size or condition.\")"
   ]
  },
  {
   "cell_type": "code",
   "execution_count": 29,
   "id": "9e96c28b",
   "metadata": {
    "scrolled": true
   },
   "outputs": [
    {
     "name": "stdout",
     "output_type": "stream",
     "text": [
      "Aggregation Functions:\n",
      "\n",
      "sum(): Computes the sum of values within the window.\n",
      "mean(): Calculates the mean (average) of values within the window.\n",
      "median(): Computes the median of values within the window.\n",
      "min(): Finds the minimum value within the window.\n",
      "max(): Finds the maximum value within the window.\n",
      "count(): Counts the non-null values within the window.\n",
      "std(): Calculates the standard deviation of values within the window.\n",
      "var(): Computes the variance of values within the window.\n",
      "\n",
      "Transformation Functions:\n",
      "\n",
      "rank(): Computes the rank of values within the window.\n",
      "diff(): Calculates the difference between consecutive values within the window.\n",
      "pct_change(): Computes the percentage change between consecutive values within the window.\n",
      "\n",
      "Rolling Functions:\n",
      "\n",
      "rolling(): Performs rolling window calculations on a DataFrame or Series.\n",
      "rolling.sum(): Computes the rolling sum of values within the window.\n",
      "rolling.mean(): Calculates the rolling mean of values within the window.\n",
      "rolling.min(): Finds the rolling minimum value within the window.\n",
      "rolling.max(): Finds the rolling maximum value within the window.\n",
      "rolling.count(): Counts the non-null values within the rolling window.\n",
      "rolling.std(): Calculates the rolling standard deviation of values within the window.\n",
      "rolling.var(): Computes the rolling variance of values within the window.\n",
      "\n",
      "Expanding Functions:\n",
      "\n",
      "expanding(): Performs expanding window calculations on a DataFrame or Series.\n",
      "expanding.sum(): Computes the expanding sum of values within the window.\n",
      "expanding.mean(): Calculates the expanding mean of values within the window.\n",
      "expanding.min(): Finds the expanding minimum value within the window.\n",
      "expanding.max(): Finds the expanding maximum value within the window.\n",
      "expanding.count(): Counts the non-null values within the expanding window.\n",
      "expanding.std(): Calculates the expanding standard deviation of values within the window.\n",
      "expanding.var(): Computes the expanding variance of values within the window.\n"
     ]
    }
   ],
   "source": [
    "print(\"\"\"Aggregation Functions:\n",
    "\n",
    "sum(): Computes the sum of values within the window.\n",
    "mean(): Calculates the mean (average) of values within the window.\n",
    "median(): Computes the median of values within the window.\n",
    "min(): Finds the minimum value within the window.\n",
    "max(): Finds the maximum value within the window.\n",
    "count(): Counts the non-null values within the window.\n",
    "std(): Calculates the standard deviation of values within the window.\n",
    "var(): Computes the variance of values within the window.\n",
    "\n",
    "Transformation Functions:\n",
    "\n",
    "rank(): Computes the rank of values within the window.\n",
    "diff(): Calculates the difference between consecutive values within the window.\n",
    "pct_change(): Computes the percentage change between consecutive values within the window.\n",
    "\n",
    "Rolling Functions:\n",
    "\n",
    "rolling(): Performs rolling window calculations on a DataFrame or Series.\n",
    "rolling.sum(): Computes the rolling sum of values within the window.\n",
    "rolling.mean(): Calculates the rolling mean of values within the window.\n",
    "rolling.min(): Finds the rolling minimum value within the window.\n",
    "rolling.max(): Finds the rolling maximum value within the window.\n",
    "rolling.count(): Counts the non-null values within the rolling window.\n",
    "rolling.std(): Calculates the rolling standard deviation of values within the window.\n",
    "rolling.var(): Computes the rolling variance of values within the window.\n",
    "\n",
    "Expanding Functions:\n",
    "\n",
    "expanding(): Performs expanding window calculations on a DataFrame or Series.\n",
    "expanding.sum(): Computes the expanding sum of values within the window.\n",
    "expanding.mean(): Calculates the expanding mean of values within the window.\n",
    "expanding.min(): Finds the expanding minimum value within the window.\n",
    "expanding.max(): Finds the expanding maximum value within the window.\n",
    "expanding.count(): Counts the non-null values within the expanding window.\n",
    "expanding.std(): Calculates the expanding standard deviation of values within the window.\n",
    "expanding.var(): Computes the expanding variance of values within the window.\"\"\")"
   ]
  },
  {
   "cell_type": "code",
   "execution_count": 30,
   "id": "d86e2fc5",
   "metadata": {},
   "outputs": [],
   "source": [
    "# Q7. Write a code to print only the current month and year at the time of answering this question."
   ]
  },
  {
   "cell_type": "code",
   "execution_count": 31,
   "id": "b2dfdf33",
   "metadata": {},
   "outputs": [
    {
     "name": "stdout",
     "output_type": "stream",
     "text": [
      "year:2023 month:7\n"
     ]
    }
   ],
   "source": [
    "print(f\"year:{pd.Timestamp.now().year} month:{pd.Timestamp.now().month}\")"
   ]
  },
  {
   "cell_type": "code",
   "execution_count": 32,
   "id": "70679d4a",
   "metadata": {},
   "outputs": [],
   "source": [
    "# Q8. Write a Python program that takes in two dates as input (in the format YYYY-MM-DD) and\n",
    "# calculates the difference between them in days, hours, and minutes using Pandas time delta. The\n",
    "# program should prompt the user to enter the dates and display the result."
   ]
  },
  {
   "cell_type": "code",
   "execution_count": 33,
   "id": "87779acc",
   "metadata": {},
   "outputs": [
    {
     "name": "stdout",
     "output_type": "stream",
     "text": [
      "Enter date 1 :2023-07-05\n",
      "Enter date 2 :2023-08-05\n"
     ]
    }
   ],
   "source": [
    "date_list = []\n",
    "for i in range(2):\n",
    "    date_list.append(input(f\"Enter date {i+1} :\")) "
   ]
  },
  {
   "cell_type": "code",
   "execution_count": 34,
   "id": "c65db7cd",
   "metadata": {},
   "outputs": [
    {
     "data": {
      "text/plain": [
       "['2023-07-05', '2023-08-05']"
      ]
     },
     "execution_count": 34,
     "metadata": {},
     "output_type": "execute_result"
    }
   ],
   "source": [
    "date_list"
   ]
  },
  {
   "cell_type": "code",
   "execution_count": 35,
   "id": "737696e2",
   "metadata": {},
   "outputs": [],
   "source": [
    "date_list = list(map(pd.to_datetime,date_list))"
   ]
  },
  {
   "cell_type": "code",
   "execution_count": 36,
   "id": "d8699924",
   "metadata": {},
   "outputs": [],
   "source": [
    "difference = date_list[1] - date_list[0]"
   ]
  },
  {
   "cell_type": "code",
   "execution_count": 37,
   "id": "4d5bb4c4",
   "metadata": {},
   "outputs": [
    {
     "name": "stdout",
     "output_type": "stream",
     "text": [
      "days difference : 31 \n",
      "hours difference : 0 \n",
      "minutes difference : 0\n"
     ]
    }
   ],
   "source": [
    "print(f\"days difference : {difference.days} \\nhours difference : {difference.seconds//3600} \\nminutes difference : {(difference.seconds % 3600) // 60}\")"
   ]
  },
  {
   "cell_type": "code",
   "execution_count": 38,
   "id": "7715e9c0",
   "metadata": {},
   "outputs": [],
   "source": [
    "# Q9. Write a Python program that reads a CSV file containing categorical data and converts a specified\n",
    "# column to a categorical data type. The program should prompt the user to enter the file path, column\n",
    "# name, and category order, and then display the sorted data."
   ]
  },
  {
   "cell_type": "code",
   "execution_count": 39,
   "id": "eb53554a",
   "metadata": {},
   "outputs": [],
   "source": [
    "def convert_to_categorical(data,column,category_order):\n",
    "    ordered_category = pd.api.types.CategoricalDtype(categories=category_order , ordered=True)\n",
    "    data[column] = data[column].astype(ordered_category)"
   ]
  },
  {
   "cell_type": "code",
   "execution_count": 40,
   "id": "876ee9d9",
   "metadata": {},
   "outputs": [
    {
     "name": "stdout",
     "output_type": "stream",
     "text": [
      "Enter the CSV file path:../services.csv\n",
      "Enter the column name:status\n",
      "Enter the column name (comma-seperated):defunct,active,inactive\n",
      "    id  location_id  program_id         accepted_payments  \\\n",
      "19  20           20         NaN                       NaN   \n",
      "0    1            1         NaN                       NaN   \n",
      "18  19           19         NaN                       NaN   \n",
      "17  18           18         NaN                       NaN   \n",
      "16  17           17         NaN                       NaN   \n",
      "15  16           16         NaN                       NaN   \n",
      "14  15           15         NaN                       NaN   \n",
      "13  14           14         NaN                       NaN   \n",
      "12  13           13         NaN                       NaN   \n",
      "21  22           22         NaN  Cash, Check, Credit Card   \n",
      "11  12           12         NaN                       NaN   \n",
      "9   10           10         NaN                       NaN   \n",
      "8    9            9         NaN                       NaN   \n",
      "7    8            8         NaN                       NaN   \n",
      "6    7            7         NaN                       NaN   \n",
      "5    6            6         NaN                       NaN   \n",
      "4    5            5         NaN                       NaN   \n",
      "3    4            4         NaN                       NaN   \n",
      "2    3            3         NaN                       NaN   \n",
      "1    2            2         NaN                       NaN   \n",
      "10  11           11         NaN                       NaN   \n",
      "22  23           22         NaN                       NaN   \n",
      "20  21           21         NaN                       NaN   \n",
      "\n",
      "           alternate_name                                application_process  \\\n",
      "19                    NaN                                           Walk in.   \n",
      "0                     NaN                         Walk in or apply by phone.   \n",
      "18                    NaN     Call for screening appointment (650-347-3648).   \n",
      "17                    NaN  Call for screening appointment. Medical visits...   \n",
      "16                    NaN                              Call for information.   \n",
      "15                    NaN  Walk in. Written application, identification r...   \n",
      "14                    NaN          Walk in or through other agency referral.   \n",
      "13                    NaN  Call for appointment. Referral from human serv...   \n",
      "12                    NaN  Walk in. Proof of California residency require...   \n",
      "21  Fotos para pasaportes                  Walk in or apply by phone or mail   \n",
      "11                    NaN  Walk in or apply by phone, email or webpage re...   \n",
      "9                     NaN  Walk in. Proof of California residency to rece...   \n",
      "8                     NaN  Walk in. Proof of residency in California requ...   \n",
      "7                     NaN                                    Apply by phone.   \n",
      "6                     NaN  Apply by phone or be referred by a doctor, soc...   \n",
      "5                     NaN  Walk in or apply by phone for membership appli...   \n",
      "4                     NaN                             Phone for information.   \n",
      "3                     NaN                                    Apply by phone.   \n",
      "2                     NaN        Phone for information (403-4300 Ext. 4322).   \n",
      "1                     NaN                 Apply by phone for an appointment.   \n",
      "10                    NaN  Walk in. Proof of California residency require...   \n",
      "22                    NaN                  Walk in or apply by phone or mail   \n",
      "20                    NaN                    By phone during business hours.   \n",
      "\n",
      "                                             audience  \\\n",
      "19                                                NaN   \n",
      "0   Older adults age 55 or over, ethnic minorities...   \n",
      "18                                                NaN   \n",
      "17                                                NaN   \n",
      "16                                                NaN   \n",
      "15                                                NaN   \n",
      "14  Adult alcoholic/drug addictive men and women w...   \n",
      "13  Individuals or families with low or no income ...   \n",
      "12                                                NaN   \n",
      "21  Profit and nonprofit businesses, the public, m...   \n",
      "11  Adults, parents, children in 1st-12th grades i...   \n",
      "9                                                 NaN   \n",
      "8      Ethnic minorities, especially Spanish speaking   \n",
      "7   Senior citizens age 60 or over, disabled indiv...   \n",
      "6   Older adults who have memory or sensory loss, ...   \n",
      "5                                             Any age   \n",
      "4   Low-income working families with children tran...   \n",
      "3   Parents, children, families with problems of c...   \n",
      "2   Older adults age 55 or over who can benefit fr...   \n",
      "1        Residents of San Mateo County age 55 or over   \n",
      "10                                                NaN   \n",
      "22  Second service and nonprofit businesses, the p...   \n",
      "20                                                NaN   \n",
      "\n",
      "                                          description  \\\n",
      "19              no unrequired fields for this service   \n",
      "0   A walk-in center for older adults that provide...   \n",
      "18  Provides free medical and dental care to those...   \n",
      "17  By appointment only, Project Smile provides a ...   \n",
      "16  Provides emergency food, clothing and furnitur...   \n",
      "15  Provides emergency assistance including food a...   \n",
      "14  Provides a long-term (6-12 month) residential ...   \n",
      "13  Provides food, clothing, bus tokens and shelte...   \n",
      "12  Provides general reading materials, including ...   \n",
      "21  [NOTE THIS IS NOT A REAL SERVICE--THIS IS FOR ...   \n",
      "11  Offers an intergenerational literacy program f...   \n",
      "9   Provides general reading and media materials, ...   \n",
      "8   Provides general reading material, including b...   \n",
      "7   Delivers a hot meal to the home of persons age...   \n",
      "6   Rosener House is a day center for older adults...   \n",
      "5   A multipurpose center offering a wide variety ...   \n",
      "4   Provides fixed 8% short term loans to eligible...   \n",
      "3   Provides supervised visitation services and a ...   \n",
      "2   Offers supportive counseling services to San M...   \n",
      "1   Provides training and job placement to eligibl...   \n",
      "10  Provides general reading materials, including ...   \n",
      "22  [NOTE THIS IS NOT A REAL ORGANIZATION--THIS IS...   \n",
      "20                                just a test service   \n",
      "\n",
      "                                          eligibility                  email  \\\n",
      "19                                                NaN                    NaN   \n",
      "0   Age 55 or over for most programs, age 60 or ov...                    NaN   \n",
      "18    Low-income person without access to health care                    NaN   \n",
      "17    Low-income person without access to health care                    NaN   \n",
      "16                                Low-income families                    NaN   \n",
      "15                      None for emergency assistance                    NaN   \n",
      "14  Age 21-60, detoxed, physically able and willin...                    NaN   \n",
      "13  None for most services. For emergency assistan...                    NaN   \n",
      "12    Resident of California to obtain a library card                    NaN   \n",
      "21                                               None  passports@example.org   \n",
      "11  English-speaking adult reading at or below 7th...                    NaN   \n",
      "9             Resident of California to obtain a card                    NaN   \n",
      "8     Resident of California to obtain a library card                    NaN   \n",
      "7             Homebound person unable to cook or shop                    NaN   \n",
      "6                                      Age 18 or over                    NaN   \n",
      "5                                                None                    NaN   \n",
      "4   Eligibility: Low-income family with legal cust...                    NaN   \n",
      "3                                                None                    NaN   \n",
      "2         Resident of San Mateo County age 55 or over                    NaN   \n",
      "1   Age 55 or over, county resident and willing an...                    NaN   \n",
      "10  Resident of California to obtain a library car...                    NaN   \n",
      "22                                               None                    NaN   \n",
      "20                                                NaN                    NaN   \n",
      "\n",
      "    ...                            interpretation_services  \\\n",
      "19  ...                                                NaN   \n",
      "0   ...                                                NaN   \n",
      "18  ...                                                NaN   \n",
      "17  ...                                                NaN   \n",
      "16  ...                                                NaN   \n",
      "15  ...                                                NaN   \n",
      "14  ...                                                NaN   \n",
      "13  ...                                                NaN   \n",
      "12  ...                                                NaN   \n",
      "21  ...  We offer 3-way interpretation services over th...   \n",
      "11  ...                                                NaN   \n",
      "9   ...                                                NaN   \n",
      "8   ...                                                NaN   \n",
      "7   ...                                                NaN   \n",
      "6   ...                                                NaN   \n",
      "5   ...                                                NaN   \n",
      "4   ...                                                NaN   \n",
      "3   ...                                                NaN   \n",
      "2   ...                                                NaN   \n",
      "1   ...                                                NaN   \n",
      "10  ...                                                NaN   \n",
      "22  ...                                                NaN   \n",
      "20  ...                                                NaN   \n",
      "\n",
      "                                             keywords languages  \\\n",
      "19                                                NaN       NaN   \n",
      "0   ADULT PROTECTION AND CARE SERVICES, Meal Sites...       NaN   \n",
      "18  HEALTH SERVICES, Outpatient Care, Community Cl...       NaN   \n",
      "17  HEALTH SERVICES, Outpatient Care, Community Cl...       NaN   \n",
      "16  COMMODITY SERVICES, Clothing/Personal Items, C...       NaN   \n",
      "15  COMMODITY SERVICES, Clothing/Personal Items, C...       NaN   \n",
      "14  ALCOHOLISM SERVICES, Residential Care, DRUG AB...       NaN   \n",
      "13  COMMUNITY SERVICES, Interpretation/Translation...       NaN   \n",
      "12  EDUCATION SERVICES, Library, Libraries, Public...       NaN   \n",
      "21                                    Salud, Medicina   Spanish   \n",
      "11  EDUCATION SERVICES, Adult, Alternative, Litera...       NaN   \n",
      "9   EDUCATION SERVICES, Library, Libraries, Public...       NaN   \n",
      "8   EDUCATION SERVICES, Library, Libraries, Public...       NaN   \n",
      "7   ADULT PROTECTION AND CARE SERVICES, Meal Sites...       NaN   \n",
      "6   ADULT PROTECTION AND CARE SERVICES, Adult Day ...       NaN   \n",
      "5   ADULT PROTECTION AND CARE SERVICES, In-Home Su...       NaN   \n",
      "4      COMMUNITY SERVICES, Speakers, Automobile Loans       NaN   \n",
      "3   INDIVIDUAL AND FAMILY DEVELOPMENT SERVICES, Gr...       NaN   \n",
      "2   Geriatric Counseling, Older Adults, Gay, Lesbi...       NaN   \n",
      "1   EMPLOYMENT/TRAINING SERVICES, Job Development,...       NaN   \n",
      "10  EDUCATION SERVICES, Library, Libraries, Public...       NaN   \n",
      "22         Ruby on Rails/Postgres/Redis, testing, wic       NaN   \n",
      "20                                                NaN       NaN   \n",
      "\n",
      "                                    name  \\\n",
      "19             Service with blank fields   \n",
      "0        Fair Oaks Adult Activity Center   \n",
      "18         San Mateo Free Medical Clinic   \n",
      "17                         Project Smile   \n",
      "16     South San Francisco Citadel Corps   \n",
      "15                       Sunnyvale Corps   \n",
      "14           Adult Rehabilitation Center   \n",
      "13                    Redwood City Corps   \n",
      "12                 Redwood Shores Branch   \n",
      "21                       Passport Photos   \n",
      "11                          Project Read   \n",
      "9                           Main Library   \n",
      "8                       Fair Oaks Branch   \n",
      "7         Meals on Wheels - South County   \n",
      "6       Rosener House Adult Day Services   \n",
      "5   Little House Recreational Activities   \n",
      "4      Economic Self-Sufficiency Program   \n",
      "3               Family Visitation Center   \n",
      "2                 Senior Peer Counseling   \n",
      "1       Second Career Employment Program   \n",
      "10                       Schaberg Branch   \n",
      "22                  Example Service Name   \n",
      "20       Service for Admin Test Location   \n",
      "\n",
      "                          required_documents  \\\n",
      "19                                       NaN   \n",
      "0                                        NaN   \n",
      "18                                       NaN   \n",
      "17                                       NaN   \n",
      "16                                       NaN   \n",
      "15                                       NaN   \n",
      "14                                       NaN   \n",
      "13                                       NaN   \n",
      "12                                       NaN   \n",
      "21  Government-issued picture identification   \n",
      "11                                       NaN   \n",
      "9                                        NaN   \n",
      "8                                        NaN   \n",
      "7                                        NaN   \n",
      "6                                        NaN   \n",
      "5                                        NaN   \n",
      "4                                        NaN   \n",
      "3                                        NaN   \n",
      "2                                        NaN   \n",
      "1                                        NaN   \n",
      "10                                       NaN   \n",
      "22                                       NaN   \n",
      "20                                       NaN   \n",
      "\n",
      "                            service_areas    status  \\\n",
      "19                                    NaN   defunct   \n",
      "0                                   Colma    active   \n",
      "18                    Belmont, Burlingame    active   \n",
      "17                         East Palo Alto    active   \n",
      "16  Colma, Daly City, South San Francisco    active   \n",
      "15                                    NaN    active   \n",
      "14       Alameda County, San Mateo County    active   \n",
      "13    Belmont, Burlingame, East Palo Alto    active   \n",
      "12                       San Mateo County    active   \n",
      "21       Alameda County, San Mateo County    active   \n",
      "11                              Daly City    active   \n",
      "9                        San Mateo County    active   \n",
      "8                        San Mateo County    active   \n",
      "7                 Belmont, East Palo Alto    active   \n",
      "6     Belmont, Burlingame, East Palo Alto    active   \n",
      "5                        San Mateo County    active   \n",
      "4                        San Mateo County    active   \n",
      "3                        San Mateo County    active   \n",
      "2                        San Mateo County    active   \n",
      "1                        San Mateo County    active   \n",
      "10                       San Mateo County    active   \n",
      "22       San Mateo County, Alameda County    active   \n",
      "20                       San Mateo County  inactive   \n",
      "\n",
      "                                            wait_time                 website  \\\n",
      "19                                                NaN                     NaN   \n",
      "0                                            No wait.                     NaN   \n",
      "18                                            Varies.                     NaN   \n",
      "17                                            Varies.                     NaN   \n",
      "16                                                NaN                     NaN   \n",
      "15                                           No wait.                     NaN   \n",
      "14  Varies according to available beds for men and...                     NaN   \n",
      "13                                  Up to 20 minutes.                     NaN   \n",
      "12                                           No wait.                     NaN   \n",
      "21                                No wait to 2 weeks.  http://www.example.com   \n",
      "11  Depends on availability of tutors for small gr...                     NaN   \n",
      "9                                            No wait.                     NaN   \n",
      "8                                            No wait.                     NaN   \n",
      "7                                            No wait.                     NaN   \n",
      "6                                            No wait.                     NaN   \n",
      "5                                            No wait.                     NaN   \n",
      "4                                                 NaN                     NaN   \n",
      "3                                            No wait.                     NaN   \n",
      "2                                             Varies.                     NaN   \n",
      "1                                             Varies.                     NaN   \n",
      "10                                           No wait.                     NaN   \n",
      "22                                 No wait to 2 weeks  http://www.example.com   \n",
      "20                                                NaN                     NaN   \n",
      "\n",
      "                                taxonomy_ids  \n",
      "19                                       NaN  \n",
      "0                                        NaN  \n",
      "18                                       NaN  \n",
      "17                                       NaN  \n",
      "16                                       NaN  \n",
      "15                                       NaN  \n",
      "14                                       NaN  \n",
      "13                                       NaN  \n",
      "12                                       NaN  \n",
      "21  105, 108, 108-05, 108-05-01, 111, 111-05  \n",
      "11                                       NaN  \n",
      "9                                        NaN  \n",
      "8                                        NaN  \n",
      "7                                        NaN  \n",
      "6                                        NaN  \n",
      "5                                        NaN  \n",
      "4                                        NaN  \n",
      "3                                        NaN  \n",
      "2                                        NaN  \n",
      "1                                        NaN  \n",
      "10                                       NaN  \n",
      "22                                       NaN  \n",
      "20                                       NaN  \n",
      "\n",
      "[23 rows x 22 columns]\n"
     ]
    }
   ],
   "source": [
    "file_path = input(\"Enter the CSV file path:\")\n",
    "column_name = input(\"Enter the column name:\")\n",
    "category_order =input(\"Enter the column name (comma-seperated):\").split(\",\")\n",
    "data = pd.read_csv(file_path)\n",
    "convert_to_categorical(data,column_name,category_order)\n",
    "sorted_data = data.sort_values(column_name)\n",
    "print(sorted_data)\n"
   ]
  },
  {
   "cell_type": "code",
   "execution_count": 41,
   "id": "138088a4",
   "metadata": {},
   "outputs": [],
   "source": [
    "# Q10. Write a Python program that reads a CSV file containing sales data for different products and\n",
    "# visualizes the data using a stacked bar chart to show the sales of each product category over time. The\n",
    "# program should prompt the user to enter the file path and display the chart."
   ]
  },
  {
   "cell_type": "code",
   "execution_count": 42,
   "id": "77d89e09",
   "metadata": {},
   "outputs": [
    {
     "name": "stdout",
     "output_type": "stream",
     "text": [
      "Enter the CSV file path:sales.csv\n"
     ]
    },
    {
     "data": {
      "text/plain": [
       "<AxesSubplot:xlabel='Year'>"
      ]
     },
     "execution_count": 42,
     "metadata": {},
     "output_type": "execute_result"
    },
    {
     "data": {
      "image/png": "[encoded data removed]",
      "text/plain": [
       "<Figure size 640x480 with 1 Axes>"
      ]
     },
     "metadata": {},
     "output_type": "display_data"
    }
   ],
   "source": [
    "file_path = input(\"Enter the CSV file path:\")\n",
    "data = pd.read_csv(file_path)\n",
    "category_sales = data.groupby('Year')['Sales'].sum()\n",
    "category_sales.plot(kind='bar',stacked=True)"
   ]
  },
  {
   "cell_type": "code",
   "execution_count": 43,
   "id": "c702b0e2",
   "metadata": {},
   "outputs": [],
   "source": [
    "# Q11. You are given a CSV file containing student data that includes the student ID and their test score. Write\n",
    "# a Python program that reads the CSV file, calculates the mean, median, and mode of the test scores, and\n",
    "# displays the results in a table."
   ]
  },
  {
   "cell_type": "code",
   "execution_count": 44,
   "id": "a2c2f7d2",
   "metadata": {},
   "outputs": [
    {
     "name": "stdout",
     "output_type": "stream",
     "text": [
      "Enter the CSV file path:student.csv\n"
     ]
    }
   ],
   "source": [
    "file_path = input(\"Enter the CSV file path:\")\n",
    "data = pd.read_csv(file_path)\n",
    "mean_score = data['Score'].mean()\n",
    "median_score = data['Score'].median()\n",
    "mode_score = data['Score'].mode()\n",
    "results = pd.DataFrame({\n",
    "    'Statistics':['Mean','Median','Mode'],\n",
    "    'Value':[mean_score,median_score,mode_score]\n",
    "})"
   ]
  },
  {
   "cell_type": "code",
   "execution_count": 45,
   "id": "026072df",
   "metadata": {},
   "outputs": [
    {
     "data": {
      "text/html": [
       "<div>\n",
       "<style scoped>\n",
       "    .dataframe tbody tr th:only-of-type {\n",
       "        vertical-align: middle;\n",
       "    }\n",
       "\n",
       "    .dataframe tbody tr th {\n",
       "        vertical-align: top;\n",
       "    }\n",
       "\n",
       "    .dataframe thead th {\n",
       "        text-align: right;\n",
       "    }\n",
       "</style>\n",
       "<table border=\"1\" class=\"dataframe\">\n",
       "  <thead>\n",
       "    <tr style=\"text-align: right;\">\n",
       "      <th></th>\n",
       "      <th>Statistics</th>\n",
       "      <th>Value</th>\n",
       "    </tr>\n",
       "  </thead>\n",
       "  <tbody>\n",
       "    <tr>\n",
       "      <th>0</th>\n",
       "      <td>Mean</td>\n",
       "      <td>89.5</td>\n",
       "    </tr>\n",
       "    <tr>\n",
       "      <th>1</th>\n",
       "      <td>Median</td>\n",
       "      <td>89.0</td>\n",
       "    </tr>\n",
       "    <tr>\n",
       "      <th>2</th>\n",
       "      <td>Mode</td>\n",
       "      <td>0     75\n",
       "1     85\n",
       "2     88\n",
       "3     90\n",
       "4     99\n",
       "5...</td>\n",
       "    </tr>\n",
       "  </tbody>\n",
       "</table>\n",
       "</div>"
      ],
      "text/plain": [
       "  Statistics                                              Value\n",
       "0       Mean                                               89.5\n",
       "1     Median                                               89.0\n",
       "2       Mode  0     75\n",
       "1     85\n",
       "2     88\n",
       "3     90\n",
       "4     99\n",
       "5..."
      ]
     },
     "execution_count": 45,
     "metadata": {},
     "output_type": "execute_result"
    }
   ],
   "source": [
    "results"
   ]
  },
  {
   "cell_type": "code",
   "execution_count": null,
   "id": "bb251f83",
   "metadata": {},
   "outputs": [],
   "source": []
  }
 ],
 "metadata": {
  "kernelspec": {
   "display_name": "Python 3 (ipykernel)",
   "language": "python",
   "name": "python3"
  },
  "language_info": {
   "codemirror_mode": {
    "name": "ipython",
    "version": 3
   },
   "file_extension": ".py",
   "mimetype": "text/x-python",
   "name": "python",
   "nbconvert_exporter": "python",
   "pygments_lexer": "ipython3",
   "version": "3.9.13"
  }
 },
 "nbformat": 4,
 "nbformat_minor": 5
}
