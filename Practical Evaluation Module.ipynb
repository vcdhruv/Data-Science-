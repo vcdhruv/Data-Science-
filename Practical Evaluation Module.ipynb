{
 "cells": [
  {
   "cell_type": "code",
   "execution_count": 1,
   "id": "cc73af06",
   "metadata": {},
   "outputs": [],
   "source": [
    "import logging"
   ]
  },
  {
   "cell_type": "code",
   "execution_count": 2,
   "id": "c5e0c2ed",
   "metadata": {},
   "outputs": [],
   "source": [
    "logging.basicConfig(filename = \"list.log\" , level = logging.DEBUG , format = ' %(asctime)s %(name)s %(levelname)s %(message)s')"
   ]
  },
  {
   "cell_type": "code",
   "execution_count": 3,
   "id": "2d0b182e",
   "metadata": {},
   "outputs": [],
   "source": [
    "l = [1,2,3,4,[4,5,6],\"vcd\",21.15,\"cmd\"]"
   ]
  },
  {
   "cell_type": "code",
   "execution_count": 4,
   "id": "3cc4c961",
   "metadata": {},
   "outputs": [],
   "source": [
    "l_int = []"
   ]
  },
  {
   "cell_type": "code",
   "execution_count": 5,
   "id": "dcdab5d9",
   "metadata": {},
   "outputs": [],
   "source": [
    "l_float = []"
   ]
  },
  {
   "cell_type": "code",
   "execution_count": 6,
   "id": "35fb47c7",
   "metadata": {},
   "outputs": [],
   "source": [
    "l_str = []"
   ]
  },
  {
   "cell_type": "code",
   "execution_count": 7,
   "id": "21cd999a",
   "metadata": {},
   "outputs": [],
   "source": [
    "logging.info(\"start of sorting an list\")"
   ]
  },
  {
   "cell_type": "code",
   "execution_count": 8,
   "id": "8ce1688c",
   "metadata": {},
   "outputs": [],
   "source": [
    "logging.info(\"loop initiating\")\n",
    "for i in l:\n",
    "    logging.info(\"checking for int , string , float in loop {}\".format(i))\n",
    "    if type(i) == int:\n",
    "        l_int.append(i)\n",
    "        logging.info(\"added {} in {}\".format(i,l_int))\n",
    "    elif type(i) == list:\n",
    "        logging.info(\"Looping in a list\")\n",
    "        for j in i:\n",
    "            logging.info(\"inside list element {}\".format(i))\n",
    "            if type(j) == int:\n",
    "                l_int.append(j)\n",
    "                logging.info(\"added {} in {}\".format(j,l_int))\n",
    "            elif type(j) == float:\n",
    "                l_float.append(j)\n",
    "                logging.info(\"added {} in {}\".format(j,l_float))\n",
    "            else:\n",
    "                l_str.append(j)\n",
    "                logging.info(\"added {} in {}\".format(j,l_str))\n",
    "    elif type(i) == float:\n",
    "        l_float.append(i)\n",
    "        logging.info(\"added {} in {}\".format(i,l_float))\n",
    "    else:\n",
    "        l_str.append(i)\n",
    "        logging.info(\"added {} in {}\".format(i,l_float))"
   ]
  },
  {
   "cell_type": "code",
   "execution_count": 9,
   "id": "1747e751",
   "metadata": {},
   "outputs": [],
   "source": [
    "logging.info(\"FINAL INTEGER LIST : {}\".format(l_int))\n",
    "logging.info(\"FINAL FLOAT LIST : {}\".format(l_float))\n",
    "logging.info(\"FINAL STRING LIST : {}\".format(l_str))"
   ]
  },
  {
   "cell_type": "code",
   "execution_count": null,
   "id": "be79a2aa",
   "metadata": {},
   "outputs": [],
   "source": []
  }
 ],
 "metadata": {
  "kernelspec": {
   "display_name": "Python 3 (ipykernel)",
   "language": "python",
   "name": "python3"
  },
  "language_info": {
   "codemirror_mode": {
    "name": "ipython",
    "version": 3
   },
   "file_extension": ".py",
   "mimetype": "text/x-python",
   "name": "python",
   "nbconvert_exporter": "python",
   "pygments_lexer": "ipython3",
   "version": "3.9.13"
  }
 },
 "nbformat": 4,
 "nbformat_minor": 5
}
