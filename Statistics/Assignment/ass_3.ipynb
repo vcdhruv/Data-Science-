{
 "cells": [
  {
   "cell_type": "markdown",
   "metadata": {},
   "source": [
    "### Q1. What is the Probability density function?"
   ]
  },
  {
   "cell_type": "code",
   "execution_count": 3,
   "metadata": {},
   "outputs": [
    {
     "name": "stdout",
     "output_type": "stream",
     "text": [
      "Probability Density Function is used for continuous random variable.It gives the relative likelihood of the variable taking on a specific value.\n",
      "It is often visualized as a curve on a graph, with the x-axis representing the possible values of the random variable and \n",
      "the y-axis representing the density of those values. The higher the curve at a particular point, the more likely the random variable is to be near that point. \n"
     ]
    }
   ],
   "source": [
    "print(\"Probability Density Function is used for continuous random variable.It gives the relative likelihood of the variable taking on a specific value.\\nIt is often visualized as a curve on a graph, with the x-axis representing the possible values of the random variable and \\nthe y-axis representing the density of those values. The higher the curve at a particular point, the more likely the random variable is to be near that point. \")"
   ]
  },
  {
   "cell_type": "markdown",
   "metadata": {},
   "source": [
    "### Q2. What are the types of Probability distribution?"
   ]
  },
  {
   "cell_type": "code",
   "execution_count": 4,
   "metadata": {},
   "outputs": [
    {
     "name": "stdout",
     "output_type": "stream",
     "text": [
      "Types Of Probability Distribution : \n",
      "Bernoulli Distribution (PMF) , Binomial Distribution (PMF) , Normal/Gaussian Distribution (PDF) , Poisson Distribution (PMF) , Log-Normal Distribution (PDF) , Uniform Distribution (PMF)\n"
     ]
    }
   ],
   "source": [
    "print(\"Types Of Probability Distribution : \")\n",
    "print(\"Bernoulli Distribution (PMF) , Binomial Distribution (PMF) , Normal/Gaussian Distribution (PDF) , Poisson Distribution (PMF) , Log-Normal Distribution (PDF) , Uniform Distribution (PMF)\")"
   ]
  },
  {
   "cell_type": "markdown",
   "metadata": {},
   "source": [
    "### Q3. Write a Python function to calculate the probability density function of a normal distribution with given mean and standard deviation at a given point."
   ]
  },
  {
   "cell_type": "code",
   "execution_count": 15,
   "metadata": {},
   "outputs": [
    {
     "name": "stdout",
     "output_type": "stream",
     "text": [
      "The PDF value at x = 180 is 0.04228\n"
     ]
    }
   ],
   "source": [
    "import numpy as np\n",
    "def normal_pdf(point,mean,std):\n",
    "    exponent = np.exp(-0.5 * ((point - mean) / std) ** 2)\n",
    "    pdf_value = (1 / (std * np.sqrt(2 * np.pi))) * exponent\n",
    "    return pdf_value\n",
    "\n",
    "point = 180\n",
    "mean = 175\n",
    "std = 7.6\n",
    "\n",
    "pdf_value = normal_pdf(point=point,mean=mean,std=std)\n",
    "print(f\"The PDF value at x = {point} is {pdf_value:.5f}\")"
   ]
  },
  {
   "cell_type": "markdown",
   "metadata": {},
   "source": [
    "### Q4. What are the properties of Binomial distribution? Give two examples of events where binomial distribution can be applied."
   ]
  },
  {
   "cell_type": "code",
   "execution_count": 16,
   "metadata": {},
   "outputs": [
    {
     "name": "stdout",
     "output_type": "stream",
     "text": [
      "Binomial Distribution is the discrete probability distribution where every outcome of the experiment is binary. These experiments are performed n trials.\n",
      "Example Of Events Where Binomial Distribution Can Be Applied : \n",
      "Flipping a coin , Quality Control In Manufacturing\n"
     ]
    }
   ],
   "source": [
    "print(\"Binomial Distribution is the discrete probability distribution where every outcome of the experiment is binary. These experiments are performed n trials.\")\n",
    "print(\"Example Of Events Where Binomial Distribution Can Be Applied : \")\n",
    "print(\"Flipping a coin , Quality Control In Manufacturing\")\n"
   ]
  },
  {
   "cell_type": "markdown",
   "metadata": {},
   "source": [
    "### Q5. Generate a random sample of size 1000 from a binomial distribution with probability of success 0.4 and plot a histogram of the results using matplotlib."
   ]
  },
  {
   "cell_type": "code",
   "execution_count": 23,
   "metadata": {},
   "outputs": [
    {
     "data": {
      "image/png": "[encoded data removed]",
      "text/plain": [
       "<Figure size 1000x600 with 1 Axes>"
      ]
     },
     "metadata": {},
     "output_type": "display_data"
    }
   ],
   "source": [
    "import matplotlib.pyplot as plt\n",
    "n = 10 # Number Of Trials  \n",
    "success = 0.4 # Probability of success\n",
    "sample_size = 1000 # Size of random sample\n",
    "\n",
    "# Generate random sample from binomial distribution\n",
    "sample_data = np.random.binomial(n,success,sample_size)\n",
    "# print(sample_data)\n",
    "\n",
    "# Plot histogram\n",
    "plt.figure(figsize=(10, 6))\n",
    "plt.hist(sample_data, bins=range(n+2), edgecolor='black', alpha=0.75)\n",
    "plt.title('Histogram of Binomial Distribution Sample')\n",
    "plt.xlabel('Number of Successes')\n",
    "plt.ylabel('Frequency')\n",
    "plt.xticks(range(n+1))\n",
    "plt.grid(True)\n",
    "plt.show()"
   ]
  },
  {
   "cell_type": "markdown",
   "metadata": {},
   "source": [
    "### Q6. Write a Python function to calculate the cumulative distribution function of a Poisson distribution with given mean at a given point."
   ]
  },
  {
   "cell_type": "code",
   "execution_count": 24,
   "metadata": {},
   "outputs": [
    {
     "name": "stdout",
     "output_type": "stream",
     "text": [
      "The CDF value at x = 4 for a Poisson distribution with mean = 3.5 is 0.72544\n"
     ]
    }
   ],
   "source": [
    "import math\n",
    "\n",
    "def poisson_cdf(x, mean):\n",
    "    \"\"\"\n",
    "    Calculate the cumulative distribution function (CDF) of a Poisson distribution.\n",
    "\n",
    "    Parameters:\n",
    "    - x: The point at which to calculate the CDF.\n",
    "    - mean: The mean (lambda) of the Poisson distribution.\n",
    "\n",
    "    Returns:\n",
    "    - The value of the CDF at the given point x.\n",
    "    \"\"\"\n",
    "    if x < 0:\n",
    "        return 0.0\n",
    "\n",
    "    # Use the cumulative sum formula for the Poisson distribution\n",
    "    cdf_value = 0.0\n",
    "    for k in range(int(x) + 1):\n",
    "        cdf_value += (math.exp(-mean) * mean**k) / math.factorial(k)\n",
    "    \n",
    "    return cdf_value\n",
    "\n",
    "# Example usage:\n",
    "mean = 3.5  # Example mean\n",
    "x = 4  # Point at which to calculate the CDF\n",
    "\n",
    "cdf_value = poisson_cdf(x, mean)\n",
    "print(f\"The CDF value at x = {x} for a Poisson distribution with mean = {mean} is {cdf_value:.5f}\")\n"
   ]
  },
  {
   "cell_type": "markdown",
   "metadata": {},
   "source": [
    "### Q7. How Binomial distribution different from Poisson distribution?"
   ]
  },
  {
   "cell_type": "code",
   "execution_count": 25,
   "metadata": {},
   "outputs": [
    {
     "name": "stdout",
     "output_type": "stream",
     "text": [
      "Binomial: Fixed number of trials, each with a fixed probability of success.\n",
      "Poisson: Variable number of events in a fixed interval, with a constant average rate of occurrence.\n"
     ]
    }
   ],
   "source": [
    "print(\"Binomial: Fixed number of trials, each with a fixed probability of success.\")\n",
    "print(\"Poisson: Variable number of events in a fixed interval, with a constant average rate of occurrence.\")"
   ]
  },
  {
   "cell_type": "markdown",
   "metadata": {},
   "source": [
    "### Q8. Generate a random sample of size 1000 from a Poisson distribution with mean 5 and calculate the sample mean and variance."
   ]
  },
  {
   "cell_type": "code",
   "execution_count": 29,
   "metadata": {},
   "outputs": [
    {
     "name": "stdout",
     "output_type": "stream",
     "text": [
      "Sample mean : 5.026\n",
      "Sample variance : 5.103324\n"
     ]
    }
   ],
   "source": [
    "mean = 5\n",
    "sample_data = np.random.poisson(mean,1000)\n",
    "\n",
    "print(f\"Sample mean : {np.mean(sample_data)}\")\n",
    "print(f\"Sample variance : {np.var(sample_data)}\")"
   ]
  },
  {
   "cell_type": "markdown",
   "metadata": {},
   "source": [
    "### Q9. How mean and variance are related in Binomial distribution and Poisson distribution?"
   ]
  },
  {
   "cell_type": "code",
   "execution_count": 31,
   "metadata": {},
   "outputs": [
    {
     "name": "stdout",
     "output_type": "stream",
     "text": [
      "Binomial Distribution : \n",
      "Mean: μ=np\n",
      "Variance: = np(1 − p)\n",
      "Poisson Distribution : \n",
      "Mean: μ=λ\n",
      "Variance: λ\n"
     ]
    }
   ],
   "source": [
    "print(\"Binomial Distribution : \")\n",
    "print(\"Mean: μ=np\")\n",
    "print(\"Variance: = np(1 − p)\")\n",
    "\n",
    "print(\"Poisson Distribution : \")\n",
    "print(\"Mean: μ=λ\")\n",
    "print(\"Variance: λ\")"
   ]
  },
  {
   "cell_type": "markdown",
   "metadata": {},
   "source": [
    "### Q10. In normal distribution with respect to mean position, where does the least frequent data appear?"
   ]
  },
  {
   "cell_type": "code",
   "execution_count": 32,
   "metadata": {},
   "outputs": [
    {
     "name": "stdout",
     "output_type": "stream",
     "text": [
      "Least Frequent Data: Appears in the tails of the distribution, far from the mean.\n",
      "Most Frequent Data: Closer to the mean, where the distribution peaks.\n"
     ]
    }
   ],
   "source": [
    "print(\"Least Frequent Data: Appears in the tails of the distribution, far from the mean.\")\n",
    "print(\"Most Frequent Data: Closer to the mean, where the distribution peaks.\")"
   ]
  },
  {
   "cell_type": "code",
   "execution_count": null,
   "metadata": {},
   "outputs": [],
   "source": []
  }
 ],
 "metadata": {
  "kernelspec": {
   "display_name": "environment",
   "language": "python",
   "name": "python3"
  },
  "language_info": {
   "codemirror_mode": {
    "name": "ipython",
    "version": 3
   },
   "file_extension": ".py",
   "mimetype": "text/x-python",
   "name": "python",
   "nbconvert_exporter": "python",
   "pygments_lexer": "ipython3",
   "version": "3.12.0"
  }
 },
 "nbformat": 4,
 "nbformat_minor": 2
}
