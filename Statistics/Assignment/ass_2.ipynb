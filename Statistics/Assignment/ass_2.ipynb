{
 "cells": [
  {
   "cell_type": "markdown",
   "metadata": {},
   "source": [
    "### Q1. What are the three measures of central tendency?"
   ]
  },
  {
   "cell_type": "code",
   "execution_count": 1,
   "metadata": {},
   "outputs": [
    {
     "name": "stdout",
     "output_type": "stream",
     "text": [
      "Three Measures Of Central Tendecy Are : Mean , Median , Mode\n"
     ]
    }
   ],
   "source": [
    "print(\"Three Measures Of Central Tendecy Are : Mean , Median , Mode\")"
   ]
  },
  {
   "cell_type": "markdown",
   "metadata": {},
   "source": [
    "### Q2. What is the difference between the mean, median, and mode? How are they used to measure the central tendency of a dataset?"
   ]
  },
  {
   "cell_type": "markdown",
   "metadata": {},
   "source": [
    "Differences :\n",
    "\n",
    "Mean is affected by all data points, including outliers, which makes it a good measure for datasets without extreme values.\n",
    "\n",
    "Median is less affected by outliers and skewed data, providing a better central value in such cases.\n",
    "\n",
    "Mode identifies the most common value and is not affected by outliers, but it may not provide a sense of centrality in data with no repeating values or multiple modes.\n",
    "\n",
    "Application : \n",
    "\n",
    "Mean is often used in financial data, scientific research, and performance metrics where every value matters.\n",
    "\n",
    "Median is preferred in income distribution, real estate, and any dataset with outliers.\n",
    "\n",
    "Mode is commonly used in market research, voting data, and other categorical data analysis."
   ]
  },
  {
   "cell_type": "markdown",
   "metadata": {},
   "source": [
    "### Q3. Measure the three measures of central tendency for the given height data:"
   ]
  },
  {
   "cell_type": "code",
   "execution_count": 2,
   "metadata": {},
   "outputs": [],
   "source": [
    "import numpy as np"
   ]
  },
  {
   "cell_type": "code",
   "execution_count": 3,
   "metadata": {},
   "outputs": [],
   "source": [
    "heights = [178,177,176,177,178.2,178,175,179,180,175,178.9,176.2,177,172.5,178,176.5]"
   ]
  },
  {
   "cell_type": "code",
   "execution_count": 4,
   "metadata": {},
   "outputs": [
    {
     "data": {
      "text/plain": [
       "np.float64(177.01875)"
      ]
     },
     "execution_count": 4,
     "metadata": {},
     "output_type": "execute_result"
    }
   ],
   "source": [
    "np.mean(heights)"
   ]
  },
  {
   "cell_type": "code",
   "execution_count": 5,
   "metadata": {},
   "outputs": [
    {
     "data": {
      "text/plain": [
       "np.float64(177.0)"
      ]
     },
     "execution_count": 5,
     "metadata": {},
     "output_type": "execute_result"
    }
   ],
   "source": [
    "np.median(heights)"
   ]
  },
  {
   "cell_type": "code",
   "execution_count": 7,
   "metadata": {},
   "outputs": [],
   "source": [
    "import statistics"
   ]
  },
  {
   "cell_type": "code",
   "execution_count": 8,
   "metadata": {},
   "outputs": [
    {
     "data": {
      "text/plain": [
       "178"
      ]
     },
     "execution_count": 8,
     "metadata": {},
     "output_type": "execute_result"
    }
   ],
   "source": [
    "statistics.mode(heights)"
   ]
  },
  {
   "cell_type": "code",
   "execution_count": 9,
   "metadata": {},
   "outputs": [
    {
     "data": {
      "text/plain": [
       "[178, 177]"
      ]
     },
     "execution_count": 9,
     "metadata": {},
     "output_type": "execute_result"
    }
   ],
   "source": [
    "statistics.multimode(heights)"
   ]
  },
  {
   "cell_type": "markdown",
   "metadata": {},
   "source": [
    "### Q4. Find the standard deviation for the given data:"
   ]
  },
  {
   "cell_type": "code",
   "execution_count": 10,
   "metadata": {},
   "outputs": [],
   "source": [
    "data = [178,177,176,177,178.2,178,175,179,180,175,178.9,176.2,177,172.5,178,176.5]"
   ]
  },
  {
   "cell_type": "code",
   "execution_count": 11,
   "metadata": {},
   "outputs": [
    {
     "data": {
      "text/plain": [
       "np.float64(1.7885814036548633)"
      ]
     },
     "execution_count": 11,
     "metadata": {},
     "output_type": "execute_result"
    }
   ],
   "source": [
    "np.std(data)"
   ]
  },
  {
   "cell_type": "markdown",
   "metadata": {},
   "source": [
    "### Q5. How are measures of dispersion such as range, variance, and standard deviation used to describe the spread of a dataset? Provide an example."
   ]
  },
  {
   "cell_type": "markdown",
   "metadata": {},
   "source": [
    "1. Range : \n",
    "\n",
    "    Definition: The range is the simplest measure of dispersion, calculated as the difference between the maximum and minimum values in a dataset.\n",
    "\n",
    "    Formula: Range = Maximum Value − Minimum Value"
   ]
  },
  {
   "cell_type": "code",
   "execution_count": 12,
   "metadata": {},
   "outputs": [
    {
     "name": "stdout",
     "output_type": "stream",
     "text": [
      "Range: 7\n"
     ]
    }
   ],
   "source": [
    "data = [4, 8, 6, 5, 3, 7, 9, 2]\n",
    "range_value = max(data) - min(data)\n",
    "print(\"Range:\", range_value)"
   ]
  },
  {
   "cell_type": "markdown",
   "metadata": {},
   "source": [
    "2. Variance : \n",
    "\n",
    "    Definition: Variance measures how much the data points deviate from the mean. It calculates the average of the squared differences between each data point and the mean.\n"
   ]
  },
  {
   "cell_type": "code",
   "execution_count": 16,
   "metadata": {},
   "outputs": [
    {
     "name": "stdout",
     "output_type": "stream",
     "text": [
      "Variance: 5.25\n"
     ]
    }
   ],
   "source": [
    "data = [4, 8, 6, 5, 3, 7, 9, 2]\n",
    "variance_value = np.var(data)\n",
    "print(\"Variance:\", variance_value)"
   ]
  },
  {
   "cell_type": "markdown",
   "metadata": {},
   "source": [
    "3. Standard Deviation :\n",
    "\n",
    "    Definition: Standard deviation is the square root of the variance, bringing the measure of dispersion back to the same unit as the data"
   ]
  },
  {
   "cell_type": "code",
   "execution_count": 17,
   "metadata": {},
   "outputs": [
    {
     "data": {
      "text/plain": [
       "np.float64(2.29128784747792)"
      ]
     },
     "execution_count": 17,
     "metadata": {},
     "output_type": "execute_result"
    }
   ],
   "source": [
    "data = [4, 8, 6, 5, 3, 7, 9, 2]\n",
    "np.std(data)\n"
   ]
  },
  {
   "cell_type": "markdown",
   "metadata": {},
   "source": [
    "Example : \n",
    "\n",
    "Consider two datasets representing the exam scores of students in two different classes:"
   ]
  },
  {
   "cell_type": "code",
   "execution_count": 31,
   "metadata": {},
   "outputs": [],
   "source": [
    "class_A = [70, 72, 68, 74, 76]\n",
    "class_B = [50, 95, 60, 90, 65]\n"
   ]
  },
  {
   "cell_type": "code",
   "execution_count": 32,
   "metadata": {},
   "outputs": [],
   "source": [
    "cls_A_avg = np.mean(class_A)\n",
    "cls_B_avg = np.mean(class_B)"
   ]
  },
  {
   "cell_type": "code",
   "execution_count": 33,
   "metadata": {},
   "outputs": [
    {
     "data": {
      "text/plain": [
       "np.float64(72.0)"
      ]
     },
     "execution_count": 33,
     "metadata": {},
     "output_type": "execute_result"
    }
   ],
   "source": [
    "cls_A_avg"
   ]
  },
  {
   "cell_type": "code",
   "execution_count": 34,
   "metadata": {},
   "outputs": [
    {
     "data": {
      "text/plain": [
       "np.float64(72.0)"
      ]
     },
     "execution_count": 34,
     "metadata": {},
     "output_type": "execute_result"
    }
   ],
   "source": [
    "cls_B_avg"
   ]
  },
  {
   "cell_type": "code",
   "execution_count": 35,
   "metadata": {},
   "outputs": [],
   "source": [
    "range_A = max(class_A) - min(class_A)\n",
    "range_B = max(class_B) - min(class_B)"
   ]
  },
  {
   "cell_type": "code",
   "execution_count": 36,
   "metadata": {},
   "outputs": [],
   "source": [
    "variance_A = np.var(class_A)\n",
    "variance_B = np.var(class_B)"
   ]
  },
  {
   "cell_type": "code",
   "execution_count": 37,
   "metadata": {},
   "outputs": [],
   "source": [
    "std_A = np.std(class_A)\n",
    "std_B = np.std(class_B)"
   ]
  },
  {
   "cell_type": "code",
   "execution_count": 38,
   "metadata": {},
   "outputs": [
    {
     "name": "stdout",
     "output_type": "stream",
     "text": [
      "CLass A Avg : 72.0\n",
      "CLass A Range : 8\n",
      "CLass A Variance : 8.0\n",
      "CLass A Standard Deviation : 2.8284271247461903\n",
      "CLass B Avg : 72.0\n",
      "CLass B Range : 45\n",
      "CLass B Variance : 306.0\n",
      "CLass B Standard Deviation : 17.4928556845359\n"
     ]
    }
   ],
   "source": [
    "print(f\"CLass A Avg : {cls_A_avg}\")\n",
    "print(f\"CLass A Range : {range_A}\")\n",
    "print(f\"CLass A Variance : {variance_A}\")\n",
    "print(f\"CLass A Standard Deviation : {std_A}\")\n",
    "print(f\"CLass B Avg : {cls_B_avg}\")\n",
    "print(f\"CLass B Range : {range_B}\")\n",
    "print(f\"CLass B Variance : {variance_B}\")\n",
    "print(f\"CLass B Standard Deviation : {std_B}\")"
   ]
  },
  {
   "cell_type": "markdown",
   "metadata": {},
   "source": [
    "### Explanation of the Results:\n",
    "#### Average (Mean):\n",
    "\n",
    "    Both Class A and Class B have the same mean score of 72.0. This indicates that, on average, students in both classes scored the same. However, this doesn't tell us anything about how the scores are distributed around this mean.\n",
    "\n",
    "#### Range:\n",
    "\n",
    "    Class A: The range is 8 (from 68 to 76), meaning that the scores are tightly clustered around the mean.\n",
    "    \n",
    "    Class B: The range is 45 (from 50 to 95), which indicates a much broader spread of scores. This suggests that while the average is the same, individual scores in Class B vary much more widely.\n",
    "\n",
    "#### Variance:\n",
    "\n",
    "    Class A: The variance is 8.0, which is relatively low, indicating that the scores in Class A are close to the mean.\n",
    "    \n",
    "    Class B: The variance is 306.0, which is much higher, showing that the scores in Class B are spread out further from the mean.\n",
    "\n",
    "#### Standard Deviation:\n",
    "\n",
    "    Class A: The standard deviation is 2.83, a low value that confirms the scores are close to the mean.\n",
    "    \n",
    "    Class B: The standard deviation is 17.49, a high value that suggests there is a lot of variability in the scores.\n",
    "\n",
    "#### Interpretation:\n",
    "    \n",
    "    Class A: The low range, variance, and standard deviation indicate that students' scores are relatively consistent, clustering closely around the mean of 72. This suggests a more uniform performance among students in Class A.\n",
    "\n",
    "    Class B: The high range, variance, and standard deviation indicate a much more varied performance among students. While the average score is the same as Class A, some students scored much higher or much lower, leading to a broader spread of scores.\n",
    "\n",
    "#### Conclusion:\n",
    "\n",
    "Class A has more consistent performance with scores close to the mean, while Class B has more variability, with scores widely dispersed around the mean. This suggests that while the average performance is the same, the level of consistency in Class A is much higher compared to Class B."
   ]
  },
  {
   "cell_type": "markdown",
   "metadata": {},
   "source": [
    "### Q6. What is a Venn diagram?"
   ]
  },
  {
   "cell_type": "markdown",
   "metadata": {},
   "source": [
    "A Venn diagram is a visual representation used to illustrate the relationships between different sets or groups of objects."
   ]
  },
  {
   "cell_type": "markdown",
   "metadata": {},
   "source": [
    "### Q7. For the two given sets A = (2,3,4,5,6,7) & B = (0,2,6,8,10). Find:"
   ]
  },
  {
   "cell_type": "code",
   "execution_count": 39,
   "metadata": {},
   "outputs": [],
   "source": [
    "A = {2,3,4,5,6,7}\n",
    "B = {0,2,6,8,10}"
   ]
  },
  {
   "cell_type": "markdown",
   "metadata": {},
   "source": [
    "##### (i) A intersect B"
   ]
  },
  {
   "cell_type": "code",
   "execution_count": 41,
   "metadata": {},
   "outputs": [
    {
     "name": "stdout",
     "output_type": "stream",
     "text": [
      "{2, 6}\n"
     ]
    }
   ],
   "source": [
    "intersect = A.intersection(B)\n",
    "print(intersect)"
   ]
  },
  {
   "cell_type": "markdown",
   "metadata": {},
   "source": [
    "##### (ii) A ⋃ B"
   ]
  },
  {
   "cell_type": "code",
   "execution_count": 42,
   "metadata": {},
   "outputs": [
    {
     "name": "stdout",
     "output_type": "stream",
     "text": [
      "{0, 2, 3, 4, 5, 6, 7, 8, 10}\n"
     ]
    }
   ],
   "source": [
    "union = A.union(B)\n",
    "print(union)"
   ]
  },
  {
   "cell_type": "markdown",
   "metadata": {},
   "source": [
    "### Q8. What do you understand about skewness in data?"
   ]
  },
  {
   "cell_type": "markdown",
   "metadata": {},
   "source": [
    "Skewness in data refers to the asymmetry or lack of symmetry in the distribution of data values. It indicates the direction and degree to which the distribution deviates from the normal distribution, which is symmetric. Skewness helps in understanding the shape of the data distribution."
   ]
  },
  {
   "cell_type": "markdown",
   "metadata": {},
   "source": [
    "Positive Skewness (Right-Skewed) : Indicates right skewness , Mean > Median > Mode , The distribution has a longer right tail.\n",
    "Example : Income distribution in many countries is often right-skewed, with most people earning a moderate amount and a few individuals earning significantly more.\n",
    "\n",
    "Negative Skewness (Left-Skewed) : Indicates left skewness , Mean < Median < Mode , The distribution has a longer left tail.\n",
    "Example : The age at retirement is often left-skewed, with most people retiring at a later age and fewer people retiring very early.\n",
    "\n",
    "No Skewness (Symmetrical Distribution) : Indicates zero skewness , Mean = Median = Mode , The distribution has no skewness, and the tails on both sides are of equal length.\n",
    "Example : A perfectly normal distribution (bell curve) has no skewness."
   ]
  },
  {
   "cell_type": "markdown",
   "metadata": {},
   "source": [
    "### Q9. If a data is right skewed then what will be the position of median with respect to mean?"
   ]
  },
  {
   "cell_type": "markdown",
   "metadata": {},
   "source": [
    "If a dataset is right-skewed (positively skewed), the position of the median will be to the left of the mean.\n",
    "\n",
    "The median, being the middle value of the dataset, is less affected by the extreme values in the tail and remains closer to the bulk of the data.\n",
    "\n",
    "Example : \n",
    "\n",
    "Mean income might be higher due to a few very high earners.\n",
    "\n",
    "Median income represents the income of the middle person and will be lower than the mean, reflecting the typical income level more accurately."
   ]
  },
  {
   "cell_type": "markdown",
   "metadata": {},
   "source": [
    "### Q10. Explain the difference between covariance and correlation. How are these measures used in statistical analysis?"
   ]
  },
  {
   "cell_type": "markdown",
   "metadata": {},
   "source": [
    "##### Covariance : \n",
    "\n",
    "Covariance measures the degree to which two variables change together. It indicates whether an increase in one variable generally leads to an increase (or decrease) in the other variable.\n",
    "\n",
    "##### Correlation : \n",
    "\n",
    "Correlation measures both the strength and direction of a linear relationship between two variables. It is the standardized version of covariance and is dimensionless, meaning it does not depend on the units of the variables.\n",
    "\n",
    "##### Usage In Statistical Analysis : \n",
    "\n",
    "Covariance is primarily used to understand the direction of the relationship between variables and is often a step in calculating other statistics, like the correlation coefficient or in multivariate statistics.\n",
    "\n",
    "Correlation is widely used in:\n",
    "\n",
    "Data Analysis: To determine the strength and direction of linear relationships between variables.\n",
    "\n",
    "Financial Analysis: To understand the relationship between different financial assets (e.g., stocks).\n",
    "\n",
    "Predictive Modeling: To identify and select features that are linearly related to the target variable."
   ]
  },
  {
   "cell_type": "markdown",
   "metadata": {},
   "source": [
    "### Q11. What is the formula for calculating the sample mean? Provide an example calculation for a dataset."
   ]
  },
  {
   "cell_type": "markdown",
   "metadata": {},
   "source": [
    "![alt text](<Screenshot 2024-08-15 130723.png>)"
   ]
  },
  {
   "cell_type": "code",
   "execution_count": 43,
   "metadata": {},
   "outputs": [
    {
     "name": "stdout",
     "output_type": "stream",
     "text": [
      "Sample Mean (Basic Python): 8.4\n"
     ]
    }
   ],
   "source": [
    "data = [5, 8, 12, 7, 10]\n",
    "\n",
    "mean = sum(data) / len(data)\n",
    "\n",
    "print(\"Sample Mean (Basic Python):\", mean)"
   ]
  },
  {
   "cell_type": "markdown",
   "metadata": {},
   "source": [
    "### Q12. For a normal distribution data what is the relationship between its measure of central tendency?"
   ]
  },
  {
   "cell_type": "markdown",
   "metadata": {},
   "source": [
    "For a normal distribution (also known as a Gaussian distribution), the measures of central tendency are all equal and perfectly aligned. This is a defining characteristic of the normal distribution. "
   ]
  },
  {
   "cell_type": "markdown",
   "metadata": {},
   "source": [
    "The mean is the average value of the dataset and is the point at which the data is centered.\n",
    "\n",
    "The median is the value that divides the dataset into two equal halves. In a normal distribution, it coincides with the mean.\n",
    "\n",
    "The mode is the value that occurs most frequently in the dataset. In a normal distribution, the mode also coincides with the mean.\n",
    "\n",
    "For a normal distribution : Mean = Median = Mode"
   ]
  },
  {
   "cell_type": "markdown",
   "metadata": {},
   "source": [
    "### Q13. How is covariance different from correlation?"
   ]
  },
  {
   "cell_type": "markdown",
   "metadata": {},
   "source": [
    "Differences : \n",
    "\n",
    "Covariance depends on the units of the variables, making its magnitude hard to interpret in isolation.\n",
    "\n",
    "Correlation is normalized and dimensionless, making it easier to understand and compare."
   ]
  },
  {
   "cell_type": "markdown",
   "metadata": {},
   "source": [
    "### Q14. How do outliers affect measures of central tendency and dispersion? Provide an example."
   ]
  },
  {
   "cell_type": "markdown",
   "metadata": {},
   "source": [
    "Outliers are data points that differ significantly from other observations in a dataset. They can have a substantial impact on both measures of central tendency (mean, median, mode) and measures of dispersion (range, variance, standard deviation).\n",
    "\n",
    "Mean : Outliers can heavily influence the mean because the mean is calculated by summing all data points and dividing by the number of points.\n",
    "\n",
    "Median : The median is less affected by outliers because it represents the middle value of a sorted dataset. The median remains stable even if extreme values are present, as long as the dataset is sufficiently large.\n",
    "\n",
    "Mode : Outliers generally have little impact on the mode unless they are extremely frequent. The mode is the most common value in the dataset, so a single extreme value doesn’t affect it unless it appears frequently.\n",
    "\n",
    "Range : The range is directly affected by outliers because it is calculated as the difference between the maximum and minimum values. Outliers can inflate the range, making it larger.\n",
    "\n",
    "Variance & Std : Both variance and standard deviation are affected by outliers because they involve the squared differences from the mean. Outliers increase these squared differences, leading to higher variance and standard deviation."
   ]
  },
  {
   "cell_type": "code",
   "execution_count": 44,
   "metadata": {},
   "outputs": [],
   "source": [
    "data1 = [10,12,14,16,18]\n",
    "data1_with_outlier = [10,12,14,16,100]"
   ]
  },
  {
   "cell_type": "code",
   "execution_count": 45,
   "metadata": {},
   "outputs": [
    {
     "name": "stdout",
     "output_type": "stream",
     "text": [
      "Without Outlier : [10, 12, 14, 16, 18]\n",
      "Mean : 14.0\n",
      "Median : 14.0\n",
      "Mode : 10\n",
      "Range : 8\n",
      "Variance : 8.0\n",
      "Standard Deviation : 2.8284271247461903\n",
      "-------------------------------------------------------------------------------------------------\n",
      "\n",
      "With Outlier : [10, 12, 14, 16, 100]\n",
      "Mean : 30.4\n",
      "Median : 14.0\n",
      "Mode : 10\n",
      "Range : 90\n",
      "Variance : 1215.0399999999997\n",
      "Standard Deviation : 34.857423886454946\n"
     ]
    }
   ],
   "source": [
    "print(f\"Without Outlier : {data1}\")\n",
    "print(f\"Mean : {np.mean(data1)}\")\n",
    "print(f\"Median : {np.median(data1)}\")\n",
    "print(f\"Mode : {statistics.mode(data1)}\")\n",
    "print(f\"Range : {max(data1) - min(data1)}\")\n",
    "print(f\"Variance : {np.var(data1)}\")\n",
    "print(f\"Standard Deviation : {np.std(data1)}\")\n",
    "\n",
    "print(\"-------------------------------------------------------------------------------------------------\\n\")\n",
    "\n",
    "print(f\"With Outlier : {data1_with_outlier}\")\n",
    "print(f\"Mean : {np.mean(data1_with_outlier)}\")\n",
    "print(f\"Median : {np.median(data1_with_outlier)}\")\n",
    "print(f\"Mode : {statistics.mode(data1_with_outlier)}\")\n",
    "print(f\"Range : {max(data1_with_outlier) - min(data1_with_outlier)}\")\n",
    "print(f\"Variance : {np.var(data1_with_outlier)}\")\n",
    "print(f\"Standard Deviation : {np.std(data1_with_outlier)}\")\n"
   ]
  },
  {
   "cell_type": "code",
   "execution_count": null,
   "metadata": {},
   "outputs": [],
   "source": []
  }
 ],
 "metadata": {
  "kernelspec": {
   "display_name": "Python 3",
   "language": "python",
   "name": "python3"
  },
  "language_info": {
   "codemirror_mode": {
    "name": "ipython",
    "version": 3
   },
   "file_extension": ".py",
   "mimetype": "text/x-python",
   "name": "python",
   "nbconvert_exporter": "python",
   "pygments_lexer": "ipython3",
   "version": "3.12.0"
  }
 },
 "nbformat": 4,
 "nbformat_minor": 2
}
