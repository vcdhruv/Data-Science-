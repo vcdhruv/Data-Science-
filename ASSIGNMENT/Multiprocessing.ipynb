{
 "cells": [
  {
   "cell_type": "code",
   "execution_count": 8,
   "id": "0a591191-749f-4a56-9182-bf9d895ed5dd",
   "metadata": {},
   "outputs": [],
   "source": [
    "# Q1. What is multiprocessing in python? Why is it useful?\n",
    "import multiprocessing"
   ]
  },
  {
   "cell_type": "code",
   "execution_count": 2,
   "id": "918fcd70-288d-42e9-8195-5fbfd89c8a93",
   "metadata": {},
   "outputs": [
    {
     "name": "stdout",
     "output_type": "stream",
     "text": [
      "Multiprocessing allows the execution of multiple tasks or programs concurrently by leveraging multiple CPU cores or processors on a system.\n"
     ]
    }
   ],
   "source": [
    "print(\"Multiprocessing allows the execution of multiple tasks or programs concurrently by leveraging multiple CPU cores or processors on a system.\")"
   ]
  },
  {
   "cell_type": "code",
   "execution_count": 3,
   "id": "80de7e22-8f4c-4ee6-bd48-ef26c7a43ad4",
   "metadata": {},
   "outputs": [
    {
     "name": "stdout",
     "output_type": "stream",
     "text": [
      "useful :\n",
      " \n",
      "Improved Performance\n",
      "Increased Throughput\n",
      "Resource Utilization\n",
      "Concurrency\n",
      "\n"
     ]
    }
   ],
   "source": [
    "print(\"useful :\")\n",
    "print(\"\"\" \n",
    "Improved Performance\n",
    "Increased Throughput\n",
    "Resource Utilization\n",
    "Concurrency\n",
    "\"\"\")"
   ]
  },
  {
   "cell_type": "code",
   "execution_count": 4,
   "id": "d11f577d-4026-4ed3-b341-a5cbcea049fd",
   "metadata": {},
   "outputs": [],
   "source": [
    "# Q2. What are the differences between multiprocessing and multithreading?"
   ]
  },
  {
   "cell_type": "code",
   "execution_count": 5,
   "id": "1fdfa97b-d72c-458d-b32f-21abc076129f",
   "metadata": {},
   "outputs": [
    {
     "name": "stdout",
     "output_type": "stream",
     "text": [
      "Key Differences Are:\n",
      "\n",
      "1.Multiprocessing involves running multiple processes simultaneously, where each process has its own memory space and runs independently. Multithreading, on the other hand, involves running multiple threads within a single process, which share the same memory space and can access shared data directly.\n",
      "\n",
      "2.In multiprocessing, each process has its own memory space, stack, and resources. This means that each process can have its own dedicated CPU core, allowing for true parallel execution. In multithreading, threads share the same memory space, stack, and resources of the parent process, and they are scheduled by the operating system to run concurrently on a single CPU core.\n",
      "\n",
      "3.Communication and Synchronization\n",
      "\n",
      "4.Overhead and Performance\n",
      "\n"
     ]
    }
   ],
   "source": [
    "print(\"Key Differences Are:\")\n",
    "print(\"\"\"\n",
    "1.Multiprocessing involves running multiple processes simultaneously, where each process has its own memory space and runs independently. Multithreading, on the other hand, involves running multiple threads within a single process, which share the same memory space and can access shared data directly.\n",
    "\n",
    "2.In multiprocessing, each process has its own memory space, stack, and resources. This means that each process can have its own dedicated CPU core, allowing for true parallel execution. In multithreading, threads share the same memory space, stack, and resources of the parent process, and they are scheduled by the operating system to run concurrently on a single CPU core.\n",
    "\n",
    "3.Communication and Synchronization\n",
    "\n",
    "4.Overhead and Performance\n",
    "\"\"\")"
   ]
  },
  {
   "cell_type": "code",
   "execution_count": 6,
   "id": "f8104dec-774e-4776-b546-1fb5848063b1",
   "metadata": {},
   "outputs": [],
   "source": [
    "# Q3. Write a python code to create a process using the multiprocessing module."
   ]
  },
  {
   "cell_type": "code",
   "execution_count": 9,
   "id": "e38fbe34-9a8a-4898-b155-09f701281366",
   "metadata": {},
   "outputs": [
    {
     "name": "stdout",
     "output_type": "stream",
     "text": [
      "Hello!!!\n"
     ]
    }
   ],
   "source": [
    "def test():\n",
    "    print(\"Hello!!!\")\n",
    "    \n",
    "if __name__ == '__main__':\n",
    "    m = multiprocessing.Process(target=test)\n",
    "    m.start()\n",
    "    m.join()"
   ]
  },
  {
   "cell_type": "code",
   "execution_count": 10,
   "id": "d8342a0f-d1f6-48c2-bc83-54418085a793",
   "metadata": {},
   "outputs": [],
   "source": [
    "# Q4. What is a multiprocessing pool in python? Why is it used?"
   ]
  },
  {
   "cell_type": "code",
   "execution_count": 12,
   "id": "b3c75e10-7d23-48be-aab1-0626a83f0e63",
   "metadata": {},
   "outputs": [
    {
     "name": "stdout",
     "output_type": "stream",
     "text": [
      "a multiprocessing pool is a mechanism provided by the multiprocessing module to manage a pool of worker processes. It allows for parallel execution of tasks by distributing the workload across multiple processes.\n"
     ]
    }
   ],
   "source": [
    "print(\"a multiprocessing pool is a mechanism provided by the multiprocessing module to manage a pool of worker processes. It allows for parallel execution of tasks by distributing the workload across multiple processes.\")"
   ]
  },
  {
   "cell_type": "code",
   "execution_count": 14,
   "id": "c09ffbe6-7333-4e2c-95db-cfb35c017448",
   "metadata": {},
   "outputs": [
    {
     "name": "stdout",
     "output_type": "stream",
     "text": [
      "It is used in:\n",
      "\n",
      "Parallel Execution\n",
      "Utilizing CPU Cores\n",
      "Result Retrieval\n",
      "\n"
     ]
    }
   ],
   "source": [
    "print(\"It is used in:\")\n",
    "print(\"\"\"\n",
    "Parallel Execution\n",
    "Utilizing CPU Cores\n",
    "Result Retrieval\n",
    "\"\"\")"
   ]
  },
  {
   "cell_type": "code",
   "execution_count": 15,
   "id": "40fa2593-f463-4806-8afd-711b03a9c8e9",
   "metadata": {},
   "outputs": [],
   "source": [
    "# Q5. How can we create a pool of worker processes in python using the multiprocessing module?"
   ]
  },
  {
   "cell_type": "code",
   "execution_count": 16,
   "id": "5bc49ba2-dbb5-4790-8e6c-41d0c2c090cd",
   "metadata": {},
   "outputs": [
    {
     "name": "stdout",
     "output_type": "stream",
     "text": [
      "[1, 8, 27, 64, 125, 216]\n"
     ]
    }
   ],
   "source": [
    "def cube(n):\n",
    "    return n**3\n",
    "\n",
    "if __name__ == '__main__':\n",
    "    with multiprocessing.Pool(processes=3) as pool:\n",
    "        result = pool.map(cube,[1,2,3,4,5,6])\n",
    "        print(result)"
   ]
  },
  {
   "cell_type": "code",
   "execution_count": 17,
   "id": "6d4d0af1-d850-4e4a-8b4a-72c4b3f1b58d",
   "metadata": {},
   "outputs": [],
   "source": [
    "# Q6. Write a python program to create 4 processes, each process should print a different number using the\n",
    "# multiprocessing module in python."
   ]
  },
  {
   "cell_type": "code",
   "execution_count": 23,
   "id": "a35dfa29-2db0-4be4-b5ca-243c80390ea8",
   "metadata": {},
   "outputs": [
    {
     "ename": "TypeError",
     "evalue": "'int' object is not iterable",
     "output_type": "error",
     "traceback": [
      "\u001b[0;31m---------------------------------------------------------------------------\u001b[0m",
      "\u001b[0;31mTypeError\u001b[0m                                 Traceback (most recent call last)",
      "Cell \u001b[0;32mIn[26], line 21\u001b[0m\n\u001b[1;32m     19\u001b[0m index\u001b[38;5;241m=\u001b[39m\u001b[38;5;241m0\u001b[39m\n\u001b[1;32m     20\u001b[0m \u001b[38;5;28;01mfor\u001b[39;00m i \u001b[38;5;129;01min\u001b[39;00m n:\n\u001b[0;32m---> 21\u001b[0m     m1 \u001b[38;5;241m=\u001b[39m \u001b[43mmultiprocessing\u001b[49m\u001b[38;5;241;43m.\u001b[39;49m\u001b[43mProcess\u001b[49m\u001b[43m(\u001b[49m\u001b[43mtarget\u001b[49m\u001b[38;5;241;43m=\u001b[39;49m\u001b[43mprint_number\u001b[49m\u001b[43m,\u001b[49m\u001b[43margs\u001b[49m\u001b[38;5;241;43m=\u001b[39;49m\u001b[43m(\u001b[49m\u001b[43mn\u001b[49m\u001b[43m[\u001b[49m\u001b[43mindex\u001b[49m\u001b[43m]\u001b[49m\u001b[43m)\u001b[49m\u001b[43m)\u001b[49m\n\u001b[1;32m     22\u001b[0m     index\u001b[38;5;241m+\u001b[39m\u001b[38;5;241m=\u001b[39m\u001b[38;5;241m1\u001b[39m\n\u001b[1;32m     23\u001b[0m     m1\u001b[38;5;241m.\u001b[39mstart()\n",
      "File \u001b[0;32m/opt/conda/lib/python3.10/multiprocessing/process.py:91\u001b[0m, in \u001b[0;36mBaseProcess.__init__\u001b[0;34m(self, group, target, name, args, kwargs, daemon)\u001b[0m\n\u001b[1;32m     89\u001b[0m \u001b[38;5;28mself\u001b[39m\u001b[38;5;241m.\u001b[39m_closed \u001b[38;5;241m=\u001b[39m \u001b[38;5;28;01mFalse\u001b[39;00m\n\u001b[1;32m     90\u001b[0m \u001b[38;5;28mself\u001b[39m\u001b[38;5;241m.\u001b[39m_target \u001b[38;5;241m=\u001b[39m target\n\u001b[0;32m---> 91\u001b[0m \u001b[38;5;28mself\u001b[39m\u001b[38;5;241m.\u001b[39m_args \u001b[38;5;241m=\u001b[39m \u001b[38;5;28;43mtuple\u001b[39;49m\u001b[43m(\u001b[49m\u001b[43margs\u001b[49m\u001b[43m)\u001b[49m\n\u001b[1;32m     92\u001b[0m \u001b[38;5;28mself\u001b[39m\u001b[38;5;241m.\u001b[39m_kwargs \u001b[38;5;241m=\u001b[39m \u001b[38;5;28mdict\u001b[39m(kwargs)\n\u001b[1;32m     93\u001b[0m \u001b[38;5;28mself\u001b[39m\u001b[38;5;241m.\u001b[39m_name \u001b[38;5;241m=\u001b[39m name \u001b[38;5;129;01mor\u001b[39;00m \u001b[38;5;28mtype\u001b[39m(\u001b[38;5;28mself\u001b[39m)\u001b[38;5;241m.\u001b[39m\u001b[38;5;18m__name__\u001b[39m \u001b[38;5;241m+\u001b[39m \u001b[38;5;124m'\u001b[39m\u001b[38;5;124m-\u001b[39m\u001b[38;5;124m'\u001b[39m \u001b[38;5;241m+\u001b[39m \\\n\u001b[1;32m     94\u001b[0m              \u001b[38;5;124m'\u001b[39m\u001b[38;5;124m:\u001b[39m\u001b[38;5;124m'\u001b[39m\u001b[38;5;241m.\u001b[39mjoin(\u001b[38;5;28mstr\u001b[39m(i) \u001b[38;5;28;01mfor\u001b[39;00m i \u001b[38;5;129;01min\u001b[39;00m \u001b[38;5;28mself\u001b[39m\u001b[38;5;241m.\u001b[39m_identity)\n",
      "\u001b[0;31mTypeError\u001b[0m: 'int' object is not iterable"
     ]
    }
   ],
   "source": [
    "def print_number(n):\n",
    "    print(\"Process {} prints : {} \".format(multiprocessing.current_process().name,n))\n",
    "\n",
    "if __name__ == '__main__':\n",
    "    n = [1,2,3,4]\n",
    "    m1 = multiprocessing.Process(target=print_number,args=(4,))\n",
    "    m1.start()\n",
    "    m1.join()\n",
    "    m2 = multiprocessing.Process(target=print_number,args=(5,))\n",
    "    m2.start()\n",
    "    m2.join()\n",
    "    m3 = multiprocessing.Process(target=print_number,args=(6,))\n",
    "    m3.start()\n",
    "    m3.join()\n",
    "    m4 = multiprocessing.Process(target=print_number,args=(7,))\n",
    "    m4.start()\n",
    "    m4.join()\n",
    "    \n",
    "    \n",
    "#     for i in n:\n",
    "#         m1 = multiprocessing.Process(target=print_number,args=(n,))\n",
    "#         process.append(m1)\n",
    "#         m1.start()\n",
    "        \n",
    "#     for i in process:\n",
    "#         i.join()"
   ]
  },
  {
   "cell_type": "code",
   "execution_count": null,
   "id": "e05e5611-9b4d-4c9e-9f7f-6ae9cddcae2e",
   "metadata": {},
   "outputs": [],
   "source": []
  }
 ],
 "metadata": {
  "kernelspec": {
   "display_name": "Python 3 (ipykernel)",
   "language": "python",
   "name": "python3"
  },
  "language_info": {
   "codemirror_mode": {
    "name": "ipython",
    "version": 3
   },
   "file_extension": ".py",
   "mimetype": "text/x-python",
   "name": "python",
   "nbconvert_exporter": "python",
   "pygments_lexer": "ipython3",
   "version": "3.10.8"
  }
 },
 "nbformat": 4,
 "nbformat_minor": 5
}
