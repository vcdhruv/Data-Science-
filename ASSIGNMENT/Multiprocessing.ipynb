{
 "cells": [
  {
   "cell_type": "code",
   "execution_count": 8,
   "id": "0a591191-749f-4a56-9182-bf9d895ed5dd",
   "metadata": {},
   "outputs": [],
   "source": [
    "# Q1. What is multiprocessing in python? Why is it useful?\n",
    "import multiprocessing"
   ]
  },
  {
   "cell_type": "code",
   "execution_count": 2,
   "id": "918fcd70-288d-42e9-8195-5fbfd89c8a93",
   "metadata": {},
   "outputs": [
    {
     "name": "stdout",
     "output_type": "stream",
     "text": [
      "Multiprocessing allows the execution of multiple tasks or programs concurrently by leveraging multiple CPU cores or processors on a system.\n"
     ]
    }
   ],
   "source": [
    "print(\"Multiprocessing allows the execution of multiple tasks or programs concurrently by leveraging multiple CPU cores or processors on a system.\")"
   ]
  },
  {
   "cell_type": "code",
   "execution_count": 3,
   "id": "80de7e22-8f4c-4ee6-bd48-ef26c7a43ad4",
   "metadata": {},
   "outputs": [
    {
     "name": "stdout",
     "output_type": "stream",
     "text": [
      "useful :\n",
      " \n",
      "Improved Performance\n",
      "Increased Throughput\n",
      "Resource Utilization\n",
      "Concurrency\n",
      "\n"
     ]
    }
   ],
   "source": [
    "print(\"useful :\")\n",
    "print(\"\"\" \n",
    "Improved Performance\n",
    "Increased Throughput\n",
    "Resource Utilization\n",
    "Concurrency\n",
    "\"\"\")"
   ]
  },
  {
   "cell_type": "code",
   "execution_count": 4,
   "id": "d11f577d-4026-4ed3-b341-a5cbcea049fd",
   "metadata": {},
   "outputs": [],
   "source": [
    "# Q2. What are the differences between multiprocessing and multithreading?"
   ]
  },
  {
   "cell_type": "code",
   "execution_count": 5,
   "id": "1fdfa97b-d72c-458d-b32f-21abc076129f",
   "metadata": {},
   "outputs": [
    {
     "name": "stdout",
     "output_type": "stream",
     "text": [
      "Key Differences Are:\n",
      "\n",
      "1.Multiprocessing involves running multiple processes simultaneously, where each process has its own memory space and runs independently. Multithreading, on the other hand, involves running multiple threads within a single process, which share the same memory space and can access shared data directly.\n",
      "\n",
      "2.In multiprocessing, each process has its own memory space, stack, and resources. This means that each process can have its own dedicated CPU core, allowing for true parallel execution. In multithreading, threads share the same memory space, stack, and resources of the parent process, and they are scheduled by the operating system to run concurrently on a single CPU core.\n",
      "\n",
      "3.Communication and Synchronization\n",
      "\n",
      "4.Overhead and Performance\n",
      "\n"
     ]
    }
   ],
   "source": [
    "print(\"Key Differences Are:\")\n",
    "print(\"\"\"\n",
    "1.Multiprocessing involves running multiple processes simultaneously, where each process has its own memory space and runs independently. Multithreading, on the other hand, involves running multiple threads within a single process, which share the same memory space and can access shared data directly.\n",
    "\n",
    "2.In multiprocessing, each process has its own memory space, stack, and resources. This means that each process can have its own dedicated CPU core, allowing for true parallel execution. In multithreading, threads share the same memory space, stack, and resources of the parent process, and they are scheduled by the operating system to run concurrently on a single CPU core.\n",
    "\n",
    "3.Communication and Synchronization\n",
    "\n",
    "4.Overhead and Performance\n",
    "\"\"\")"
   ]
  },
  {
   "cell_type": "code",
   "execution_count": 6,
   "id": "f8104dec-774e-4776-b546-1fb5848063b1",
   "metadata": {},
   "outputs": [],
   "source": [
    "# Q3. Write a python code to create a process using the multiprocessing module."
   ]
  },
  {
   "cell_type": "code",
   "execution_count": 9,
   "id": "e38fbe34-9a8a-4898-b155-09f701281366",
   "metadata": {},
   "outputs": [
    {
     "name": "stdout",
     "output_type": "stream",
     "text": [
      "Hello!!!\n"
     ]
    }
   ],
   "source": [
    "def test():\n",
    "    print(\"Hello!!!\")\n",
    "    \n",
    "if __name__ == '__main__':\n",
    "    m = multiprocessing.Process(target=test)\n",
    "    m.start()\n",
    "    m.join()"
   ]
  },
  {
   "cell_type": "code",
   "execution_count": 10,
   "id": "d8342a0f-d1f6-48c2-bc83-54418085a793",
   "metadata": {},
   "outputs": [],
   "source": [
    "# Q4. What is a multiprocessing pool in python? Why is it used?"
   ]
  },
  {
   "cell_type": "code",
   "execution_count": 12,
   "id": "b3c75e10-7d23-48be-aab1-0626a83f0e63",
   "metadata": {},
   "outputs": [
    {
     "name": "stdout",
     "output_type": "stream",
     "text": [
      "a multiprocessing pool is a mechanism provided by the multiprocessing module to manage a pool of worker processes. It allows for parallel execution of tasks by distributing the workload across multiple processes.\n"
     ]
    }
   ],
   "source": [
    "print(\"a multiprocessing pool is a mechanism provided by the multiprocessing module to manage a pool of worker processes. It allows for parallel execution of tasks by distributing the workload across multiple processes.\")"
   ]
  },
  {
   "cell_type": "code",
   "execution_count": 14,
   "id": "c09ffbe6-7333-4e2c-95db-cfb35c017448",
   "metadata": {},
   "outputs": [
    {
     "name": "stdout",
     "output_type": "stream",
     "text": [
      "It is used in:\n",
      "\n",
      "Parallel Execution\n",
      "Utilizing CPU Cores\n",
      "Result Retrieval\n",
      "\n"
     ]
    }
   ],
   "source": [
    "print(\"It is used in:\")\n",
    "print(\"\"\"\n",
    "Parallel Execution\n",
    "Utilizing CPU Cores\n",
    "Result Retrieval\n",
    "\"\"\")"
   ]
  },
  {
   "cell_type": "code",
   "execution_count": 15,
   "id": "40fa2593-f463-4806-8afd-711b03a9c8e9",
   "metadata": {},
   "outputs": [],
   "source": [
    "# Q5. How can we create a pool of worker processes in python using the multiprocessing module?"
   ]
  },
  {
   "cell_type": "code",
   "execution_count": 16,
   "id": "5bc49ba2-dbb5-4790-8e6c-41d0c2c090cd",
   "metadata": {},
   "outputs": [
    {
     "name": "stdout",
     "output_type": "stream",
     "text": [
      "[1, 8, 27, 64, 125, 216]\n"
     ]
    }
   ],
   "source": [
    "def cube(n):\n",
    "    return n**3\n",
    "\n",
    "if __name__ == '__main__':\n",
    "    with multiprocessing.Pool(processes=3) as pool:\n",
    "        result = pool.map(cube,[1,2,3,4,5,6])\n",
    "        print(result)"
   ]
  },
  {
   "cell_type": "code",
   "execution_count": 17,
   "id": "6d4d0af1-d850-4e4a-8b4a-72c4b3f1b58d",
   "metadata": {},
   "outputs": [],
   "source": [
    "# Q6. Write a python program to create 4 processes, each process should print a different number using the\n",
    "# multiprocessing module in python."
   ]
  },
  {
   "cell_type": "code",
   "execution_count": 28,
   "id": "e05e5611-9b4d-4c9e-9f7f-6ae9cddcae2e",
   "metadata": {},
   "outputs": [
    {
     "name": "stdout",
     "output_type": "stream",
     "text": [
      "Process-36 prints: 4\n",
      "Process-37 prints: 5\n",
      "Process-38 prints: 6\n",
      "Process-39 prints: 7\n"
     ]
    }
   ],
   "source": [
    "def print_number(n):\n",
    "    print(\"{} prints: {}\".format(multiprocessing.current_process().name, n))\n",
    "\n",
    "if __name__ == '__main__':\n",
    "    numbers = [4, 5, 6, 7]\n",
    "    processes = []\n",
    "\n",
    "    for number in numbers:\n",
    "        process = multiprocessing.Process(target=print_number, args=(number,))\n",
    "        processes.append(process)\n",
    "\n",
    "    for process in processes:\n",
    "        process.start()\n",
    "\n",
    "    for process in processes:\n",
    "        process.join()\n"
   ]
  },
  {
   "cell_type": "code",
   "execution_count": null,
   "id": "65f1cd22-a431-4d5f-9ed4-25c4f73e613d",
   "metadata": {},
   "outputs": [],
   "source": []
  }
 ],
 "metadata": {
  "kernelspec": {
   "display_name": "Python 3 (ipykernel)",
   "language": "python",
   "name": "python3"
  },
  "language_info": {
   "codemirror_mode": {
    "name": "ipython",
    "version": 3
   },
   "file_extension": ".py",
   "mimetype": "text/x-python",
   "name": "python",
   "nbconvert_exporter": "python",
   "pygments_lexer": "ipython3",
   "version": "3.10.8"
  }
 },
 "nbformat": 4,
 "nbformat_minor": 5
}
