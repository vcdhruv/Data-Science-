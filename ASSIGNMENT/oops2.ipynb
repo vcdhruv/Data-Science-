{
 "cells": [
  {
   "cell_type": "code",
   "execution_count": 1,
   "id": "51dc379d",
   "metadata": {},
   "outputs": [],
   "source": [
    "# Q1. Explain Class and Object with respect to Object-Oriented Programming. Give a suitable example."
   ]
  },
  {
   "cell_type": "code",
   "execution_count": 2,
   "id": "902579ab",
   "metadata": {},
   "outputs": [
    {
     "name": "stdout",
     "output_type": "stream",
     "text": [
      "class is a set of object which shares common characteristics/ behavior and common properties/ attributes.\n"
     ]
    }
   ],
   "source": [
    "print(\"class is a set of object which shares common characteristics/ behavior and common properties/ attributes.\")"
   ]
  },
  {
   "cell_type": "code",
   "execution_count": 3,
   "id": "75aedbee",
   "metadata": {},
   "outputs": [
    {
     "name": "stdout",
     "output_type": "stream",
     "text": [
      "object is an instance of class\n"
     ]
    }
   ],
   "source": [
    "print(\"object is an instance of class\")"
   ]
  },
  {
   "cell_type": "code",
   "execution_count": 4,
   "id": "ee822f50",
   "metadata": {},
   "outputs": [],
   "source": [
    "class Animals:\n",
    "    \n",
    "    def __init__(self,animal_name):\n",
    "        self.animal_name = animal_name\n",
    "        \n",
    "    def animal_name(self):\n",
    "        print(self.animal_name)"
   ]
  },
  {
   "cell_type": "code",
   "execution_count": 5,
   "id": "5c6c8897",
   "metadata": {},
   "outputs": [],
   "source": [
    "wolf = Animals(\"Wolf\")`"
   ]
  },
  {
   "cell_type": "code",
   "execution_count": 8,
   "id": "00ae4b07",
   "metadata": {},
   "outputs": [
    {
     "data": {
      "text/plain": [
       "'Wolf'"
      ]
     },
     "execution_count": 8,
     "metadata": {},
     "output_type": "execute_result"
    }
   ],
   "source": [
    "wolf.animal_name"
   ]
  },
  {
   "cell_type": "code",
   "execution_count": 12,
   "id": "ec863120",
   "metadata": {},
   "outputs": [],
   "source": [
    "cow = Animals(\"Cow\")"
   ]
  },
  {
   "cell_type": "code",
   "execution_count": 13,
   "id": "f0f5dfae",
   "metadata": {},
   "outputs": [
    {
     "data": {
      "text/plain": [
       "'Cow'"
      ]
     },
     "execution_count": 13,
     "metadata": {},
     "output_type": "execute_result"
    }
   ],
   "source": [
    "cow.animal_name"
   ]
  },
  {
   "cell_type": "code",
   "execution_count": 14,
   "id": "3b96696b",
   "metadata": {},
   "outputs": [],
   "source": [
    "# Q2. Name the four pillars of OOPs."
   ]
  },
  {
   "cell_type": "code",
   "execution_count": 15,
   "id": "8b97a2a3",
   "metadata": {},
   "outputs": [
    {
     "name": "stdout",
     "output_type": "stream",
     "text": [
      "POLYMORPHISM\n"
     ]
    }
   ],
   "source": [
    "print(\"POLYMORPHISM\")"
   ]
  },
  {
   "cell_type": "code",
   "execution_count": 16,
   "id": "8999e926",
   "metadata": {},
   "outputs": [
    {
     "name": "stdout",
     "output_type": "stream",
     "text": [
      "ENCAPSULATION\n"
     ]
    }
   ],
   "source": [
    "print(\"ENCAPSULATION\")"
   ]
  },
  {
   "cell_type": "code",
   "execution_count": 17,
   "id": "d9910c51",
   "metadata": {},
   "outputs": [
    {
     "name": "stdout",
     "output_type": "stream",
     "text": [
      "INHERITANCE\n"
     ]
    }
   ],
   "source": [
    "print(\"INHERITANCE\")"
   ]
  },
  {
   "cell_type": "code",
   "execution_count": 18,
   "id": "32f7bb6f",
   "metadata": {},
   "outputs": [
    {
     "name": "stdout",
     "output_type": "stream",
     "text": [
      "ABSTRACTION\n"
     ]
    }
   ],
   "source": [
    "print(\"ABSTRACTION\")"
   ]
  },
  {
   "cell_type": "code",
   "execution_count": 19,
   "id": "82215319",
   "metadata": {},
   "outputs": [],
   "source": [
    "# Q3. Explain why the __init__() function is used. Give a suitable example."
   ]
  },
  {
   "cell_type": "code",
   "execution_count": 20,
   "id": "0b1e46eb",
   "metadata": {},
   "outputs": [
    {
     "name": "stdout",
     "output_type": "stream",
     "text": [
      "__init__() is also called as constructor it is used to assign values when object is created\n"
     ]
    }
   ],
   "source": [
    "print(\"__init__() is also called as constructor it is used to assign values when object is created\")"
   ]
  },
  {
   "cell_type": "code",
   "execution_count": 21,
   "id": "e0b6c2be",
   "metadata": {},
   "outputs": [],
   "source": [
    "class College:\n",
    "    \n",
    "    def __init__(self,name,age):\n",
    "        self.name = name\n",
    "        self.age = age"
   ]
  },
  {
   "cell_type": "code",
   "execution_count": 22,
   "id": "a9e02c3c",
   "metadata": {},
   "outputs": [],
   "source": [
    "du = College(\"rohan\",21)"
   ]
  },
  {
   "cell_type": "code",
   "execution_count": 23,
   "id": "14e47ebd",
   "metadata": {},
   "outputs": [],
   "source": [
    "# Q4. Why self is used in OOPs?"
   ]
  },
  {
   "cell_type": "code",
   "execution_count": 24,
   "id": "b22bdcaa",
   "metadata": {},
   "outputs": [
    {
     "name": "stdout",
     "output_type": "stream",
     "text": [
      "self represents the instance of the class. By using the “self”  we can access the attributes and methods of the class in python. It binds the attributes with the given arguments.\n"
     ]
    }
   ],
   "source": [
    "print(\"self represents the instance of the class. By using the “self”  we can access the attributes and methods of the class in python. It binds the attributes with the given arguments.\")"
   ]
  },
  {
   "cell_type": "code",
   "execution_count": 25,
   "id": "1fa51e54",
   "metadata": {},
   "outputs": [],
   "source": [
    "# Q5. What is inheritance? Give an example for each type of inheritance."
   ]
  },
  {
   "cell_type": "code",
   "execution_count": 26,
   "id": "198dc4da",
   "metadata": {},
   "outputs": [
    {
     "name": "stdout",
     "output_type": "stream",
     "text": [
      "Inheritance is the capability of one class to derive or inherit the properties from another class.\n"
     ]
    }
   ],
   "source": [
    "print(\"Inheritance is the capability of one class to derive or inherit the properties from another class.\")"
   ]
  },
  {
   "cell_type": "code",
   "execution_count": 27,
   "id": "948ba5e4",
   "metadata": {},
   "outputs": [],
   "source": [
    "class A:\n",
    "    def __init__(self):\n",
    "        print(\"I'm the parent class\")"
   ]
  },
  {
   "cell_type": "code",
   "execution_count": 36,
   "id": "f10b578c",
   "metadata": {},
   "outputs": [],
   "source": [
    "class B(A):\n",
    "    def __init__(self):\n",
    "        super().__init__()\n",
    "        print(\"I'm the child class\")"
   ]
  },
  {
   "cell_type": "code",
   "execution_count": 37,
   "id": "0ea05b59",
   "metadata": {},
   "outputs": [
    {
     "name": "stdout",
     "output_type": "stream",
     "text": [
      "I'm the parent class\n",
      "I'm the child class\n"
     ]
    }
   ],
   "source": [
    "b = B()"
   ]
  },
  {
   "cell_type": "code",
   "execution_count": null,
   "id": "7259e052",
   "metadata": {},
   "outputs": [],
   "source": []
  }
 ],
 "metadata": {
  "kernelspec": {
   "display_name": "Python 3 (ipykernel)",
   "language": "python",
   "name": "python3"
  },
  "language_info": {
   "codemirror_mode": {
    "name": "ipython",
    "version": 3
   },
   "file_extension": ".py",
   "mimetype": "text/x-python",
   "name": "python",
   "nbconvert_exporter": "python",
   "pygments_lexer": "ipython3",
   "version": "3.9.13"
  }
 },
 "nbformat": 4,
 "nbformat_minor": 5
}
