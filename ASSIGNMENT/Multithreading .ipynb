{
 "cells": [
  {
   "cell_type": "code",
   "execution_count": 1,
   "id": "1eb1c559",
   "metadata": {},
   "outputs": [],
   "source": [
    "import threading"
   ]
  },
  {
   "cell_type": "code",
   "execution_count": 3,
   "id": "26f51160",
   "metadata": {},
   "outputs": [],
   "source": [
    "# Q:1 what is multithreading in python? hy is it used? Name the module used to handle threads in python"
   ]
  },
  {
   "cell_type": "code",
   "execution_count": 5,
   "id": "d560fb12",
   "metadata": {},
   "outputs": [
    {
     "name": "stdout",
     "output_type": "stream",
     "text": [
      "Multithreading refers to the ability of a program to concurrently execute multiple threads of control within a single process.\n"
     ]
    }
   ],
   "source": [
    "print(\"Multithreading refers to the ability of a program to concurrently execute multiple threads of control within a single process.\")"
   ]
  },
  {
   "cell_type": "code",
   "execution_count": 6,
   "id": "b08ab443",
   "metadata": {},
   "outputs": [
    {
     "name": "stdout",
     "output_type": "stream",
     "text": [
      "The module used to handle threads in Python is called threading\n"
     ]
    }
   ],
   "source": [
    "print(\"The module used to handle threads in Python is called threading\")"
   ]
  },
  {
   "cell_type": "code",
   "execution_count": 7,
   "id": "b0b50a72",
   "metadata": {},
   "outputs": [],
   "source": [
    "# Q.2 why threading module used? write the use of the following functions\n",
    "# activeCount\n",
    "# currentThread\n",
    "# enumerate"
   ]
  },
  {
   "cell_type": "code",
   "execution_count": 8,
   "id": "221ab7e7",
   "metadata": {},
   "outputs": [
    {
     "name": "stdout",
     "output_type": "stream",
     "text": [
      "The threading module in Python is used to handle threads and facilitate concurrent execution of multiple tasks within a single program.\n"
     ]
    }
   ],
   "source": [
    "print(\"The threading module in Python is used to handle threads and facilitate concurrent execution of multiple tasks within a single program.\")"
   ]
  },
  {
   "cell_type": "code",
   "execution_count": 9,
   "id": "bc731d6c",
   "metadata": {},
   "outputs": [],
   "source": [
    "# activeCount()"
   ]
  },
  {
   "cell_type": "code",
   "execution_count": 11,
   "id": "c639c4db",
   "metadata": {},
   "outputs": [
    {
     "name": "stdout",
     "output_type": "stream",
     "text": [
      "The activeCount() function is used to retrieve the number of Thread objects currently alive. It returns the count of all the active threads running in the program, including the main thread.\n"
     ]
    }
   ],
   "source": [
    "print(\"The activeCount() function is used to retrieve the number of Thread objects currently alive. It returns the count of all the active threads running in the program, including the main thread.\")"
   ]
  },
  {
   "cell_type": "code",
   "execution_count": 13,
   "id": "1aa83e48",
   "metadata": {},
   "outputs": [
    {
     "name": "stdout",
     "output_type": "stream",
     "text": [
      "Hello!!!\n",
      "Hello!!!\n",
      "Active Threads:6\n"
     ]
    }
   ],
   "source": [
    "def myfun():\n",
    "    print(\"Hello!!!\")\n",
    "    \n",
    "thread1 = threading.Thread(target=myfun)\n",
    "thread2 = threading.Thread(target=myfun)\n",
    "\n",
    "thread1.start()\n",
    "thread2.start()\n",
    "\n",
    "active_threads = threading.active_count()\n",
    "print(\"Active Threads:{}\".format(active_threads))"
   ]
  },
  {
   "cell_type": "code",
   "execution_count": 14,
   "id": "362b86b9",
   "metadata": {},
   "outputs": [],
   "source": [
    "# currentThread()"
   ]
  },
  {
   "cell_type": "code",
   "execution_count": 15,
   "id": "7165ea1a",
   "metadata": {},
   "outputs": [
    {
     "name": "stdout",
     "output_type": "stream",
     "text": [
      "The currentThread() function returns the Thread object corresponding to the current thread of execution.\n"
     ]
    }
   ],
   "source": [
    "print(\"The currentThread() function returns the Thread object corresponding to the current thread of execution.\")"
   ]
  },
  {
   "cell_type": "code",
   "execution_count": 16,
   "id": "8fdda59e",
   "metadata": {},
   "outputs": [
    {
     "name": "stdout",
     "output_type": "stream",
     "text": [
      "current thread name: Thread-7\n"
     ]
    }
   ],
   "source": [
    "def fun():\n",
    "    current_thread = threading.current_thread()\n",
    "    print(\"current thread name: {}\".format(current_thread.name))\n",
    "    \n",
    "thread = threading.Thread(target=fun)\n",
    "thread.start()\n"
   ]
  },
  {
   "cell_type": "code",
   "execution_count": 17,
   "id": "4361de01",
   "metadata": {},
   "outputs": [],
   "source": [
    "# enumerate()"
   ]
  },
  {
   "cell_type": "code",
   "execution_count": 18,
   "id": "b4591117",
   "metadata": {},
   "outputs": [
    {
     "name": "stdout",
     "output_type": "stream",
     "text": [
      "The enumerate() function returns a list of all Thread objects active in the program. It provides a way to retrieve all the active threads, including the main thread, as a list.\n"
     ]
    }
   ],
   "source": [
    "print(\"The enumerate() function returns a list of all Thread objects active in the program. It provides a way to retrieve all the active threads, including the main thread, as a list.\")"
   ]
  },
  {
   "cell_type": "code",
   "execution_count": 22,
   "id": "f7ddf291",
   "metadata": {},
   "outputs": [
    {
     "name": "stdout",
     "output_type": "stream",
     "text": [
      "Hello!!!\n",
      "Hello!!!\n",
      "Active Threads:[<_MainThread(MainThread, started 26788)>, <Thread(IOPub, started daemon 25944)>, <Heartbeat(Heartbeat, started daemon 25828)>, <ControlThread(Control, started daemon 25400)>, <HistorySavingThread(IPythonHistorySavingThread, started 5192)>, <ParentPollerWindows(Thread-4, started daemon 25808)>]\n"
     ]
    }
   ],
   "source": [
    "def fun1():\n",
    "    print(\"Hello World\")\n",
    "    \n",
    "thread01 = threading.Thread(target=myfun)\n",
    "thread02 = threading.Thread(target=myfun)\n",
    "\n",
    "thread01.start()\n",
    "thread02.start()\n",
    "\n",
    "active_threads = threading.enumerate()\n",
    "print(\"Active Threads:{}\".format(active_threads))"
   ]
  },
  {
   "cell_type": "code",
   "execution_count": 23,
   "id": "f039685f",
   "metadata": {},
   "outputs": [],
   "source": [
    "# Q.3 Explain the following functions\n",
    "#  run\n",
    "#  start\n",
    "#  join\n",
    "#  isAlive"
   ]
  },
  {
   "cell_type": "code",
   "execution_count": 24,
   "id": "9611d429",
   "metadata": {},
   "outputs": [],
   "source": [
    "# run()"
   ]
  },
  {
   "cell_type": "code",
   "execution_count": 25,
   "id": "1613d0f0",
   "metadata": {},
   "outputs": [
    {
     "name": "stdout",
     "output_type": "stream",
     "text": [
      "The run() method is responsible for defining the behavior of a thread when it is executed.\n"
     ]
    }
   ],
   "source": [
    "print(\"The run() method is responsible for defining the behavior of a thread when it is executed.\")"
   ]
  },
  {
   "cell_type": "code",
   "execution_count": 2,
   "id": "42ed21c7",
   "metadata": {},
   "outputs": [
    {
     "name": "stdout",
     "output_type": "stream",
     "text": [
      "The run() method is called internally when you start a thread using the start() method.\n"
     ]
    }
   ],
   "source": [
    "print(\"The run() method is called internally when you start a thread using the start() method.\")"
   ]
  },
  {
   "cell_type": "code",
   "execution_count": 4,
   "id": "739225bb",
   "metadata": {},
   "outputs": [
    {
     "name": "stdout",
     "output_type": "stream",
     "text": [
      "thread is running\n"
     ]
    }
   ],
   "source": [
    "class MyThread(threading.Thread):\n",
    "    def run(self):\n",
    "        print(\"thread is running\")\n",
    "        \n",
    "my_thread = MyThread()\n",
    "\n",
    "my_thread.start()"
   ]
  },
  {
   "cell_type": "code",
   "execution_count": 6,
   "id": "03f2a531",
   "metadata": {},
   "outputs": [],
   "source": [
    "# start()"
   ]
  },
  {
   "cell_type": "code",
   "execution_count": 8,
   "id": "a9a173fe",
   "metadata": {},
   "outputs": [
    {
     "name": "stdout",
     "output_type": "stream",
     "text": [
      "start() method is used to begin the execution of a Thread object.\n"
     ]
    }
   ],
   "source": [
    "print(\"start() method is used to begin the execution of a Thread object.\")"
   ]
  },
  {
   "cell_type": "code",
   "execution_count": 10,
   "id": "6cbb24bf",
   "metadata": {},
   "outputs": [
    {
     "name": "stdout",
     "output_type": "stream",
     "text": [
      "thread 1 : 0\n",
      "thread 1 : 1\n",
      "thread 1 : 2\n",
      "thread 1 : 3\n",
      "thread 1 : 4\n",
      "thread 1 : 5\n",
      "thread 1 : 6\n",
      "thread 1 : 7\n",
      "thread 1 : 8\n",
      "thread 1 : 9\n",
      "thread 2 : a\n",
      "thread 2 : b\n",
      "thread 2 : c\n",
      "thread 2 : d\n",
      "thread 2 : e\n",
      "thread 2 : f\n",
      "thread 2 : g\n",
      "thread 2 : h\n",
      "thread 2 : i\n",
      "thread 2 : j\n"
     ]
    }
   ],
   "source": [
    "def print_numbers():\n",
    "    for i in range(10):\n",
    "        print(\"thread 1 : {}\".format(i))\n",
    "def print_letters():\n",
    "    for i in [\"a\",\"b\",\"c\",\"d\",\"e\",\"f\",\"g\",\"h\",\"i\",\"j\"]:\n",
    "        print(\"thread 2 : {}\".format(i))\n",
    "t1 = threading.Thread(target=print_numbers)\n",
    "t2 = threading.Thread(target=print_letters)\n",
    "t1.start()\n",
    "t2.start()"
   ]
  },
  {
   "cell_type": "code",
   "execution_count": 11,
   "id": "9bf459cc",
   "metadata": {},
   "outputs": [],
   "source": [
    "# join()"
   ]
  },
  {
   "cell_type": "code",
   "execution_count": 12,
   "id": "4c22276b",
   "metadata": {},
   "outputs": [
    {
     "name": "stdout",
     "output_type": "stream",
     "text": [
      "join() method allows one thread to wait for another thread to complete its execution.\n"
     ]
    }
   ],
   "source": [
    "print(\"join() method allows one thread to wait for another thread to complete its execution.\")"
   ]
  },
  {
   "cell_type": "code",
   "execution_count": 13,
   "id": "fba5b0f0",
   "metadata": {},
   "outputs": [],
   "source": [
    "import time"
   ]
  },
  {
   "cell_type": "code",
   "execution_count": 16,
   "id": "c463c486",
   "metadata": {},
   "outputs": [
    {
     "name": "stdout",
     "output_type": "stream",
     "text": [
      "Journey Started\n",
      "Journey Finished\n"
     ]
    }
   ],
   "source": [
    "def fun2():\n",
    "    print(\"Journey Started\")\n",
    "    time.sleep(5)\n",
    "    print(\"Journey Finished\")\n",
    "    \n",
    "t3 = threading.Thread(target=fun2)\n",
    "\n",
    "t3.start()\n",
    "t3.join()"
   ]
  },
  {
   "cell_type": "code",
   "execution_count": 17,
   "id": "59aab229",
   "metadata": {},
   "outputs": [],
   "source": [
    "# isAlive()"
   ]
  },
  {
   "cell_type": "code",
   "execution_count": 18,
   "id": "ff980218",
   "metadata": {},
   "outputs": [
    {
     "name": "stdout",
     "output_type": "stream",
     "text": [
      "is_alive() function is used to determine whether a thread is currently alive or not.\n"
     ]
    }
   ],
   "source": [
    "print(\"is_alive() function is used to determine whether a thread is currently alive or not.\")"
   ]
  },
  {
   "cell_type": "code",
   "execution_count": 19,
   "id": "e818cc22",
   "metadata": {},
   "outputs": [
    {
     "name": "stdout",
     "output_type": "stream",
     "text": [
      "Before starting, is_alive(): False\n",
      "After starting, is_alive(): True\n",
      "Thread execution complete.\n",
      "After joining, is_alive(): False\n"
     ]
    }
   ],
   "source": [
    "def fun3():\n",
    "    time.sleep(2)\n",
    "    print(\"Thread execution complete.\")\n",
    "\n",
    "thread = threading.Thread(target=fun3)\n",
    "\n",
    "print(\"Before starting, is_alive():\", thread.is_alive())\n",
    "\n",
    "thread.start()\n",
    "\n",
    "print(\"After starting, is_alive():\", thread.is_alive())\n",
    "\n",
    "thread.join()\n",
    "\n",
    "print(\"After joining, is_alive():\", thread.is_alive())"
   ]
  },
  {
   "cell_type": "code",
   "execution_count": 20,
   "id": "f039e50e",
   "metadata": {},
   "outputs": [],
   "source": [
    "# Q:4 write a python program to create two threads. Thread one must print the list of squares and thread\n",
    "# two must print the list of cubes"
   ]
  },
  {
   "cell_type": "code",
   "execution_count": 54,
   "id": "669cbd3d",
   "metadata": {},
   "outputs": [],
   "source": [
    "l = [1,2,3,4]"
   ]
  },
  {
   "cell_type": "code",
   "execution_count": 55,
   "id": "3d04e140",
   "metadata": {},
   "outputs": [],
   "source": [
    "square_ans = []\n",
    "def square(n):\n",
    "    for i in n:\n",
    "        square_ans.append(i**2)\n",
    "    return square_ans"
   ]
  },
  {
   "cell_type": "code",
   "execution_count": 56,
   "id": "6bd97d0d",
   "metadata": {},
   "outputs": [],
   "source": [
    "cube_ans=[]\n",
    "def cube(n):\n",
    "    for i in n:\n",
    "        cube_ans.append(i**3)\n",
    "    return cube_ans"
   ]
  },
  {
   "cell_type": "code",
   "execution_count": 57,
   "id": "9501b0bb",
   "metadata": {},
   "outputs": [],
   "source": [
    "thread_01 = threading.Thread(target=square,args=(l,))"
   ]
  },
  {
   "cell_type": "code",
   "execution_count": 58,
   "id": "b35ebc31",
   "metadata": {},
   "outputs": [],
   "source": [
    "thread_02 = threading.Thread(target=cube,args=(l,))"
   ]
  },
  {
   "cell_type": "code",
   "execution_count": 59,
   "id": "88492f5e",
   "metadata": {},
   "outputs": [],
   "source": [
    "thread_01.start()"
   ]
  },
  {
   "cell_type": "code",
   "execution_count": 60,
   "id": "28c389f2",
   "metadata": {},
   "outputs": [],
   "source": [
    "thread_02.start()"
   ]
  },
  {
   "cell_type": "code",
   "execution_count": 61,
   "id": "a60fbcac",
   "metadata": {},
   "outputs": [],
   "source": [
    "thread_01.join()"
   ]
  },
  {
   "cell_type": "code",
   "execution_count": 62,
   "id": "882a029c",
   "metadata": {},
   "outputs": [],
   "source": [
    "thread_02.join()"
   ]
  },
  {
   "cell_type": "code",
   "execution_count": 63,
   "id": "95fd6c1e",
   "metadata": {},
   "outputs": [
    {
     "name": "stdout",
     "output_type": "stream",
     "text": [
      "[1, 4, 9, 16]\n"
     ]
    }
   ],
   "source": [
    "print(square_ans)"
   ]
  },
  {
   "cell_type": "code",
   "execution_count": 64,
   "id": "80425b90",
   "metadata": {},
   "outputs": [
    {
     "name": "stdout",
     "output_type": "stream",
     "text": [
      "[1, 8, 27, 64]\n"
     ]
    }
   ],
   "source": [
    "print(cube_ans)"
   ]
  },
  {
   "cell_type": "code",
   "execution_count": 65,
   "id": "8dd7a778",
   "metadata": {},
   "outputs": [],
   "source": [
    "# 5. State advantages and disadvantages of multithreading"
   ]
  },
  {
   "cell_type": "code",
   "execution_count": 69,
   "id": "9606d48d",
   "metadata": {},
   "outputs": [
    {
     "name": "stdout",
     "output_type": "stream",
     "text": [
      "Advantages:\n",
      "\n",
      "Concurrency and Parallelism\n",
      "Responsiveness and User Experience\n",
      "Resource Sharing\n",
      "Modularity and Code Organization\n",
      "\n",
      "Disadvantages:\n",
      "\n",
      "Complexity and Difficult Debugging\n",
      "Synchronization Overhead\n",
      "Increased Memory Usage\n",
      "Limited Python GIL\n",
      "\n"
     ]
    }
   ],
   "source": [
    "print(\"Advantages:\")\n",
    "print(\"\"\"\n",
    "Concurrency and Parallelism\n",
    "Responsiveness and User Experience\n",
    "Resource Sharing\n",
    "Modularity and Code Organization\n",
    "\"\"\")\n",
    "\n",
    "print(\"Disadvantages:\")\n",
    "print(\"\"\"\n",
    "Complexity and Difficult Debugging\n",
    "Synchronization Overhead\n",
    "Increased Memory Usage\n",
    "Limited Python GIL\n",
    "\"\"\")"
   ]
  },
  {
   "cell_type": "code",
   "execution_count": 70,
   "id": "4236eb46",
   "metadata": {},
   "outputs": [],
   "source": [
    "# 6. Explain deadlocks and race conditions."
   ]
  },
  {
   "cell_type": "code",
   "execution_count": 71,
   "id": "55afc9c7",
   "metadata": {},
   "outputs": [
    {
     "name": "stdout",
     "output_type": "stream",
     "text": [
      "Deadlock is a situation that occurs in concurrent programming when two or more threads or processes are unable to proceed because each is waiting for the other to release a resource or fulfill a condition, resulting in a stalemate\n"
     ]
    }
   ],
   "source": [
    "print(\"Deadlock is a situation that occurs in concurrent programming when two or more threads or processes are unable to proceed because each is waiting for the other to release a resource or fulfill a condition, resulting in a stalemate\")"
   ]
  },
  {
   "cell_type": "code",
   "execution_count": 72,
   "id": "dc3b3846",
   "metadata": {},
   "outputs": [
    {
     "name": "stdout",
     "output_type": "stream",
     "text": [
      "A race condition occurs in concurrent programming when multiple threads or processes access shared data simultaneously, and the final outcome of the program depends on the order or timing of their execution.\n"
     ]
    }
   ],
   "source": [
    "print(\"A race condition occurs in concurrent programming when multiple threads or processes access shared data simultaneously, and the final outcome of the program depends on the order or timing of their execution.\")"
   ]
  },
  {
   "cell_type": "code",
   "execution_count": null,
   "id": "73f2204b",
   "metadata": {},
   "outputs": [],
   "source": []
  }
 ],
 "metadata": {
  "kernelspec": {
   "display_name": "Python 3 (ipykernel)",
   "language": "python",
   "name": "python3"
  },
  "language_info": {
   "codemirror_mode": {
    "name": "ipython",
    "version": 3
   },
   "file_extension": ".py",
   "mimetype": "text/x-python",
   "name": "python",
   "nbconvert_exporter": "python",
   "pygments_lexer": "ipython3",
   "version": "3.9.13"
  }
 },
 "nbformat": 4,
 "nbformat_minor": 5
}
