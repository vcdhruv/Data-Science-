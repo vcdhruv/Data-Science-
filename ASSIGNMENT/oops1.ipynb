{
 "cells": [
  {
   "cell_type": "code",
   "execution_count": 1,
   "id": "9334b467",
   "metadata": {},
   "outputs": [],
   "source": [
    "# Q1, Create a vehicle class with an init method having instance variables as name_of_vehicle, max_speed\n",
    "# and average_of_vehicle."
   ]
  },
  {
   "cell_type": "code",
   "execution_count": 2,
   "id": "58fae12c",
   "metadata": {},
   "outputs": [],
   "source": [
    "class Vehicle:\n",
    "    def __init__(self,name_of_vehicle,max_speed,average_of_vehicle):\n",
    "        self.name_of_vehicle = name_of_vehicle\n",
    "        self.max_speed = max_speed\n",
    "        self.average_of_vehicle = average_of_vehicle\n",
    "        \n",
    "    def return_details(self):\n",
    "        print(self.name_of_vehicle,self.max_speed,self.average_of_vehicle)"
   ]
  },
  {
   "cell_type": "code",
   "execution_count": 3,
   "id": "2526cd60",
   "metadata": {},
   "outputs": [],
   "source": [
    "v = Vehicle(\"G-Wagon\",\"210 km/hr\",\"76 miles per hours\")"
   ]
  },
  {
   "cell_type": "code",
   "execution_count": 4,
   "id": "2861c6ad",
   "metadata": {},
   "outputs": [
    {
     "name": "stdout",
     "output_type": "stream",
     "text": [
      "G-Wagon 210 km/hr 76 miles per hours\n"
     ]
    }
   ],
   "source": [
    "v.return_details()"
   ]
  },
  {
   "cell_type": "code",
   "execution_count": 5,
   "id": "9c894828",
   "metadata": {},
   "outputs": [],
   "source": [
    "# Q2. Create a child class car from the vehicle class created in Que 1, which will inherit the vehicle class.\n",
    "# Create a method named seating_capacity which takes capacity as an argument and returns the name of\n",
    "# the vehicle and its seating capacity."
   ]
  },
  {
   "cell_type": "code",
   "execution_count": 13,
   "id": "0d3b0815",
   "metadata": {},
   "outputs": [],
   "source": [
    "class Child_vehicle(Vehicle):\n",
    "    \n",
    "    def seating_capacity(self,capacity):\n",
    "        print(self.name_of_vehicle,capacity)"
   ]
  },
  {
   "cell_type": "code",
   "execution_count": 14,
   "id": "17f97d7d",
   "metadata": {},
   "outputs": [],
   "source": [
    "cv = Child_vehicle(\"G-Wagon\",\"210 km/hr\",\"76 miles per hours\")"
   ]
  },
  {
   "cell_type": "code",
   "execution_count": 15,
   "id": "d1f0add1",
   "metadata": {},
   "outputs": [
    {
     "name": "stdout",
     "output_type": "stream",
     "text": [
      "G-Wagon 7 seater\n"
     ]
    }
   ],
   "source": [
    "cv.seating_capacity(\"7 seater\")"
   ]
  },
  {
   "cell_type": "code",
   "execution_count": 16,
   "id": "70fae958",
   "metadata": {},
   "outputs": [],
   "source": [
    "# Q3. What is multiple inheritance? Write a python code to demonstrate multiple inheritance."
   ]
  },
  {
   "cell_type": "code",
   "execution_count": 17,
   "id": "974aa3e5",
   "metadata": {},
   "outputs": [
    {
     "name": "stdout",
     "output_type": "stream",
     "text": [
      "a class or an object inherits characteristics and properties from more than one parent class or object\n"
     ]
    }
   ],
   "source": [
    "print(\"a class or an object inherits characteristics and properties from more than one parent class or object\")"
   ]
  },
  {
   "cell_type": "code",
   "execution_count": 19,
   "id": "1480377f",
   "metadata": {},
   "outputs": [],
   "source": [
    "class A:\n",
    "    def class_a(self):\n",
    "        print(\"class A\")"
   ]
  },
  {
   "cell_type": "code",
   "execution_count": 20,
   "id": "319ab203",
   "metadata": {},
   "outputs": [],
   "source": [
    "class B:\n",
    "    def class_b(self):\n",
    "        print(\"class B\")"
   ]
  },
  {
   "cell_type": "code",
   "execution_count": 21,
   "id": "1346a724",
   "metadata": {},
   "outputs": [],
   "source": [
    "class C(A,B):\n",
    "    pass"
   ]
  },
  {
   "cell_type": "code",
   "execution_count": 22,
   "id": "d60467b6",
   "metadata": {},
   "outputs": [],
   "source": [
    "c = C()"
   ]
  },
  {
   "cell_type": "code",
   "execution_count": 23,
   "id": "86cf3ca2",
   "metadata": {},
   "outputs": [
    {
     "name": "stdout",
     "output_type": "stream",
     "text": [
      "class A\n"
     ]
    }
   ],
   "source": [
    "c.class_a()"
   ]
  },
  {
   "cell_type": "code",
   "execution_count": 24,
   "id": "fc41ea28",
   "metadata": {},
   "outputs": [
    {
     "name": "stdout",
     "output_type": "stream",
     "text": [
      "class B\n"
     ]
    }
   ],
   "source": [
    "c.class_b()"
   ]
  },
  {
   "cell_type": "code",
   "execution_count": 25,
   "id": "f5282fed",
   "metadata": {},
   "outputs": [],
   "source": [
    "# Q4. What are getter and setter in python? Create a class and create a getter and a setter method in this\n",
    "# class."
   ]
  },
  {
   "cell_type": "code",
   "execution_count": 26,
   "id": "af4db997",
   "metadata": {},
   "outputs": [
    {
     "name": "stdout",
     "output_type": "stream",
     "text": [
      "getters & setters are used to add validation logic around getting and setting a value.\n"
     ]
    }
   ],
   "source": [
    "print(\"getters & setters are used to add validation logic around getting and setting a value.\")"
   ]
  },
  {
   "cell_type": "code",
   "execution_count": 49,
   "id": "c1ee57ff",
   "metadata": {},
   "outputs": [],
   "source": [
    "class School:\n",
    "    \n",
    "    def __init__(self,roll_no,paper):\n",
    "        self.roll_no = roll_no\n",
    "        self.__paper = paper\n",
    "        \n",
    "    @property\n",
    "    def get_paper(self):\n",
    "        return self.__paper\n",
    "    \n",
    "    @get_paper.setter\n",
    "    def get_paper_modify(self,paper):\n",
    "        self.__paper = paper\n",
    "        \n",
    "    @get_paper.deleter\n",
    "    def get_paper_delete(self):\n",
    "        del self.__paper\n",
    "        print(\"SUccessfully deleted\")"
   ]
  },
  {
   "cell_type": "code",
   "execution_count": 50,
   "id": "f6f1b662",
   "metadata": {},
   "outputs": [],
   "source": [
    "s = School(149,\"A-1\")"
   ]
  },
  {
   "cell_type": "code",
   "execution_count": 51,
   "id": "e3b593f9",
   "metadata": {},
   "outputs": [
    {
     "data": {
      "text/plain": [
       "'A-1'"
      ]
     },
     "execution_count": 51,
     "metadata": {},
     "output_type": "execute_result"
    }
   ],
   "source": [
    "s.get_paper"
   ]
  },
  {
   "cell_type": "code",
   "execution_count": 52,
   "id": "fdf7b3ff",
   "metadata": {},
   "outputs": [],
   "source": [
    "s.get_paper_modify = \"A-3\""
   ]
  },
  {
   "cell_type": "code",
   "execution_count": 53,
   "id": "20093032",
   "metadata": {},
   "outputs": [
    {
     "data": {
      "text/plain": [
       "'A-3'"
      ]
     },
     "execution_count": 53,
     "metadata": {},
     "output_type": "execute_result"
    }
   ],
   "source": [
    "s.get_paper"
   ]
  },
  {
   "cell_type": "code",
   "execution_count": 54,
   "id": "28def23e",
   "metadata": {},
   "outputs": [
    {
     "name": "stdout",
     "output_type": "stream",
     "text": [
      "SUccessfully deleted\n"
     ]
    }
   ],
   "source": [
    "del s.get_paper_delete"
   ]
  },
  {
   "cell_type": "code",
   "execution_count": 55,
   "id": "72dde17f",
   "metadata": {},
   "outputs": [],
   "source": [
    "# Q5.What is method overriding in python? Write a python code to demonstrate method overriding."
   ]
  },
  {
   "cell_type": "code",
   "execution_count": 57,
   "id": "5602fba9",
   "metadata": {},
   "outputs": [
    {
     "name": "stdout",
     "output_type": "stream",
     "text": [
      "When a method in a subclass has the same name, same parameters or signature and same return type as a method in its super-class, then the method in the subclass is said to override the method in the super-class.\n"
     ]
    }
   ],
   "source": [
    "print(\"When a method in a subclass has the same name, same parameters or signature and same return type as a method in its super-class, then the method in the subclass is said to override the method in the super-class.\")"
   ]
  },
  {
   "cell_type": "code",
   "execution_count": 58,
   "id": "d7605369",
   "metadata": {},
   "outputs": [],
   "source": [
    "class Parent:\n",
    "    \n",
    "    def __init__(self):\n",
    "        print(\"I'm parent\")\n",
    "        \n",
    "    def proof(self):\n",
    "        print(\"He is my son\")"
   ]
  },
  {
   "cell_type": "code",
   "execution_count": null,
   "id": "cfd7fabe",
   "metadata": {},
   "outputs": [],
   "source": [
    "class CHild:\n",
    "    \n",
    "    def __init__(self)"
   ]
  }
 ],
 "metadata": {
  "kernelspec": {
   "display_name": "Python 3 (ipykernel)",
   "language": "python",
   "name": "python3"
  },
  "language_info": {
   "codemirror_mode": {
    "name": "ipython",
    "version": 3
   },
   "file_extension": ".py",
   "mimetype": "text/x-python",
   "name": "python",
   "nbconvert_exporter": "python",
   "pygments_lexer": "ipython3",
   "version": "3.9.13"
  }
 },
 "nbformat": 4,
 "nbformat_minor": 5
}
