{
 "cells": [
  {
   "cell_type": "code",
   "execution_count": 1,
   "id": "9e0b0dea",
   "metadata": {},
   "outputs": [],
   "source": [
    "# Q1. What is Abstraction in OOps? Explain with an example."
   ]
  },
  {
   "cell_type": "code",
   "execution_count": 2,
   "id": "59b2745e",
   "metadata": {},
   "outputs": [
    {
     "name": "stdout",
     "output_type": "stream",
     "text": [
      "Abstraction focuses on hiding the internal implementations of a process or method from the user.\n"
     ]
    }
   ],
   "source": [
    "print(\"Abstraction focuses on hiding the internal implementations of a process or method from the user.\")"
   ]
  },
  {
   "cell_type": "code",
   "execution_count": 3,
   "id": "c930dc51",
   "metadata": {},
   "outputs": [],
   "source": [
    "import abc"
   ]
  },
  {
   "cell_type": "code",
   "execution_count": 4,
   "id": "40f24f87",
   "metadata": {},
   "outputs": [],
   "source": [
    "from abc import abstractmethod"
   ]
  },
  {
   "cell_type": "code",
   "execution_count": 8,
   "id": "39d08d6d",
   "metadata": {},
   "outputs": [],
   "source": [
    "class Car_project:\n",
    "    \n",
    "    @abstractmethod\n",
    "    def car_prices(self):\n",
    "        pass\n",
    "    \n",
    "    @abstractmethod\n",
    "    def car_models(self):\n",
    "        pass\n",
    "    \n",
    "    @abstractmethod\n",
    "    def car_speed(self):\n",
    "        pass"
   ]
  },
  {
   "cell_type": "code",
   "execution_count": 9,
   "id": "4984bd72",
   "metadata": {},
   "outputs": [],
   "source": [
    "class Project(Car_project):\n",
    "    \n",
    "    def car_prices(self):\n",
    "        print(\"this method is for car price\")\n",
    "        \n",
    "    def car_models(self):\n",
    "        print(\"this method is for car models\")\n",
    "        \n",
    "    def car_speed(self):\n",
    "        print(\"this method is for car speed\")"
   ]
  },
  {
   "cell_type": "code",
   "execution_count": 10,
   "id": "bdb65dc3",
   "metadata": {},
   "outputs": [],
   "source": [
    "p = Project()"
   ]
  },
  {
   "cell_type": "code",
   "execution_count": 11,
   "id": "a54bd20e",
   "metadata": {},
   "outputs": [
    {
     "name": "stdout",
     "output_type": "stream",
     "text": [
      "this method is for car models\n",
      "this method is for car price\n",
      "this method is for car speed\n"
     ]
    }
   ],
   "source": [
    "p.car_models()\n",
    "p.car_prices()\n",
    "p.car_speed()"
   ]
  },
  {
   "cell_type": "code",
   "execution_count": 12,
   "id": "3b783803",
   "metadata": {},
   "outputs": [],
   "source": [
    "# Q2. Differentiate between Abstraction and Encapsulation. Explain with an example."
   ]
  },
  {
   "cell_type": "code",
   "execution_count": 13,
   "id": "2eac0820",
   "metadata": {},
   "outputs": [
    {
     "name": "stdout",
     "output_type": "stream",
     "text": [
      "Abstraction hides the irrelevant details found in the code, whereas Encapsulation helps developers to organize the entire code easily.\n"
     ]
    }
   ],
   "source": [
    "print(\"Abstraction hides the irrelevant details found in the code, whereas Encapsulation helps developers to organize the entire code easily.\")"
   ]
  },
  {
   "cell_type": "code",
   "execution_count": 14,
   "id": "44c34e69",
   "metadata": {},
   "outputs": [],
   "source": [
    "class Encapsulate:\n",
    "    \n",
    "    def __init__(self,name,tag):\n",
    "        self.name = name\n",
    "        self.__tag = tag"
   ]
  },
  {
   "cell_type": "code",
   "execution_count": 15,
   "id": "19cd89fa",
   "metadata": {},
   "outputs": [],
   "source": [
    "e = Encapsulate(\"afg\",\"p\")"
   ]
  },
  {
   "cell_type": "code",
   "execution_count": 16,
   "id": "6506db16",
   "metadata": {},
   "outputs": [
    {
     "data": {
      "text/plain": [
       "'afg'"
      ]
     },
     "execution_count": 16,
     "metadata": {},
     "output_type": "execute_result"
    }
   ],
   "source": [
    "e.name"
   ]
  },
  {
   "cell_type": "code",
   "execution_count": 17,
   "id": "e4ce82d2",
   "metadata": {},
   "outputs": [
    {
     "name": "stdout",
     "output_type": "stream",
     "text": [
      "It is private\n"
     ]
    }
   ],
   "source": [
    "try:\n",
    "    e.tag\n",
    "except Exception as e:\n",
    "    print(\"It is private\")"
   ]
  },
  {
   "cell_type": "code",
   "execution_count": 18,
   "id": "f9906d8a",
   "metadata": {},
   "outputs": [],
   "source": [
    "class Abstract:\n",
    "    \n",
    "    def animal_name(self):\n",
    "        pass"
   ]
  },
  {
   "cell_type": "code",
   "execution_count": 19,
   "id": "da750d8e",
   "metadata": {},
   "outputs": [],
   "source": [
    "class A(Abstract):\n",
    "    \n",
    "    def animal_name(self):\n",
    "        print(\"this method is for animal name\")"
   ]
  },
  {
   "cell_type": "code",
   "execution_count": 20,
   "id": "220cd664",
   "metadata": {},
   "outputs": [],
   "source": [
    "a = A()"
   ]
  },
  {
   "cell_type": "code",
   "execution_count": 21,
   "id": "dd5add8b",
   "metadata": {},
   "outputs": [
    {
     "name": "stdout",
     "output_type": "stream",
     "text": [
      "this method is for animal name\n"
     ]
    }
   ],
   "source": [
    "a.animal_name()"
   ]
  },
  {
   "cell_type": "code",
   "execution_count": 22,
   "id": "8b862fec",
   "metadata": {},
   "outputs": [],
   "source": [
    "# Q3. What is abc module in python? Why is it used?"
   ]
  },
  {
   "cell_type": "code",
   "execution_count": 23,
   "id": "45e58f02",
   "metadata": {},
   "outputs": [
    {
     "name": "stdout",
     "output_type": "stream",
     "text": [
      "The 'abc' module in Python library provides the infrastructure for defining custom abstract base classes. 'abc' works by marking methods of the base class as abstract. This is done by @absttractmethod decorator.\n"
     ]
    }
   ],
   "source": [
    "print(\"The 'abc' module in Python library provides the infrastructure for defining custom abstract base classes. 'abc' works by marking methods of the base class as abstract. This is done by @absttractmethod decorator.\")"
   ]
  },
  {
   "cell_type": "code",
   "execution_count": 24,
   "id": "66fc2d0e",
   "metadata": {},
   "outputs": [
    {
     "name": "stdout",
     "output_type": "stream",
     "text": [
      "It is used to import abstractmethod decorator\n"
     ]
    }
   ],
   "source": [
    "print(\"It is used to import abstractmethod decorator\")"
   ]
  },
  {
   "cell_type": "code",
   "execution_count": 25,
   "id": "bd0f120f",
   "metadata": {},
   "outputs": [],
   "source": [
    "# Q4. How can we achieve data abstraction?"
   ]
  },
  {
   "cell_type": "code",
   "execution_count": 26,
   "id": "cc7aef8c",
   "metadata": {},
   "outputs": [
    {
     "name": "stdout",
     "output_type": "stream",
     "text": [
      "Data abstraction in Python can be done using the following methods: - Using list comprehensions to transform multiple values into a single value - Using map function to transform multiple values into an array - Using filter function to transform only those items that meet certain criteria - Using reduce function to combine two or more items into a single value Abstractions allow developers to write code without worrying about how the code will be executed on the computer.\n"
     ]
    }
   ],
   "source": [
    "print(\"Data abstraction in Python can be done using the following methods: - Using list comprehensions to transform multiple values into a single value - Using map function to transform multiple values into an array - Using filter function to transform only those items that meet certain criteria - Using reduce function to combine two or more items into a single value Abstractions allow developers to write code without worrying about how the code will be executed on the computer.\")"
   ]
  },
  {
   "cell_type": "code",
   "execution_count": 27,
   "id": "f89dfc46",
   "metadata": {},
   "outputs": [],
   "source": [
    "# Q5. Can we create an instance of an abstract class? Explain your answer."
   ]
  },
  {
   "cell_type": "code",
   "execution_count": 31,
   "id": "ff3b86b5",
   "metadata": {},
   "outputs": [
    {
     "name": "stdout",
     "output_type": "stream",
     "text": [
      "No instance of an abstract class cannot be created. You can create an instance of a class that extents your abstract class. The whole point of an abstract class is that it's abstract -- you've defined an interface but not an implementation. Without an implementation, instantiating the class wouldn't produce a meaningful or useful result.\n"
     ]
    }
   ],
   "source": [
    "print(\"No instance of an abstract class cannot be created. You can create an instance of a class that extents your abstract class. The whole point of an abstract class is that it's abstract -- you've defined an interface but not an implementation. Without an implementation, instantiating the class wouldn't produce a meaningful or useful result.\")"
   ]
  },
  {
   "cell_type": "code",
   "execution_count": null,
   "id": "81dc783e",
   "metadata": {},
   "outputs": [],
   "source": []
  }
 ],
 "metadata": {
  "kernelspec": {
   "display_name": "Python 3 (ipykernel)",
   "language": "python",
   "name": "python3"
  },
  "language_info": {
   "codemirror_mode": {
    "name": "ipython",
    "version": 3
   },
   "file_extension": ".py",
   "mimetype": "text/x-python",
   "name": "python",
   "nbconvert_exporter": "python",
   "pygments_lexer": "ipython3",
   "version": "3.9.13"
  }
 },
 "nbformat": 4,
 "nbformat_minor": 5
}
