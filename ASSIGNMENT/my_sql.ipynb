{
 "cells": [
  {
   "cell_type": "code",
   "execution_count": 1,
   "id": "9291c19a",
   "metadata": {},
   "outputs": [],
   "source": [
    "# Q1. What is a database? Differentiate between SQL and NoSQL databases."
   ]
  },
  {
   "cell_type": "code",
   "execution_count": 2,
   "id": "940ef341",
   "metadata": {},
   "outputs": [
    {
     "name": "stdout",
     "output_type": "stream",
     "text": [
      "A database is a structured collection of data that is organized, managed, and accessed in a way that allows efficient storage, retrieval, modification, and deletion of data.\n"
     ]
    }
   ],
   "source": [
    "print(\"A database is a structured collection of data that is organized, managed, and accessed in a way that allows efficient storage, retrieval, modification, and deletion of data.\")"
   ]
  },
  {
   "cell_type": "code",
   "execution_count": 3,
   "id": "d1387251",
   "metadata": {},
   "outputs": [
    {
     "name": "stdout",
     "output_type": "stream",
     "text": [
      "SQL databases are based on the relational data model, which organizes data into tables with rows and columns.\n"
     ]
    }
   ],
   "source": [
    "print(\"SQL databases are based on the relational data model, which organizes data into tables with rows and columns.\")"
   ]
  },
  {
   "cell_type": "code",
   "execution_count": 4,
   "id": "3ea1222f",
   "metadata": {},
   "outputs": [
    {
     "name": "stdout",
     "output_type": "stream",
     "text": [
      "NoSQL databases use various data models such as key-value pairs, document-oriented, column-family, or graph-based models.\n"
     ]
    }
   ],
   "source": [
    "print(\"NoSQL databases use various data models such as key-value pairs, document-oriented, column-family, or graph-based models.\")"
   ]
  },
  {
   "cell_type": "code",
   "execution_count": 5,
   "id": "1c30ec7f",
   "metadata": {},
   "outputs": [],
   "source": [
    "# Q2. What is DDL? Explain why CREATE, DROP, ALTER, and TRUNCATE are used with an example."
   ]
  },
  {
   "cell_type": "code",
   "execution_count": 6,
   "id": "145d221c",
   "metadata": {},
   "outputs": [
    {
     "name": "stdout",
     "output_type": "stream",
     "text": [
      "DDL stands for Data Definition Language. It is a subset of SQL (Structured Query Language) that is used to define and manage the structure of a database. DDL statements are responsible for creating, modifying, and deleting database objects such as tables, indexes, views, and schemas.\n"
     ]
    }
   ],
   "source": [
    "print(\"DDL stands for Data Definition Language. It is a subset of SQL (Structured Query Language) that is used to define and manage the structure of a database. DDL statements are responsible for creating, modifying, and deleting database objects such as tables, indexes, views, and schemas.\")"
   ]
  },
  {
   "cell_type": "code",
   "execution_count": 11,
   "id": "1aa8dbf0",
   "metadata": {},
   "outputs": [
    {
     "name": "stdout",
     "output_type": "stream",
     "text": [
      "CREATE: The CREATE statement is used to create new database objects.\n",
      "CREATE TABLE Employees (\n",
      "    id INT PRIMARY KEY,\n",
      "    name VARCHAR(50),\n",
      "    department VARCHAR(50)\n",
      ");\n"
     ]
    }
   ],
   "source": [
    "print(\"CREATE: The CREATE statement is used to create new database objects.\")\n",
    "print(\"\"\"CREATE TABLE Employees (\n",
    "    id INT PRIMARY KEY,\n",
    "    name VARCHAR(50),\n",
    "    department VARCHAR(50)\n",
    ");\"\"\")"
   ]
  },
  {
   "cell_type": "code",
   "execution_count": 14,
   "id": "d5faff10",
   "metadata": {},
   "outputs": [
    {
     "name": "stdout",
     "output_type": "stream",
     "text": [
      "DROP: The DROP statement is used to delete database objects.\n",
      "DROP TABLE Employees;\n"
     ]
    }
   ],
   "source": [
    "print(\"DROP: The DROP statement is used to delete database objects.\")\n",
    "print(\"DROP TABLE Employees;\")"
   ]
  },
  {
   "cell_type": "code",
   "execution_count": 16,
   "id": "bb594772",
   "metadata": {},
   "outputs": [
    {
     "name": "stdout",
     "output_type": "stream",
     "text": [
      "ALTER: The ALTER statement is used to modify the structure of existing database objects. It allows you to add, modify, or drop columns, constraints, and other properties of database objects.\n",
      "ALTER TABLE Employees\n",
      "ADD COLUMN salary DECIMAL(10, 2);\n"
     ]
    }
   ],
   "source": [
    "print(\"ALTER: The ALTER statement is used to modify the structure of existing database objects. It allows you to add, modify, or drop columns, constraints, and other properties of database objects.\")\n",
    "print(\"\"\"ALTER TABLE Employees\n",
    "ADD COLUMN salary DECIMAL(10, 2);\"\"\")"
   ]
  },
  {
   "cell_type": "code",
   "execution_count": 18,
   "id": "61bff330",
   "metadata": {},
   "outputs": [
    {
     "name": "stdout",
     "output_type": "stream",
     "text": [
      "TRUNCATE: The TRUNCATE statement is used to delete all data from a table while keeping its structure intact. Unlike the DROP statement, which removes the entire table, TRUNCATE only removes the data within the table, resulting in an empty table\n",
      "TRUNCATE TABLE Employees;\n"
     ]
    }
   ],
   "source": [
    "print(\"TRUNCATE: The TRUNCATE statement is used to delete all data from a table while keeping its structure intact. Unlike the DROP statement, which removes the entire table, TRUNCATE only removes the data within the table, resulting in an empty table\")\n",
    "print(\"TRUNCATE TABLE Employees;\")"
   ]
  },
  {
   "cell_type": "code",
   "execution_count": 19,
   "id": "5d5330ce",
   "metadata": {},
   "outputs": [],
   "source": [
    "# Q3. What is DML? Explain INSERT, UPDATE, and DELETE with an example."
   ]
  },
  {
   "cell_type": "code",
   "execution_count": 20,
   "id": "99f78f1f",
   "metadata": {},
   "outputs": [
    {
     "name": "stdout",
     "output_type": "stream",
     "text": [
      "DML stands for Data Manipulation Language. It is a subset of SQL (Structured Query Language) that is used to manipulate and interact with the data stored in a database. DML statements are responsible for inserting, updating, and deleting data within database tables.\n"
     ]
    }
   ],
   "source": [
    "print(\"DML stands for Data Manipulation Language. It is a subset of SQL (Structured Query Language) that is used to manipulate and interact with the data stored in a database. DML statements are responsible for inserting, updating, and deleting data within database tables.\")"
   ]
  },
  {
   "cell_type": "code",
   "execution_count": 21,
   "id": "43d9ab13",
   "metadata": {},
   "outputs": [
    {
     "name": "stdout",
     "output_type": "stream",
     "text": [
      "INSERT: The INSERT statement is used to add new records into a table. It allows you to specify the values for each column or select values from another table.\n",
      "INSERT INTO Employees (name, department)\n",
      "VALUES ('John Doe', 'IT');\n"
     ]
    }
   ],
   "source": [
    "print(\"INSERT: The INSERT statement is used to add new records into a table. It allows you to specify the values for each column or select values from another table.\")\n",
    "print(\"\"\"INSERT INTO Employees (name, department)\n",
    "VALUES ('John Doe', 'IT');\"\"\")"
   ]
  },
  {
   "cell_type": "code",
   "execution_count": 23,
   "id": "cf60b6af",
   "metadata": {},
   "outputs": [
    {
     "name": "stdout",
     "output_type": "stream",
     "text": [
      "UPDATE: The UPDATE statement is used to modify existing records in a table. It allows you to update specific columns with new values based on specified conditions.\n",
      "UPDATE Employees\n",
      "SET department = 'Sales'\n",
      "WHERE name = 'John Doe';\n"
     ]
    }
   ],
   "source": [
    "print(\"UPDATE: The UPDATE statement is used to modify existing records in a table. It allows you to update specific columns with new values based on specified conditions.\")\n",
    "print(\"\"\"UPDATE Employees\n",
    "SET department = 'Sales'\n",
    "WHERE name = 'John Doe';\"\"\")"
   ]
  },
  {
   "cell_type": "code",
   "execution_count": 24,
   "id": "b48d7e23",
   "metadata": {},
   "outputs": [
    {
     "name": "stdout",
     "output_type": "stream",
     "text": [
      "DELETE: The DELETE statement is used to remove one or more records from a table based on specified conditions. It allows you to selectively delete records that match specific criteria.\n",
      "DELETE FROM Employees\n",
      "WHERE department = 'HR';\n"
     ]
    }
   ],
   "source": [
    "print(\"DELETE: The DELETE statement is used to remove one or more records from a table based on specified conditions. It allows you to selectively delete records that match specific criteria.\")\n",
    "print(\"\"\"DELETE FROM Employees\n",
    "WHERE department = 'HR';\"\"\")"
   ]
  },
  {
   "cell_type": "code",
   "execution_count": 25,
   "id": "ea8bbeb6",
   "metadata": {},
   "outputs": [],
   "source": [
    "# Q4. What is DQL? Explain SELECT with an example."
   ]
  },
  {
   "cell_type": "code",
   "execution_count": 26,
   "id": "3cdb5f9d",
   "metadata": {},
   "outputs": [
    {
     "name": "stdout",
     "output_type": "stream",
     "text": [
      "DQL stands for Data Query Language. It is a subset of SQL (Structured Query Language) that is used to query and retrieve data from a database. DQL statements are primarily focused on retrieving data and do not involve data manipulation or structural modifications of the database.\n"
     ]
    }
   ],
   "source": [
    "print(\"DQL stands for Data Query Language. It is a subset of SQL (Structured Query Language) that is used to query and retrieve data from a database. DQL statements are primarily focused on retrieving data and do not involve data manipulation or structural modifications of the database.\")"
   ]
  },
  {
   "cell_type": "code",
   "execution_count": 28,
   "id": "a28d12aa",
   "metadata": {},
   "outputs": [
    {
     "name": "stdout",
     "output_type": "stream",
     "text": [
      "The SELECT clause specifies the columns you want to retrieve from the table.\n",
      "The FROM clause specifies the table or tables from which you want to retrieve the data.\n",
      "The WHERE clause (optional) specifies the conditions that must be met for a row to be included in the result set.\n"
     ]
    }
   ],
   "source": [
    "print(\"\"\"The SELECT clause specifies the columns you want to retrieve from the table.\n",
    "The FROM clause specifies the table or tables from which you want to retrieve the data.\n",
    "The WHERE clause (optional) specifies the conditions that must be met for a row to be included in the result set.\"\"\")"
   ]
  },
  {
   "cell_type": "code",
   "execution_count": 30,
   "id": "d52d7c0e",
   "metadata": {},
   "outputs": [
    {
     "name": "stdout",
     "output_type": "stream",
     "text": [
      "SELECT name\n",
      "FROM Employees\n",
      "WHERE department = 'IT';\n"
     ]
    }
   ],
   "source": [
    "print(\"\"\"SELECT name\n",
    "FROM Employees\n",
    "WHERE department = 'IT';\"\"\")"
   ]
  },
  {
   "cell_type": "code",
   "execution_count": 31,
   "id": "20083658",
   "metadata": {},
   "outputs": [],
   "source": [
    "# Q5. Explain Primary Key and Foreign Key."
   ]
  },
  {
   "cell_type": "code",
   "execution_count": 32,
   "id": "72efcc53",
   "metadata": {},
   "outputs": [
    {
     "name": "stdout",
     "output_type": "stream",
     "text": [
      "A primary key is a column or a set of columns in a table that uniquely identifies each row or record in that table. It serves as a unique identifier for each record and ensures the uniqueness and integrity of the data.\n"
     ]
    }
   ],
   "source": [
    "print(\"A primary key is a column or a set of columns in a table that uniquely identifies each row or record in that table. It serves as a unique identifier for each record and ensures the uniqueness and integrity of the data.\")"
   ]
  },
  {
   "cell_type": "code",
   "execution_count": 33,
   "id": "1a7a9c2b",
   "metadata": {},
   "outputs": [
    {
     "name": "stdout",
     "output_type": "stream",
     "text": [
      "A foreign key is a column or a set of columns in a table that establishes a link or reference to the primary key of another table. It creates a relationship between two tables, known as the parent table (with the primary key) and the child table (with the foreign key). \n"
     ]
    }
   ],
   "source": [
    "print(\"A foreign key is a column or a set of columns in a table that establishes a link or reference to the primary key of another table. It creates a relationship between two tables, known as the parent table (with the primary key) and the child table (with the foreign key). \")"
   ]
  },
  {
   "cell_type": "code",
   "execution_count": 34,
   "id": "910def5d",
   "metadata": {},
   "outputs": [],
   "source": [
    "# Q6. Write a python code to connect MySQL to python. Explain the cursor() and execute() method."
   ]
  },
  {
   "cell_type": "code",
   "execution_count": 37,
   "id": "8c58e086",
   "metadata": {},
   "outputs": [],
   "source": [
    "import mysql.connector\n",
    "\n",
    "mydb = mysql.connector.connect(\n",
    "    host=\"localhost\",\n",
    "    user=\"root\",\n",
    "    password=\"password\"\n",
    ")\n",
    "print(mydb)\n",
    "mycursor = mydb.cursor()\n",
    "mycursor.execute(\"SHOW DATABASES\")\n",
    "for x in mycursor:\n",
    "    print(x)"
   ]
  },
  {
   "cell_type": "code",
   "execution_count": 38,
   "id": "9d91b200",
   "metadata": {},
   "outputs": [
    {
     "name": "stdout",
     "output_type": "stream",
     "text": [
      "The cursor() method is used to create a cursor object within a database connection.\n"
     ]
    }
   ],
   "source": [
    "print(\"The cursor() method is used to create a cursor object within a database connection.\")"
   ]
  },
  {
   "cell_type": "code",
   "execution_count": 39,
   "id": "66c1dff0",
   "metadata": {},
   "outputs": [
    {
     "name": "stdout",
     "output_type": "stream",
     "text": [
      "The execute() method is used to execute SQL statements or queries using the cursor object.\n"
     ]
    }
   ],
   "source": [
    "print(\"The execute() method is used to execute SQL statements or queries using the cursor object.\")"
   ]
  },
  {
   "cell_type": "code",
   "execution_count": 40,
   "id": "26409887",
   "metadata": {},
   "outputs": [],
   "source": [
    "# Q7. Give the order of execution of SQL clauses in an SQL query."
   ]
  },
  {
   "cell_type": "code",
   "execution_count": 42,
   "id": "eaf77991",
   "metadata": {},
   "outputs": [
    {
     "name": "stdout",
     "output_type": "stream",
     "text": [
      "SELECT DISTINCT <TOP_specification> <select_list>\n",
      "FROM <left_table>\n",
      "<join_type> JOIN <right_table>\n",
      "ON <join_condition>\n",
      "WHERE <where_condition>\n",
      "GROUP BY <group_by_list>\n",
      "HAVING <having_condition>\n",
      "ORDER BY <order_by_list>\n",
      "\n"
     ]
    }
   ],
   "source": [
    "print(\"\"\"SELECT DISTINCT <TOP_specification> <select_list>\n",
    "FROM <left_table>\n",
    "<join_type> JOIN <right_table>\n",
    "ON <join_condition>\n",
    "WHERE <where_condition>\n",
    "GROUP BY <group_by_list>\n",
    "HAVING <having_condition>\n",
    "ORDER BY <order_by_list>\n",
    "\"\"\")"
   ]
  },
  {
   "cell_type": "code",
   "execution_count": 43,
   "id": "10196e42",
   "metadata": {},
   "outputs": [
    {
     "name": "stdout",
     "output_type": "stream",
     "text": [
      "Order:\n",
      "FROM clause\n",
      "ON clause\n",
      "OUTER clause\n",
      "WHERE clause\n",
      "GROUP BY clause\n",
      "HAVING clause\n",
      "SELECT clause\n",
      "DISTINCT clause\n",
      "ORDER BY clause\n",
      "TOP clause\n"
     ]
    }
   ],
   "source": [
    "print(\"Order:\")\n",
    "print(\"\"\"FROM clause\n",
    "ON clause\n",
    "OUTER clause\n",
    "WHERE clause\n",
    "GROUP BY clause\n",
    "HAVING clause\n",
    "SELECT clause\n",
    "DISTINCT clause\n",
    "ORDER BY clause\n",
    "TOP clause\"\"\")"
   ]
  },
  {
   "cell_type": "code",
   "execution_count": null,
   "id": "5b9f910f",
   "metadata": {},
   "outputs": [],
   "source": []
  }
 ],
 "metadata": {
  "kernelspec": {
   "display_name": "Python 3 (ipykernel)",
   "language": "python",
   "name": "python3"
  },
  "language_info": {
   "codemirror_mode": {
    "name": "ipython",
    "version": 3
   },
   "file_extension": ".py",
   "mimetype": "text/x-python",
   "name": "python",
   "nbconvert_exporter": "python",
   "pygments_lexer": "ipython3",
   "version": "3.9.13"
  }
 },
 "nbformat": 4,
 "nbformat_minor": 5
}
