{
 "cells": [
  {
   "cell_type": "code",
   "execution_count": 1,
   "id": "c834a2db",
   "metadata": {},
   "outputs": [],
   "source": [
    "# Q1. What is n Exception in python? Write the difference between Exceptions and syntax errors"
   ]
  },
  {
   "cell_type": "code",
   "execution_count": 3,
   "id": "57c5c1a6",
   "metadata": {},
   "outputs": [
    {
     "name": "stdout",
     "output_type": "stream",
     "text": [
      "An exception is an event, which occurs during the execution of a program that disrupts the normal flow of the program's instructions.\n"
     ]
    }
   ],
   "source": [
    "print(\"An exception is an event, which occurs during the execution of a program that disrupts the normal flow of the program's instructions.\")"
   ]
  },
  {
   "cell_type": "code",
   "execution_count": 4,
   "id": "c57fca89",
   "metadata": {},
   "outputs": [
    {
     "name": "stdout",
     "output_type": "stream",
     "text": [
      "syntax errors occur due to code that violates the language's syntax rules and prevent the program from running, while exceptions are errors that occur during program execution and can be handled with exception handling mechanisms.\n"
     ]
    }
   ],
   "source": [
    "print(\"syntax errors occur due to code that violates the language's syntax rules and prevent the program from running, while exceptions are errors that occur during program execution and can be handled with exception handling mechanisms.\")"
   ]
  },
  {
   "cell_type": "code",
   "execution_count": 5,
   "id": "87b84f6e",
   "metadata": {},
   "outputs": [],
   "source": [
    "# Q2. What happens when an exception is not handled? Explain with an example"
   ]
  },
  {
   "cell_type": "code",
   "execution_count": 7,
   "id": "ae873543",
   "metadata": {},
   "outputs": [
    {
     "name": "stdout",
     "output_type": "stream",
     "text": [
      "When an exception is not handled in Python, it leads to what is known as an \"unhandled exception.\" When an unhandled exception occurs, the normal flow of the program is interrupted, and the Python interpreter displays a traceback that shows the sequence of function calls that led to the exception. After displaying the traceback, the program terminates, and any remaining code after the point of the exception is not executed.\n"
     ]
    }
   ],
   "source": [
    "print('When an exception is not handled in Python, it leads to what is known as an \"unhandled exception.\" When an unhandled exception occurs, the normal flow of the program is interrupted, and the Python interpreter displays a traceback that shows the sequence of function calls that led to the exception. After displaying the traceback, the program terminates, and any remaining code after the point of the exception is not executed.')"
   ]
  },
  {
   "cell_type": "code",
   "execution_count": 9,
   "id": "2362f804",
   "metadata": {},
   "outputs": [
    {
     "ename": "ZeroDivisionError",
     "evalue": "division by zero",
     "output_type": "error",
     "traceback": [
      "\u001b[1;31m---------------------------------------------------------------------------\u001b[0m",
      "\u001b[1;31mZeroDivisionError\u001b[0m                         Traceback (most recent call last)",
      "\u001b[1;32m~\\AppData\\Local\\Temp\\ipykernel_4196\\3277624844.py\u001b[0m in \u001b[0;36m<module>\u001b[1;34m\u001b[0m\n\u001b[0;32m      5\u001b[0m \u001b[0mn2\u001b[0m \u001b[1;33m=\u001b[0m \u001b[1;36m0\u001b[0m\u001b[1;33m\u001b[0m\u001b[1;33m\u001b[0m\u001b[0m\n\u001b[0;32m      6\u001b[0m \u001b[1;33m\u001b[0m\u001b[0m\n\u001b[1;32m----> 7\u001b[1;33m \u001b[0mresult\u001b[0m \u001b[1;33m=\u001b[0m \u001b[0mzero_division\u001b[0m\u001b[1;33m(\u001b[0m\u001b[0mn1\u001b[0m\u001b[1;33m,\u001b[0m\u001b[0mn2\u001b[0m\u001b[1;33m)\u001b[0m\u001b[1;33m\u001b[0m\u001b[1;33m\u001b[0m\u001b[0m\n\u001b[0m\u001b[0;32m      8\u001b[0m \u001b[0mprint\u001b[0m\u001b[1;33m(\u001b[0m\u001b[1;34m\"this will not be printed\"\u001b[0m\u001b[1;33m)\u001b[0m\u001b[1;33m\u001b[0m\u001b[1;33m\u001b[0m\u001b[0m\n\u001b[0;32m      9\u001b[0m \u001b[0mprint\u001b[0m\u001b[1;33m(\u001b[0m\u001b[0mresult\u001b[0m\u001b[1;33m)\u001b[0m\u001b[1;33m\u001b[0m\u001b[1;33m\u001b[0m\u001b[0m\n",
      "\u001b[1;32m~\\AppData\\Local\\Temp\\ipykernel_4196\\3277624844.py\u001b[0m in \u001b[0;36mzero_division\u001b[1;34m(n1, n2)\u001b[0m\n\u001b[0;32m      1\u001b[0m \u001b[1;32mdef\u001b[0m \u001b[0mzero_division\u001b[0m\u001b[1;33m(\u001b[0m\u001b[0mn1\u001b[0m\u001b[1;33m,\u001b[0m\u001b[0mn2\u001b[0m\u001b[1;33m)\u001b[0m\u001b[1;33m:\u001b[0m\u001b[1;33m\u001b[0m\u001b[1;33m\u001b[0m\u001b[0m\n\u001b[1;32m----> 2\u001b[1;33m     \u001b[1;32mreturn\u001b[0m \u001b[0mn1\u001b[0m\u001b[1;33m/\u001b[0m\u001b[0mn2\u001b[0m\u001b[1;33m\u001b[0m\u001b[1;33m\u001b[0m\u001b[0m\n\u001b[0m\u001b[0;32m      3\u001b[0m \u001b[1;33m\u001b[0m\u001b[0m\n\u001b[0;32m      4\u001b[0m \u001b[0mn1\u001b[0m \u001b[1;33m=\u001b[0m \u001b[1;36m4\u001b[0m\u001b[1;33m\u001b[0m\u001b[1;33m\u001b[0m\u001b[0m\n\u001b[0;32m      5\u001b[0m \u001b[0mn2\u001b[0m \u001b[1;33m=\u001b[0m \u001b[1;36m0\u001b[0m\u001b[1;33m\u001b[0m\u001b[1;33m\u001b[0m\u001b[0m\n",
      "\u001b[1;31mZeroDivisionError\u001b[0m: division by zero"
     ]
    }
   ],
   "source": [
    "def zero_division(n1,n2):\n",
    "    return n1/n2\n",
    "\n",
    "n1 = 4\n",
    "n2 = 0\n",
    "\n",
    "result = zero_division(n1,n2)\n",
    "print(\"this will not be printed\")\n",
    "print(result)"
   ]
  },
  {
   "cell_type": "code",
   "execution_count": 10,
   "id": "1d25aeb8",
   "metadata": {},
   "outputs": [],
   "source": [
    "# Q3. Which Python statements are used to catch and handle exceptions? Explain with an example"
   ]
  },
  {
   "cell_type": "code",
   "execution_count": 11,
   "id": "23395e20",
   "metadata": {},
   "outputs": [
    {
     "name": "stdout",
     "output_type": "stream",
     "text": [
      "In python try-catch statements are used to handle exceptions\n"
     ]
    }
   ],
   "source": [
    "print(\"In python try-catch statements are used to handle exceptions\")"
   ]
  },
  {
   "cell_type": "code",
   "execution_count": 12,
   "id": "e8468fc6",
   "metadata": {},
   "outputs": [
    {
     "name": "stdout",
     "output_type": "stream",
     "text": [
      "division by zero\n"
     ]
    }
   ],
   "source": [
    "try:\n",
    "    answer = 2/0\n",
    "except ZeroDivisionError as e:\n",
    "    print(e)"
   ]
  },
  {
   "cell_type": "code",
   "execution_count": 13,
   "id": "3a71357b",
   "metadata": {},
   "outputs": [],
   "source": [
    "# Q4. Explain with an example:try and else finally raise"
   ]
  },
  {
   "cell_type": "code",
   "execution_count": 14,
   "id": "3321700a",
   "metadata": {},
   "outputs": [],
   "source": [
    "# a. try else"
   ]
  },
  {
   "cell_type": "code",
   "execution_count": 15,
   "id": "2e2983e1",
   "metadata": {},
   "outputs": [
    {
     "name": "stdout",
     "output_type": "stream",
     "text": [
      "In Python, the try-else statement is used in exception handling to specify a block of code that should be executed if no exceptions are raised within the corresponding try block. \n"
     ]
    }
   ],
   "source": [
    "print('In Python, the try-else statement is used in exception handling to specify a block of code that should be executed if no exceptions are raised within the corresponding try block. ')"
   ]
  },
  {
   "cell_type": "code",
   "execution_count": 16,
   "id": "d3196954",
   "metadata": {},
   "outputs": [
    {
     "data": {
      "text/plain": [
       "'result:2.0'"
      ]
     },
     "execution_count": 16,
     "metadata": {},
     "output_type": "execute_result"
    }
   ],
   "source": [
    "def divide(n1,n2):\n",
    "    try:\n",
    "        answer = n1/n2\n",
    "    except ZeroDivisionError as e:\n",
    "        return e\n",
    "    else:\n",
    "        return \"result:{}\".format(answer)\n",
    "    \n",
    "divide(4,2)"
   ]
  },
  {
   "cell_type": "code",
   "execution_count": 17,
   "id": "f6eff647",
   "metadata": {},
   "outputs": [],
   "source": [
    "# b finally"
   ]
  },
  {
   "cell_type": "code",
   "execution_count": 19,
   "id": "d1f0b808",
   "metadata": {},
   "outputs": [
    {
     "name": "stdout",
     "output_type": "stream",
     "text": [
      "The finally block is optional, but when it is present, the code within it will always execute, whether an exception occurred or not.\n"
     ]
    }
   ],
   "source": [
    "print(\"The finally block is optional, but when it is present, the code within it will always execute, whether an exception occurred or not.\")"
   ]
  },
  {
   "cell_type": "code",
   "execution_count": 26,
   "id": "d62d1605",
   "metadata": {},
   "outputs": [],
   "source": [
    "def input_value():\n",
    "    try:\n",
    "        n = int(input(\"Enter any number:\"))\n",
    "    except ValueError as e:\n",
    "        print(e)\n",
    "    finally:\n",
    "        print(\"program has been terminated\")"
   ]
  },
  {
   "cell_type": "code",
   "execution_count": 27,
   "id": "e2c92626",
   "metadata": {},
   "outputs": [
    {
     "name": "stdout",
     "output_type": "stream",
     "text": [
      "Enter any number:vcd\n",
      "invalid literal for int() with base 10: 'vcd'\n",
      "program has been terminated\n"
     ]
    }
   ],
   "source": [
    "input_value()"
   ]
  },
  {
   "cell_type": "code",
   "execution_count": 1,
   "id": "19f6e393",
   "metadata": {},
   "outputs": [],
   "source": [
    "# c. raise"
   ]
  },
  {
   "cell_type": "code",
   "execution_count": 2,
   "id": "ca621ead",
   "metadata": {},
   "outputs": [
    {
     "name": "stdout",
     "output_type": "stream",
     "text": [
      " the raise statement is used to manually raise an exception or error.\n"
     ]
    }
   ],
   "source": [
    "print(\" the raise statement is used to manually raise an exception or error.\")"
   ]
  },
  {
   "cell_type": "code",
   "execution_count": 3,
   "id": "6532c79d",
   "metadata": {},
   "outputs": [
    {
     "name": "stdout",
     "output_type": "stream",
     "text": [
      "Cannot divide by zero\n"
     ]
    }
   ],
   "source": [
    "def divide_numbers(a,b):\n",
    "    if b == 0:\n",
    "        raise ZeroDivisionError(\"Cannot divide by zero\")\n",
    "        \n",
    "try:\n",
    "    answer = divide_numbers(10,0)\n",
    "except ZeroDivisionError as e:\n",
    "    print(e)"
   ]
  },
  {
   "cell_type": "code",
   "execution_count": null,
   "id": "db2222ff",
   "metadata": {},
   "outputs": [],
   "source": []
  }
 ],
 "metadata": {
  "kernelspec": {
   "display_name": "Python 3 (ipykernel)",
   "language": "python",
   "name": "python3"
  },
  "language_info": {
   "codemirror_mode": {
    "name": "ipython",
    "version": 3
   },
   "file_extension": ".py",
   "mimetype": "text/x-python",
   "name": "python",
   "nbconvert_exporter": "python",
   "pygments_lexer": "ipython3",
   "version": "3.9.13"
  }
 },
 "nbformat": 4,
 "nbformat_minor": 5
}
