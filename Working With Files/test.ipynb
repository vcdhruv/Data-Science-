{
 "cells": [
  {
   "cell_type": "code",
   "execution_count": 1,
   "metadata": {},
   "outputs": [
    {
     "data": {
      "text/plain": [
       "2"
      ]
     },
     "execution_count": 1,
     "metadata": {},
     "output_type": "execute_result"
    }
   ],
   "source": [
    "1+1"
   ]
  },
  {
   "cell_type": "code",
   "execution_count": 16,
   "metadata": {},
   "outputs": [
    {
     "name": "stdout",
     "output_type": "stream",
     "text": [
      "2\n",
      "3\n",
      "5\n",
      "7\n",
      "11\n",
      "13\n",
      "17\n",
      "19\n",
      "23\n",
      "29\n",
      "31\n",
      "37\n",
      "41\n",
      "43\n",
      "47\n",
      "53\n",
      "59\n",
      "61\n",
      "67\n",
      "71\n",
      "73\n",
      "79\n",
      "83\n",
      "89\n",
      "97\n"
     ]
    }
   ],
   "source": [
    "import math\n",
    "for i in range(1,101):\n",
    "    if i > 1:\n",
    "        for j in range(2,i):\n",
    "            if i % j == 0:\n",
    "                break\n",
    "        else:\n",
    "            print(i) "
   ]
  },
  {
   "cell_type": "code",
   "execution_count": 17,
   "metadata": {},
   "outputs": [],
   "source": [
    "l1 = [x for x in range(1,21)]"
   ]
  },
  {
   "cell_type": "code",
   "execution_count": 18,
   "metadata": {},
   "outputs": [
    {
     "data": {
      "text/plain": [
       "[1, 2, 3, 4, 5, 6, 7, 8, 9, 10, 11, 12, 13, 14, 15, 16, 17, 18, 19, 20]"
      ]
     },
     "execution_count": 18,
     "metadata": {},
     "output_type": "execute_result"
    }
   ],
   "source": [
    "l1"
   ]
  },
  {
   "cell_type": "code",
   "execution_count": 19,
   "metadata": {},
   "outputs": [
    {
     "name": "stdout",
     "output_type": "stream",
     "text": [
      "First Element : 1 , Middle Elememnt : 11 , Last Element : 20\n"
     ]
    }
   ],
   "source": [
    "print(f\"First Element : {l1[0]} , Middle Elememnt : {l1[len(l1) // 2]} , Last Element : {l1[-1]}\")"
   ]
  },
  {
   "cell_type": "code",
   "execution_count": 23,
   "metadata": {},
   "outputs": [
    {
     "name": "stdout",
     "output_type": "stream",
     "text": [
      "First five elements : [1, 2, 3, 4, 5] , Last five elements : [20, 19, 18, 17, 16] , index : [6, 7, 8, 9, 10, 11, 12, 13, 14, 15]\n"
     ]
    }
   ],
   "source": [
    "print(f\"First five elements : {l1[:5]} , Last five elements : {l1[-1:-6:-1]} , index : {l1[5:15]}\")"
   ]
  },
  {
   "cell_type": "code",
   "execution_count": 24,
   "metadata": {},
   "outputs": [],
   "source": [
    "even_lst = [x for x in l1 if x%2 == 0]"
   ]
  },
  {
   "cell_type": "code",
   "execution_count": 25,
   "metadata": {},
   "outputs": [
    {
     "data": {
      "text/plain": [
       "[2, 4, 6, 8, 10, 12, 14, 16, 18, 20]"
      ]
     },
     "execution_count": 25,
     "metadata": {},
     "output_type": "execute_result"
    }
   ],
   "source": [
    "even_lst"
   ]
  },
  {
   "cell_type": "code",
   "execution_count": 31,
   "metadata": {},
   "outputs": [
    {
     "data": {
      "text/plain": [
       "[5, 6, 2, 4, 17, 16, 7]"
      ]
     },
     "execution_count": 31,
     "metadata": {},
     "output_type": "execute_result"
    }
   ],
   "source": [
    "import random\n",
    "random_lst = [random.randint(1,20) for i in range(7)]\n",
    "random_lst"
   ]
  },
  {
   "cell_type": "code",
   "execution_count": 32,
   "metadata": {},
   "outputs": [
    {
     "name": "stdout",
     "output_type": "stream",
     "text": [
      "ascending order of random list : [2, 4, 5, 6, 7, 16, 17]\n",
      "descending order of random list : [17, 16, 7, 6, 5, 4, 2]\n"
     ]
    }
   ],
   "source": [
    "random_lst.sort()\n",
    "print(f\"ascending order of random list : {random_lst}\")\n",
    "random_lst.sort(reverse=True)\n",
    "print(f\"descending order of random list : {random_lst}\")\n"
   ]
  },
  {
   "cell_type": "code",
   "execution_count": 33,
   "metadata": {},
   "outputs": [],
   "source": [
    "nested_lst = [[] for i in range(3) for j in range(3)]"
   ]
  },
  {
   "cell_type": "code",
   "execution_count": 34,
   "metadata": {},
   "outputs": [
    {
     "data": {
      "text/plain": [
       "[[0, 0], [0, 1], [0, 2], [1, 0], [1, 1], [1, 2], [2, 0], [2, 1], [2, 2]]"
      ]
     },
     "execution_count": 34,
     "metadata": {},
     "output_type": "execute_result"
    }
   ],
   "source": [
    "nested_lst"
   ]
  },
  {
   "cell_type": "code",
   "execution_count": 35,
   "metadata": {},
   "outputs": [],
   "source": [
    "tpl = tuple(range(1,11))"
   ]
  },
  {
   "cell_type": "code",
   "execution_count": 36,
   "metadata": {},
   "outputs": [
    {
     "data": {
      "text/plain": [
       "(1, 2, 3, 4, 5, 6, 7, 8, 9, 10)"
      ]
     },
     "execution_count": 36,
     "metadata": {},
     "output_type": "execute_result"
    }
   ],
   "source": [
    "tpl"
   ]
  },
  {
   "cell_type": "code",
   "execution_count": 37,
   "metadata": {},
   "outputs": [
    {
     "name": "stdout",
     "output_type": "stream",
     "text": [
      "frozenset({1, 2, 3, 4, 5})\n"
     ]
    }
   ],
   "source": [
    "fs = frozenset(range(1, 6))\n",
    "print(fs)"
   ]
  },
  {
   "cell_type": "code",
   "execution_count": 39,
   "metadata": {},
   "outputs": [
    {
     "data": {
      "text/plain": [
       "{1: 1, 2: 2, 3: 3, 4: 4}"
      ]
     },
     "execution_count": 39,
     "metadata": {},
     "output_type": "execute_result"
    }
   ],
   "source": [
    "numbers = [1,2,2,3,3,3,4,4,4,4]\n",
    "frequency = {i:numbers.count(i) for i in numbers}\n",
    "frequency"
   ]
  },
  {
   "cell_type": "code",
   "execution_count": 40,
   "metadata": {},
   "outputs": [
    {
     "data": {
      "text/plain": [
       "{1: 1, 2: 4, 3: 9, 4: 16, 5: 25, 6: 36, 7: 49, 8: 64, 9: 81, 10: 100}"
      ]
     },
     "execution_count": 40,
     "metadata": {},
     "output_type": "execute_result"
    }
   ],
   "source": [
    "d1 = {i:i**2 for i in range(1,11)}\n",
    "d1"
   ]
  },
  {
   "cell_type": "code",
   "execution_count": 41,
   "metadata": {},
   "outputs": [],
   "source": [
    "d1[11] = 121\n",
    "del d1[1]"
   ]
  },
  {
   "cell_type": "code",
   "execution_count": 42,
   "metadata": {},
   "outputs": [
    {
     "data": {
      "text/plain": [
       "{2: 4, 3: 9, 4: 16, 5: 25, 6: 36, 7: 49, 8: 64, 9: 81, 10: 100, 11: 121}"
      ]
     },
     "execution_count": 42,
     "metadata": {},
     "output_type": "execute_result"
    }
   ],
   "source": [
    "d1"
   ]
  },
  {
   "cell_type": "code",
   "execution_count": 43,
   "metadata": {},
   "outputs": [
    {
     "name": "stdout",
     "output_type": "stream",
     "text": [
      "2 4\n",
      "3 9\n",
      "4 16\n",
      "5 25\n",
      "6 36\n",
      "7 49\n",
      "8 64\n",
      "9 81\n",
      "10 100\n",
      "11 121\n"
     ]
    }
   ],
   "source": [
    "for num,sqr in d1.items():\n",
    "    print(num,sqr)"
   ]
  },
  {
   "cell_type": "code",
   "execution_count": 46,
   "metadata": {},
   "outputs": [
    {
     "data": {
      "text/plain": [
       "{1: [1, 2, 3, 4, 5],\n",
       " 2: [2, 4, 6, 8, 10],\n",
       " 3: [3, 6, 9, 12, 15],\n",
       " 4: [4, 8, 12, 16, 20],\n",
       " 5: [5, 10, 15, 20, 25]}"
      ]
     },
     "execution_count": 46,
     "metadata": {},
     "output_type": "execute_result"
    }
   ],
   "source": [
    "multiples = { i:[i*j for j in range(1,6)] for i in range(1,6)}\n",
    "multiples"
   ]
  },
  {
   "cell_type": "code",
   "execution_count": 47,
   "metadata": {},
   "outputs": [
    {
     "data": {
      "text/plain": [
       "{1: (1, 1), 2: (2, 4), 3: (3, 9), 4: (4, 16), 5: (5, 25)}"
      ]
     },
     "execution_count": 47,
     "metadata": {},
     "output_type": "execute_result"
    }
   ],
   "source": [
    "sqaures = { i : (i,i**2) for i in range(1,6) }\n",
    "sqaures"
   ]
  },
  {
   "cell_type": "code",
   "execution_count": 48,
   "metadata": {},
   "outputs": [],
   "source": [
    "d2 = {i:i**2 for i in range(1,6)}"
   ]
  },
  {
   "cell_type": "code",
   "execution_count": 49,
   "metadata": {},
   "outputs": [
    {
     "data": {
      "text/plain": [
       "{1: 1, 2: 4, 3: 9, 4: 16, 5: 25}"
      ]
     },
     "execution_count": 49,
     "metadata": {},
     "output_type": "execute_result"
    }
   ],
   "source": [
    "d2"
   ]
  },
  {
   "cell_type": "code",
   "execution_count": 51,
   "metadata": {},
   "outputs": [
    {
     "data": {
      "text/plain": [
       "[(1, 1), (2, 4), (3, 9), (4, 16), (5, 25)]"
      ]
     },
     "execution_count": 51,
     "metadata": {},
     "output_type": "execute_result"
    }
   ],
   "source": [
    "list(d2.items())"
   ]
  },
  {
   "cell_type": "code",
   "execution_count": 53,
   "metadata": {},
   "outputs": [
    {
     "data": {
      "text/plain": [
       "{1: 1, 2: 4, 3: 9, 4: 16, 5: 25, 6: 36, 7: 49, 8: 64, 9: 81, 10: 100}"
      ]
     },
     "execution_count": 53,
     "metadata": {},
     "output_type": "execute_result"
    }
   ],
   "source": [
    "d3 = {i:i**2 for i in range(1,11)}\n",
    "d3"
   ]
  },
  {
   "cell_type": "code",
   "execution_count": 54,
   "metadata": {},
   "outputs": [
    {
     "data": {
      "text/plain": [
       "{1: 1, 4: 2, 9: 3, 16: 4, 25: 5, 36: 6, 49: 7, 64: 8, 81: 9, 100: 10}"
      ]
     },
     "execution_count": 54,
     "metadata": {},
     "output_type": "execute_result"
    }
   ],
   "source": [
    "updated_d3 = {v:k for k,v in d3.items() }\n",
    "updated_d3"
   ]
  },
  {
   "cell_type": "code",
   "execution_count": 58,
   "metadata": {},
   "outputs": [
    {
     "name": "stdout",
     "output_type": "stream",
     "text": [
      "defaultdict(<class 'list'>, {'a': [1, 2], 'b': [3], 4: ['d', 'b']})\n"
     ]
    }
   ],
   "source": [
    "from collections import defaultdict\n",
    "\n",
    "default_dict = defaultdict(list)\n",
    "default_dict['a'].append(1)\n",
    "default_dict['a'].append(2)\n",
    "default_dict['b'].append(3)\n",
    "default_dict[4].append('d')\n",
    "default_dict[4].append('b')\n",
    "print(default_dict)"
   ]
  },
  {
   "cell_type": "code",
   "execution_count": 59,
   "metadata": {},
   "outputs": [
    {
     "name": "stdout",
     "output_type": "stream",
     "text": [
      "{\"title\": \"To Kill a Mockingbird\", \"author\": \"Harper Lee\", \"year\": 1960, \"genre\": \"Fiction\"}\n"
     ]
    }
   ],
   "source": [
    "import json\n",
    "\n",
    "book = {\n",
    "    'title': 'To Kill a Mockingbird',\n",
    "    'author': 'Harper Lee',\n",
    "    'year': 1960,\n",
    "    'genre': 'Fiction'\n",
    "}\n",
    "book_json = json.dumps(book)\n",
    "print(book_json)"
   ]
  },
  {
   "cell_type": "code",
   "execution_count": 60,
   "metadata": {},
   "outputs": [
    {
     "data": {
      "text/plain": [
       "dict"
      ]
     },
     "execution_count": 60,
     "metadata": {},
     "output_type": "execute_result"
    }
   ],
   "source": [
    "type(book)"
   ]
  },
  {
   "cell_type": "code",
   "execution_count": 1,
   "metadata": {},
   "outputs": [
    {
     "data": {
      "text/plain": [
       "range(1, 20)"
      ]
     },
     "execution_count": 1,
     "metadata": {},
     "output_type": "execute_result"
    }
   ],
   "source": [
    "range(1,20)"
   ]
  },
  {
   "cell_type": "code",
   "execution_count": 2,
   "metadata": {},
   "outputs": [
    {
     "name": "stdout",
     "output_type": "stream",
     "text": [
      "range(1, 20)\n"
     ]
    }
   ],
   "source": [
    "print(range(1,20))"
   ]
  },
  {
   "cell_type": "code",
   "execution_count": 3,
   "metadata": {},
   "outputs": [],
   "source": [
    "lst = list(range(1,20))"
   ]
  },
  {
   "cell_type": "code",
   "execution_count": 4,
   "metadata": {},
   "outputs": [
    {
     "data": {
      "text/plain": [
       "[1, 2, 3, 4, 5, 6, 7, 8, 9, 10, 11, 12, 13, 14, 15, 16, 17, 18, 19]"
      ]
     },
     "execution_count": 4,
     "metadata": {},
     "output_type": "execute_result"
    }
   ],
   "source": [
    "lst"
   ]
  },
  {
   "cell_type": "code",
   "execution_count": 5,
   "metadata": {},
   "outputs": [],
   "source": [
    "l1 = [i for i in range(1,21)]"
   ]
  },
  {
   "cell_type": "code",
   "execution_count": 6,
   "metadata": {},
   "outputs": [
    {
     "data": {
      "text/plain": [
       "[1, 2, 3, 4, 5, 6, 7, 8, 9, 10, 11, 12, 13, 14, 15, 16, 17, 18, 19, 20]"
      ]
     },
     "execution_count": 6,
     "metadata": {},
     "output_type": "execute_result"
    }
   ],
   "source": [
    "l1"
   ]
  },
  {
   "cell_type": "code",
   "execution_count": 16,
   "metadata": {},
   "outputs": [],
   "source": [
    "def add_numbers(*a):\n",
    "    return sum(a)"
   ]
  },
  {
   "cell_type": "code",
   "execution_count": 17,
   "metadata": {},
   "outputs": [
    {
     "data": {
      "text/plain": [
       "6"
      ]
     },
     "execution_count": 17,
     "metadata": {},
     "output_type": "execute_result"
    }
   ],
   "source": [
    "add_numbers(1,2,3)"
   ]
  },
  {
   "cell_type": "code",
   "execution_count": 19,
   "metadata": {},
   "outputs": [
    {
     "name": "stdout",
     "output_type": "stream",
     "text": [
      "not present\n"
     ]
    }
   ],
   "source": [
    "if not any(char.isdigit() for char in \"Lmnopst\"):\n",
    "    print(\"not present\")"
   ]
  },
  {
   "cell_type": "code",
   "execution_count": 23,
   "metadata": {},
   "outputs": [],
   "source": [
    "if not any(char.isdigit() for char in \"Lmnop5t\"):\n",
    "    print(\"not present\")"
   ]
  },
  {
   "cell_type": "code",
   "execution_count": 26,
   "metadata": {},
   "outputs": [
    {
     "data": {
      "text/plain": [
       "True"
      ]
     },
     "execution_count": 26,
     "metadata": {},
     "output_type": "execute_result"
    }
   ],
   "source": [
    "not any(char.isdigit() for char in \"Lmnopt\")"
   ]
  },
  {
   "cell_type": "code",
   "execution_count": 27,
   "metadata": {},
   "outputs": [],
   "source": [
    "cart=[\n",
    "    {'name':'Apple','price':0.5,'quantity':4},\n",
    "    {'name':'Banana','price':0.3,'quantity':6},\n",
    "    {'name':'Orange','price':0.7,'quantity':3}\n",
    "]"
   ]
  },
  {
   "cell_type": "code",
   "execution_count": 46,
   "metadata": {},
   "outputs": [],
   "source": [
    "def calculate_total_cost(cart):\n",
    "    total_cost = 0\n",
    "    for i in cart:\n",
    "        total_cost += (i['price'] * i['quantity'])\n",
    "    return total_cost"
   ]
  },
  {
   "cell_type": "code",
   "execution_count": 47,
   "metadata": {},
   "outputs": [
    {
     "name": "stdout",
     "output_type": "stream",
     "text": [
      "5.8999999999999995\n"
     ]
    }
   ],
   "source": [
    "print(calculate_total_cost(cart))"
   ]
  },
  {
   "cell_type": "code",
   "execution_count": 42,
   "metadata": {},
   "outputs": [
    {
     "data": {
      "text/plain": [
       "[{'name': 'Apple', 'price': 0.5, 'quantity': 4},\n",
       " {'name': 'Banana', 'price': 0.3, 'quantity': 6},\n",
       " {'name': 'Orange', 'price': 0.7, 'quantity': 3}]"
      ]
     },
     "execution_count": 42,
     "metadata": {},
     "output_type": "execute_result"
    }
   ],
   "source": [
    "cart"
   ]
  },
  {
   "cell_type": "code",
   "execution_count": 45,
   "metadata": {},
   "outputs": [
    {
     "name": "stdout",
     "output_type": "stream",
     "text": [
      "5.8999999999999995\n"
     ]
    }
   ],
   "source": [
    "total_cost = 0\n",
    "for i in cart:\n",
    "    total_cost += (i['price'] * i['quantity'])\n",
    "print(total_cost)"
   ]
  },
  {
   "cell_type": "code",
   "execution_count": 49,
   "metadata": {},
   "outputs": [],
   "source": [
    "def palindromic_string(string):\n",
    "    if string.lower() == string.lower()[::-1]:\n",
    "        print(\"Palindrome\")\n",
    "    else:\n",
    "        print(\"Not Palindrome\")"
   ]
  },
  {
   "cell_type": "code",
   "execution_count": 52,
   "metadata": {},
   "outputs": [
    {
     "name": "stdout",
     "output_type": "stream",
     "text": [
      "Not Palindrome\n"
     ]
    }
   ],
   "source": [
    "palindromic_string('abc')"
   ]
  },
  {
   "cell_type": "code",
   "execution_count": 54,
   "metadata": {},
   "outputs": [],
   "source": [
    "words = ['banana','apple','watermelon']\n",
    "length = list(map(len,words))"
   ]
  },
  {
   "cell_type": "code",
   "execution_count": 55,
   "metadata": {},
   "outputs": [
    {
     "data": {
      "text/plain": [
       "[6, 5, 10]"
      ]
     },
     "execution_count": 55,
     "metadata": {},
     "output_type": "execute_result"
    }
   ],
   "source": [
    "length"
   ]
  },
  {
   "cell_type": "code",
   "execution_count": 56,
   "metadata": {},
   "outputs": [],
   "source": [
    "numbers = list(range(1,21))"
   ]
  },
  {
   "cell_type": "code",
   "execution_count": 57,
   "metadata": {},
   "outputs": [
    {
     "data": {
      "text/plain": [
       "[1, 2, 3, 4, 5, 6, 7, 8, 9, 10, 11, 12, 13, 14, 15, 16, 17, 18, 19, 20]"
      ]
     },
     "execution_count": 57,
     "metadata": {},
     "output_type": "execute_result"
    }
   ],
   "source": [
    "numbers"
   ]
  },
  {
   "cell_type": "code",
   "execution_count": 61,
   "metadata": {},
   "outputs": [],
   "source": [
    "even_numbers = filter(lambda x:x%2==0 and x>5,numbers)"
   ]
  },
  {
   "cell_type": "code",
   "execution_count": 62,
   "metadata": {},
   "outputs": [
    {
     "data": {
      "text/plain": [
       "[6, 8, 10, 12, 14, 16, 18, 20]"
      ]
     },
     "execution_count": 62,
     "metadata": {},
     "output_type": "execute_result"
    }
   ],
   "source": [
    "list(even_numbers)"
   ]
  },
  {
   "cell_type": "code",
   "execution_count": 63,
   "metadata": {},
   "outputs": [],
   "source": [
    "people = [\n",
    "    {'name':\"vishmay\",'age':32},\n",
    "    {'name':\"chetan\",'age':54},\n",
    "    {'name':\"meeta\",'age':45},\n",
    "    {'name':\"drashty\",'age':21}\n",
    "]\n"
   ]
  },
  {
   "cell_type": "code",
   "execution_count": 64,
   "metadata": {},
   "outputs": [],
   "source": [
    "def greater_than_25(people):\n",
    "    return people['age'] > 25"
   ]
  },
  {
   "cell_type": "code",
   "execution_count": 65,
   "metadata": {},
   "outputs": [
    {
     "data": {
      "text/plain": [
       "[{'name': 'vishmay', 'age': 32},\n",
       " {'name': 'chetan', 'age': 54},\n",
       " {'name': 'meeta', 'age': 45}]"
      ]
     },
     "execution_count": 65,
     "metadata": {},
     "output_type": "execute_result"
    }
   ],
   "source": [
    "list(filter(greater_than_25,people))"
   ]
  },
  {
   "cell_type": "code",
   "execution_count": 2,
   "metadata": {},
   "outputs": [
    {
     "name": "stdout",
     "output_type": "stream",
     "text": [
      "55\n"
     ]
    }
   ],
   "source": [
    "def fibonnaci(n):\n",
    "    if n<=1:\n",
    "        return n\n",
    "    else:\n",
    "        return fibonnaci(n-1) + fibonnaci(n-2)\n",
    "print(fibonnaci(10))"
   ]
  },
  {
   "cell_type": "code",
   "execution_count": 1,
   "metadata": {},
   "outputs": [],
   "source": [
    "def function_1(a,b={}):\n",
    "    if b is None:\n",
    "        return b\n",
    "    b[a] = a*a\n",
    "    return b"
   ]
  },
  {
   "cell_type": "code",
   "execution_count": 2,
   "metadata": {},
   "outputs": [
    {
     "data": {
      "text/plain": [
       "{2: 4}"
      ]
     },
     "execution_count": 2,
     "metadata": {},
     "output_type": "execute_result"
    }
   ],
   "source": [
    "function_1(2)"
   ]
  },
  {
   "cell_type": "code",
   "execution_count": 3,
   "metadata": {},
   "outputs": [
    {
     "data": {
      "text/plain": [
       "{1: 1, 3: 9}"
      ]
     },
     "execution_count": 3,
     "metadata": {},
     "output_type": "execute_result"
    }
   ],
   "source": [
    "function_1(3,{1:1})"
   ]
  },
  {
   "cell_type": "code",
   "execution_count": 9,
   "metadata": {},
   "outputs": [
    {
     "name": "stdout",
     "output_type": "stream",
     "text": [
      "{'a': 1, 'c': 3}\n",
      "{'x': 10, 'z': 20}\n"
     ]
    }
   ],
   "source": [
    "def filter_integers(**kwargs):\n",
    "    return {k: v for k, v in kwargs.items() if isinstance(v, int)}\n",
    "\n",
    "# Test\n",
    "print(filter_integers(a=1, b='two', c=3, d=4.5))  # {'a': 1, 'c': 3}\n",
    "print(filter_integers(x=10, y='yes', z=20))  # {'x': 10, 'z': 20}"
   ]
  },
  {
   "cell_type": "code",
   "execution_count": 3,
   "metadata": {},
   "outputs": [],
   "source": [
    "def integer_dictionary(**kwargs):\n",
    "    d1 = {}\n",
    "    for k,v in kwargs.items():\n",
    "        if isinstance(v,int):\n",
    "            d1[k] = v\n",
    "    return d1"
   ]
  },
  {
   "cell_type": "code",
   "execution_count": 5,
   "metadata": {},
   "outputs": [
    {
     "data": {
      "text/plain": [
       "{'x': 10, 'z': 20}"
      ]
     },
     "execution_count": 5,
     "metadata": {},
     "output_type": "execute_result"
    }
   ],
   "source": [
    "answer_d1 = integer_dictionary(x=10, y='yes', z=20)\n",
    "answer_d1"
   ]
  },
  {
   "cell_type": "code",
   "execution_count": 9,
   "metadata": {},
   "outputs": [],
   "source": [
    "def global_fun(callback,lst):\n",
    "    return [callback(i) for i in lst if isinstance(i,int)]"
   ]
  },
  {
   "cell_type": "code",
   "execution_count": 10,
   "metadata": {},
   "outputs": [],
   "source": [
    "answer_lst = global_fun(lambda x : x*x , [4.5,4,2,3])"
   ]
  },
  {
   "cell_type": "code",
   "execution_count": 11,
   "metadata": {},
   "outputs": [
    {
     "data": {
      "text/plain": [
       "[16, 4, 9]"
      ]
     },
     "execution_count": 11,
     "metadata": {},
     "output_type": "execute_result"
    }
   ],
   "source": [
    "answer_lst"
   ]
  },
  {
   "cell_type": "code",
   "execution_count": 14,
   "metadata": {},
   "outputs": [],
   "source": [
    "def out_fun(x):\n",
    "    def inn_fun(x):\n",
    "        return x**2\n",
    "    return inn_fun(x)"
   ]
  },
  {
   "cell_type": "code",
   "execution_count": 15,
   "metadata": {},
   "outputs": [
    {
     "name": "stdout",
     "output_type": "stream",
     "text": [
      "4\n"
     ]
    }
   ],
   "source": [
    "print(out_fun(2))"
   ]
  },
  {
   "cell_type": "code",
   "execution_count": 33,
   "metadata": {},
   "outputs": [
    {
     "name": "stdout",
     "output_type": "stream",
     "text": [
      "Started.....\n",
      "Thanks for ur patience....\n",
      "Time taken : 0.0\n",
      "15\n"
     ]
    }
   ],
   "source": [
    "import time\n",
    "def calculate_time(fun):\n",
    "    def wrapper(*args,**kwargs):\n",
    "        start = time.time()\n",
    "        print(\"Started.....\")\n",
    "        result = fun(*args,**kwargs)\n",
    "        end = time.time()\n",
    "        print(\"Thanks for ur patience....\")\n",
    "        print(f\"Time taken : {end-start}\")\n",
    "        return result\n",
    "    return wrapper\n",
    "\n",
    "@calculate_time\n",
    "def add_numbers(*args):\n",
    "    return sum(args,start=0)\n",
    "\n",
    "result = add_numbers(1,2,3,4,5)\n",
    "print(result)"
   ]
  },
  {
   "cell_type": "code",
   "execution_count": 42,
   "metadata": {},
   "outputs": [],
   "source": [
    "def fibonnaci_seq():\n",
    "    a = 0\n",
    "    b = 1\n",
    "    while True:\n",
    "        yield a\n",
    "        a,b = b,a+b\n"
   ]
  },
  {
   "cell_type": "code",
   "execution_count": 43,
   "metadata": {},
   "outputs": [],
   "source": [
    "obj_fib_seq = fibonnaci_seq()"
   ]
  },
  {
   "cell_type": "code",
   "execution_count": 44,
   "metadata": {},
   "outputs": [
    {
     "name": "stdout",
     "output_type": "stream",
     "text": [
      "0\n",
      "1\n",
      "1\n",
      "2\n",
      "3\n",
      "5\n",
      "8\n",
      "13\n",
      "21\n",
      "34\n"
     ]
    }
   ],
   "source": [
    "for i in range(10):\n",
    "    print(next(obj_fib_seq))"
   ]
  },
  {
   "cell_type": "code",
   "execution_count": 48,
   "metadata": {},
   "outputs": [],
   "source": [
    "def write_to_file(file_name,lst):\n",
    "    with open(file_name,'w') as file:\n",
    "        file.write(str(lst))\n",
    "    "
   ]
  },
  {
   "cell_type": "code",
   "execution_count": 49,
   "metadata": {},
   "outputs": [],
   "source": [
    "write_to_file('output.txt',[1,2,3,4,5,6,7])"
   ]
  },
  {
   "cell_type": "code",
   "execution_count": 51,
   "metadata": {},
   "outputs": [],
   "source": [
    "def create_data_list(lst):\n",
    "    int_lst = [i for i in lst if isinstance(i,int)]\n",
    "    float_lst = [i for i in lst if isinstance(i,float)]\n",
    "    str_lst = [i for i in lst if isinstance(i,str)]\n",
    "    return int_lst,float_lst,str_lst"
   ]
  },
  {
   "cell_type": "code",
   "execution_count": 52,
   "metadata": {},
   "outputs": [],
   "source": [
    "integer_lst,float_lst,str_lst = create_data_list([1,2,1.2,7.7,77,'dhruv',568,1+5j,'vishmay'])"
   ]
  },
  {
   "cell_type": "code",
   "execution_count": 53,
   "metadata": {},
   "outputs": [
    {
     "name": "stdout",
     "output_type": "stream",
     "text": [
      "integer : [1, 2, 77, 568] , float : [1.2, 7.7] , string : ['dhruv', 'vishmay']\n"
     ]
    }
   ],
   "source": [
    "print(f\"integer : {integer_lst} , float : {float_lst} , string : {str_lst}\")"
   ]
  },
  {
   "cell_type": "code",
   "execution_count": 54,
   "metadata": {},
   "outputs": [
    {
     "name": "stdout",
     "output_type": "stream",
     "text": [
      "5.0\n",
      "0.8939966636005579\n"
     ]
    }
   ],
   "source": [
    "import math\n",
    "print(math.sqrt(25))\n",
    "print(math.sin(90))"
   ]
  },
  {
   "cell_type": "code",
   "execution_count": 61,
   "metadata": {},
   "outputs": [
    {
     "name": "stdout",
     "output_type": "stream",
     "text": [
      "2024-08-01 18:16:41.944609\n"
     ]
    }
   ],
   "source": [
    "import datetime as dt\n",
    "print(dt.datetime.now())"
   ]
  },
  {
   "cell_type": "code",
   "execution_count": 69,
   "metadata": {},
   "outputs": [
    {
     "name": "stdout",
     "output_type": "stream",
     "text": [
      "Congrats you find 69 after 69 attempts\n"
     ]
    }
   ],
   "source": [
    "import random\n",
    "number = random.randint(1,100)\n",
    "count = 1\n",
    "while number != 69:\n",
    "    number = random.randint(1,100)\n",
    "    count += 1\n",
    "else:\n",
    "    print(f\"Congrats you find 69 after {count} attempts\")"
   ]
  },
  {
   "cell_type": "code",
   "execution_count": 86,
   "metadata": {},
   "outputs": [],
   "source": [
    "def read_file(file_name):\n",
    "    with open(file_name,'r') as f:\n",
    "        for line in f:\n",
    "            print(line.strip())"
   ]
  },
  {
   "cell_type": "code",
   "execution_count": 87,
   "metadata": {},
   "outputs": [
    {
     "name": "stdout",
     "output_type": "stream",
     "text": [
      "Hello this is vishmay dhruv\n",
      "How are you??\n"
     ]
    }
   ],
   "source": [
    "read_file('sample.txt')"
   ]
  },
  {
   "cell_type": "code",
   "execution_count": 89,
   "metadata": {},
   "outputs": [],
   "source": [
    "def write_file(lst):\n",
    "    with open('output.txt','w') as file:\n",
    "        for i in lst:\n",
    "            file.write(i+\"\\n\")"
   ]
  },
  {
   "cell_type": "code",
   "execution_count": 90,
   "metadata": {},
   "outputs": [],
   "source": [
    "write_file(['Hello this is vcd','Hello this is cmd','Hello this is mcd','Hello this is dcd'])"
   ]
  },
  {
   "cell_type": "code",
   "execution_count": 91,
   "metadata": {},
   "outputs": [],
   "source": [
    "with open('source.txt','r') as source:\n",
    "    s = source.read()\n",
    "with open('destination.txt','w') as destination:\n",
    "    destination.write(s)"
   ]
  },
  {
   "cell_type": "code",
   "execution_count": 95,
   "metadata": {},
   "outputs": [],
   "source": [
    "with open('log.txt','a') as file:\n",
    "    file.write('Hello this is mcd ur mother!!!' + '\\n')"
   ]
  },
  {
   "cell_type": "code",
   "execution_count": 100,
   "metadata": {},
   "outputs": [
    {
     "name": "stdout",
     "output_type": "stream",
     "text": [
      "words :  14\n",
      "lines :  3\n"
     ]
    }
   ],
   "source": [
    "with open('document.txt','r') as file:\n",
    "    word_count = 0\n",
    "    line_count = 0\n",
    "    for i in file:\n",
    "        line_count+=1\n",
    "        word_count += len(i.strip().split())\n",
    "    print(\"words : \",word_count)\n",
    "    print(\"lines : \",line_count)"
   ]
  },
  {
   "cell_type": "code",
   "execution_count": 101,
   "metadata": {},
   "outputs": [],
   "source": [
    "import datetime\n",
    "\n",
    "def log_message(message, filename='activity.log'):\n",
    "    timestamp = datetime.datetime.now().isoformat()\n",
    "    with open(filename, 'a') as file:\n",
    "        file.write(f'[{timestamp}] {message}\\n')\n",
    "\n",
    "log_message('This is log message','log.txt')"
   ]
  },
  {
   "cell_type": "code",
   "execution_count": 3,
   "metadata": {},
   "outputs": [],
   "source": [
    "def key_exception(d):\n",
    "    try:\n",
    "        key,value = tuple(input(\"Enter key and value space separated.\").split())\n",
    "        d[key] = value\n",
    "    except KeyError as ex:\n",
    "        print(ex)\n",
    "    finally:\n",
    "        print(\"Execution completed..\")"
   ]
  },
  {
   "cell_type": "code",
   "execution_count": 10,
   "metadata": {},
   "outputs": [],
   "source": [
    "d = {'a': 1, 'b': 2, 'c': 3}"
   ]
  },
  {
   "cell_type": "code",
   "execution_count": 13,
   "metadata": {},
   "outputs": [],
   "source": [
    "del d['c']"
   ]
  },
  {
   "cell_type": "code",
   "execution_count": 14,
   "metadata": {},
   "outputs": [
    {
     "data": {
      "text/plain": [
       "{'a': 1, 'b': 2}"
      ]
     },
     "execution_count": 14,
     "metadata": {},
     "output_type": "execute_result"
    }
   ],
   "source": [
    "d"
   ]
  },
  {
   "cell_type": "code",
   "execution_count": 15,
   "metadata": {},
   "outputs": [
    {
     "name": "stdout",
     "output_type": "stream",
     "text": [
      "Collecting requests\n",
      "  Downloading requests-2.32.3-py3-none-any.whl.metadata (4.6 kB)\n",
      "Collecting charset-normalizer<4,>=2 (from requests)\n",
      "  Downloading charset_normalizer-3.3.2-cp312-cp312-win_amd64.whl.metadata (34 kB)\n",
      "Collecting idna<4,>=2.5 (from requests)\n",
      "  Downloading idna-3.7-py3-none-any.whl.metadata (9.9 kB)\n",
      "Collecting urllib3<3,>=1.21.1 (from requests)\n",
      "  Downloading urllib3-2.2.2-py3-none-any.whl.metadata (6.4 kB)\n",
      "Collecting certifi>=2017.4.17 (from requests)\n",
      "  Downloading certifi-2024.7.4-py3-none-any.whl.metadata (2.2 kB)\n",
      "Downloading requests-2.32.3-py3-none-any.whl (64 kB)\n",
      "   ---------------------------------------- 0.0/64.9 kB ? eta -:--:--\n",
      "   ------------------ --------------------- 30.7/64.9 kB 1.3 MB/s eta 0:00:01\n",
      "   ------------------------- -------------- 41.0/64.9 kB 991.0 kB/s eta 0:00:01\n",
      "   ---------------------------------------- 64.9/64.9 kB 581.8 kB/s eta 0:00:00\n",
      "Downloading certifi-2024.7.4-py3-none-any.whl (162 kB)\n",
      "   ---------------------------------------- 0.0/163.0 kB ? eta -:--:--\n",
      "   -- ------------------------------------- 10.2/163.0 kB ? eta -:--:--\n",
      "   ---------- ----------------------------- 41.0/163.0 kB 2.0 MB/s eta 0:00:01\n",
      "   -------------- ------------------------ 61.4/163.0 kB 656.4 kB/s eta 0:00:01\n",
      "   ----------------- --------------------- 71.7/163.0 kB 660.6 kB/s eta 0:00:01\n",
      "   -------------------------- ----------- 112.6/163.0 kB 598.8 kB/s eta 0:00:01\n",
      "   ---------------------------- --------- 122.9/163.0 kB 516.7 kB/s eta 0:00:01\n",
      "   --------------------------------- ---- 143.4/163.0 kB 502.3 kB/s eta 0:00:01\n",
      "   ----------------------------------- -- 153.6/163.0 kB 484.3 kB/s eta 0:00:01\n",
      "   -------------------------------------- 163.0/163.0 kB 465.6 kB/s eta 0:00:00\n",
      "Downloading charset_normalizer-3.3.2-cp312-cp312-win_amd64.whl (100 kB)\n",
      "   ---------------------------------------- 0.0/100.4 kB ? eta -:--:--\n",
      "   ---- ----------------------------------- 10.2/100.4 kB ? eta -:--:--\n",
      "   ----------- --------------------------- 30.7/100.4 kB 660.6 kB/s eta 0:00:01\n",
      "   ----------------------- --------------- 61.4/100.4 kB 544.7 kB/s eta 0:00:01\n",
      "   ----------------------- --------------- 61.4/100.4 kB 544.7 kB/s eta 0:00:01\n",
      "   --------------------------- ----------- 71.7/100.4 kB 393.8 kB/s eta 0:00:01\n",
      "   -------------------------------------- 100.4/100.4 kB 383.6 kB/s eta 0:00:00\n",
      "Downloading idna-3.7-py3-none-any.whl (66 kB)\n",
      "   ---------------------------------------- 0.0/66.8 kB ? eta -:--:--\n",
      "   ------ --------------------------------- 10.2/66.8 kB ? eta -:--:--\n",
      "   ------------------ --------------------- 30.7/66.8 kB 660.6 kB/s eta 0:00:01\n",
      "   ------------------------------------ --- 61.4/66.8 kB 550.5 kB/s eta 0:00:01\n",
      "   ---------------------------------------- 66.8/66.8 kB 519.2 kB/s eta 0:00:00\n",
      "Downloading urllib3-2.2.2-py3-none-any.whl (121 kB)\n",
      "   ---------------------------------------- 0.0/121.4 kB ? eta -:--:--\n",
      "   --- ------------------------------------ 10.2/121.4 kB ? eta -:--:--\n",
      "   --------- ----------------------------- 30.7/121.4 kB 435.7 kB/s eta 0:00:01\n",
      "   ------------- ------------------------- 41.0/121.4 kB 393.8 kB/s eta 0:00:01\n",
      "   ------------------- ------------------- 61.4/121.4 kB 409.6 kB/s eta 0:00:01\n",
      "   ------------------- ------------------- 61.4/121.4 kB 409.6 kB/s eta 0:00:01\n",
      "   ----------------------------- --------- 92.2/121.4 kB 403.5 kB/s eta 0:00:01\n",
      "   ----------------------------------- -- 112.6/121.4 kB 385.0 kB/s eta 0:00:01\n",
      "   -------------------------------------- 121.4/121.4 kB 374.4 kB/s eta 0:00:00\n",
      "Installing collected packages: urllib3, idna, charset-normalizer, certifi, requests\n",
      "Successfully installed certifi-2024.7.4 charset-normalizer-3.3.2 idna-3.7 requests-2.32.3 urllib3-2.2.2\n",
      "Note: you may need to restart the kernel to use updated packages.\n"
     ]
    }
   ],
   "source": [
    "pip install requests"
   ]
  },
  {
   "cell_type": "code",
   "execution_count": 8,
   "metadata": {},
   "outputs": [],
   "source": [
    "class Person:\n",
    "    def __init__(self,name,age):\n",
    "        self.name = name\n",
    "        self.age = age\n",
    "\n",
    "class Employee(Person):\n",
    "    def __init__(self,employee_id,name,age):\n",
    "        super().__init__(name,age)\n",
    "        self.employee_id = employee_id\n",
    "e1 = Employee(1,\"vishmay dhruv\",25)"
   ]
  },
  {
   "cell_type": "code",
   "execution_count": 9,
   "metadata": {},
   "outputs": [
    {
     "name": "stdout",
     "output_type": "stream",
     "text": [
      "1 vishmay dhruv 25\n"
     ]
    }
   ],
   "source": [
    "print(e1.employee_id,e1.name,e1.age)"
   ]
  },
  {
   "cell_type": "code",
   "execution_count": 10,
   "metadata": {},
   "outputs": [],
   "source": [
    "class Address:\n",
    "    def __init__(self,street,city,zipcode):\n",
    "        self.street = street\n",
    "        self.city = city\n",
    "        self.ziocode = zipcode\n",
    "\n",
    "class Person:\n",
    "    a1 = Address(5,\"rajkot\",360001)"
   ]
  },
  {
   "cell_type": "code",
   "execution_count": 11,
   "metadata": {},
   "outputs": [],
   "source": [
    "p1 = Person()"
   ]
  },
  {
   "cell_type": "code",
   "execution_count": 12,
   "metadata": {},
   "outputs": [
    {
     "data": {
      "text/plain": [
       "<__main__.Address at 0x1d0166d3ce0>"
      ]
     },
     "execution_count": 12,
     "metadata": {},
     "output_type": "execute_result"
    }
   ],
   "source": [
    "p1.a1"
   ]
  },
  {
   "cell_type": "code",
   "execution_count": 13,
   "metadata": {},
   "outputs": [
    {
     "name": "stdout",
     "output_type": "stream",
     "text": [
      "<__main__.Address object at 0x000001D0166D3CE0>\n"
     ]
    }
   ],
   "source": [
    "print(p1.a1)"
   ]
  },
  {
   "cell_type": "code",
   "execution_count": 22,
   "metadata": {},
   "outputs": [],
   "source": [
    "class Counter:\n",
    "    count = 0\n",
    "    def __init__(self):\n",
    "        Counter.count += 1\n",
    "\n"
   ]
  },
  {
   "cell_type": "code",
   "execution_count": 23,
   "metadata": {},
   "outputs": [],
   "source": [
    "c1 = Counter()\n",
    "c2 = Counter()"
   ]
  },
  {
   "cell_type": "code",
   "execution_count": 25,
   "metadata": {},
   "outputs": [
    {
     "name": "stdout",
     "output_type": "stream",
     "text": [
      "2\n"
     ]
    }
   ],
   "source": [
    "print(c1.count)"
   ]
  },
  {
   "cell_type": "code",
   "execution_count": 27,
   "metadata": {},
   "outputs": [
    {
     "name": "stdout",
     "output_type": "stream",
     "text": [
      "5.0\n"
     ]
    }
   ],
   "source": [
    "import math\n",
    "class MathOperations:\n",
    "    @staticmethod\n",
    "    def srt_num(number):\n",
    "        return math.sqrt(number)\n",
    "    \n",
    "print(MathOperations.srt_num(25))"
   ]
  },
  {
   "cell_type": "code",
   "execution_count": 28,
   "metadata": {},
   "outputs": [
    {
     "name": "stdout",
     "output_type": "stream",
     "text": [
      "Athlete walking...\n",
      "Walking...\n"
     ]
    }
   ],
   "source": [
    "class Walker:\n",
    "    def walk(self):\n",
    "        print(\"Walking...\")\n",
    "\n",
    "class Runner:\n",
    "    def run(self):\n",
    "        print(\"Running...\")\n",
    "\n",
    "class Athlete(Walker, Runner):\n",
    "    def walk(self):\n",
    "        print(\"Athlete walking...\")\n",
    "        super().walk()\n",
    "\n",
    "athlete = Athlete()\n",
    "athlete.walk()"
   ]
  },
  {
   "cell_type": "code",
   "execution_count": 29,
   "metadata": {},
   "outputs": [
    {
     "name": "stdout",
     "output_type": "stream",
     "text": [
      "B's show method\n"
     ]
    }
   ],
   "source": [
    "class A:\n",
    "    def show(self):\n",
    "        print(\"A's show method\")\n",
    "\n",
    "class B(A):\n",
    "    def show(self):\n",
    "        print(\"B's show method\")\n",
    "\n",
    "class C(A):\n",
    "    def show(self):\n",
    "        print(\"C's show method\")\n",
    "\n",
    "class D(B, C):\n",
    "    pass\n",
    "\n",
    "# Test\n",
    "d = D()\n",
    "d.show()  # B's show method"
   ]
  },
  {
   "cell_type": "code",
   "execution_count": 30,
   "metadata": {},
   "outputs": [
    {
     "name": "stdout",
     "output_type": "stream",
     "text": [
      "John M123\n"
     ]
    }
   ],
   "source": [
    "class Person:\n",
    "    def __init__(self, name):\n",
    "        self.name = name\n",
    "\n",
    "class Employee:\n",
    "    def __init__(self, employee_id):\n",
    "        self.employee_id = employee_id\n",
    "\n",
    "class Manager(Person, Employee):\n",
    "    def __init__(self, name, employee_id):\n",
    "        super().__init__(name)\n",
    "        Employee.__init__(self, employee_id)\n",
    "\n",
    "# Test\n",
    "manager = Manager('John', 'M123')\n",
    "print(manager.name, manager.employee_id)"
   ]
  },
  {
   "cell_type": "code",
   "execution_count": 32,
   "metadata": {},
   "outputs": [
    {
     "name": "stdout",
     "output_type": "stream",
     "text": [
      "Error: Insufficient balance!\n"
     ]
    }
   ],
   "source": [
    "class InsufficientBalanceError(Exception):\n",
    "    pass\n",
    "\n",
    "class BankAccount:\n",
    "    def __init__(self, account_number, balance=0):\n",
    "        self.__account_number = account_number\n",
    "        self.__balance = balance\n",
    "\n",
    "    def deposit(self, amount):\n",
    "        self.__balance += amount\n",
    "\n",
    "    def withdraw(self, amount):\n",
    "        if amount > self.__balance:\n",
    "            raise InsufficientBalanceError(\"Insufficient balance!\")\n",
    "        else:\n",
    "            self.__balance -= amount\n",
    "\n",
    "    def check_balance(self):\n",
    "        return self.__balance\n",
    "    \n",
    "account = BankAccount('12345678', 1000)\n",
    "account.deposit(500)\n",
    "try:\n",
    "    account.withdraw(2000)\n",
    "except InsufficientBalanceError as e:\n",
    "    print(f\"Error: {e}\")"
   ]
  },
  {
   "cell_type": "code",
   "execution_count": 37,
   "metadata": {},
   "outputs": [
    {
     "name": "stdout",
     "output_type": "stream",
     "text": [
      "500W\n",
      "300W\n"
     ]
    },
    {
     "ename": "",
     "evalue": "",
     "output_type": "error",
     "traceback": [
      "\u001b[1;31mThe Kernel crashed while executing code in the current cell or a previous cell. \n",
      "\u001b[1;31mPlease review the code in the cell(s) to identify a possible cause of the failure. \n",
      "\u001b[1;31mClick <a href='https://aka.ms/vscodeJupyterKernelCrash'>here</a> for more info. \n",
      "\u001b[1;31mView Jupyter <a href='command:jupyter.viewOutput'>log</a> for further details."
     ]
    }
   ],
   "source": [
    "from abc import ABC,abstractmethod\n",
    "class Appliance(ABC):\n",
    "    @property\n",
    "    @abstractmethod\n",
    "    def power(self):\n",
    "        pass\n",
    "\n",
    "class WashingMachine(Appliance):\n",
    "    @property\n",
    "    def power(self):\n",
    "        return \"500W\"\n",
    "\n",
    "class Refrigerator(Appliance):\n",
    "    @property\n",
    "    def power(self):\n",
    "        return \"300W\"\n",
    "\n",
    "# Test\n",
    "wm = WashingMachine()\n",
    "fridge = Refrigerator()\n",
    "print(wm.power)  # 500W\n",
    "print(fridge.power)  # 300W"
   ]
  },
  {
   "cell_type": "code",
   "execution_count": 2,
   "metadata": {},
   "outputs": [
    {
     "name": "stdout",
     "output_type": "stream",
     "text": [
      "Hello world!\n"
     ]
    }
   ],
   "source": [
    "print(\"Hello world!\")"
   ]
  },
  {
   "cell_type": "code",
   "execution_count": 4,
   "metadata": {},
   "outputs": [],
   "source": [
    "add = lambda *x : sum(x)"
   ]
  },
  {
   "cell_type": "code",
   "execution_count": 5,
   "metadata": {},
   "outputs": [
    {
     "data": {
      "text/plain": [
       "15"
      ]
     },
     "execution_count": 5,
     "metadata": {},
     "output_type": "execute_result"
    }
   ],
   "source": [
    "add(1,2,3,4,5)"
   ]
  },
  {
   "cell_type": "code",
   "execution_count": 22,
   "metadata": {},
   "outputs": [
    {
     "name": "stdout",
     "output_type": "stream",
     "text": [
      "15\n"
     ]
    }
   ],
   "source": [
    "l = [1,2,3,4,5]\n",
    "print(sum(l))"
   ]
  },
  {
   "cell_type": "code",
   "execution_count": 23,
   "metadata": {},
   "outputs": [
    {
     "data": {
      "text/plain": [
       "[1, 4, 9, 16, 25]"
      ]
     },
     "execution_count": 23,
     "metadata": {},
     "output_type": "execute_result"
    }
   ],
   "source": [
    "list(map(lambda x : x**2,l))"
   ]
  },
  {
   "cell_type": "code",
   "execution_count": 16,
   "metadata": {},
   "outputs": [
    {
     "data": {
      "text/plain": [
       "<map at 0x1b1ff5adae0>"
      ]
     },
     "execution_count": 16,
     "metadata": {},
     "output_type": "execute_result"
    }
   ],
   "source": [
    "x"
   ]
  },
  {
   "cell_type": "code",
   "execution_count": 24,
   "metadata": {},
   "outputs": [],
   "source": [
    "from functools import reduce\n",
    "l = [1,2,3]"
   ]
  },
  {
   "cell_type": "code",
   "execution_count": 33,
   "metadata": {},
   "outputs": [
    {
     "data": {
      "text/plain": [
       "6"
      ]
     },
     "execution_count": 33,
     "metadata": {},
     "output_type": "execute_result"
    }
   ],
   "source": [
    "reduce(lambda x,y : x+y,[1,2,3])"
   ]
  },
  {
   "cell_type": "code",
   "execution_count": 34,
   "metadata": {},
   "outputs": [],
   "source": [
    "l1 = [x for x in range(1,101) if x % 2 != 0]"
   ]
  },
  {
   "cell_type": "code",
   "execution_count": 35,
   "metadata": {},
   "outputs": [
    {
     "data": {
      "text/plain": [
       "[1,\n",
       " 3,\n",
       " 5,\n",
       " 7,\n",
       " 9,\n",
       " 11,\n",
       " 13,\n",
       " 15,\n",
       " 17,\n",
       " 19,\n",
       " 21,\n",
       " 23,\n",
       " 25,\n",
       " 27,\n",
       " 29,\n",
       " 31,\n",
       " 33,\n",
       " 35,\n",
       " 37,\n",
       " 39,\n",
       " 41,\n",
       " 43,\n",
       " 45,\n",
       " 47,\n",
       " 49,\n",
       " 51,\n",
       " 53,\n",
       " 55,\n",
       " 57,\n",
       " 59,\n",
       " 61,\n",
       " 63,\n",
       " 65,\n",
       " 67,\n",
       " 69,\n",
       " 71,\n",
       " 73,\n",
       " 75,\n",
       " 77,\n",
       " 79,\n",
       " 81,\n",
       " 83,\n",
       " 85,\n",
       " 87,\n",
       " 89,\n",
       " 91,\n",
       " 93,\n",
       " 95,\n",
       " 97,\n",
       " 99]"
      ]
     },
     "execution_count": 35,
     "metadata": {},
     "output_type": "execute_result"
    }
   ],
   "source": [
    "l1"
   ]
  },
  {
   "cell_type": "code",
   "execution_count": 36,
   "metadata": {},
   "outputs": [
    {
     "data": {
      "text/plain": [
       "50"
      ]
     },
     "execution_count": 36,
     "metadata": {},
     "output_type": "execute_result"
    }
   ],
   "source": [
    "len(l1)"
   ]
  },
  {
   "cell_type": "code",
   "execution_count": 37,
   "metadata": {},
   "outputs": [],
   "source": [
    "l2 = [('Sachin Tendulkar', 34357), ('Ricky Ponting', 27483), ('Jack Kallis', 25534), ('Virat Kohli', 24936)]"
   ]
  },
  {
   "cell_type": "code",
   "execution_count": 38,
   "metadata": {},
   "outputs": [
    {
     "data": {
      "text/plain": [
       "[('Sachin Tendulkar', 34357),\n",
       " ('Ricky Ponting', 27483),\n",
       " ('Jack Kallis', 25534),\n",
       " ('Virat Kohli', 24936)]"
      ]
     },
     "execution_count": 38,
     "metadata": {},
     "output_type": "execute_result"
    }
   ],
   "source": [
    "l2"
   ]
  },
  {
   "cell_type": "code",
   "execution_count": 41,
   "metadata": {},
   "outputs": [],
   "source": [
    "t = lambda l2 : print(l2[1])"
   ]
  },
  {
   "cell_type": "code",
   "execution_count": 45,
   "metadata": {},
   "outputs": [],
   "source": [
    "sorted_players = sorted(l2,key = lambda x : x[1])"
   ]
  },
  {
   "cell_type": "code",
   "execution_count": 46,
   "metadata": {},
   "outputs": [
    {
     "data": {
      "text/plain": [
       "[('Virat Kohli', 24936),\n",
       " ('Jack Kallis', 25534),\n",
       " ('Ricky Ponting', 27483),\n",
       " ('Sachin Tendulkar', 34357)]"
      ]
     },
     "execution_count": 46,
     "metadata": {},
     "output_type": "execute_result"
    }
   ],
   "source": [
    "sorted_players"
   ]
  },
  {
   "cell_type": "code",
   "execution_count": 47,
   "metadata": {},
   "outputs": [],
   "source": [
    "l3 = [1, 2, 3, 4, 5, 6, 7, 8, 9, 10]"
   ]
  },
  {
   "cell_type": "code",
   "execution_count": 48,
   "metadata": {},
   "outputs": [
    {
     "data": {
      "text/plain": [
       "('1', '2', '3', '4', '5', '6', '7', '8', '9', '10')"
      ]
     },
     "execution_count": 48,
     "metadata": {},
     "output_type": "execute_result"
    }
   ],
   "source": [
    "tuple(map(lambda x : str(x),l3))"
   ]
  },
  {
   "cell_type": "code",
   "execution_count": 49,
   "metadata": {},
   "outputs": [],
   "source": [
    "l4 = ['python', 'php', 'aba', 'radar', 'level']"
   ]
  },
  {
   "cell_type": "code",
   "execution_count": 51,
   "metadata": {},
   "outputs": [
    {
     "data": {
      "text/plain": [
       "['php', 'aba', 'radar', 'level']"
      ]
     },
     "execution_count": 51,
     "metadata": {},
     "output_type": "execute_result"
    }
   ],
   "source": [
    "list(filter(lambda x : x if x == x[::-1] else None,l4))"
   ]
  },
  {
   "cell_type": "code",
   "execution_count": 59,
   "metadata": {},
   "outputs": [
    {
     "name": "stdout",
     "output_type": "stream",
     "text": [
      "this is the start to my function.\n",
      "6\n",
      "this is the end to my function.\n"
     ]
    },
    {
     "data": {
      "text/plain": [
       "6"
      ]
     },
     "execution_count": 59,
     "metadata": {},
     "output_type": "execute_result"
    }
   ],
   "source": [
    "def decorate(fnc):\n",
    "    def wrapper(*args):\n",
    "        print(\"this is the start to my function.\")\n",
    "        result = fnc(*args)\n",
    "        print(result)\n",
    "        print(\"this is the end to my function.\")\n",
    "        return result\n",
    "    return wrapper\n",
    "@decorate\n",
    "def add_num(*x):\n",
    "    return sum(x)\n",
    "add_num(1,2,3)"
   ]
  },
  {
   "cell_type": "code",
   "execution_count": 1,
   "metadata": {},
   "outputs": [
    {
     "name": "stdout",
     "output_type": "stream",
     "text": [
      "^C\n",
      "Note: you may need to restart the kernel to use updated packages.\n"
     ]
    },
    {
     "name": "stdout",
     "output_type": "stream",
     "text": [
      "Collecting numpy\n",
      "  Downloading numpy-2.0.1-cp312-cp312-win_amd64.whl.metadata (60 kB)\n",
      "     ---------------------------------------- 0.0/60.9 kB ? eta -:--:--\n",
      "     ---------------------------------------- 0.0/60.9 kB ? eta -:--:--\n",
      "     -------------------- ------------------- 30.7/60.9 kB 1.3 MB/s eta 0:00:01\n",
      "     ------------------------------- ------ 51.2/60.9 kB 871.5 kB/s eta 0:00:01\n",
      "     ------------------------------- ------ 51.2/60.9 kB 871.5 kB/s eta 0:00:01\n",
      "     ------------------------------- ------ 51.2/60.9 kB 871.5 kB/s eta 0:00:01\n",
      "     -------------------------------------- 60.9/60.9 kB 249.5 kB/s eta 0:00:00\n",
      "Downloading numpy-2.0.1-cp312-cp312-win_amd64.whl (16.3 MB)\n",
      "   ---------------------------------------- 0.0/16.3 MB ? eta -:--:--\n",
      "   ---------------------------------------- 0.0/16.3 MB ? eta -:--:--\n",
      "   ---------------------------------------- 0.1/16.3 MB 1.1 MB/s eta 0:00:15\n",
      "   ---------------------------------------- 0.1/16.3 MB 930.9 kB/s eta 0:00:18\n",
      "   ---------------------------------------- 0.1/16.3 MB 798.9 kB/s eta 0:00:21\n",
      "   ---------------------------------------- 0.2/16.3 MB 817.0 kB/s eta 0:00:20\n",
      "   ---------------------------------------- 0.2/16.3 MB 748.1 kB/s eta 0:00:22\n",
      "   ---------------------------------------- 0.2/16.3 MB 692.9 kB/s eta 0:00:24\n",
      "    --------------------------------------- 0.2/16.3 MB 621.6 kB/s eta 0:00:26\n",
      "    --------------------------------------- 0.2/16.3 MB 597.3 kB/s eta 0:00:27\n",
      "    --------------------------------------- 0.2/16.3 MB 578.7 kB/s eta 0:00:28\n",
      "    --------------------------------------- 0.3/16.3 MB 506.7 kB/s eta 0:00:32\n",
      "    --------------------------------------- 0.3/16.3 MB 506.7 kB/s eta 0:00:32\n",
      "    --------------------------------------- 0.3/16.3 MB 486.7 kB/s eta 0:00:33\n",
      "    --------------------------------------- 0.3/16.3 MB 453.2 kB/s eta 0:00:36\n",
      "    --------------------------------------- 0.3/16.3 MB 452.0 kB/s eta 0:00:36\n",
      "    --------------------------------------- 0.3/16.3 MB 450.9 kB/s eta 0:00:36\n",
      "    --------------------------------------- 0.3/16.3 MB 445.8 kB/s eta 0:00:36\n",
      "    --------------------------------------- 0.4/16.3 MB 449.7 kB/s eta 0:00:36\n",
      "    --------------------------------------- 0.4/16.3 MB 449.7 kB/s eta 0:00:36\n",
      "   - -------------------------------------- 0.4/16.3 MB 456.4 kB/s eta 0:00:35\n",
      "   - -------------------------------------- 0.4/16.3 MB 444.3 kB/s eta 0:00:36\n",
      "   - -------------------------------------- 0.4/16.3 MB 443.8 kB/s eta 0:00:36\n",
      "   - -------------------------------------- 0.5/16.3 MB 440.3 kB/s eta 0:00:36\n",
      "   - -------------------------------------- 0.5/16.3 MB 440.1 kB/s eta 0:00:36\n",
      "   - -------------------------------------- 0.5/16.3 MB 436.9 kB/s eta 0:00:37\n",
      "   - -------------------------------------- 0.5/16.3 MB 442.5 kB/s eta 0:00:36\n",
      "   - -------------------------------------- 0.5/16.3 MB 433.8 kB/s eta 0:00:37\n",
      "   - -------------------------------------- 0.6/16.3 MB 439.4 kB/s eta 0:00:36\n",
      "   - -------------------------------------- 0.6/16.3 MB 436.7 kB/s eta 0:00:36\n",
      "   - -------------------------------------- 0.6/16.3 MB 441.9 kB/s eta 0:00:36\n",
      "   - -------------------------------------- 0.6/16.3 MB 449.1 kB/s eta 0:00:35\n",
      "   - -------------------------------------- 0.7/16.3 MB 450.7 kB/s eta 0:00:35\n",
      "   - -------------------------------------- 0.7/16.3 MB 457.4 kB/s eta 0:00:35\n",
      "   - -------------------------------------- 0.7/16.3 MB 461.2 kB/s eta 0:00:34\n",
      "   - -------------------------------------- 0.7/16.3 MB 470.0 kB/s eta 0:00:34\n",
      "   - -------------------------------------- 0.8/16.3 MB 466.3 kB/s eta 0:00:34\n",
      "   - -------------------------------------- 0.8/16.3 MB 463.5 kB/s eta 0:00:34\n",
      "   - -------------------------------------- 0.8/16.3 MB 463.5 kB/s eta 0:00:34\n",
      "   -- ------------------------------------- 0.8/16.3 MB 458.1 kB/s eta 0:00:34\n",
      "   -- ------------------------------------- 0.8/16.3 MB 458.1 kB/s eta 0:00:34\n",
      "   -- ------------------------------------- 0.8/16.3 MB 444.3 kB/s eta 0:00:35\n",
      "   -- ------------------------------------- 0.8/16.3 MB 444.0 kB/s eta 0:00:35\n",
      "   -- ------------------------------------- 0.9/16.3 MB 435.0 kB/s eta 0:00:36\n",
      "   -- ------------------------------------- 0.9/16.3 MB 438.5 kB/s eta 0:00:36\n",
      "   -- ------------------------------------- 0.9/16.3 MB 435.2 kB/s eta 0:00:36\n",
      "   -- ------------------------------------- 0.9/16.3 MB 427.1 kB/s eta 0:00:36\n",
      "   -- ------------------------------------- 0.9/16.3 MB 430.5 kB/s eta 0:00:36\n",
      "   -- ------------------------------------- 0.9/16.3 MB 425.9 kB/s eta 0:00:36\n",
      "   -- ------------------------------------- 1.0/16.3 MB 426.1 kB/s eta 0:00:36\n",
      "   -- ------------------------------------- 1.0/16.3 MB 430.8 kB/s eta 0:00:36\n",
      "   -- ------------------------------------- 1.0/16.3 MB 429.6 kB/s eta 0:00:36\n",
      "   -- ------------------------------------- 1.1/16.3 MB 435.5 kB/s eta 0:00:35\n",
      "   -- ------------------------------------- 1.1/16.3 MB 436.8 kB/s eta 0:00:35\n",
      "   -- ------------------------------------- 1.1/16.3 MB 440.8 kB/s eta 0:00:35\n",
      "   -- ------------------------------------- 1.1/16.3 MB 443.5 kB/s eta 0:00:35\n",
      "   -- ------------------------------------- 1.2/16.3 MB 436.9 kB/s eta 0:00:35\n",
      "   -- ------------------------------------- 1.2/16.3 MB 442.0 kB/s eta 0:00:35\n",
      "   -- ------------------------------------- 1.2/16.3 MB 438.1 kB/s eta 0:00:35\n",
      "   -- ------------------------------------- 1.2/16.3 MB 436.8 kB/s eta 0:00:35\n",
      "   --- ------------------------------------ 1.2/16.3 MB 436.8 kB/s eta 0:00:35\n",
      "   --- ------------------------------------ 1.2/16.3 MB 436.8 kB/s eta 0:00:35\n",
      "   --- ------------------------------------ 1.3/16.3 MB 434.5 kB/s eta 0:00:35\n",
      "   --- ------------------------------------ 1.3/16.3 MB 428.7 kB/s eta 0:00:35\n",
      "   --- ------------------------------------ 1.3/16.3 MB 428.7 kB/s eta 0:00:35\n",
      "   --- ------------------------------------ 1.3/16.3 MB 424.4 kB/s eta 0:00:36\n",
      "   --- ------------------------------------ 1.3/16.3 MB 420.3 kB/s eta 0:00:36\n",
      "   --- ------------------------------------ 1.3/16.3 MB 415.2 kB/s eta 0:00:36\n",
      "   --- ------------------------------------ 1.3/16.3 MB 415.2 kB/s eta 0:00:36\n",
      "   --- ------------------------------------ 1.3/16.3 MB 415.2 kB/s eta 0:00:36\n",
      "   --- ------------------------------------ 1.4/16.3 MB 404.9 kB/s eta 0:00:37\n",
      "   --- ------------------------------------ 1.4/16.3 MB 404.9 kB/s eta 0:00:37\n",
      "   --- ------------------------------------ 1.4/16.3 MB 405.3 kB/s eta 0:00:37\n",
      "   --- ------------------------------------ 1.4/16.3 MB 399.1 kB/s eta 0:00:38\n",
      "   --- ------------------------------------ 1.4/16.3 MB 399.6 kB/s eta 0:00:38\n",
      "   --- ------------------------------------ 1.4/16.3 MB 397.2 kB/s eta 0:00:38\n",
      "   --- ------------------------------------ 1.4/16.3 MB 399.5 kB/s eta 0:00:38\n",
      "   --- ------------------------------------ 1.5/16.3 MB 399.4 kB/s eta 0:00:38\n",
      "   --- ------------------------------------ 1.5/16.3 MB 401.6 kB/s eta 0:00:37\n",
      "   --- ------------------------------------ 1.5/16.3 MB 400.9 kB/s eta 0:00:37\n",
      "   --- ------------------------------------ 1.5/16.3 MB 405.1 kB/s eta 0:00:37\n",
      "   --- ------------------------------------ 1.5/16.3 MB 406.1 kB/s eta 0:00:37\n",
      "   --- ------------------------------------ 1.6/16.3 MB 407.6 kB/s eta 0:00:37\n",
      "   --- ------------------------------------ 1.6/16.3 MB 411.5 kB/s eta 0:00:36\n",
      "   ---- ----------------------------------- 1.6/16.3 MB 410.8 kB/s eta 0:00:36\n",
      "   ---- ----------------------------------- 1.6/16.3 MB 411.1 kB/s eta 0:00:36\n",
      "   ---- ----------------------------------- 1.7/16.3 MB 410.5 kB/s eta 0:00:36\n",
      "   ---- ----------------------------------- 1.7/16.3 MB 410.8 kB/s eta 0:00:36\n",
      "   ---- ----------------------------------- 1.7/16.3 MB 409.6 kB/s eta 0:00:36\n",
      "   ---- ----------------------------------- 1.7/16.3 MB 407.4 kB/s eta 0:00:36\n",
      "   ---- ----------------------------------- 1.7/16.3 MB 407.8 kB/s eta 0:00:36\n",
      "   ---- ----------------------------------- 1.7/16.3 MB 405.7 kB/s eta 0:00:36\n",
      "   ---- ----------------------------------- 1.8/16.3 MB 407.5 kB/s eta 0:00:36\n",
      "   ---- ----------------------------------- 1.8/16.3 MB 406.3 kB/s eta 0:00:36\n",
      "   ---- ----------------------------------- 1.8/16.3 MB 405.8 kB/s eta 0:00:36\n",
      "   ---- ----------------------------------- 1.8/16.3 MB 403.3 kB/s eta 0:00:36\n",
      "   ---- ----------------------------------- 1.8/16.3 MB 402.8 kB/s eta 0:00:36\n",
      "   ---- ----------------------------------- 1.8/16.3 MB 401.7 kB/s eta 0:00:36\n",
      "   ---- ----------------------------------- 1.8/16.3 MB 401.7 kB/s eta 0:00:36\n",
      "   ---- ----------------------------------- 1.9/16.3 MB 398.0 kB/s eta 0:00:37\n",
      "   ---- ----------------------------------- 1.9/16.3 MB 398.0 kB/s eta 0:00:37\n",
      "   ---- ----------------------------------- 1.9/16.3 MB 394.9 kB/s eta 0:00:37\n",
      "   ---- ----------------------------------- 1.9/16.3 MB 392.8 kB/s eta 0:00:37\n",
      "   ---- ----------------------------------- 1.9/16.3 MB 391.1 kB/s eta 0:00:37\n",
      "   ---- ----------------------------------- 1.9/16.3 MB 394.0 kB/s eta 0:00:37\n",
      "   ---- ----------------------------------- 2.0/16.3 MB 392.7 kB/s eta 0:00:37\n",
      "   ---- ----------------------------------- 2.0/16.3 MB 392.7 kB/s eta 0:00:37\n",
      "   ---- ----------------------------------- 2.0/16.3 MB 392.8 kB/s eta 0:00:37\n",
      "   ---- ----------------------------------- 2.0/16.3 MB 392.8 kB/s eta 0:00:37\n",
      "   ---- ----------------------------------- 2.0/16.3 MB 390.8 kB/s eta 0:00:37\n",
      "   ---- ----------------------------------- 2.0/16.3 MB 389.2 kB/s eta 0:00:37\n",
      "   ----- ---------------------------------- 2.0/16.3 MB 389.6 kB/s eta 0:00:37\n",
      "   ----- ---------------------------------- 2.0/16.3 MB 387.0 kB/s eta 0:00:37\n",
      "   ----- ---------------------------------- 2.0/16.3 MB 387.0 kB/s eta 0:00:37\n",
      "   ----- ---------------------------------- 2.1/16.3 MB 386.7 kB/s eta 0:00:37\n",
      "   ----- ---------------------------------- 2.1/16.3 MB 386.7 kB/s eta 0:00:37\n",
      "   ----- ---------------------------------- 2.1/16.3 MB 385.3 kB/s eta 0:00:37\n",
      "   ----- ---------------------------------- 2.1/16.3 MB 385.7 kB/s eta 0:00:37\n",
      "   ----- ---------------------------------- 2.1/16.3 MB 383.2 kB/s eta 0:00:37\n",
      "   ----- ---------------------------------- 2.2/16.3 MB 384.4 kB/s eta 0:00:37\n",
      "   ----- ---------------------------------- 2.2/16.3 MB 384.8 kB/s eta 0:00:37\n",
      "   ----- ---------------------------------- 2.2/16.3 MB 386.3 kB/s eta 0:00:37\n",
      "   ----- ---------------------------------- 2.2/16.3 MB 386.0 kB/s eta 0:00:37\n",
      "   ----- ---------------------------------- 2.2/16.3 MB 386.4 kB/s eta 0:00:37\n",
      "   ----- ---------------------------------- 2.3/16.3 MB 386.5 kB/s eta 0:00:37\n",
      "   ----- ---------------------------------- 2.3/16.3 MB 386.9 kB/s eta 0:00:37\n",
      "   ----- ---------------------------------- 2.3/16.3 MB 385.6 kB/s eta 0:00:37\n",
      "   ----- ---------------------------------- 2.3/16.3 MB 387.0 kB/s eta 0:00:37\n",
      "   ----- ---------------------------------- 2.3/16.3 MB 388.1 kB/s eta 0:00:36\n",
      "   ----- ---------------------------------- 2.4/16.3 MB 390.1 kB/s eta 0:00:36\n",
      "   ----- ---------------------------------- 2.4/16.3 MB 392.2 kB/s eta 0:00:36\n",
      "   ----- ---------------------------------- 2.4/16.3 MB 394.2 kB/s eta 0:00:36\n",
      "   ------ --------------------------------- 2.5/16.3 MB 396.1 kB/s eta 0:00:35\n",
      "   ------ --------------------------------- 2.5/16.3 MB 397.4 kB/s eta 0:00:35\n",
      "   ------ --------------------------------- 2.5/16.3 MB 397.1 kB/s eta 0:00:35\n",
      "   ------ --------------------------------- 2.5/16.3 MB 398.7 kB/s eta 0:00:35\n",
      "   ------ --------------------------------- 2.5/16.3 MB 398.7 kB/s eta 0:00:35\n",
      "   ------ --------------------------------- 2.5/16.3 MB 396.4 kB/s eta 0:00:35\n",
      "   ------ --------------------------------- 2.5/16.3 MB 396.4 kB/s eta 0:00:35\n",
      "   ------ --------------------------------- 2.5/16.3 MB 396.4 kB/s eta 0:00:35\n",
      "   ------ --------------------------------- 2.6/16.3 MB 390.1 kB/s eta 0:00:36\n",
      "   ------ --------------------------------- 2.6/16.3 MB 390.1 kB/s eta 0:00:36\n",
      "   ------ --------------------------------- 2.6/16.3 MB 390.1 kB/s eta 0:00:36\n",
      "   ------ --------------------------------- 2.6/16.3 MB 384.3 kB/s eta 0:00:36\n",
      "   ------ --------------------------------- 2.6/16.3 MB 384.3 kB/s eta 0:00:36\n",
      "   ------ --------------------------------- 2.6/16.3 MB 381.2 kB/s eta 0:00:36\n",
      "   ------ --------------------------------- 2.6/16.3 MB 381.5 kB/s eta 0:00:36\n",
      "   ------ --------------------------------- 2.6/16.3 MB 381.5 kB/s eta 0:00:36\n",
      "   ------ --------------------------------- 2.7/16.3 MB 379.9 kB/s eta 0:00:36\n",
      "   ------ --------------------------------- 2.7/16.3 MB 379.7 kB/s eta 0:00:36\n",
      "   ------ --------------------------------- 2.7/16.3 MB 380.1 kB/s eta 0:00:36\n",
      "   ------ --------------------------------- 2.7/16.3 MB 379.6 kB/s eta 0:00:36\n",
      "   ------ --------------------------------- 2.7/16.3 MB 380.2 kB/s eta 0:00:36\n",
      "   ------ --------------------------------- 2.7/16.3 MB 380.6 kB/s eta 0:00:36\n",
      "   ------ --------------------------------- 2.7/16.3 MB 380.4 kB/s eta 0:00:36\n",
      "   ------ --------------------------------- 2.8/16.3 MB 380.7 kB/s eta 0:00:36\n",
      "   ------ --------------------------------- 2.8/16.3 MB 380.3 kB/s eta 0:00:36\n",
      "   ------ --------------------------------- 2.8/16.3 MB 379.3 kB/s eta 0:00:36\n",
      "   ------ --------------------------------- 2.8/16.3 MB 380.4 kB/s eta 0:00:36\n",
      "   ------- -------------------------------- 2.8/16.3 MB 380.5 kB/s eta 0:00:36\n",
      "   ------- -------------------------------- 2.8/16.3 MB 380.5 kB/s eta 0:00:36\n",
      "   ------- -------------------------------- 2.9/16.3 MB 380.1 kB/s eta 0:00:36\n",
      "   ------- -------------------------------- 2.9/16.3 MB 378.3 kB/s eta 0:00:36\n",
      "   ------- -------------------------------- 2.9/16.3 MB 377.9 kB/s eta 0:00:36\n",
      "   ------- -------------------------------- 2.9/16.3 MB 377.9 kB/s eta 0:00:36\n",
      "   ------- -------------------------------- 2.9/16.3 MB 375.4 kB/s eta 0:00:36\n",
      "   ------- -------------------------------- 2.9/16.3 MB 375.0 kB/s eta 0:00:36\n",
      "   ------- -------------------------------- 2.9/16.3 MB 375.0 kB/s eta 0:00:36\n",
      "   ------- -------------------------------- 2.9/16.3 MB 374.7 kB/s eta 0:00:36\n",
      "   ------- -------------------------------- 3.0/16.3 MB 373.7 kB/s eta 0:00:36\n",
      "   ------- -------------------------------- 3.0/16.3 MB 373.9 kB/s eta 0:00:36\n",
      "   ------- -------------------------------- 3.0/16.3 MB 373.9 kB/s eta 0:00:36\n",
      "   ------- -------------------------------- 3.0/16.3 MB 373.4 kB/s eta 0:00:36\n",
      "   ------- -------------------------------- 3.0/16.3 MB 373.7 kB/s eta 0:00:36\n",
      "   ------- -------------------------------- 3.0/16.3 MB 373.7 kB/s eta 0:00:36\n",
      "   ------- -------------------------------- 3.1/16.3 MB 372.2 kB/s eta 0:00:36\n",
      "   ------- -------------------------------- 3.1/16.3 MB 371.8 kB/s eta 0:00:36\n",
      "   ------- -------------------------------- 3.1/16.3 MB 372.2 kB/s eta 0:00:36\n",
      "   ------- -------------------------------- 3.1/16.3 MB 370.6 kB/s eta 0:00:36\n",
      "   ------- -------------------------------- 3.1/16.3 MB 370.6 kB/s eta 0:00:36\n",
      "   ------- -------------------------------- 3.1/16.3 MB 369.6 kB/s eta 0:00:36\n",
      "   ------- -------------------------------- 3.1/16.3 MB 368.1 kB/s eta 0:00:36\n",
      "   ------- -------------------------------- 3.1/16.3 MB 367.3 kB/s eta 0:00:36\n",
      "   ------- -------------------------------- 3.2/16.3 MB 367.8 kB/s eta 0:00:36\n",
      "   ------- -------------------------------- 3.2/16.3 MB 368.0 kB/s eta 0:00:36\n",
      "   ------- -------------------------------- 3.2/16.3 MB 369.1 kB/s eta 0:00:36\n",
      "   ------- -------------------------------- 3.2/16.3 MB 369.9 kB/s eta 0:00:36\n",
      "   -------- ------------------------------- 3.3/16.3 MB 371.0 kB/s eta 0:00:36\n",
      "   -------- ------------------------------- 3.3/16.3 MB 370.8 kB/s eta 0:00:36\n",
      "   -------- ------------------------------- 3.3/16.3 MB 371.1 kB/s eta 0:00:35\n",
      "   -------- ------------------------------- 3.3/16.3 MB 371.3 kB/s eta 0:00:35\n",
      "   -------- ------------------------------- 3.3/16.3 MB 372.3 kB/s eta 0:00:35\n",
      "   -------- ------------------------------- 3.3/16.3 MB 371.5 kB/s eta 0:00:35\n",
      "   -------- ------------------------------- 3.4/16.3 MB 372.5 kB/s eta 0:00:35\n",
      "   -------- ------------------------------- 3.4/16.3 MB 372.7 kB/s eta 0:00:35\n",
      "   -------- ------------------------------- 3.4/16.3 MB 373.7 kB/s eta 0:00:35\n",
      "   -------- ------------------------------- 3.4/16.3 MB 372.9 kB/s eta 0:00:35\n",
      "   -------- ------------------------------- 3.5/16.3 MB 373.2 kB/s eta 0:00:35\n",
      "   -------- ------------------------------- 3.5/16.3 MB 372.4 kB/s eta 0:00:35\n",
      "   -------- ------------------------------- 3.5/16.3 MB 372.7 kB/s eta 0:00:35\n",
      "   -------- ------------------------------- 3.5/16.3 MB 372.7 kB/s eta 0:00:35\n",
      "   -------- ------------------------------- 3.5/16.3 MB 371.8 kB/s eta 0:00:35\n",
      "   -------- ------------------------------- 3.5/16.3 MB 371.1 kB/s eta 0:00:35\n",
      "   -------- ------------------------------- 3.5/16.3 MB 371.4 kB/s eta 0:00:35\n",
      "   -------- ------------------------------- 3.5/16.3 MB 370.6 kB/s eta 0:00:35\n",
      "   -------- ------------------------------- 3.6/16.3 MB 372.5 kB/s eta 0:00:35\n",
      "   -------- ------------------------------- 3.6/16.3 MB 372.4 kB/s eta 0:00:35\n",
      "   -------- ------------------------------- 3.6/16.3 MB 373.2 kB/s eta 0:00:34\n",
      "   -------- ------------------------------- 3.6/16.3 MB 374.0 kB/s eta 0:00:34\n",
      "   -------- ------------------------------- 3.7/16.3 MB 373.9 kB/s eta 0:00:34\n",
      "   --------- ------------------------------ 3.7/16.3 MB 374.0 kB/s eta 0:00:34\n",
      "   --------- ------------------------------ 3.7/16.3 MB 373.9 kB/s eta 0:00:34\n",
      "   --------- ------------------------------ 3.7/16.3 MB 374.8 kB/s eta 0:00:34\n",
      "   --------- ------------------------------ 3.7/16.3 MB 375.1 kB/s eta 0:00:34\n",
      "   --------- ------------------------------ 3.8/16.3 MB 375.8 kB/s eta 0:00:34\n",
      "   --------- ------------------------------ 3.8/16.3 MB 375.1 kB/s eta 0:00:34\n",
      "   --------- ------------------------------ 3.8/16.3 MB 375.4 kB/s eta 0:00:34\n",
      "   --------- ------------------------------ 3.8/16.3 MB 375.6 kB/s eta 0:00:34\n",
      "   --------- ------------------------------ 3.8/16.3 MB 374.9 kB/s eta 0:00:34\n",
      "   --------- ------------------------------ 3.9/16.3 MB 374.6 kB/s eta 0:00:34\n",
      "   --------- ------------------------------ 3.9/16.3 MB 374.6 kB/s eta 0:00:34\n",
      "   --------- ------------------------------ 3.9/16.3 MB 373.9 kB/s eta 0:00:34\n",
      "   --------- ------------------------------ 3.9/16.3 MB 374.2 kB/s eta 0:00:34\n",
      "   --------- ------------------------------ 3.9/16.3 MB 373.9 kB/s eta 0:00:34\n",
      "   --------- ------------------------------ 3.9/16.3 MB 373.2 kB/s eta 0:00:34\n",
      "   --------- ------------------------------ 3.9/16.3 MB 372.9 kB/s eta 0:00:34\n",
      "   --------- ------------------------------ 3.9/16.3 MB 372.8 kB/s eta 0:00:34\n",
      "   --------- ------------------------------ 4.0/16.3 MB 372.5 kB/s eta 0:00:33\n",
      "   --------- ------------------------------ 4.0/16.3 MB 372.3 kB/s eta 0:00:33\n",
      "   --------- ------------------------------ 4.0/16.3 MB 372.3 kB/s eta 0:00:33\n",
      "   --------- ------------------------------ 4.0/16.3 MB 371.6 kB/s eta 0:00:33\n",
      "   --------- ------------------------------ 4.0/16.3 MB 371.8 kB/s eta 0:00:33\n",
      "   --------- ------------------------------ 4.0/16.3 MB 372.1 kB/s eta 0:00:33\n",
      "   ---------- ----------------------------- 4.1/16.3 MB 372.9 kB/s eta 0:00:33\n",
      "   ---------- ----------------------------- 4.1/16.3 MB 373.5 kB/s eta 0:00:33\n",
      "   ---------- ----------------------------- 4.1/16.3 MB 374.7 kB/s eta 0:00:33\n",
      "   ---------- ----------------------------- 4.2/16.3 MB 375.9 kB/s eta 0:00:33\n",
      "   ---------- ----------------------------- 4.2/16.3 MB 376.2 kB/s eta 0:00:33\n",
      "   ---------- ----------------------------- 4.2/16.3 MB 376.6 kB/s eta 0:00:33\n",
      "   ---------- ----------------------------- 4.2/16.3 MB 377.6 kB/s eta 0:00:32\n",
      "   ---------- ----------------------------- 4.2/16.3 MB 377.0 kB/s eta 0:00:32\n",
      "   ---------- ----------------------------- 4.3/16.3 MB 377.7 kB/s eta 0:00:32\n",
      "   ---------- ----------------------------- 4.3/16.3 MB 377.1 kB/s eta 0:00:32\n",
      "   ---------- ----------------------------- 4.3/16.3 MB 377.3 kB/s eta 0:00:32\n",
      "   ---------- ----------------------------- 4.3/16.3 MB 377.6 kB/s eta 0:00:32\n",
      "   ---------- ----------------------------- 4.3/16.3 MB 376.9 kB/s eta 0:00:32\n",
      "   ---------- ----------------------------- 4.3/16.3 MB 376.7 kB/s eta 0:00:32\n",
      "   ---------- ----------------------------- 4.3/16.3 MB 376.7 kB/s eta 0:00:32\n",
      "   ---------- ----------------------------- 4.4/16.3 MB 374.5 kB/s eta 0:00:32\n",
      "   ---------- ----------------------------- 4.4/16.3 MB 374.5 kB/s eta 0:00:32\n",
      "   ---------- ----------------------------- 4.4/16.3 MB 373.7 kB/s eta 0:00:32\n",
      "   ---------- ----------------------------- 4.4/16.3 MB 373.7 kB/s eta 0:00:32\n",
      "   ---------- ----------------------------- 4.4/16.3 MB 371.5 kB/s eta 0:00:32\n",
      "   ---------- ----------------------------- 4.4/16.3 MB 371.5 kB/s eta 0:00:32\n",
      "   ---------- ----------------------------- 4.4/16.3 MB 368.9 kB/s eta 0:00:33\n",
      "   ---------- ----------------------------- 4.4/16.3 MB 369.2 kB/s eta 0:00:33\n",
      "   ---------- ----------------------------- 4.4/16.3 MB 369.2 kB/s eta 0:00:33\n",
      "   ---------- ----------------------------- 4.4/16.3 MB 368.1 kB/s eta 0:00:33\n",
      "   ---------- ----------------------------- 4.5/16.3 MB 368.4 kB/s eta 0:00:33\n",
      "   ----------- ---------------------------- 4.5/16.3 MB 368.2 kB/s eta 0:00:32\n",
      "   ----------- ---------------------------- 4.5/16.3 MB 367.6 kB/s eta 0:00:33\n",
      "   ----------- ---------------------------- 4.5/16.3 MB 367.9 kB/s eta 0:00:32\n",
      "   ----------- ---------------------------- 4.5/16.3 MB 367.3 kB/s eta 0:00:32\n",
      "   ----------- ---------------------------- 4.5/16.3 MB 367.6 kB/s eta 0:00:32\n",
      "   ----------- ---------------------------- 4.6/16.3 MB 367.8 kB/s eta 0:00:32\n",
      "   ----------- ---------------------------- 4.6/16.3 MB 367.3 kB/s eta 0:00:32\n",
      "   ----------- ---------------------------- 4.6/16.3 MB 367.3 kB/s eta 0:00:32\n",
      "   ----------- ---------------------------- 4.6/16.3 MB 365.7 kB/s eta 0:00:32\n",
      "   ----------- ---------------------------- 4.6/16.3 MB 365.7 kB/s eta 0:00:32\n",
      "   ----------- ---------------------------- 4.6/16.3 MB 364.7 kB/s eta 0:00:32\n",
      "   ----------- ---------------------------- 4.6/16.3 MB 364.1 kB/s eta 0:00:32\n",
      "   ----------- ---------------------------- 4.6/16.3 MB 364.0 kB/s eta 0:00:32\n",
      "   ----------- ---------------------------- 4.6/16.3 MB 364.2 kB/s eta 0:00:32\n",
      "   ----------- ---------------------------- 4.7/16.3 MB 363.7 kB/s eta 0:00:32\n",
      "   ----------- ---------------------------- 4.7/16.3 MB 364.0 kB/s eta 0:00:32\n",
      "   ----------- ---------------------------- 4.7/16.3 MB 363.5 kB/s eta 0:00:32\n",
      "   ----------- ---------------------------- 4.7/16.3 MB 364.2 kB/s eta 0:00:32\n",
      "   ----------- ---------------------------- 4.7/16.3 MB 364.8 kB/s eta 0:00:32\n",
      "   ----------- ---------------------------- 4.8/16.3 MB 365.0 kB/s eta 0:00:32\n",
      "   ----------- ---------------------------- 4.8/16.3 MB 365.0 kB/s eta 0:00:32\n",
      "   ----------- ---------------------------- 4.8/16.3 MB 365.2 kB/s eta 0:00:32\n",
      "   ----------- ---------------------------- 4.8/16.3 MB 365.8 kB/s eta 0:00:32\n",
      "   ----------- ---------------------------- 4.8/16.3 MB 366.5 kB/s eta 0:00:32\n",
      "   ----------- ---------------------------- 4.8/16.3 MB 366.5 kB/s eta 0:00:32\n",
      "   ----------- ---------------------------- 4.9/16.3 MB 365.1 kB/s eta 0:00:32\n",
      "   ----------- ---------------------------- 4.9/16.3 MB 365.4 kB/s eta 0:00:32\n",
      "   ------------ --------------------------- 4.9/16.3 MB 364.8 kB/s eta 0:00:32\n",
      "   ------------ --------------------------- 4.9/16.3 MB 364.8 kB/s eta 0:00:32\n",
      "   ------------ --------------------------- 4.9/16.3 MB 363.8 kB/s eta 0:00:32\n",
      "   ------------ --------------------------- 4.9/16.3 MB 364.0 kB/s eta 0:00:32\n",
      "   ------------ --------------------------- 5.0/16.3 MB 364.2 kB/s eta 0:00:32\n",
      "   ------------ --------------------------- 5.0/16.3 MB 364.9 kB/s eta 0:00:31\n",
      "   ------------ --------------------------- 5.0/16.3 MB 365.5 kB/s eta 0:00:31\n",
      "   ------------ --------------------------- 5.0/16.3 MB 365.4 kB/s eta 0:00:31\n",
      "   ------------ --------------------------- 5.1/16.3 MB 367.1 kB/s eta 0:00:31\n",
      "   ------------ --------------------------- 5.1/16.3 MB 368.1 kB/s eta 0:00:31\n",
      "   ------------ --------------------------- 5.1/16.3 MB 368.4 kB/s eta 0:00:31\n",
      "   ------------ --------------------------- 5.2/16.3 MB 370.1 kB/s eta 0:00:31\n",
      "   ------------ --------------------------- 5.2/16.3 MB 370.6 kB/s eta 0:00:30\n",
      "   ------------ --------------------------- 5.2/16.3 MB 371.6 kB/s eta 0:00:30\n",
      "   ------------ --------------------------- 5.2/16.3 MB 372.2 kB/s eta 0:00:30\n",
      "   ------------ --------------------------- 5.3/16.3 MB 373.1 kB/s eta 0:00:30\n",
      "   ------------- -------------------------- 5.3/16.3 MB 374.1 kB/s eta 0:00:30\n",
      "   ------------- -------------------------- 5.3/16.3 MB 374.7 kB/s eta 0:00:30\n",
      "   ------------- -------------------------- 5.3/16.3 MB 375.2 kB/s eta 0:00:30\n",
      "   ------------- -------------------------- 5.4/16.3 MB 375.1 kB/s eta 0:00:30\n",
      "   ------------- -------------------------- 5.4/16.3 MB 376.3 kB/s eta 0:00:29\n",
      "   ------------- -------------------------- 5.4/16.3 MB 377.2 kB/s eta 0:00:29\n",
      "   ------------- -------------------------- 5.4/16.3 MB 377.1 kB/s eta 0:00:29\n",
      "   ------------- -------------------------- 5.5/16.3 MB 377.7 kB/s eta 0:00:29\n",
      "   ------------- -------------------------- 5.5/16.3 MB 378.6 kB/s eta 0:00:29\n",
      "   ------------- -------------------------- 5.5/16.3 MB 378.7 kB/s eta 0:00:29\n",
      "   ------------- -------------------------- 5.5/16.3 MB 379.3 kB/s eta 0:00:29\n",
      "   ------------- -------------------------- 5.6/16.3 MB 379.1 kB/s eta 0:00:29\n",
      "   ------------- -------------------------- 5.6/16.3 MB 378.1 kB/s eta 0:00:29\n",
      "   ------------- -------------------------- 5.6/16.3 MB 378.7 kB/s eta 0:00:29\n",
      "   ------------- -------------------------- 5.6/16.3 MB 378.6 kB/s eta 0:00:29\n",
      "   ------------- -------------------------- 5.6/16.3 MB 378.6 kB/s eta 0:00:29\n",
      "   ------------- -------------------------- 5.6/16.3 MB 379.0 kB/s eta 0:00:29\n",
      "   ------------- -------------------------- 5.7/16.3 MB 378.1 kB/s eta 0:00:29\n",
      "   ------------- -------------------------- 5.7/16.3 MB 378.3 kB/s eta 0:00:28\n",
      "   ------------- -------------------------- 5.7/16.3 MB 377.8 kB/s eta 0:00:28\n",
      "   -------------- ------------------------- 5.7/16.3 MB 378.0 kB/s eta 0:00:28\n",
      "   -------------- ------------------------- 5.7/16.3 MB 378.6 kB/s eta 0:00:28\n",
      "   -------------- ------------------------- 5.8/16.3 MB 379.0 kB/s eta 0:00:28\n",
      "   -------------- ------------------------- 5.8/16.3 MB 378.5 kB/s eta 0:00:28\n",
      "   -------------- ------------------------- 5.8/16.3 MB 378.7 kB/s eta 0:00:28\n",
      "   -------------- ------------------------- 5.8/16.3 MB 378.7 kB/s eta 0:00:28\n",
      "   -------------- ------------------------- 5.8/16.3 MB 378.7 kB/s eta 0:00:28\n",
      "   -------------- ------------------------- 5.8/16.3 MB 377.0 kB/s eta 0:00:28\n",
      "   -------------- ------------------------- 5.8/16.3 MB 377.0 kB/s eta 0:00:28\n",
      "   -------------- ------------------------- 5.8/16.3 MB 377.0 kB/s eta 0:00:28\n",
      "   -------------- ------------------------- 5.8/16.3 MB 377.0 kB/s eta 0:00:28\n",
      "   -------------- ------------------------- 5.8/16.3 MB 373.1 kB/s eta 0:00:28\n",
      "   -------------- ------------------------- 5.8/16.3 MB 373.1 kB/s eta 0:00:28\n",
      "   -------------- ------------------------- 5.8/16.3 MB 373.1 kB/s eta 0:00:28\n",
      "   -------------- ------------------------- 5.8/16.3 MB 371.4 kB/s eta 0:00:29\n",
      "   -------------- ------------------------- 5.8/16.3 MB 371.4 kB/s eta 0:00:29\n",
      "   -------------- ------------------------- 5.8/16.3 MB 369.8 kB/s eta 0:00:29\n",
      "   -------------- ------------------------- 5.9/16.3 MB 369.7 kB/s eta 0:00:29\n",
      "   -------------- ------------------------- 5.9/16.3 MB 369.7 kB/s eta 0:00:29\n",
      "   -------------- ------------------------- 5.9/16.3 MB 368.8 kB/s eta 0:00:29\n",
      "   -------------- ------------------------- 5.9/16.3 MB 368.7 kB/s eta 0:00:29\n",
      "   -------------- ------------------------- 5.9/16.3 MB 368.2 kB/s eta 0:00:29\n",
      "   -------------- ------------------------- 5.9/16.3 MB 368.2 kB/s eta 0:00:29\n",
      "   -------------- ------------------------- 5.9/16.3 MB 367.4 kB/s eta 0:00:29\n",
      "   -------------- ------------------------- 5.9/16.3 MB 367.6 kB/s eta 0:00:29\n",
      "   -------------- ------------------------- 6.0/16.3 MB 367.8 kB/s eta 0:00:28\n",
      "   -------------- ------------------------- 6.0/16.3 MB 367.0 kB/s eta 0:00:28\n",
      "   -------------- ------------------------- 6.0/16.3 MB 367.9 kB/s eta 0:00:28\n",
      "   -------------- ------------------------- 6.0/16.3 MB 367.1 kB/s eta 0:00:28\n",
      "   -------------- ------------------------- 6.0/16.3 MB 366.6 kB/s eta 0:00:28\n",
      "   -------------- ------------------------- 6.0/16.3 MB 366.9 kB/s eta 0:00:28\n",
      "   -------------- ------------------------- 6.1/16.3 MB 366.8 kB/s eta 0:00:28\n",
      "   -------------- ------------------------- 6.1/16.3 MB 366.8 kB/s eta 0:00:28\n",
      "   -------------- ------------------------- 6.1/16.3 MB 365.6 kB/s eta 0:00:28\n",
      "   -------------- ------------------------- 6.1/16.3 MB 365.9 kB/s eta 0:00:28\n",
      "   --------------- ------------------------ 6.1/16.3 MB 365.5 kB/s eta 0:00:28\n",
      "   --------------- ------------------------ 6.1/16.3 MB 366.2 kB/s eta 0:00:28\n",
      "   --------------- ------------------------ 6.2/16.3 MB 366.1 kB/s eta 0:00:28\n",
      "   --------------- ------------------------ 6.2/16.3 MB 366.3 kB/s eta 0:00:28\n",
      "   --------------- ------------------------ 6.2/16.3 MB 367.1 kB/s eta 0:00:28\n",
      "   --------------- ------------------------ 6.2/16.3 MB 367.6 kB/s eta 0:00:28\n",
      "   --------------- ------------------------ 6.3/16.3 MB 368.4 kB/s eta 0:00:28\n",
      "   --------------- ------------------------ 6.3/16.3 MB 369.2 kB/s eta 0:00:27\n",
      "   --------------- ------------------------ 6.3/16.3 MB 370.9 kB/s eta 0:00:27\n",
      "   --------------- ------------------------ 6.3/16.3 MB 371.1 kB/s eta 0:00:27\n",
      "   --------------- ------------------------ 6.4/16.3 MB 372.4 kB/s eta 0:00:27\n",
      "   --------------- ------------------------ 6.4/16.3 MB 372.4 kB/s eta 0:00:27\n",
      "   --------------- ------------------------ 6.5/16.3 MB 373.4 kB/s eta 0:00:27\n",
      "   --------------- ------------------------ 6.5/16.3 MB 373.9 kB/s eta 0:00:27\n",
      "   --------------- ------------------------ 6.5/16.3 MB 373.8 kB/s eta 0:00:27\n",
      "   ---------------- ----------------------- 6.5/16.3 MB 374.0 kB/s eta 0:00:27\n",
      "   ---------------- ----------------------- 6.5/16.3 MB 374.4 kB/s eta 0:00:26\n",
      "   ---------------- ----------------------- 6.6/16.3 MB 374.8 kB/s eta 0:00:26\n",
      "   ---------------- ----------------------- 6.6/16.3 MB 375.9 kB/s eta 0:00:26\n",
      "   ---------------- ----------------------- 6.6/16.3 MB 376.9 kB/s eta 0:00:26\n",
      "   ---------------- ----------------------- 6.6/16.3 MB 377.1 kB/s eta 0:00:26\n",
      "   ---------------- ----------------------- 6.7/16.3 MB 377.2 kB/s eta 0:00:26\n",
      "   ---------------- ----------------------- 6.7/16.3 MB 378.0 kB/s eta 0:00:26\n",
      "   ---------------- ----------------------- 6.7/16.3 MB 378.4 kB/s eta 0:00:26\n",
      "   ---------------- ----------------------- 6.8/16.3 MB 378.8 kB/s eta 0:00:26\n",
      "   ---------------- ----------------------- 6.8/16.3 MB 380.1 kB/s eta 0:00:25\n",
      "   ---------------- ----------------------- 6.8/16.3 MB 381.2 kB/s eta 0:00:25\n",
      "   ---------------- ----------------------- 6.9/16.3 MB 381.9 kB/s eta 0:00:25\n",
      "   ---------------- ----------------------- 6.9/16.3 MB 382.6 kB/s eta 0:00:25\n",
      "   ----------------- ---------------------- 6.9/16.3 MB 383.4 kB/s eta 0:00:25\n",
      "   ----------------- ---------------------- 6.9/16.3 MB 383.8 kB/s eta 0:00:25\n",
      "   ----------------- ---------------------- 7.0/16.3 MB 384.2 kB/s eta 0:00:25\n",
      "   ----------------- ---------------------- 7.0/16.3 MB 384.3 kB/s eta 0:00:25\n",
      "   ----------------- ---------------------- 7.0/16.3 MB 384.4 kB/s eta 0:00:25\n",
      "   ----------------- ---------------------- 7.0/16.3 MB 384.9 kB/s eta 0:00:24\n",
      "   ----------------- ---------------------- 7.1/16.3 MB 385.6 kB/s eta 0:00:24\n",
      "   ----------------- ---------------------- 7.1/16.3 MB 386.0 kB/s eta 0:00:24\n",
      "   ----------------- ---------------------- 7.1/16.3 MB 386.4 kB/s eta 0:00:24\n",
      "   ----------------- ---------------------- 7.1/16.3 MB 386.3 kB/s eta 0:00:24\n",
      "   ----------------- ---------------------- 7.1/16.3 MB 386.4 kB/s eta 0:00:24\n",
      "   ----------------- ---------------------- 7.2/16.3 MB 386.5 kB/s eta 0:00:24\n",
      "   ----------------- ---------------------- 7.2/16.3 MB 386.6 kB/s eta 0:00:24\n",
      "   ----------------- ---------------------- 7.2/16.3 MB 386.6 kB/s eta 0:00:24\n",
      "   ----------------- ---------------------- 7.2/16.3 MB 385.8 kB/s eta 0:00:24\n",
      "   ----------------- ---------------------- 7.2/16.3 MB 385.7 kB/s eta 0:00:24\n",
      "   ----------------- ---------------------- 7.2/16.3 MB 385.8 kB/s eta 0:00:24\n",
      "   ----------------- ---------------------- 7.3/16.3 MB 385.7 kB/s eta 0:00:24\n",
      "   ----------------- ---------------------- 7.3/16.3 MB 385.7 kB/s eta 0:00:24\n",
      "   ----------------- ---------------------- 7.3/16.3 MB 385.9 kB/s eta 0:00:24\n",
      "   ------------------ --------------------- 7.3/16.3 MB 386.3 kB/s eta 0:00:24\n",
      "   ------------------ --------------------- 7.3/16.3 MB 385.9 kB/s eta 0:00:24\n",
      "   ------------------ --------------------- 7.4/16.3 MB 386.3 kB/s eta 0:00:24\n",
      "   ------------------ --------------------- 7.4/16.3 MB 385.9 kB/s eta 0:00:24\n",
      "   ------------------ --------------------- 7.4/16.3 MB 386.8 kB/s eta 0:00:23\n",
      "   ------------------ --------------------- 7.4/16.3 MB 387.1 kB/s eta 0:00:23\n",
      "   ------------------ --------------------- 7.5/16.3 MB 387.8 kB/s eta 0:00:23\n",
      "   ------------------ --------------------- 7.5/16.3 MB 388.4 kB/s eta 0:00:23\n",
      "   ------------------ --------------------- 7.5/16.3 MB 388.9 kB/s eta 0:00:23\n",
      "   ------------------ --------------------- 7.6/16.3 MB 389.2 kB/s eta 0:00:23\n",
      "   ------------------ --------------------- 7.6/16.3 MB 389.3 kB/s eta 0:00:23\n",
      "   ------------------ --------------------- 7.6/16.3 MB 389.3 kB/s eta 0:00:23\n",
      "   ------------------ --------------------- 7.6/16.3 MB 389.3 kB/s eta 0:00:23\n",
      "   ------------------ --------------------- 7.6/16.3 MB 389.2 kB/s eta 0:00:23\n",
      "   ------------------ --------------------- 7.6/16.3 MB 389.3 kB/s eta 0:00:23\n",
      "   ------------------ --------------------- 7.7/16.3 MB 389.7 kB/s eta 0:00:23\n",
      "   ------------------ --------------------- 7.7/16.3 MB 389.8 kB/s eta 0:00:22\n",
      "   ------------------ --------------------- 7.7/16.3 MB 390.4 kB/s eta 0:00:22\n",
      "   ------------------- -------------------- 7.7/16.3 MB 390.5 kB/s eta 0:00:22\n",
      "   ------------------- -------------------- 7.8/16.3 MB 390.7 kB/s eta 0:00:22\n",
      "   ------------------- -------------------- 7.8/16.3 MB 390.7 kB/s eta 0:00:22\n",
      "   ------------------- -------------------- 7.8/16.3 MB 391.2 kB/s eta 0:00:22\n",
      "   ------------------- -------------------- 7.8/16.3 MB 391.3 kB/s eta 0:00:22\n",
      "   ------------------- -------------------- 7.8/16.3 MB 390.9 kB/s eta 0:00:22\n",
      "   ------------------- -------------------- 7.8/16.3 MB 390.9 kB/s eta 0:00:22\n",
      "   ------------------- -------------------- 7.9/16.3 MB 390.4 kB/s eta 0:00:22\n",
      "   ------------------- -------------------- 7.9/16.3 MB 389.6 kB/s eta 0:00:22\n",
      "   ------------------- -------------------- 7.9/16.3 MB 389.6 kB/s eta 0:00:22\n",
      "   ------------------- -------------------- 7.9/16.3 MB 389.2 kB/s eta 0:00:22\n",
      "   ------------------- -------------------- 7.9/16.3 MB 389.3 kB/s eta 0:00:22\n",
      "   ------------------- -------------------- 7.9/16.3 MB 388.6 kB/s eta 0:00:22\n",
      "   ------------------- -------------------- 7.9/16.3 MB 388.6 kB/s eta 0:00:22\n",
      "   ------------------- -------------------- 7.9/16.3 MB 388.1 kB/s eta 0:00:22\n",
      "   ------------------- -------------------- 7.9/16.3 MB 388.1 kB/s eta 0:00:22\n",
      "   ------------------- -------------------- 7.9/16.3 MB 386.8 kB/s eta 0:00:22\n",
      "   ------------------- -------------------- 7.9/16.3 MB 386.8 kB/s eta 0:00:22\n",
      "   ------------------- -------------------- 8.0/16.3 MB 386.0 kB/s eta 0:00:22\n",
      "   ------------------- -------------------- 8.0/16.3 MB 386.0 kB/s eta 0:00:22\n",
      "   ------------------- -------------------- 8.0/16.3 MB 386.0 kB/s eta 0:00:22\n",
      "   ------------------- -------------------- 8.0/16.3 MB 384.1 kB/s eta 0:00:22\n",
      "   ------------------- -------------------- 8.0/16.3 MB 384.1 kB/s eta 0:00:22\n",
      "   ------------------- -------------------- 8.0/16.3 MB 383.5 kB/s eta 0:00:22\n",
      "   ------------------- -------------------- 8.0/16.3 MB 383.5 kB/s eta 0:00:22\n",
      "   ------------------- -------------------- 8.0/16.3 MB 381.7 kB/s eta 0:00:22\n",
      "   ------------------- -------------------- 8.0/16.3 MB 381.7 kB/s eta 0:00:22\n",
      "   ------------------- -------------------- 8.0/16.3 MB 381.7 kB/s eta 0:00:22\n",
      "   ------------------- -------------------- 8.0/16.3 MB 380.7 kB/s eta 0:00:22\n",
      "   ------------------- -------------------- 8.0/16.3 MB 380.7 kB/s eta 0:00:22\n",
      "   ------------------- -------------------- 8.0/16.3 MB 378.6 kB/s eta 0:00:22\n",
      "   ------------------- -------------------- 8.1/16.3 MB 378.2 kB/s eta 0:00:22\n",
      "   ------------------- -------------------- 8.1/16.3 MB 378.2 kB/s eta 0:00:22\n",
      "   ------------------- -------------------- 8.1/16.3 MB 377.8 kB/s eta 0:00:22\n",
      "   ------------------- -------------------- 8.1/16.3 MB 377.8 kB/s eta 0:00:22\n",
      "   ------------------- -------------------- 8.1/16.3 MB 377.2 kB/s eta 0:00:22\n",
      "   ------------------- -------------------- 8.1/16.3 MB 377.0 kB/s eta 0:00:22\n",
      "   ------------------- -------------------- 8.1/16.3 MB 376.4 kB/s eta 0:00:22\n",
      "   -------------------- ------------------- 8.1/16.3 MB 376.5 kB/s eta 0:00:22\n",
      "   -------------------- ------------------- 8.2/16.3 MB 376.4 kB/s eta 0:00:22\n",
      "   -------------------- ------------------- 8.2/16.3 MB 376.3 kB/s eta 0:00:22\n",
      "   -------------------- ------------------- 8.2/16.3 MB 376.7 kB/s eta 0:00:22\n",
      "   -------------------- ------------------- 8.2/16.3 MB 376.1 kB/s eta 0:00:22\n",
      "   -------------------- ------------------- 8.2/16.3 MB 376.8 kB/s eta 0:00:22\n",
      "   -------------------- ------------------- 8.3/16.3 MB 376.8 kB/s eta 0:00:22\n",
      "   -------------------- ------------------- 8.3/16.3 MB 377.2 kB/s eta 0:00:22\n",
      "   -------------------- ------------------- 8.3/16.3 MB 377.2 kB/s eta 0:00:22\n",
      "   -------------------- ------------------- 8.3/16.3 MB 377.3 kB/s eta 0:00:22\n",
      "   -------------------- ------------------- 8.3/16.3 MB 377.4 kB/s eta 0:00:22\n",
      "   -------------------- ------------------- 8.3/16.3 MB 377.1 kB/s eta 0:00:22\n",
      "   -------------------- ------------------- 8.4/16.3 MB 377.2 kB/s eta 0:00:21\n",
      "   -------------------- ------------------- 8.4/16.3 MB 377.2 kB/s eta 0:00:21\n",
      "   -------------------- ------------------- 8.4/16.3 MB 377.6 kB/s eta 0:00:21\n",
      "   -------------------- ------------------- 8.4/16.3 MB 378.0 kB/s eta 0:00:21\n",
      "   -------------------- ------------------- 8.4/16.3 MB 377.9 kB/s eta 0:00:21\n",
      "   -------------------- ------------------- 8.5/16.3 MB 378.0 kB/s eta 0:00:21\n",
      "   -------------------- ------------------- 8.5/16.3 MB 378.1 kB/s eta 0:00:21\n",
      "   -------------------- ------------------- 8.5/16.3 MB 378.1 kB/s eta 0:00:21\n",
      "   -------------------- ------------------- 8.5/16.3 MB 377.5 kB/s eta 0:00:21\n",
      "   -------------------- ------------------- 8.5/16.3 MB 377.4 kB/s eta 0:00:21\n",
      "   -------------------- ------------------- 8.5/16.3 MB 377.1 kB/s eta 0:00:21\n",
      "   --------------------- ------------------ 8.6/16.3 MB 377.2 kB/s eta 0:00:21\n",
      "   --------------------- ------------------ 8.6/16.3 MB 377.3 kB/s eta 0:00:21\n",
      "   --------------------- ------------------ 8.6/16.3 MB 377.0 kB/s eta 0:00:21\n",
      "   --------------------- ------------------ 8.6/16.3 MB 376.9 kB/s eta 0:00:21\n",
      "   --------------------- ------------------ 8.6/16.3 MB 376.5 kB/s eta 0:00:21\n",
      "   --------------------- ------------------ 8.6/16.3 MB 376.4 kB/s eta 0:00:21\n",
      "   --------------------- ------------------ 8.6/16.3 MB 376.4 kB/s eta 0:00:21\n",
      "   --------------------- ------------------ 8.7/16.3 MB 376.5 kB/s eta 0:00:21\n",
      "   --------------------- ------------------ 8.7/16.3 MB 376.2 kB/s eta 0:00:21\n",
      "   --------------------- ------------------ 8.7/16.3 MB 376.3 kB/s eta 0:00:21\n",
      "   --------------------- ------------------ 8.7/16.3 MB 376.0 kB/s eta 0:00:21\n",
      "   --------------------- ------------------ 8.7/16.3 MB 376.5 kB/s eta 0:00:20\n",
      "   --------------------- ------------------ 8.7/16.3 MB 376.4 kB/s eta 0:00:20\n",
      "   --------------------- ------------------ 8.8/16.3 MB 376.7 kB/s eta 0:00:20\n",
      "   --------------------- ------------------ 8.8/16.3 MB 377.1 kB/s eta 0:00:20\n",
      "   --------------------- ------------------ 8.8/16.3 MB 377.2 kB/s eta 0:00:20\n",
      "   --------------------- ------------------ 8.8/16.3 MB 377.5 kB/s eta 0:00:20\n",
      "   --------------------- ------------------ 8.9/16.3 MB 377.5 kB/s eta 0:00:20\n",
      "   --------------------- ------------------ 8.9/16.3 MB 378.2 kB/s eta 0:00:20\n",
      "   --------------------- ------------------ 8.9/16.3 MB 378.1 kB/s eta 0:00:20\n",
      "   --------------------- ------------------ 8.9/16.3 MB 378.5 kB/s eta 0:00:20\n",
      "   --------------------- ------------------ 8.9/16.3 MB 378.5 kB/s eta 0:00:20\n",
      "   ---------------------- ----------------- 9.0/16.3 MB 378.7 kB/s eta 0:00:20\n",
      "   ---------------------- ----------------- 9.0/16.3 MB 378.7 kB/s eta 0:00:20\n",
      "   ---------------------- ----------------- 9.0/16.3 MB 377.7 kB/s eta 0:00:20\n",
      "   ---------------------- ----------------- 9.0/16.3 MB 377.8 kB/s eta 0:00:20\n",
      "   ---------------------- ----------------- 9.0/16.3 MB 377.9 kB/s eta 0:00:20\n",
      "   ---------------------- ----------------- 9.0/16.3 MB 377.1 kB/s eta 0:00:20\n",
      "   ---------------------- ----------------- 9.1/16.3 MB 377.2 kB/s eta 0:00:20\n",
      "   ---------------------- ----------------- 9.1/16.3 MB 377.2 kB/s eta 0:00:20\n",
      "   ---------------------- ----------------- 9.1/16.3 MB 377.0 kB/s eta 0:00:20\n",
      "   ---------------------- ----------------- 9.1/16.3 MB 377.0 kB/s eta 0:00:20\n",
      "   ---------------------- ----------------- 9.1/16.3 MB 376.9 kB/s eta 0:00:19\n",
      "   ---------------------- ----------------- 9.1/16.3 MB 376.4 kB/s eta 0:00:19\n",
      "   ---------------------- ----------------- 9.1/16.3 MB 376.4 kB/s eta 0:00:19\n",
      "   ---------------------- ----------------- 9.1/16.3 MB 376.2 kB/s eta 0:00:19\n",
      "   ---------------------- ----------------- 9.1/16.3 MB 375.4 kB/s eta 0:00:19\n",
      "   ---------------------- ----------------- 9.1/16.3 MB 375.4 kB/s eta 0:00:19\n",
      "   ---------------------- ----------------- 9.2/16.3 MB 375.0 kB/s eta 0:00:19\n",
      "   ---------------------- ----------------- 9.2/16.3 MB 374.4 kB/s eta 0:00:19\n",
      "   ---------------------- ----------------- 9.2/16.3 MB 374.5 kB/s eta 0:00:19\n",
      "   ---------------------- ----------------- 9.2/16.3 MB 374.3 kB/s eta 0:00:19\n",
      "   ---------------------- ----------------- 9.2/16.3 MB 374.6 kB/s eta 0:00:19\n",
      "   ---------------------- ----------------- 9.3/16.3 MB 375.0 kB/s eta 0:00:19\n",
      "   ---------------------- ----------------- 9.3/16.3 MB 375.3 kB/s eta 0:00:19\n",
      "   ---------------------- ----------------- 9.3/16.3 MB 375.8 kB/s eta 0:00:19\n",
      "   ----------------------- ---------------- 9.3/16.3 MB 376.1 kB/s eta 0:00:19\n",
      "   ----------------------- ---------------- 9.4/16.3 MB 376.7 kB/s eta 0:00:19\n",
      "   ----------------------- ---------------- 9.4/16.3 MB 376.4 kB/s eta 0:00:19\n",
      "   ----------------------- ---------------- 9.4/16.3 MB 376.2 kB/s eta 0:00:19\n",
      "   ----------------------- ---------------- 9.4/16.3 MB 376.4 kB/s eta 0:00:19\n",
      "   ----------------------- ---------------- 9.4/16.3 MB 376.3 kB/s eta 0:00:19\n",
      "   ----------------------- ---------------- 9.5/16.3 MB 376.4 kB/s eta 0:00:19\n",
      "   ----------------------- ---------------- 9.5/16.3 MB 376.1 kB/s eta 0:00:19\n",
      "   ----------------------- ---------------- 9.5/16.3 MB 377.0 kB/s eta 0:00:18\n",
      "   ----------------------- ---------------- 9.5/16.3 MB 376.5 kB/s eta 0:00:18\n",
      "   ----------------------- ---------------- 9.5/16.3 MB 376.9 kB/s eta 0:00:18\n",
      "   ----------------------- ---------------- 9.6/16.3 MB 376.8 kB/s eta 0:00:18\n",
      "   ----------------------- ---------------- 9.6/16.3 MB 376.9 kB/s eta 0:00:18\n",
      "   ----------------------- ---------------- 9.6/16.3 MB 376.9 kB/s eta 0:00:18\n",
      "   ----------------------- ---------------- 9.6/16.3 MB 377.1 kB/s eta 0:00:18\n",
      "   ----------------------- ---------------- 9.6/16.3 MB 377.0 kB/s eta 0:00:18\n",
      "   ----------------------- ---------------- 9.7/16.3 MB 377.3 kB/s eta 0:00:18\n",
      "   ----------------------- ---------------- 9.7/16.3 MB 377.2 kB/s eta 0:00:18\n",
      "   ----------------------- ---------------- 9.7/16.3 MB 377.2 kB/s eta 0:00:18\n",
      "   ----------------------- ---------------- 9.7/16.3 MB 377.3 kB/s eta 0:00:18\n",
      "   ----------------------- ---------------- 9.7/16.3 MB 377.6 kB/s eta 0:00:18\n",
      "   ------------------------ --------------- 9.8/16.3 MB 377.7 kB/s eta 0:00:18\n",
      "   ------------------------ --------------- 9.8/16.3 MB 377.6 kB/s eta 0:00:18\n",
      "   ------------------------ --------------- 9.8/16.3 MB 377.5 kB/s eta 0:00:18\n",
      "   ------------------------ --------------- 9.8/16.3 MB 377.5 kB/s eta 0:00:18\n",
      "   ------------------------ --------------- 9.8/16.3 MB 377.9 kB/s eta 0:00:17\n",
      "   ------------------------ --------------- 9.9/16.3 MB 378.0 kB/s eta 0:00:17\n",
      "   ------------------------ --------------- 9.9/16.3 MB 378.3 kB/s eta 0:00:17\n",
      "   ------------------------ --------------- 9.9/16.3 MB 379.0 kB/s eta 0:00:17\n",
      "   ------------------------ --------------- 10.0/16.3 MB 379.8 kB/s eta 0:00:17\n",
      "   ------------------------ --------------- 10.0/16.3 MB 380.3 kB/s eta 0:00:17\n",
      "   ------------------------ --------------- 10.0/16.3 MB 380.8 kB/s eta 0:00:17\n",
      "   ------------------------ --------------- 10.1/16.3 MB 381.3 kB/s eta 0:00:17\n",
      "   ------------------------ --------------- 10.1/16.3 MB 382.0 kB/s eta 0:00:17\n",
      "   ------------------------ --------------- 10.1/16.3 MB 382.7 kB/s eta 0:00:17\n",
      "   ------------------------ --------------- 10.2/16.3 MB 383.2 kB/s eta 0:00:16\n",
      "   ------------------------- -------------- 10.2/16.3 MB 383.6 kB/s eta 0:00:16\n",
      "   ------------------------- -------------- 10.2/16.3 MB 384.0 kB/s eta 0:00:16\n",
      "   ------------------------- -------------- 10.2/16.3 MB 384.4 kB/s eta 0:00:16\n",
      "   ------------------------- -------------- 10.3/16.3 MB 384.0 kB/s eta 0:00:16\n",
      "   ------------------------- -------------- 10.3/16.3 MB 383.3 kB/s eta 0:00:16\n",
      "   ------------------------- -------------- 10.3/16.3 MB 383.3 kB/s eta 0:00:16\n",
      "   ------------------------- -------------- 10.3/16.3 MB 382.4 kB/s eta 0:00:16\n",
      "   ------------------------- -------------- 10.3/16.3 MB 382.4 kB/s eta 0:00:16\n",
      "   ------------------------- -------------- 10.3/16.3 MB 382.2 kB/s eta 0:00:16\n",
      "   ------------------------- -------------- 10.4/16.3 MB 381.5 kB/s eta 0:00:16\n",
      "   ------------------------- -------------- 10.4/16.3 MB 381.3 kB/s eta 0:00:16\n",
      "   ------------------------- -------------- 10.4/16.3 MB 381.3 kB/s eta 0:00:16\n",
      "   ------------------------- -------------- 10.4/16.3 MB 381.3 kB/s eta 0:00:16\n",
      "   ------------------------- -------------- 10.4/16.3 MB 381.5 kB/s eta 0:00:16\n",
      "   ------------------------- -------------- 10.5/16.3 MB 381.5 kB/s eta 0:00:16\n",
      "   ------------------------- -------------- 10.5/16.3 MB 381.8 kB/s eta 0:00:16\n",
      "   ------------------------- -------------- 10.5/16.3 MB 382.2 kB/s eta 0:00:16\n",
      "   ------------------------- -------------- 10.5/16.3 MB 383.1 kB/s eta 0:00:15\n",
      "   ------------------------- -------------- 10.5/16.3 MB 383.5 kB/s eta 0:00:15\n",
      "   ------------------------- -------------- 10.5/16.3 MB 383.6 kB/s eta 0:00:15\n",
      "   -------------------------- ------------- 10.6/16.3 MB 383.3 kB/s eta 0:00:15\n",
      "   -------------------------- ------------- 10.6/16.3 MB 383.1 kB/s eta 0:00:15\n",
      "   -------------------------- ------------- 10.6/16.3 MB 382.9 kB/s eta 0:00:15\n",
      "   -------------------------- ------------- 10.6/16.3 MB 382.9 kB/s eta 0:00:15\n",
      "   -------------------------- ------------- 10.6/16.3 MB 382.6 kB/s eta 0:00:15\n",
      "   -------------------------- ------------- 10.6/16.3 MB 382.6 kB/s eta 0:00:15\n",
      "   -------------------------- ------------- 10.7/16.3 MB 382.4 kB/s eta 0:00:15\n",
      "   -------------------------- ------------- 10.7/16.3 MB 382.2 kB/s eta 0:00:15\n",
      "   -------------------------- ------------- 10.7/16.3 MB 382.2 kB/s eta 0:00:15\n",
      "   -------------------------- ------------- 10.7/16.3 MB 382.2 kB/s eta 0:00:15\n",
      "   -------------------------- ------------- 10.7/16.3 MB 381.8 kB/s eta 0:00:15\n",
      "   -------------------------- ------------- 10.7/16.3 MB 381.5 kB/s eta 0:00:15\n",
      "   -------------------------- ------------- 10.7/16.3 MB 381.5 kB/s eta 0:00:15\n",
      "   -------------------------- ------------- 10.8/16.3 MB 381.3 kB/s eta 0:00:15\n",
      "   -------------------------- ------------- 10.8/16.3 MB 381.1 kB/s eta 0:00:15\n",
      "   -------------------------- ------------- 10.8/16.3 MB 380.9 kB/s eta 0:00:15\n",
      "   -------------------------- ------------- 10.8/16.3 MB 380.9 kB/s eta 0:00:15\n",
      "   -------------------------- ------------- 10.8/16.3 MB 380.9 kB/s eta 0:00:15\n",
      "   -------------------------- ------------- 10.9/16.3 MB 380.6 kB/s eta 0:00:15\n",
      "   -------------------------- ------------- 10.9/16.3 MB 380.6 kB/s eta 0:00:15\n",
      "   -------------------------- ------------- 10.9/16.3 MB 380.9 kB/s eta 0:00:14\n",
      "   -------------------------- ------------- 11.0/16.3 MB 380.6 kB/s eta 0:00:14\n",
      "   -------------------------- ------------- 11.0/16.3 MB 380.2 kB/s eta 0:00:14\n",
      "   --------------------------- ------------ 11.0/16.3 MB 380.2 kB/s eta 0:00:14\n",
      "   --------------------------- ------------ 11.0/16.3 MB 381.1 kB/s eta 0:00:14\n",
      "   --------------------------- ------------ 11.0/16.3 MB 380.9 kB/s eta 0:00:14\n",
      "   --------------------------- ------------ 11.0/16.3 MB 380.9 kB/s eta 0:00:14\n",
      "   --------------------------- ------------ 11.0/16.3 MB 380.2 kB/s eta 0:00:14\n",
      "   --------------------------- ------------ 11.1/16.3 MB 380.6 kB/s eta 0:00:14\n",
      "   --------------------------- ------------ 11.1/16.3 MB 380.2 kB/s eta 0:00:14\n",
      "   --------------------------- ------------ 11.1/16.3 MB 380.2 kB/s eta 0:00:14\n",
      "   --------------------------- ------------ 11.1/16.3 MB 380.2 kB/s eta 0:00:14\n",
      "   --------------------------- ------------ 11.1/16.3 MB 380.0 kB/s eta 0:00:14\n",
      "   --------------------------- ------------ 11.1/16.3 MB 380.0 kB/s eta 0:00:14\n",
      "   --------------------------- ------------ 11.1/16.3 MB 380.0 kB/s eta 0:00:14\n",
      "   --------------------------- ------------ 11.1/16.3 MB 380.0 kB/s eta 0:00:14\n",
      "   --------------------------- ------------ 11.1/16.3 MB 378.0 kB/s eta 0:00:14\n",
      "   --------------------------- ------------ 11.1/16.3 MB 378.0 kB/s eta 0:00:14\n",
      "   --------------------------- ------------ 11.1/16.3 MB 378.0 kB/s eta 0:00:14\n",
      "   --------------------------- ------------ 11.1/16.3 MB 376.3 kB/s eta 0:00:14\n",
      "   --------------------------- ------------ 11.2/16.3 MB 376.7 kB/s eta 0:00:14\n",
      "   --------------------------- ------------ 11.2/16.3 MB 376.7 kB/s eta 0:00:14\n",
      "   --------------------------- ------------ 11.2/16.3 MB 375.6 kB/s eta 0:00:14\n",
      "   --------------------------- ------------ 11.2/16.3 MB 376.1 kB/s eta 0:00:14\n",
      "   --------------------------- ------------ 11.2/16.3 MB 375.6 kB/s eta 0:00:14\n",
      "   --------------------------- ------------ 11.2/16.3 MB 374.8 kB/s eta 0:00:14\n",
      "   --------------------------- ------------ 11.2/16.3 MB 375.2 kB/s eta 0:00:14\n",
      "   --------------------------- ------------ 11.2/16.3 MB 374.8 kB/s eta 0:00:14\n",
      "   --------------------------- ------------ 11.2/16.3 MB 374.8 kB/s eta 0:00:14\n",
      "   --------------------------- ------------ 11.3/16.3 MB 374.8 kB/s eta 0:00:14\n",
      "   --------------------------- ------------ 11.3/16.3 MB 374.3 kB/s eta 0:00:14\n",
      "   --------------------------- ------------ 11.3/16.3 MB 373.5 kB/s eta 0:00:14\n",
      "   --------------------------- ------------ 11.3/16.3 MB 373.7 kB/s eta 0:00:14\n",
      "   --------------------------- ------------ 11.3/16.3 MB 372.8 kB/s eta 0:00:14\n",
      "   --------------------------- ------------ 11.3/16.3 MB 372.8 kB/s eta 0:00:14\n",
      "   --------------------------- ------------ 11.3/16.3 MB 372.4 kB/s eta 0:00:14\n",
      "   --------------------------- ------------ 11.3/16.3 MB 372.4 kB/s eta 0:00:14\n",
      "   --------------------------- ------------ 11.4/16.3 MB 371.8 kB/s eta 0:00:14\n",
      "   --------------------------- ------------ 11.4/16.3 MB 371.8 kB/s eta 0:00:14\n",
      "   --------------------------- ------------ 11.4/16.3 MB 370.5 kB/s eta 0:00:14\n",
      "   --------------------------- ------------ 11.4/16.3 MB 370.5 kB/s eta 0:00:14\n",
      "   ---------------------------- ----------- 11.4/16.3 MB 369.9 kB/s eta 0:00:14\n",
      "   ---------------------------- ----------- 11.4/16.3 MB 369.9 kB/s eta 0:00:14\n",
      "   ---------------------------- ----------- 11.4/16.3 MB 368.9 kB/s eta 0:00:14\n",
      "   ---------------------------- ----------- 11.4/16.3 MB 369.3 kB/s eta 0:00:14\n",
      "   ---------------------------- ----------- 11.4/16.3 MB 369.3 kB/s eta 0:00:14\n",
      "   ---------------------------- ----------- 11.4/16.3 MB 368.9 kB/s eta 0:00:14\n",
      "   ---------------------------- ----------- 11.5/16.3 MB 369.3 kB/s eta 0:00:13\n",
      "   ---------------------------- ----------- 11.5/16.3 MB 368.8 kB/s eta 0:00:13\n",
      "   ---------------------------- ----------- 11.5/16.3 MB 369.9 kB/s eta 0:00:13\n",
      "   ---------------------------- ----------- 11.5/16.3 MB 370.3 kB/s eta 0:00:13\n",
      "   ---------------------------- ----------- 11.5/16.3 MB 370.3 kB/s eta 0:00:13\n",
      "   ---------------------------- ----------- 11.6/16.3 MB 371.8 kB/s eta 0:00:13\n",
      "   ---------------------------- ----------- 11.6/16.3 MB 371.8 kB/s eta 0:00:13\n",
      "   ---------------------------- ----------- 11.6/16.3 MB 373.0 kB/s eta 0:00:13\n",
      "   ---------------------------- ----------- 11.7/16.3 MB 373.3 kB/s eta 0:00:13\n",
      "   ---------------------------- ----------- 11.7/16.3 MB 373.0 kB/s eta 0:00:13\n",
      "   ---------------------------- ----------- 11.7/16.3 MB 373.0 kB/s eta 0:00:13\n",
      "   ---------------------------- ----------- 11.7/16.3 MB 373.5 kB/s eta 0:00:13\n",
      "   ---------------------------- ----------- 11.7/16.3 MB 373.3 kB/s eta 0:00:13\n",
      "   ---------------------------- ----------- 11.8/16.3 MB 372.8 kB/s eta 0:00:13\n",
      "   ----------------------------- ---------- 11.8/16.3 MB 373.3 kB/s eta 0:00:12\n",
      "   ----------------------------- ---------- 11.8/16.3 MB 373.0 kB/s eta 0:00:12\n",
      "   ----------------------------- ---------- 11.8/16.3 MB 372.8 kB/s eta 0:00:12\n",
      "   ----------------------------- ---------- 11.9/16.3 MB 373.3 kB/s eta 0:00:12\n",
      "   ----------------------------- ---------- 11.9/16.3 MB 373.7 kB/s eta 0:00:12\n",
      "   ----------------------------- ---------- 12.0/16.3 MB 375.4 kB/s eta 0:00:12\n",
      "   ----------------------------- ---------- 12.0/16.3 MB 375.8 kB/s eta 0:00:12\n",
      "   ----------------------------- ---------- 12.0/16.3 MB 376.1 kB/s eta 0:00:12\n",
      "   ----------------------------- ---------- 12.0/16.3 MB 377.1 kB/s eta 0:00:12\n",
      "   ----------------------------- ---------- 12.1/16.3 MB 377.4 kB/s eta 0:00:12\n",
      "   ----------------------------- ---------- 12.1/16.3 MB 377.4 kB/s eta 0:00:12\n",
      "   ----------------------------- ---------- 12.1/16.3 MB 376.1 kB/s eta 0:00:12\n",
      "   ----------------------------- ---------- 12.1/16.3 MB 376.1 kB/s eta 0:00:12\n",
      "   ----------------------------- ---------- 12.1/16.3 MB 376.5 kB/s eta 0:00:12\n",
      "   ----------------------------- ---------- 12.1/16.3 MB 377.3 kB/s eta 0:00:11\n",
      "   ----------------------------- ---------- 12.1/16.3 MB 377.3 kB/s eta 0:00:11\n",
      "   ----------------------------- ---------- 12.1/16.3 MB 376.5 kB/s eta 0:00:11\n",
      "   ----------------------------- ---------- 12.1/16.3 MB 376.7 kB/s eta 0:00:11\n",
      "   ----------------------------- ---------- 12.2/16.3 MB 376.1 kB/s eta 0:00:11\n",
      "   ----------------------------- ---------- 12.2/16.3 MB 376.7 kB/s eta 0:00:11\n",
      "   ------------------------------ --------- 12.2/16.3 MB 376.7 kB/s eta 0:00:11\n",
      "   ------------------------------ --------- 12.2/16.3 MB 376.7 kB/s eta 0:00:11\n",
      "   ------------------------------ --------- 12.2/16.3 MB 375.6 kB/s eta 0:00:11\n",
      "   ------------------------------ --------- 12.2/16.3 MB 375.6 kB/s eta 0:00:11\n",
      "   ------------------------------ --------- 12.2/16.3 MB 375.6 kB/s eta 0:00:11\n",
      "   ------------------------------ --------- 12.2/16.3 MB 375.2 kB/s eta 0:00:11\n",
      "   ------------------------------ --------- 12.2/16.3 MB 375.2 kB/s eta 0:00:11\n",
      "   ------------------------------ --------- 12.2/16.3 MB 373.3 kB/s eta 0:00:11\n",
      "   ------------------------------ --------- 12.3/16.3 MB 373.7 kB/s eta 0:00:11\n",
      "   ------------------------------ --------- 12.3/16.3 MB 373.7 kB/s eta 0:00:11\n",
      "   ------------------------------ --------- 12.3/16.3 MB 373.7 kB/s eta 0:00:11\n",
      "   ------------------------------ --------- 12.3/16.3 MB 373.7 kB/s eta 0:00:11\n",
      "   ------------------------------ --------- 12.3/16.3 MB 373.7 kB/s eta 0:00:11\n",
      "   ------------------------------ --------- 12.3/16.3 MB 373.0 kB/s eta 0:00:11\n",
      "   ------------------------------ --------- 12.3/16.3 MB 373.0 kB/s eta 0:00:11\n",
      "   ------------------------------ --------- 12.3/16.3 MB 372.0 kB/s eta 0:00:11\n",
      "   ------------------------------ --------- 12.3/16.3 MB 371.8 kB/s eta 0:00:11\n",
      "   ------------------------------ --------- 12.3/16.3 MB 371.6 kB/s eta 0:00:11\n",
      "   ------------------------------ --------- 12.4/16.3 MB 372.2 kB/s eta 0:00:11\n",
      "   ------------------------------ --------- 12.4/16.3 MB 371.8 kB/s eta 0:00:11\n",
      "   ------------------------------ --------- 12.4/16.3 MB 371.8 kB/s eta 0:00:11\n",
      "   ------------------------------ --------- 12.4/16.3 MB 371.8 kB/s eta 0:00:11\n",
      "   ------------------------------ --------- 12.5/16.3 MB 372.4 kB/s eta 0:00:11\n",
      "   ------------------------------ --------- 12.5/16.3 MB 372.6 kB/s eta 0:00:11\n",
      "   ------------------------------ --------- 12.5/16.3 MB 372.6 kB/s eta 0:00:11\n",
      "   ------------------------------ --------- 12.5/16.3 MB 373.1 kB/s eta 0:00:10\n",
      "   ------------------------------ --------- 12.6/16.3 MB 373.3 kB/s eta 0:00:10\n",
      "   ------------------------------- -------- 12.6/16.3 MB 373.7 kB/s eta 0:00:10\n",
      "   ------------------------------- -------- 12.6/16.3 MB 373.7 kB/s eta 0:00:10\n",
      "   ------------------------------- -------- 12.7/16.3 MB 373.7 kB/s eta 0:00:10\n",
      "   ------------------------------- -------- 12.7/16.3 MB 374.1 kB/s eta 0:00:10\n",
      "   ------------------------------- -------- 12.7/16.3 MB 374.3 kB/s eta 0:00:10\n",
      "   ------------------------------- -------- 12.8/16.3 MB 375.0 kB/s eta 0:00:10\n",
      "   ------------------------------- -------- 12.8/16.3 MB 378.2 kB/s eta 0:00:10\n",
      "   ------------------------------- -------- 12.8/16.3 MB 379.8 kB/s eta 0:00:09\n",
      "   ------------------------------- -------- 12.9/16.3 MB 380.9 kB/s eta 0:00:09\n",
      "   ------------------------------- -------- 12.9/16.3 MB 382.0 kB/s eta 0:00:09\n",
      "   ------------------------------- -------- 12.9/16.3 MB 381.8 kB/s eta 0:00:09\n",
      "   ------------------------------- -------- 13.0/16.3 MB 382.9 kB/s eta 0:00:09\n",
      "   -------------------------------- ------- 13.0/16.3 MB 383.1 kB/s eta 0:00:09\n",
      "   -------------------------------- ------- 13.0/16.3 MB 383.1 kB/s eta 0:00:09\n",
      "   -------------------------------- ------- 13.1/16.3 MB 383.6 kB/s eta 0:00:09\n",
      "   -------------------------------- ------- 13.1/16.3 MB 384.2 kB/s eta 0:00:09\n",
      "   -------------------------------- ------- 13.1/16.3 MB 385.1 kB/s eta 0:00:09\n",
      "   -------------------------------- ------- 13.1/16.3 MB 385.8 kB/s eta 0:00:09\n",
      "   -------------------------------- ------- 13.1/16.3 MB 385.8 kB/s eta 0:00:09\n",
      "   -------------------------------- ------- 13.2/16.3 MB 386.0 kB/s eta 0:00:08\n",
      "   -------------------------------- ------- 13.2/16.3 MB 386.0 kB/s eta 0:00:08\n",
      "   -------------------------------- ------- 13.2/16.3 MB 386.0 kB/s eta 0:00:08\n",
      "   -------------------------------- ------- 13.2/16.3 MB 386.5 kB/s eta 0:00:08\n",
      "   -------------------------------- ------- 13.3/16.3 MB 386.5 kB/s eta 0:00:08\n",
      "   -------------------------------- ------- 13.3/16.3 MB 386.5 kB/s eta 0:00:08\n",
      "   -------------------------------- ------- 13.3/16.3 MB 386.7 kB/s eta 0:00:08\n",
      "   -------------------------------- ------- 13.3/16.3 MB 387.2 kB/s eta 0:00:08\n",
      "   -------------------------------- ------- 13.3/16.3 MB 387.2 kB/s eta 0:00:08\n",
      "   -------------------------------- ------- 13.3/16.3 MB 387.6 kB/s eta 0:00:08\n",
      "   -------------------------------- ------- 13.4/16.3 MB 388.6 kB/s eta 0:00:08\n",
      "   -------------------------------- ------- 13.4/16.3 MB 388.8 kB/s eta 0:00:08\n",
      "   -------------------------------- ------- 13.4/16.3 MB 389.0 kB/s eta 0:00:08\n",
      "   --------------------------------- ------ 13.4/16.3 MB 388.8 kB/s eta 0:00:08\n",
      "   --------------------------------- ------ 13.4/16.3 MB 389.0 kB/s eta 0:00:08\n",
      "   --------------------------------- ------ 13.5/16.3 MB 389.0 kB/s eta 0:00:08\n",
      "   --------------------------------- ------ 13.5/16.3 MB 388.8 kB/s eta 0:00:08\n",
      "   --------------------------------- ------ 13.5/16.3 MB 389.0 kB/s eta 0:00:08\n",
      "   --------------------------------- ------ 13.5/16.3 MB 388.8 kB/s eta 0:00:08\n",
      "   --------------------------------- ------ 13.5/16.3 MB 388.8 kB/s eta 0:00:08\n",
      "   --------------------------------- ------ 13.6/16.3 MB 388.6 kB/s eta 0:00:07\n",
      "   --------------------------------- ------ 13.6/16.3 MB 388.6 kB/s eta 0:00:07\n",
      "   --------------------------------- ------ 13.6/16.3 MB 387.9 kB/s eta 0:00:07\n",
      "   --------------------------------- ------ 13.6/16.3 MB 387.9 kB/s eta 0:00:07\n",
      "   --------------------------------- ------ 13.6/16.3 MB 386.7 kB/s eta 0:00:07\n",
      "   --------------------------------- ------ 13.6/16.3 MB 386.7 kB/s eta 0:00:07\n",
      "   --------------------------------- ------ 13.6/16.3 MB 386.7 kB/s eta 0:00:07\n",
      "   --------------------------------- ------ 13.6/16.3 MB 386.7 kB/s eta 0:00:07\n",
      "   --------------------------------- ------ 13.6/16.3 MB 385.1 kB/s eta 0:00:07\n",
      "   --------------------------------- ------ 13.6/16.3 MB 384.7 kB/s eta 0:00:07\n",
      "   --------------------------------- ------ 13.6/16.3 MB 384.7 kB/s eta 0:00:07\n",
      "   --------------------------------- ------ 13.6/16.3 MB 384.0 kB/s eta 0:00:07\n",
      "   --------------------------------- ------ 13.7/16.3 MB 384.2 kB/s eta 0:00:07\n",
      "   --------------------------------- ------ 13.7/16.3 MB 384.2 kB/s eta 0:00:07\n",
      "   --------------------------------- ------ 13.7/16.3 MB 384.2 kB/s eta 0:00:07\n",
      "   --------------------------------- ------ 13.7/16.3 MB 384.9 kB/s eta 0:00:07\n",
      "   --------------------------------- ------ 13.7/16.3 MB 384.9 kB/s eta 0:00:07\n",
      "   --------------------------------- ------ 13.8/16.3 MB 384.9 kB/s eta 0:00:07\n",
      "   --------------------------------- ------ 13.8/16.3 MB 384.9 kB/s eta 0:00:07\n",
      "   --------------------------------- ------ 13.8/16.3 MB 384.9 kB/s eta 0:00:07\n",
      "   --------------------------------- ------ 13.8/16.3 MB 384.4 kB/s eta 0:00:07\n",
      "   ---------------------------------- ----- 13.8/16.3 MB 384.4 kB/s eta 0:00:07\n",
      "   ---------------------------------- ----- 13.8/16.3 MB 384.2 kB/s eta 0:00:07\n",
      "   ---------------------------------- ----- 13.9/16.3 MB 384.0 kB/s eta 0:00:07\n",
      "   ---------------------------------- ----- 13.9/16.3 MB 384.0 kB/s eta 0:00:07\n",
      "   ---------------------------------- ----- 13.9/16.3 MB 383.1 kB/s eta 0:00:07\n",
      "   ---------------------------------- ----- 13.9/16.3 MB 383.1 kB/s eta 0:00:07\n",
      "   ---------------------------------- ----- 13.9/16.3 MB 383.1 kB/s eta 0:00:07\n",
      "   ---------------------------------- ----- 13.9/16.3 MB 382.6 kB/s eta 0:00:07\n",
      "   ---------------------------------- ----- 13.9/16.3 MB 382.0 kB/s eta 0:00:07\n",
      "   ---------------------------------- ----- 13.9/16.3 MB 382.0 kB/s eta 0:00:07\n",
      "   ---------------------------------- ----- 13.9/16.3 MB 382.0 kB/s eta 0:00:07\n",
      "   ---------------------------------- ----- 13.9/16.3 MB 380.6 kB/s eta 0:00:07\n",
      "   ---------------------------------- ----- 13.9/16.3 MB 380.6 kB/s eta 0:00:07\n",
      "   ---------------------------------- ----- 13.9/16.3 MB 380.6 kB/s eta 0:00:07\n",
      "   ---------------------------------- ----- 14.0/16.3 MB 379.8 kB/s eta 0:00:07\n",
      "   ---------------------------------- ----- 14.0/16.3 MB 379.8 kB/s eta 0:00:07\n",
      "   ---------------------------------- ----- 14.0/16.3 MB 379.3 kB/s eta 0:00:07\n",
      "   ---------------------------------- ----- 14.0/16.3 MB 378.4 kB/s eta 0:00:06\n",
      "   ---------------------------------- ----- 14.0/16.3 MB 378.2 kB/s eta 0:00:06\n",
      "   ---------------------------------- ----- 14.0/16.3 MB 378.2 kB/s eta 0:00:06\n",
      "   ---------------------------------- ----- 14.0/16.3 MB 378.2 kB/s eta 0:00:06\n",
      "   ---------------------------------- ----- 14.1/16.3 MB 378.2 kB/s eta 0:00:06\n",
      "   ---------------------------------- ----- 14.1/16.3 MB 378.2 kB/s eta 0:00:06\n",
      "   ---------------------------------- ----- 14.1/16.3 MB 378.4 kB/s eta 0:00:06\n",
      "   ---------------------------------- ----- 14.1/16.3 MB 378.4 kB/s eta 0:00:06\n",
      "   ---------------------------------- ----- 14.1/16.3 MB 378.9 kB/s eta 0:00:06\n",
      "   ---------------------------------- ----- 14.1/16.3 MB 378.9 kB/s eta 0:00:06\n",
      "   ---------------------------------- ----- 14.2/16.3 MB 379.3 kB/s eta 0:00:06\n",
      "   ---------------------------------- ----- 14.2/16.3 MB 379.5 kB/s eta 0:00:06\n",
      "   ---------------------------------- ----- 14.2/16.3 MB 379.8 kB/s eta 0:00:06\n",
      "   ---------------------------------- ----- 14.2/16.3 MB 380.0 kB/s eta 0:00:06\n",
      "   ----------------------------------- ---- 14.3/16.3 MB 380.2 kB/s eta 0:00:06\n",
      "   ----------------------------------- ---- 14.3/16.3 MB 380.2 kB/s eta 0:00:06\n",
      "   ----------------------------------- ---- 14.3/16.3 MB 380.2 kB/s eta 0:00:06\n",
      "   ----------------------------------- ---- 14.3/16.3 MB 380.0 kB/s eta 0:00:06\n",
      "   ----------------------------------- ---- 14.3/16.3 MB 379.5 kB/s eta 0:00:06\n",
      "   ----------------------------------- ---- 14.3/16.3 MB 379.5 kB/s eta 0:00:06\n",
      "   ----------------------------------- ---- 14.3/16.3 MB 379.1 kB/s eta 0:00:06\n",
      "   ----------------------------------- ---- 14.3/16.3 MB 379.1 kB/s eta 0:00:06\n",
      "   ----------------------------------- ---- 14.4/16.3 MB 378.7 kB/s eta 0:00:05\n",
      "   ----------------------------------- ---- 14.4/16.3 MB 377.8 kB/s eta 0:00:05\n",
      "   ----------------------------------- ---- 14.4/16.3 MB 377.8 kB/s eta 0:00:05\n",
      "   ----------------------------------- ---- 14.4/16.3 MB 377.4 kB/s eta 0:00:05\n",
      "   ----------------------------------- ---- 14.4/16.3 MB 376.7 kB/s eta 0:00:05\n",
      "   ----------------------------------- ---- 14.4/16.3 MB 376.9 kB/s eta 0:00:05\n",
      "   ----------------------------------- ---- 14.4/16.3 MB 376.7 kB/s eta 0:00:05\n",
      "   ----------------------------------- ---- 14.5/16.3 MB 376.7 kB/s eta 0:00:05\n",
      "   ----------------------------------- ---- 14.5/16.3 MB 376.3 kB/s eta 0:00:05\n",
      "   ----------------------------------- ---- 14.5/16.3 MB 376.7 kB/s eta 0:00:05\n",
      "   ----------------------------------- ---- 14.5/16.3 MB 376.9 kB/s eta 0:00:05\n",
      "   ----------------------------------- ---- 14.5/16.3 MB 376.9 kB/s eta 0:00:05\n",
      "   ----------------------------------- ---- 14.6/16.3 MB 377.6 kB/s eta 0:00:05\n",
      "   ----------------------------------- ---- 14.6/16.3 MB 377.8 kB/s eta 0:00:05\n",
      "   ----------------------------------- ---- 14.6/16.3 MB 378.7 kB/s eta 0:00:05\n",
      "   ----------------------------------- ---- 14.6/16.3 MB 378.7 kB/s eta 0:00:05\n",
      "   ----------------------------------- ---- 14.6/16.3 MB 379.1 kB/s eta 0:00:05\n",
      "   ------------------------------------ --- 14.6/16.3 MB 379.5 kB/s eta 0:00:05\n",
      "   ------------------------------------ --- 14.6/16.3 MB 379.5 kB/s eta 0:00:05\n",
      "   ------------------------------------ --- 14.6/16.3 MB 379.5 kB/s eta 0:00:05\n",
      "   ------------------------------------ --- 14.7/16.3 MB 379.5 kB/s eta 0:00:05\n",
      "   ------------------------------------ --- 14.7/16.3 MB 379.1 kB/s eta 0:00:05\n",
      "   ------------------------------------ --- 14.7/16.3 MB 379.5 kB/s eta 0:00:05\n",
      "   ------------------------------------ --- 14.7/16.3 MB 378.9 kB/s eta 0:00:05\n",
      "   ------------------------------------ --- 14.7/16.3 MB 379.3 kB/s eta 0:00:05\n",
      "   ------------------------------------ --- 14.7/16.3 MB 379.3 kB/s eta 0:00:04\n",
      "   ------------------------------------ --- 14.8/16.3 MB 379.3 kB/s eta 0:00:04\n",
      "   ------------------------------------ --- 14.8/16.3 MB 379.3 kB/s eta 0:00:04\n",
      "   ------------------------------------ --- 14.8/16.3 MB 378.7 kB/s eta 0:00:04\n",
      "   ------------------------------------ --- 14.8/16.3 MB 378.7 kB/s eta 0:00:04\n",
      "   ------------------------------------ --- 14.8/16.3 MB 380.0 kB/s eta 0:00:04\n",
      "   ------------------------------------ --- 14.8/16.3 MB 380.9 kB/s eta 0:00:04\n",
      "   ------------------------------------ --- 14.9/16.3 MB 380.9 kB/s eta 0:00:04\n",
      "   ------------------------------------ --- 14.9/16.3 MB 380.9 kB/s eta 0:00:04\n",
      "   ------------------------------------ --- 14.9/16.3 MB 381.5 kB/s eta 0:00:04\n",
      "   ------------------------------------ --- 14.9/16.3 MB 381.8 kB/s eta 0:00:04\n",
      "   ------------------------------------ --- 15.0/16.3 MB 382.2 kB/s eta 0:00:04\n",
      "   ------------------------------------ --- 15.0/16.3 MB 381.5 kB/s eta 0:00:04\n",
      "   ------------------------------------ --- 15.0/16.3 MB 381.3 kB/s eta 0:00:04\n",
      "   ------------------------------------ --- 15.0/16.3 MB 381.3 kB/s eta 0:00:04\n",
      "   ------------------------------------ --- 15.0/16.3 MB 381.8 kB/s eta 0:00:04\n",
      "   ------------------------------------ --- 15.0/16.3 MB 381.5 kB/s eta 0:00:04\n",
      "   ------------------------------------- -- 15.0/16.3 MB 380.9 kB/s eta 0:00:04\n",
      "   ------------------------------------- -- 15.1/16.3 MB 381.1 kB/s eta 0:00:04\n",
      "   ------------------------------------- -- 15.1/16.3 MB 380.2 kB/s eta 0:00:04\n",
      "   ------------------------------------- -- 15.1/16.3 MB 381.3 kB/s eta 0:00:04\n",
      "   ------------------------------------- -- 15.1/16.3 MB 382.0 kB/s eta 0:00:03\n",
      "   ------------------------------------- -- 15.1/16.3 MB 381.3 kB/s eta 0:00:03\n",
      "   ------------------------------------- -- 15.1/16.3 MB 382.0 kB/s eta 0:00:03\n",
      "   ------------------------------------- -- 15.2/16.3 MB 381.1 kB/s eta 0:00:03\n",
      "   ------------------------------------- -- 15.2/16.3 MB 381.1 kB/s eta 0:00:03\n",
      "   ------------------------------------- -- 15.2/16.3 MB 381.1 kB/s eta 0:00:03\n",
      "   ------------------------------------- -- 15.2/16.3 MB 380.4 kB/s eta 0:00:03\n",
      "   ------------------------------------- -- 15.2/16.3 MB 380.2 kB/s eta 0:00:03\n",
      "   ------------------------------------- -- 15.2/16.3 MB 379.8 kB/s eta 0:00:03\n",
      "   ------------------------------------- -- 15.2/16.3 MB 379.8 kB/s eta 0:00:03\n",
      "   ------------------------------------- -- 15.2/16.3 MB 379.1 kB/s eta 0:00:03\n",
      "   ------------------------------------- -- 15.2/16.3 MB 378.9 kB/s eta 0:00:03\n",
      "   ------------------------------------- -- 15.2/16.3 MB 378.9 kB/s eta 0:00:03\n",
      "   ------------------------------------- -- 15.3/16.3 MB 377.8 kB/s eta 0:00:03\n",
      "   ------------------------------------- -- 15.3/16.3 MB 377.8 kB/s eta 0:00:03\n",
      "   ------------------------------------- -- 15.3/16.3 MB 377.1 kB/s eta 0:00:03\n",
      "   ------------------------------------- -- 15.3/16.3 MB 376.3 kB/s eta 0:00:03\n",
      "   ------------------------------------- -- 15.3/16.3 MB 376.3 kB/s eta 0:00:03\n",
      "   ------------------------------------- -- 15.3/16.3 MB 375.8 kB/s eta 0:00:03\n",
      "   ------------------------------------- -- 15.3/16.3 MB 375.4 kB/s eta 0:00:03\n",
      "   ------------------------------------- -- 15.4/16.3 MB 375.2 kB/s eta 0:00:03\n",
      "   ------------------------------------- -- 15.4/16.3 MB 375.0 kB/s eta 0:00:03\n",
      "   ------------------------------------- -- 15.4/16.3 MB 374.8 kB/s eta 0:00:03\n",
      "   -------------------------------------- - 15.5/16.3 MB 375.2 kB/s eta 0:00:03\n",
      "   -------------------------------------- - 15.5/16.3 MB 375.2 kB/s eta 0:00:03\n",
      "   -------------------------------------- - 15.5/16.3 MB 375.2 kB/s eta 0:00:02\n",
      "   -------------------------------------- - 15.5/16.3 MB 375.0 kB/s eta 0:00:02\n",
      "   -------------------------------------- - 15.6/16.3 MB 375.4 kB/s eta 0:00:02\n",
      "   -------------------------------------- - 15.6/16.3 MB 376.1 kB/s eta 0:00:02\n",
      "   -------------------------------------- - 15.6/16.3 MB 375.6 kB/s eta 0:00:02\n",
      "   -------------------------------------- - 15.7/16.3 MB 375.4 kB/s eta 0:00:02\n",
      "   -------------------------------------- - 15.7/16.3 MB 376.3 kB/s eta 0:00:02\n",
      "   -------------------------------------- - 15.7/16.3 MB 376.5 kB/s eta 0:00:02\n",
      "   -------------------------------------- - 15.8/16.3 MB 376.5 kB/s eta 0:00:02\n",
      "   -------------------------------------- - 15.8/16.3 MB 376.7 kB/s eta 0:00:02\n",
      "   -------------------------------------- - 15.8/16.3 MB 377.4 kB/s eta 0:00:02\n",
      "   ---------------------------------------  15.9/16.3 MB 378.4 kB/s eta 0:00:02\n",
      "   ---------------------------------------  15.9/16.3 MB 378.0 kB/s eta 0:00:02\n",
      "   ---------------------------------------  15.9/16.3 MB 378.7 kB/s eta 0:00:01\n",
      "   ---------------------------------------  15.9/16.3 MB 379.8 kB/s eta 0:00:01\n",
      "   ---------------------------------------  15.9/16.3 MB 379.8 kB/s eta 0:00:01\n",
      "   ---------------------------------------  16.0/16.3 MB 379.5 kB/s eta 0:00:01\n",
      "   ---------------------------------------  16.0/16.3 MB 378.7 kB/s eta 0:00:01\n",
      "   ---------------------------------------  16.0/16.3 MB 379.5 kB/s eta 0:00:01\n",
      "   ---------------------------------------  16.0/16.3 MB 380.9 kB/s eta 0:00:01\n",
      "   ---------------------------------------  16.0/16.3 MB 380.2 kB/s eta 0:00:01\n",
      "   ---------------------------------------  16.1/16.3 MB 383.8 kB/s eta 0:00:01\n",
      "   ---------------------------------------  16.1/16.3 MB 385.3 kB/s eta 0:00:01\n",
      "   ---------------------------------------  16.1/16.3 MB 386.3 kB/s eta 0:00:01\n",
      "   ---------------------------------------  16.1/16.3 MB 386.5 kB/s eta 0:00:01\n",
      "   ---------------------------------------  16.1/16.3 MB 386.5 kB/s eta 0:00:01\n",
      "   ---------------------------------------  16.2/16.3 MB 386.7 kB/s eta 0:00:01\n",
      "   ---------------------------------------  16.2/16.3 MB 386.5 kB/s eta 0:00:01\n",
      "   ---------------------------------------  16.2/16.3 MB 386.5 kB/s eta 0:00:01\n",
      "   ---------------------------------------  16.2/16.3 MB 386.0 kB/s eta 0:00:01\n",
      "   ---------------------------------------  16.2/16.3 MB 386.0 kB/s eta 0:00:01\n",
      "   ---------------------------------------  16.2/16.3 MB 385.6 kB/s eta 0:00:01\n",
      "   ---------------------------------------  16.2/16.3 MB 385.6 kB/s eta 0:00:01\n",
      "   ---------------------------------------  16.3/16.3 MB 386.5 kB/s eta 0:00:01\n",
      "   ---------------------------------------- 16.3/16.3 MB 385.6 kB/s eta 0:00:00\n",
      "Installing collected packages: numpy\n",
      "Successfully installed numpy-2.0.1\n"
     ]
    }
   ],
   "source": [
    "pip install numpy"
   ]
  },
  {
   "cell_type": "code",
   "execution_count": 2,
   "metadata": {},
   "outputs": [
    {
     "name": "stdout",
     "output_type": "stream",
     "text": [
      "Hello World\n"
     ]
    }
   ],
   "source": [
    "print(\"Hello World\")"
   ]
  },
  {
   "cell_type": "code",
   "execution_count": 4,
   "metadata": {},
   "outputs": [
    {
     "name": "stdout",
     "output_type": "stream",
     "text": [
      "Requirement already satisfied: numpy in e:\\flutter app\\artificial-intelligence-and-machine-learning\\python 3.12\\venv\\lib\\site-packages (2.0.1)\n",
      "Note: you may need to restart the kernel to use updated packages.\n"
     ]
    }
   ],
   "source": [
    "pip install numpy"
   ]
  },
  {
   "cell_type": "code",
   "execution_count": 5,
   "metadata": {},
   "outputs": [
    {
     "name": "stdout",
     "output_type": "stream",
     "text": [
      "Hello world\n"
     ]
    }
   ],
   "source": [
    "print(\"Hello world\")"
   ]
  },
  {
   "cell_type": "code",
   "execution_count": 6,
   "metadata": {},
   "outputs": [],
   "source": [
    "import numpy as np"
   ]
  },
  {
   "cell_type": "code",
   "execution_count": 7,
   "metadata": {},
   "outputs": [],
   "source": [
    "arr1 = np.array([[1,2,3,4],[5,6,7,8],[9,10,11,12]])\n",
    "arr1[1:][2:]"
   ]
  },
  {
   "cell_type": "code",
   "execution_count": 8,
   "metadata": {},
   "outputs": [
    {
     "data": {
      "text/plain": [
       "array([[ 1,  2,  3,  4],\n",
       "       [ 5,  6,  7,  8],\n",
       "       [ 9, 10, 11, 12]])"
      ]
     },
     "execution_count": 8,
     "metadata": {},
     "output_type": "execute_result"
    }
   ],
   "source": [
    "arr1"
   ]
  },
  {
   "cell_type": "code",
   "execution_count": 12,
   "metadata": {},
   "outputs": [
    {
     "data": {
      "text/plain": [
       "array([1, 2, 3, 4])"
      ]
     },
     "execution_count": 12,
     "metadata": {},
     "output_type": "execute_result"
    }
   ],
   "source": [
    "arr1[0]"
   ]
  },
  {
   "cell_type": "code",
   "execution_count": 14,
   "metadata": {},
   "outputs": [
    {
     "data": {
      "text/plain": [
       "np.int64(1)"
      ]
     },
     "execution_count": 14,
     "metadata": {},
     "output_type": "execute_result"
    }
   ],
   "source": [
    "arr1[0][0]"
   ]
  },
  {
   "cell_type": "code",
   "execution_count": 17,
   "metadata": {},
   "outputs": [
    {
     "data": {
      "text/plain": [
       "array([[ 5,  6,  7,  8],\n",
       "       [ 9, 10, 11, 12]])"
      ]
     },
     "execution_count": 17,
     "metadata": {},
     "output_type": "execute_result"
    }
   ],
   "source": [
    "arr1[1:]"
   ]
  },
  {
   "cell_type": "code",
   "execution_count": 23,
   "metadata": {},
   "outputs": [
    {
     "data": {
      "text/plain": [
       "array([], shape=(0, 4), dtype=int64)"
      ]
     },
     "execution_count": 23,
     "metadata": {},
     "output_type": "execute_result"
    }
   ],
   "source": [
    "arr1[1:][2:]"
   ]
  },
  {
   "cell_type": "code",
   "execution_count": 24,
   "metadata": {},
   "outputs": [
    {
     "name": "stdout",
     "output_type": "stream",
     "text": [
      "Collecting pandas\n",
      "  Downloading pandas-2.2.2-cp312-cp312-win_amd64.whl.metadata (19 kB)\n",
      "Requirement already satisfied: numpy>=1.26.0 in e:\\flutter app\\artificial-intelligence-and-machine-learning\\python 3.12\\venv\\lib\\site-packages (from pandas) (2.0.1)\n",
      "Requirement already satisfied: python-dateutil>=2.8.2 in e:\\flutter app\\artificial-intelligence-and-machine-learning\\python 3.12\\venv\\lib\\site-packages (from pandas) (2.9.0.post0)\n",
      "Collecting pytz>=2020.1 (from pandas)\n",
      "  Downloading pytz-2024.1-py2.py3-none-any.whl.metadata (22 kB)\n",
      "Collecting tzdata>=2022.7 (from pandas)\n",
      "  Downloading tzdata-2024.1-py2.py3-none-any.whl.metadata (1.4 kB)\n",
      "Requirement already satisfied: six>=1.5 in e:\\flutter app\\artificial-intelligence-and-machine-learning\\python 3.12\\venv\\lib\\site-packages (from python-dateutil>=2.8.2->pandas) (1.16.0)\n",
      "Downloading pandas-2.2.2-cp312-cp312-win_amd64.whl (11.5 MB)\n",
      "   ---------------------------------------- 0.0/11.5 MB ? eta -:--:--\n",
      "   ---------------------------------------- 0.1/11.5 MB 3.2 MB/s eta 0:00:04\n",
      "    --------------------------------------- 0.2/11.5 MB 2.4 MB/s eta 0:00:05\n",
      "   - -------------------------------------- 0.3/11.5 MB 2.4 MB/s eta 0:00:05\n",
      "   - -------------------------------------- 0.4/11.5 MB 2.2 MB/s eta 0:00:06\n",
      "   - -------------------------------------- 0.5/11.5 MB 1.9 MB/s eta 0:00:06\n",
      "   - -------------------------------------- 0.5/11.5 MB 1.9 MB/s eta 0:00:06\n",
      "   - -------------------------------------- 0.5/11.5 MB 1.7 MB/s eta 0:00:07\n",
      "   - -------------------------------------- 0.5/11.5 MB 1.4 MB/s eta 0:00:08\n",
      "   - -------------------------------------- 0.5/11.5 MB 1.3 MB/s eta 0:00:09\n",
      "   - -------------------------------------- 0.6/11.5 MB 1.2 MB/s eta 0:00:09\n",
      "   -- ------------------------------------- 0.6/11.5 MB 1.1 MB/s eta 0:00:10\n",
      "   -- ------------------------------------- 0.6/11.5 MB 1.1 MB/s eta 0:00:10\n",
      "   -- ------------------------------------- 0.6/11.5 MB 1.1 MB/s eta 0:00:11\n",
      "   -- ------------------------------------- 0.7/11.5 MB 1.0 MB/s eta 0:00:11\n",
      "   -- ------------------------------------- 0.7/11.5 MB 1.0 MB/s eta 0:00:11\n",
      "   -- ------------------------------------- 0.7/11.5 MB 996.9 kB/s eta 0:00:11\n",
      "   -- ------------------------------------- 0.8/11.5 MB 955.9 kB/s eta 0:00:12\n",
      "   -- ------------------------------------- 0.8/11.5 MB 969.8 kB/s eta 0:00:12\n",
      "   -- ------------------------------------- 0.8/11.5 MB 936.2 kB/s eta 0:00:12\n",
      "   -- ------------------------------------- 0.8/11.5 MB 914.5 kB/s eta 0:00:12\n",
      "   --- ------------------------------------ 0.9/11.5 MB 898.2 kB/s eta 0:00:12\n",
      "   --- ------------------------------------ 0.9/11.5 MB 866.8 kB/s eta 0:00:13\n",
      "   --- ------------------------------------ 0.9/11.5 MB 857.3 kB/s eta 0:00:13\n",
      "   --- ------------------------------------ 0.9/11.5 MB 857.3 kB/s eta 0:00:13\n",
      "   --- ------------------------------------ 1.0/11.5 MB 834.6 kB/s eta 0:00:13\n",
      "   --- ------------------------------------ 1.0/11.5 MB 810.2 kB/s eta 0:00:13\n",
      "   --- ------------------------------------ 1.0/11.5 MB 806.4 kB/s eta 0:00:14\n",
      "   --- ------------------------------------ 1.0/11.5 MB 806.4 kB/s eta 0:00:14\n",
      "   --- ------------------------------------ 1.0/11.5 MB 806.4 kB/s eta 0:00:14\n",
      "   --- ------------------------------------ 1.0/11.5 MB 728.8 kB/s eta 0:00:15\n",
      "   --- ------------------------------------ 1.0/11.5 MB 728.8 kB/s eta 0:00:15\n",
      "   --- ------------------------------------ 1.0/11.5 MB 728.8 kB/s eta 0:00:15\n",
      "   --- ------------------------------------ 1.0/11.5 MB 728.8 kB/s eta 0:00:15\n",
      "   --- ------------------------------------ 1.0/11.5 MB 728.8 kB/s eta 0:00:15\n",
      "   --- ------------------------------------ 1.0/11.5 MB 728.8 kB/s eta 0:00:15\n",
      "   --- ------------------------------------ 1.0/11.5 MB 728.8 kB/s eta 0:00:15\n",
      "   --- ------------------------------------ 1.0/11.5 MB 728.8 kB/s eta 0:00:15\n",
      "   --- ------------------------------------ 1.0/11.5 MB 728.8 kB/s eta 0:00:15\n",
      "   --- ------------------------------------ 1.0/11.5 MB 575.5 kB/s eta 0:00:19\n",
      "   --- ------------------------------------ 1.0/11.5 MB 575.5 kB/s eta 0:00:19\n",
      "   --- ------------------------------------ 1.1/11.5 MB 547.7 kB/s eta 0:00:20\n",
      "   --- ------------------------------------ 1.1/11.5 MB 547.7 kB/s eta 0:00:20\n",
      "   --- ------------------------------------ 1.1/11.5 MB 547.7 kB/s eta 0:00:20\n",
      "   --- ------------------------------------ 1.1/11.5 MB 520.3 kB/s eta 0:00:21\n",
      "   --- ------------------------------------ 1.1/11.5 MB 520.3 kB/s eta 0:00:21\n",
      "   --- ------------------------------------ 1.1/11.5 MB 502.2 kB/s eta 0:00:21\n",
      "   --- ------------------------------------ 1.1/11.5 MB 502.2 kB/s eta 0:00:21\n",
      "   --- ------------------------------------ 1.1/11.5 MB 497.4 kB/s eta 0:00:21\n",
      "   --- ------------------------------------ 1.1/11.5 MB 490.4 kB/s eta 0:00:22\n",
      "   ---- ----------------------------------- 1.2/11.5 MB 489.3 kB/s eta 0:00:22\n",
      "   ---- ----------------------------------- 1.2/11.5 MB 487.2 kB/s eta 0:00:22\n",
      "   ---- ----------------------------------- 1.2/11.5 MB 491.4 kB/s eta 0:00:21\n",
      "   ---- ----------------------------------- 1.2/11.5 MB 489.4 kB/s eta 0:00:22\n",
      "   ---- ----------------------------------- 1.2/11.5 MB 491.5 kB/s eta 0:00:21\n",
      "   ---- ----------------------------------- 1.3/11.5 MB 494.5 kB/s eta 0:00:21\n",
      "   ---- ----------------------------------- 1.3/11.5 MB 491.5 kB/s eta 0:00:21\n",
      "   ---- ----------------------------------- 1.3/11.5 MB 493.3 kB/s eta 0:00:21\n",
      "   ---- ----------------------------------- 1.3/11.5 MB 491.4 kB/s eta 0:00:21\n",
      "   ---- ----------------------------------- 1.4/11.5 MB 492.4 kB/s eta 0:00:21\n",
      "   ---- ----------------------------------- 1.4/11.5 MB 493.2 kB/s eta 0:00:21\n",
      "   ---- ----------------------------------- 1.4/11.5 MB 493.3 kB/s eta 0:00:21\n",
      "   ---- ----------------------------------- 1.4/11.5 MB 495.1 kB/s eta 0:00:21\n",
      "   ----- ---------------------------------- 1.5/11.5 MB 494.9 kB/s eta 0:00:21\n",
      "   ----- ---------------------------------- 1.5/11.5 MB 494.9 kB/s eta 0:00:21\n",
      "   ----- ---------------------------------- 1.5/11.5 MB 499.1 kB/s eta 0:00:21\n",
      "   ----- ---------------------------------- 1.5/11.5 MB 499.0 kB/s eta 0:00:20\n",
      "   ----- ---------------------------------- 1.6/11.5 MB 498.8 kB/s eta 0:00:20\n",
      "   ----- ---------------------------------- 1.6/11.5 MB 506.8 kB/s eta 0:00:20\n",
      "   ----- ---------------------------------- 1.6/11.5 MB 505.1 kB/s eta 0:00:20\n",
      "   ----- ---------------------------------- 1.7/11.5 MB 504.8 kB/s eta 0:00:20\n",
      "   ----- ---------------------------------- 1.7/11.5 MB 510.0 kB/s eta 0:00:20\n",
      "   ----- ---------------------------------- 1.7/11.5 MB 505.9 kB/s eta 0:00:20\n",
      "   ------ --------------------------------- 1.7/11.5 MB 507.9 kB/s eta 0:00:20\n",
      "   ------ --------------------------------- 1.8/11.5 MB 507.1 kB/s eta 0:00:20\n",
      "   ------ --------------------------------- 1.8/11.5 MB 508.3 kB/s eta 0:00:20\n",
      "   ------ --------------------------------- 1.8/11.5 MB 508.1 kB/s eta 0:00:20\n",
      "   ------ --------------------------------- 1.8/11.5 MB 508.7 kB/s eta 0:00:20\n",
      "   ------ --------------------------------- 1.9/11.5 MB 509.0 kB/s eta 0:00:19\n",
      "   ------ --------------------------------- 1.9/11.5 MB 509.0 kB/s eta 0:00:19\n",
      "   ------ --------------------------------- 1.9/11.5 MB 506.6 kB/s eta 0:00:19\n",
      "   ------ --------------------------------- 1.9/11.5 MB 506.6 kB/s eta 0:00:19\n",
      "   ------ --------------------------------- 1.9/11.5 MB 500.9 kB/s eta 0:00:20\n",
      "   ------ --------------------------------- 1.9/11.5 MB 500.9 kB/s eta 0:00:20\n",
      "   ------ --------------------------------- 1.9/11.5 MB 494.2 kB/s eta 0:00:20\n",
      "   ------ --------------------------------- 1.9/11.5 MB 494.2 kB/s eta 0:00:20\n",
      "   ------ --------------------------------- 1.9/11.5 MB 485.7 kB/s eta 0:00:20\n",
      "   ------ --------------------------------- 1.9/11.5 MB 485.7 kB/s eta 0:00:20\n",
      "   ------ --------------------------------- 1.9/11.5 MB 485.7 kB/s eta 0:00:20\n",
      "   ------ --------------------------------- 2.0/11.5 MB 473.4 kB/s eta 0:00:21\n",
      "   ------ --------------------------------- 2.0/11.5 MB 469.5 kB/s eta 0:00:21\n",
      "   ------ --------------------------------- 2.0/11.5 MB 469.5 kB/s eta 0:00:21\n",
      "   ------ --------------------------------- 2.0/11.5 MB 461.5 kB/s eta 0:00:21\n",
      "   ------ --------------------------------- 2.0/11.5 MB 461.5 kB/s eta 0:00:21\n",
      "   ------ --------------------------------- 2.0/11.5 MB 459.7 kB/s eta 0:00:21\n",
      "   ------- -------------------------------- 2.0/11.5 MB 456.2 kB/s eta 0:00:21\n",
      "   ------- -------------------------------- 2.0/11.5 MB 455.3 kB/s eta 0:00:21\n",
      "   ------- -------------------------------- 2.1/11.5 MB 455.1 kB/s eta 0:00:21\n",
      "   ------- -------------------------------- 2.1/11.5 MB 454.1 kB/s eta 0:00:21\n",
      "   ------- -------------------------------- 2.1/11.5 MB 455.4 kB/s eta 0:00:21\n",
      "   ------- -------------------------------- 2.1/11.5 MB 456.7 kB/s eta 0:00:21\n",
      "   ------- -------------------------------- 2.2/11.5 MB 457.2 kB/s eta 0:00:21\n",
      "   ------- -------------------------------- 2.2/11.5 MB 457.2 kB/s eta 0:00:21\n",
      "   ------- -------------------------------- 2.2/11.5 MB 454.7 kB/s eta 0:00:21\n",
      "   ------- -------------------------------- 2.2/11.5 MB 454.5 kB/s eta 0:00:21\n",
      "   ------- -------------------------------- 2.2/11.5 MB 454.5 kB/s eta 0:00:21\n",
      "   ------- -------------------------------- 2.2/11.5 MB 450.8 kB/s eta 0:00:21\n",
      "   ------- -------------------------------- 2.2/11.5 MB 450.8 kB/s eta 0:00:21\n",
      "   ------- -------------------------------- 2.2/11.5 MB 445.0 kB/s eta 0:00:21\n",
      "   ------- -------------------------------- 2.3/11.5 MB 444.3 kB/s eta 0:00:21\n",
      "   ------- -------------------------------- 2.3/11.5 MB 441.6 kB/s eta 0:00:21\n",
      "   ------- -------------------------------- 2.3/11.5 MB 441.6 kB/s eta 0:00:21\n",
      "   ------- -------------------------------- 2.3/11.5 MB 441.6 kB/s eta 0:00:21\n",
      "   ------- -------------------------------- 2.3/11.5 MB 435.0 kB/s eta 0:00:22\n",
      "   -------- ------------------------------- 2.3/11.5 MB 435.6 kB/s eta 0:00:22\n",
      "   -------- ------------------------------- 2.3/11.5 MB 433.1 kB/s eta 0:00:22\n",
      "   -------- ------------------------------- 2.3/11.5 MB 433.1 kB/s eta 0:00:22\n",
      "   -------- ------------------------------- 2.3/11.5 MB 429.9 kB/s eta 0:00:22\n",
      "   -------- ------------------------------- 2.4/11.5 MB 427.5 kB/s eta 0:00:22\n",
      "   -------- ------------------------------- 2.4/11.5 MB 427.6 kB/s eta 0:00:22\n",
      "   -------- ------------------------------- 2.4/11.5 MB 427.6 kB/s eta 0:00:22\n",
      "   -------- ------------------------------- 2.4/11.5 MB 424.7 kB/s eta 0:00:22\n",
      "   -------- ------------------------------- 2.4/11.5 MB 422.5 kB/s eta 0:00:22\n",
      "   -------- ------------------------------- 2.4/11.5 MB 420.8 kB/s eta 0:00:22\n",
      "   -------- ------------------------------- 2.4/11.5 MB 420.8 kB/s eta 0:00:22\n",
      "   -------- ------------------------------- 2.4/11.5 MB 419.7 kB/s eta 0:00:22\n",
      "   -------- ------------------------------- 2.5/11.5 MB 417.6 kB/s eta 0:00:22\n",
      "   -------- ------------------------------- 2.5/11.5 MB 417.6 kB/s eta 0:00:22\n",
      "   -------- ------------------------------- 2.5/11.5 MB 412.8 kB/s eta 0:00:22\n",
      "   -------- ------------------------------- 2.5/11.5 MB 412.8 kB/s eta 0:00:22\n",
      "   -------- ------------------------------- 2.5/11.5 MB 410.8 kB/s eta 0:00:22\n",
      "   -------- ------------------------------- 2.5/11.5 MB 409.4 kB/s eta 0:00:22\n",
      "   -------- ------------------------------- 2.5/11.5 MB 409.6 kB/s eta 0:00:22\n",
      "   -------- ------------------------------- 2.5/11.5 MB 409.8 kB/s eta 0:00:22\n",
      "   -------- ------------------------------- 2.5/11.5 MB 409.4 kB/s eta 0:00:22\n",
      "   -------- ------------------------------- 2.6/11.5 MB 410.2 kB/s eta 0:00:22\n",
      "   --------- ------------------------------ 2.6/11.5 MB 411.4 kB/s eta 0:00:22\n",
      "   --------- ------------------------------ 2.6/11.5 MB 411.6 kB/s eta 0:00:22\n",
      "   --------- ------------------------------ 2.6/11.5 MB 410.2 kB/s eta 0:00:22\n",
      "   --------- ------------------------------ 2.7/11.5 MB 409.4 kB/s eta 0:00:22\n",
      "   --------- ------------------------------ 2.7/11.5 MB 409.4 kB/s eta 0:00:22\n",
      "   --------- ------------------------------ 2.7/11.5 MB 407.0 kB/s eta 0:00:22\n",
      "   --------- ------------------------------ 2.7/11.5 MB 407.0 kB/s eta 0:00:22\n",
      "   --------- ------------------------------ 2.7/11.5 MB 404.3 kB/s eta 0:00:22\n",
      "   --------- ------------------------------ 2.7/11.5 MB 404.3 kB/s eta 0:00:22\n",
      "   --------- ------------------------------ 2.7/11.5 MB 401.8 kB/s eta 0:00:22\n",
      "   --------- ------------------------------ 2.7/11.5 MB 398.6 kB/s eta 0:00:23\n",
      "   --------- ------------------------------ 2.7/11.5 MB 398.9 kB/s eta 0:00:22\n",
      "   --------- ------------------------------ 2.7/11.5 MB 397.7 kB/s eta 0:00:23\n",
      "   --------- ------------------------------ 2.8/11.5 MB 398.8 kB/s eta 0:00:22\n",
      "   --------- ------------------------------ 2.8/11.5 MB 399.1 kB/s eta 0:00:22\n",
      "   --------- ------------------------------ 2.8/11.5 MB 399.9 kB/s eta 0:00:22\n",
      "   --------- ------------------------------ 2.8/11.5 MB 397.9 kB/s eta 0:00:22\n",
      "   --------- ------------------------------ 2.8/11.5 MB 400.7 kB/s eta 0:00:22\n",
      "   --------- ------------------------------ 2.9/11.5 MB 400.1 kB/s eta 0:00:22\n",
      "   --------- ------------------------------ 2.9/11.5 MB 400.1 kB/s eta 0:00:22\n",
      "   ---------- ----------------------------- 2.9/11.5 MB 397.2 kB/s eta 0:00:22\n",
      "   ---------- ----------------------------- 2.9/11.5 MB 396.6 kB/s eta 0:00:22\n",
      "   ---------- ----------------------------- 2.9/11.5 MB 394.6 kB/s eta 0:00:22\n",
      "   ---------- ----------------------------- 2.9/11.5 MB 394.6 kB/s eta 0:00:22\n",
      "   ---------- ----------------------------- 2.9/11.5 MB 394.0 kB/s eta 0:00:22\n",
      "   ---------- ----------------------------- 2.9/11.5 MB 394.3 kB/s eta 0:00:22\n",
      "   ---------- ----------------------------- 3.0/11.5 MB 391.5 kB/s eta 0:00:22\n",
      "   ---------- ----------------------------- 3.0/11.5 MB 392.6 kB/s eta 0:00:22\n",
      "   ---------- ----------------------------- 3.0/11.5 MB 391.6 kB/s eta 0:00:22\n",
      "   ---------- ----------------------------- 3.0/11.5 MB 391.1 kB/s eta 0:00:22\n",
      "   ---------- ----------------------------- 3.0/11.5 MB 391.3 kB/s eta 0:00:22\n",
      "   ---------- ----------------------------- 3.0/11.5 MB 390.3 kB/s eta 0:00:22\n",
      "   ---------- ----------------------------- 3.1/11.5 MB 390.6 kB/s eta 0:00:22\n",
      "   ---------- ----------------------------- 3.1/11.5 MB 390.3 kB/s eta 0:00:22\n",
      "   ---------- ----------------------------- 3.1/11.5 MB 392.4 kB/s eta 0:00:22\n",
      "   ---------- ----------------------------- 3.1/11.5 MB 393.0 kB/s eta 0:00:22\n",
      "   ---------- ----------------------------- 3.2/11.5 MB 393.7 kB/s eta 0:00:22\n",
      "   ----------- ---------------------------- 3.2/11.5 MB 396.5 kB/s eta 0:00:21\n",
      "   ----------- ---------------------------- 3.2/11.5 MB 398.0 kB/s eta 0:00:21\n",
      "   ----------- ---------------------------- 3.2/11.5 MB 398.5 kB/s eta 0:00:21\n",
      "   ----------- ---------------------------- 3.3/11.5 MB 400.2 kB/s eta 0:00:21\n",
      "   ----------- ---------------------------- 3.3/11.5 MB 400.2 kB/s eta 0:00:21\n",
      "   ----------- ---------------------------- 3.3/11.5 MB 400.4 kB/s eta 0:00:21\n",
      "   ----------- ---------------------------- 3.3/11.5 MB 397.9 kB/s eta 0:00:21\n",
      "   ----------- ---------------------------- 3.3/11.5 MB 397.9 kB/s eta 0:00:21\n",
      "   ----------- ---------------------------- 3.3/11.5 MB 396.6 kB/s eta 0:00:21\n",
      "   ----------- ---------------------------- 3.4/11.5 MB 396.8 kB/s eta 0:00:21\n",
      "   ----------- ---------------------------- 3.4/11.5 MB 396.8 kB/s eta 0:00:21\n",
      "   ----------- ---------------------------- 3.4/11.5 MB 396.8 kB/s eta 0:00:21\n",
      "   ----------- ---------------------------- 3.4/11.5 MB 396.8 kB/s eta 0:00:21\n",
      "   ----------- ---------------------------- 3.4/11.5 MB 396.8 kB/s eta 0:00:21\n",
      "   ----------- ---------------------------- 3.4/11.5 MB 388.0 kB/s eta 0:00:21\n",
      "   ----------- ---------------------------- 3.4/11.5 MB 386.9 kB/s eta 0:00:21\n",
      "   ----------- ---------------------------- 3.4/11.5 MB 386.9 kB/s eta 0:00:21\n",
      "   ----------- ---------------------------- 3.4/11.5 MB 384.6 kB/s eta 0:00:22\n",
      "   ----------- ---------------------------- 3.4/11.5 MB 384.9 kB/s eta 0:00:21\n",
      "   ----------- ---------------------------- 3.4/11.5 MB 384.9 kB/s eta 0:00:21\n",
      "   ----------- ---------------------------- 3.4/11.5 MB 383.8 kB/s eta 0:00:21\n",
      "   ------------ --------------------------- 3.5/11.5 MB 382.9 kB/s eta 0:00:22\n",
      "   ------------ --------------------------- 3.5/11.5 MB 383.2 kB/s eta 0:00:21\n",
      "   ------------ --------------------------- 3.5/11.5 MB 382.4 kB/s eta 0:00:21\n",
      "   ------------ --------------------------- 3.5/11.5 MB 381.3 kB/s eta 0:00:21\n",
      "   ------------ --------------------------- 3.5/11.5 MB 382.3 kB/s eta 0:00:21\n",
      "   ------------ --------------------------- 3.5/11.5 MB 381.4 kB/s eta 0:00:21\n",
      "   ------------ --------------------------- 3.6/11.5 MB 381.1 kB/s eta 0:00:21\n",
      "   ------------ --------------------------- 3.6/11.5 MB 381.1 kB/s eta 0:00:21\n",
      "   ------------ --------------------------- 3.6/11.5 MB 381.1 kB/s eta 0:00:21\n",
      "   ------------ --------------------------- 3.6/11.5 MB 377.7 kB/s eta 0:00:22\n",
      "   ------------ --------------------------- 3.6/11.5 MB 377.7 kB/s eta 0:00:22\n",
      "   ------------ --------------------------- 3.6/11.5 MB 376.8 kB/s eta 0:00:22\n",
      "   ------------ --------------------------- 3.6/11.5 MB 375.3 kB/s eta 0:00:22\n",
      "   ------------ --------------------------- 3.6/11.5 MB 375.3 kB/s eta 0:00:22\n",
      "   ------------ --------------------------- 3.6/11.5 MB 374.5 kB/s eta 0:00:22\n",
      "   ------------ --------------------------- 3.6/11.5 MB 374.2 kB/s eta 0:00:22\n",
      "   ------------ --------------------------- 3.6/11.5 MB 373.4 kB/s eta 0:00:22\n",
      "   ------------ --------------------------- 3.7/11.5 MB 374.6 kB/s eta 0:00:21\n",
      "   ------------ --------------------------- 3.7/11.5 MB 374.5 kB/s eta 0:00:21\n",
      "   ------------ --------------------------- 3.7/11.5 MB 375.4 kB/s eta 0:00:21\n",
      "   ------------- -------------------------- 3.7/11.5 MB 376.1 kB/s eta 0:00:21\n",
      "   ------------- -------------------------- 3.7/11.5 MB 376.1 kB/s eta 0:00:21\n",
      "   ------------- -------------------------- 3.8/11.5 MB 376.2 kB/s eta 0:00:21\n",
      "   ------------- -------------------------- 3.8/11.5 MB 376.5 kB/s eta 0:00:21\n",
      "   ------------- -------------------------- 3.8/11.5 MB 377.2 kB/s eta 0:00:21\n",
      "   ------------- -------------------------- 3.8/11.5 MB 377.2 kB/s eta 0:00:21\n",
      "   ------------- -------------------------- 3.9/11.5 MB 377.4 kB/s eta 0:00:21\n",
      "   ------------- -------------------------- 3.9/11.5 MB 378.2 kB/s eta 0:00:21\n",
      "   ------------- -------------------------- 3.9/11.5 MB 376.3 kB/s eta 0:00:21\n",
      "   ------------- -------------------------- 3.9/11.5 MB 377.8 kB/s eta 0:00:21\n",
      "   ------------- -------------------------- 3.9/11.5 MB 377.4 kB/s eta 0:00:21\n",
      "   ------------- -------------------------- 3.9/11.5 MB 376.7 kB/s eta 0:00:21\n",
      "   ------------- -------------------------- 4.0/11.5 MB 376.4 kB/s eta 0:00:21\n",
      "   ------------- -------------------------- 4.0/11.5 MB 376.4 kB/s eta 0:00:21\n",
      "   ------------- -------------------------- 4.0/11.5 MB 376.4 kB/s eta 0:00:21\n",
      "   ------------- -------------------------- 4.0/11.5 MB 373.5 kB/s eta 0:00:21\n",
      "   ------------- -------------------------- 4.0/11.5 MB 373.5 kB/s eta 0:00:21\n",
      "   ------------- -------------------------- 4.0/11.5 MB 372.2 kB/s eta 0:00:21\n",
      "   ------------- -------------------------- 4.0/11.5 MB 372.2 kB/s eta 0:00:21\n",
      "   ------------- -------------------------- 4.0/11.5 MB 370.8 kB/s eta 0:00:21\n",
      "   ------------- -------------------------- 4.0/11.5 MB 369.6 kB/s eta 0:00:21\n",
      "   -------------- ------------------------- 4.0/11.5 MB 369.4 kB/s eta 0:00:21\n",
      "   -------------- ------------------------- 4.1/11.5 MB 368.7 kB/s eta 0:00:21\n",
      "   -------------- ------------------------- 4.1/11.5 MB 369.6 kB/s eta 0:00:21\n",
      "   -------------- ------------------------- 4.1/11.5 MB 369.9 kB/s eta 0:00:21\n",
      "   -------------- ------------------------- 4.1/11.5 MB 370.5 kB/s eta 0:00:20\n",
      "   -------------- ------------------------- 4.1/11.5 MB 370.4 kB/s eta 0:00:20\n",
      "   -------------- ------------------------- 4.2/11.5 MB 372.5 kB/s eta 0:00:20\n",
      "   -------------- ------------------------- 4.2/11.5 MB 373.2 kB/s eta 0:00:20\n",
      "   -------------- ------------------------- 4.2/11.5 MB 373.6 kB/s eta 0:00:20\n",
      "   -------------- ------------------------- 4.3/11.5 MB 374.6 kB/s eta 0:00:20\n",
      "   -------------- ------------------------- 4.3/11.5 MB 374.6 kB/s eta 0:00:20\n",
      "   -------------- ------------------------- 4.3/11.5 MB 375.2 kB/s eta 0:00:20\n",
      "   -------------- ------------------------- 4.3/11.5 MB 374.6 kB/s eta 0:00:20\n",
      "   --------------- ------------------------ 4.3/11.5 MB 374.9 kB/s eta 0:00:20\n",
      "   --------------- ------------------------ 4.4/11.5 MB 375.0 kB/s eta 0:00:20\n",
      "   --------------- ------------------------ 4.4/11.5 MB 375.7 kB/s eta 0:00:19\n",
      "   --------------- ------------------------ 4.4/11.5 MB 376.4 kB/s eta 0:00:19\n",
      "   --------------- ------------------------ 4.4/11.5 MB 377.1 kB/s eta 0:00:19\n",
      "   --------------- ------------------------ 4.4/11.5 MB 377.0 kB/s eta 0:00:19\n",
      "   --------------- ------------------------ 4.4/11.5 MB 377.0 kB/s eta 0:00:19\n",
      "   --------------- ------------------------ 4.5/11.5 MB 377.3 kB/s eta 0:00:19\n",
      "   --------------- ------------------------ 4.5/11.5 MB 377.3 kB/s eta 0:00:19\n",
      "   --------------- ------------------------ 4.5/11.5 MB 377.3 kB/s eta 0:00:19\n",
      "   --------------- ------------------------ 4.5/11.5 MB 374.6 kB/s eta 0:00:19\n",
      "   --------------- ------------------------ 4.5/11.5 MB 374.0 kB/s eta 0:00:19\n",
      "   --------------- ------------------------ 4.5/11.5 MB 374.0 kB/s eta 0:00:19\n",
      "   --------------- ------------------------ 4.5/11.5 MB 374.0 kB/s eta 0:00:19\n",
      "   --------------- ------------------------ 4.5/11.5 MB 371.4 kB/s eta 0:00:19\n",
      "   --------------- ------------------------ 4.5/11.5 MB 371.4 kB/s eta 0:00:19\n",
      "   --------------- ------------------------ 4.5/11.5 MB 371.4 kB/s eta 0:00:19\n",
      "   --------------- ------------------------ 4.5/11.5 MB 368.4 kB/s eta 0:00:19\n",
      "   --------------- ------------------------ 4.6/11.5 MB 367.8 kB/s eta 0:00:19\n",
      "   --------------- ------------------------ 4.6/11.5 MB 367.8 kB/s eta 0:00:19\n",
      "   --------------- ------------------------ 4.6/11.5 MB 367.1 kB/s eta 0:00:19\n",
      "   --------------- ------------------------ 4.6/11.5 MB 366.5 kB/s eta 0:00:19\n",
      "   ---------------- ----------------------- 4.6/11.5 MB 366.4 kB/s eta 0:00:19\n",
      "   ---------------- ----------------------- 4.6/11.5 MB 366.4 kB/s eta 0:00:19\n",
      "   ---------------- ----------------------- 4.6/11.5 MB 365.3 kB/s eta 0:00:19\n",
      "   ---------------- ----------------------- 4.6/11.5 MB 365.6 kB/s eta 0:00:19\n",
      "   ---------------- ----------------------- 4.7/11.5 MB 365.9 kB/s eta 0:00:19\n",
      "   ---------------- ----------------------- 4.7/11.5 MB 366.0 kB/s eta 0:00:19\n",
      "   ---------------- ----------------------- 4.7/11.5 MB 365.9 kB/s eta 0:00:19\n",
      "   ---------------- ----------------------- 4.8/11.5 MB 367.3 kB/s eta 0:00:19\n",
      "   ---------------- ----------------------- 4.8/11.5 MB 367.2 kB/s eta 0:00:19\n",
      "   ---------------- ----------------------- 4.8/11.5 MB 367.5 kB/s eta 0:00:19\n",
      "   ---------------- ----------------------- 4.8/11.5 MB 366.9 kB/s eta 0:00:19\n",
      "   ---------------- ----------------------- 4.8/11.5 MB 367.6 kB/s eta 0:00:19\n",
      "   ---------------- ----------------------- 4.8/11.5 MB 367.8 kB/s eta 0:00:19\n",
      "   ---------------- ----------------------- 4.8/11.5 MB 367.8 kB/s eta 0:00:19\n",
      "   ---------------- ----------------------- 4.9/11.5 MB 367.2 kB/s eta 0:00:19\n",
      "   ---------------- ----------------------- 4.9/11.5 MB 366.7 kB/s eta 0:00:19\n",
      "   ----------------- ---------------------- 4.9/11.5 MB 366.9 kB/s eta 0:00:18\n",
      "   ----------------- ---------------------- 4.9/11.5 MB 367.1 kB/s eta 0:00:18\n",
      "   ----------------- ---------------------- 4.9/11.5 MB 366.6 kB/s eta 0:00:18\n",
      "   ----------------- ---------------------- 4.9/11.5 MB 366.9 kB/s eta 0:00:18\n",
      "   ----------------- ---------------------- 5.0/11.5 MB 367.4 kB/s eta 0:00:18\n",
      "   ----------------- ---------------------- 5.0/11.5 MB 368.1 kB/s eta 0:00:18\n",
      "   ----------------- ---------------------- 5.0/11.5 MB 368.7 kB/s eta 0:00:18\n",
      "   ----------------- ---------------------- 5.1/11.5 MB 369.6 kB/s eta 0:00:18\n",
      "   ----------------- ---------------------- 5.1/11.5 MB 370.7 kB/s eta 0:00:18\n",
      "   ----------------- ---------------------- 5.1/11.5 MB 371.6 kB/s eta 0:00:18\n",
      "   ----------------- ---------------------- 5.2/11.5 MB 373.7 kB/s eta 0:00:17\n",
      "   ------------------ --------------------- 5.2/11.5 MB 374.7 kB/s eta 0:00:17\n",
      "   ------------------ --------------------- 5.2/11.5 MB 377.1 kB/s eta 0:00:17\n",
      "   ------------------ --------------------- 5.3/11.5 MB 378.1 kB/s eta 0:00:17\n",
      "   ------------------ --------------------- 5.3/11.5 MB 379.0 kB/s eta 0:00:17\n",
      "   ------------------ --------------------- 5.3/11.5 MB 380.3 kB/s eta 0:00:17\n",
      "   ------------------ --------------------- 5.4/11.5 MB 381.3 kB/s eta 0:00:17\n",
      "   ------------------ --------------------- 5.4/11.5 MB 381.4 kB/s eta 0:00:17\n",
      "   ------------------ --------------------- 5.4/11.5 MB 382.1 kB/s eta 0:00:16\n",
      "   ------------------ --------------------- 5.4/11.5 MB 381.1 kB/s eta 0:00:16\n",
      "   ------------------ --------------------- 5.4/11.5 MB 381.6 kB/s eta 0:00:16\n",
      "   ------------------- -------------------- 5.5/11.5 MB 382.2 kB/s eta 0:00:16\n",
      "   ------------------- -------------------- 5.5/11.5 MB 382.4 kB/s eta 0:00:16\n",
      "   ------------------- -------------------- 5.5/11.5 MB 382.2 kB/s eta 0:00:16\n",
      "   ------------------- -------------------- 5.5/11.5 MB 382.3 kB/s eta 0:00:16\n",
      "   ------------------- -------------------- 5.6/11.5 MB 382.9 kB/s eta 0:00:16\n",
      "   ------------------- -------------------- 5.6/11.5 MB 383.5 kB/s eta 0:00:16\n",
      "   ------------------- -------------------- 5.6/11.5 MB 382.9 kB/s eta 0:00:16\n",
      "   ------------------- -------------------- 5.6/11.5 MB 383.4 kB/s eta 0:00:16\n",
      "   ------------------- -------------------- 5.6/11.5 MB 383.6 kB/s eta 0:00:16\n",
      "   ------------------- -------------------- 5.7/11.5 MB 384.6 kB/s eta 0:00:16\n",
      "   ------------------- -------------------- 5.7/11.5 MB 384.6 kB/s eta 0:00:16\n",
      "   ------------------- -------------------- 5.7/11.5 MB 384.6 kB/s eta 0:00:16\n",
      "   ------------------- -------------------- 5.7/11.5 MB 383.7 kB/s eta 0:00:16\n",
      "   ------------------- -------------------- 5.7/11.5 MB 383.0 kB/s eta 0:00:16\n",
      "   ------------------- -------------------- 5.7/11.5 MB 383.0 kB/s eta 0:00:16\n",
      "   ------------------- -------------------- 5.7/11.5 MB 382.4 kB/s eta 0:00:16\n",
      "   ------------------- -------------------- 5.7/11.5 MB 382.4 kB/s eta 0:00:16\n",
      "   ------------------- -------------------- 5.7/11.5 MB 382.4 kB/s eta 0:00:16\n",
      "   ------------------- -------------------- 5.7/11.5 MB 379.1 kB/s eta 0:00:16\n",
      "   ------------------- -------------------- 5.7/11.5 MB 379.1 kB/s eta 0:00:16\n",
      "   ------------------- -------------------- 5.7/11.5 MB 379.1 kB/s eta 0:00:16\n",
      "   -------------------- ------------------- 5.8/11.5 MB 377.7 kB/s eta 0:00:16\n",
      "   -------------------- ------------------- 5.8/11.5 MB 376.1 kB/s eta 0:00:16\n",
      "   -------------------- ------------------- 5.8/11.5 MB 376.1 kB/s eta 0:00:16\n",
      "   -------------------- ------------------- 5.8/11.5 MB 375.5 kB/s eta 0:00:16\n",
      "   -------------------- ------------------- 5.8/11.5 MB 375.5 kB/s eta 0:00:16\n",
      "   -------------------- ------------------- 5.8/11.5 MB 374.6 kB/s eta 0:00:16\n",
      "   -------------------- ------------------- 5.8/11.5 MB 374.6 kB/s eta 0:00:16\n",
      "   -------------------- ------------------- 5.8/11.5 MB 373.4 kB/s eta 0:00:16\n",
      "   -------------------- ------------------- 5.8/11.5 MB 373.2 kB/s eta 0:00:16\n",
      "   -------------------- ------------------- 5.9/11.5 MB 372.4 kB/s eta 0:00:16\n",
      "   -------------------- ------------------- 5.9/11.5 MB 372.4 kB/s eta 0:00:16\n",
      "   -------------------- ------------------- 5.9/11.5 MB 372.5 kB/s eta 0:00:16\n",
      "   -------------------- ------------------- 5.9/11.5 MB 372.0 kB/s eta 0:00:16\n",
      "   -------------------- ------------------- 5.9/11.5 MB 372.0 kB/s eta 0:00:16\n",
      "   -------------------- ------------------- 5.9/11.5 MB 370.8 kB/s eta 0:00:16\n",
      "   -------------------- ------------------- 5.9/11.5 MB 370.6 kB/s eta 0:00:16\n",
      "   -------------------- ------------------- 5.9/11.5 MB 370.2 kB/s eta 0:00:16\n",
      "   -------------------- ------------------- 6.0/11.5 MB 370.8 kB/s eta 0:00:15\n",
      "   -------------------- ------------------- 6.0/11.5 MB 371.3 kB/s eta 0:00:15\n",
      "   -------------------- ------------------- 6.0/11.5 MB 371.4 kB/s eta 0:00:15\n",
      "   --------------------- ------------------ 6.0/11.5 MB 372.2 kB/s eta 0:00:15\n",
      "   --------------------- ------------------ 6.1/11.5 MB 372.8 kB/s eta 0:00:15\n",
      "   --------------------- ------------------ 6.1/11.5 MB 373.6 kB/s eta 0:00:15\n",
      "   --------------------- ------------------ 6.1/11.5 MB 374.4 kB/s eta 0:00:15\n",
      "   --------------------- ------------------ 6.2/11.5 MB 375.2 kB/s eta 0:00:15\n",
      "   --------------------- ------------------ 6.2/11.5 MB 376.0 kB/s eta 0:00:15\n",
      "   --------------------- ------------------ 6.2/11.5 MB 377.1 kB/s eta 0:00:14\n",
      "   --------------------- ------------------ 6.2/11.5 MB 377.0 kB/s eta 0:00:14\n",
      "   --------------------- ------------------ 6.3/11.5 MB 377.5 kB/s eta 0:00:14\n",
      "   --------------------- ------------------ 6.3/11.5 MB 377.0 kB/s eta 0:00:14\n",
      "   --------------------- ------------------ 6.3/11.5 MB 377.2 kB/s eta 0:00:14\n",
      "   --------------------- ------------------ 6.3/11.5 MB 377.3 kB/s eta 0:00:14\n",
      "   ---------------------- ----------------- 6.3/11.5 MB 377.4 kB/s eta 0:00:14\n",
      "   ---------------------- ----------------- 6.3/11.5 MB 377.0 kB/s eta 0:00:14\n",
      "   ---------------------- ----------------- 6.4/11.5 MB 377.2 kB/s eta 0:00:14\n",
      "   ---------------------- ----------------- 6.4/11.5 MB 377.3 kB/s eta 0:00:14\n",
      "   ---------------------- ----------------- 6.4/11.5 MB 377.5 kB/s eta 0:00:14\n",
      "   ---------------------- ----------------- 6.4/11.5 MB 377.4 kB/s eta 0:00:14\n",
      "   ---------------------- ----------------- 6.4/11.5 MB 378.3 kB/s eta 0:00:14\n",
      "   ---------------------- ----------------- 6.5/11.5 MB 378.3 kB/s eta 0:00:14\n",
      "   ---------------------- ----------------- 6.5/11.5 MB 378.2 kB/s eta 0:00:14\n",
      "   ---------------------- ----------------- 6.5/11.5 MB 378.4 kB/s eta 0:00:14\n",
      "   ---------------------- ----------------- 6.5/11.5 MB 378.6 kB/s eta 0:00:14\n",
      "   ---------------------- ----------------- 6.6/11.5 MB 379.0 kB/s eta 0:00:14\n",
      "   ---------------------- ----------------- 6.6/11.5 MB 379.7 kB/s eta 0:00:13\n",
      "   ----------------------- ---------------- 6.6/11.5 MB 381.1 kB/s eta 0:00:13\n",
      "   ----------------------- ---------------- 6.7/11.5 MB 381.8 kB/s eta 0:00:13\n",
      "   ----------------------- ---------------- 6.7/11.5 MB 381.4 kB/s eta 0:00:13\n",
      "   ----------------------- ---------------- 6.7/11.5 MB 381.5 kB/s eta 0:00:13\n",
      "   ----------------------- ---------------- 6.7/11.5 MB 381.5 kB/s eta 0:00:13\n",
      "   ----------------------- ---------------- 6.7/11.5 MB 381.3 kB/s eta 0:00:13\n",
      "   ----------------------- ---------------- 6.7/11.5 MB 381.3 kB/s eta 0:00:13\n",
      "   ----------------------- ---------------- 6.7/11.5 MB 379.9 kB/s eta 0:00:13\n",
      "   ----------------------- ---------------- 6.7/11.5 MB 379.7 kB/s eta 0:00:13\n",
      "   ----------------------- ---------------- 6.7/11.5 MB 379.3 kB/s eta 0:00:13\n",
      "   ----------------------- ---------------- 6.7/11.5 MB 379.3 kB/s eta 0:00:13\n",
      "   ----------------------- ---------------- 6.8/11.5 MB 378.4 kB/s eta 0:00:13\n",
      "   ----------------------- ---------------- 6.8/11.5 MB 378.4 kB/s eta 0:00:13\n",
      "   ----------------------- ---------------- 6.8/11.5 MB 377.9 kB/s eta 0:00:13\n",
      "   ----------------------- ---------------- 6.8/11.5 MB 376.8 kB/s eta 0:00:13\n",
      "   ----------------------- ---------------- 6.8/11.5 MB 377.0 kB/s eta 0:00:13\n",
      "   ----------------------- ---------------- 6.8/11.5 MB 376.6 kB/s eta 0:00:13\n",
      "   ----------------------- ---------------- 6.9/11.5 MB 376.7 kB/s eta 0:00:13\n",
      "   ----------------------- ---------------- 6.9/11.5 MB 376.9 kB/s eta 0:00:13\n",
      "   ----------------------- ---------------- 6.9/11.5 MB 376.9 kB/s eta 0:00:13\n",
      "   ----------------------- ---------------- 6.9/11.5 MB 376.9 kB/s eta 0:00:13\n",
      "   ----------------------- ---------------- 6.9/11.5 MB 375.2 kB/s eta 0:00:13\n",
      "   ------------------------ --------------- 6.9/11.5 MB 374.7 kB/s eta 0:00:13\n",
      "   ------------------------ --------------- 6.9/11.5 MB 374.7 kB/s eta 0:00:13\n",
      "   ------------------------ --------------- 6.9/11.5 MB 373.7 kB/s eta 0:00:13\n",
      "   ------------------------ --------------- 6.9/11.5 MB 373.7 kB/s eta 0:00:13\n",
      "   ------------------------ --------------- 6.9/11.5 MB 372.6 kB/s eta 0:00:13\n",
      "   ------------------------ --------------- 6.9/11.5 MB 372.6 kB/s eta 0:00:13\n",
      "   ------------------------ --------------- 7.0/11.5 MB 371.5 kB/s eta 0:00:13\n",
      "   ------------------------ --------------- 7.0/11.5 MB 371.5 kB/s eta 0:00:13\n",
      "   ------------------------ --------------- 7.0/11.5 MB 370.5 kB/s eta 0:00:13\n",
      "   ------------------------ --------------- 7.0/11.5 MB 370.5 kB/s eta 0:00:13\n",
      "   ------------------------ --------------- 7.0/11.5 MB 370.1 kB/s eta 0:00:13\n",
      "   ------------------------ --------------- 7.0/11.5 MB 369.7 kB/s eta 0:00:13\n",
      "   ------------------------ --------------- 7.0/11.5 MB 369.8 kB/s eta 0:00:13\n",
      "   ------------------------ --------------- 7.0/11.5 MB 369.9 kB/s eta 0:00:13\n",
      "   ------------------------ --------------- 7.1/11.5 MB 370.1 kB/s eta 0:00:12\n",
      "   ------------------------ --------------- 7.1/11.5 MB 369.7 kB/s eta 0:00:12\n",
      "   ------------------------ --------------- 7.1/11.5 MB 369.6 kB/s eta 0:00:12\n",
      "   ------------------------ --------------- 7.1/11.5 MB 369.8 kB/s eta 0:00:12\n",
      "   ------------------------ --------------- 7.1/11.5 MB 369.7 kB/s eta 0:00:12\n",
      "   ------------------------ --------------- 7.1/11.5 MB 370.2 kB/s eta 0:00:12\n",
      "   ------------------------ --------------- 7.2/11.5 MB 370.2 kB/s eta 0:00:12\n",
      "   ------------------------- -------------- 7.2/11.5 MB 370.7 kB/s eta 0:00:12\n",
      "   ------------------------- -------------- 7.2/11.5 MB 371.4 kB/s eta 0:00:12\n",
      "   ------------------------- -------------- 7.3/11.5 MB 372.1 kB/s eta 0:00:12\n",
      "   ------------------------- -------------- 7.3/11.5 MB 372.5 kB/s eta 0:00:12\n",
      "   ------------------------- -------------- 7.3/11.5 MB 372.6 kB/s eta 0:00:12\n",
      "   ------------------------- -------------- 7.3/11.5 MB 372.6 kB/s eta 0:00:12\n",
      "   ------------------------- -------------- 7.3/11.5 MB 373.0 kB/s eta 0:00:12\n",
      "   ------------------------- -------------- 7.4/11.5 MB 373.2 kB/s eta 0:00:12\n",
      "   ------------------------- -------------- 7.4/11.5 MB 373.1 kB/s eta 0:00:12\n",
      "   ------------------------- -------------- 7.4/11.5 MB 373.2 kB/s eta 0:00:11\n",
      "   ------------------------- -------------- 7.4/11.5 MB 374.3 kB/s eta 0:00:11\n",
      "   -------------------------- ------------- 7.5/11.5 MB 375.0 kB/s eta 0:00:11\n",
      "   -------------------------- ------------- 7.5/11.5 MB 374.9 kB/s eta 0:00:11\n",
      "   -------------------------- ------------- 7.5/11.5 MB 375.8 kB/s eta 0:00:11\n",
      "   -------------------------- ------------- 7.6/11.5 MB 376.2 kB/s eta 0:00:11\n",
      "   -------------------------- ------------- 7.6/11.5 MB 376.1 kB/s eta 0:00:11\n",
      "   -------------------------- ------------- 7.6/11.5 MB 377.2 kB/s eta 0:00:11\n",
      "   -------------------------- ------------- 7.6/11.5 MB 377.2 kB/s eta 0:00:11\n",
      "   -------------------------- ------------- 7.6/11.5 MB 377.8 kB/s eta 0:00:11\n",
      "   -------------------------- ------------- 7.7/11.5 MB 378.7 kB/s eta 0:00:11\n",
      "   -------------------------- ------------- 7.7/11.5 MB 378.6 kB/s eta 0:00:11\n",
      "   -------------------------- ------------- 7.7/11.5 MB 378.9 kB/s eta 0:00:10\n",
      "   --------------------------- ------------ 7.8/11.5 MB 380.1 kB/s eta 0:00:10\n",
      "   --------------------------- ------------ 7.8/11.5 MB 380.7 kB/s eta 0:00:10\n",
      "   --------------------------- ------------ 7.8/11.5 MB 381.3 kB/s eta 0:00:10\n",
      "   --------------------------- ------------ 7.9/11.5 MB 381.8 kB/s eta 0:00:10\n",
      "   --------------------------- ------------ 7.9/11.5 MB 382.6 kB/s eta 0:00:10\n",
      "   --------------------------- ------------ 7.9/11.5 MB 382.7 kB/s eta 0:00:10\n",
      "   --------------------------- ------------ 7.9/11.5 MB 383.3 kB/s eta 0:00:10\n",
      "   --------------------------- ------------ 8.0/11.5 MB 383.7 kB/s eta 0:00:10\n",
      "   --------------------------- ------------ 8.0/11.5 MB 383.6 kB/s eta 0:00:10\n",
      "   --------------------------- ------------ 8.0/11.5 MB 384.7 kB/s eta 0:00:10\n",
      "   --------------------------- ------------ 8.0/11.5 MB 384.5 kB/s eta 0:00:09\n",
      "   ---------------------------- ----------- 8.1/11.5 MB 384.7 kB/s eta 0:00:09\n",
      "   ---------------------------- ----------- 8.1/11.5 MB 384.8 kB/s eta 0:00:09\n",
      "   ---------------------------- ----------- 8.1/11.5 MB 384.6 kB/s eta 0:00:09\n",
      "   ---------------------------- ----------- 8.1/11.5 MB 384.6 kB/s eta 0:00:09\n",
      "   ---------------------------- ----------- 8.1/11.5 MB 383.7 kB/s eta 0:00:09\n",
      "   ---------------------------- ----------- 8.1/11.5 MB 383.0 kB/s eta 0:00:09\n",
      "   ---------------------------- ----------- 8.1/11.5 MB 383.0 kB/s eta 0:00:09\n",
      "   ---------------------------- ----------- 8.1/11.5 MB 383.0 kB/s eta 0:00:09\n",
      "   ---------------------------- ----------- 8.1/11.5 MB 381.5 kB/s eta 0:00:09\n",
      "   ---------------------------- ----------- 8.1/11.5 MB 381.5 kB/s eta 0:00:09\n",
      "   ---------------------------- ----------- 8.1/11.5 MB 381.5 kB/s eta 0:00:09\n",
      "   ---------------------------- ----------- 8.2/11.5 MB 379.9 kB/s eta 0:00:09\n",
      "   ---------------------------- ----------- 8.2/11.5 MB 379.9 kB/s eta 0:00:09\n",
      "   ---------------------------- ----------- 8.2/11.5 MB 378.7 kB/s eta 0:00:09\n",
      "   ---------------------------- ----------- 8.2/11.5 MB 378.7 kB/s eta 0:00:09\n",
      "   ---------------------------- ----------- 8.2/11.5 MB 377.5 kB/s eta 0:00:09\n",
      "   ---------------------------- ----------- 8.2/11.5 MB 377.5 kB/s eta 0:00:09\n",
      "   ---------------------------- ----------- 8.2/11.5 MB 376.8 kB/s eta 0:00:09\n",
      "   ---------------------------- ----------- 8.2/11.5 MB 376.8 kB/s eta 0:00:09\n",
      "   ---------------------------- ----------- 8.2/11.5 MB 376.8 kB/s eta 0:00:09\n",
      "   ---------------------------- ----------- 8.2/11.5 MB 376.8 kB/s eta 0:00:09\n",
      "   ---------------------------- ----------- 8.2/11.5 MB 373.8 kB/s eta 0:00:09\n",
      "   ---------------------------- ----------- 8.2/11.5 MB 373.8 kB/s eta 0:00:09\n",
      "   ---------------------------- ----------- 8.2/11.5 MB 373.8 kB/s eta 0:00:09\n",
      "   ---------------------------- ----------- 8.2/11.5 MB 372.9 kB/s eta 0:00:09\n",
      "   ---------------------------- ----------- 8.2/11.5 MB 372.9 kB/s eta 0:00:09\n",
      "   ---------------------------- ----------- 8.3/11.5 MB 372.0 kB/s eta 0:00:09\n",
      "   ---------------------------- ----------- 8.3/11.5 MB 371.7 kB/s eta 0:00:09\n",
      "   ---------------------------- ----------- 8.3/11.5 MB 371.7 kB/s eta 0:00:09\n",
      "   ---------------------------- ----------- 8.3/11.5 MB 371.5 kB/s eta 0:00:09\n",
      "   ---------------------------- ----------- 8.3/11.5 MB 371.6 kB/s eta 0:00:09\n",
      "   ----------------------------- ---------- 8.3/11.5 MB 371.7 kB/s eta 0:00:09\n",
      "   ----------------------------- ---------- 8.4/11.5 MB 371.4 kB/s eta 0:00:09\n",
      "   ----------------------------- ---------- 8.4/11.5 MB 371.6 kB/s eta 0:00:09\n",
      "   ----------------------------- ---------- 8.4/11.5 MB 371.2 kB/s eta 0:00:09\n",
      "   ----------------------------- ---------- 8.4/11.5 MB 371.4 kB/s eta 0:00:09\n",
      "   ----------------------------- ---------- 8.4/11.5 MB 371.8 kB/s eta 0:00:09\n",
      "   ----------------------------- ---------- 8.5/11.5 MB 372.1 kB/s eta 0:00:09\n",
      "   ----------------------------- ---------- 8.5/11.5 MB 372.1 kB/s eta 0:00:09\n",
      "   ----------------------------- ---------- 8.5/11.5 MB 372.4 kB/s eta 0:00:09\n",
      "   ----------------------------- ---------- 8.5/11.5 MB 372.5 kB/s eta 0:00:08\n",
      "   ----------------------------- ---------- 8.5/11.5 MB 372.6 kB/s eta 0:00:08\n",
      "   ----------------------------- ---------- 8.6/11.5 MB 372.6 kB/s eta 0:00:08\n",
      "   ----------------------------- ---------- 8.6/11.5 MB 372.7 kB/s eta 0:00:08\n",
      "   ----------------------------- ---------- 8.6/11.5 MB 373.1 kB/s eta 0:00:08\n",
      "   ----------------------------- ---------- 8.6/11.5 MB 372.5 kB/s eta 0:00:08\n",
      "   ----------------------------- ---------- 8.6/11.5 MB 372.4 kB/s eta 0:00:08\n",
      "   ----------------------------- ---------- 8.6/11.5 MB 372.4 kB/s eta 0:00:08\n",
      "   ------------------------------ --------- 8.6/11.5 MB 372.1 kB/s eta 0:00:08\n",
      "   ------------------------------ --------- 8.7/11.5 MB 372.0 kB/s eta 0:00:08\n",
      "   ------------------------------ --------- 8.7/11.5 MB 372.1 kB/s eta 0:00:08\n",
      "   ------------------------------ --------- 8.7/11.5 MB 372.4 kB/s eta 0:00:08\n",
      "   ------------------------------ --------- 8.7/11.5 MB 372.7 kB/s eta 0:00:08\n",
      "   ------------------------------ --------- 8.8/11.5 MB 372.9 kB/s eta 0:00:08\n",
      "   ------------------------------ --------- 8.8/11.5 MB 373.4 kB/s eta 0:00:08\n",
      "   ------------------------------ --------- 8.8/11.5 MB 374.0 kB/s eta 0:00:08\n",
      "   ------------------------------ --------- 8.8/11.5 MB 374.5 kB/s eta 0:00:08\n",
      "   ------------------------------ --------- 8.9/11.5 MB 375.4 kB/s eta 0:00:07\n",
      "   ------------------------------- -------- 8.9/11.5 MB 376.6 kB/s eta 0:00:07\n",
      "   ------------------------------- -------- 9.0/11.5 MB 377.3 kB/s eta 0:00:07\n",
      "   ------------------------------- -------- 9.0/11.5 MB 377.4 kB/s eta 0:00:07\n",
      "   ------------------------------- -------- 9.0/11.5 MB 378.8 kB/s eta 0:00:07\n",
      "   ------------------------------- -------- 9.1/11.5 MB 379.4 kB/s eta 0:00:07\n",
      "   ------------------------------- -------- 9.1/11.5 MB 379.8 kB/s eta 0:00:07\n",
      "   ------------------------------- -------- 9.1/11.5 MB 379.4 kB/s eta 0:00:07\n",
      "   ------------------------------- -------- 9.1/11.5 MB 380.0 kB/s eta 0:00:07\n",
      "   ------------------------------- -------- 9.2/11.5 MB 380.7 kB/s eta 0:00:07\n",
      "   ------------------------------- -------- 9.2/11.5 MB 380.6 kB/s eta 0:00:07\n",
      "   -------------------------------- ------- 9.2/11.5 MB 381.2 kB/s eta 0:00:07\n",
      "   -------------------------------- ------- 9.2/11.5 MB 381.3 kB/s eta 0:00:06\n",
      "   -------------------------------- ------- 9.2/11.5 MB 381.6 kB/s eta 0:00:06\n",
      "   -------------------------------- ------- 9.3/11.5 MB 381.9 kB/s eta 0:00:06\n",
      "   -------------------------------- ------- 9.3/11.5 MB 381.6 kB/s eta 0:00:06\n",
      "   -------------------------------- ------- 9.3/11.5 MB 381.7 kB/s eta 0:00:06\n",
      "   -------------------------------- ------- 9.3/11.5 MB 382.0 kB/s eta 0:00:06\n",
      "   -------------------------------- ------- 9.3/11.5 MB 381.7 kB/s eta 0:00:06\n",
      "   -------------------------------- ------- 9.4/11.5 MB 381.8 kB/s eta 0:00:06\n",
      "   -------------------------------- ------- 9.4/11.5 MB 382.1 kB/s eta 0:00:06\n",
      "   -------------------------------- ------- 9.4/11.5 MB 382.0 kB/s eta 0:00:06\n",
      "   -------------------------------- ------- 9.4/11.5 MB 382.0 kB/s eta 0:00:06\n",
      "   -------------------------------- ------- 9.4/11.5 MB 381.4 kB/s eta 0:00:06\n",
      "   -------------------------------- ------- 9.4/11.5 MB 381.4 kB/s eta 0:00:06\n",
      "   -------------------------------- ------- 9.5/11.5 MB 381.5 kB/s eta 0:00:06\n",
      "   -------------------------------- ------- 9.5/11.5 MB 381.5 kB/s eta 0:00:06\n",
      "   --------------------------------- ------ 9.5/11.5 MB 381.6 kB/s eta 0:00:06\n",
      "   --------------------------------- ------ 9.5/11.5 MB 381.8 kB/s eta 0:00:06\n",
      "   --------------------------------- ------ 9.5/11.5 MB 381.9 kB/s eta 0:00:06\n",
      "   --------------------------------- ------ 9.5/11.5 MB 381.6 kB/s eta 0:00:06\n",
      "   --------------------------------- ------ 9.6/11.5 MB 381.7 kB/s eta 0:00:06\n",
      "   --------------------------------- ------ 9.6/11.5 MB 381.8 kB/s eta 0:00:06\n",
      "   --------------------------------- ------ 9.6/11.5 MB 381.2 kB/s eta 0:00:05\n",
      "   --------------------------------- ------ 9.6/11.5 MB 381.1 kB/s eta 0:00:05\n",
      "   --------------------------------- ------ 9.6/11.5 MB 381.1 kB/s eta 0:00:05\n",
      "   --------------------------------- ------ 9.6/11.5 MB 380.6 kB/s eta 0:00:05\n",
      "   --------------------------------- ------ 9.6/11.5 MB 380.4 kB/s eta 0:00:05\n",
      "   --------------------------------- ------ 9.6/11.5 MB 380.4 kB/s eta 0:00:05\n",
      "   --------------------------------- ------ 9.6/11.5 MB 380.4 kB/s eta 0:00:05\n",
      "   --------------------------------- ------ 9.7/11.5 MB 378.9 kB/s eta 0:00:05\n",
      "   --------------------------------- ------ 9.7/11.5 MB 378.9 kB/s eta 0:00:05\n",
      "   --------------------------------- ------ 9.7/11.5 MB 377.7 kB/s eta 0:00:05\n",
      "   --------------------------------- ------ 9.7/11.5 MB 377.7 kB/s eta 0:00:05\n",
      "   --------------------------------- ------ 9.7/11.5 MB 377.1 kB/s eta 0:00:05\n",
      "   --------------------------------- ------ 9.7/11.5 MB 376.8 kB/s eta 0:00:05\n",
      "   --------------------------------- ------ 9.7/11.5 MB 376.8 kB/s eta 0:00:05\n",
      "   --------------------------------- ------ 9.7/11.5 MB 376.7 kB/s eta 0:00:05\n",
      "   --------------------------------- ------ 9.7/11.5 MB 376.8 kB/s eta 0:00:05\n",
      "   --------------------------------- ------ 9.8/11.5 MB 376.3 kB/s eta 0:00:05\n",
      "   --------------------------------- ------ 9.8/11.5 MB 376.3 kB/s eta 0:00:05\n",
      "   ---------------------------------- ----- 9.8/11.5 MB 376.2 kB/s eta 0:00:05\n",
      "   ---------------------------------- ----- 9.8/11.5 MB 375.7 kB/s eta 0:00:05\n",
      "   ---------------------------------- ----- 9.8/11.5 MB 375.6 kB/s eta 0:00:05\n",
      "   ---------------------------------- ----- 9.8/11.5 MB 375.6 kB/s eta 0:00:05\n",
      "   ---------------------------------- ----- 9.8/11.5 MB 375.2 kB/s eta 0:00:05\n",
      "   ---------------------------------- ----- 9.8/11.5 MB 374.7 kB/s eta 0:00:05\n",
      "   ---------------------------------- ----- 9.8/11.5 MB 374.7 kB/s eta 0:00:05\n",
      "   ---------------------------------- ----- 9.9/11.5 MB 374.4 kB/s eta 0:00:05\n",
      "   ---------------------------------- ----- 9.9/11.5 MB 374.4 kB/s eta 0:00:05\n",
      "   ---------------------------------- ----- 9.9/11.5 MB 373.7 kB/s eta 0:00:05\n",
      "   ---------------------------------- ----- 9.9/11.5 MB 373.3 kB/s eta 0:00:05\n",
      "   ---------------------------------- ----- 9.9/11.5 MB 372.8 kB/s eta 0:00:05\n",
      "   ---------------------------------- ----- 9.9/11.5 MB 372.8 kB/s eta 0:00:05\n",
      "   ---------------------------------- ----- 9.9/11.5 MB 372.1 kB/s eta 0:00:05\n",
      "   ---------------------------------- ----- 9.9/11.5 MB 372.2 kB/s eta 0:00:05\n",
      "   ---------------------------------- ----- 9.9/11.5 MB 372.2 kB/s eta 0:00:05\n",
      "   ---------------------------------- ----- 10.0/11.5 MB 371.5 kB/s eta 0:00:05\n",
      "   ---------------------------------- ----- 10.0/11.5 MB 371.6 kB/s eta 0:00:05\n",
      "   ---------------------------------- ----- 10.0/11.5 MB 371.6 kB/s eta 0:00:05\n",
      "   ---------------------------------- ----- 10.0/11.5 MB 371.1 kB/s eta 0:00:05\n",
      "   ---------------------------------- ----- 10.0/11.5 MB 370.4 kB/s eta 0:00:05\n",
      "   ---------------------------------- ----- 10.0/11.5 MB 370.4 kB/s eta 0:00:05\n",
      "   ---------------------------------- ----- 10.0/11.5 MB 370.1 kB/s eta 0:00:04\n",
      "   ---------------------------------- ----- 10.0/11.5 MB 370.1 kB/s eta 0:00:04\n",
      "   ---------------------------------- ----- 10.0/11.5 MB 370.1 kB/s eta 0:00:04\n",
      "   ---------------------------------- ----- 10.0/11.5 MB 368.5 kB/s eta 0:00:04\n",
      "   ---------------------------------- ----- 10.0/11.5 MB 368.5 kB/s eta 0:00:04\n",
      "   ---------------------------------- ----- 10.0/11.5 MB 368.5 kB/s eta 0:00:04\n",
      "   ---------------------------------- ----- 10.1/11.5 MB 367.6 kB/s eta 0:00:04\n",
      "   ----------------------------------- ---- 10.1/11.5 MB 367.7 kB/s eta 0:00:04\n",
      "   ----------------------------------- ---- 10.1/11.5 MB 367.4 kB/s eta 0:00:04\n",
      "   ----------------------------------- ---- 10.1/11.5 MB 367.1 kB/s eta 0:00:04\n",
      "   ----------------------------------- ---- 10.1/11.5 MB 367.1 kB/s eta 0:00:04\n",
      "   ----------------------------------- ---- 10.1/11.5 MB 366.9 kB/s eta 0:00:04\n",
      "   ----------------------------------- ---- 10.2/11.5 MB 367.1 kB/s eta 0:00:04\n",
      "   ----------------------------------- ---- 10.2/11.5 MB 367.1 kB/s eta 0:00:04\n",
      "   ----------------------------------- ---- 10.2/11.5 MB 367.4 kB/s eta 0:00:04\n",
      "   ----------------------------------- ---- 10.2/11.5 MB 367.9 kB/s eta 0:00:04\n",
      "   ----------------------------------- ---- 10.3/11.5 MB 367.8 kB/s eta 0:00:04\n",
      "   ----------------------------------- ---- 10.3/11.5 MB 367.6 kB/s eta 0:00:04\n",
      "   ----------------------------------- ---- 10.3/11.5 MB 367.6 kB/s eta 0:00:04\n",
      "   ----------------------------------- ---- 10.3/11.5 MB 366.8 kB/s eta 0:00:04\n",
      "   ------------------------------------ --- 10.4/11.5 MB 366.4 kB/s eta 0:00:04\n",
      "   ------------------------------------ --- 10.4/11.5 MB 365.8 kB/s eta 0:00:04\n",
      "   ------------------------------------ --- 10.4/11.5 MB 365.2 kB/s eta 0:00:04\n",
      "   ------------------------------------ --- 10.4/11.5 MB 364.7 kB/s eta 0:00:04\n",
      "   ------------------------------------ --- 10.4/11.5 MB 364.1 kB/s eta 0:00:03\n",
      "   ------------------------------------ --- 10.4/11.5 MB 363.7 kB/s eta 0:00:03\n",
      "   ------------------------------------ --- 10.5/11.5 MB 362.7 kB/s eta 0:00:03\n",
      "   ------------------------------------ --- 10.5/11.5 MB 362.3 kB/s eta 0:00:03\n",
      "   ------------------------------------ --- 10.5/11.5 MB 361.7 kB/s eta 0:00:03\n",
      "   ------------------------------------ --- 10.5/11.5 MB 361.7 kB/s eta 0:00:03\n",
      "   ------------------------------------ --- 10.5/11.5 MB 361.3 kB/s eta 0:00:03\n",
      "   ------------------------------------ --- 10.5/11.5 MB 360.9 kB/s eta 0:00:03\n",
      "   ------------------------------------ --- 10.6/11.5 MB 360.1 kB/s eta 0:00:03\n",
      "   ------------------------------------ --- 10.6/11.5 MB 359.7 kB/s eta 0:00:03\n",
      "   ------------------------------------ --- 10.6/11.5 MB 359.1 kB/s eta 0:00:03\n",
      "   ------------------------------------ --- 10.6/11.5 MB 358.9 kB/s eta 0:00:03\n",
      "   ------------------------------------- -- 10.6/11.5 MB 358.5 kB/s eta 0:00:03\n",
      "   ------------------------------------- -- 10.6/11.5 MB 358.5 kB/s eta 0:00:03\n",
      "   ------------------------------------- -- 10.7/11.5 MB 357.6 kB/s eta 0:00:03\n",
      "   ------------------------------------- -- 10.7/11.5 MB 357.6 kB/s eta 0:00:03\n",
      "   ------------------------------------- -- 10.7/11.5 MB 357.6 kB/s eta 0:00:03\n",
      "   ------------------------------------- -- 10.7/11.5 MB 356.0 kB/s eta 0:00:03\n",
      "   ------------------------------------- -- 10.7/11.5 MB 356.0 kB/s eta 0:00:03\n",
      "   ------------------------------------- -- 10.7/11.5 MB 355.2 kB/s eta 0:00:03\n",
      "   ------------------------------------- -- 10.7/11.5 MB 355.2 kB/s eta 0:00:03\n",
      "   ------------------------------------- -- 10.7/11.5 MB 353.9 kB/s eta 0:00:03\n",
      "   ------------------------------------- -- 10.7/11.5 MB 353.9 kB/s eta 0:00:03\n",
      "   ------------------------------------- -- 10.7/11.5 MB 353.5 kB/s eta 0:00:03\n",
      "   ------------------------------------- -- 10.7/11.5 MB 353.3 kB/s eta 0:00:03\n",
      "   ------------------------------------- -- 10.8/11.5 MB 353.3 kB/s eta 0:00:03\n",
      "   ------------------------------------- -- 10.8/11.5 MB 353.1 kB/s eta 0:00:03\n",
      "   ------------------------------------- -- 10.8/11.5 MB 352.8 kB/s eta 0:00:03\n",
      "   ------------------------------------- -- 10.8/11.5 MB 352.8 kB/s eta 0:00:02\n",
      "   ------------------------------------- -- 10.8/11.5 MB 352.6 kB/s eta 0:00:02\n",
      "   ------------------------------------- -- 10.9/11.5 MB 352.6 kB/s eta 0:00:02\n",
      "   ------------------------------------- -- 10.9/11.5 MB 352.6 kB/s eta 0:00:02\n",
      "   ------------------------------------- -- 10.9/11.5 MB 351.8 kB/s eta 0:00:02\n",
      "   ------------------------------------- -- 10.9/11.5 MB 351.8 kB/s eta 0:00:02\n",
      "   ------------------------------------- -- 10.9/11.5 MB 351.2 kB/s eta 0:00:02\n",
      "   ------------------------------------- -- 10.9/11.5 MB 351.2 kB/s eta 0:00:02\n",
      "   -------------------------------------- - 10.9/11.5 MB 350.5 kB/s eta 0:00:02\n",
      "   -------------------------------------- - 10.9/11.5 MB 350.3 kB/s eta 0:00:02\n",
      "   -------------------------------------- - 10.9/11.5 MB 350.3 kB/s eta 0:00:02\n",
      "   -------------------------------------- - 11.0/11.5 MB 349.2 kB/s eta 0:00:02\n",
      "   -------------------------------------- - 11.0/11.5 MB 349.2 kB/s eta 0:00:02\n",
      "   -------------------------------------- - 11.0/11.5 MB 348.2 kB/s eta 0:00:02\n",
      "   -------------------------------------- - 11.0/11.5 MB 348.2 kB/s eta 0:00:02\n",
      "   -------------------------------------- - 11.0/11.5 MB 347.7 kB/s eta 0:00:02\n",
      "   -------------------------------------- - 11.0/11.5 MB 347.7 kB/s eta 0:00:02\n",
      "   -------------------------------------- - 11.0/11.5 MB 347.3 kB/s eta 0:00:02\n",
      "   -------------------------------------- - 11.0/11.5 MB 346.6 kB/s eta 0:00:02\n",
      "   -------------------------------------- - 11.0/11.5 MB 346.2 kB/s eta 0:00:02\n",
      "   -------------------------------------- - 11.0/11.5 MB 346.2 kB/s eta 0:00:02\n",
      "   -------------------------------------- - 11.1/11.5 MB 345.9 kB/s eta 0:00:02\n",
      "   -------------------------------------- - 11.1/11.5 MB 345.5 kB/s eta 0:00:02\n",
      "   -------------------------------------- - 11.1/11.5 MB 345.3 kB/s eta 0:00:02\n",
      "   -------------------------------------- - 11.1/11.5 MB 345.1 kB/s eta 0:00:02\n",
      "   -------------------------------------- - 11.1/11.5 MB 344.9 kB/s eta 0:00:02\n",
      "   -------------------------------------- - 11.1/11.5 MB 344.9 kB/s eta 0:00:02\n",
      "   -------------------------------------- - 11.2/11.5 MB 344.8 kB/s eta 0:00:02\n",
      "   -------------------------------------- - 11.2/11.5 MB 344.9 kB/s eta 0:00:01\n",
      "   -------------------------------------- - 11.2/11.5 MB 344.6 kB/s eta 0:00:01\n",
      "   -------------------------------------- - 11.2/11.5 MB 344.6 kB/s eta 0:00:01\n",
      "   ---------------------------------------  11.2/11.5 MB 344.2 kB/s eta 0:00:01\n",
      "   ---------------------------------------  11.2/11.5 MB 344.2 kB/s eta 0:00:01\n",
      "   ---------------------------------------  11.2/11.5 MB 344.9 kB/s eta 0:00:01\n",
      "   ---------------------------------------  11.2/11.5 MB 344.9 kB/s eta 0:00:01\n",
      "   ---------------------------------------  11.3/11.5 MB 344.2 kB/s eta 0:00:01\n",
      "   ---------------------------------------  11.3/11.5 MB 348.1 kB/s eta 0:00:01\n",
      "   ---------------------------------------  11.3/11.5 MB 348.1 kB/s eta 0:00:01\n",
      "   ---------------------------------------  11.3/11.5 MB 348.6 kB/s eta 0:00:01\n",
      "   ---------------------------------------  11.3/11.5 MB 349.5 kB/s eta 0:00:01\n",
      "   ---------------------------------------  11.3/11.5 MB 349.5 kB/s eta 0:00:01\n",
      "   ---------------------------------------  11.3/11.5 MB 349.7 kB/s eta 0:00:01\n",
      "   ---------------------------------------  11.3/11.5 MB 349.7 kB/s eta 0:00:01\n",
      "   ---------------------------------------  11.3/11.5 MB 349.7 kB/s eta 0:00:01\n",
      "   ---------------------------------------  11.3/11.5 MB 349.7 kB/s eta 0:00:01\n",
      "   ---------------------------------------  11.3/11.5 MB 348.8 kB/s eta 0:00:01\n",
      "   ---------------------------------------  11.3/11.5 MB 348.8 kB/s eta 0:00:01\n",
      "   ---------------------------------------  11.4/11.5 MB 348.1 kB/s eta 0:00:01\n",
      "   ---------------------------------------  11.4/11.5 MB 348.1 kB/s eta 0:00:01\n",
      "   ---------------------------------------  11.4/11.5 MB 347.7 kB/s eta 0:00:01\n",
      "   ---------------------------------------  11.4/11.5 MB 347.3 kB/s eta 0:00:01\n",
      "   ---------------------------------------  11.4/11.5 MB 347.1 kB/s eta 0:00:01\n",
      "   ---------------------------------------  11.4/11.5 MB 347.0 kB/s eta 0:00:01\n",
      "   ---------------------------------------  11.4/11.5 MB 347.0 kB/s eta 0:00:01\n",
      "   ---------------------------------------  11.4/11.5 MB 346.6 kB/s eta 0:00:01\n",
      "   ---------------------------------------  11.5/11.5 MB 346.0 kB/s eta 0:00:01\n",
      "   ---------------------------------------  11.5/11.5 MB 346.0 kB/s eta 0:00:01\n",
      "   ---------------------------------------  11.5/11.5 MB 345.5 kB/s eta 0:00:01\n",
      "   ---------------------------------------  11.5/11.5 MB 345.5 kB/s eta 0:00:01\n",
      "   ---------------------------------------  11.5/11.5 MB 344.6 kB/s eta 0:00:01\n",
      "   ---------------------------------------- 11.5/11.5 MB 344.2 kB/s eta 0:00:00\n",
      "Downloading pytz-2024.1-py2.py3-none-any.whl (505 kB)\n",
      "   ---------------------------------------- 0.0/505.5 kB ? eta -:--:--\n",
      "   ---------------------------------------- 0.0/505.5 kB ? eta -:--:--\n",
      "   ---------------------------------------- 0.0/505.5 kB ? eta -:--:--\n",
      "   ---------------------------------------- 0.0/505.5 kB ? eta -:--:--\n",
      "    --------------------------------------- 10.2/505.5 kB ? eta -:--:--\n",
      "   -- ------------------------------------ 30.7/505.5 kB 262.6 kB/s eta 0:00:02\n",
      "   -- ------------------------------------ 30.7/505.5 kB 262.6 kB/s eta 0:00:02\n",
      "   --- ----------------------------------- 41.0/505.5 kB 219.4 kB/s eta 0:00:03\n",
      "   ---- ---------------------------------- 61.4/505.5 kB 273.8 kB/s eta 0:00:02\n",
      "   ----- --------------------------------- 71.7/505.5 kB 280.5 kB/s eta 0:00:02\n",
      "   ------- ------------------------------- 92.2/505.5 kB 309.1 kB/s eta 0:00:02\n",
      "   ------- ------------------------------ 102.4/505.5 kB 281.0 kB/s eta 0:00:02\n",
      "   --------- ---------------------------- 122.9/505.5 kB 300.4 kB/s eta 0:00:02\n",
      "   ---------- --------------------------- 143.4/505.5 kB 304.6 kB/s eta 0:00:02\n",
      "   ---------- --------------------------- 143.4/505.5 kB 304.6 kB/s eta 0:00:02\n",
      "   ---------- --------------------------- 143.4/505.5 kB 304.6 kB/s eta 0:00:02\n",
      "   ----------- -------------------------- 153.6/505.5 kB 255.1 kB/s eta 0:00:02\n",
      "   ----------- -------------------------- 153.6/505.5 kB 255.1 kB/s eta 0:00:02\n",
      "   ------------- ------------------------ 174.1/505.5 kB 243.8 kB/s eta 0:00:02\n",
      "   ------------- ------------------------ 174.1/505.5 kB 243.8 kB/s eta 0:00:02\n",
      "   ------------- ------------------------ 174.1/505.5 kB 243.8 kB/s eta 0:00:02\n",
      "   ------------- ------------------------ 184.3/505.5 kB 222.9 kB/s eta 0:00:02\n",
      "   ------------- ------------------------ 184.3/505.5 kB 222.9 kB/s eta 0:00:02\n",
      "   ------------- ------------------------ 184.3/505.5 kB 222.9 kB/s eta 0:00:02\n",
      "   ------------- ------------------------ 184.3/505.5 kB 222.9 kB/s eta 0:00:02\n",
      "   --------------- ---------------------- 204.8/505.5 kB 200.8 kB/s eta 0:00:02\n",
      "   --------------- ---------------------- 204.8/505.5 kB 200.8 kB/s eta 0:00:02\n",
      "   ---------------- --------------------- 225.3/505.5 kB 199.5 kB/s eta 0:00:02\n",
      "   ---------------- --------------------- 225.3/505.5 kB 199.5 kB/s eta 0:00:02\n",
      "   ----------------- -------------------- 235.5/505.5 kB 194.9 kB/s eta 0:00:02\n",
      "   ----------------- -------------------- 235.5/505.5 kB 194.9 kB/s eta 0:00:02\n",
      "   ------------------- ------------------ 256.0/505.5 kB 199.2 kB/s eta 0:00:02\n",
      "   -------------------- ----------------- 266.2/505.5 kB 195.1 kB/s eta 0:00:02\n",
      "   -------------------- ----------------- 266.2/505.5 kB 195.1 kB/s eta 0:00:02\n",
      "   --------------------- ---------------- 286.7/505.5 kB 201.1 kB/s eta 0:00:02\n",
      "   ----------------------- -------------- 307.2/505.5 kB 206.7 kB/s eta 0:00:01\n",
      "   ----------------------- -------------- 317.4/505.5 kB 204.8 kB/s eta 0:00:01\n",
      "   ----------------------- -------------- 317.4/505.5 kB 204.8 kB/s eta 0:00:01\n",
      "   ------------------------- ------------ 337.9/505.5 kB 209.8 kB/s eta 0:00:01\n",
      "   -------------------------- ----------- 348.2/505.5 kB 207.9 kB/s eta 0:00:01\n",
      "   -------------------------- ----------- 348.2/505.5 kB 207.9 kB/s eta 0:00:01\n",
      "   --------------------------- ---------- 368.6/505.5 kB 210.5 kB/s eta 0:00:01\n",
      "   ----------------------------- -------- 389.1/505.5 kB 214.7 kB/s eta 0:00:01\n",
      "   ------------------------------ ------- 399.4/505.5 kB 214.7 kB/s eta 0:00:01\n",
      "   ------------------------------- ------ 419.8/505.5 kB 218.5 kB/s eta 0:00:01\n",
      "   ------------------------------- ------ 419.8/505.5 kB 218.5 kB/s eta 0:00:01\n",
      "   -------------------------------- ----- 430.1/505.5 kB 216.7 kB/s eta 0:00:01\n",
      "   -------------------------------- ----- 430.1/505.5 kB 216.7 kB/s eta 0:00:01\n",
      "   --------------------------------- ---- 450.6/505.5 kB 216.8 kB/s eta 0:00:01\n",
      "   --------------------------------- ---- 450.6/505.5 kB 216.8 kB/s eta 0:00:01\n",
      "   ----------------------------------- -- 471.0/505.5 kB 218.5 kB/s eta 0:00:01\n",
      "   ------------------------------------ - 481.3/505.5 kB 216.9 kB/s eta 0:00:01\n",
      "   ------------------------------------ - 481.3/505.5 kB 216.9 kB/s eta 0:00:01\n",
      "   -------------------------------------  501.8/505.5 kB 215.5 kB/s eta 0:00:01\n",
      "   -------------------------------------- 505.5/505.5 kB 215.6 kB/s eta 0:00:00\n",
      "Downloading tzdata-2024.1-py2.py3-none-any.whl (345 kB)\n",
      "   ---------------------------------------- 0.0/345.4 kB ? eta -:--:--\n",
      "   ---------------------------------------- 0.0/345.4 kB ? eta -:--:--\n",
      "   ---------------------------------------- 0.0/345.4 kB ? eta -:--:--\n",
      "   ---------------------------------------- 0.0/345.4 kB ? eta -:--:--\n",
      "   ---------------------------------------- 0.0/345.4 kB ? eta -:--:--\n",
      "   ---------------------------------------- 0.0/345.4 kB ? eta -:--:--\n",
      "   - -------------------------------------- 10.2/345.4 kB ? eta -:--:--\n",
      "   - -------------------------------------- 10.2/345.4 kB ? eta -:--:--\n",
      "   - -------------------------------------- 10.2/345.4 kB ? eta -:--:--\n",
      "   --- ----------------------------------- 30.7/345.4 kB 163.8 kB/s eta 0:00:02\n",
      "   --- ----------------------------------- 30.7/345.4 kB 163.8 kB/s eta 0:00:02\n",
      "   --- ----------------------------------- 30.7/345.4 kB 163.8 kB/s eta 0:00:02\n",
      "   --- ----------------------------------- 30.7/345.4 kB 163.8 kB/s eta 0:00:02\n",
      "   ---- ----------------------------------- 41.0/345.4 kB 98.1 kB/s eta 0:00:04\n",
      "   ---- ----------------------------------- 41.0/345.4 kB 98.1 kB/s eta 0:00:04\n",
      "   ---- ----------------------------------- 41.0/345.4 kB 98.1 kB/s eta 0:00:04\n",
      "   ------ -------------------------------- 61.4/345.4 kB 105.6 kB/s eta 0:00:03\n",
      "   ------ -------------------------------- 61.4/345.4 kB 105.6 kB/s eta 0:00:03\n",
      "   ------ -------------------------------- 61.4/345.4 kB 105.6 kB/s eta 0:00:03\n",
      "   --------- ----------------------------- 81.9/345.4 kB 114.7 kB/s eta 0:00:03\n",
      "   --------- ----------------------------- 81.9/345.4 kB 114.7 kB/s eta 0:00:03\n",
      "   --------- ----------------------------- 81.9/345.4 kB 114.7 kB/s eta 0:00:03\n",
      "   ---------- ---------------------------- 92.2/345.4 kB 106.9 kB/s eta 0:00:03\n",
      "   ---------- ---------------------------- 92.2/345.4 kB 106.9 kB/s eta 0:00:03\n",
      "   ---------- ---------------------------- 92.2/345.4 kB 106.9 kB/s eta 0:00:03\n",
      "   ---------- ---------------------------- 92.2/345.4 kB 106.9 kB/s eta 0:00:03\n",
      "   ---------- ---------------------------- 92.2/345.4 kB 106.9 kB/s eta 0:00:03\n",
      "   ---------- ---------------------------- 92.2/345.4 kB 106.9 kB/s eta 0:00:03\n",
      "   ------------ ------------------------- 112.6/345.4 kB 100.8 kB/s eta 0:00:03\n",
      "   ------------ ------------------------- 112.6/345.4 kB 100.8 kB/s eta 0:00:03\n",
      "   ------------ ------------------------- 112.6/345.4 kB 100.8 kB/s eta 0:00:03\n",
      "   ------------ ------------------------- 112.6/345.4 kB 100.8 kB/s eta 0:00:03\n",
      "   ------------ ------------------------- 112.6/345.4 kB 100.8 kB/s eta 0:00:03\n",
      "   ------------- ------------------------- 122.9/345.4 kB 91.2 kB/s eta 0:00:03\n",
      "   ------------- ------------------------- 122.9/345.4 kB 91.2 kB/s eta 0:00:03\n",
      "   ------------- ------------------------- 122.9/345.4 kB 91.2 kB/s eta 0:00:03\n",
      "   ------------- ------------------------- 122.9/345.4 kB 91.2 kB/s eta 0:00:03\n",
      "   ---------------- ---------------------- 143.4/345.4 kB 93.6 kB/s eta 0:00:03\n",
      "   ---------------- ---------------------- 143.4/345.4 kB 93.6 kB/s eta 0:00:03\n",
      "   ---------------- ---------------------- 143.4/345.4 kB 93.6 kB/s eta 0:00:03\n",
      "   ------------------ -------------------- 163.8/345.4 kB 98.3 kB/s eta 0:00:02\n",
      "   ------------------ -------------------- 163.8/345.4 kB 98.3 kB/s eta 0:00:02\n",
      "   ------------------- ------------------- 174.1/345.4 kB 98.0 kB/s eta 0:00:02\n",
      "   ------------------- ------------------- 174.1/345.4 kB 98.0 kB/s eta 0:00:02\n",
      "   ------------------- ------------------- 174.1/345.4 kB 98.0 kB/s eta 0:00:02\n",
      "   --------------------- ---------------- 194.6/345.4 kB 103.5 kB/s eta 0:00:02\n",
      "   --------------------- ---------------- 194.6/345.4 kB 103.5 kB/s eta 0:00:02\n",
      "   ---------------------- --------------- 204.8/345.4 kB 102.1 kB/s eta 0:00:02\n",
      "   ---------------------- --------------- 204.8/345.4 kB 102.1 kB/s eta 0:00:02\n",
      "   ------------------------ ------------- 225.3/345.4 kB 108.3 kB/s eta 0:00:02\n",
      "   ------------------------ ------------- 225.3/345.4 kB 108.3 kB/s eta 0:00:02\n",
      "   --------------------------- ---------- 245.8/345.4 kB 113.3 kB/s eta 0:00:01\n",
      "   --------------------------- ---------- 245.8/345.4 kB 113.3 kB/s eta 0:00:01\n",
      "   --------------------------- ---------- 245.8/345.4 kB 113.3 kB/s eta 0:00:01\n",
      "   ----------------------------- -------- 266.2/345.4 kB 115.4 kB/s eta 0:00:01\n",
      "   ------------------------------- ------ 286.7/345.4 kB 121.2 kB/s eta 0:00:01\n",
      "   ------------------------------- ------ 286.7/345.4 kB 121.2 kB/s eta 0:00:01\n",
      "   ------------------------------- ------ 286.7/345.4 kB 121.2 kB/s eta 0:00:01\n",
      "   ------------------------------- ------ 286.7/345.4 kB 121.2 kB/s eta 0:00:01\n",
      "   --------------------------------- ---- 307.2/345.4 kB 120.3 kB/s eta 0:00:01\n",
      "   --------------------------------- ---- 307.2/345.4 kB 120.3 kB/s eta 0:00:01\n",
      "   ---------------------------------- --- 317.4/345.4 kB 120.6 kB/s eta 0:00:01\n",
      "   -------------------------------------  337.9/345.4 kB 124.8 kB/s eta 0:00:01\n",
      "   -------------------------------------- 345.4/345.4 kB 126.2 kB/s eta 0:00:00\n",
      "Installing collected packages: pytz, tzdata, pandas\n",
      "Successfully installed pandas-2.2.2 pytz-2024.1 tzdata-2024.1\n",
      "Note: you may need to restart the kernel to use updated packages.\n"
     ]
    }
   ],
   "source": [
    "pip install pandas"
   ]
  },
  {
   "cell_type": "code",
   "execution_count": 25,
   "metadata": {},
   "outputs": [],
   "source": [
    "import pandas as pd"
   ]
  },
  {
   "cell_type": "code",
   "execution_count": 26,
   "metadata": {},
   "outputs": [
    {
     "data": {
      "text/plain": [
       "a    10\n",
       "b    20\n",
       "c    30\n",
       "dtype: int64"
      ]
     },
     "execution_count": 26,
     "metadata": {},
     "output_type": "execute_result"
    }
   ],
   "source": [
    "data = [10,20,30]\n",
    "index = ['a','b','c']\n",
    "pd.Series(data,index=index)"
   ]
  },
  {
   "cell_type": "code",
   "execution_count": 27,
   "metadata": {},
   "outputs": [],
   "source": [
    "data={\n",
    "    'Name':['Krish','vishmay','noone'],\n",
    "    'Age':[25,20,189],\n",
    "    'City':['Rajkot','Banglore','Florida']\n",
    "}"
   ]
  },
  {
   "cell_type": "code",
   "execution_count": 28,
   "metadata": {},
   "outputs": [],
   "source": [
    "df = pd.DataFrame(data)"
   ]
  },
  {
   "cell_type": "code",
   "execution_count": 29,
   "metadata": {},
   "outputs": [
    {
     "data": {
      "text/html": [
       "<div>\n",
       "<style scoped>\n",
       "    .dataframe tbody tr th:only-of-type {\n",
       "        vertical-align: middle;\n",
       "    }\n",
       "\n",
       "    .dataframe tbody tr th {\n",
       "        vertical-align: top;\n",
       "    }\n",
       "\n",
       "    .dataframe thead th {\n",
       "        text-align: right;\n",
       "    }\n",
       "</style>\n",
       "<table border=\"1\" class=\"dataframe\">\n",
       "  <thead>\n",
       "    <tr style=\"text-align: right;\">\n",
       "      <th></th>\n",
       "      <th>Name</th>\n",
       "      <th>Age</th>\n",
       "      <th>City</th>\n",
       "    </tr>\n",
       "  </thead>\n",
       "  <tbody>\n",
       "    <tr>\n",
       "      <th>0</th>\n",
       "      <td>Krish</td>\n",
       "      <td>25</td>\n",
       "      <td>Rajkot</td>\n",
       "    </tr>\n",
       "    <tr>\n",
       "      <th>1</th>\n",
       "      <td>vishmay</td>\n",
       "      <td>20</td>\n",
       "      <td>Banglore</td>\n",
       "    </tr>\n",
       "    <tr>\n",
       "      <th>2</th>\n",
       "      <td>noone</td>\n",
       "      <td>189</td>\n",
       "      <td>Florida</td>\n",
       "    </tr>\n",
       "  </tbody>\n",
       "</table>\n",
       "</div>"
      ],
      "text/plain": [
       "      Name  Age      City\n",
       "0    Krish   25    Rajkot\n",
       "1  vishmay   20  Banglore\n",
       "2    noone  189   Florida"
      ]
     },
     "execution_count": 29,
     "metadata": {},
     "output_type": "execute_result"
    }
   ],
   "source": [
    "df"
   ]
  },
  {
   "cell_type": "code",
   "execution_count": 30,
   "metadata": {},
   "outputs": [
    {
     "data": {
      "text/plain": [
       "pandas.core.frame.DataFrame"
      ]
     },
     "execution_count": 30,
     "metadata": {},
     "output_type": "execute_result"
    }
   ],
   "source": [
    "type(df)"
   ]
  },
  {
   "cell_type": "code",
   "execution_count": 32,
   "metadata": {},
   "outputs": [
    {
     "data": {
      "text/html": [
       "<div>\n",
       "<style scoped>\n",
       "    .dataframe tbody tr th:only-of-type {\n",
       "        vertical-align: middle;\n",
       "    }\n",
       "\n",
       "    .dataframe tbody tr th {\n",
       "        vertical-align: top;\n",
       "    }\n",
       "\n",
       "    .dataframe thead th {\n",
       "        text-align: right;\n",
       "    }\n",
       "</style>\n",
       "<table border=\"1\" class=\"dataframe\">\n",
       "  <thead>\n",
       "    <tr style=\"text-align: right;\">\n",
       "      <th></th>\n",
       "      <th>Name</th>\n",
       "      <th>Age</th>\n",
       "      <th>City</th>\n",
       "    </tr>\n",
       "  </thead>\n",
       "  <tbody>\n",
       "    <tr>\n",
       "      <th>0</th>\n",
       "      <td>vcd</td>\n",
       "      <td>32</td>\n",
       "      <td>Rajkot</td>\n",
       "    </tr>\n",
       "    <tr>\n",
       "      <th>1</th>\n",
       "      <td>mcd</td>\n",
       "      <td>32</td>\n",
       "      <td>Rajkot</td>\n",
       "    </tr>\n",
       "    <tr>\n",
       "      <th>2</th>\n",
       "      <td>cmd</td>\n",
       "      <td>32</td>\n",
       "      <td>Rajkot</td>\n",
       "    </tr>\n",
       "  </tbody>\n",
       "</table>\n",
       "</div>"
      ],
      "text/plain": [
       "  Name  Age    City\n",
       "0  vcd   32  Rajkot\n",
       "1  mcd   32  Rajkot\n",
       "2  cmd   32  Rajkot"
      ]
     },
     "execution_count": 32,
     "metadata": {},
     "output_type": "execute_result"
    }
   ],
   "source": [
    "data = [\n",
    "    {'Name':'vcd','Age':32,'City':'Rajkot'},\n",
    "    {'Name':'mcd','Age':32,'City':'Rajkot'},\n",
    "    {'Name':'cmd','Age':32,'City':'Rajkot'}\n",
    "]\n",
    "df = pd.DataFrame(data)\n",
    "df"
   ]
  },
  {
   "cell_type": "code",
   "execution_count": null,
   "metadata": {},
   "outputs": [],
   "source": []
  }
 ],
 "metadata": {
  "kernelspec": {
   "display_name": "Python 3",
   "language": "python",
   "name": "python3"
  },
  "language_info": {
   "codemirror_mode": {
    "name": "ipython",
    "version": 3
   },
   "file_extension": ".py",
   "mimetype": "text/x-python",
   "name": "python",
   "nbconvert_exporter": "python",
   "pygments_lexer": "ipython3",
   "version": "3.12.0"
  }
 },
 "nbformat": 4,
 "nbformat_minor": 2
}
