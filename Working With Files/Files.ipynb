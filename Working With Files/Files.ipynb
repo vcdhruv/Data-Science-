{
 "cells": [
  {
   "cell_type": "code",
   "execution_count": 1,
   "id": "6f629562",
   "metadata": {},
   "outputs": [],
   "source": [
    "f = open(\"test.txt\",\"w\")"
   ]
  },
  {
   "cell_type": "code",
   "execution_count": 2,
   "id": "e7de0c19",
   "metadata": {},
   "outputs": [
    {
     "data": {
      "text/plain": [
       "'D:\\\\DATA SCIENCE FULL COURSE'"
      ]
     },
     "execution_count": 2,
     "metadata": {},
     "output_type": "execute_result"
    }
   ],
   "source": [
    "pwd"
   ]
  },
  {
   "cell_type": "code",
   "execution_count": 3,
   "id": "7a451348",
   "metadata": {},
   "outputs": [
    {
     "name": "stdout",
     "output_type": "stream",
     "text": [
      " Volume in drive D is New Volume\n",
      " Volume Serial Number is 08C0-ECE1\n",
      "\n",
      " Directory of D:\\DATA SCIENCE FULL COURSE\n",
      "\n",
      "08-06-2023  13:46    <DIR>          .\n",
      "08-06-2023  13:28    <DIR>          .ipynb_checkpoints\n",
      "07-06-2023  23:04    <DIR>          ASSIGNMENT\n",
      "07-06-2023  20:37            11,195 Class Methods.ipynb\n",
      "06-06-2023  16:38             3,210 DECORATOR.ipynb\n",
      "08-06-2023  13:30               628 Files.ipynb\n",
      "28-05-2023  20:24            19,814 Functions.ipynb\n",
      "28-05-2023  20:24             9,534 Generator Functions.ipynb\n",
      "26-05-2023  16:23             6,923 lambda.ipynb\n",
      "21-05-2023  10:05            58,295 list , tuple and set .ipynb\n",
      "21-05-2023  11:34             7,624 List,Set,Tuple,Dictionary.ipynb\n",
      "02-05-2023  18:50    <DIR>          MACHINE LEARNING FULL COURSE\n",
      "28-05-2023  17:12             7,946 Map , Filter , Reduce.ipynb\n",
      "06-06-2023  16:18            17,377 OOPS.ipynb\n",
      "01-06-2023  20:23            15,545 Practice Problems.ipynb\n",
      "21-05-2023  10:48            13,301 Practice.ipynb\n",
      "30-05-2023  18:08    <DIR>          Problems practice\n",
      "07-06-2023  22:12             6,556 PROPERTY DECORATORS.ipynb\n",
      "12-05-2023  16:10             4,383 PYTHON BASICS.ipynb\n",
      "06-06-2023  19:10    <DIR>          REVISION CLASSES\n",
      "07-06-2023  21:42             8,928 SPECIAL METHODS.ipynb\n",
      "07-06-2023  21:29             3,154 STATIC METHOD.ipynb\n",
      "08-06-2023  13:46                 0 test.txt\n",
      "              17 File(s)        194,413 bytes\n",
      "               6 Dir(s)  142,014,926,848 bytes free\n"
     ]
    }
   ],
   "source": [
    "ls"
   ]
  },
  {
   "cell_type": "code",
   "execution_count": 4,
   "id": "d2679d05",
   "metadata": {},
   "outputs": [
    {
     "data": {
      "text/plain": [
       "21"
      ]
     },
     "execution_count": 4,
     "metadata": {},
     "output_type": "execute_result"
    }
   ],
   "source": [
    "f.write(\"this is my first text\")"
   ]
  },
  {
   "cell_type": "code",
   "execution_count": 5,
   "id": "385b3815",
   "metadata": {},
   "outputs": [],
   "source": [
    "f.close()"
   ]
  },
  {
   "cell_type": "code",
   "execution_count": 10,
   "id": "5ac2a058",
   "metadata": {},
   "outputs": [],
   "source": [
    "f = open(\"test.txt\",\"w\")"
   ]
  },
  {
   "cell_type": "code",
   "execution_count": 11,
   "id": "317525bc",
   "metadata": {},
   "outputs": [
    {
     "data": {
      "text/plain": [
       "49"
      ]
     },
     "execution_count": 11,
     "metadata": {},
     "output_type": "execute_result"
    }
   ],
   "source": [
    "f.write(\"this is my text to overwrite data present in file\")"
   ]
  },
  {
   "cell_type": "code",
   "execution_count": 12,
   "id": "6d8ec419",
   "metadata": {},
   "outputs": [],
   "source": [
    "f.close()"
   ]
  },
  {
   "cell_type": "code",
   "execution_count": 16,
   "id": "12ec21ff",
   "metadata": {},
   "outputs": [],
   "source": [
    "f = open(\"test.txt\",\"a\")"
   ]
  },
  {
   "cell_type": "code",
   "execution_count": 17,
   "id": "3048e18f",
   "metadata": {},
   "outputs": [
    {
     "data": {
      "text/plain": [
       "16"
      ]
     },
     "execution_count": 17,
     "metadata": {},
     "output_type": "execute_result"
    }
   ],
   "source": [
    "f.write(\"\\n my name is vcd\")"
   ]
  },
  {
   "cell_type": "code",
   "execution_count": 18,
   "id": "0653e765",
   "metadata": {},
   "outputs": [],
   "source": [
    "f.close()"
   ]
  },
  {
   "cell_type": "code",
   "execution_count": 19,
   "id": "b1191751",
   "metadata": {},
   "outputs": [],
   "source": [
    "data = open(\"test.txt\",\"r\")"
   ]
  },
  {
   "cell_type": "code",
   "execution_count": 20,
   "id": "9b9544d3",
   "metadata": {},
   "outputs": [
    {
     "data": {
      "text/plain": [
       "'this is my text to overwrite data present in file\\n my name is vcd'"
      ]
     },
     "execution_count": 20,
     "metadata": {},
     "output_type": "execute_result"
    }
   ],
   "source": [
    "data.read()"
   ]
  },
  {
   "cell_type": "code",
   "execution_count": 21,
   "id": "74cc6a7b",
   "metadata": {},
   "outputs": [
    {
     "data": {
      "text/plain": [
       "''"
      ]
     },
     "execution_count": 21,
     "metadata": {},
     "output_type": "execute_result"
    }
   ],
   "source": [
    "data.readline()"
   ]
  },
  {
   "cell_type": "code",
   "execution_count": 34,
   "id": "c2da1f1d",
   "metadata": {},
   "outputs": [
    {
     "data": {
      "text/plain": [
       "0"
      ]
     },
     "execution_count": 34,
     "metadata": {},
     "output_type": "execute_result"
    }
   ],
   "source": [
    "data.seek(0) #taking pointer to starting of our data"
   ]
  },
  {
   "cell_type": "code",
   "execution_count": 35,
   "id": "3f219e4e",
   "metadata": {},
   "outputs": [
    {
     "data": {
      "text/plain": [
       "'this is my text to overwrite data present in file\\n'"
      ]
     },
     "execution_count": 35,
     "metadata": {},
     "output_type": "execute_result"
    }
   ],
   "source": [
    "data.readline()"
   ]
  },
  {
   "cell_type": "code",
   "execution_count": 36,
   "id": "9030ba3b",
   "metadata": {},
   "outputs": [
    {
     "data": {
      "text/plain": [
       "' my name is vcd'"
      ]
     },
     "execution_count": 36,
     "metadata": {},
     "output_type": "execute_result"
    }
   ],
   "source": [
    "data.readline()"
   ]
  },
  {
   "cell_type": "code",
   "execution_count": 37,
   "id": "7d0b3108",
   "metadata": {},
   "outputs": [
    {
     "data": {
      "text/plain": [
       "5"
      ]
     },
     "execution_count": 37,
     "metadata": {},
     "output_type": "execute_result"
    }
   ],
   "source": [
    "data.seek(5)"
   ]
  },
  {
   "cell_type": "code",
   "execution_count": 38,
   "id": "7c434508",
   "metadata": {},
   "outputs": [
    {
     "data": {
      "text/plain": [
       "'is my text to overwrite data present in file\\n my name is vcd'"
      ]
     },
     "execution_count": 38,
     "metadata": {},
     "output_type": "execute_result"
    }
   ],
   "source": [
    "data.read()"
   ]
  },
  {
   "cell_type": "code",
   "execution_count": 52,
   "id": "14e40128",
   "metadata": {},
   "outputs": [],
   "source": [
    "data.close()"
   ]
  },
  {
   "cell_type": "code",
   "execution_count": 53,
   "id": "8c35e470",
   "metadata": {},
   "outputs": [],
   "source": [
    "data1 = open(\"test.txt\",\"r\")"
   ]
  },
  {
   "cell_type": "code",
   "execution_count": 54,
   "id": "37f3328c",
   "metadata": {},
   "outputs": [
    {
     "name": "stdout",
     "output_type": "stream",
     "text": [
      "this is my text to overwrite data present in file\n",
      "\n",
      " my name is vcd\n"
     ]
    }
   ],
   "source": [
    "for i in data1:\n",
    "    print(i)"
   ]
  },
  {
   "cell_type": "code",
   "execution_count": 55,
   "id": "5186bb81",
   "metadata": {},
   "outputs": [],
   "source": [
    "data1.close()"
   ]
  },
  {
   "cell_type": "markdown",
   "id": "20eb3a0f",
   "metadata": {},
   "source": [
    "### FIle Size"
   ]
  },
  {
   "cell_type": "code",
   "execution_count": 56,
   "id": "f7160506",
   "metadata": {},
   "outputs": [],
   "source": [
    "import os"
   ]
  },
  {
   "cell_type": "code",
   "execution_count": 57,
   "id": "244bb177",
   "metadata": {},
   "outputs": [
    {
     "data": {
      "text/plain": [
       "66"
      ]
     },
     "execution_count": 57,
     "metadata": {},
     "output_type": "execute_result"
    }
   ],
   "source": [
    "os.path.getsize(\"test.txt\")"
   ]
  },
  {
   "cell_type": "markdown",
   "id": "9a3bf25b",
   "metadata": {},
   "source": [
    "### Delete File"
   ]
  },
  {
   "cell_type": "code",
   "execution_count": 58,
   "id": "cae6c54f",
   "metadata": {},
   "outputs": [],
   "source": [
    "os.remove(\"test.txt\")"
   ]
  },
  {
   "cell_type": "code",
   "execution_count": 59,
   "id": "4ea36fac",
   "metadata": {},
   "outputs": [],
   "source": [
    "f = open(\"test1.txt\",\"w\")"
   ]
  },
  {
   "cell_type": "code",
   "execution_count": 60,
   "id": "facfe66f",
   "metadata": {},
   "outputs": [
    {
     "data": {
      "text/plain": [
       "100"
      ]
     },
     "execution_count": 60,
     "metadata": {},
     "output_type": "execute_result"
    }
   ],
   "source": [
    "f.write(\"uzuzuzuzuzuzuzuzuzuzuzuzuzuzuzuzuzuzuzuzuzuzuuzdhinkchikidhinkichikdhinkichikidhinkichikidhinkichiki\")"
   ]
  },
  {
   "cell_type": "code",
   "execution_count": 61,
   "id": "b436182d",
   "metadata": {},
   "outputs": [],
   "source": [
    "f.close()"
   ]
  },
  {
   "cell_type": "code",
   "execution_count": 62,
   "id": "a99beac3",
   "metadata": {},
   "outputs": [
    {
     "data": {
      "text/plain": [
       "100"
      ]
     },
     "execution_count": 62,
     "metadata": {},
     "output_type": "execute_result"
    }
   ],
   "source": [
    "os.path.getsize(\"test1.txt\")"
   ]
  },
  {
   "cell_type": "markdown",
   "id": "c4d7134f",
   "metadata": {},
   "source": [
    "### Rename File"
   ]
  },
  {
   "cell_type": "code",
   "execution_count": 63,
   "id": "7d636e7a",
   "metadata": {},
   "outputs": [],
   "source": [
    "os.rename(\"test1.txt\",\"new_test.txt\")"
   ]
  },
  {
   "cell_type": "markdown",
   "id": "64ccb6cc",
   "metadata": {},
   "source": [
    "### Copying File"
   ]
  },
  {
   "cell_type": "code",
   "execution_count": 64,
   "id": "3abbce6c",
   "metadata": {},
   "outputs": [],
   "source": [
    "import shutil"
   ]
  },
  {
   "cell_type": "code",
   "execution_count": 65,
   "id": "75ec3fed",
   "metadata": {},
   "outputs": [
    {
     "data": {
      "text/plain": [
       "'copy_new_test.txt'"
      ]
     },
     "execution_count": 65,
     "metadata": {},
     "output_type": "execute_result"
    }
   ],
   "source": [
    "shutil.copy(\"new_test.txt\",\"copy_new_test.txt\")"
   ]
  },
  {
   "cell_type": "code",
   "execution_count": 67,
   "id": "dc217fab",
   "metadata": {},
   "outputs": [
    {
     "name": "stdout",
     "output_type": "stream",
     "text": [
      "uzuzuzuzuzuzuzuzuzuzuzuzuzuzuzuzuzuzuzuzuzuzuuzdhinkchikidhinkichikdhinkichikidhinkichikidhinkichiki\n"
     ]
    }
   ],
   "source": [
    "with open(\"new_test.txt\",\"r\") as f:\n",
    "    print(f.read())"
   ]
  },
  {
   "cell_type": "code",
   "execution_count": null,
   "id": "6f86c97b",
   "metadata": {},
   "outputs": [],
   "source": []
  }
 ],
 "metadata": {
  "kernelspec": {
   "display_name": "Python 3 (ipykernel)",
   "language": "python",
   "name": "python3"
  },
  "language_info": {
   "codemirror_mode": {
    "name": "ipython",
    "version": 3
   },
   "file_extension": ".py",
   "mimetype": "text/x-python",
   "name": "python",
   "nbconvert_exporter": "python",
   "pygments_lexer": "ipython3",
   "version": "3.9.13"
  }
 },
 "nbformat": 4,
 "nbformat_minor": 5
}
