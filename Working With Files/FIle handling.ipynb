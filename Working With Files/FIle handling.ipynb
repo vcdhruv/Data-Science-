{
 "cells": [
  {
   "cell_type": "code",
   "execution_count": 2,
   "id": "1651c88a",
   "metadata": {},
   "outputs": [],
   "source": [
    "f = open('sample.txt','w')"
   ]
  },
  {
   "cell_type": "code",
   "execution_count": 3,
   "id": "2462b792",
   "metadata": {},
   "outputs": [
    {
     "data": {
      "text/plain": [
       "'E:\\\\Flutter App\\\\Artificial-Intelligence-And-Machine-Learning\\\\Python 3.12'"
      ]
     },
     "execution_count": 3,
     "metadata": {},
     "output_type": "execute_result"
    }
   ],
   "source": [
    "pwd"
   ]
  },
  {
   "cell_type": "code",
   "execution_count": 4,
   "id": "6e7a7a19",
   "metadata": {},
   "outputs": [
    {
     "name": "stdout",
     "output_type": "stream",
     "text": [
      " Volume in drive E is New Volume\n",
      " Volume Serial Number is 804F-C58D\n",
      "\n",
      " Directory of E:\\Flutter App\\Artificial-Intelligence-And-Machine-Learning\\Python 3.12\n",
      "\n",
      "03-08-2024  12:06    <DIR>          .\n",
      "03-08-2024  12:04    <DIR>          ..\n",
      "03-08-2024  12:04    <DIR>          .ipynb_checkpoints\n",
      "25-07-2024  13:35                10 app.py\n",
      "03-08-2024  12:06               758 FIle handling.ipynb\n",
      "02-08-2024  23:19               931 numpy.txt\n",
      "03-08-2024  00:12             2,220 pandas.txt\n",
      "25-07-2024  13:40                 9 requirements.txt\n",
      "03-08-2024  12:06                 0 sample.txt\n",
      "02-08-2024  23:34           217,170 test.ipynb\n",
      "25-07-2024  12:55    <DIR>          venv\n",
      "               7 File(s)        221,098 bytes\n",
      "               4 Dir(s)  215,076,630,528 bytes free\n"
     ]
    }
   ],
   "source": [
    "ls"
   ]
  },
  {
   "cell_type": "code",
   "execution_count": 6,
   "id": "46076ad9",
   "metadata": {},
   "outputs": [
    {
     "data": {
      "text/plain": [
       "30"
      ]
     },
     "execution_count": 6,
     "metadata": {},
     "output_type": "execute_result"
    }
   ],
   "source": [
    "f.write('this is my first file to write')"
   ]
  },
  {
   "cell_type": "code",
   "execution_count": 7,
   "id": "22e687a4",
   "metadata": {},
   "outputs": [],
   "source": [
    "f.close()"
   ]
  },
  {
   "cell_type": "code",
   "execution_count": 8,
   "id": "06b80ec0",
   "metadata": {},
   "outputs": [],
   "source": [
    "f = open('sample.txt','w')"
   ]
  },
  {
   "cell_type": "code",
   "execution_count": 9,
   "id": "5a0aa835",
   "metadata": {},
   "outputs": [
    {
     "data": {
      "text/plain": [
       "12"
      ]
     },
     "execution_count": 9,
     "metadata": {},
     "output_type": "execute_result"
    }
   ],
   "source": [
    "f.write('Hello world!')"
   ]
  },
  {
   "cell_type": "code",
   "execution_count": 10,
   "id": "496464e7",
   "metadata": {},
   "outputs": [],
   "source": [
    "f.close()"
   ]
  },
  {
   "cell_type": "code",
   "execution_count": 11,
   "id": "3c8d3a77",
   "metadata": {},
   "outputs": [],
   "source": [
    "f = open('sample.txt','a')"
   ]
  },
  {
   "cell_type": "code",
   "execution_count": 12,
   "id": "776885c2",
   "metadata": {},
   "outputs": [
    {
     "data": {
      "text/plain": [
       "30"
      ]
     },
     "execution_count": 12,
     "metadata": {},
     "output_type": "execute_result"
    }
   ],
   "source": [
    "f.write('THis is my first file to write')"
   ]
  },
  {
   "cell_type": "code",
   "execution_count": 13,
   "id": "81170144",
   "metadata": {},
   "outputs": [],
   "source": [
    "f.close()"
   ]
  },
  {
   "cell_type": "code",
   "execution_count": 18,
   "id": "042aa6a9",
   "metadata": {},
   "outputs": [],
   "source": [
    "f = open('sample.txt','r')"
   ]
  },
  {
   "cell_type": "code",
   "execution_count": 19,
   "id": "19018e4c",
   "metadata": {},
   "outputs": [
    {
     "data": {
      "text/plain": [
       "'Hello world!\\nTHis is my first file to write'"
      ]
     },
     "execution_count": 19,
     "metadata": {},
     "output_type": "execute_result"
    }
   ],
   "source": [
    "f.read()"
   ]
  },
  {
   "cell_type": "code",
   "execution_count": 20,
   "id": "fd0572d7",
   "metadata": {},
   "outputs": [
    {
     "data": {
      "text/plain": [
       "''"
      ]
     },
     "execution_count": 20,
     "metadata": {},
     "output_type": "execute_result"
    }
   ],
   "source": [
    "f.readline()"
   ]
  },
  {
   "cell_type": "code",
   "execution_count": 21,
   "id": "55141f10",
   "metadata": {},
   "outputs": [
    {
     "data": {
      "text/plain": [
       "0"
      ]
     },
     "execution_count": 21,
     "metadata": {},
     "output_type": "execute_result"
    }
   ],
   "source": [
    "f.seek(0)"
   ]
  },
  {
   "cell_type": "code",
   "execution_count": 22,
   "id": "1504ce43",
   "metadata": {},
   "outputs": [
    {
     "data": {
      "text/plain": [
       "'Hello world!\\n'"
      ]
     },
     "execution_count": 22,
     "metadata": {},
     "output_type": "execute_result"
    }
   ],
   "source": [
    "f.readline()"
   ]
  },
  {
   "cell_type": "code",
   "execution_count": 23,
   "id": "dd3b2d9f",
   "metadata": {},
   "outputs": [
    {
     "data": {
      "text/plain": [
       "'THis is my first file to write'"
      ]
     },
     "execution_count": 23,
     "metadata": {},
     "output_type": "execute_result"
    }
   ],
   "source": [
    "f.readline()"
   ]
  },
  {
   "cell_type": "code",
   "execution_count": 24,
   "id": "05c77f1c",
   "metadata": {},
   "outputs": [
    {
     "data": {
      "text/plain": [
       "''"
      ]
     },
     "execution_count": 24,
     "metadata": {},
     "output_type": "execute_result"
    }
   ],
   "source": [
    "f.read()"
   ]
  },
  {
   "cell_type": "code",
   "execution_count": 25,
   "id": "34869126",
   "metadata": {},
   "outputs": [
    {
     "data": {
      "text/plain": [
       "0"
      ]
     },
     "execution_count": 25,
     "metadata": {},
     "output_type": "execute_result"
    }
   ],
   "source": [
    "f.seek(0)"
   ]
  },
  {
   "cell_type": "code",
   "execution_count": 26,
   "id": "9ccf636c",
   "metadata": {},
   "outputs": [
    {
     "data": {
      "text/plain": [
       "'Hello world!\\nTHis is my first file to write'"
      ]
     },
     "execution_count": 26,
     "metadata": {},
     "output_type": "execute_result"
    }
   ],
   "source": [
    "f.read()"
   ]
  },
  {
   "cell_type": "code",
   "execution_count": 27,
   "id": "5befd665",
   "metadata": {},
   "outputs": [],
   "source": [
    "f = open('sample.txt','r')"
   ]
  },
  {
   "cell_type": "code",
   "execution_count": 28,
   "id": "a964d42d",
   "metadata": {},
   "outputs": [
    {
     "name": "stdout",
     "output_type": "stream",
     "text": [
      "Hello world!\n",
      "\n",
      "THis is my first file to write\n"
     ]
    }
   ],
   "source": [
    "for i in f:\n",
    "    print(i)"
   ]
  },
  {
   "cell_type": "code",
   "execution_count": 36,
   "id": "3a5f4f19",
   "metadata": {},
   "outputs": [
    {
     "name": "stdout",
     "output_type": "stream",
     "text": [
      "Hello world!\n",
      "THis is my first file to write\n"
     ]
    }
   ],
   "source": [
    "f = open('sample.txt','r')\n",
    "for i in f:\n",
    "    print(i.strip())"
   ]
  },
  {
   "cell_type": "code",
   "execution_count": 37,
   "id": "923d8e5d",
   "metadata": {},
   "outputs": [],
   "source": [
    "import os"
   ]
  },
  {
   "cell_type": "code",
   "execution_count": 38,
   "id": "aebd1097",
   "metadata": {},
   "outputs": [
    {
     "data": {
      "text/plain": [
       "43"
      ]
     },
     "execution_count": 38,
     "metadata": {},
     "output_type": "execute_result"
    }
   ],
   "source": [
    "os.path.getsize('sample.txt')"
   ]
  },
  {
   "cell_type": "code",
   "execution_count": 39,
   "id": "5963bc12",
   "metadata": {},
   "outputs": [
    {
     "ename": "PermissionError",
     "evalue": "[WinError 32] The process cannot access the file because it is being used by another process: 'sample.txt'",
     "output_type": "error",
     "traceback": [
      "\u001b[1;31m---------------------------------------------------------------------------\u001b[0m",
      "\u001b[1;31mPermissionError\u001b[0m                           Traceback (most recent call last)",
      "Cell \u001b[1;32mIn[39], line 1\u001b[0m\n\u001b[1;32m----> 1\u001b[0m os\u001b[38;5;241m.\u001b[39mremove(\u001b[38;5;124m'\u001b[39m\u001b[38;5;124msample.txt\u001b[39m\u001b[38;5;124m'\u001b[39m)\n",
      "\u001b[1;31mPermissionError\u001b[0m: [WinError 32] The process cannot access the file because it is being used by another process: 'sample.txt'"
     ]
    }
   ],
   "source": [
    "os.remove('sample.txt')"
   ]
  },
  {
   "cell_type": "code",
   "execution_count": 40,
   "id": "4177a953",
   "metadata": {},
   "outputs": [],
   "source": [
    "f.close()"
   ]
  },
  {
   "cell_type": "code",
   "execution_count": 41,
   "id": "420b63a8",
   "metadata": {},
   "outputs": [],
   "source": [
    "os.remove('sample.txt')"
   ]
  },
  {
   "cell_type": "code",
   "execution_count": 42,
   "id": "597749d6",
   "metadata": {},
   "outputs": [],
   "source": [
    "f = open('sample.txt','w')\n",
    "f.write('Hello world! \\n how are you ?')\n",
    "f.close()"
   ]
  },
  {
   "cell_type": "code",
   "execution_count": 43,
   "id": "e931feef",
   "metadata": {},
   "outputs": [],
   "source": [
    "os.rename('sample.txt','sample1.txt')"
   ]
  },
  {
   "cell_type": "code",
   "execution_count": 44,
   "id": "284beac0",
   "metadata": {},
   "outputs": [],
   "source": [
    "import shutil"
   ]
  },
  {
   "cell_type": "code",
   "execution_count": 45,
   "id": "f5d6ac2c",
   "metadata": {},
   "outputs": [
    {
     "data": {
      "text/plain": [
       "'copied_sample1.txt'"
      ]
     },
     "execution_count": 45,
     "metadata": {},
     "output_type": "execute_result"
    }
   ],
   "source": [
    "shutil.copy('sample1.txt','copied_sample1.txt')"
   ]
  },
  {
   "cell_type": "code",
   "execution_count": 47,
   "id": "b6e1ec3e",
   "metadata": {},
   "outputs": [
    {
     "name": "stdout",
     "output_type": "stream",
     "text": [
      "Hello world! \n",
      " how are you ?\n"
     ]
    }
   ],
   "source": [
    "with open('copied_sample1.txt','r') as f:\n",
    "    print(f.read())"
   ]
  },
  {
   "cell_type": "code",
   "execution_count": 48,
   "id": "e3e4aea9",
   "metadata": {},
   "outputs": [],
   "source": [
    "data = {\n",
    "    \"name\":\"vcd\",\n",
    "    \"mail_id\":\"xyz@gmail.com\",\n",
    "    \"phone_number\":937658412,\n",
    "    \"subject\":[\"data science\",\"web development\",\"app development\"]\n",
    "}"
   ]
  },
  {
   "cell_type": "code",
   "execution_count": 49,
   "id": "ac6c4934",
   "metadata": {},
   "outputs": [],
   "source": [
    "import json"
   ]
  },
  {
   "cell_type": "code",
   "execution_count": 50,
   "id": "4c22e2f4",
   "metadata": {},
   "outputs": [],
   "source": [
    "with open('data.json','w') as f:\n",
    "    json.dump(data,f)"
   ]
  },
  {
   "cell_type": "code",
   "execution_count": 53,
   "id": "beffb1e0",
   "metadata": {},
   "outputs": [],
   "source": [
    "with open('data.json','r') as f:\n",
    "#     print(json.load(f))\n",
    "    data = json.load(f)"
   ]
  },
  {
   "cell_type": "code",
   "execution_count": 54,
   "id": "92a5f5ba",
   "metadata": {},
   "outputs": [
    {
     "data": {
      "text/plain": [
       "{'name': 'vcd',\n",
       " 'mail_id': 'xyz@gmail.com',\n",
       " 'phone_number': 937658412,\n",
       " 'subject': ['data science', 'web development', 'app development']}"
      ]
     },
     "execution_count": 54,
     "metadata": {},
     "output_type": "execute_result"
    }
   ],
   "source": [
    "data"
   ]
  },
  {
   "cell_type": "code",
   "execution_count": 55,
   "id": "7737348e",
   "metadata": {},
   "outputs": [
    {
     "data": {
      "text/plain": [
       "'web development'"
      ]
     },
     "execution_count": 55,
     "metadata": {},
     "output_type": "execute_result"
    }
   ],
   "source": [
    "data['subject'][1]"
   ]
  },
  {
   "cell_type": "code",
   "execution_count": 56,
   "id": "83d1b0f0",
   "metadata": {},
   "outputs": [],
   "source": [
    "import csv"
   ]
  },
  {
   "cell_type": "code",
   "execution_count": 71,
   "id": "1d1701f2",
   "metadata": {},
   "outputs": [],
   "source": [
    "data = [\n",
    "    ['name','phone_number','email_id'],\n",
    "    ['vcd',9647851,'vcd@gmail.com'],\n",
    "    ['cmd',9647851,'vcd@gmail.com'],\n",
    "    ['mcd',9647851,'vcd@gmail.com']\n",
    "]"
   ]
  },
  {
   "cell_type": "code",
   "execution_count": 73,
   "id": "86d2570b",
   "metadata": {},
   "outputs": [],
   "source": [
    "with open('csv_data.txt','w', newline='') as f:\n",
    "    writer = csv.writer(f)\n",
    "    \n",
    "    for i in data:\n",
    "        writer.writerow(i)"
   ]
  },
  {
   "cell_type": "code",
   "execution_count": 74,
   "id": "5f4b7c75",
   "metadata": {},
   "outputs": [
    {
     "name": "stdout",
     "output_type": "stream",
     "text": [
      "['name', 'phone_number', 'email_id']\n",
      "['vcd', '9647851', 'vcd@gmail.com']\n",
      "['cmd', '9647851', 'vcd@gmail.com']\n",
      "['mcd', '9647851', 'vcd@gmail.com']\n"
     ]
    }
   ],
   "source": [
    "with open('csv_data.txt','r') as f:\n",
    "    data = csv.reader(f)\n",
    "    for i in data:\n",
    "        print(i)"
   ]
  },
  {
   "cell_type": "markdown",
   "id": "71f82385",
   "metadata": {},
   "source": [
    "The empty lines were appearing because the csv.writer is writing a blank line after each row by default."
   ]
  },
  {
   "cell_type": "code",
   "execution_count": 76,
   "id": "09b4367e",
   "metadata": {},
   "outputs": [],
   "source": [
    "with open(\"test_binary.bin\",\"wb\") as f:\n",
    "    f.write(b\"\\x01\\x02\\x03\\x777\")"
   ]
  },
  {
   "cell_type": "code",
   "execution_count": 77,
   "id": "0d4ed284",
   "metadata": {},
   "outputs": [
    {
     "name": "stdout",
     "output_type": "stream",
     "text": [
      "b'\\x01\\x02\\x03w7'\n"
     ]
    }
   ],
   "source": [
    "with open(\"test_binary.bin\",\"rb\") as f:\n",
    "    print(f.read())"
   ]
  },
  {
   "cell_type": "code",
   "execution_count": 78,
   "id": "a43b3088",
   "metadata": {},
   "outputs": [],
   "source": [
    "import io"
   ]
  },
  {
   "cell_type": "code",
   "execution_count": 79,
   "id": "7ec2c782",
   "metadata": {},
   "outputs": [],
   "source": [
    "with open('teat_binary2.txt','wb') as f:\n",
    "    file = io.BufferedWriter(f)\n",
    "    \n",
    "    file.write(b\"this is my first line\\n\")\n",
    "    file.write(b\"this is my second line\")\n",
    "    file.flush()"
   ]
  },
  {
   "cell_type": "code",
   "execution_count": 82,
   "id": "3ced69e9",
   "metadata": {},
   "outputs": [
    {
     "name": "stdout",
     "output_type": "stream",
     "text": [
      "b'this is my'\n"
     ]
    }
   ],
   "source": [
    "with open('teat_binary2.txt','rb') as f:\n",
    "    file = io.BufferedReader(f)\n",
    "    \n",
    "    print(file.read(10))"
   ]
  },
  {
   "cell_type": "code",
   "execution_count": null,
   "id": "c4dfec37",
   "metadata": {},
   "outputs": [],
   "source": []
  }
 ],
 "metadata": {
  "kernelspec": {
   "display_name": "Python 3 (ipykernel)",
   "language": "python",
   "name": "python3"
  },
  "language_info": {
   "codemirror_mode": {
    "name": "ipython",
    "version": 3
   },
   "file_extension": ".py",
   "mimetype": "text/x-python",
   "name": "python",
   "nbconvert_exporter": "python",
   "pygments_lexer": "ipython3",
   "version": "3.11.5"
  }
 },
 "nbformat": 4,
 "nbformat_minor": 5
}
