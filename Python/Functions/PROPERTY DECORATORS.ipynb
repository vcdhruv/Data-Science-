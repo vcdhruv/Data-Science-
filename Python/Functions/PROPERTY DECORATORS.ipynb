{
 "cells": [
  {
   "cell_type": "code",
   "execution_count": 42,
   "id": "9574d067",
   "metadata": {},
   "outputs": [],
   "source": [
    "class Vegetables:\n",
    "    \n",
    "    def __init__(self , veg_name , veg_price):\n",
    "        self.veg_name = veg_name\n",
    "        self.__veg_price = veg_price\n",
    "        \n",
    "    @property\n",
    "    def veg_price_access(self):\n",
    "        return self.__veg_price\n",
    "    \n",
    "    \n",
    "    @veg_price_access.setter\n",
    "    def veg_price_modify(self,price):\n",
    "        self.__veg_price = price\n",
    "        \n",
    "        \n",
    "    @veg_price_access.deleter\n",
    "    def veg_price_delete(self):\n",
    "        del self.__veg_price"
   ]
  },
  {
   "cell_type": "code",
   "execution_count": 43,
   "id": "c8f3c522",
   "metadata": {},
   "outputs": [],
   "source": [
    "v = Vegetables(\"onion\",400)"
   ]
  },
  {
   "cell_type": "code",
   "execution_count": 44,
   "id": "5913aeea",
   "metadata": {},
   "outputs": [
    {
     "data": {
      "text/plain": [
       "'onion'"
      ]
     },
     "execution_count": 44,
     "metadata": {},
     "output_type": "execute_result"
    }
   ],
   "source": [
    "v.veg_name"
   ]
  },
  {
   "cell_type": "code",
   "execution_count": 45,
   "id": "d8606125",
   "metadata": {},
   "outputs": [
    {
     "ename": "AttributeError",
     "evalue": "'Vegetables' object has no attribute 'veg_price'",
     "output_type": "error",
     "traceback": [
      "\u001b[1;31m---------------------------------------------------------------------------\u001b[0m",
      "\u001b[1;31mAttributeError\u001b[0m                            Traceback (most recent call last)",
      "\u001b[1;32m~\\AppData\\Local\\Temp\\ipykernel_776\\1481308974.py\u001b[0m in \u001b[0;36m<module>\u001b[1;34m\u001b[0m\n\u001b[1;32m----> 1\u001b[1;33m \u001b[0mv\u001b[0m\u001b[1;33m.\u001b[0m\u001b[0mveg_price\u001b[0m\u001b[1;33m\u001b[0m\u001b[1;33m\u001b[0m\u001b[0m\n\u001b[0m",
      "\u001b[1;31mAttributeError\u001b[0m: 'Vegetables' object has no attribute 'veg_price'"
     ]
    }
   ],
   "source": [
    "v.veg_price"
   ]
  },
  {
   "cell_type": "code",
   "execution_count": 46,
   "id": "55d67b23",
   "metadata": {},
   "outputs": [
    {
     "data": {
      "text/plain": [
       "400"
      ]
     },
     "execution_count": 46,
     "metadata": {},
     "output_type": "execute_result"
    }
   ],
   "source": [
    "v._Vegetables__veg_price"
   ]
  },
  {
   "cell_type": "code",
   "execution_count": 47,
   "id": "db6c5c8c",
   "metadata": {},
   "outputs": [
    {
     "data": {
      "text/plain": [
       "400"
      ]
     },
     "execution_count": 47,
     "metadata": {},
     "output_type": "execute_result"
    }
   ],
   "source": [
    "v.veg_price_access"
   ]
  },
  {
   "cell_type": "code",
   "execution_count": 48,
   "id": "73586100",
   "metadata": {},
   "outputs": [],
   "source": [
    "v.veg_price_modify = 500"
   ]
  },
  {
   "cell_type": "code",
   "execution_count": 55,
   "id": "35e9f5a6",
   "metadata": {},
   "outputs": [
    {
     "data": {
      "text/plain": [
       "500"
      ]
     },
     "execution_count": 55,
     "metadata": {},
     "output_type": "execute_result"
    }
   ],
   "source": [
    "v.veg_price_access"
   ]
  },
  {
   "cell_type": "code",
   "execution_count": 54,
   "id": "e366da6f",
   "metadata": {},
   "outputs": [
    {
     "data": {
      "text/plain": [
       "500"
      ]
     },
     "execution_count": 54,
     "metadata": {},
     "output_type": "execute_result"
    }
   ],
   "source": [
    "v.veg_price_delete"
   ]
  },
  {
   "cell_type": "code",
   "execution_count": 56,
   "id": "abb09a47",
   "metadata": {},
   "outputs": [
    {
     "data": {
      "text/plain": [
       "500"
      ]
     },
     "execution_count": 56,
     "metadata": {},
     "output_type": "execute_result"
    }
   ],
   "source": [
    "v.veg_price_access"
   ]
  },
  {
   "cell_type": "code",
   "execution_count": 58,
   "id": "260aef21",
   "metadata": {},
   "outputs": [],
   "source": [
    "del v.veg_price_delete"
   ]
  },
  {
   "cell_type": "code",
   "execution_count": 59,
   "id": "bec621dd",
   "metadata": {},
   "outputs": [
    {
     "ename": "AttributeError",
     "evalue": "'Vegetables' object has no attribute '_Vegetables__veg_price'",
     "output_type": "error",
     "traceback": [
      "\u001b[1;31m---------------------------------------------------------------------------\u001b[0m",
      "\u001b[1;31mAttributeError\u001b[0m                            Traceback (most recent call last)",
      "\u001b[1;32m~\\AppData\\Local\\Temp\\ipykernel_776\\2079265598.py\u001b[0m in \u001b[0;36m<module>\u001b[1;34m\u001b[0m\n\u001b[1;32m----> 1\u001b[1;33m \u001b[0mv\u001b[0m\u001b[1;33m.\u001b[0m\u001b[0mveg_price_access\u001b[0m\u001b[1;33m\u001b[0m\u001b[1;33m\u001b[0m\u001b[0m\n\u001b[0m",
      "\u001b[1;32m~\\AppData\\Local\\Temp\\ipykernel_776\\3402155366.py\u001b[0m in \u001b[0;36mveg_price_access\u001b[1;34m(self)\u001b[0m\n\u001b[0;32m      7\u001b[0m     \u001b[1;33m@\u001b[0m\u001b[0mproperty\u001b[0m\u001b[1;33m\u001b[0m\u001b[1;33m\u001b[0m\u001b[0m\n\u001b[0;32m      8\u001b[0m     \u001b[1;32mdef\u001b[0m \u001b[0mveg_price_access\u001b[0m\u001b[1;33m(\u001b[0m\u001b[0mself\u001b[0m\u001b[1;33m)\u001b[0m\u001b[1;33m:\u001b[0m\u001b[1;33m\u001b[0m\u001b[1;33m\u001b[0m\u001b[0m\n\u001b[1;32m----> 9\u001b[1;33m         \u001b[1;32mreturn\u001b[0m \u001b[0mself\u001b[0m\u001b[1;33m.\u001b[0m\u001b[0m__veg_price\u001b[0m\u001b[1;33m\u001b[0m\u001b[1;33m\u001b[0m\u001b[0m\n\u001b[0m\u001b[0;32m     10\u001b[0m \u001b[1;33m\u001b[0m\u001b[0m\n\u001b[0;32m     11\u001b[0m \u001b[1;33m\u001b[0m\u001b[0m\n",
      "\u001b[1;31mAttributeError\u001b[0m: 'Vegetables' object has no attribute '_Vegetables__veg_price'"
     ]
    }
   ],
   "source": [
    "v.veg_price_access"
   ]
  },
  {
   "cell_type": "code",
   "execution_count": null,
   "id": "65eab80d",
   "metadata": {},
   "outputs": [],
   "source": []
  }
 ],
 "metadata": {
  "kernelspec": {
   "display_name": "Python 3 (ipykernel)",
   "language": "python",
   "name": "python3"
  },
  "language_info": {
   "codemirror_mode": {
    "name": "ipython",
    "version": 3
   },
   "file_extension": ".py",
   "mimetype": "text/x-python",
   "name": "python",
   "nbconvert_exporter": "python",
   "pygments_lexer": "ipython3",
   "version": "3.9.13"
  }
 },
 "nbformat": 4,
 "nbformat_minor": 5
}
