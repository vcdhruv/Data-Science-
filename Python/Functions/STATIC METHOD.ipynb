{
 "cells": [
  {
   "cell_type": "code",
   "execution_count": 10,
   "id": "8ac59165",
   "metadata": {},
   "outputs": [],
   "source": [
    "class college:\n",
    "    \n",
    "    @staticmethod\n",
    "    def student_details(name):\n",
    "        print(name)"
   ]
  },
  {
   "cell_type": "code",
   "execution_count": 12,
   "id": "3effdb6a",
   "metadata": {},
   "outputs": [
    {
     "name": "stdout",
     "output_type": "stream",
     "text": [
      "vcd\n"
     ]
    }
   ],
   "source": [
    "college.student_details(\"vcd\")"
   ]
  },
  {
   "cell_type": "code",
   "execution_count": 32,
   "id": "748f3c89",
   "metadata": {},
   "outputs": [],
   "source": [
    "class college1:\n",
    "    \n",
    "    def student_details(self,name,email,number):\n",
    "        print(name,email,number)\n",
    "        \n",
    "    @staticmethod\n",
    "    def mentor_mail_id(mail_id_mentor):\n",
    "        print(mail_id_mentor)\n",
    "        \n",
    "    @staticmethod\n",
    "    def mentor_class(list_mentor):\n",
    "        college1.mentor_mail_id([\"vcd@gmail.com\",\"cmd@gmail.com\"])\n",
    "        \n",
    "    @classmethod\n",
    "    def class_name(cls):\n",
    "        cls.mentor_class([\"vcd\",\"cmd\",\"dcd\",\"mcd\"])\n",
    "        \n",
    "       \n",
    "    def mentor(self,mentor_list):\n",
    "        print(mentor_list)\n",
    "        self.mentor_class([\"vcd\",\"cmd\"])"
   ]
  },
  {
   "cell_type": "markdown",
   "id": "e8ea40e0",
   "metadata": {},
   "source": [
    "### Count No of Objects Created"
   ]
  },
  {
   "cell_type": "code",
   "execution_count": 28,
   "id": "1f9dedee",
   "metadata": {},
   "outputs": [],
   "source": [
    "class cal_object:\n",
    "    \n",
    "    count = 0\n",
    "    \n",
    "    def __init__(self):\n",
    "        cal_object.count+=1\n",
    "    \n",
    "    @classmethod\n",
    "    def return_count(cls):\n",
    "        print(cal_object.count)"
   ]
  },
  {
   "cell_type": "code",
   "execution_count": 29,
   "id": "3f067757",
   "metadata": {},
   "outputs": [],
   "source": [
    "a = cal_object()"
   ]
  },
  {
   "cell_type": "code",
   "execution_count": 30,
   "id": "99c214d5",
   "metadata": {},
   "outputs": [],
   "source": [
    "b = cal_object()"
   ]
  },
  {
   "cell_type": "code",
   "execution_count": 31,
   "id": "5496a588",
   "metadata": {},
   "outputs": [
    {
     "name": "stdout",
     "output_type": "stream",
     "text": [
      "2\n"
     ]
    }
   ],
   "source": [
    "cal_object.return_count()"
   ]
  },
  {
   "cell_type": "code",
   "execution_count": null,
   "id": "45385bae",
   "metadata": {},
   "outputs": [],
   "source": []
  }
 ],
 "metadata": {
  "kernelspec": {
   "display_name": "Python 3 (ipykernel)",
   "language": "python",
   "name": "python3"
  },
  "language_info": {
   "codemirror_mode": {
    "name": "ipython",
    "version": 3
   },
   "file_extension": ".py",
   "mimetype": "text/x-python",
   "name": "python",
   "nbconvert_exporter": "python",
   "pygments_lexer": "ipython3",
   "version": "3.9.13"
  }
 },
 "nbformat": 4,
 "nbformat_minor": 5
}
