{
 "cells": [
  {
   "cell_type": "code",
   "execution_count": 1,
   "id": "1a821d92",
   "metadata": {},
   "outputs": [],
   "source": [
    "import requests\n",
    "from bs4 import BeautifulSoup\n",
    "from urllib.request import urlopen\n",
    "import logging\n",
    "import os"
   ]
  },
  {
   "cell_type": "code",
   "execution_count": 2,
   "id": "61d528e2",
   "metadata": {},
   "outputs": [],
   "source": [
    "query = \"sudhanshu kumar\"\n",
    "url = f\"https://www.google.com/search?sca_esv=c1c83ae130d39436&sca_upv=1&sxsrf=ADLYWILjjlNMTWslCdPUF1M5B3u_FKoTLQ:1723014678358&q={query}&udm=2&fbs=AEQNm0BHe81ENDqBETLQnY7GvZ6DKUcIylne0I28qzCfQXwtcYlTAodTr1Xa_rScOC6YSHC26-Ta4NLLiKAenh9N6KJm_uUjinrx1MU13nr2sz51ejm6F1aYI_81hLpkMjCMpBfz-vNdXtCaP1AE6Mw_ZjokA8UmEk00IGP1CNV5IeTSljoD3C33cKxPb4pgr660MLmIAHHrBI4Db16rCKJqdK32OebMFw&sa=X&ved=2ahUKEwj5n-LuqeKHAxUDyjgGHdiDCHEQtKgLegQIHRAB&biw=1707&bih=772&dpr=1.13\""
   ]
  },
  {
   "cell_type": "code",
   "execution_count": 3,
   "id": "1f7ba9cb",
   "metadata": {},
   "outputs": [],
   "source": [
    "save_dir = \"images/\"\n",
    "if not os.path.exists(save_dir):\n",
    "    os.mkdir(save_dir)"
   ]
  },
  {
   "cell_type": "code",
   "execution_count": 4,
   "id": "a7babfe3",
   "metadata": {},
   "outputs": [],
   "source": [
    "headers={\"User-Agent\": \"Mozilla/5.0 (X11; CrOS x86_64 12871.102.0) AppleWebKit/537.36 (KHTML, like Gecko) Chrome/81.0.4044.141 Safari/537.36\"}"
   ]
  },
  {
   "cell_type": "code",
   "execution_count": 7,
   "id": "6319da7e",
   "metadata": {},
   "outputs": [],
   "source": [
    "response = requests.get(url)"
   ]
  },
  {
   "cell_type": "code",
   "execution_count": 10,
   "id": "b5b5aa4c",
   "metadata": {},
   "outputs": [
    {
     "data": {
      "text/plain": [
       "<Response [200]>"
      ]
     },
     "execution_count": 10,
     "metadata": {},
     "output_type": "execute_result"
    }
   ],
   "source": [
    "response"
   ]
  },
  {
   "cell_type": "code",
   "execution_count": 13,
   "id": "57f4518c",
   "metadata": {},
   "outputs": [],
   "source": [
    "soup = BeautifulSoup(response.content,\"html.parser\")"
   ]
  },
  {
   "cell_type": "code",
   "execution_count": 15,
   "id": "68b148b8",
   "metadata": {},
   "outputs": [],
   "source": [
    "images = soup.find_all(\"img\")"
   ]
  },
  {
   "cell_type": "code",
   "execution_count": 16,
   "id": "33fa067e",
   "metadata": {},
   "outputs": [
    {
     "data": {
      "text/plain": [
       "21"
      ]
     },
     "execution_count": 16,
     "metadata": {},
     "output_type": "execute_result"
    }
   ],
   "source": [
    "len(images)"
   ]
  },
  {
   "cell_type": "code",
   "execution_count": 17,
   "id": "9adb7f2c",
   "metadata": {},
   "outputs": [],
   "source": [
    "del images[0]"
   ]
  },
  {
   "cell_type": "code",
   "execution_count": 20,
   "id": "ee9b9a80",
   "metadata": {},
   "outputs": [
    {
     "data": {
      "text/plain": [
       "<img alt=\"\" class=\"DS1iW\" src=\"https://encrypted-tbn0.gstatic.com/images?q=tbn:ANd9GcSxgssUkUKXMS9EdgAvATCeAKC8o-VDSOF8607y1DdA9NwXlRRSwxgqmMuGWQ&amp;s\"/>"
      ]
     },
     "execution_count": 20,
     "metadata": {},
     "output_type": "execute_result"
    }
   ],
   "source": [
    "images[0]"
   ]
  },
  {
   "cell_type": "code",
   "execution_count": 23,
   "id": "1637610f",
   "metadata": {},
   "outputs": [
    {
     "data": {
      "text/plain": [
       "'https://encrypted-tbn0.gstatic.com/images?q=tbn:ANd9GcSxgssUkUKXMS9EdgAvATCeAKC8o-VDSOF8607y1DdA9NwXlRRSwxgqmMuGWQ&s'"
      ]
     },
     "execution_count": 23,
     "metadata": {},
     "output_type": "execute_result"
    }
   ],
   "source": [
    "images[0][\"src\"]"
   ]
  },
  {
   "cell_type": "code",
   "execution_count": 24,
   "id": "82e4e5e5",
   "metadata": {},
   "outputs": [
    {
     "name": "stdout",
     "output_type": "stream",
     "text": [
      "https://encrypted-tbn0.gstatic.com/images?q=tbn:ANd9GcSxgssUkUKXMS9EdgAvATCeAKC8o-VDSOF8607y1DdA9NwXlRRSwxgqmMuGWQ&s\n",
      "https://encrypted-tbn0.gstatic.com/images?q=tbn:ANd9GcScLLrTJ7W5IouGlFwhC_yxgJ11pSvXYdOLvNe-WVXO00kgHMEONl1XQ3L7qQ&s\n",
      "https://encrypted-tbn0.gstatic.com/images?q=tbn:ANd9GcRjUkSyg4dtexnrXZIohPDgi0tWIM-7kZ7E1K6_k-R82L98WR2mEk7B5u2IIQ&s\n",
      "https://encrypted-tbn0.gstatic.com/images?q=tbn:ANd9GcRT4-B0nl-K0t0F4G6JmfLtD4s_h-LPaSbSi5u724ckAdF5gGMzOyQ2oCRlEQ&s\n",
      "https://encrypted-tbn0.gstatic.com/images?q=tbn:ANd9GcQKcFDqSNocctdXX2hz4uqhkQ-jL0tMIU2fitur_CuqbKGMrcXI38mzdX-SYQ&s\n",
      "https://encrypted-tbn0.gstatic.com/images?q=tbn:ANd9GcRfTvaxt136SwTeLNOcn_DhrPO_0OFZoGJn1SfWkFDUKVAs6_8Mn12pB0byL6E&s\n",
      "https://encrypted-tbn0.gstatic.com/images?q=tbn:ANd9GcRJqqj91HwiCew3spWsT24wnAIxT7AkpLEeQYUcNPiU8bc61S0wQHADnuxl0j8&s\n",
      "https://encrypted-tbn0.gstatic.com/images?q=tbn:ANd9GcRLWgn0YmnyE6OhRXy2HTt_SpMYCF5WH7c2HKa9oFLIhoOQ__0asvkR1GzX8Q&s\n",
      "https://encrypted-tbn0.gstatic.com/images?q=tbn:ANd9GcTmvB834oP1kq6N72QvBJiSrC7lBLwZeVczSHfnnqttoMnAMJRKOZ06CUHDgtw&s\n",
      "https://encrypted-tbn0.gstatic.com/images?q=tbn:ANd9GcTUNy1XXjjYhgLj_24gJAAOYAzjTbw-C6XSUNC5EWl8F0RbMSObq91gTxtskQ&s\n",
      "https://encrypted-tbn0.gstatic.com/images?q=tbn:ANd9GcSIQybgmlybpBGymlWP9RkFxj7CgScY0xx4sB2A45ZaIJcdodkUANpOHKXLxg&s\n",
      "https://encrypted-tbn0.gstatic.com/images?q=tbn:ANd9GcSV0emDoPWj5xeMLOp_DHzuDT2kyydng73UcOXIdGetpbVpGJRrk05gqjoOFw&s\n",
      "https://encrypted-tbn0.gstatic.com/images?q=tbn:ANd9GcT6p48WTyIXmcJIRZS0dGxAmb_tefirSYcFbxWZq7zXHlo6akzsIEksWvm48Q&s\n",
      "https://encrypted-tbn0.gstatic.com/images?q=tbn:ANd9GcTydxlexxz-7jJevK8eIoKEdoTgwmG4k8vijIDTm8cWWggL_MefshTvy8t94cI&s\n",
      "https://encrypted-tbn0.gstatic.com/images?q=tbn:ANd9GcTnA_h8zff7E-WqRo284_nm7CITF049sgJj6DJ4h259BLbztgcE1-naYgDfJw&s\n",
      "https://encrypted-tbn0.gstatic.com/images?q=tbn:ANd9GcRjWCZnTCE5qneIfvLWLVKMuT27VS2lGq1JSBDZTl4LTH3GxL5xX6zOtavuzw&s\n",
      "https://encrypted-tbn0.gstatic.com/images?q=tbn:ANd9GcRnI6nSrA6o60dHCIsDqTI_QKwACi3LmyFD2bUzve9oKkot9ZGmw-lgVMgaT-A&s\n",
      "https://encrypted-tbn0.gstatic.com/images?q=tbn:ANd9GcRWOzoBHRfUKrN8-PIxpBUZOG_UN5eVLwZMGgPRVEeQtvDRIpNrcGh4hRwyTg&s\n",
      "https://encrypted-tbn0.gstatic.com/images?q=tbn:ANd9GcRzqpym-QO_BhxhIFaYsVk_x0cZCyULAt-gAy4fzZXuRCjn4TjQV9KGbOnLuQ&s\n",
      "https://encrypted-tbn0.gstatic.com/images?q=tbn:ANd9GcRZN1MKCUAn6yeq2kaLZ5bfelIKu0EbrFI2V9aCJcrGnOcJ7YCFEaczUtGpsPM&s\n"
     ]
    }
   ],
   "source": [
    "for i in images:\n",
    "    print(i[\"src\"])"
   ]
  },
  {
   "cell_type": "code",
   "execution_count": 26,
   "id": "45572bdd",
   "metadata": {},
   "outputs": [],
   "source": [
    "img_data_mongo = []\n",
    "for i in images:\n",
    "    image_url = i[\"src\"]\n",
    "    image_data = requests.get(image_url).content\n",
    "    my_dict = {\"index\":image_url,\"image\":image_data}\n",
    "    img_data_mongo.append(my_dict)\n",
    "    with open(os.path.join(save_dir,f\"{query}_{images.index(i)}.jpg\"),\"wb\") as f:\n",
    "        f.write(image_data)"
   ]
  },
  {
   "cell_type": "code",
   "execution_count": null,
   "id": "3130444b",
   "metadata": {},
   "outputs": [],
   "source": []
  }
 ],
 "metadata": {
  "kernelspec": {
   "display_name": "Python 3 (ipykernel)",
   "language": "python",
   "name": "python3"
  },
  "language_info": {
   "codemirror_mode": {
    "name": "ipython",
    "version": 3
   },
   "file_extension": ".py",
   "mimetype": "text/x-python",
   "name": "python",
   "nbconvert_exporter": "python",
   "pygments_lexer": "ipython3",
   "version": "3.11.5"
  }
 },
 "nbformat": 4,
 "nbformat_minor": 5
}
