{
 "cells": [
  {
   "cell_type": "code",
   "execution_count": 11,
   "id": "04c097e7",
   "metadata": {},
   "outputs": [
    {
     "name": "stdout",
     "output_type": "stream",
     "text": [
      "Hello World\n",
      "enter a:1\n",
      "enter b:2\n",
      "this function does sum of a and b\n",
      "sum of 1 and 2 is 3\n"
     ]
    }
   ],
   "source": [
    "# Q1. How do you comment code in Python? What are the different types of comments?\n",
    "# Comments are ignored by interpretor\n",
    "# There are 3 types of comments:\n",
    "# 1. Single Line Comments\n",
    "# 2. Multiline Comments\n",
    "# 3. Docstring Comments\n",
    "\n",
    "# This is a Single Line Comments..........\n",
    "print(\"Hello World\")\n",
    "\n",
    "\"\"\" Multi-line comment used\n",
    "print(\"Python Comments\") \"\"\"\n",
    "\n",
    "# this is the example of docstring comment\n",
    "def sum(a,b):\n",
    "    \"\"\"this function does sum of a and b\"\"\"\n",
    "    return a+b\n",
    "a = int(input(\"enter a:\"))\n",
    "b = int(input(\"enter b:\"))\n",
    "print(sum.__doc__)\n",
    "print(f\"sum of {a} and {b} is {sum(a,b)}\")\n",
    "\n"
   ]
  },
  {
   "cell_type": "code",
   "execution_count": 12,
   "id": "ded10309",
   "metadata": {},
   "outputs": [
    {
     "name": "stdout",
     "output_type": "stream",
     "text": [
      "variables are containers for storing data values\n",
      "Python has no commad for declaring variable it is created the moment you first assign a value to it\n",
      "abd\n"
     ]
    }
   ],
   "source": [
    "# Q2. What are variables in Python? How do you declare and assign values to variables?\n",
    "\n",
    "print(\"variables are containers for storing data values\")\n",
    "print(\"Python has no commad for declaring variable it is created the moment you first assign a value to it\")\n",
    "a = \"abd\"\n",
    "print(a)\n"
   ]
  },
  {
   "cell_type": "code",
   "execution_count": 15,
   "id": "71487152",
   "metadata": {},
   "outputs": [
    {
     "name": "stdout",
     "output_type": "stream",
     "text": [
      "we can convert one data type to another with type casting\n",
      "there are two types:\n",
      "Implicit type conversion\n",
      "<class 'int'>\n",
      "<class 'float'>\n",
      "<class 'float'>\n",
      "Explicit type conversion\n",
      "<class 'str'>\n",
      "<class 'int'>\n"
     ]
    }
   ],
   "source": [
    "# Q3. How do you convert one data type to another in Python?\n",
    "\n",
    "print(\"we can convert one data type to another with type casting\")\n",
    "print(\"there are two types:\")\n",
    "\n",
    "print(\"Implicit type conversion\")\n",
    "x = 1\n",
    "print(type(x))\n",
    "y = 0.2\n",
    "print(type(y))\n",
    "c = x + y \n",
    "print(type(c))\n",
    "\n",
    "\n",
    "print(\"Explicit type conversion\")\n",
    "a = \"1\"\n",
    "print(type(a))\n",
    "a = int(a)\n",
    "print(type(a))"
   ]
  },
  {
   "cell_type": "code",
   "execution_count": 16,
   "id": "32aefbde",
   "metadata": {},
   "outputs": [
    {
     "name": "stdout",
     "output_type": "stream",
     "text": [
      "First write a code in any IDE and then save the file then open the cmd then go to the directory where the file has been saved and then run the file by running the command python filename.py\n"
     ]
    }
   ],
   "source": [
    "# Q4. How do you write and execute a Python script from the command line?\n",
    "\n",
    "print(\"First write a code in any IDE and then save the file then open the cmd then go to the directory where the file has been saved and then run the file by running the command python filename.py\")"
   ]
  },
  {
   "cell_type": "code",
   "execution_count": 17,
   "id": "189dd01c",
   "metadata": {},
   "outputs": [
    {
     "name": "stdout",
     "output_type": "stream",
     "text": [
      "[2, 3]\n"
     ]
    }
   ],
   "source": [
    "# Q5. Given a list my_list = [1, 2, 3, 4, 5], write the code to slice the list and obtain the sub-list [2, 3].\n",
    "\n",
    "my_list = [1,2,3,4,5]\n",
    "print(my_list[1:3])"
   ]
  },
  {
   "cell_type": "code",
   "execution_count": 18,
   "id": "22ff5e55",
   "metadata": {},
   "outputs": [
    {
     "name": "stdout",
     "output_type": "stream",
     "text": [
      "Complex number is a combination of real number and an imaginary number..\n",
      "real number: 5.0\n",
      "imaginary number: 4.0\n"
     ]
    }
   ],
   "source": [
    "# Q6. What is a complex number in mathematics, and how is it represented in Python?\n",
    "\n",
    "print(\"Complex number is a combination of real number and an imaginary number..\")\n",
    "\n",
    "cmplx_num = 5+4j\n",
    "print(f\"real number: {cmplx_num.real}\")\n",
    "print(f\"imaginary number: {cmplx_num.imag}\")"
   ]
  },
  {
   "cell_type": "code",
   "execution_count": 20,
   "id": "5d29f3de",
   "metadata": {},
   "outputs": [
    {
     "name": "stdout",
     "output_type": "stream",
     "text": [
      "age is 25\n"
     ]
    }
   ],
   "source": [
    "# Q7. What is the correct way to declare a variable named age and assign the value 25 to it?\n",
    "\n",
    "age = 25\n",
    "\n",
    "print(f\"age is {age}\")"
   ]
  },
  {
   "cell_type": "code",
   "execution_count": 21,
   "id": "487b1077",
   "metadata": {},
   "outputs": [
    {
     "name": "stdout",
     "output_type": "stream",
     "text": [
      "<class 'float'>\n"
     ]
    }
   ],
   "source": [
    "# Q8. Declare a variable named price and assign the value 9.99 to it. What data type does this variable belong to?\n",
    "\n",
    "price = 9.99 \n",
    "\n",
    "print(type(price))"
   ]
  },
  {
   "cell_type": "code",
   "execution_count": 22,
   "id": "60c79651",
   "metadata": {},
   "outputs": [
    {
     "name": "stdout",
     "output_type": "stream",
     "text": [
      "vishmay chetanbhai dhruv\n"
     ]
    }
   ],
   "source": [
    "# Q9. Create a variable named name and assign your full name to it as a string. How would you print the value of this variable?\n",
    "\n",
    "name = \"vishmay chetanbhai dhruv\"\n",
    "\n",
    "print(name)"
   ]
  },
  {
   "cell_type": "code",
   "execution_count": 24,
   "id": "35ab11f8",
   "metadata": {},
   "outputs": [
    {
     "name": "stdout",
     "output_type": "stream",
     "text": [
      "World\n"
     ]
    }
   ],
   "source": [
    "# Q10. Given the string \"Hello, World!\", extract the substring \"World\".\n",
    "\n",
    "x = \"Hello, World!\"\n",
    "print(x[7:12])"
   ]
  },
  {
   "cell_type": "code",
   "execution_count": 25,
   "id": "ebb5afbb",
   "metadata": {},
   "outputs": [
    {
     "name": "stdout",
     "output_type": "stream",
     "text": [
      "True\n"
     ]
    }
   ],
   "source": [
    "# Q11. Create a variable named \"is_student\" and assign it a boolean value indicating whether you are currently a student or not.\n",
    "\n",
    "is_student = True\n",
    "print(is_student)"
   ]
  },
  {
   "cell_type": "code",
   "execution_count": null,
   "id": "a41b72ce",
   "metadata": {},
   "outputs": [],
   "source": []
  }
 ],
 "metadata": {
  "kernelspec": {
   "display_name": "Python 3 (ipykernel)",
   "language": "python",
   "name": "python3"
  },
  "language_info": {
   "codemirror_mode": {
    "name": "ipython",
    "version": 3
   },
   "file_extension": ".py",
   "mimetype": "text/x-python",
   "name": "python",
   "nbconvert_exporter": "python",
   "pygments_lexer": "ipython3",
   "version": "3.9.13"
  }
 },
 "nbformat": 4,
 "nbformat_minor": 5
}
