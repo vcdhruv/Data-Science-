{
 "cells": [
  {
   "cell_type": "code",
   "execution_count": 1,
   "id": "6d05ce62",
   "metadata": {},
   "outputs": [],
   "source": [
    "l = [1,2,3,4,5,[1,2,3],\"vishmay\",\"dhruv\"]"
   ]
  },
  {
   "cell_type": "code",
   "execution_count": 2,
   "id": "985bdac7",
   "metadata": {},
   "outputs": [],
   "source": [
    "l_int = []\n",
    "l_str = []"
   ]
  },
  {
   "cell_type": "code",
   "execution_count": 3,
   "id": "b1e1801b",
   "metadata": {},
   "outputs": [],
   "source": [
    "import logging"
   ]
  },
  {
   "cell_type": "code",
   "execution_count": 4,
   "id": "79df1e8c",
   "metadata": {},
   "outputs": [],
   "source": [
    "logging.basicConfig(filename=\"list.log\",level=logging.INFO,format='%(asctime)s %(message)s')"
   ]
  },
  {
   "cell_type": "code",
   "execution_count": 5,
   "id": "37716f92",
   "metadata": {},
   "outputs": [],
   "source": [
    "for i in l:\n",
    "    logging.info(\"element : \"+str(i)+\" is selected , integer list : \"+str(l_int)+\" , string list : \"+str(l_str))\n",
    "    if type(i) == int:\n",
    "        logging.info(\"selected element is integer..\")\n",
    "        l_int.append(i)\n",
    "    elif type(i) == str:\n",
    "        logging.info(\"selected element is string..\")\n",
    "        l_str.append(j)\n",
    "    else:\n",
    "        logging.info(\"selected element is list..\")\n",
    "        if type(i) == list:\n",
    "            for j in i:\n",
    "                logging.info(\"In list element : \"+str(j))\n",
    "                if type(j) == int:\n",
    "                    l_int.append(j)\n",
    "                elif type(j) == str:\n",
    "                    l_str.append(j)\n",
    "                    \n",
    "            "
   ]
  },
  {
   "cell_type": "code",
   "execution_count": 19,
   "id": "77894f73",
   "metadata": {},
   "outputs": [],
   "source": [
    "logging.warning(\"Final Integer List is \"+str(l_int))\n",
    "logging.warning(\"Final Str List is \"+str(l_str))"
   ]
  },
  {
   "cell_type": "code",
   "execution_count": null,
   "id": "50d6b43e",
   "metadata": {},
   "outputs": [],
   "source": []
  }
 ],
 "metadata": {
  "kernelspec": {
   "display_name": "Python 3 (ipykernel)",
   "language": "python",
   "name": "python3"
  },
  "language_info": {
   "codemirror_mode": {
    "name": "ipython",
    "version": 3
   },
   "file_extension": ".py",
   "mimetype": "text/x-python",
   "name": "python",
   "nbconvert_exporter": "python",
   "pygments_lexer": "ipython3",
   "version": "3.11.5"
  }
 },
 "nbformat": 4,
 "nbformat_minor": 5
}
