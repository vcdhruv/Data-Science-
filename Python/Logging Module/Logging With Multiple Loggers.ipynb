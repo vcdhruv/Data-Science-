{
 "cells": [
  {
   "cell_type": "code",
   "execution_count": 1,
   "id": "c51cc6df",
   "metadata": {},
   "outputs": [],
   "source": [
    "import logging"
   ]
  },
  {
   "cell_type": "code",
   "execution_count": 2,
   "id": "68b82ea2",
   "metadata": {},
   "outputs": [],
   "source": [
    "logger1 = logging.getLogger(\"module1\")\n",
    "logger1.setLevel(logging.DEBUG)"
   ]
  },
  {
   "cell_type": "code",
   "execution_count": 3,
   "id": "a2bb7211",
   "metadata": {},
   "outputs": [],
   "source": [
    "logger2 = logging.getLogger(\"module2\")\n",
    "logger2.setLevel(logging.WARNING)"
   ]
  },
  {
   "cell_type": "code",
   "execution_count": 4,
   "id": "565bafdc",
   "metadata": {},
   "outputs": [],
   "source": [
    "logging.basicConfig(level=logging.DEBUG,format=\"%(asctime)s-%(name)s-%(levelname)s-%(message)s\",datefmt=\"%Y-%m-%d %H:%M:%S\")"
   ]
  },
  {
   "cell_type": "code",
   "execution_count": 5,
   "id": "7f1644b9",
   "metadata": {},
   "outputs": [
    {
     "name": "stderr",
     "output_type": "stream",
     "text": [
      "2024-08-03 15:36:45-module1-DEBUG-this is debug msg of module1\n",
      "2024-08-03 15:36:45-module1-INFO-this is info msg of module1\n",
      "2024-08-03 15:36:45-module2-WARNING-this is warning msg of module2\n"
     ]
    }
   ],
   "source": [
    "logger1.debug(\"this is debug msg of module1\")\n",
    "logger1.info(\"this is info msg of module1\")\n",
    "logger2.warning(\"this is warning msg of module2\")"
   ]
  },
  {
   "cell_type": "code",
   "execution_count": null,
   "id": "539525d6",
   "metadata": {},
   "outputs": [],
   "source": []
  }
 ],
 "metadata": {
  "kernelspec": {
   "display_name": "Python 3 (ipykernel)",
   "language": "python",
   "name": "python3"
  },
  "language_info": {
   "codemirror_mode": {
    "name": "ipython",
    "version": 3
   },
   "file_extension": ".py",
   "mimetype": "text/x-python",
   "name": "python",
   "nbconvert_exporter": "python",
   "pygments_lexer": "ipython3",
   "version": "3.11.5"
  }
 },
 "nbformat": 4,
 "nbformat_minor": 5
}
