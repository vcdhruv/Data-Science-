{
 "cells": [
  {
   "cell_type": "code",
   "execution_count": 1,
   "id": "4921d8d7",
   "metadata": {},
   "outputs": [],
   "source": [
    "class validate_age(Exception):\n",
    "    \n",
    "    def __init__(self,msg):\n",
    "        self.msg = msg\n",
    "        "
   ]
  },
  {
   "cell_type": "code",
   "execution_count": 2,
   "id": "53eada8d",
   "metadata": {},
   "outputs": [],
   "source": [
    "def valid_age(age):\n",
    "    \n",
    "    if age < 0:\n",
    "        raise validate_age(\"Age Is Negative\")\n",
    "    elif age > 150:\n",
    "        raise validate_age(\"Age Is Too High\")\n",
    "    else : \n",
    "        print(\"Valid Age\")"
   ]
  },
  {
   "cell_type": "code",
   "execution_count": 6,
   "id": "8efa0ba7",
   "metadata": {},
   "outputs": [
    {
     "name": "stdout",
     "output_type": "stream",
     "text": [
      "Enter your age:2\n",
      "Valid Age\n"
     ]
    }
   ],
   "source": [
    "try:\n",
    "    valid_age(int(input(\"Enter your age:\")))\n",
    "except validate_age as e:\n",
    "    print(e)"
   ]
  },
  {
   "cell_type": "code",
   "execution_count": null,
   "id": "ca9829bd",
   "metadata": {},
   "outputs": [],
   "source": []
  }
 ],
 "metadata": {
  "kernelspec": {
   "display_name": "Python 3 (ipykernel)",
   "language": "python",
   "name": "python3"
  },
  "language_info": {
   "codemirror_mode": {
    "name": "ipython",
    "version": 3
   },
   "file_extension": ".py",
   "mimetype": "text/x-python",
   "name": "python",
   "nbconvert_exporter": "python",
   "pygments_lexer": "ipython3",
   "version": "3.9.13"
  }
 },
 "nbformat": 4,
 "nbformat_minor": 5
}
