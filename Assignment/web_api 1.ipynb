{
 "cells": [
  {
   "cell_type": "markdown",
   "metadata": {},
   "source": [
    "What is an API? Give an example, where an API is used in real life"
   ]
  },
  {
   "cell_type": "code",
   "execution_count": 1,
   "metadata": {},
   "outputs": [
    {
     "name": "stdout",
     "output_type": "stream",
     "text": [
      "An API (Application Programming Interface) is a set of rules and protocols that allows different software applications to communicate with each other.Some real life examples are Google Maps,PayPal,GPay,Weather apps (like AccuWeather),Spotify and many more.\n"
     ]
    }
   ],
   "source": [
    "print(\"An API (Application Programming Interface) is a set of rules and protocols that allows different software applications to communicate with each other.Some real life examples are Google Maps,PayPal,GPay,Weather apps (like AccuWeather),Spotify and many more.\")"
   ]
  },
  {
   "cell_type": "markdown",
   "metadata": {},
   "source": [
    "Give advantages and disadvantages of using API."
   ]
  },
  {
   "cell_type": "code",
   "execution_count": 3,
   "metadata": {},
   "outputs": [
    {
     "name": "stdout",
     "output_type": "stream",
     "text": [
      "Advantages : \n",
      "Scalability,Efficiency,Security,Maintenance and Updates,Innovation\n",
      "Disadvantages : \n",
      "Compatibility Issues,Cost,Performance Overhead,Security Risks\n"
     ]
    }
   ],
   "source": [
    "print(\"Advantages : \")\n",
    "print(\"Scalability,Efficiency,Security,Maintenance and Updates,Innovation\")\n",
    "print(\"Disadvantages : \")\n",
    "print(\"Compatibility Issues,Cost,Performance Overhead,Security Risks\")"
   ]
  },
  {
   "cell_type": "markdown",
   "metadata": {},
   "source": [
    "What is a Web API? Differentiate between API and Web API."
   ]
  },
  {
   "cell_type": "code",
   "execution_count": 11,
   "metadata": {},
   "outputs": [
    {
     "name": "stdout",
     "output_type": "stream",
     "text": [
      "A Web API (Web Application Programming Interface) is a specific type of API designed to be used over the internet via web protocols. It allows different applications to communicate with each other using HTTP/HTTPS requests.\n",
      "\n",
      "Scope\n",
      "API : General term for protocols and tools in software development\n",
      "\n",
      "Web Api :  Subset of APIs designed for web interactions\n",
      "\n",
      "Communication Protocol\n",
      "API : Various protocols (e.g., HTTP, TCP/IP, etc.)\n",
      "\n",
      "Web Api :  Specifically HTTP/HTTPS\n",
      "\n",
      "Accessibility\n",
      "API : Can be local or remote, used within systems, software applications, or hardware\n",
      "\n",
      "Web Api :  Typically accessed over the internet or intranet\n",
      "\n",
      "Examples\n",
      "API : Operating System APIs (e.g., Windows API), Library APIs (e.g., Java API), Hardware APIs (e.g., DirectX)\n",
      "\n",
      "Web Api :  RESTful APIs, SOAP APIs, GraphQL APIs (e.g., Google Maps API, Twitter API, Spotify API)\n",
      "\n",
      "Data Format\n",
      "API : Varies (e.g., binary, plain text, JSON, XML)\n",
      "\n",
      "Web Api :  Commonly text-based formats like JSON or XML\n",
      "\n",
      "Use Case\n",
      "API : Inter-component communication in software, hardware-software interaction\n",
      "\n",
      "Web Api :  Web-based services and application interaction\n"
     ]
    }
   ],
   "source": [
    "print(\"A Web API (Web Application Programming Interface) is a specific type of API designed to be used over the internet via web protocols. It allows different applications to communicate with each other using HTTP/HTTPS requests.\")\n",
    "features = [\n",
    "    \"Scope\",\n",
    "    \"Communication Protocol\",\n",
    "    \"Accessibility\",\n",
    "    \"Examples\",\n",
    "    \"Data Format\",\n",
    "    \"Use Case\"\n",
    "]\n",
    "\n",
    "api = [\n",
    "    \"General term for protocols and tools in software development\",\n",
    "    \"Various protocols (e.g., HTTP, TCP/IP, etc.)\",\n",
    "    \"Can be local or remote, used within systems, software applications, or hardware\",\n",
    "    \"Operating System APIs (e.g., Windows API), Library APIs (e.g., Java API), Hardware APIs (e.g., DirectX)\",\n",
    "    \"Varies (e.g., binary, plain text, JSON, XML)\",\n",
    "    \"Inter-component communication in software, hardware-software interaction\"\n",
    "]\n",
    "\n",
    "web_api = [\n",
    "    \"Subset of APIs designed for web interactions\",\n",
    "    \"Specifically HTTP/HTTPS\",\n",
    "    \"Typically accessed over the internet or intranet\",\n",
    "    \"RESTful APIs, SOAP APIs, GraphQL APIs (e.g., Google Maps API, Twitter API, Spotify API)\",\n",
    "    \"Commonly text-based formats like JSON or XML\",\n",
    "    \"Web-based services and application interaction\"\n",
    "]\n",
    "for i in range(len(features)):\n",
    "    print(\"\\n\"+features[i])\n",
    "    print(\"API : \"+api[i]+\"\\n\")\n",
    "    print(\"Web Api : \",web_api[i])\n"
   ]
  },
  {
   "cell_type": "markdown",
   "metadata": {},
   "source": [
    "Explain REST and SOAP Architecture. Mention shortcomings of SOAP."
   ]
  },
  {
   "cell_type": "code",
   "execution_count": 13,
   "metadata": {},
   "outputs": [
    {
     "name": "stdout",
     "output_type": "stream",
     "text": [
      "REST (Representational State Transfer) is an architectural style for designing networked applications. It relies on a stateless, client-server communication model and uses standard HTTP methods.\n",
      "\n",
      "SOAP (Simple Object Access Protocol) is a protocol for exchanging structured information in the implementation of web services. It relies on XML-based messaging to communicate between two applications over a network.\n",
      "\n",
      "Shortcomings of SOAP : \n",
      "Complexity,Overhead,Performance,Tight Coupling,Less Flexibility,Firewall Issues\n"
     ]
    }
   ],
   "source": [
    "print(\"REST (Representational State Transfer) is an architectural style for designing networked applications. It relies on a stateless, client-server communication model and uses standard HTTP methods.\")\n",
    "print(\"\\nSOAP (Simple Object Access Protocol) is a protocol for exchanging structured information in the implementation of web services. It relies on XML-based messaging to communicate between two applications over a network.\")\n",
    "print(\"\\nShortcomings of SOAP : \")\n",
    "print(\"Complexity,Overhead,Performance,Tight Coupling,Less Flexibility,Firewall Issues\")"
   ]
  },
  {
   "cell_type": "markdown",
   "metadata": {},
   "source": [
    "Differentiate between REST and SOAP."
   ]
  },
  {
   "cell_type": "code",
   "execution_count": 14,
   "metadata": {},
   "outputs": [
    {
     "name": "stdout",
     "output_type": "stream",
     "text": [
      "\n",
      "Architecture Style vs Protocol\n",
      "\n",
      "Rest : An architectural style\n",
      "\n",
      "Soap : A protocol\n",
      "\n",
      "Communication Method\n",
      "\n",
      "Rest : Uses standard HTTP methods (GET, POST, PUT, DELETE)\n",
      "\n",
      "Soap : Can use multiple protocols, including HTTP, SMTP, and TCP\n",
      "\n",
      "Message Format\n",
      "\n",
      "Rest : Typically uses JSON or XML\n",
      "\n",
      "Soap : Uses XML\n",
      "\n",
      "Statelessness\n",
      "\n",
      "Rest : Stateless, each request contains all the information needed\n",
      "\n",
      "Soap : Can be stateful or stateless\n",
      "\n",
      "Performance\n",
      "\n",
      "Rest : Generally faster due to less overhead and simpler message format\n",
      "\n",
      "Soap : Can be slower due to XML processing and more complex structure\n",
      "\n",
      "Security\n",
      "\n",
      "Rest : Relies on underlying transport protocol security (e.g., HTTPS)\n",
      "\n",
      "Soap : Built-in security features like WS-Security\n",
      "\n",
      "Transaction Support\n",
      "\n",
      "Rest : Does not have built-in transaction support\n",
      "\n",
      "Soap : Supports ACID transactions\n",
      "\n",
      "Caching\n",
      "\n",
      "Rest : Supports caching of responses\n",
      "\n",
      "Soap : Generally not designed with caching in mind\n",
      "\n",
      "Flexibility\n",
      "\n",
      "Rest : More flexible, can use various data formats\n",
      "\n",
      "Soap : Less flexible, primarily XML\n",
      "\n",
      "Contract\n",
      "\n",
      "Rest : No formal contract, uses standard web technologies\n",
      "\n",
      "Soap : Uses WSDL for formal contracts\n",
      "\n",
      "Complexity\n",
      "\n",
      "Rest : Simpler to implement\n",
      "\n",
      "Soap : More complex due to various standards and specifications\n",
      "\n",
      "Error Handling\n",
      "\n",
      "Rest : Uses HTTP status codes\n",
      "\n",
      "Soap : Uses SOAP-specific error handling\n",
      "\n",
      "Tools and Standards\n",
      "\n",
      "Rest : No strict standards, but commonly used practices\n",
      "\n",
      "Soap : Strict standards and extensive tool support\n",
      "\n",
      "Use Cases\n",
      "\n",
      "Rest : Ideal for web applications, public APIs, mobile services\n",
      "\n",
      "Soap : Ideal for enterprise-level services, scenarios requiring high security and transactional reliability\n"
     ]
    }
   ],
   "source": [
    "headings = [\n",
    "    \"Architecture Style vs Protocol\",\n",
    "    \"Communication Method\",\n",
    "    \"Message Format\",\n",
    "    \"Statelessness\",\n",
    "    \"Performance\",\n",
    "    \"Security\",\n",
    "    \"Transaction Support\",\n",
    "    \"Caching\",\n",
    "    \"Flexibility\",\n",
    "    \"Contract\",\n",
    "    \"Complexity\",\n",
    "    \"Error Handling\",\n",
    "    \"Tools and Standards\",\n",
    "    \"Use Cases\"\n",
    "]\n",
    "\n",
    "\n",
    "rest = [\n",
    "    \"An architectural style\",\n",
    "    \"Uses standard HTTP methods (GET, POST, PUT, DELETE)\",\n",
    "    \"Typically uses JSON or XML\",\n",
    "    \"Stateless, each request contains all the information needed\",\n",
    "    \"Generally faster due to less overhead and simpler message format\",\n",
    "    \"Relies on underlying transport protocol security (e.g., HTTPS)\",\n",
    "    \"Does not have built-in transaction support\",\n",
    "    \"Supports caching of responses\",\n",
    "    \"More flexible, can use various data formats\",\n",
    "    \"No formal contract, uses standard web technologies\",\n",
    "    \"Simpler to implement\",\n",
    "    \"Uses HTTP status codes\",\n",
    "    \"No strict standards, but commonly used practices\",\n",
    "    \"Ideal for web applications, public APIs, mobile services\"\n",
    "]\n",
    "\n",
    "\n",
    "soap = [\n",
    "    \"A protocol\",\n",
    "    \"Can use multiple protocols, including HTTP, SMTP, and TCP\",\n",
    "    \"Uses XML\",\n",
    "    \"Can be stateful or stateless\",\n",
    "    \"Can be slower due to XML processing and more complex structure\",\n",
    "    \"Built-in security features like WS-Security\",\n",
    "    \"Supports ACID transactions\",\n",
    "    \"Generally not designed with caching in mind\",\n",
    "    \"Less flexible, primarily XML\",\n",
    "    \"Uses WSDL for formal contracts\",\n",
    "    \"More complex due to various standards and specifications\",\n",
    "    \"Uses SOAP-specific error handling\",\n",
    "    \"Strict standards and extensive tool support\",\n",
    "    \"Ideal for enterprise-level services, scenarios requiring high security and transactional reliability\"\n",
    "]\n",
    "\n",
    "for i in range(len(headings)):\n",
    "    print(\"\\n\"+headings[i])\n",
    "    print(\"\\n\"+\"Rest : \"+rest[i])\n",
    "    print('\\n'+\"Soap : \"+soap[i])"
   ]
  },
  {
   "cell_type": "code",
   "execution_count": null,
   "metadata": {},
   "outputs": [],
   "source": []
  }
 ],
 "metadata": {
  "kernelspec": {
   "display_name": "Python 3 (ipykernel)",
   "language": "python",
   "name": "python3"
  },
  "language_info": {
   "codemirror_mode": {
    "name": "ipython",
    "version": 3
   },
   "file_extension": ".py",
   "mimetype": "text/x-python",
   "name": "python",
   "nbconvert_exporter": "python",
   "pygments_lexer": "ipython3",
   "version": "3.11.5"
  }
 },
 "nbformat": 4,
 "nbformat_minor": 2
}
