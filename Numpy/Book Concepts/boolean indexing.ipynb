{
 "cells": [
  {
   "cell_type": "code",
   "execution_count": 1,
   "metadata": {},
   "outputs": [],
   "source": [
    "import numpy as np"
   ]
  },
  {
   "cell_type": "code",
   "execution_count": 2,
   "metadata": {},
   "outputs": [],
   "source": [
    "names = np.array(['Bob', 'Joe', 'Will', 'Bob', 'Will', 'Joe', 'Joe'])"
   ]
  },
  {
   "cell_type": "code",
   "execution_count": 3,
   "metadata": {},
   "outputs": [],
   "source": [
    "data = np.random.randn(7, 4)"
   ]
  },
  {
   "cell_type": "code",
   "execution_count": 4,
   "metadata": {},
   "outputs": [
    {
     "data": {
      "text/plain": [
       "array(['Bob', 'Joe', 'Will', 'Bob', 'Will', 'Joe', 'Joe'], dtype='<U4')"
      ]
     },
     "execution_count": 4,
     "metadata": {},
     "output_type": "execute_result"
    }
   ],
   "source": [
    "names"
   ]
  },
  {
   "cell_type": "code",
   "execution_count": 5,
   "metadata": {},
   "outputs": [
    {
     "data": {
      "text/plain": [
       "array([[-1.09599551e+00,  1.14290575e+00,  1.21721249e-01,\n",
       "         6.04072508e-02],\n",
       "       [ 1.36091830e-02, -1.65076627e+00, -1.24704037e+00,\n",
       "        -9.61113358e-01],\n",
       "       [-2.12822024e-01,  1.91416003e-01,  7.80468295e-01,\n",
       "         9.04330531e-01],\n",
       "       [-1.18692544e+00,  3.13866202e-01, -8.07550912e-01,\n",
       "         1.74038910e+00],\n",
       "       [-1.56324824e-01,  7.27990815e-01,  1.70597528e-03,\n",
       "         6.84843946e-01],\n",
       "       [-5.00394608e-01,  4.51322081e-01,  1.52165463e+00,\n",
       "        -3.35455329e-01],\n",
       "       [ 1.25392598e+00,  4.29790646e-01,  2.93297255e-01,\n",
       "        -7.79644847e-01]])"
      ]
     },
     "execution_count": 5,
     "metadata": {},
     "output_type": "execute_result"
    }
   ],
   "source": [
    "data"
   ]
  },
  {
   "cell_type": "markdown",
   "metadata": {},
   "source": [
    "#### Suppose each name corresponds to a row in the data array and we wanted to select all the rows with corresponding name 'Bob'."
   ]
  },
  {
   "cell_type": "code",
   "execution_count": 8,
   "metadata": {},
   "outputs": [
    {
     "name": "stdout",
     "output_type": "stream",
     "text": [
      "7\n",
      "7\n"
     ]
    }
   ],
   "source": [
    "print(len(names))\n",
    "print(len(data))"
   ]
  },
  {
   "cell_type": "code",
   "execution_count": 6,
   "metadata": {},
   "outputs": [
    {
     "data": {
      "text/plain": [
       "array([ True, False, False,  True, False, False, False])"
      ]
     },
     "execution_count": 6,
     "metadata": {},
     "output_type": "execute_result"
    }
   ],
   "source": [
    "names == 'Bob'"
   ]
  },
  {
   "cell_type": "code",
   "execution_count": 7,
   "metadata": {},
   "outputs": [
    {
     "data": {
      "text/plain": [
       "array([[-1.09599551,  1.14290575,  0.12172125,  0.06040725],\n",
       "       [-1.18692544,  0.3138662 , -0.80755091,  1.7403891 ]])"
      ]
     },
     "execution_count": 7,
     "metadata": {},
     "output_type": "execute_result"
    }
   ],
   "source": [
    "data[names == 'Bob']"
   ]
  },
  {
   "cell_type": "code",
   "execution_count": 9,
   "metadata": {},
   "outputs": [
    {
     "data": {
      "text/plain": [
       "array([[ 0.12172125,  0.06040725],\n",
       "       [-0.80755091,  1.7403891 ]])"
      ]
     },
     "execution_count": 9,
     "metadata": {},
     "output_type": "execute_result"
    }
   ],
   "source": [
    "data[names == 'Bob' , 2:]"
   ]
  },
  {
   "cell_type": "code",
   "execution_count": 10,
   "metadata": {},
   "outputs": [
    {
     "data": {
      "text/plain": [
       "array([0.06040725, 1.7403891 ])"
      ]
     },
     "execution_count": 10,
     "metadata": {},
     "output_type": "execute_result"
    }
   ],
   "source": [
    "data[names == 'Bob' , 3]"
   ]
  },
  {
   "cell_type": "code",
   "execution_count": 11,
   "metadata": {},
   "outputs": [
    {
     "data": {
      "text/plain": [
       "array([False,  True,  True, False,  True,  True,  True])"
      ]
     },
     "execution_count": 11,
     "metadata": {},
     "output_type": "execute_result"
    }
   ],
   "source": [
    "names != 'Bob'"
   ]
  },
  {
   "cell_type": "code",
   "execution_count": 12,
   "metadata": {},
   "outputs": [
    {
     "data": {
      "text/plain": [
       "array([[ 0.01360918, -1.65076627, -1.24704037, -0.96111336],\n",
       "       [-0.21282202,  0.191416  ,  0.78046829,  0.90433053],\n",
       "       [-0.15632482,  0.72799081,  0.00170598,  0.68484395],\n",
       "       [-0.50039461,  0.45132208,  1.52165463, -0.33545533],\n",
       "       [ 1.25392598,  0.42979065,  0.29329725, -0.77964485]])"
      ]
     },
     "execution_count": 12,
     "metadata": {},
     "output_type": "execute_result"
    }
   ],
   "source": [
    "data[~(names == 'Bob')]"
   ]
  },
  {
   "cell_type": "code",
   "execution_count": 13,
   "metadata": {},
   "outputs": [],
   "source": [
    "cond = names == 'Bob'"
   ]
  },
  {
   "cell_type": "code",
   "execution_count": 14,
   "metadata": {},
   "outputs": [
    {
     "data": {
      "text/plain": [
       "array([[ 0.01360918, -1.65076627, -1.24704037, -0.96111336],\n",
       "       [-0.21282202,  0.191416  ,  0.78046829,  0.90433053],\n",
       "       [-0.15632482,  0.72799081,  0.00170598,  0.68484395],\n",
       "       [-0.50039461,  0.45132208,  1.52165463, -0.33545533],\n",
       "       [ 1.25392598,  0.42979065,  0.29329725, -0.77964485]])"
      ]
     },
     "execution_count": 14,
     "metadata": {},
     "output_type": "execute_result"
    }
   ],
   "source": [
    "data[~cond]"
   ]
  },
  {
   "cell_type": "code",
   "execution_count": 15,
   "metadata": {},
   "outputs": [],
   "source": [
    "mask = (names == 'Bob') | (names == 'Will')"
   ]
  },
  {
   "cell_type": "code",
   "execution_count": 16,
   "metadata": {},
   "outputs": [
    {
     "data": {
      "text/plain": [
       "array([ True, False,  True,  True,  True, False, False])"
      ]
     },
     "execution_count": 16,
     "metadata": {},
     "output_type": "execute_result"
    }
   ],
   "source": [
    "mask"
   ]
  },
  {
   "cell_type": "code",
   "execution_count": 17,
   "metadata": {},
   "outputs": [
    {
     "data": {
      "text/plain": [
       "array([[-1.09599551e+00,  1.14290575e+00,  1.21721249e-01,\n",
       "         6.04072508e-02],\n",
       "       [-2.12822024e-01,  1.91416003e-01,  7.80468295e-01,\n",
       "         9.04330531e-01],\n",
       "       [-1.18692544e+00,  3.13866202e-01, -8.07550912e-01,\n",
       "         1.74038910e+00],\n",
       "       [-1.56324824e-01,  7.27990815e-01,  1.70597528e-03,\n",
       "         6.84843946e-01]])"
      ]
     },
     "execution_count": 17,
     "metadata": {},
     "output_type": "execute_result"
    }
   ],
   "source": [
    "data[mask]"
   ]
  },
  {
   "cell_type": "code",
   "execution_count": 18,
   "metadata": {},
   "outputs": [
    {
     "data": {
      "text/plain": [
       "array([[-1.09599551e+00,  1.14290575e+00,  1.21721249e-01,\n",
       "         6.04072508e-02],\n",
       "       [ 1.36091830e-02, -1.65076627e+00, -1.24704037e+00,\n",
       "        -9.61113358e-01],\n",
       "       [-2.12822024e-01,  1.91416003e-01,  7.80468295e-01,\n",
       "         9.04330531e-01],\n",
       "       [-1.18692544e+00,  3.13866202e-01, -8.07550912e-01,\n",
       "         1.74038910e+00],\n",
       "       [-1.56324824e-01,  7.27990815e-01,  1.70597528e-03,\n",
       "         6.84843946e-01],\n",
       "       [-5.00394608e-01,  4.51322081e-01,  1.52165463e+00,\n",
       "        -3.35455329e-01],\n",
       "       [ 1.25392598e+00,  4.29790646e-01,  2.93297255e-01,\n",
       "        -7.79644847e-01]])"
      ]
     },
     "execution_count": 18,
     "metadata": {},
     "output_type": "execute_result"
    }
   ],
   "source": [
    "data"
   ]
  },
  {
   "cell_type": "code",
   "execution_count": 20,
   "metadata": {},
   "outputs": [
    {
     "data": {
      "text/plain": [
       "array([[-1.09599551e+00,  1.14290575e+00,  1.21721249e-01,\n",
       "         6.04072508e-02],\n",
       "       [ 1.36091830e-02, -1.65076627e+00, -1.24704037e+00,\n",
       "        -9.61113358e-01],\n",
       "       [-2.12822024e-01,  1.91416003e-01,  7.80468295e-01,\n",
       "         9.04330531e-01],\n",
       "       [-1.18692544e+00,  3.13866202e-01, -8.07550912e-01,\n",
       "         1.74038910e+00],\n",
       "       [-1.56324824e-01,  7.27990815e-01,  1.70597528e-03,\n",
       "         6.84843946e-01],\n",
       "       [-5.00394608e-01,  4.51322081e-01,  1.52165463e+00,\n",
       "        -3.35455329e-01],\n",
       "       [ 1.25392598e+00,  4.29790646e-01,  2.93297255e-01,\n",
       "        -7.79644847e-01]])"
      ]
     },
     "execution_count": 20,
     "metadata": {},
     "output_type": "execute_result"
    }
   ],
   "source": [
    "data"
   ]
  },
  {
   "cell_type": "markdown",
   "metadata": {},
   "source": [
    "#### Selecting data from an array by boolean indexing always creates a copy of the data, even if the returned array is unchanged."
   ]
  },
  {
   "cell_type": "code",
   "execution_count": 21,
   "metadata": {},
   "outputs": [],
   "source": [
    "data[data < 0] = 0"
   ]
  },
  {
   "cell_type": "code",
   "execution_count": 22,
   "metadata": {},
   "outputs": [
    {
     "data": {
      "text/plain": [
       "array([[0.00000000e+00, 1.14290575e+00, 1.21721249e-01, 6.04072508e-02],\n",
       "       [1.36091830e-02, 0.00000000e+00, 0.00000000e+00, 0.00000000e+00],\n",
       "       [0.00000000e+00, 1.91416003e-01, 7.80468295e-01, 9.04330531e-01],\n",
       "       [0.00000000e+00, 3.13866202e-01, 0.00000000e+00, 1.74038910e+00],\n",
       "       [0.00000000e+00, 7.27990815e-01, 1.70597528e-03, 6.84843946e-01],\n",
       "       [0.00000000e+00, 4.51322081e-01, 1.52165463e+00, 0.00000000e+00],\n",
       "       [1.25392598e+00, 4.29790646e-01, 2.93297255e-01, 0.00000000e+00]])"
      ]
     },
     "execution_count": 22,
     "metadata": {},
     "output_type": "execute_result"
    }
   ],
   "source": [
    "data"
   ]
  },
  {
   "cell_type": "code",
   "execution_count": 23,
   "metadata": {},
   "outputs": [],
   "source": [
    "data[names != 'Joe'] = 7"
   ]
  },
  {
   "cell_type": "code",
   "execution_count": 24,
   "metadata": {},
   "outputs": [
    {
     "data": {
      "text/plain": [
       "array([[7.        , 7.        , 7.        , 7.        ],\n",
       "       [0.01360918, 0.        , 0.        , 0.        ],\n",
       "       [7.        , 7.        , 7.        , 7.        ],\n",
       "       [7.        , 7.        , 7.        , 7.        ],\n",
       "       [7.        , 7.        , 7.        , 7.        ],\n",
       "       [0.        , 0.45132208, 1.52165463, 0.        ],\n",
       "       [1.25392598, 0.42979065, 0.29329725, 0.        ]])"
      ]
     },
     "execution_count": 24,
     "metadata": {},
     "output_type": "execute_result"
    }
   ],
   "source": [
    "data"
   ]
  },
  {
   "cell_type": "code",
   "execution_count": null,
   "metadata": {},
   "outputs": [],
   "source": []
  }
 ],
 "metadata": {
  "kernelspec": {
   "display_name": "environment",
   "language": "python",
   "name": "python3"
  },
  "language_info": {
   "codemirror_mode": {
    "name": "ipython",
    "version": 3
   },
   "file_extension": ".py",
   "mimetype": "text/x-python",
   "name": "python",
   "nbconvert_exporter": "python",
   "pygments_lexer": "ipython3",
   "version": "3.12.0"
  }
 },
 "nbformat": 4,
 "nbformat_minor": 2
}
