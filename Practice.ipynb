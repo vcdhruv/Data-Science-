{
 "cells": [
  {
   "cell_type": "code",
   "execution_count": 5,
   "id": "19975d61",
   "metadata": {},
   "outputs": [],
   "source": [
    "l = [1,2,3]"
   ]
  },
  {
   "cell_type": "code",
   "execution_count": 8,
   "id": "c9d8703a",
   "metadata": {},
   "outputs": [],
   "source": [
    "l=l*3"
   ]
  },
  {
   "cell_type": "code",
   "execution_count": 9,
   "id": "b8e8e12e",
   "metadata": {},
   "outputs": [
    {
     "data": {
      "text/plain": [
       "[1, 2, 3, 1, 2, 3, 1, 2, 3]"
      ]
     },
     "execution_count": 9,
     "metadata": {},
     "output_type": "execute_result"
    }
   ],
   "source": [
    "l"
   ]
  },
  {
   "cell_type": "code",
   "execution_count": 1,
   "id": "2d1e4812",
   "metadata": {},
   "outputs": [],
   "source": [
    "l = [1,2,3,\"vcd\",34,\"abc\"]"
   ]
  },
  {
   "cell_type": "code",
   "execution_count": 4,
   "id": "362d8bd7",
   "metadata": {},
   "outputs": [],
   "source": [
    "l1 = []\n",
    "l2 = []\n",
    "for i in l:\n",
    "    if type(i)==int:\n",
    "        l1.append(i)\n",
    "    elif type(i)==str:\n",
    "        l2.append(i)"
   ]
  },
  {
   "cell_type": "code",
   "execution_count": 5,
   "id": "93762f6d",
   "metadata": {},
   "outputs": [
    {
     "data": {
      "text/plain": [
       "[1, 2, 3, 34]"
      ]
     },
     "execution_count": 5,
     "metadata": {},
     "output_type": "execute_result"
    }
   ],
   "source": [
    "l1"
   ]
  },
  {
   "cell_type": "code",
   "execution_count": 6,
   "id": "0599c139",
   "metadata": {},
   "outputs": [
    {
     "data": {
      "text/plain": [
       "['vcd', 'abc']"
      ]
     },
     "execution_count": 6,
     "metadata": {},
     "output_type": "execute_result"
    }
   ],
   "source": [
    "l2"
   ]
  },
  {
   "cell_type": "code",
   "execution_count": 10,
   "id": "64ed1401",
   "metadata": {},
   "outputs": [
    {
     "data": {
      "text/plain": [
       "[2, 3, 4]"
      ]
     },
     "execution_count": 10,
     "metadata": {},
     "output_type": "execute_result"
    }
   ],
   "source": [
    "l=[1,2,3]\n",
    "index=0\n",
    "for i in l:\n",
    "    l[index]=i+1\n",
    "    index=index+1\n",
    "l"
   ]
  },
  {
   "cell_type": "code",
   "execution_count": 11,
   "id": "1b2899d4",
   "metadata": {},
   "outputs": [
    {
     "data": {
      "text/plain": [
       "[2, 3, 4]"
      ]
     },
     "execution_count": 11,
     "metadata": {},
     "output_type": "execute_result"
    }
   ],
   "source": [
    "l"
   ]
  },
  {
   "cell_type": "code",
   "execution_count": 13,
   "id": "4e3b786a",
   "metadata": {},
   "outputs": [
    {
     "name": "stdout",
     "output_type": "stream",
     "text": [
      "v\n",
      "i\n",
      "s\n",
      "h\n",
      "m\n",
      "a\n",
      "y\n"
     ]
    }
   ],
   "source": [
    "n = \"vishmay\"\n",
    "for i in n:\n",
    "    print(i)"
   ]
  },
  {
   "cell_type": "code",
   "execution_count": 15,
   "id": "5d388753",
   "metadata": {},
   "outputs": [
    {
     "name": "stdout",
     "output_type": "stream",
     "text": [
      "('a', 1)\n",
      "('b', 2)\n"
     ]
    }
   ],
   "source": [
    "d = {\"a\":1,\"b\":2}\n",
    "keys=[]\n",
    "values=[]\n",
    "for i in d.items():\n",
    "    print(i)\n",
    "    keys.append(i[0])\n",
    "    values.append(i[1])"
   ]
  },
  {
   "cell_type": "code",
   "execution_count": 16,
   "id": "1f65bfe1",
   "metadata": {},
   "outputs": [
    {
     "data": {
      "text/plain": [
       "['a', 'b']"
      ]
     },
     "execution_count": 16,
     "metadata": {},
     "output_type": "execute_result"
    }
   ],
   "source": [
    "keys"
   ]
  },
  {
   "cell_type": "code",
   "execution_count": 17,
   "id": "c9e0f04c",
   "metadata": {},
   "outputs": [
    {
     "data": {
      "text/plain": [
       "[1, 2]"
      ]
     },
     "execution_count": 17,
     "metadata": {},
     "output_type": "execute_result"
    }
   ],
   "source": [
    "values"
   ]
  },
  {
   "cell_type": "code",
   "execution_count": 13,
   "id": "903bda13",
   "metadata": {},
   "outputs": [],
   "source": [
    "student_id = [\"S01\",\"S02\",\"S03\",\"S04\",\"S05\"]\n",
    "gender = [\"M\",\"F\",\"F\",\"M\",\"F\"]\n",
    "dept = [\"CE\",\"ECE\",\"ME\",\"CS\",\"ME\"]\n",
    "sessional_perc = [45,60,73,65,3,71.9]\n",
    "total_marks = [600,800,520,650,780]\n",
    "backlogs = [\"NB\",\"B\",\"NB\",\"NB\",\"NB\"]"
   ]
  },
  {
   "cell_type": "code",
   "execution_count": 29,
   "id": "525cbf12",
   "metadata": {},
   "outputs": [],
   "source": [
    "dept[-1] = \"CS\""
   ]
  },
  {
   "cell_type": "code",
   "execution_count": 30,
   "id": "f3699f45",
   "metadata": {},
   "outputs": [
    {
     "data": {
      "text/plain": [
       "['CE', 'ECE', 'ME', 'CS', 'CS']"
      ]
     },
     "execution_count": 30,
     "metadata": {},
     "output_type": "execute_result"
    }
   ],
   "source": [
    "dept"
   ]
  },
  {
   "cell_type": "code",
   "execution_count": 14,
   "id": "ec214e80",
   "metadata": {},
   "outputs": [
    {
     "data": {
      "text/plain": [
       "[0, 1, 2, 3, 4]"
      ]
     },
     "execution_count": 14,
     "metadata": {},
     "output_type": "execute_result"
    }
   ],
   "source": [
    "list(range(5))"
   ]
  },
  {
   "cell_type": "code",
   "execution_count": 15,
   "id": "ebd3fad8",
   "metadata": {},
   "outputs": [
    {
     "name": "stdout",
     "output_type": "stream",
     "text": [
      "sessional percentage of student 1 is not greater then 70\n",
      "sessional percentage of student 2 is not greater then 70\n",
      "sessional percentage of student 4 is not greater then 70\n",
      "sessional percentage of student 5 is not greater then 70\n"
     ]
    }
   ],
   "source": [
    "for i in range(len(student_id)):\n",
    "    if sessional_perc[i] > 70:\n",
    "        total_marks[i] = total_marks[i] + total_marks[i]*0.02\n",
    "    else :\n",
    "        print(\"sessional percentage of student \"+str(i+1)+\" is not greater then 70\")"
   ]
  },
  {
   "cell_type": "code",
   "execution_count": 16,
   "id": "fb6660df",
   "metadata": {},
   "outputs": [
    {
     "data": {
      "text/plain": [
       "[600, 800, 530.4, 650, 780]"
      ]
     },
     "execution_count": 16,
     "metadata": {},
     "output_type": "execute_result"
    }
   ],
   "source": [
    "total_marks"
   ]
  },
  {
   "cell_type": "code",
   "execution_count": 20,
   "id": "3995452c",
   "metadata": {},
   "outputs": [
    {
     "data": {
      "text/plain": [
       "['B', 'NB', 'NB', 'B', 'B']"
      ]
     },
     "execution_count": 20,
     "metadata": {},
     "output_type": "execute_result"
    }
   ],
   "source": [
    "updated_students = [\"S01\",\"S04\"]\n",
    "\n",
    "for i in range(len(student_id)):\n",
    "    if student_id[i] in updated_students:\n",
    "        backlogs[i] = \"B\"\n",
    "backlogs"
   ]
  },
  {
   "cell_type": "code",
   "execution_count": 23,
   "id": "858e547f",
   "metadata": {},
   "outputs": [],
   "source": [
    "backlogs[-1] = \"NB\""
   ]
  },
  {
   "cell_type": "code",
   "execution_count": 24,
   "id": "6801f3a3",
   "metadata": {},
   "outputs": [
    {
     "data": {
      "text/plain": [
       "['B', 'B', 'NB', 'B', 'NB']"
      ]
     },
     "execution_count": 24,
     "metadata": {},
     "output_type": "execute_result"
    }
   ],
   "source": [
    "backlogs"
   ]
  },
  {
   "cell_type": "code",
   "execution_count": 18,
   "id": "3ddb7048",
   "metadata": {},
   "outputs": [],
   "source": [
    "for i in range(len(student_id)):\n",
    "    if sessional_perc[i] <= 45:\n",
    "        backlogs[i] = \"B\"\n",
    "    else:\n",
    "        backlogs[i] = \"NB\""
   ]
  },
  {
   "cell_type": "code",
   "execution_count": 19,
   "id": "1b1eb2bd",
   "metadata": {},
   "outputs": [
    {
     "data": {
      "text/plain": [
       "['B', 'NB', 'NB', 'NB', 'B']"
      ]
     },
     "execution_count": 19,
     "metadata": {},
     "output_type": "execute_result"
    }
   ],
   "source": [
    "backlogs"
   ]
  },
  {
   "cell_type": "code",
   "execution_count": 42,
   "id": "9de6d91c",
   "metadata": {},
   "outputs": [
    {
     "name": "stdout",
     "output_type": "stream",
     "text": [
      "No Scholarship Achieved\n",
      "No Scholarship Achieved\n",
      "No Scholarship Achieved\n",
      "Achieve Scholarship\n",
      "High Achieve Scholarship\n"
     ]
    }
   ],
   "source": [
    "for i in range(len(student_id)):\n",
    "    if total_marks[i] > 750 and backlogs[i] == \"NB\":\n",
    "        print(\"High Achieve Scholarship\")\n",
    "    elif backlogs[i] == \"B\" and total_marks[i] >= 650 and total_marks[i] < 700:\n",
    "        print(\"Achieve Scholarship\")\n",
    "    else:\n",
    "        print(\"No Scholarship Achieved\")"
   ]
  },
  {
   "cell_type": "code",
   "execution_count": 45,
   "id": "5f56e609",
   "metadata": {},
   "outputs": [],
   "source": [
    "scholarships = [\"High Scholarships\" if total_marks[_] > 750 and backlogs[_] == \"NB\" and dept[_] == \"CS\" else \"No Scholarships\" for _ in range(len(student_id))]"
   ]
  },
  {
   "cell_type": "code",
   "execution_count": 46,
   "id": "c1dd7b09",
   "metadata": {},
   "outputs": [
    {
     "data": {
      "text/plain": [
       "['No Scholarships',\n",
       " 'No Scholarships',\n",
       " 'No Scholarships',\n",
       " 'No Scholarships',\n",
       " 'High Scholarships']"
      ]
     },
     "execution_count": 46,
     "metadata": {},
     "output_type": "execute_result"
    }
   ],
   "source": [
    "scholarships"
   ]
  },
  {
   "cell_type": "code",
   "execution_count": 40,
   "id": "7c172d6c",
   "metadata": {},
   "outputs": [
    {
     "name": "stdout",
     "output_type": "stream",
     "text": [
      "hello world 1 2 3\n"
     ]
    }
   ],
   "source": [
    "a = 1\n",
    "b = 2\n",
    "c = 3\n",
    "print(f\"hello world {a} {b} {c}\")"
   ]
  },
  {
   "cell_type": "code",
   "execution_count": 50,
   "id": "f77bef4b",
   "metadata": {},
   "outputs": [],
   "source": [
    "student_db = {\n",
    "    \"student_id\":student_id,\n",
    "    \"gender\":gender,\n",
    "    \"dept\":dept,\n",
    "    \"sessional_percentage\":sessional_perc,\n",
    "    \"total_marks\":total_marks,\n",
    "    \"backlogs\":backlogs\n",
    "}"
   ]
  },
  {
   "cell_type": "code",
   "execution_count": 55,
   "id": "fb2f2a5b",
   "metadata": {},
   "outputs": [],
   "source": [
    "student_db_keys = list(student_db.keys())"
   ]
  },
  {
   "cell_type": "code",
   "execution_count": 56,
   "id": "4814de86",
   "metadata": {},
   "outputs": [],
   "source": [
    "student_db_values = list(student_db.values())"
   ]
  },
  {
   "cell_type": "code",
   "execution_count": 57,
   "id": "534ee3eb",
   "metadata": {},
   "outputs": [],
   "source": [
    "student_db_items = list(student_db.items())"
   ]
  },
  {
   "cell_type": "code",
   "execution_count": 58,
   "id": "af043b2d",
   "metadata": {},
   "outputs": [
    {
     "data": {
      "text/plain": [
       "[('student_id', ['S01', 'S02', 'S03', 'S04', 'S05']),\n",
       " ('gender', ['M', 'F', 'F', 'M', 'F']),\n",
       " ('dept', ['CE', 'ECE', 'ME', 'CS', 'CS']),\n",
       " ('sessional_percentage', [45, 60, 73, 65, 3, 71.9]),\n",
       " ('total_marks', [600, 800, 530.4, 650, 780]),\n",
       " ('backlogs', ['B', 'B', 'NB', 'B', 'NB'])]"
      ]
     },
     "execution_count": 58,
     "metadata": {},
     "output_type": "execute_result"
    }
   ],
   "source": [
    "# it is list of tuples\n",
    "student_db_items"
   ]
  },
  {
   "cell_type": "code",
   "execution_count": 59,
   "id": "e7b3ef77",
   "metadata": {},
   "outputs": [
    {
     "data": {
      "text/plain": [
       "['student_id',\n",
       " 'gender',\n",
       " 'dept',\n",
       " 'sessional_percentage',\n",
       " 'total_marks',\n",
       " 'backlogs']"
      ]
     },
     "execution_count": 59,
     "metadata": {},
     "output_type": "execute_result"
    }
   ],
   "source": [
    "student_db_keys"
   ]
  },
  {
   "cell_type": "code",
   "execution_count": 60,
   "id": "7e692895",
   "metadata": {},
   "outputs": [
    {
     "data": {
      "text/plain": [
       "[['S01', 'S02', 'S03', 'S04', 'S05'],\n",
       " ['M', 'F', 'F', 'M', 'F'],\n",
       " ['CE', 'ECE', 'ME', 'CS', 'CS'],\n",
       " [45, 60, 73, 65, 3, 71.9],\n",
       " [600, 800, 530.4, 650, 780],\n",
       " ['B', 'B', 'NB', 'B', 'NB']]"
      ]
     },
     "execution_count": 60,
     "metadata": {},
     "output_type": "execute_result"
    }
   ],
   "source": [
    "# it is list of list\n",
    "student_db_values"
   ]
  },
  {
   "cell_type": "code",
   "execution_count": null,
   "id": "7e2f7c51",
   "metadata": {},
   "outputs": [],
   "source": []
  }
 ],
 "metadata": {
  "kernelspec": {
   "display_name": "Python 3 (ipykernel)",
   "language": "python",
   "name": "python3"
  },
  "language_info": {
   "codemirror_mode": {
    "name": "ipython",
    "version": 3
   },
   "file_extension": ".py",
   "mimetype": "text/x-python",
   "name": "python",
   "nbconvert_exporter": "python",
   "pygments_lexer": "ipython3",
   "version": "3.9.13"
  }
 },
 "nbformat": 4,
 "nbformat_minor": 5
}
