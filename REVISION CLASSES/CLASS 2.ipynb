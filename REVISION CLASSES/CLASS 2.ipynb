{
 "cells": [
  {
   "cell_type": "code",
   "execution_count": 21,
   "id": "0362e0f5",
   "metadata": {},
   "outputs": [],
   "source": [
    "str1 = \"Hello\"\n",
    "str2 = \"world\""
   ]
  },
  {
   "cell_type": "code",
   "execution_count": 22,
   "id": "5a1cdf84",
   "metadata": {},
   "outputs": [],
   "source": [
    "final_str = str1 + \" \" + str2 #string concatenation"
   ]
  },
  {
   "cell_type": "code",
   "execution_count": 23,
   "id": "c016dcfe",
   "metadata": {},
   "outputs": [
    {
     "data": {
      "text/plain": [
       "'Hello world'"
      ]
     },
     "execution_count": 23,
     "metadata": {},
     "output_type": "execute_result"
    }
   ],
   "source": [
    "final_str"
   ]
  },
  {
   "cell_type": "code",
   "execution_count": 24,
   "id": "519d7229",
   "metadata": {},
   "outputs": [
    {
     "data": {
      "text/plain": [
       "11"
      ]
     },
     "execution_count": 24,
     "metadata": {},
     "output_type": "execute_result"
    }
   ],
   "source": [
    "len(final_str)"
   ]
  },
  {
   "cell_type": "code",
   "execution_count": 25,
   "id": "52d1e8b5",
   "metadata": {},
   "outputs": [
    {
     "data": {
      "text/plain": [
       "'ello'"
      ]
     },
     "execution_count": 25,
     "metadata": {},
     "output_type": "execute_result"
    }
   ],
   "source": [
    "# string slicing\n",
    "final_str[1:5]"
   ]
  },
  {
   "cell_type": "code",
   "execution_count": 26,
   "id": "96241afb",
   "metadata": {},
   "outputs": [
    {
     "data": {
      "text/plain": [
       "'d'"
      ]
     },
     "execution_count": 26,
     "metadata": {},
     "output_type": "execute_result"
    }
   ],
   "source": [
    "final_str[-1]"
   ]
  },
  {
   "cell_type": "code",
   "execution_count": 27,
   "id": "35fd16b2",
   "metadata": {},
   "outputs": [
    {
     "data": {
      "text/plain": [
       "'H'"
      ]
     },
     "execution_count": 27,
     "metadata": {},
     "output_type": "execute_result"
    }
   ],
   "source": [
    "final_str[0]"
   ]
  },
  {
   "cell_type": "code",
   "execution_count": 28,
   "id": "700d2f6c",
   "metadata": {},
   "outputs": [
    {
     "data": {
      "text/plain": [
       "'l'"
      ]
     },
     "execution_count": 28,
     "metadata": {},
     "output_type": "execute_result"
    }
   ],
   "source": [
    "final_str[-2]"
   ]
  },
  {
   "cell_type": "code",
   "execution_count": 29,
   "id": "24ffe81a",
   "metadata": {},
   "outputs": [
    {
     "data": {
      "text/plain": [
       "[1, 2, 3, 4]"
      ]
     },
     "execution_count": 29,
     "metadata": {},
     "output_type": "execute_result"
    }
   ],
   "source": [
    "list(range(1,5))"
   ]
  },
  {
   "cell_type": "code",
   "execution_count": 30,
   "id": "b128cea3",
   "metadata": {},
   "outputs": [
    {
     "data": {
      "text/plain": [
       "'Hlowrd'"
      ]
     },
     "execution_count": 30,
     "metadata": {},
     "output_type": "execute_result"
    }
   ],
   "source": [
    "final_str[::2]"
   ]
  },
  {
   "cell_type": "code",
   "execution_count": 31,
   "id": "9703b423",
   "metadata": {},
   "outputs": [
    {
     "data": {
      "text/plain": [
       "'Hlwl'"
      ]
     },
     "execution_count": 31,
     "metadata": {},
     "output_type": "execute_result"
    }
   ],
   "source": [
    "final_str[::3]"
   ]
  },
  {
   "cell_type": "code",
   "execution_count": 32,
   "id": "62c8b4d5",
   "metadata": {},
   "outputs": [
    {
     "data": {
      "text/plain": [
       "'Hello world'"
      ]
     },
     "execution_count": 32,
     "metadata": {},
     "output_type": "execute_result"
    }
   ],
   "source": [
    "final_str"
   ]
  },
  {
   "cell_type": "code",
   "execution_count": 33,
   "id": "7716922f",
   "metadata": {},
   "outputs": [
    {
     "data": {
      "text/plain": [
       "False"
      ]
     },
     "execution_count": 33,
     "metadata": {},
     "output_type": "execute_result"
    }
   ],
   "source": [
    "final_str.islower()"
   ]
  },
  {
   "cell_type": "code",
   "execution_count": 34,
   "id": "05873099",
   "metadata": {},
   "outputs": [
    {
     "data": {
      "text/plain": [
       "False"
      ]
     },
     "execution_count": 34,
     "metadata": {},
     "output_type": "execute_result"
    }
   ],
   "source": [
    "final_str.isupper()"
   ]
  },
  {
   "cell_type": "code",
   "execution_count": 35,
   "id": "1520223e",
   "metadata": {},
   "outputs": [
    {
     "data": {
      "text/plain": [
       "False"
      ]
     },
     "execution_count": 35,
     "metadata": {},
     "output_type": "execute_result"
    }
   ],
   "source": [
    "final_str.istitle()"
   ]
  },
  {
   "cell_type": "code",
   "execution_count": 41,
   "id": "9211457e",
   "metadata": {},
   "outputs": [],
   "source": [
    "x = final_str.upper()"
   ]
  },
  {
   "cell_type": "code",
   "execution_count": 42,
   "id": "d6c73f28",
   "metadata": {},
   "outputs": [
    {
     "data": {
      "text/plain": [
       "'HELLO WORLD'"
      ]
     },
     "execution_count": 42,
     "metadata": {},
     "output_type": "execute_result"
    }
   ],
   "source": [
    "x"
   ]
  },
  {
   "cell_type": "code",
   "execution_count": 43,
   "id": "74200faa",
   "metadata": {},
   "outputs": [],
   "source": [
    "y = final_str.title()"
   ]
  },
  {
   "cell_type": "code",
   "execution_count": 45,
   "id": "5f877672",
   "metadata": {},
   "outputs": [
    {
     "data": {
      "text/plain": [
       "'Hello World'"
      ]
     },
     "execution_count": 45,
     "metadata": {},
     "output_type": "execute_result"
    }
   ],
   "source": [
    "y"
   ]
  },
  {
   "cell_type": "code",
   "execution_count": 46,
   "id": "61b4bba3",
   "metadata": {},
   "outputs": [
    {
     "data": {
      "text/plain": [
       "True"
      ]
     },
     "execution_count": 46,
     "metadata": {},
     "output_type": "execute_result"
    }
   ],
   "source": [
    "x.isupper()"
   ]
  },
  {
   "cell_type": "code",
   "execution_count": 47,
   "id": "26ebc743",
   "metadata": {},
   "outputs": [
    {
     "data": {
      "text/plain": [
       "True"
      ]
     },
     "execution_count": 47,
     "metadata": {},
     "output_type": "execute_result"
    }
   ],
   "source": [
    "y.istitle()"
   ]
  },
  {
   "cell_type": "code",
   "execution_count": 48,
   "id": "ea2657d5",
   "metadata": {},
   "outputs": [],
   "source": [
    "y = y.capitalize()"
   ]
  },
  {
   "cell_type": "code",
   "execution_count": 49,
   "id": "b02e9174",
   "metadata": {},
   "outputs": [
    {
     "data": {
      "text/plain": [
       "'Hello world'"
      ]
     },
     "execution_count": 49,
     "metadata": {},
     "output_type": "execute_result"
    }
   ],
   "source": [
    "y"
   ]
  },
  {
   "cell_type": "code",
   "execution_count": 50,
   "id": "4f9cd8ed",
   "metadata": {},
   "outputs": [
    {
     "data": {
      "text/plain": [
       "'Hello World'"
      ]
     },
     "execution_count": 50,
     "metadata": {},
     "output_type": "execute_result"
    }
   ],
   "source": [
    "final_str"
   ]
  },
  {
   "cell_type": "code",
   "execution_count": 52,
   "id": "8bf38958",
   "metadata": {},
   "outputs": [
    {
     "data": {
      "text/plain": [
       "'Hello Everyone'"
      ]
     },
     "execution_count": 52,
     "metadata": {},
     "output_type": "execute_result"
    }
   ],
   "source": [
    "final_str.replace(\"World\",\"Everyone\")"
   ]
  },
  {
   "cell_type": "code",
   "execution_count": 54,
   "id": "295e4e2f",
   "metadata": {},
   "outputs": [
    {
     "data": {
      "text/plain": [
       "'Hi World'"
      ]
     },
     "execution_count": 54,
     "metadata": {},
     "output_type": "execute_result"
    }
   ],
   "source": [
    "final_str.replace(\"Hello\",\"Hi\")"
   ]
  },
  {
   "cell_type": "code",
   "execution_count": 60,
   "id": "98881668",
   "metadata": {},
   "outputs": [],
   "source": [
    "final_str = \"              Hello world             \""
   ]
  },
  {
   "cell_type": "code",
   "execution_count": 61,
   "id": "f96d3266",
   "metadata": {},
   "outputs": [
    {
     "data": {
      "text/plain": [
       "'              Hello world'"
      ]
     },
     "execution_count": 61,
     "metadata": {},
     "output_type": "execute_result"
    }
   ],
   "source": [
    "final_str.rstrip()"
   ]
  },
  {
   "cell_type": "code",
   "execution_count": 62,
   "id": "6bdc9137",
   "metadata": {},
   "outputs": [
    {
     "data": {
      "text/plain": [
       "'Hello world             '"
      ]
     },
     "execution_count": 62,
     "metadata": {},
     "output_type": "execute_result"
    }
   ],
   "source": [
    "final_str.lstrip()"
   ]
  },
  {
   "cell_type": "code",
   "execution_count": 63,
   "id": "c1e0e436",
   "metadata": {},
   "outputs": [
    {
     "data": {
      "text/plain": [
       "'Hello world'"
      ]
     },
     "execution_count": 63,
     "metadata": {},
     "output_type": "execute_result"
    }
   ],
   "source": [
    "final_str.strip()"
   ]
  },
  {
   "cell_type": "code",
   "execution_count": 64,
   "id": "e66eb416",
   "metadata": {},
   "outputs": [],
   "source": [
    "new_str = \"this is class of string\""
   ]
  },
  {
   "cell_type": "code",
   "execution_count": 68,
   "id": "b312466c",
   "metadata": {},
   "outputs": [],
   "source": [
    "str_list = new_str.split()"
   ]
  },
  {
   "cell_type": "code",
   "execution_count": 69,
   "id": "74ae36b5",
   "metadata": {},
   "outputs": [
    {
     "data": {
      "text/plain": [
       "['this', 'is', 'class', 'of', 'string']"
      ]
     },
     "execution_count": 69,
     "metadata": {},
     "output_type": "execute_result"
    }
   ],
   "source": [
    "str_list"
   ]
  },
  {
   "cell_type": "code",
   "execution_count": 113,
   "id": "94d6d25b",
   "metadata": {},
   "outputs": [
    {
     "data": {
      "text/plain": [
       "5"
      ]
     },
     "execution_count": 113,
     "metadata": {},
     "output_type": "execute_result"
    }
   ],
   "source": [
    "len(str_list)"
   ]
  },
  {
   "cell_type": "code",
   "execution_count": 112,
   "id": "138e307c",
   "metadata": {},
   "outputs": [
    {
     "data": {
      "text/plain": [
       "'thisisclassofstring'"
      ]
     },
     "execution_count": 112,
     "metadata": {},
     "output_type": "execute_result"
    }
   ],
   "source": [
    "\"\".join(str_list)"
   ]
  },
  {
   "cell_type": "code",
   "execution_count": 71,
   "id": "10544870",
   "metadata": {},
   "outputs": [
    {
     "data": {
      "text/plain": [
       "'this is class of string'"
      ]
     },
     "execution_count": 71,
     "metadata": {},
     "output_type": "execute_result"
    }
   ],
   "source": [
    "\" \".join(str_list)"
   ]
  },
  {
   "cell_type": "code",
   "execution_count": 74,
   "id": "1647b39e",
   "metadata": {},
   "outputs": [
    {
     "ename": "SyntaxError",
     "evalue": "EOL while scanning string literal (3957769762.py, line 1)",
     "output_type": "error",
     "traceback": [
      "\u001b[1;36m  File \u001b[1;32m\"C:\\Users\\DELL\\AppData\\Local\\Temp\\ipykernel_3200\\3957769762.py\"\u001b[1;36m, line \u001b[1;32m1\u001b[0m\n\u001b[1;33m    \"\\\".join(str_list)\u001b[0m\n\u001b[1;37m                      ^\u001b[0m\n\u001b[1;31mSyntaxError\u001b[0m\u001b[1;31m:\u001b[0m EOL while scanning string literal\n"
     ]
    }
   ],
   "source": [
    "\"\\\".join(str_list)"
   ]
  },
  {
   "cell_type": "code",
   "execution_count": 75,
   "id": "1a3234fe",
   "metadata": {},
   "outputs": [],
   "source": [
    "# string formatting\n",
    "\n",
    "name = \"Jack\""
   ]
  },
  {
   "cell_type": "code",
   "execution_count": 77,
   "id": "784c7c9d",
   "metadata": {},
   "outputs": [
    {
     "name": "stdout",
     "output_type": "stream",
     "text": [
      "Hello, Jack!\n"
     ]
    }
   ],
   "source": [
    "print(\"Hello, %s!\"% name)"
   ]
  },
  {
   "cell_type": "code",
   "execution_count": 79,
   "id": "2c93640b",
   "metadata": {},
   "outputs": [
    {
     "name": "stdout",
     "output_type": "stream",
     "text": [
      "Hello, Jack!\n"
     ]
    }
   ],
   "source": [
    "print(\"Hello,\"+\" \"+name+\"!\")"
   ]
  },
  {
   "cell_type": "code",
   "execution_count": 81,
   "id": "34e078a6",
   "metadata": {},
   "outputs": [
    {
     "name": "stdout",
     "output_type": "stream",
     "text": [
      "Hello, Jack!\n"
     ]
    }
   ],
   "source": [
    "print(f\"Hello, {name}!\") #f string"
   ]
  },
  {
   "cell_type": "code",
   "execution_count": 82,
   "id": "08f9e3df",
   "metadata": {},
   "outputs": [
    {
     "name": "stdout",
     "output_type": "stream",
     "text": [
      "Hello, Jack!\n"
     ]
    }
   ],
   "source": [
    "print(\"Hello, {}!\".format(name)) #dot format"
   ]
  },
  {
   "cell_type": "code",
   "execution_count": 83,
   "id": "a1d36ea7",
   "metadata": {},
   "outputs": [],
   "source": [
    "a = 1\n",
    "b = 2\n",
    "c = a+b"
   ]
  },
  {
   "cell_type": "code",
   "execution_count": 84,
   "id": "c8d802fd",
   "metadata": {},
   "outputs": [
    {
     "name": "stdout",
     "output_type": "stream",
     "text": [
      "sum of 1 and 2 is 3\n"
     ]
    }
   ],
   "source": [
    "print(\"sum of {} and {} is {}\".format(a,b,c))"
   ]
  },
  {
   "cell_type": "markdown",
   "id": "5744433d",
   "metadata": {},
   "source": [
    "# CASE STUDY\n",
    "#### ANALYZE TWEETS"
   ]
  },
  {
   "cell_type": "code",
   "execution_count": 114,
   "id": "f0e5168b",
   "metadata": {},
   "outputs": [],
   "source": [
    "tweets = [\n",
    "    {\"username\":\"user1\",\"timestamp\":\"2023-05-01 12:30\",\"likes\":12,\"retweets\":4,\"text\":\"I love this game!!! #GameBrand\"},\n",
    "    {\"username\":\"user2\",\"timestamp\":\"2023-05-01 13:15\",\"likes\":45,\"retweets\":5,\"text\":\"I can't believe how bad this game is... #GameBrand #Disappointed\"},\n",
    "    {\"username\":\"user3\",\"timestamp\":\"2023-05-01 13:47\",\"likes\":23,\"retweets\":2,\"text\":\"What a great game! #GameBrand #Fun\"},\n",
    "    {\"username\":\"user4\",\"timestamp\":\"2023-05-01 14:05\",\"likes\":78,\"retweets\":7,\"text\":\"This game is too difficult. #GameBrand #Frustrated\"},\n",
    "    {\"username\":\"user5\",\"timestamp\":\"2023-05-01 14:23\",\"likes\":45,\"retweets\":5,\"text\":\"I can't stop playing this game! #GameBrand #Addicted\"},\n",
    "    {\"username\":\"user6\",\"timestamp\":\"2023-05-01 15:00\",\"likes\":67,\"retweets\":6,\"text\":\"The graphics in this game are amazing. #GameBrand #Impressive\"},\n",
    "    {\"username\":\"user7\",\"timestamp\":\"2023-05-01 15:30\",\"likes\":34,\"retweets\":3,\"text\":\"I wish this game had better controls. #GameBrand #Frustrated\"},\n",
    "    {\"username\":\"user8\",\"timestamp\":\"2023-05-01 16:00\",\"likes\":23,\"retweets\":2,\"text\":\"This game is a waste of money. #GameBrand #Disappointed\"},\n",
    "    {\"username\":\"user9\",\"timestamp\":\"2023-05-01 16:45\",\"likes\":56,\"retweets\":5,\"text\":\"I can't wait for the sequel! #GameBrand #Excited\"},\n",
    "    {\"username\":\"user10\",\"timestamp\":\"2023-05-01 17:00\",\"likes\":78,\"retweets\":7,\"text\":\"This game has too many bugs. #GameBrand #Frustrated\"},\n",
    "]"
   ]
  },
  {
   "cell_type": "code",
   "execution_count": 115,
   "id": "e584c177",
   "metadata": {},
   "outputs": [
    {
     "data": {
      "text/plain": [
       "10"
      ]
     },
     "execution_count": 115,
     "metadata": {},
     "output_type": "execute_result"
    }
   ],
   "source": [
    "len(tweets)"
   ]
  },
  {
   "cell_type": "code",
   "execution_count": 118,
   "id": "71d6ab8c",
   "metadata": {},
   "outputs": [
    {
     "name": "stdout",
     "output_type": "stream",
     "text": [
      "0\n",
      "1\n",
      "2\n",
      "3\n",
      "4\n",
      "5\n",
      "6\n",
      "7\n",
      "8\n",
      "9\n"
     ]
    }
   ],
   "source": [
    "for i in range(len(tweets)):\n",
    "    print(i)"
   ]
  },
  {
   "cell_type": "code",
   "execution_count": 119,
   "id": "1f8810bf",
   "metadata": {},
   "outputs": [
    {
     "name": "stdout",
     "output_type": "stream",
     "text": [
      "{'username': 'user1', 'timestamp': '2023-05-01 12:30', 'likes': 12, 'retweets': 4, 'text': 'I love this game!!! #GameBrand'}\n",
      "{'username': 'user2', 'timestamp': '2023-05-01 13:15', 'likes': 45, 'retweets': 5, 'text': \"I can't believe how bad this game is... #GameBrand #Disappointed\"}\n",
      "{'username': 'user3', 'timestamp': '2023-05-01 13:47', 'likes': 23, 'retweets': 2, 'text': 'What a great game! #GameBrand #Fun'}\n",
      "{'username': 'user4', 'timestamp': '2023-05-01 14:05', 'likes': 78, 'retweets': 7, 'text': 'This game is too difficult. #GameBrand #Frustrated'}\n",
      "{'username': 'user5', 'timestamp': '2023-05-01 14:23', 'likes': 45, 'retweets': 5, 'text': \"I can't stop playing this game! #GameBrand #Addicted\"}\n",
      "{'username': 'user6', 'timestamp': '2023-05-01 15:00', 'likes': 67, 'retweets': 6, 'text': 'The graphics in this game are amazing. #GameBrand #Impressive'}\n",
      "{'username': 'user7', 'timestamp': '2023-05-01 15:30', 'likes': 34, 'retweets': 3, 'text': 'I wish this game had better controls. #GameBrand #Frustrated'}\n",
      "{'username': 'user8', 'timestamp': '2023-05-01 16:00', 'likes': 23, 'retweets': 2, 'text': 'This game is a waste of money. #GameBrand #Disappointed'}\n",
      "{'username': 'user9', 'timestamp': '2023-05-01 16:45', 'likes': 56, 'retweets': 5, 'text': \"I can't wait for the sequel! #GameBrand #Excited\"}\n",
      "{'username': 'user10', 'timestamp': '2023-05-01 17:00', 'likes': 78, 'retweets': 7, 'text': 'This game has too many bugs. #GameBrand #Frustrated'}\n"
     ]
    }
   ],
   "source": [
    "for tweet in tweets:\n",
    "    print(tweet)"
   ]
  },
  {
   "cell_type": "code",
   "execution_count": 120,
   "id": "44eb0499",
   "metadata": {},
   "outputs": [
    {
     "name": "stdout",
     "output_type": "stream",
     "text": [
      "I love this game!!! #GameBrand\n",
      "I can't believe how bad this game is... #GameBrand #Disappointed\n",
      "What a great game! #GameBrand #Fun\n",
      "This game is too difficult. #GameBrand #Frustrated\n",
      "I can't stop playing this game! #GameBrand #Addicted\n",
      "The graphics in this game are amazing. #GameBrand #Impressive\n",
      "I wish this game had better controls. #GameBrand #Frustrated\n",
      "This game is a waste of money. #GameBrand #Disappointed\n",
      "I can't wait for the sequel! #GameBrand #Excited\n",
      "This game has too many bugs. #GameBrand #Frustrated\n"
     ]
    }
   ],
   "source": [
    "for tweet in tweets:\n",
    "    print(tweet['text'])"
   ]
  },
  {
   "cell_type": "code",
   "execution_count": 122,
   "id": "f788735b",
   "metadata": {},
   "outputs": [
    {
     "name": "stdout",
     "output_type": "stream",
     "text": [
      "i love this game!!! #gamebrand\n",
      "i can't believe how bad this game is... #gamebrand #disappointed\n",
      "what a great game! #gamebrand #fun\n",
      "this game is too difficult. #gamebrand #frustrated\n",
      "i can't stop playing this game! #gamebrand #addicted\n",
      "the graphics in this game are amazing. #gamebrand #impressive\n",
      "i wish this game had better controls. #gamebrand #frustrated\n",
      "this game is a waste of money. #gamebrand #disappointed\n",
      "i can't wait for the sequel! #gamebrand #excited\n",
      "this game has too many bugs. #gamebrand #frustrated\n"
     ]
    }
   ],
   "source": [
    "for tweet in tweets:\n",
    "    print(tweet['text'].lower().strip())"
   ]
  },
  {
   "cell_type": "code",
   "execution_count": 123,
   "id": "63c6ea99",
   "metadata": {},
   "outputs": [],
   "source": [
    "hashtag_list = []"
   ]
  },
  {
   "cell_type": "code",
   "execution_count": 165,
   "id": "c21a2bad",
   "metadata": {},
   "outputs": [],
   "source": [
    "hashtag = [ word for word in tweet['text'].split() if word.startswith(\"#\") ] "
   ]
  },
  {
   "cell_type": "code",
   "execution_count": 166,
   "id": "b2d95b17",
   "metadata": {},
   "outputs": [
    {
     "data": {
      "text/plain": [
       "['#GameBrand']"
      ]
     },
     "execution_count": 166,
     "metadata": {},
     "output_type": "execute_result"
    }
   ],
   "source": [
    "hashtag"
   ]
  },
  {
   "cell_type": "code",
   "execution_count": 170,
   "id": "106c9fca",
   "metadata": {},
   "outputs": [
    {
     "name": "stdout",
     "output_type": "stream",
     "text": [
      "#GameBrand\n",
      "#GameBrand\n",
      "#Disappointed\n",
      "#GameBrand\n",
      "#Fun\n",
      "#GameBrand\n",
      "#Frustrated\n",
      "#GameBrand\n",
      "#Addicted\n",
      "#GameBrand\n",
      "#Impressive\n",
      "#GameBrand\n",
      "#Frustrated\n",
      "#GameBrand\n",
      "#Disappointed\n",
      "#GameBrand\n",
      "#Excited\n",
      "#GameBrand\n",
      "#Frustrated\n",
      "19\n"
     ]
    }
   ],
   "source": [
    "count=0\n",
    "for tweet in tweets:\n",
    "    text = tweet['text'].split()\n",
    "    for i in text:\n",
    "        if i.startswith(\"#\"):\n",
    "            count+=1\n",
    "            if i not in hashtag_list:\n",
    "                hashtag_list.append(i)\n",
    "            print(i)\n",
    "#             hashtag_list.append(i)\n",
    "print(count)"
   ]
  },
  {
   "cell_type": "code",
   "execution_count": 171,
   "id": "64f1ed62",
   "metadata": {},
   "outputs": [
    {
     "data": {
      "text/plain": [
       "['#GameBrand',\n",
       " '#Disappointed',\n",
       " '#Fun',\n",
       " '#Frustrated',\n",
       " '#Addicted',\n",
       " '#Impressive',\n",
       " '#Excited']"
      ]
     },
     "execution_count": 171,
     "metadata": {},
     "output_type": "execute_result"
    }
   ],
   "source": [
    "hashtag_list"
   ]
  },
  {
   "cell_type": "code",
   "execution_count": 172,
   "id": "db568a5c",
   "metadata": {},
   "outputs": [
    {
     "data": {
      "text/plain": [
       "7"
      ]
     },
     "execution_count": 172,
     "metadata": {},
     "output_type": "execute_result"
    }
   ],
   "source": [
    "len(hashtag_list)"
   ]
  },
  {
   "cell_type": "code",
   "execution_count": 176,
   "id": "6ee3c313",
   "metadata": {},
   "outputs": [
    {
     "name": "stdout",
     "output_type": "stream",
     "text": [
      "U1\n",
      "U2\n",
      "U3\n",
      "U4\n",
      "U5\n",
      "U6\n",
      "U7\n",
      "U8\n",
      "U9\n",
      "U10\n"
     ]
    }
   ],
   "source": [
    "# customization of username\n",
    "i=1\n",
    "for tweet in tweets:\n",
    "    tweet['username'] = \"U{}\".format(i)\n",
    "    i+=1\n",
    "    print(tweet['username'])"
   ]
  },
  {
   "cell_type": "code",
   "execution_count": 178,
   "id": "ac0d9fb3",
   "metadata": {},
   "outputs": [
    {
     "data": {
      "text/plain": [
       "[{'username': 'U1',\n",
       "  'timestamp': '2023-05-01 12:30',\n",
       "  'likes': 12,\n",
       "  'retweets': 4,\n",
       "  'text': 'I love this game!!! #GameBrand'},\n",
       " {'username': 'U2',\n",
       "  'timestamp': '2023-05-01 13:15',\n",
       "  'likes': 45,\n",
       "  'retweets': 5,\n",
       "  'text': \"I can't believe how bad this game is... #GameBrand #Disappointed\"},\n",
       " {'username': 'U3',\n",
       "  'timestamp': '2023-05-01 13:47',\n",
       "  'likes': 23,\n",
       "  'retweets': 2,\n",
       "  'text': 'What a great game! #GameBrand #Fun'},\n",
       " {'username': 'U4',\n",
       "  'timestamp': '2023-05-01 14:05',\n",
       "  'likes': 78,\n",
       "  'retweets': 7,\n",
       "  'text': 'This game is too difficult. #GameBrand #Frustrated'},\n",
       " {'username': 'U5',\n",
       "  'timestamp': '2023-05-01 14:23',\n",
       "  'likes': 45,\n",
       "  'retweets': 5,\n",
       "  'text': \"I can't stop playing this game! #GameBrand #Addicted\"},\n",
       " {'username': 'U6',\n",
       "  'timestamp': '2023-05-01 15:00',\n",
       "  'likes': 67,\n",
       "  'retweets': 6,\n",
       "  'text': 'The graphics in this game are amazing. #GameBrand #Impressive'},\n",
       " {'username': 'U7',\n",
       "  'timestamp': '2023-05-01 15:30',\n",
       "  'likes': 34,\n",
       "  'retweets': 3,\n",
       "  'text': 'I wish this game had better controls. #GameBrand #Frustrated'},\n",
       " {'username': 'U8',\n",
       "  'timestamp': '2023-05-01 16:00',\n",
       "  'likes': 23,\n",
       "  'retweets': 2,\n",
       "  'text': 'This game is a waste of money. #GameBrand #Disappointed'},\n",
       " {'username': 'U9',\n",
       "  'timestamp': '2023-05-01 16:45',\n",
       "  'likes': 56,\n",
       "  'retweets': 5,\n",
       "  'text': \"I can't wait for the sequel! #GameBrand #Excited\"},\n",
       " {'username': 'U10',\n",
       "  'timestamp': '2023-05-01 17:00',\n",
       "  'likes': 78,\n",
       "  'retweets': 7,\n",
       "  'text': 'This game has too many bugs. #GameBrand #Frustrated'}]"
      ]
     },
     "execution_count": 178,
     "metadata": {},
     "output_type": "execute_result"
    }
   ],
   "source": [
    "tweets"
   ]
  },
  {
   "cell_type": "code",
   "execution_count": 185,
   "id": "ef1578a0",
   "metadata": {},
   "outputs": [
    {
     "name": "stdout",
     "output_type": "stream",
     "text": [
      "#gamebrand\n",
      "#gamebrand\n",
      "i love this game!!! #gamebrand\n",
      "#gamebrand\n",
      "#gamebrand\n",
      "#disappointed\n",
      "#disappointed\n",
      "i can't believe how bad this game is... #gamebrand #disappointed\n",
      "#gamebrand\n",
      "#gamebrand\n",
      "#fun\n",
      "#fun\n",
      "what a great game! #gamebrand #fun\n",
      "#gamebrand\n",
      "#gamebrand\n",
      "#frustrated\n",
      "#frustrated\n",
      "this game is too difficult. #gamebrand #frustrated\n",
      "#gamebrand\n",
      "#gamebrand\n",
      "#addicted\n",
      "#addicted\n",
      "i can't stop playing this game! #gamebrand #addicted\n",
      "#gamebrand\n",
      "#gamebrand\n",
      "#impressive\n",
      "#impressive\n",
      "the graphics in this game are amazing. #gamebrand #impressive\n",
      "#gamebrand\n",
      "#gamebrand\n",
      "#frustrated\n",
      "#frustrated\n",
      "i wish this game had better controls. #gamebrand #frustrated\n",
      "#gamebrand\n",
      "#gamebrand\n",
      "#disappointed\n",
      "#disappointed\n",
      "this game is a waste of money. #gamebrand #disappointed\n",
      "#gamebrand\n",
      "#gamebrand\n",
      "#excited\n",
      "#excited\n",
      "i can't wait for the sequel! #gamebrand #excited\n",
      "#gamebrand\n",
      "#gamebrand\n",
      "#frustrated\n",
      "#frustrated\n",
      "this game has too many bugs. #gamebrand #frustrated\n"
     ]
    }
   ],
   "source": [
    "# text customization\n",
    "for tweet in tweets:\n",
    "    tweet['text'] = tweet['text'].lower().strip()\n",
    "    for i in tweet['text'].split():\n",
    "        if i.startswith(\"#\"):\n",
    "            print(i)\n",
    "            i.replace(i,\" \")\n",
    "            print(i)\n",
    "    print(tweet['text'])"
   ]
  },
  {
   "cell_type": "code",
   "execution_count": null,
   "id": "75654d02",
   "metadata": {},
   "outputs": [],
   "source": []
  },
  {
   "cell_type": "code",
   "execution_count": null,
   "id": "cd6de8e9",
   "metadata": {},
   "outputs": [],
   "source": []
  }
 ],
 "metadata": {
  "kernelspec": {
   "display_name": "Python 3 (ipykernel)",
   "language": "python",
   "name": "python3"
  },
  "language_info": {
   "codemirror_mode": {
    "name": "ipython",
    "version": 3
   },
   "file_extension": ".py",
   "mimetype": "text/x-python",
   "name": "python",
   "nbconvert_exporter": "python",
   "pygments_lexer": "ipython3",
   "version": "3.9.13"
  }
 },
 "nbformat": 4,
 "nbformat_minor": 5
}
