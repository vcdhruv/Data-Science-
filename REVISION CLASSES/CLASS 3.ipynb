{
 "cells": [
  {
   "cell_type": "code",
   "execution_count": 8,
   "id": "cb29ea52",
   "metadata": {},
   "outputs": [],
   "source": [
    "l1 = [1,2,3,4,5,6,7,8]"
   ]
  },
  {
   "cell_type": "code",
   "execution_count": 9,
   "id": "0ad3c6df",
   "metadata": {},
   "outputs": [],
   "source": [
    "def a():\n",
    "    for i in l1:\n",
    "        yield i"
   ]
  },
  {
   "cell_type": "code",
   "execution_count": 10,
   "id": "2a4b0cb5",
   "metadata": {},
   "outputs": [],
   "source": [
    "a = a()"
   ]
  },
  {
   "cell_type": "code",
   "execution_count": 11,
   "id": "821a240b",
   "metadata": {},
   "outputs": [
    {
     "data": {
      "text/plain": [
       "1"
      ]
     },
     "execution_count": 11,
     "metadata": {},
     "output_type": "execute_result"
    }
   ],
   "source": [
    "next(a)"
   ]
  },
  {
   "cell_type": "code",
   "execution_count": 12,
   "id": "a3daaf4f",
   "metadata": {},
   "outputs": [
    {
     "data": {
      "text/plain": [
       "generator"
      ]
     },
     "execution_count": 12,
     "metadata": {},
     "output_type": "execute_result"
    }
   ],
   "source": [
    "type(a)"
   ]
  },
  {
   "cell_type": "code",
   "execution_count": 13,
   "id": "449076e4",
   "metadata": {},
   "outputs": [
    {
     "name": "stdout",
     "output_type": "stream",
     "text": [
      "2\n",
      "3\n",
      "4\n",
      "5\n",
      "6\n",
      "7\n",
      "8\n"
     ]
    }
   ],
   "source": [
    "for i in a:\n",
    "    print(i)"
   ]
  },
  {
   "cell_type": "code",
   "execution_count": 14,
   "id": "8139872c",
   "metadata": {},
   "outputs": [
    {
     "name": "stdout",
     "output_type": "stream",
     "text": [
      "()\n"
     ]
    }
   ],
   "source": [
    "print(tuple(a))"
   ]
  },
  {
   "cell_type": "code",
   "execution_count": 15,
   "id": "ec2a7cb3",
   "metadata": {},
   "outputs": [],
   "source": [
    "def generate_seq(n):\n",
    "    for i in range(n):\n",
    "        yield i"
   ]
  },
  {
   "cell_type": "code",
   "execution_count": 16,
   "id": "dbb585d6",
   "metadata": {},
   "outputs": [],
   "source": [
    "seq_gen = generate_seq(5)"
   ]
  },
  {
   "cell_type": "code",
   "execution_count": 17,
   "id": "49a72e68",
   "metadata": {},
   "outputs": [
    {
     "name": "stdout",
     "output_type": "stream",
     "text": [
      "[0, 1, 2, 3, 4]\n"
     ]
    }
   ],
   "source": [
    "print(list(seq_gen))"
   ]
  },
  {
   "cell_type": "markdown",
   "id": "73aff66f",
   "metadata": {},
   "source": [
    "#### function to generate random module"
   ]
  },
  {
   "cell_type": "code",
   "execution_count": 18,
   "id": "accfd6be",
   "metadata": {},
   "outputs": [],
   "source": [
    "import random"
   ]
  },
  {
   "cell_type": "code",
   "execution_count": 19,
   "id": "548824eb",
   "metadata": {},
   "outputs": [],
   "source": [
    "def gen_random():\n",
    "    while True:\n",
    "        yield random.randint(1,500)"
   ]
  },
  {
   "cell_type": "code",
   "execution_count": 20,
   "id": "5c0df188",
   "metadata": {},
   "outputs": [],
   "source": [
    "gn = gen_random()"
   ]
  },
  {
   "cell_type": "code",
   "execution_count": 21,
   "id": "2440431e",
   "metadata": {},
   "outputs": [
    {
     "data": {
      "text/plain": [
       "[123, 433, 175, 439, 392]"
      ]
     },
     "execution_count": 21,
     "metadata": {},
     "output_type": "execute_result"
    }
   ],
   "source": [
    "[next(gn) for _ in range(5)]"
   ]
  },
  {
   "cell_type": "markdown",
   "id": "58206132",
   "metadata": {},
   "source": [
    "#### function to generate prime numbers"
   ]
  },
  {
   "cell_type": "code",
   "execution_count": 22,
   "id": "39555a17",
   "metadata": {},
   "outputs": [],
   "source": [
    "def is_prime(n):\n",
    "    if n<2:\n",
    "        return False\n",
    "    for i in range(2,int(n**0.5)+1):\n",
    "        if n % i == 0:\n",
    "            return False\n",
    "    return True"
   ]
  },
  {
   "cell_type": "code",
   "execution_count": 23,
   "id": "91c62c79",
   "metadata": {},
   "outputs": [],
   "source": [
    "def generate_prime():\n",
    "    num = 2\n",
    "    while True:\n",
    "        if is_prime(num):\n",
    "            yield num\n",
    "        num+=1"
   ]
  },
  {
   "cell_type": "code",
   "execution_count": 24,
   "id": "19a083f8",
   "metadata": {},
   "outputs": [],
   "source": [
    "pg = generate_prime()"
   ]
  },
  {
   "cell_type": "code",
   "execution_count": 25,
   "id": "1332ac70",
   "metadata": {},
   "outputs": [
    {
     "data": {
      "text/plain": [
       "[2, 3, 5, 7, 11, 13, 17, 19, 23, 29]"
      ]
     },
     "execution_count": 25,
     "metadata": {},
     "output_type": "execute_result"
    }
   ],
   "source": [
    "[next(pg) for _ in range(10)]"
   ]
  },
  {
   "cell_type": "markdown",
   "id": "33eb16fe",
   "metadata": {},
   "source": [
    "#### lambda functions"
   ]
  },
  {
   "cell_type": "code",
   "execution_count": 26,
   "id": "2e7bd4e4",
   "metadata": {},
   "outputs": [],
   "source": [
    "add_num = lambda x,y : print(\"sum of {} and {} is {}\".format(x,y,x+y))"
   ]
  },
  {
   "cell_type": "code",
   "execution_count": 27,
   "id": "70dad88f",
   "metadata": {},
   "outputs": [
    {
     "name": "stdout",
     "output_type": "stream",
     "text": [
      "sum of 5 and 4 is 9\n"
     ]
    }
   ],
   "source": [
    "add_num(5,4)"
   ]
  },
  {
   "cell_type": "code",
   "execution_count": 57,
   "id": "14c90347",
   "metadata": {},
   "outputs": [],
   "source": [
    "sq_num = lambda x : x**2"
   ]
  },
  {
   "cell_type": "code",
   "execution_count": 58,
   "id": "fadaaa0b",
   "metadata": {},
   "outputs": [
    {
     "data": {
      "text/plain": [
       "16"
      ]
     },
     "execution_count": 58,
     "metadata": {},
     "output_type": "execute_result"
    }
   ],
   "source": [
    "sq_num(4)"
   ]
  },
  {
   "cell_type": "code",
   "execution_count": 41,
   "id": "745fc628",
   "metadata": {},
   "outputs": [],
   "source": [
    "even_num = lambda x : x%2==0"
   ]
  },
  {
   "cell_type": "code",
   "execution_count": 42,
   "id": "1cc94dba",
   "metadata": {},
   "outputs": [
    {
     "data": {
      "text/plain": [
       "True"
      ]
     },
     "execution_count": 42,
     "metadata": {},
     "output_type": "execute_result"
    }
   ],
   "source": [
    "even_num(4)"
   ]
  },
  {
   "cell_type": "code",
   "execution_count": 43,
   "id": "500d0672",
   "metadata": {},
   "outputs": [],
   "source": [
    "upper_str = lambda x : x.upper()"
   ]
  },
  {
   "cell_type": "code",
   "execution_count": 44,
   "id": "f993993a",
   "metadata": {},
   "outputs": [
    {
     "data": {
      "text/plain": [
       "'VCD'"
      ]
     },
     "execution_count": 44,
     "metadata": {},
     "output_type": "execute_result"
    }
   ],
   "source": [
    "upper_str(\"vcd\")"
   ]
  },
  {
   "cell_type": "code",
   "execution_count": 45,
   "id": "9d7971f5",
   "metadata": {},
   "outputs": [],
   "source": [
    "l = [1,2,3,4,5]"
   ]
  },
  {
   "cell_type": "code",
   "execution_count": 46,
   "id": "17f64979",
   "metadata": {},
   "outputs": [
    {
     "data": {
      "text/plain": [
       "15"
      ]
     },
     "execution_count": 46,
     "metadata": {},
     "output_type": "execute_result"
    }
   ],
   "source": [
    "sum(l)"
   ]
  },
  {
   "cell_type": "code",
   "execution_count": 47,
   "id": "19f5195c",
   "metadata": {},
   "outputs": [],
   "source": [
    "avg_list = lambda a : sum(l)/len(l)"
   ]
  },
  {
   "cell_type": "code",
   "execution_count": 48,
   "id": "4270537d",
   "metadata": {},
   "outputs": [
    {
     "data": {
      "text/plain": [
       "3.0"
      ]
     },
     "execution_count": 48,
     "metadata": {},
     "output_type": "execute_result"
    }
   ],
   "source": [
    "avg_list(l)"
   ]
  },
  {
   "cell_type": "markdown",
   "id": "2aaf7a9a",
   "metadata": {},
   "source": [
    "#### Map function"
   ]
  },
  {
   "cell_type": "code",
   "execution_count": 49,
   "id": "93fedf30",
   "metadata": {},
   "outputs": [],
   "source": [
    "l1 = [1,2,3,4,5]"
   ]
  },
  {
   "cell_type": "code",
   "execution_count": 61,
   "id": "bcb5a68b",
   "metadata": {},
   "outputs": [
    {
     "data": {
      "text/plain": [
       "[1, 4, 9, 16, 25]"
      ]
     },
     "execution_count": 61,
     "metadata": {},
     "output_type": "execute_result"
    }
   ],
   "source": [
    "list(map(sq_num,l1))"
   ]
  },
  {
   "cell_type": "markdown",
   "id": "98ea0d76",
   "metadata": {},
   "source": [
    "#### Filter Function"
   ]
  },
  {
   "cell_type": "code",
   "execution_count": 62,
   "id": "fee9beb8",
   "metadata": {},
   "outputs": [],
   "source": [
    "l2 = [1,2,3,4,5]"
   ]
  },
  {
   "cell_type": "code",
   "execution_count": 63,
   "id": "45888fd9",
   "metadata": {},
   "outputs": [
    {
     "data": {
      "text/plain": [
       "[2, 4]"
      ]
     },
     "execution_count": 63,
     "metadata": {},
     "output_type": "execute_result"
    }
   ],
   "source": [
    "list(filter(even_num,l2))"
   ]
  },
  {
   "cell_type": "markdown",
   "id": "f9f08b35",
   "metadata": {},
   "source": [
    "#### Reduce Function"
   ]
  },
  {
   "cell_type": "code",
   "execution_count": 67,
   "id": "c1187708",
   "metadata": {},
   "outputs": [],
   "source": [
    "from functools import reduce"
   ]
  },
  {
   "cell_type": "code",
   "execution_count": 68,
   "id": "a2d4ee26",
   "metadata": {},
   "outputs": [],
   "source": [
    "l3 = [1,2,3,4,5]"
   ]
  },
  {
   "cell_type": "code",
   "execution_count": 70,
   "id": "997c2e7d",
   "metadata": {},
   "outputs": [
    {
     "data": {
      "text/plain": [
       "15"
      ]
     },
     "execution_count": 70,
     "metadata": {},
     "output_type": "execute_result"
    }
   ],
   "source": [
    "reduce(lambda x,y:x+y , l3)"
   ]
  },
  {
   "cell_type": "markdown",
   "id": "e3ec8cbd",
   "metadata": {},
   "source": [
    "### CASE STUDY\n"
   ]
  },
  {
   "cell_type": "markdown",
   "id": "e923e15f",
   "metadata": {},
   "source": [
    "##### WE ARE DEVELOPING A PROGRAM TO PROCESS ONLINE STORE ORDERS. EACH ORDER CONTAINS INFORMATION ABOUT THE CUSTOMER , THE ITEMS PURCHASED AND ADDITIONAL DETAILS . YOU NEeD TO CREATE A SET  OF FUNCTIONS TO HANDLE DIFFERENT ASPECTS OF ORDER PROCESSING"
   ]
  },
  {
   "cell_type": "code",
   "execution_count": 71,
   "id": "7143cd1d",
   "metadata": {},
   "outputs": [],
   "source": [
    "def process_customer_info(name,email,**kwargs):\n",
    "    print(f\"Processing customer info for {name}\")\n",
    "    print(f\"Email: {email}\")\n",
    "    print(\"Additional Information :\")\n",
    "    \n",
    "    for k,v in kwargs:\n",
    "        print(f\"{k} : {v}\")"
   ]
  },
  {
   "cell_type": "code",
   "execution_count": 72,
   "id": "8a0715ca",
   "metadata": {},
   "outputs": [],
   "source": [
    "def process_order_item(*args):\n",
    "    print(\"Processing order items:\")\n",
    "    \n",
    "    for item in args:\n",
    "        print(f\"{item}\")"
   ]
  },
  {
   "cell_type": "code",
   "execution_count": 73,
   "id": "9a86b8fe",
   "metadata": {},
   "outputs": [],
   "source": [
    "def calculate_total_amount(*args):\n",
    "    total = 0\n",
    "    for i in args:\n",
    "        if isinstance(i,(int,float)):\n",
    "            total+=arg\n",
    "        else:\n",
    "            print(f\"INVALID ITEM PRICE : {arg}\")\n",
    "    return total"
   ]
  },
  {
   "cell_type": "code",
   "execution_count": 77,
   "id": "54379435",
   "metadata": {},
   "outputs": [],
   "source": [
    "def process_order(customer_info , *items , **kwargs):\n",
    "    print(\"Order Processing Initiated ---\")\n",
    "    process_customer_info(**customer_info)\n",
    "    process_order_item(*items)\n",
    "    \n",
    "    item_proices = kwargs.get(\"Item_prices.\",())\n",
    "    total_amount = calculate_total_amount(*item_proices)\n",
    "    print(f\"total amount:${total_amount}\")\n",
    "    print(f\"Order process Completed\")\n",
    "    \n",
    "    print(\"receipt\")\n",
    "    print(f\"Customer : {customer_info['name']}\")\n",
    "    "
   ]
  },
  {
   "cell_type": "code",
   "execution_count": 79,
   "id": "21d8da16",
   "metadata": {},
   "outputs": [],
   "source": [
    "customer_info = {\n",
    "    \"name\":\"john\",\n",
    "    \"email\":\"john@gmail.com\",\n",
    "    \"phone\":123456789\n",
    "}\n",
    "\n",
    "items = (\"Shirt\",\"Jeans\",\"Shoes\")\n",
    "\n",
    "order_details = {\n",
    "    \"address\":\"xyz\",\n",
    "    \"Item_prices\":(15.99,10,20)\n",
    "}"
   ]
  },
  {
   "cell_type": "code",
   "execution_count": 80,
   "id": "fbe6bd53",
   "metadata": {},
   "outputs": [
    {
     "name": "stdout",
     "output_type": "stream",
     "text": [
      "Order Processing Initiated ---\n",
      "Processing customer info for john\n",
      "Email: john@gmail.com\n",
      "Additional Information :\n"
     ]
    },
    {
     "ename": "ValueError",
     "evalue": "too many values to unpack (expected 2)",
     "output_type": "error",
     "traceback": [
      "\u001b[1;31m---------------------------------------------------------------------------\u001b[0m",
      "\u001b[1;31mValueError\u001b[0m                                Traceback (most recent call last)",
      "\u001b[1;32m~\\AppData\\Local\\Temp\\ipykernel_29624\\1004178235.py\u001b[0m in \u001b[0;36m<module>\u001b[1;34m\u001b[0m\n\u001b[1;32m----> 1\u001b[1;33m \u001b[0mprocess_order\u001b[0m\u001b[1;33m(\u001b[0m\u001b[0mcustomer_info\u001b[0m\u001b[1;33m,\u001b[0m\u001b[1;33m*\u001b[0m\u001b[0mitems\u001b[0m\u001b[1;33m,\u001b[0m\u001b[1;33m**\u001b[0m\u001b[0morder_details\u001b[0m\u001b[1;33m)\u001b[0m\u001b[1;33m\u001b[0m\u001b[1;33m\u001b[0m\u001b[0m\n\u001b[0m",
      "\u001b[1;32m~\\AppData\\Local\\Temp\\ipykernel_29624\\1502122932.py\u001b[0m in \u001b[0;36mprocess_order\u001b[1;34m(customer_info, *items, **kwargs)\u001b[0m\n\u001b[0;32m      1\u001b[0m \u001b[1;32mdef\u001b[0m \u001b[0mprocess_order\u001b[0m\u001b[1;33m(\u001b[0m\u001b[0mcustomer_info\u001b[0m \u001b[1;33m,\u001b[0m \u001b[1;33m*\u001b[0m\u001b[0mitems\u001b[0m \u001b[1;33m,\u001b[0m \u001b[1;33m**\u001b[0m\u001b[0mkwargs\u001b[0m\u001b[1;33m)\u001b[0m\u001b[1;33m:\u001b[0m\u001b[1;33m\u001b[0m\u001b[1;33m\u001b[0m\u001b[0m\n\u001b[0;32m      2\u001b[0m     \u001b[0mprint\u001b[0m\u001b[1;33m(\u001b[0m\u001b[1;34m\"Order Processing Initiated ---\"\u001b[0m\u001b[1;33m)\u001b[0m\u001b[1;33m\u001b[0m\u001b[1;33m\u001b[0m\u001b[0m\n\u001b[1;32m----> 3\u001b[1;33m     \u001b[0mprocess_customer_info\u001b[0m\u001b[1;33m(\u001b[0m\u001b[1;33m**\u001b[0m\u001b[0mcustomer_info\u001b[0m\u001b[1;33m)\u001b[0m\u001b[1;33m\u001b[0m\u001b[1;33m\u001b[0m\u001b[0m\n\u001b[0m\u001b[0;32m      4\u001b[0m     \u001b[0mprocess_order_item\u001b[0m\u001b[1;33m(\u001b[0m\u001b[1;33m*\u001b[0m\u001b[0mitems\u001b[0m\u001b[1;33m)\u001b[0m\u001b[1;33m\u001b[0m\u001b[1;33m\u001b[0m\u001b[0m\n\u001b[0;32m      5\u001b[0m \u001b[1;33m\u001b[0m\u001b[0m\n",
      "\u001b[1;32m~\\AppData\\Local\\Temp\\ipykernel_29624\\2769606488.py\u001b[0m in \u001b[0;36mprocess_customer_info\u001b[1;34m(name, email, **kwargs)\u001b[0m\n\u001b[0;32m      4\u001b[0m     \u001b[0mprint\u001b[0m\u001b[1;33m(\u001b[0m\u001b[1;34m\"Additional Information :\"\u001b[0m\u001b[1;33m)\u001b[0m\u001b[1;33m\u001b[0m\u001b[1;33m\u001b[0m\u001b[0m\n\u001b[0;32m      5\u001b[0m \u001b[1;33m\u001b[0m\u001b[0m\n\u001b[1;32m----> 6\u001b[1;33m     \u001b[1;32mfor\u001b[0m \u001b[0mk\u001b[0m\u001b[1;33m,\u001b[0m\u001b[0mv\u001b[0m \u001b[1;32min\u001b[0m \u001b[0mkwargs\u001b[0m\u001b[1;33m:\u001b[0m\u001b[1;33m\u001b[0m\u001b[1;33m\u001b[0m\u001b[0m\n\u001b[0m\u001b[0;32m      7\u001b[0m         \u001b[0mprint\u001b[0m\u001b[1;33m(\u001b[0m\u001b[1;34mf\"{k} : {v}\"\u001b[0m\u001b[1;33m)\u001b[0m\u001b[1;33m\u001b[0m\u001b[1;33m\u001b[0m\u001b[0m\n",
      "\u001b[1;31mValueError\u001b[0m: too many values to unpack (expected 2)"
     ]
    }
   ],
   "source": [
    "process_order(customer_info,*items,**order_details)"
   ]
  },
  {
   "cell_type": "code",
   "execution_count": null,
   "id": "47cc2d6d",
   "metadata": {},
   "outputs": [],
   "source": []
  }
 ],
 "metadata": {
  "kernelspec": {
   "display_name": "Python 3 (ipykernel)",
   "language": "python",
   "name": "python3"
  },
  "language_info": {
   "codemirror_mode": {
    "name": "ipython",
    "version": 3
   },
   "file_extension": ".py",
   "mimetype": "text/x-python",
   "name": "python",
   "nbconvert_exporter": "python",
   "pygments_lexer": "ipython3",
   "version": "3.9.13"
  }
 },
 "nbformat": 4,
 "nbformat_minor": 5
}
