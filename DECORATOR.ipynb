{
 "cells": [
  {
   "cell_type": "code",
   "execution_count": 3,
   "id": "3d06b0d2",
   "metadata": {},
   "outputs": [],
   "source": [
    "def test():\n",
    "    print(\"this is the start of the function\")\n",
    "    print(4+3)\n",
    "    print(\"this is the end of the function\")"
   ]
  },
  {
   "cell_type": "code",
   "execution_count": 4,
   "id": "a0a2deee",
   "metadata": {},
   "outputs": [
    {
     "name": "stdout",
     "output_type": "stream",
     "text": [
      "this is the start of the function\n",
      "7\n",
      "this is the end of the function\n"
     ]
    }
   ],
   "source": [
    "test()"
   ]
  },
  {
   "cell_type": "code",
   "execution_count": 5,
   "id": "ae8406e6",
   "metadata": {},
   "outputs": [],
   "source": [
    "def deco(function):\n",
    "    def inner_function():\n",
    "        print(\"this is the start of the function\")\n",
    "        function()\n",
    "        print(\"this is the end of the function\")\n",
    "    return inner_function"
   ]
  },
  {
   "cell_type": "code",
   "execution_count": 15,
   "id": "6a009c83",
   "metadata": {},
   "outputs": [],
   "source": [
    "@deco\n",
    "def test_sum():\n",
    "    a=4\n",
    "    b=3\n",
    "    print(\"sum of {} and {} is: {}\".format(a,b,a+b))"
   ]
  },
  {
   "cell_type": "code",
   "execution_count": 16,
   "id": "4319c15f",
   "metadata": {},
   "outputs": [
    {
     "name": "stdout",
     "output_type": "stream",
     "text": [
      "this is the start of the function\n",
      "sum of 4 and 3 is: 7\n",
      "this is the end of the function\n"
     ]
    }
   ],
   "source": [
    "# a = input(\"Enter a:\")\n",
    "# b = input(\"Enter b:\")\n",
    "test_sum()"
   ]
  },
  {
   "cell_type": "code",
   "execution_count": 28,
   "id": "e82a95a9",
   "metadata": {},
   "outputs": [],
   "source": [
    "import time\n",
    "\n",
    "def test_timer(func):\n",
    "    def inner_func():\n",
    "        start = time.time()\n",
    "        func()\n",
    "        end = time.time()\n",
    "        print(end - start)\n",
    "    return inner_func"
   ]
  },
  {
   "cell_type": "code",
   "execution_count": 29,
   "id": "71431f68",
   "metadata": {},
   "outputs": [],
   "source": [
    "@test_timer\n",
    "def test1():\n",
    "    for i in range(1000000000):\n",
    "        pass"
   ]
  },
  {
   "cell_type": "code",
   "execution_count": 30,
   "id": "4a6df53b",
   "metadata": {},
   "outputs": [
    {
     "name": "stdout",
     "output_type": "stream",
     "text": [
      "16.499977588653564\n"
     ]
    }
   ],
   "source": [
    "test1()"
   ]
  },
  {
   "cell_type": "code",
   "execution_count": null,
   "id": "3a028c3e",
   "metadata": {},
   "outputs": [],
   "source": []
  }
 ],
 "metadata": {
  "kernelspec": {
   "display_name": "Python 3 (ipykernel)",
   "language": "python",
   "name": "python3"
  },
  "language_info": {
   "codemirror_mode": {
    "name": "ipython",
    "version": 3
   },
   "file_extension": ".py",
   "mimetype": "text/x-python",
   "name": "python",
   "nbconvert_exporter": "python",
   "pygments_lexer": "ipython3",
   "version": "3.9.13"
  }
 },
 "nbformat": 4,
 "nbformat_minor": 5
}
