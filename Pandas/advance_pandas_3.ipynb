{
 "cells": [
  {
   "cell_type": "code",
   "execution_count": 1,
   "metadata": {},
   "outputs": [],
   "source": [
    "import pandas as pd"
   ]
  },
  {
   "cell_type": "code",
   "execution_count": 2,
   "metadata": {},
   "outputs": [],
   "source": [
    "data = {\n",
    "    \"a\":[1,2,3,4],\n",
    "    \"b\":[4,5,6,7],\n",
    "    \"c\":[\"vcd\",\"mcd\",\"dcd\",\"cmd\"]\n",
    "}"
   ]
  },
  {
   "cell_type": "code",
   "execution_count": 3,
   "metadata": {},
   "outputs": [],
   "source": [
    "df = pd.DataFrame(data)"
   ]
  },
  {
   "cell_type": "code",
   "execution_count": 5,
   "metadata": {},
   "outputs": [],
   "source": [
    "df.set_index(\"a\",inplace=True)"
   ]
  },
  {
   "cell_type": "code",
   "execution_count": 7,
   "metadata": {},
   "outputs": [],
   "source": [
    "df.reset_index(inplace=True)"
   ]
  },
  {
   "cell_type": "code",
   "execution_count": 9,
   "metadata": {},
   "outputs": [],
   "source": [
    "data = {\n",
    "    \"a\":[1,2,3,4],\n",
    "    \"b\":[4,5,6,7],\n",
    "    \"c\":[\"vcd\",\"mcd\",\"dcd\",\"cmd\"]\n",
    "}\n",
    "df1 = pd.DataFrame(data,index=['a','b','c','d'])"
   ]
  },
  {
   "cell_type": "code",
   "execution_count": 11,
   "metadata": {},
   "outputs": [
    {
     "data": {
      "text/html": [
       "<div>\n",
       "<style scoped>\n",
       "    .dataframe tbody tr th:only-of-type {\n",
       "        vertical-align: middle;\n",
       "    }\n",
       "\n",
       "    .dataframe tbody tr th {\n",
       "        vertical-align: top;\n",
       "    }\n",
       "\n",
       "    .dataframe thead th {\n",
       "        text-align: right;\n",
       "    }\n",
       "</style>\n",
       "<table border=\"1\" class=\"dataframe\">\n",
       "  <thead>\n",
       "    <tr style=\"text-align: right;\">\n",
       "      <th></th>\n",
       "      <th>a</th>\n",
       "      <th>b</th>\n",
       "      <th>c</th>\n",
       "    </tr>\n",
       "  </thead>\n",
       "  <tbody>\n",
       "    <tr>\n",
       "      <th>b</th>\n",
       "      <td>2</td>\n",
       "      <td>5</td>\n",
       "      <td>mcd</td>\n",
       "    </tr>\n",
       "    <tr>\n",
       "      <th>c</th>\n",
       "      <td>3</td>\n",
       "      <td>6</td>\n",
       "      <td>dcd</td>\n",
       "    </tr>\n",
       "    <tr>\n",
       "      <th>d</th>\n",
       "      <td>4</td>\n",
       "      <td>7</td>\n",
       "      <td>cmd</td>\n",
       "    </tr>\n",
       "    <tr>\n",
       "      <th>a</th>\n",
       "      <td>1</td>\n",
       "      <td>4</td>\n",
       "      <td>vcd</td>\n",
       "    </tr>\n",
       "  </tbody>\n",
       "</table>\n",
       "</div>"
      ],
      "text/plain": [
       "   a  b    c\n",
       "b  2  5  mcd\n",
       "c  3  6  dcd\n",
       "d  4  7  cmd\n",
       "a  1  4  vcd"
      ]
     },
     "execution_count": 11,
     "metadata": {},
     "output_type": "execute_result"
    }
   ],
   "source": [
    "df1.reindex(['b','c','d','a'])"
   ]
  },
  {
   "cell_type": "code",
   "execution_count": 12,
   "metadata": {},
   "outputs": [
    {
     "data": {
      "text/html": [
       "<div>\n",
       "<style scoped>\n",
       "    .dataframe tbody tr th:only-of-type {\n",
       "        vertical-align: middle;\n",
       "    }\n",
       "\n",
       "    .dataframe tbody tr th {\n",
       "        vertical-align: top;\n",
       "    }\n",
       "\n",
       "    .dataframe thead th {\n",
       "        text-align: right;\n",
       "    }\n",
       "</style>\n",
       "<table border=\"1\" class=\"dataframe\">\n",
       "  <thead>\n",
       "    <tr style=\"text-align: right;\">\n",
       "      <th></th>\n",
       "      <th>a</th>\n",
       "      <th>b</th>\n",
       "      <th>c</th>\n",
       "    </tr>\n",
       "  </thead>\n",
       "  <tbody>\n",
       "    <tr>\n",
       "      <th>a</th>\n",
       "      <td>1</td>\n",
       "      <td>4</td>\n",
       "      <td>vcd</td>\n",
       "    </tr>\n",
       "    <tr>\n",
       "      <th>b</th>\n",
       "      <td>2</td>\n",
       "      <td>5</td>\n",
       "      <td>mcd</td>\n",
       "    </tr>\n",
       "    <tr>\n",
       "      <th>c</th>\n",
       "      <td>3</td>\n",
       "      <td>6</td>\n",
       "      <td>dcd</td>\n",
       "    </tr>\n",
       "    <tr>\n",
       "      <th>d</th>\n",
       "      <td>4</td>\n",
       "      <td>7</td>\n",
       "      <td>cmd</td>\n",
       "    </tr>\n",
       "  </tbody>\n",
       "</table>\n",
       "</div>"
      ],
      "text/plain": [
       "   a  b    c\n",
       "a  1  4  vcd\n",
       "b  2  5  mcd\n",
       "c  3  6  dcd\n",
       "d  4  7  cmd"
      ]
     },
     "execution_count": 12,
     "metadata": {},
     "output_type": "execute_result"
    }
   ],
   "source": [
    "df1"
   ]
  },
  {
   "cell_type": "code",
   "execution_count": 13,
   "metadata": {},
   "outputs": [
    {
     "name": "stdout",
     "output_type": "stream",
     "text": [
      "('a', a      1\n",
      "b      4\n",
      "c    vcd\n",
      "Name: a, dtype: object)\n",
      "('b', a      2\n",
      "b      5\n",
      "c    mcd\n",
      "Name: b, dtype: object)\n",
      "('c', a      3\n",
      "b      6\n",
      "c    dcd\n",
      "Name: c, dtype: object)\n",
      "('d', a      4\n",
      "b      7\n",
      "c    cmd\n",
      "Name: d, dtype: object)\n"
     ]
    }
   ],
   "source": [
    "for i in df1.iterrows(): \n",
    "    print(i)"
   ]
  },
  {
   "cell_type": "code",
   "execution_count": 14,
   "metadata": {},
   "outputs": [
    {
     "data": {
      "text/html": [
       "<div>\n",
       "<style scoped>\n",
       "    .dataframe tbody tr th:only-of-type {\n",
       "        vertical-align: middle;\n",
       "    }\n",
       "\n",
       "    .dataframe tbody tr th {\n",
       "        vertical-align: top;\n",
       "    }\n",
       "\n",
       "    .dataframe thead th {\n",
       "        text-align: right;\n",
       "    }\n",
       "</style>\n",
       "<table border=\"1\" class=\"dataframe\">\n",
       "  <thead>\n",
       "    <tr style=\"text-align: right;\">\n",
       "      <th></th>\n",
       "      <th>a</th>\n",
       "      <th>b</th>\n",
       "      <th>c</th>\n",
       "    </tr>\n",
       "  </thead>\n",
       "  <tbody>\n",
       "    <tr>\n",
       "      <th>a</th>\n",
       "      <td>1</td>\n",
       "      <td>4</td>\n",
       "      <td>vcd</td>\n",
       "    </tr>\n",
       "    <tr>\n",
       "      <th>b</th>\n",
       "      <td>2</td>\n",
       "      <td>5</td>\n",
       "      <td>mcd</td>\n",
       "    </tr>\n",
       "    <tr>\n",
       "      <th>c</th>\n",
       "      <td>3</td>\n",
       "      <td>6</td>\n",
       "      <td>dcd</td>\n",
       "    </tr>\n",
       "    <tr>\n",
       "      <th>d</th>\n",
       "      <td>4</td>\n",
       "      <td>7</td>\n",
       "      <td>cmd</td>\n",
       "    </tr>\n",
       "  </tbody>\n",
       "</table>\n",
       "</div>"
      ],
      "text/plain": [
       "   a  b    c\n",
       "a  1  4  vcd\n",
       "b  2  5  mcd\n",
       "c  3  6  dcd\n",
       "d  4  7  cmd"
      ]
     },
     "execution_count": 14,
     "metadata": {},
     "output_type": "execute_result"
    }
   ],
   "source": [
    "df1"
   ]
  },
  {
   "cell_type": "code",
   "execution_count": 15,
   "metadata": {},
   "outputs": [
    {
     "name": "stdout",
     "output_type": "stream",
     "text": [
      "a a      1\n",
      "b      4\n",
      "c    vcd\n",
      "Name: a, dtype: object\n",
      "b a      2\n",
      "b      5\n",
      "c    mcd\n",
      "Name: b, dtype: object\n",
      "c a      3\n",
      "b      6\n",
      "c    dcd\n",
      "Name: c, dtype: object\n",
      "d a      4\n",
      "b      7\n",
      "c    cmd\n",
      "Name: d, dtype: object\n"
     ]
    }
   ],
   "source": [
    "for i , j in df1.iterrows():\n",
    "    print(i,j)"
   ]
  },
  {
   "cell_type": "code",
   "execution_count": 24,
   "metadata": {},
   "outputs": [
    {
     "data": {
      "text/plain": [
       "[1, 2, 3, 4]"
      ]
     },
     "execution_count": 24,
     "metadata": {},
     "output_type": "execute_result"
    }
   ],
   "source": [
    "list(df['a'])"
   ]
  },
  {
   "cell_type": "code",
   "execution_count": 25,
   "metadata": {},
   "outputs": [
    {
     "data": {
      "text/plain": [
       "10"
      ]
     },
     "execution_count": 25,
     "metadata": {},
     "output_type": "execute_result"
    }
   ],
   "source": [
    "sum(list(df['a']))"
   ]
  },
  {
   "cell_type": "code",
   "execution_count": 26,
   "metadata": {},
   "outputs": [
    {
     "data": {
      "text/plain": [
       "a              10\n",
       "b              22\n",
       "c    vcdmcddcdcmd\n",
       "dtype: object"
      ]
     },
     "execution_count": 26,
     "metadata": {},
     "output_type": "execute_result"
    }
   ],
   "source": [
    "df1.apply(lambda x : x.sum())"
   ]
  },
  {
   "cell_type": "code",
   "execution_count": 27,
   "metadata": {},
   "outputs": [
    {
     "data": {
      "text/html": [
       "<div>\n",
       "<style scoped>\n",
       "    .dataframe tbody tr th:only-of-type {\n",
       "        vertical-align: middle;\n",
       "    }\n",
       "\n",
       "    .dataframe tbody tr th {\n",
       "        vertical-align: top;\n",
       "    }\n",
       "\n",
       "    .dataframe thead th {\n",
       "        text-align: right;\n",
       "    }\n",
       "</style>\n",
       "<table border=\"1\" class=\"dataframe\">\n",
       "  <thead>\n",
       "    <tr style=\"text-align: right;\">\n",
       "      <th></th>\n",
       "      <th>a</th>\n",
       "      <th>b</th>\n",
       "    </tr>\n",
       "  </thead>\n",
       "  <tbody>\n",
       "    <tr>\n",
       "      <th>a</th>\n",
       "      <td>1</td>\n",
       "      <td>16</td>\n",
       "    </tr>\n",
       "    <tr>\n",
       "      <th>b</th>\n",
       "      <td>4</td>\n",
       "      <td>25</td>\n",
       "    </tr>\n",
       "    <tr>\n",
       "      <th>c</th>\n",
       "      <td>9</td>\n",
       "      <td>36</td>\n",
       "    </tr>\n",
       "    <tr>\n",
       "      <th>d</th>\n",
       "      <td>16</td>\n",
       "      <td>49</td>\n",
       "    </tr>\n",
       "  </tbody>\n",
       "</table>\n",
       "</div>"
      ],
      "text/plain": [
       "    a   b\n",
       "a   1  16\n",
       "b   4  25\n",
       "c   9  36\n",
       "d  16  49"
      ]
     },
     "execution_count": 27,
     "metadata": {},
     "output_type": "execute_result"
    }
   ],
   "source": [
    "df1[['a','b']].apply(lambda x : x**2)"
   ]
  },
  {
   "cell_type": "code",
   "execution_count": 30,
   "metadata": {},
   "outputs": [
    {
     "data": {
      "text/html": [
       "<div>\n",
       "<style scoped>\n",
       "    .dataframe tbody tr th:only-of-type {\n",
       "        vertical-align: middle;\n",
       "    }\n",
       "\n",
       "    .dataframe tbody tr th {\n",
       "        vertical-align: top;\n",
       "    }\n",
       "\n",
       "    .dataframe thead th {\n",
       "        text-align: right;\n",
       "    }\n",
       "</style>\n",
       "<table border=\"1\" class=\"dataframe\">\n",
       "  <thead>\n",
       "    <tr style=\"text-align: right;\">\n",
       "      <th></th>\n",
       "      <th>a</th>\n",
       "      <th>b</th>\n",
       "    </tr>\n",
       "  </thead>\n",
       "  <tbody>\n",
       "    <tr>\n",
       "      <th>a</th>\n",
       "      <td>1</td>\n",
       "      <td>16</td>\n",
       "    </tr>\n",
       "    <tr>\n",
       "      <th>b</th>\n",
       "      <td>4</td>\n",
       "      <td>25</td>\n",
       "    </tr>\n",
       "    <tr>\n",
       "      <th>c</th>\n",
       "      <td>9</td>\n",
       "      <td>36</td>\n",
       "    </tr>\n",
       "    <tr>\n",
       "      <th>d</th>\n",
       "      <td>16</td>\n",
       "      <td>49</td>\n",
       "    </tr>\n",
       "  </tbody>\n",
       "</table>\n",
       "</div>"
      ],
      "text/plain": [
       "    a   b\n",
       "a   1  16\n",
       "b   4  25\n",
       "c   9  36\n",
       "d  16  49"
      ]
     },
     "execution_count": 30,
     "metadata": {},
     "output_type": "execute_result"
    }
   ],
   "source": [
    "df2 = df1[['a','b']]\n",
    "df2.map(lambda x : x**2)\n"
   ]
  },
  {
   "cell_type": "code",
   "execution_count": 31,
   "metadata": {},
   "outputs": [
    {
     "data": {
      "text/html": [
       "<div>\n",
       "<style scoped>\n",
       "    .dataframe tbody tr th:only-of-type {\n",
       "        vertical-align: middle;\n",
       "    }\n",
       "\n",
       "    .dataframe tbody tr th {\n",
       "        vertical-align: top;\n",
       "    }\n",
       "\n",
       "    .dataframe thead th {\n",
       "        text-align: right;\n",
       "    }\n",
       "</style>\n",
       "<table border=\"1\" class=\"dataframe\">\n",
       "  <thead>\n",
       "    <tr style=\"text-align: right;\">\n",
       "      <th></th>\n",
       "      <th>a</th>\n",
       "      <th>b</th>\n",
       "      <th>c</th>\n",
       "    </tr>\n",
       "  </thead>\n",
       "  <tbody>\n",
       "    <tr>\n",
       "      <th>a</th>\n",
       "      <td>1</td>\n",
       "      <td>4</td>\n",
       "      <td>vcd</td>\n",
       "    </tr>\n",
       "    <tr>\n",
       "      <th>b</th>\n",
       "      <td>2</td>\n",
       "      <td>5</td>\n",
       "      <td>mcd</td>\n",
       "    </tr>\n",
       "    <tr>\n",
       "      <th>c</th>\n",
       "      <td>3</td>\n",
       "      <td>6</td>\n",
       "      <td>dcd</td>\n",
       "    </tr>\n",
       "    <tr>\n",
       "      <th>d</th>\n",
       "      <td>4</td>\n",
       "      <td>7</td>\n",
       "      <td>cmd</td>\n",
       "    </tr>\n",
       "  </tbody>\n",
       "</table>\n",
       "</div>"
      ],
      "text/plain": [
       "   a  b    c\n",
       "a  1  4  vcd\n",
       "b  2  5  mcd\n",
       "c  3  6  dcd\n",
       "d  4  7  cmd"
      ]
     },
     "execution_count": 31,
     "metadata": {},
     "output_type": "execute_result"
    }
   ],
   "source": [
    "df1"
   ]
  },
  {
   "cell_type": "code",
   "execution_count": 33,
   "metadata": {},
   "outputs": [
    {
     "data": {
      "text/html": [
       "<div>\n",
       "<style scoped>\n",
       "    .dataframe tbody tr th:only-of-type {\n",
       "        vertical-align: middle;\n",
       "    }\n",
       "\n",
       "    .dataframe tbody tr th {\n",
       "        vertical-align: top;\n",
       "    }\n",
       "\n",
       "    .dataframe thead th {\n",
       "        text-align: right;\n",
       "    }\n",
       "</style>\n",
       "<table border=\"1\" class=\"dataframe\">\n",
       "  <thead>\n",
       "    <tr style=\"text-align: right;\">\n",
       "      <th></th>\n",
       "      <th>a</th>\n",
       "      <th>b</th>\n",
       "      <th>c</th>\n",
       "    </tr>\n",
       "  </thead>\n",
       "  <tbody>\n",
       "    <tr>\n",
       "      <th>d</th>\n",
       "      <td>4</td>\n",
       "      <td>7</td>\n",
       "      <td>cmd</td>\n",
       "    </tr>\n",
       "    <tr>\n",
       "      <th>c</th>\n",
       "      <td>3</td>\n",
       "      <td>6</td>\n",
       "      <td>dcd</td>\n",
       "    </tr>\n",
       "    <tr>\n",
       "      <th>b</th>\n",
       "      <td>2</td>\n",
       "      <td>5</td>\n",
       "      <td>mcd</td>\n",
       "    </tr>\n",
       "    <tr>\n",
       "      <th>a</th>\n",
       "      <td>1</td>\n",
       "      <td>4</td>\n",
       "      <td>vcd</td>\n",
       "    </tr>\n",
       "  </tbody>\n",
       "</table>\n",
       "</div>"
      ],
      "text/plain": [
       "   a  b    c\n",
       "d  4  7  cmd\n",
       "c  3  6  dcd\n",
       "b  2  5  mcd\n",
       "a  1  4  vcd"
      ]
     },
     "execution_count": 33,
     "metadata": {},
     "output_type": "execute_result"
    }
   ],
   "source": [
    "df1.sort_values(\"c\")"
   ]
  },
  {
   "cell_type": "code",
   "execution_count": 34,
   "metadata": {},
   "outputs": [
    {
     "data": {
      "text/html": [
       "<div>\n",
       "<style scoped>\n",
       "    .dataframe tbody tr th:only-of-type {\n",
       "        vertical-align: middle;\n",
       "    }\n",
       "\n",
       "    .dataframe tbody tr th {\n",
       "        vertical-align: top;\n",
       "    }\n",
       "\n",
       "    .dataframe thead th {\n",
       "        text-align: right;\n",
       "    }\n",
       "</style>\n",
       "<table border=\"1\" class=\"dataframe\">\n",
       "  <thead>\n",
       "    <tr style=\"text-align: right;\">\n",
       "      <th></th>\n",
       "      <th>a</th>\n",
       "      <th>b</th>\n",
       "      <th>c</th>\n",
       "    </tr>\n",
       "  </thead>\n",
       "  <tbody>\n",
       "    <tr>\n",
       "      <th>a</th>\n",
       "      <td>1</td>\n",
       "      <td>4</td>\n",
       "      <td>vcd</td>\n",
       "    </tr>\n",
       "    <tr>\n",
       "      <th>b</th>\n",
       "      <td>2</td>\n",
       "      <td>5</td>\n",
       "      <td>mcd</td>\n",
       "    </tr>\n",
       "    <tr>\n",
       "      <th>c</th>\n",
       "      <td>3</td>\n",
       "      <td>6</td>\n",
       "      <td>dcd</td>\n",
       "    </tr>\n",
       "    <tr>\n",
       "      <th>d</th>\n",
       "      <td>4</td>\n",
       "      <td>7</td>\n",
       "      <td>cmd</td>\n",
       "    </tr>\n",
       "  </tbody>\n",
       "</table>\n",
       "</div>"
      ],
      "text/plain": [
       "   a  b    c\n",
       "a  1  4  vcd\n",
       "b  2  5  mcd\n",
       "c  3  6  dcd\n",
       "d  4  7  cmd"
      ]
     },
     "execution_count": 34,
     "metadata": {},
     "output_type": "execute_result"
    }
   ],
   "source": [
    "df1.sort_index()"
   ]
  },
  {
   "cell_type": "code",
   "execution_count": 44,
   "metadata": {},
   "outputs": [],
   "source": [
    "pd.set_option(\"display.max_colwidth\",1000)\n",
    "df2 = pd.DataFrame({\n",
    "    \"Desc\":[\"Data Science Masters course is highly curated and uniquely designed according to the latest industry standards. This program instills students the skills essential to knowledge discovery efforts to identify standard, novel, and truly differentiated solutions and decision-making, including skills in managing, querying, analyzing, visualizing, and extracting meaning from extremely large data sets. This trending program provides students with the statistical, mathematical and computational skills needed to meet the large-scale data science challenges of today's professional world. You will learn all the stack required to work in data science industry including cloud infrastructure and real-time industry projects. This course will be taught in Hindi language.\",\"My name is vcd\",\"i m learning pandas\"]\n",
    "})"
   ]
  },
  {
   "cell_type": "code",
   "execution_count": 45,
   "metadata": {},
   "outputs": [
    {
     "data": {
      "text/html": [
       "<div>\n",
       "<style scoped>\n",
       "    .dataframe tbody tr th:only-of-type {\n",
       "        vertical-align: middle;\n",
       "    }\n",
       "\n",
       "    .dataframe tbody tr th {\n",
       "        vertical-align: top;\n",
       "    }\n",
       "\n",
       "    .dataframe thead th {\n",
       "        text-align: right;\n",
       "    }\n",
       "</style>\n",
       "<table border=\"1\" class=\"dataframe\">\n",
       "  <thead>\n",
       "    <tr style=\"text-align: right;\">\n",
       "      <th></th>\n",
       "      <th>Desc</th>\n",
       "    </tr>\n",
       "  </thead>\n",
       "  <tbody>\n",
       "    <tr>\n",
       "      <th>0</th>\n",
       "      <td>Data Science Masters course is highly curated and uniquely designed according to the latest industry standards. This program instills students the skills essential to knowledge discovery efforts to identify standard, novel, and truly differentiated solutions and decision-making, including skills in managing, querying, analyzing, visualizing, and extracting meaning from extremely large data sets. This trending program provides students with the statistical, mathematical and computational skills needed to meet the large-scale data science challenges of today's professional world. You will learn all the stack required to work in data science industry including cloud infrastructure and real-time industry projects. This course will be taught in Hindi language.</td>\n",
       "    </tr>\n",
       "    <tr>\n",
       "      <th>1</th>\n",
       "      <td>My name is vcd</td>\n",
       "    </tr>\n",
       "    <tr>\n",
       "      <th>2</th>\n",
       "      <td>i m learning pandas</td>\n",
       "    </tr>\n",
       "  </tbody>\n",
       "</table>\n",
       "</div>"
      ],
      "text/plain": [
       "                                                                                                                                                                                                                                                                                                                                                                                                                                                                                                                                                                                                                                                                                                                                                                                            Desc\n",
       "0  Data Science Masters course is highly curated and uniquely designed according to the latest industry standards. This program instills students the skills essential to knowledge discovery efforts to identify standard, novel, and truly differentiated solutions and decision-making, including skills in managing, querying, analyzing, visualizing, and extracting meaning from extremely large data sets. This trending program provides students with the statistical, mathematical and computational skills needed to meet the large-scale data science challenges of today's professional world. You will learn all the stack required to work in data science industry including cloud infrastructure and real-time industry projects. This course will be taught in Hindi language.\n",
       "1                                                                                                                                                                                                                                                                                                                                                                                                                                                                                                                                                                                                                                                                                                                                                                                 My name is vcd\n",
       "2                                                                                                                                                                                                                                                                                                                                                                                                                                                                                                                                                                                                                                                                                                                                                                            i m learning pandas"
      ]
     },
     "execution_count": 45,
     "metadata": {},
     "output_type": "execute_result"
    }
   ],
   "source": [
    "df2"
   ]
  },
  {
   "cell_type": "code",
   "execution_count": 48,
   "metadata": {},
   "outputs": [],
   "source": [
    "df2['len_sentence'] = df2['Desc'].map(len)"
   ]
  },
  {
   "cell_type": "code",
   "execution_count": 49,
   "metadata": {},
   "outputs": [
    {
     "data": {
      "text/html": [
       "<div>\n",
       "<style scoped>\n",
       "    .dataframe tbody tr th:only-of-type {\n",
       "        vertical-align: middle;\n",
       "    }\n",
       "\n",
       "    .dataframe tbody tr th {\n",
       "        vertical-align: top;\n",
       "    }\n",
       "\n",
       "    .dataframe thead th {\n",
       "        text-align: right;\n",
       "    }\n",
       "</style>\n",
       "<table border=\"1\" class=\"dataframe\">\n",
       "  <thead>\n",
       "    <tr style=\"text-align: right;\">\n",
       "      <th></th>\n",
       "      <th>Desc</th>\n",
       "      <th>len_sentence</th>\n",
       "    </tr>\n",
       "  </thead>\n",
       "  <tbody>\n",
       "    <tr>\n",
       "      <th>0</th>\n",
       "      <td>Data Science Masters course is highly curated and uniquely designed according to the latest industry standards. This program instills students the skills essential to knowledge discovery efforts to identify standard, novel, and truly differentiated solutions and decision-making, including skills in managing, querying, analyzing, visualizing, and extracting meaning from extremely large data sets. This trending program provides students with the statistical, mathematical and computational skills needed to meet the large-scale data science challenges of today's professional world. You will learn all the stack required to work in data science industry including cloud infrastructure and real-time industry projects. This course will be taught in Hindi language.</td>\n",
       "      <td>765</td>\n",
       "    </tr>\n",
       "    <tr>\n",
       "      <th>1</th>\n",
       "      <td>My name is vcd</td>\n",
       "      <td>14</td>\n",
       "    </tr>\n",
       "    <tr>\n",
       "      <th>2</th>\n",
       "      <td>i m learning pandas</td>\n",
       "      <td>19</td>\n",
       "    </tr>\n",
       "  </tbody>\n",
       "</table>\n",
       "</div>"
      ],
      "text/plain": [
       "                                                                                                                                                                                                                                                                                                                                                                                                                                                                                                                                                                                                                                                                                                                                                                                            Desc  \\\n",
       "0  Data Science Masters course is highly curated and uniquely designed according to the latest industry standards. This program instills students the skills essential to knowledge discovery efforts to identify standard, novel, and truly differentiated solutions and decision-making, including skills in managing, querying, analyzing, visualizing, and extracting meaning from extremely large data sets. This trending program provides students with the statistical, mathematical and computational skills needed to meet the large-scale data science challenges of today's professional world. You will learn all the stack required to work in data science industry including cloud infrastructure and real-time industry projects. This course will be taught in Hindi language.   \n",
       "1                                                                                                                                                                                                                                                                                                                                                                                                                                                                                                                                                                                                                                                                                                                                                                                 My name is vcd   \n",
       "2                                                                                                                                                                                                                                                                                                                                                                                                                                                                                                                                                                                                                                                                                                                                                                            i m learning pandas   \n",
       "\n",
       "   len_sentence  \n",
       "0           765  \n",
       "1            14  \n",
       "2            19  "
      ]
     },
     "execution_count": 49,
     "metadata": {},
     "output_type": "execute_result"
    }
   ],
   "source": [
    "df2"
   ]
  },
  {
   "cell_type": "code",
   "execution_count": 50,
   "metadata": {},
   "outputs": [],
   "source": [
    "df2['word_count'] = df2['Desc'].apply(lambda x : len(x.split(' ')))"
   ]
  },
  {
   "cell_type": "code",
   "execution_count": 51,
   "metadata": {},
   "outputs": [
    {
     "data": {
      "text/html": [
       "<div>\n",
       "<style scoped>\n",
       "    .dataframe tbody tr th:only-of-type {\n",
       "        vertical-align: middle;\n",
       "    }\n",
       "\n",
       "    .dataframe tbody tr th {\n",
       "        vertical-align: top;\n",
       "    }\n",
       "\n",
       "    .dataframe thead th {\n",
       "        text-align: right;\n",
       "    }\n",
       "</style>\n",
       "<table border=\"1\" class=\"dataframe\">\n",
       "  <thead>\n",
       "    <tr style=\"text-align: right;\">\n",
       "      <th></th>\n",
       "      <th>Desc</th>\n",
       "      <th>len_sentence</th>\n",
       "      <th>word_count</th>\n",
       "    </tr>\n",
       "  </thead>\n",
       "  <tbody>\n",
       "    <tr>\n",
       "      <th>0</th>\n",
       "      <td>Data Science Masters course is highly curated and uniquely designed according to the latest industry standards. This program instills students the skills essential to knowledge discovery efforts to identify standard, novel, and truly differentiated solutions and decision-making, including skills in managing, querying, analyzing, visualizing, and extracting meaning from extremely large data sets. This trending program provides students with the statistical, mathematical and computational skills needed to meet the large-scale data science challenges of today's professional world. You will learn all the stack required to work in data science industry including cloud infrastructure and real-time industry projects. This course will be taught in Hindi language.</td>\n",
       "      <td>765</td>\n",
       "      <td>104</td>\n",
       "    </tr>\n",
       "    <tr>\n",
       "      <th>1</th>\n",
       "      <td>My name is vcd</td>\n",
       "      <td>14</td>\n",
       "      <td>4</td>\n",
       "    </tr>\n",
       "    <tr>\n",
       "      <th>2</th>\n",
       "      <td>i m learning pandas</td>\n",
       "      <td>19</td>\n",
       "      <td>4</td>\n",
       "    </tr>\n",
       "  </tbody>\n",
       "</table>\n",
       "</div>"
      ],
      "text/plain": [
       "                                                                                                                                                                                                                                                                                                                                                                                                                                                                                                                                                                                                                                                                                                                                                                                            Desc  \\\n",
       "0  Data Science Masters course is highly curated and uniquely designed according to the latest industry standards. This program instills students the skills essential to knowledge discovery efforts to identify standard, novel, and truly differentiated solutions and decision-making, including skills in managing, querying, analyzing, visualizing, and extracting meaning from extremely large data sets. This trending program provides students with the statistical, mathematical and computational skills needed to meet the large-scale data science challenges of today's professional world. You will learn all the stack required to work in data science industry including cloud infrastructure and real-time industry projects. This course will be taught in Hindi language.   \n",
       "1                                                                                                                                                                                                                                                                                                                                                                                                                                                                                                                                                                                                                                                                                                                                                                                 My name is vcd   \n",
       "2                                                                                                                                                                                                                                                                                                                                                                                                                                                                                                                                                                                                                                                                                                                                                                            i m learning pandas   \n",
       "\n",
       "   len_sentence  word_count  \n",
       "0           765         104  \n",
       "1            14           4  \n",
       "2            19           4  "
      ]
     },
     "execution_count": 51,
     "metadata": {},
     "output_type": "execute_result"
    }
   ],
   "source": [
    "df2"
   ]
  },
  {
   "cell_type": "code",
   "execution_count": 52,
   "metadata": {},
   "outputs": [
    {
     "data": {
      "text/html": [
       "<div>\n",
       "<style scoped>\n",
       "    .dataframe tbody tr th:only-of-type {\n",
       "        vertical-align: middle;\n",
       "    }\n",
       "\n",
       "    .dataframe tbody tr th {\n",
       "        vertical-align: top;\n",
       "    }\n",
       "\n",
       "    .dataframe thead th {\n",
       "        text-align: right;\n",
       "    }\n",
       "</style>\n",
       "<table border=\"1\" class=\"dataframe\">\n",
       "  <thead>\n",
       "    <tr style=\"text-align: right;\">\n",
       "      <th></th>\n",
       "      <th>a</th>\n",
       "      <th>b</th>\n",
       "      <th>c</th>\n",
       "    </tr>\n",
       "  </thead>\n",
       "  <tbody>\n",
       "    <tr>\n",
       "      <th>0</th>\n",
       "      <td>1</td>\n",
       "      <td>4</td>\n",
       "      <td>vcd</td>\n",
       "    </tr>\n",
       "    <tr>\n",
       "      <th>1</th>\n",
       "      <td>2</td>\n",
       "      <td>5</td>\n",
       "      <td>mcd</td>\n",
       "    </tr>\n",
       "    <tr>\n",
       "      <th>2</th>\n",
       "      <td>3</td>\n",
       "      <td>6</td>\n",
       "      <td>dcd</td>\n",
       "    </tr>\n",
       "    <tr>\n",
       "      <th>3</th>\n",
       "      <td>4</td>\n",
       "      <td>7</td>\n",
       "      <td>cmd</td>\n",
       "    </tr>\n",
       "  </tbody>\n",
       "</table>\n",
       "</div>"
      ],
      "text/plain": [
       "   a  b    c\n",
       "0  1  4  vcd\n",
       "1  2  5  mcd\n",
       "2  3  6  dcd\n",
       "3  4  7  cmd"
      ]
     },
     "execution_count": 52,
     "metadata": {},
     "output_type": "execute_result"
    }
   ],
   "source": [
    "df"
   ]
  },
  {
   "cell_type": "code",
   "execution_count": 53,
   "metadata": {},
   "outputs": [
    {
     "data": {
      "text/plain": [
       "np.float64(2.5)"
      ]
     },
     "execution_count": 53,
     "metadata": {},
     "output_type": "execute_result"
    }
   ],
   "source": [
    "df['a'].mean()"
   ]
  },
  {
   "cell_type": "code",
   "execution_count": 54,
   "metadata": {},
   "outputs": [
    {
     "data": {
      "text/plain": [
       "0    1\n",
       "1    2\n",
       "2    3\n",
       "3    4\n",
       "Name: a, dtype: int64"
      ]
     },
     "execution_count": 54,
     "metadata": {},
     "output_type": "execute_result"
    }
   ],
   "source": [
    "df['a'].abs()"
   ]
  },
  {
   "cell_type": "code",
   "execution_count": 55,
   "metadata": {},
   "outputs": [
    {
     "data": {
      "text/plain": [
       "0    1\n",
       "1    2\n",
       "2    3\n",
       "3    4\n",
       "Name: a, dtype: int64"
      ]
     },
     "execution_count": 55,
     "metadata": {},
     "output_type": "execute_result"
    }
   ],
   "source": [
    "df['a'].mode()"
   ]
  },
  {
   "cell_type": "code",
   "execution_count": 56,
   "metadata": {},
   "outputs": [
    {
     "data": {
      "text/plain": [
       "np.float64(1.2909944487358056)"
      ]
     },
     "execution_count": 56,
     "metadata": {},
     "output_type": "execute_result"
    }
   ],
   "source": [
    "df['a'].std() # dispersion from a mean"
   ]
  },
  {
   "cell_type": "code",
   "execution_count": 57,
   "metadata": {},
   "outputs": [
    {
     "data": {
      "text/plain": [
       "np.int64(10)"
      ]
     },
     "execution_count": 57,
     "metadata": {},
     "output_type": "execute_result"
    }
   ],
   "source": [
    "df['a'].sum()"
   ]
  },
  {
   "cell_type": "code",
   "execution_count": 58,
   "metadata": {},
   "outputs": [
    {
     "data": {
      "text/plain": [
       "np.int64(1)"
      ]
     },
     "execution_count": 58,
     "metadata": {},
     "output_type": "execute_result"
    }
   ],
   "source": [
    "df['a'].min()"
   ]
  },
  {
   "cell_type": "code",
   "execution_count": 59,
   "metadata": {},
   "outputs": [
    {
     "data": {
      "text/plain": [
       "np.float64(1.6666666666666667)"
      ]
     },
     "execution_count": 59,
     "metadata": {},
     "output_type": "execute_result"
    }
   ],
   "source": [
    "df['a'].var()"
   ]
  },
  {
   "cell_type": "code",
   "execution_count": 63,
   "metadata": {},
   "outputs": [],
   "source": [
    "# window functions "
   ]
  },
  {
   "cell_type": "code",
   "execution_count": 61,
   "metadata": {},
   "outputs": [],
   "source": [
    "df3 = pd.DataFrame({'a':[3,4,5,2,1,3,4,5,6]})"
   ]
  },
  {
   "cell_type": "code",
   "execution_count": 62,
   "metadata": {},
   "outputs": [
    {
     "data": {
      "text/html": [
       "<div>\n",
       "<style scoped>\n",
       "    .dataframe tbody tr th:only-of-type {\n",
       "        vertical-align: middle;\n",
       "    }\n",
       "\n",
       "    .dataframe tbody tr th {\n",
       "        vertical-align: top;\n",
       "    }\n",
       "\n",
       "    .dataframe thead th {\n",
       "        text-align: right;\n",
       "    }\n",
       "</style>\n",
       "<table border=\"1\" class=\"dataframe\">\n",
       "  <thead>\n",
       "    <tr style=\"text-align: right;\">\n",
       "      <th></th>\n",
       "      <th>a</th>\n",
       "    </tr>\n",
       "  </thead>\n",
       "  <tbody>\n",
       "    <tr>\n",
       "      <th>0</th>\n",
       "      <td>3</td>\n",
       "    </tr>\n",
       "    <tr>\n",
       "      <th>1</th>\n",
       "      <td>4</td>\n",
       "    </tr>\n",
       "    <tr>\n",
       "      <th>2</th>\n",
       "      <td>5</td>\n",
       "    </tr>\n",
       "    <tr>\n",
       "      <th>3</th>\n",
       "      <td>2</td>\n",
       "    </tr>\n",
       "    <tr>\n",
       "      <th>4</th>\n",
       "      <td>1</td>\n",
       "    </tr>\n",
       "    <tr>\n",
       "      <th>5</th>\n",
       "      <td>3</td>\n",
       "    </tr>\n",
       "    <tr>\n",
       "      <th>6</th>\n",
       "      <td>4</td>\n",
       "    </tr>\n",
       "    <tr>\n",
       "      <th>7</th>\n",
       "      <td>5</td>\n",
       "    </tr>\n",
       "    <tr>\n",
       "      <th>8</th>\n",
       "      <td>6</td>\n",
       "    </tr>\n",
       "  </tbody>\n",
       "</table>\n",
       "</div>"
      ],
      "text/plain": [
       "   a\n",
       "0  3\n",
       "1  4\n",
       "2  5\n",
       "3  2\n",
       "4  1\n",
       "5  3\n",
       "6  4\n",
       "7  5\n",
       "8  6"
      ]
     },
     "execution_count": 62,
     "metadata": {},
     "output_type": "execute_result"
    }
   ],
   "source": [
    "df3"
   ]
  },
  {
   "cell_type": "code",
   "execution_count": 65,
   "metadata": {},
   "outputs": [
    {
     "data": {
      "text/plain": [
       "0    3.0\n",
       "1    4.0\n",
       "2    5.0\n",
       "3    2.0\n",
       "4    1.0\n",
       "5    3.0\n",
       "6    4.0\n",
       "7    5.0\n",
       "8    6.0\n",
       "Name: a, dtype: float64"
      ]
     },
     "execution_count": 65,
     "metadata": {},
     "output_type": "execute_result"
    }
   ],
   "source": [
    "df3['a'].rolling(window=1).mean()"
   ]
  },
  {
   "cell_type": "code",
   "execution_count": 66,
   "metadata": {},
   "outputs": [
    {
     "data": {
      "text/plain": [
       "0    NaN\n",
       "1    3.5\n",
       "2    4.5\n",
       "3    3.5\n",
       "4    1.5\n",
       "5    2.0\n",
       "6    3.5\n",
       "7    4.5\n",
       "8    5.5\n",
       "Name: a, dtype: float64"
      ]
     },
     "execution_count": 66,
     "metadata": {},
     "output_type": "execute_result"
    }
   ],
   "source": [
    "df3['a'].rolling(window=2).mean()"
   ]
  },
  {
   "cell_type": "code",
   "execution_count": 67,
   "metadata": {},
   "outputs": [
    {
     "data": {
      "text/plain": [
       "0         NaN\n",
       "1         NaN\n",
       "2    4.000000\n",
       "3    3.666667\n",
       "4    2.666667\n",
       "5    2.000000\n",
       "6    2.666667\n",
       "7    4.000000\n",
       "8    5.000000\n",
       "Name: a, dtype: float64"
      ]
     },
     "execution_count": 67,
     "metadata": {},
     "output_type": "execute_result"
    }
   ],
   "source": [
    "df3['a'].rolling(window=3).mean()\n"
   ]
  },
  {
   "cell_type": "code",
   "execution_count": 68,
   "metadata": {},
   "outputs": [
    {
     "data": {
      "text/plain": [
       "0     3\n",
       "1     7\n",
       "2    12\n",
       "3    14\n",
       "4    15\n",
       "5    18\n",
       "6    22\n",
       "7    27\n",
       "8    33\n",
       "Name: a, dtype: int64"
      ]
     },
     "execution_count": 68,
     "metadata": {},
     "output_type": "execute_result"
    }
   ],
   "source": [
    "df3['a'].cumsum() # dispersion from"
   ]
  },
  {
   "cell_type": "code",
   "execution_count": 69,
   "metadata": {},
   "outputs": [],
   "source": [
    "# Date functionality"
   ]
  },
  {
   "cell_type": "code",
   "execution_count": 74,
   "metadata": {},
   "outputs": [],
   "source": [
    "date = pd.date_range(start=\"2023-04-23\",end=\"2023-06-23\")"
   ]
  },
  {
   "cell_type": "code",
   "execution_count": 75,
   "metadata": {},
   "outputs": [
    {
     "data": {
      "text/plain": [
       "DatetimeIndex(['2023-04-23', '2023-04-24', '2023-04-25', '2023-04-26',\n",
       "               '2023-04-27', '2023-04-28', '2023-04-29', '2023-04-30',\n",
       "               '2023-05-01', '2023-05-02', '2023-05-03', '2023-05-04',\n",
       "               '2023-05-05', '2023-05-06', '2023-05-07', '2023-05-08',\n",
       "               '2023-05-09', '2023-05-10', '2023-05-11', '2023-05-12',\n",
       "               '2023-05-13', '2023-05-14', '2023-05-15', '2023-05-16',\n",
       "               '2023-05-17', '2023-05-18', '2023-05-19', '2023-05-20',\n",
       "               '2023-05-21', '2023-05-22', '2023-05-23', '2023-05-24',\n",
       "               '2023-05-25', '2023-05-26', '2023-05-27', '2023-05-28',\n",
       "               '2023-05-29', '2023-05-30', '2023-05-31', '2023-06-01',\n",
       "               '2023-06-02', '2023-06-03', '2023-06-04', '2023-06-05',\n",
       "               '2023-06-06', '2023-06-07', '2023-06-08', '2023-06-09',\n",
       "               '2023-06-10', '2023-06-11', '2023-06-12', '2023-06-13',\n",
       "               '2023-06-14', '2023-06-15', '2023-06-16', '2023-06-17',\n",
       "               '2023-06-18', '2023-06-19', '2023-06-20', '2023-06-21',\n",
       "               '2023-06-22', '2023-06-23'],\n",
       "              dtype='datetime64[ns]', freq='D')"
      ]
     },
     "execution_count": 75,
     "metadata": {},
     "output_type": "execute_result"
    }
   ],
   "source": [
    "date"
   ]
  },
  {
   "cell_type": "code",
   "execution_count": 76,
   "metadata": {},
   "outputs": [],
   "source": [
    "df_date = pd.DataFrame({'date':date})"
   ]
  },
  {
   "cell_type": "code",
   "execution_count": 77,
   "metadata": {},
   "outputs": [
    {
     "data": {
      "text/html": [
       "<div>\n",
       "<style scoped>\n",
       "    .dataframe tbody tr th:only-of-type {\n",
       "        vertical-align: middle;\n",
       "    }\n",
       "\n",
       "    .dataframe tbody tr th {\n",
       "        vertical-align: top;\n",
       "    }\n",
       "\n",
       "    .dataframe thead th {\n",
       "        text-align: right;\n",
       "    }\n",
       "</style>\n",
       "<table border=\"1\" class=\"dataframe\">\n",
       "  <thead>\n",
       "    <tr style=\"text-align: right;\">\n",
       "      <th></th>\n",
       "      <th>date</th>\n",
       "    </tr>\n",
       "  </thead>\n",
       "  <tbody>\n",
       "    <tr>\n",
       "      <th>0</th>\n",
       "      <td>2023-04-23</td>\n",
       "    </tr>\n",
       "    <tr>\n",
       "      <th>1</th>\n",
       "      <td>2023-04-24</td>\n",
       "    </tr>\n",
       "    <tr>\n",
       "      <th>2</th>\n",
       "      <td>2023-04-25</td>\n",
       "    </tr>\n",
       "    <tr>\n",
       "      <th>3</th>\n",
       "      <td>2023-04-26</td>\n",
       "    </tr>\n",
       "    <tr>\n",
       "      <th>4</th>\n",
       "      <td>2023-04-27</td>\n",
       "    </tr>\n",
       "    <tr>\n",
       "      <th>...</th>\n",
       "      <td>...</td>\n",
       "    </tr>\n",
       "    <tr>\n",
       "      <th>57</th>\n",
       "      <td>2023-06-19</td>\n",
       "    </tr>\n",
       "    <tr>\n",
       "      <th>58</th>\n",
       "      <td>2023-06-20</td>\n",
       "    </tr>\n",
       "    <tr>\n",
       "      <th>59</th>\n",
       "      <td>2023-06-21</td>\n",
       "    </tr>\n",
       "    <tr>\n",
       "      <th>60</th>\n",
       "      <td>2023-06-22</td>\n",
       "    </tr>\n",
       "    <tr>\n",
       "      <th>61</th>\n",
       "      <td>2023-06-23</td>\n",
       "    </tr>\n",
       "  </tbody>\n",
       "</table>\n",
       "<p>62 rows × 1 columns</p>\n",
       "</div>"
      ],
      "text/plain": [
       "         date\n",
       "0  2023-04-23\n",
       "1  2023-04-24\n",
       "2  2023-04-25\n",
       "3  2023-04-26\n",
       "4  2023-04-27\n",
       "..        ...\n",
       "57 2023-06-19\n",
       "58 2023-06-20\n",
       "59 2023-06-21\n",
       "60 2023-06-22\n",
       "61 2023-06-23\n",
       "\n",
       "[62 rows x 1 columns]"
      ]
     },
     "execution_count": 77,
     "metadata": {},
     "output_type": "execute_result"
    }
   ],
   "source": [
    "df_date"
   ]
  },
  {
   "cell_type": "code",
   "execution_count": 78,
   "metadata": {},
   "outputs": [],
   "source": [
    "df6 = pd.DataFrame({'date':['2023-06-23','2023-06-22','2023-06-20']})"
   ]
  },
  {
   "cell_type": "code",
   "execution_count": 79,
   "metadata": {},
   "outputs": [
    {
     "data": {
      "text/plain": [
       "date    object\n",
       "dtype: object"
      ]
     },
     "execution_count": 79,
     "metadata": {},
     "output_type": "execute_result"
    }
   ],
   "source": [
    "df6.dtypes"
   ]
  },
  {
   "cell_type": "code",
   "execution_count": 80,
   "metadata": {},
   "outputs": [
    {
     "data": {
      "text/plain": [
       "date    datetime64[ns]\n",
       "dtype: object"
      ]
     },
     "execution_count": 80,
     "metadata": {},
     "output_type": "execute_result"
    }
   ],
   "source": [
    "df_date.dtypes"
   ]
  },
  {
   "cell_type": "code",
   "execution_count": 81,
   "metadata": {},
   "outputs": [],
   "source": [
    "df6['updated_date'] = pd.to_datetime(df6['date'])"
   ]
  },
  {
   "cell_type": "code",
   "execution_count": 82,
   "metadata": {},
   "outputs": [
    {
     "data": {
      "text/html": [
       "<div>\n",
       "<style scoped>\n",
       "    .dataframe tbody tr th:only-of-type {\n",
       "        vertical-align: middle;\n",
       "    }\n",
       "\n",
       "    .dataframe tbody tr th {\n",
       "        vertical-align: top;\n",
       "    }\n",
       "\n",
       "    .dataframe thead th {\n",
       "        text-align: right;\n",
       "    }\n",
       "</style>\n",
       "<table border=\"1\" class=\"dataframe\">\n",
       "  <thead>\n",
       "    <tr style=\"text-align: right;\">\n",
       "      <th></th>\n",
       "      <th>date</th>\n",
       "      <th>updated_date</th>\n",
       "    </tr>\n",
       "  </thead>\n",
       "  <tbody>\n",
       "    <tr>\n",
       "      <th>0</th>\n",
       "      <td>2023-06-23</td>\n",
       "      <td>2023-06-23</td>\n",
       "    </tr>\n",
       "    <tr>\n",
       "      <th>1</th>\n",
       "      <td>2023-06-22</td>\n",
       "      <td>2023-06-22</td>\n",
       "    </tr>\n",
       "    <tr>\n",
       "      <th>2</th>\n",
       "      <td>2023-06-20</td>\n",
       "      <td>2023-06-20</td>\n",
       "    </tr>\n",
       "  </tbody>\n",
       "</table>\n",
       "</div>"
      ],
      "text/plain": [
       "         date updated_date\n",
       "0  2023-06-23   2023-06-23\n",
       "1  2023-06-22   2023-06-22\n",
       "2  2023-06-20   2023-06-20"
      ]
     },
     "execution_count": 82,
     "metadata": {},
     "output_type": "execute_result"
    }
   ],
   "source": [
    "df6"
   ]
  },
  {
   "cell_type": "code",
   "execution_count": 83,
   "metadata": {},
   "outputs": [
    {
     "data": {
      "text/plain": [
       "date                    object\n",
       "updated_date    datetime64[ns]\n",
       "dtype: object"
      ]
     },
     "execution_count": 83,
     "metadata": {},
     "output_type": "execute_result"
    }
   ],
   "source": [
    "df6.dtypes"
   ]
  },
  {
   "cell_type": "code",
   "execution_count": 84,
   "metadata": {},
   "outputs": [],
   "source": [
    "df6['year'] = df6['updated_date'].dt.year"
   ]
  },
  {
   "cell_type": "code",
   "execution_count": 85,
   "metadata": {},
   "outputs": [
    {
     "data": {
      "text/html": [
       "<div>\n",
       "<style scoped>\n",
       "    .dataframe tbody tr th:only-of-type {\n",
       "        vertical-align: middle;\n",
       "    }\n",
       "\n",
       "    .dataframe tbody tr th {\n",
       "        vertical-align: top;\n",
       "    }\n",
       "\n",
       "    .dataframe thead th {\n",
       "        text-align: right;\n",
       "    }\n",
       "</style>\n",
       "<table border=\"1\" class=\"dataframe\">\n",
       "  <thead>\n",
       "    <tr style=\"text-align: right;\">\n",
       "      <th></th>\n",
       "      <th>date</th>\n",
       "      <th>updated_date</th>\n",
       "      <th>year</th>\n",
       "    </tr>\n",
       "  </thead>\n",
       "  <tbody>\n",
       "    <tr>\n",
       "      <th>0</th>\n",
       "      <td>2023-06-23</td>\n",
       "      <td>2023-06-23</td>\n",
       "      <td>2023</td>\n",
       "    </tr>\n",
       "    <tr>\n",
       "      <th>1</th>\n",
       "      <td>2023-06-22</td>\n",
       "      <td>2023-06-22</td>\n",
       "      <td>2023</td>\n",
       "    </tr>\n",
       "    <tr>\n",
       "      <th>2</th>\n",
       "      <td>2023-06-20</td>\n",
       "      <td>2023-06-20</td>\n",
       "      <td>2023</td>\n",
       "    </tr>\n",
       "  </tbody>\n",
       "</table>\n",
       "</div>"
      ],
      "text/plain": [
       "         date updated_date  year\n",
       "0  2023-06-23   2023-06-23  2023\n",
       "1  2023-06-22   2023-06-22  2023\n",
       "2  2023-06-20   2023-06-20  2023"
      ]
     },
     "execution_count": 85,
     "metadata": {},
     "output_type": "execute_result"
    }
   ],
   "source": [
    "df6"
   ]
  },
  {
   "cell_type": "code",
   "execution_count": 86,
   "metadata": {},
   "outputs": [],
   "source": [
    "df6['day'] = df6['updated_date'].dt.day"
   ]
  },
  {
   "cell_type": "code",
   "execution_count": 87,
   "metadata": {},
   "outputs": [],
   "source": [
    "df6['month'] = df6['updated_date'].dt.month\n"
   ]
  },
  {
   "cell_type": "code",
   "execution_count": 88,
   "metadata": {},
   "outputs": [
    {
     "data": {
      "text/html": [
       "<div>\n",
       "<style scoped>\n",
       "    .dataframe tbody tr th:only-of-type {\n",
       "        vertical-align: middle;\n",
       "    }\n",
       "\n",
       "    .dataframe tbody tr th {\n",
       "        vertical-align: top;\n",
       "    }\n",
       "\n",
       "    .dataframe thead th {\n",
       "        text-align: right;\n",
       "    }\n",
       "</style>\n",
       "<table border=\"1\" class=\"dataframe\">\n",
       "  <thead>\n",
       "    <tr style=\"text-align: right;\">\n",
       "      <th></th>\n",
       "      <th>date</th>\n",
       "      <th>updated_date</th>\n",
       "      <th>year</th>\n",
       "      <th>day</th>\n",
       "      <th>month</th>\n",
       "    </tr>\n",
       "  </thead>\n",
       "  <tbody>\n",
       "    <tr>\n",
       "      <th>0</th>\n",
       "      <td>2023-06-23</td>\n",
       "      <td>2023-06-23</td>\n",
       "      <td>2023</td>\n",
       "      <td>23</td>\n",
       "      <td>6</td>\n",
       "    </tr>\n",
       "    <tr>\n",
       "      <th>1</th>\n",
       "      <td>2023-06-22</td>\n",
       "      <td>2023-06-22</td>\n",
       "      <td>2023</td>\n",
       "      <td>22</td>\n",
       "      <td>6</td>\n",
       "    </tr>\n",
       "    <tr>\n",
       "      <th>2</th>\n",
       "      <td>2023-06-20</td>\n",
       "      <td>2023-06-20</td>\n",
       "      <td>2023</td>\n",
       "      <td>20</td>\n",
       "      <td>6</td>\n",
       "    </tr>\n",
       "  </tbody>\n",
       "</table>\n",
       "</div>"
      ],
      "text/plain": [
       "         date updated_date  year  day  month\n",
       "0  2023-06-23   2023-06-23  2023   23      6\n",
       "1  2023-06-22   2023-06-22  2023   22      6\n",
       "2  2023-06-20   2023-06-20  2023   20      6"
      ]
     },
     "execution_count": 88,
     "metadata": {},
     "output_type": "execute_result"
    }
   ],
   "source": [
    "df6"
   ]
  },
  {
   "cell_type": "code",
   "execution_count": 89,
   "metadata": {},
   "outputs": [],
   "source": [
    "#timedelta"
   ]
  },
  {
   "cell_type": "code",
   "execution_count": 92,
   "metadata": {},
   "outputs": [
    {
     "data": {
      "text/plain": [
       "Timedelta('1 days 05:45:00')"
      ]
     },
     "execution_count": 92,
     "metadata": {},
     "output_type": "execute_result"
    }
   ],
   "source": [
    "pd.Timedelta(days=1,hours=5,minutes=45)"
   ]
  },
  {
   "cell_type": "code",
   "execution_count": 93,
   "metadata": {},
   "outputs": [],
   "source": [
    "date = pd.to_datetime('2023-06-20')"
   ]
  },
  {
   "cell_type": "code",
   "execution_count": 94,
   "metadata": {},
   "outputs": [],
   "source": [
    "td = pd.Timedelta(days=1)"
   ]
  },
  {
   "cell_type": "code",
   "execution_count": 96,
   "metadata": {},
   "outputs": [
    {
     "data": {
      "text/plain": [
       "Timestamp('2023-06-21 00:00:00')"
      ]
     },
     "execution_count": 96,
     "metadata": {},
     "output_type": "execute_result"
    }
   ],
   "source": [
    "date + td"
   ]
  },
  {
   "cell_type": "code",
   "execution_count": 97,
   "metadata": {},
   "outputs": [],
   "source": [
    "# Categorical data"
   ]
  },
  {
   "cell_type": "code",
   "execution_count": 101,
   "metadata": {},
   "outputs": [],
   "source": [
    "data = [\"a\",\"b\",\"c\",\"d\",\"e\",\"f\",\"a\",\"b\",\"f\",\"e\"]"
   ]
  },
  {
   "cell_type": "code",
   "execution_count": 102,
   "metadata": {},
   "outputs": [
    {
     "data": {
      "text/plain": [
       "['a', 'b', 'c', 'd', 'e', 'f', 'a', 'b', 'f', 'e']\n",
       "Categories (6, object): ['a', 'b', 'c', 'd', 'e', 'f']"
      ]
     },
     "execution_count": 102,
     "metadata": {},
     "output_type": "execute_result"
    }
   ],
   "source": [
    "pd.Categorical(data)"
   ]
  },
  {
   "cell_type": "code",
   "execution_count": 103,
   "metadata": {},
   "outputs": [],
   "source": [
    "cat = pd.Categorical(data)"
   ]
  },
  {
   "cell_type": "code",
   "execution_count": 105,
   "metadata": {},
   "outputs": [
    {
     "data": {
      "text/plain": [
       "a    2\n",
       "b    2\n",
       "c    1\n",
       "d    1\n",
       "e    2\n",
       "f    2\n",
       "Name: count, dtype: int64"
      ]
     },
     "execution_count": 105,
     "metadata": {},
     "output_type": "execute_result"
    }
   ],
   "source": [
    "cat.value_counts()"
   ]
  },
  {
   "cell_type": "code",
   "execution_count": 106,
   "metadata": {},
   "outputs": [],
   "source": [
    "# data visualization"
   ]
  },
  {
   "cell_type": "code",
   "execution_count": 115,
   "metadata": {},
   "outputs": [
    {
     "name": "stdout",
     "output_type": "stream",
     "text": [
      "Collecting matplotlib\n",
      "  Downloading matplotlib-3.9.1.post1-cp312-cp312-win_amd64.whl.metadata (11 kB)\n",
      "Collecting contourpy>=1.0.1 (from matplotlib)\n",
      "  Downloading contourpy-1.2.1-cp312-cp312-win_amd64.whl.metadata (5.8 kB)\n",
      "Collecting cycler>=0.10 (from matplotlib)\n",
      "  Downloading cycler-0.12.1-py3-none-any.whl.metadata (3.8 kB)\n",
      "Collecting fonttools>=4.22.0 (from matplotlib)\n",
      "  Downloading fonttools-4.53.1-cp312-cp312-win_amd64.whl.metadata (165 kB)\n",
      "     ---------------------------------------- 0.0/165.9 kB ? eta -:--:--\n",
      "     ---------------- ---------------------- 71.7/165.9 kB 2.0 MB/s eta 0:00:01\n",
      "     -------------------------------------- 165.9/165.9 kB 2.5 MB/s eta 0:00:00\n",
      "Collecting kiwisolver>=1.3.1 (from matplotlib)\n",
      "  Downloading kiwisolver-1.4.5-cp312-cp312-win_amd64.whl.metadata (6.5 kB)\n",
      "Requirement already satisfied: numpy>=1.23 in e:\\flutter app\\data-science-\\environment\\lib\\site-packages (from matplotlib) (2.0.1)\n",
      "Requirement already satisfied: packaging>=20.0 in e:\\flutter app\\data-science-\\environment\\lib\\site-packages (from matplotlib) (24.1)\n",
      "Collecting pillow>=8 (from matplotlib)\n",
      "  Downloading pillow-10.4.0-cp312-cp312-win_amd64.whl.metadata (9.3 kB)\n",
      "Collecting pyparsing>=2.3.1 (from matplotlib)\n",
      "  Downloading pyparsing-3.1.2-py3-none-any.whl.metadata (5.1 kB)\n",
      "Requirement already satisfied: python-dateutil>=2.7 in e:\\flutter app\\data-science-\\environment\\lib\\site-packages (from matplotlib) (2.9.0.post0)\n",
      "Requirement already satisfied: six>=1.5 in e:\\flutter app\\data-science-\\environment\\lib\\site-packages (from python-dateutil>=2.7->matplotlib) (1.16.0)\n",
      "Downloading matplotlib-3.9.1.post1-cp312-cp312-win_amd64.whl (8.0 MB)\n",
      "   ---------------------------------------- 0.0/8.0 MB ? eta -:--:--\n",
      "    --------------------------------------- 0.2/8.0 MB 5.3 MB/s eta 0:00:02\n",
      "   - -------------------------------------- 0.2/8.0 MB 3.7 MB/s eta 0:00:03\n",
      "   -- ------------------------------------- 0.5/8.0 MB 3.8 MB/s eta 0:00:02\n",
      "   -- ------------------------------------- 0.6/8.0 MB 3.3 MB/s eta 0:00:03\n",
      "   --- ------------------------------------ 0.6/8.0 MB 2.9 MB/s eta 0:00:03\n",
      "   --- ------------------------------------ 0.7/8.0 MB 2.6 MB/s eta 0:00:03\n",
      "   --- ------------------------------------ 0.7/8.0 MB 2.4 MB/s eta 0:00:04\n",
      "   ---- ----------------------------------- 0.8/8.0 MB 2.3 MB/s eta 0:00:04\n",
      "   ---- ----------------------------------- 0.8/8.0 MB 2.1 MB/s eta 0:00:04\n",
      "   ---- ----------------------------------- 0.9/8.0 MB 2.0 MB/s eta 0:00:04\n",
      "   ---- ----------------------------------- 0.9/8.0 MB 1.8 MB/s eta 0:00:04\n",
      "   ---- ----------------------------------- 0.9/8.0 MB 1.7 MB/s eta 0:00:05\n",
      "   ---- ----------------------------------- 1.0/8.0 MB 1.6 MB/s eta 0:00:05\n",
      "   ---- ----------------------------------- 1.0/8.0 MB 1.6 MB/s eta 0:00:05\n",
      "   ----- ---------------------------------- 1.0/8.0 MB 1.5 MB/s eta 0:00:05\n",
      "   ----- ---------------------------------- 1.0/8.0 MB 1.5 MB/s eta 0:00:05\n",
      "   ----- ---------------------------------- 1.0/8.0 MB 1.4 MB/s eta 0:00:06\n",
      "   ----- ---------------------------------- 1.1/8.0 MB 1.3 MB/s eta 0:00:06\n",
      "   ----- ---------------------------------- 1.1/8.0 MB 1.2 MB/s eta 0:00:06\n",
      "   ----- ---------------------------------- 1.1/8.0 MB 1.2 MB/s eta 0:00:06\n",
      "   ----- ---------------------------------- 1.1/8.0 MB 1.2 MB/s eta 0:00:06\n",
      "   ----- ---------------------------------- 1.1/8.0 MB 1.1 MB/s eta 0:00:07\n",
      "   ----- ---------------------------------- 1.1/8.0 MB 1.1 MB/s eta 0:00:07\n",
      "   ----- ---------------------------------- 1.2/8.0 MB 1.1 MB/s eta 0:00:07\n",
      "   ----- ---------------------------------- 1.2/8.0 MB 1.0 MB/s eta 0:00:07\n",
      "   ------ --------------------------------- 1.2/8.0 MB 1.0 MB/s eta 0:00:07\n",
      "   ------ --------------------------------- 1.2/8.0 MB 995.9 kB/s eta 0:00:07\n",
      "   ------ --------------------------------- 1.2/8.0 MB 974.8 kB/s eta 0:00:07\n",
      "   ------ --------------------------------- 1.2/8.0 MB 947.4 kB/s eta 0:00:08\n",
      "   ------ --------------------------------- 1.3/8.0 MB 923.5 kB/s eta 0:00:08\n",
      "   ------ --------------------------------- 1.3/8.0 MB 923.5 kB/s eta 0:00:08\n",
      "   ------ --------------------------------- 1.3/8.0 MB 885.3 kB/s eta 0:00:08\n",
      "   ------ --------------------------------- 1.3/8.0 MB 864.6 kB/s eta 0:00:08\n",
      "   ------ --------------------------------- 1.3/8.0 MB 860.5 kB/s eta 0:00:08\n",
      "   ------ --------------------------------- 1.4/8.0 MB 856.6 kB/s eta 0:00:08\n",
      "   ------ --------------------------------- 1.4/8.0 MB 826.8 kB/s eta 0:00:08\n",
      "   ------- -------------------------------- 1.4/8.0 MB 817.8 kB/s eta 0:00:09\n",
      "   ------- -------------------------------- 1.4/8.0 MB 807.5 kB/s eta 0:00:09\n",
      "   ------- -------------------------------- 1.4/8.0 MB 804.9 kB/s eta 0:00:09\n",
      "   ------- -------------------------------- 1.5/8.0 MB 794.1 kB/s eta 0:00:09\n",
      "   ------- -------------------------------- 1.5/8.0 MB 785.2 kB/s eta 0:00:09\n",
      "   ------- -------------------------------- 1.5/8.0 MB 783.2 kB/s eta 0:00:09\n",
      "   ------- -------------------------------- 1.6/8.0 MB 784.1 kB/s eta 0:00:09\n",
      "   -------- ------------------------------- 1.6/8.0 MB 781.5 kB/s eta 0:00:09\n",
      "   -------- ------------------------------- 1.6/8.0 MB 788.5 kB/s eta 0:00:09\n",
      "   -------- ------------------------------- 1.7/8.0 MB 781.3 kB/s eta 0:00:09\n",
      "   -------- ------------------------------- 1.7/8.0 MB 782.6 kB/s eta 0:00:09\n",
      "   -------- ------------------------------- 1.8/8.0 MB 789.1 kB/s eta 0:00:08\n",
      "   --------- ------------------------------ 1.8/8.0 MB 795.3 kB/s eta 0:00:08\n",
      "   --------- ------------------------------ 1.9/8.0 MB 801.3 kB/s eta 0:00:08\n",
      "   --------- ------------------------------ 1.9/8.0 MB 802.7 kB/s eta 0:00:08\n",
      "   --------- ------------------------------ 1.9/8.0 MB 809.4 kB/s eta 0:00:08\n",
      "   --------- ------------------------------ 2.0/8.0 MB 801.5 kB/s eta 0:00:08\n",
      "   --------- ------------------------------ 2.0/8.0 MB 795.3 kB/s eta 0:00:08\n",
      "   ---------- ----------------------------- 2.0/8.0 MB 792.0 kB/s eta 0:00:08\n",
      "   ---------- ----------------------------- 2.1/8.0 MB 789.5 kB/s eta 0:00:08\n",
      "   ---------- ----------------------------- 2.1/8.0 MB 788.6 kB/s eta 0:00:08\n",
      "   ---------- ----------------------------- 2.1/8.0 MB 778.8 kB/s eta 0:00:08\n",
      "   ---------- ----------------------------- 2.1/8.0 MB 772.0 kB/s eta 0:00:08\n",
      "   ---------- ----------------------------- 2.1/8.0 MB 766.3 kB/s eta 0:00:08\n",
      "   ---------- ----------------------------- 2.1/8.0 MB 765.9 kB/s eta 0:00:08\n",
      "   ---------- ----------------------------- 2.2/8.0 MB 751.9 kB/s eta 0:00:08\n",
      "   ---------- ----------------------------- 2.2/8.0 MB 739.4 kB/s eta 0:00:08\n",
      "   ---------- ----------------------------- 2.2/8.0 MB 739.4 kB/s eta 0:00:08\n",
      "   ---------- ----------------------------- 2.2/8.0 MB 730.7 kB/s eta 0:00:08\n",
      "   ----------- ---------------------------- 2.2/8.0 MB 726.4 kB/s eta 0:00:08\n",
      "   ----------- ---------------------------- 2.2/8.0 MB 718.6 kB/s eta 0:00:09\n",
      "   ----------- ---------------------------- 2.2/8.0 MB 710.7 kB/s eta 0:00:09\n",
      "   ----------- ---------------------------- 2.3/8.0 MB 703.4 kB/s eta 0:00:09\n",
      "   ----------- ---------------------------- 2.3/8.0 MB 699.5 kB/s eta 0:00:09\n",
      "   ----------- ---------------------------- 2.3/8.0 MB 696.0 kB/s eta 0:00:09\n",
      "   ----------- ---------------------------- 2.3/8.0 MB 689.2 kB/s eta 0:00:09\n",
      "   ----------- ---------------------------- 2.3/8.0 MB 689.2 kB/s eta 0:00:09\n",
      "   ----------- ---------------------------- 2.3/8.0 MB 682.5 kB/s eta 0:00:09\n",
      "   ----------- ---------------------------- 2.3/8.0 MB 673.2 kB/s eta 0:00:09\n",
      "   ----------- ---------------------------- 2.3/8.0 MB 673.2 kB/s eta 0:00:09\n",
      "   ----------- ---------------------------- 2.3/8.0 MB 661.2 kB/s eta 0:00:09\n",
      "   ----------- ---------------------------- 2.4/8.0 MB 658.2 kB/s eta 0:00:09\n",
      "   ----------- ---------------------------- 2.4/8.0 MB 652.5 kB/s eta 0:00:09\n",
      "   ------------ --------------------------- 2.4/8.0 MB 646.9 kB/s eta 0:00:09\n",
      "   ------------ --------------------------- 2.4/8.0 MB 647.1 kB/s eta 0:00:09\n",
      "   ------------ --------------------------- 2.4/8.0 MB 641.9 kB/s eta 0:00:09\n",
      "   ------------ --------------------------- 2.5/8.0 MB 642.0 kB/s eta 0:00:09\n",
      "   ------------ --------------------------- 2.5/8.0 MB 642.1 kB/s eta 0:00:09\n",
      "   ------------ --------------------------- 2.5/8.0 MB 639.7 kB/s eta 0:00:09\n",
      "   ------------ --------------------------- 2.6/8.0 MB 639.8 kB/s eta 0:00:09\n",
      "   ------------ --------------------------- 2.6/8.0 MB 640.2 kB/s eta 0:00:09\n",
      "   ------------- -------------------------- 2.6/8.0 MB 640.3 kB/s eta 0:00:09\n",
      "   ------------- -------------------------- 2.6/8.0 MB 637.8 kB/s eta 0:00:09\n",
      "   ------------- -------------------------- 2.7/8.0 MB 638.2 kB/s eta 0:00:09\n",
      "   ------------- -------------------------- 2.7/8.0 MB 638.3 kB/s eta 0:00:09\n",
      "   ------------- -------------------------- 2.7/8.0 MB 638.3 kB/s eta 0:00:09\n",
      "   ------------- -------------------------- 2.8/8.0 MB 638.7 kB/s eta 0:00:09\n",
      "   ------------- -------------------------- 2.8/8.0 MB 638.7 kB/s eta 0:00:09\n",
      "   ------------- -------------------------- 2.8/8.0 MB 634.3 kB/s eta 0:00:09\n",
      "   -------------- ------------------------- 2.8/8.0 MB 632.2 kB/s eta 0:00:09\n",
      "   -------------- ------------------------- 2.8/8.0 MB 630.2 kB/s eta 0:00:09\n",
      "   -------------- ------------------------- 2.8/8.0 MB 626.0 kB/s eta 0:00:09\n",
      "   -------------- ------------------------- 2.9/8.0 MB 621.9 kB/s eta 0:00:09\n",
      "   -------------- ------------------------- 2.9/8.0 MB 621.9 kB/s eta 0:00:09\n",
      "   -------------- ------------------------- 2.9/8.0 MB 617.8 kB/s eta 0:00:09\n",
      "   -------------- ------------------------- 2.9/8.0 MB 614.0 kB/s eta 0:00:09\n",
      "   -------------- ------------------------- 2.9/8.0 MB 614.0 kB/s eta 0:00:09\n",
      "   -------------- ------------------------- 2.9/8.0 MB 608.3 kB/s eta 0:00:09\n",
      "   -------------- ------------------------- 2.9/8.0 MB 604.5 kB/s eta 0:00:09\n",
      "   -------------- ------------------------- 2.9/8.0 MB 600.9 kB/s eta 0:00:09\n",
      "   -------------- ------------------------- 3.0/8.0 MB 597.2 kB/s eta 0:00:09\n",
      "   -------------- ------------------------- 3.0/8.0 MB 597.2 kB/s eta 0:00:09\n",
      "   --------------- ------------------------ 3.0/8.0 MB 594.3 kB/s eta 0:00:09\n",
      "   --------------- ------------------------ 3.0/8.0 MB 590.8 kB/s eta 0:00:09\n",
      "   --------------- ------------------------ 3.0/8.0 MB 589.4 kB/s eta 0:00:09\n",
      "   --------------- ------------------------ 3.0/8.0 MB 586.0 kB/s eta 0:00:09\n",
      "   --------------- ------------------------ 3.1/8.0 MB 584.7 kB/s eta 0:00:09\n",
      "   --------------- ------------------------ 3.1/8.0 MB 583.4 kB/s eta 0:00:09\n",
      "   --------------- ------------------------ 3.1/8.0 MB 580.1 kB/s eta 0:00:09\n",
      "   --------------- ------------------------ 3.1/8.0 MB 578.9 kB/s eta 0:00:09\n",
      "   --------------- ------------------------ 3.1/8.0 MB 578.9 kB/s eta 0:00:09\n",
      "   --------------- ------------------------ 3.1/8.0 MB 572.9 kB/s eta 0:00:09\n",
      "   --------------- ------------------------ 3.1/8.0 MB 572.9 kB/s eta 0:00:09\n",
      "   --------------- ------------------------ 3.2/8.0 MB 568.4 kB/s eta 0:00:09\n",
      "   --------------- ------------------------ 3.2/8.0 MB 567.3 kB/s eta 0:00:09\n",
      "   ---------------- ----------------------- 3.2/8.0 MB 566.2 kB/s eta 0:00:09\n",
      "   ---------------- ----------------------- 3.2/8.0 MB 563.3 kB/s eta 0:00:09\n",
      "   ---------------- ----------------------- 3.2/8.0 MB 562.2 kB/s eta 0:00:09\n",
      "   ---------------- ----------------------- 3.2/8.0 MB 561.2 kB/s eta 0:00:09\n",
      "   ---------------- ----------------------- 3.3/8.0 MB 559.0 kB/s eta 0:00:09\n",
      "   ---------------- ----------------------- 3.3/8.0 MB 557.8 kB/s eta 0:00:09\n",
      "   ---------------- ----------------------- 3.3/8.0 MB 558.3 kB/s eta 0:00:09\n",
      "   ---------------- ----------------------- 3.3/8.0 MB 557.5 kB/s eta 0:00:09\n",
      "   ---------------- ----------------------- 3.3/8.0 MB 557.5 kB/s eta 0:00:09\n",
      "   ---------------- ----------------------- 3.4/8.0 MB 555.2 kB/s eta 0:00:09\n",
      "   ---------------- ----------------------- 3.4/8.0 MB 552.6 kB/s eta 0:00:09\n",
      "   ----------------- ---------------------- 3.4/8.0 MB 550.3 kB/s eta 0:00:09\n",
      "   ----------------- ---------------------- 3.4/8.0 MB 549.4 kB/s eta 0:00:09\n",
      "   ----------------- ---------------------- 3.4/8.0 MB 545.8 kB/s eta 0:00:09\n",
      "   ----------------- ---------------------- 3.5/8.0 MB 545.0 kB/s eta 0:00:09\n",
      "   ----------------- ---------------------- 3.5/8.0 MB 545.3 kB/s eta 0:00:09\n",
      "   ----------------- ---------------------- 3.5/8.0 MB 546.4 kB/s eta 0:00:09\n",
      "   ----------------- ---------------------- 3.5/8.0 MB 544.0 kB/s eta 0:00:09\n",
      "   ----------------- ---------------------- 3.5/8.0 MB 544.8 kB/s eta 0:00:09\n",
      "   ----------------- ---------------------- 3.6/8.0 MB 544.1 kB/s eta 0:00:09\n",
      "   ----------------- ---------------------- 3.6/8.0 MB 544.1 kB/s eta 0:00:09\n",
      "   ----------------- ---------------------- 3.6/8.0 MB 542.0 kB/s eta 0:00:09\n",
      "   ------------------ --------------------- 3.6/8.0 MB 538.5 kB/s eta 0:00:09\n",
      "   ------------------ --------------------- 3.6/8.0 MB 537.7 kB/s eta 0:00:09\n",
      "   ------------------ --------------------- 3.6/8.0 MB 534.2 kB/s eta 0:00:09\n",
      "   ------------------ --------------------- 3.6/8.0 MB 534.2 kB/s eta 0:00:09\n",
      "   ------------------ --------------------- 3.6/8.0 MB 531.2 kB/s eta 0:00:09\n",
      "   ------------------ --------------------- 3.7/8.0 MB 531.7 kB/s eta 0:00:09\n",
      "   ------------------ --------------------- 3.7/8.0 MB 528.4 kB/s eta 0:00:09\n",
      "   ------------------ --------------------- 3.7/8.0 MB 526.6 kB/s eta 0:00:09\n",
      "   ------------------ --------------------- 3.7/8.0 MB 526.6 kB/s eta 0:00:09\n",
      "   ------------------ --------------------- 3.7/8.0 MB 523.4 kB/s eta 0:00:09\n",
      "   ------------------ --------------------- 3.7/8.0 MB 522.8 kB/s eta 0:00:09\n",
      "   ------------------ --------------------- 3.7/8.0 MB 522.3 kB/s eta 0:00:09\n",
      "   ------------------ --------------------- 3.8/8.0 MB 519.2 kB/s eta 0:00:09\n",
      "   ------------------ --------------------- 3.8/8.0 MB 519.2 kB/s eta 0:00:09\n",
      "   ------------------ --------------------- 3.8/8.0 MB 515.3 kB/s eta 0:00:09\n",
      "   ------------------- -------------------- 3.8/8.0 MB 513.4 kB/s eta 0:00:09\n",
      "   ------------------- -------------------- 3.8/8.0 MB 513.4 kB/s eta 0:00:09\n",
      "   ------------------- -------------------- 3.8/8.0 MB 511.9 kB/s eta 0:00:09\n",
      "   ------------------- -------------------- 3.8/8.0 MB 509.3 kB/s eta 0:00:09\n",
      "   ------------------- -------------------- 3.8/8.0 MB 508.5 kB/s eta 0:00:09\n",
      "   ------------------- -------------------- 3.9/8.0 MB 508.1 kB/s eta 0:00:09\n",
      "   ------------------- -------------------- 3.9/8.0 MB 506.3 kB/s eta 0:00:09\n",
      "   ------------------- -------------------- 3.9/8.0 MB 505.9 kB/s eta 0:00:09\n",
      "   ------------------- -------------------- 3.9/8.0 MB 506.5 kB/s eta 0:00:09\n",
      "   ------------------- -------------------- 3.9/8.0 MB 503.7 kB/s eta 0:00:09\n",
      "   ------------------- -------------------- 3.9/8.0 MB 502.3 kB/s eta 0:00:09\n",
      "   ------------------- -------------------- 3.9/8.0 MB 502.3 kB/s eta 0:00:09\n",
      "   ------------------- -------------------- 4.0/8.0 MB 499.6 kB/s eta 0:00:09\n",
      "   ------------------- -------------------- 4.0/8.0 MB 498.3 kB/s eta 0:00:09\n",
      "   -------------------- ------------------- 4.0/8.0 MB 498.9 kB/s eta 0:00:08\n",
      "   -------------------- ------------------- 4.0/8.0 MB 498.9 kB/s eta 0:00:08\n",
      "   -------------------- ------------------- 4.0/8.0 MB 494.4 kB/s eta 0:00:09\n",
      "   -------------------- ------------------- 4.0/8.0 MB 494.0 kB/s eta 0:00:08\n",
      "   -------------------- ------------------- 4.0/8.0 MB 492.5 kB/s eta 0:00:08\n",
      "   -------------------- ------------------- 4.1/8.0 MB 492.1 kB/s eta 0:00:08\n",
      "   -------------------- ------------------- 4.1/8.0 MB 491.8 kB/s eta 0:00:08\n",
      "   -------------------- ------------------- 4.1/8.0 MB 490.3 kB/s eta 0:00:08\n",
      "   -------------------- ------------------- 4.1/8.0 MB 489.1 kB/s eta 0:00:08\n",
      "   -------------------- ------------------- 4.1/8.0 MB 488.5 kB/s eta 0:00:08\n",
      "   -------------------- ------------------- 4.1/8.0 MB 487.6 kB/s eta 0:00:08\n",
      "   -------------------- ------------------- 4.2/8.0 MB 488.2 kB/s eta 0:00:08\n",
      "   --------------------- ------------------ 4.2/8.0 MB 488.2 kB/s eta 0:00:08\n",
      "   --------------------- ------------------ 4.2/8.0 MB 490.3 kB/s eta 0:00:08\n",
      "   --------------------- ------------------ 4.2/8.0 MB 488.9 kB/s eta 0:00:08\n",
      "   --------------------- ------------------ 4.3/8.0 MB 490.6 kB/s eta 0:00:08\n",
      "   --------------------- ------------------ 4.3/8.0 MB 491.8 kB/s eta 0:00:08\n",
      "   --------------------- ------------------ 4.3/8.0 MB 491.2 kB/s eta 0:00:08\n",
      "   --------------------- ------------------ 4.3/8.0 MB 491.2 kB/s eta 0:00:08\n",
      "   --------------------- ------------------ 4.4/8.0 MB 488.7 kB/s eta 0:00:08\n",
      "   --------------------- ------------------ 4.4/8.0 MB 489.2 kB/s eta 0:00:08\n",
      "   ---------------------- ----------------- 4.4/8.0 MB 491.5 kB/s eta 0:00:08\n",
      "   ---------------------- ----------------- 4.5/8.0 MB 493.2 kB/s eta 0:00:08\n",
      "   ---------------------- ----------------- 4.5/8.0 MB 494.1 kB/s eta 0:00:08\n",
      "   ---------------------- ----------------- 4.5/8.0 MB 494.6 kB/s eta 0:00:07\n",
      "   ---------------------- ----------------- 4.5/8.0 MB 494.6 kB/s eta 0:00:07\n",
      "   ---------------------- ----------------- 4.5/8.0 MB 494.6 kB/s eta 0:00:07\n",
      "   ---------------------- ----------------- 4.6/8.0 MB 493.7 kB/s eta 0:00:07\n",
      "   ----------------------- ---------------- 4.6/8.0 MB 493.4 kB/s eta 0:00:07\n",
      "   ----------------------- ---------------- 4.6/8.0 MB 491.2 kB/s eta 0:00:07\n",
      "   ----------------------- ---------------- 4.6/8.0 MB 492.6 kB/s eta 0:00:07\n",
      "   ----------------------- ---------------- 4.6/8.0 MB 492.3 kB/s eta 0:00:07\n",
      "   ----------------------- ---------------- 4.7/8.0 MB 491.5 kB/s eta 0:00:07\n",
      "   ----------------------- ---------------- 4.7/8.0 MB 491.0 kB/s eta 0:00:07\n",
      "   ----------------------- ---------------- 4.7/8.0 MB 490.7 kB/s eta 0:00:07\n",
      "   ----------------------- ---------------- 4.7/8.0 MB 490.7 kB/s eta 0:00:07\n",
      "   ----------------------- ---------------- 4.8/8.0 MB 491.5 kB/s eta 0:00:07\n",
      "   ------------------------ --------------- 4.8/8.0 MB 493.3 kB/s eta 0:00:07\n",
      "   ------------------------ --------------- 4.9/8.0 MB 495.2 kB/s eta 0:00:07\n",
      "   ------------------------ --------------- 4.9/8.0 MB 497.0 kB/s eta 0:00:07\n",
      "   ------------------------ --------------- 4.9/8.0 MB 498.8 kB/s eta 0:00:07\n",
      "   ------------------------ --------------- 5.0/8.0 MB 501.4 kB/s eta 0:00:06\n",
      "   ------------------------- -------------- 5.0/8.0 MB 503.3 kB/s eta 0:00:06\n",
      "   ------------------------- -------------- 5.1/8.0 MB 506.1 kB/s eta 0:00:06\n",
      "   ------------------------- -------------- 5.1/8.0 MB 507.6 kB/s eta 0:00:06\n",
      "   ------------------------- -------------- 5.2/8.0 MB 509.5 kB/s eta 0:00:06\n",
      "   -------------------------- ------------- 5.2/8.0 MB 510.9 kB/s eta 0:00:06\n",
      "   -------------------------- ------------- 5.2/8.0 MB 512.9 kB/s eta 0:00:06\n",
      "   -------------------------- ------------- 5.3/8.0 MB 512.5 kB/s eta 0:00:06\n",
      "   -------------------------- ------------- 5.3/8.0 MB 514.1 kB/s eta 0:00:06\n",
      "   -------------------------- ------------- 5.3/8.0 MB 514.6 kB/s eta 0:00:06\n",
      "   -------------------------- ------------- 5.4/8.0 MB 515.4 kB/s eta 0:00:06\n",
      "   --------------------------- ------------ 5.4/8.0 MB 517.8 kB/s eta 0:00:05\n",
      "   --------------------------- ------------ 5.4/8.0 MB 518.4 kB/s eta 0:00:05\n",
      "   --------------------------- ------------ 5.5/8.0 MB 519.0 kB/s eta 0:00:05\n",
      "   --------------------------- ------------ 5.5/8.0 MB 519.4 kB/s eta 0:00:05\n",
      "   --------------------------- ------------ 5.5/8.0 MB 520.0 kB/s eta 0:00:05\n",
      "   --------------------------- ------------ 5.5/8.0 MB 518.1 kB/s eta 0:00:05\n",
      "   --------------------------- ------------ 5.6/8.0 MB 519.5 kB/s eta 0:00:05\n",
      "   ---------------------------- ----------- 5.6/8.0 MB 520.1 kB/s eta 0:00:05\n",
      "   ---------------------------- ----------- 5.6/8.0 MB 519.6 kB/s eta 0:00:05\n",
      "   ---------------------------- ----------- 5.7/8.0 MB 519.5 kB/s eta 0:00:05\n",
      "   ---------------------------- ----------- 5.7/8.0 MB 519.0 kB/s eta 0:00:05\n",
      "   ---------------------------- ----------- 5.7/8.0 MB 519.4 kB/s eta 0:00:05\n",
      "   ---------------------------- ----------- 5.7/8.0 MB 519.2 kB/s eta 0:00:05\n",
      "   ---------------------------- ----------- 5.7/8.0 MB 519.8 kB/s eta 0:00:05\n",
      "   ---------------------------- ----------- 5.8/8.0 MB 520.4 kB/s eta 0:00:05\n",
      "   ----------------------------- ---------- 5.8/8.0 MB 520.8 kB/s eta 0:00:05\n",
      "   ----------------------------- ---------- 5.8/8.0 MB 520.6 kB/s eta 0:00:05\n",
      "   ----------------------------- ---------- 5.9/8.0 MB 521.2 kB/s eta 0:00:05\n",
      "   ----------------------------- ---------- 5.9/8.0 MB 522.6 kB/s eta 0:00:04\n",
      "   ----------------------------- ---------- 5.9/8.0 MB 523.2 kB/s eta 0:00:04\n",
      "   ----------------------------- ---------- 6.0/8.0 MB 523.7 kB/s eta 0:00:04\n",
      "   ------------------------------ --------- 6.0/8.0 MB 523.4 kB/s eta 0:00:04\n",
      "   ------------------------------ --------- 6.0/8.0 MB 523.7 kB/s eta 0:00:04\n",
      "   ------------------------------ --------- 6.0/8.0 MB 524.3 kB/s eta 0:00:04\n",
      "   ------------------------------ --------- 6.1/8.0 MB 524.8 kB/s eta 0:00:04\n",
      "   ------------------------------ --------- 6.1/8.0 MB 526.2 kB/s eta 0:00:04\n",
      "   ------------------------------ --------- 6.1/8.0 MB 526.9 kB/s eta 0:00:04\n",
      "   ------------------------------- -------- 6.2/8.0 MB 529.0 kB/s eta 0:00:04\n",
      "   ------------------------------- -------- 6.2/8.0 MB 529.7 kB/s eta 0:00:04\n",
      "   ------------------------------- -------- 6.3/8.0 MB 531.9 kB/s eta 0:00:04\n",
      "   ------------------------------- -------- 6.3/8.0 MB 534.2 kB/s eta 0:00:04\n",
      "   -------------------------------- ------- 6.4/8.0 MB 536.4 kB/s eta 0:00:03\n",
      "   -------------------------------- ------- 6.4/8.0 MB 539.3 kB/s eta 0:00:03\n",
      "   -------------------------------- ------- 6.5/8.0 MB 540.6 kB/s eta 0:00:03\n",
      "   -------------------------------- ------- 6.5/8.0 MB 543.7 kB/s eta 0:00:03\n",
      "   --------------------------------- ------ 6.6/8.0 MB 546.7 kB/s eta 0:00:03\n",
      "   --------------------------------- ------ 6.6/8.0 MB 547.8 kB/s eta 0:00:03\n",
      "   --------------------------------- ------ 6.7/8.0 MB 548.4 kB/s eta 0:00:03\n",
      "   --------------------------------- ------ 6.7/8.0 MB 547.8 kB/s eta 0:00:03\n",
      "   --------------------------------- ------ 6.7/8.0 MB 548.1 kB/s eta 0:00:03\n",
      "   --------------------------------- ------ 6.7/8.0 MB 547.8 kB/s eta 0:00:03\n",
      "   --------------------------------- ------ 6.8/8.0 MB 546.7 kB/s eta 0:00:03\n",
      "   --------------------------------- ------ 6.8/8.0 MB 547.5 kB/s eta 0:00:03\n",
      "   ---------------------------------- ----- 6.8/8.0 MB 547.1 kB/s eta 0:00:03\n",
      "   ---------------------------------- ----- 6.8/8.0 MB 545.2 kB/s eta 0:00:03\n",
      "   ---------------------------------- ----- 6.8/8.0 MB 544.8 kB/s eta 0:00:03\n",
      "   ---------------------------------- ----- 6.8/8.0 MB 544.4 kB/s eta 0:00:03\n",
      "   ---------------------------------- ----- 6.9/8.0 MB 544.1 kB/s eta 0:00:03\n",
      "   ---------------------------------- ----- 6.9/8.0 MB 542.9 kB/s eta 0:00:03\n",
      "   ---------------------------------- ----- 6.9/8.0 MB 543.2 kB/s eta 0:00:02\n",
      "   ---------------------------------- ----- 6.9/8.0 MB 543.6 kB/s eta 0:00:02\n",
      "   ---------------------------------- ----- 7.0/8.0 MB 543.3 kB/s eta 0:00:02\n",
      "   ---------------------------------- ----- 7.0/8.0 MB 542.1 kB/s eta 0:00:02\n",
      "   ----------------------------------- ---- 7.0/8.0 MB 541.7 kB/s eta 0:00:02\n",
      "   ----------------------------------- ---- 7.0/8.0 MB 542.0 kB/s eta 0:00:02\n",
      "   ----------------------------------- ---- 7.0/8.0 MB 541.5 kB/s eta 0:00:02\n",
      "   ----------------------------------- ---- 7.0/8.0 MB 541.1 kB/s eta 0:00:02\n",
      "   ----------------------------------- ---- 7.1/8.0 MB 540.0 kB/s eta 0:00:02\n",
      "   ----------------------------------- ---- 7.1/8.0 MB 538.9 kB/s eta 0:00:02\n",
      "   ----------------------------------- ---- 7.1/8.0 MB 538.7 kB/s eta 0:00:02\n",
      "   ----------------------------------- ---- 7.1/8.0 MB 539.6 kB/s eta 0:00:02\n",
      "   ----------------------------------- ---- 7.2/8.0 MB 538.8 kB/s eta 0:00:02\n",
      "   ------------------------------------ --- 7.2/8.0 MB 539.1 kB/s eta 0:00:02\n",
      "   ------------------------------------ --- 7.2/8.0 MB 539.5 kB/s eta 0:00:02\n",
      "   ------------------------------------ --- 7.2/8.0 MB 539.0 kB/s eta 0:00:02\n",
      "   ------------------------------------ --- 7.2/8.0 MB 539.3 kB/s eta 0:00:02\n",
      "   ------------------------------------ --- 7.3/8.0 MB 538.9 kB/s eta 0:00:02\n",
      "   ------------------------------------ --- 7.3/8.0 MB 538.7 kB/s eta 0:00:02\n",
      "   ------------------------------------ --- 7.3/8.0 MB 537.6 kB/s eta 0:00:02\n",
      "   ------------------------------------ --- 7.3/8.0 MB 537.2 kB/s eta 0:00:02\n",
      "   ------------------------------------ --- 7.3/8.0 MB 536.9 kB/s eta 0:00:02\n",
      "   ------------------------------------ --- 7.4/8.0 MB 535.2 kB/s eta 0:00:02\n",
      "   ------------------------------------ --- 7.4/8.0 MB 534.8 kB/s eta 0:00:02\n",
      "   ------------------------------------- -- 7.4/8.0 MB 533.8 kB/s eta 0:00:02\n",
      "   ------------------------------------- -- 7.4/8.0 MB 534.0 kB/s eta 0:00:02\n",
      "   ------------------------------------- -- 7.4/8.0 MB 533.7 kB/s eta 0:00:02\n",
      "   ------------------------------------- -- 7.4/8.0 MB 533.3 kB/s eta 0:00:02\n",
      "   ------------------------------------- -- 7.5/8.0 MB 531.9 kB/s eta 0:00:01\n",
      "   ------------------------------------- -- 7.5/8.0 MB 531.9 kB/s eta 0:00:01\n",
      "   ------------------------------------- -- 7.5/8.0 MB 531.8 kB/s eta 0:00:01\n",
      "   ------------------------------------- -- 7.5/8.0 MB 530.8 kB/s eta 0:00:01\n",
      "   ------------------------------------- -- 7.5/8.0 MB 530.8 kB/s eta 0:00:01\n",
      "   ------------------------------------- -- 7.5/8.0 MB 528.7 kB/s eta 0:00:01\n",
      "   ------------------------------------- -- 7.5/8.0 MB 528.7 kB/s eta 0:00:01\n",
      "   ------------------------------------- -- 7.5/8.0 MB 528.7 kB/s eta 0:00:01\n",
      "   ------------------------------------- -- 7.5/8.0 MB 524.8 kB/s eta 0:00:01\n",
      "   ------------------------------------- -- 7.5/8.0 MB 524.8 kB/s eta 0:00:01\n",
      "   ------------------------------------- -- 7.5/8.0 MB 524.8 kB/s eta 0:00:01\n",
      "   ------------------------------------- -- 7.6/8.0 MB 521.7 kB/s eta 0:00:01\n",
      "   ------------------------------------- -- 7.6/8.0 MB 521.7 kB/s eta 0:00:01\n",
      "   -------------------------------------- - 7.6/8.0 MB 519.8 kB/s eta 0:00:01\n",
      "   -------------------------------------- - 7.6/8.0 MB 519.8 kB/s eta 0:00:01\n",
      "   -------------------------------------- - 7.6/8.0 MB 517.2 kB/s eta 0:00:01\n",
      "   -------------------------------------- - 7.6/8.0 MB 517.2 kB/s eta 0:00:01\n",
      "   -------------------------------------- - 7.6/8.0 MB 517.2 kB/s eta 0:00:01\n",
      "   -------------------------------------- - 7.6/8.0 MB 513.1 kB/s eta 0:00:01\n",
      "   -------------------------------------- - 7.6/8.0 MB 513.1 kB/s eta 0:00:01\n",
      "   -------------------------------------- - 7.6/8.0 MB 511.1 kB/s eta 0:00:01\n",
      "   -------------------------------------- - 7.6/8.0 MB 509.8 kB/s eta 0:00:01\n",
      "   -------------------------------------- - 7.7/8.0 MB 509.6 kB/s eta 0:00:01\n",
      "   -------------------------------------- - 7.7/8.0 MB 509.6 kB/s eta 0:00:01\n",
      "   -------------------------------------- - 7.7/8.0 MB 508.7 kB/s eta 0:00:01\n",
      "   -------------------------------------- - 7.7/8.0 MB 506.9 kB/s eta 0:00:01\n",
      "   -------------------------------------- - 7.7/8.0 MB 506.5 kB/s eta 0:00:01\n",
      "   -------------------------------------- - 7.7/8.0 MB 506.3 kB/s eta 0:00:01\n",
      "   -------------------------------------- - 7.7/8.0 MB 506.3 kB/s eta 0:00:01\n",
      "   -------------------------------------- - 7.8/8.0 MB 505.1 kB/s eta 0:00:01\n",
      "   -------------------------------------- - 7.8/8.0 MB 504.2 kB/s eta 0:00:01\n",
      "   ---------------------------------------  7.8/8.0 MB 504.1 kB/s eta 0:00:01\n",
      "   ---------------------------------------  7.8/8.0 MB 503.9 kB/s eta 0:00:01\n",
      "   ---------------------------------------  7.8/8.0 MB 503.9 kB/s eta 0:00:01\n",
      "   ---------------------------------------  7.8/8.0 MB 503.9 kB/s eta 0:00:01\n",
      "   ---------------------------------------  7.9/8.0 MB 502.8 kB/s eta 0:00:01\n",
      "   ---------------------------------------  7.9/8.0 MB 503.1 kB/s eta 0:00:01\n",
      "   ---------------------------------------  7.9/8.0 MB 502.9 kB/s eta 0:00:01\n",
      "   ---------------------------------------  7.9/8.0 MB 503.4 kB/s eta 0:00:01\n",
      "   ---------------------------------------  8.0/8.0 MB 502.0 kB/s eta 0:00:01\n",
      "   ---------------------------------------- 8.0/8.0 MB 502.0 kB/s eta 0:00:00\n",
      "Downloading contourpy-1.2.1-cp312-cp312-win_amd64.whl (189 kB)\n",
      "   ---------------------------------------- 0.0/189.9 kB ? eta -:--:--\n",
      "   ------ -------------------------------- 30.7/189.9 kB 660.6 kB/s eta 0:00:01\n",
      "   -------- ------------------------------ 41.0/189.9 kB 653.6 kB/s eta 0:00:01\n",
      "   ------------------ -------------------- 92.2/189.9 kB 751.6 kB/s eta 0:00:01\n",
      "   ---------------------- --------------- 112.6/189.9 kB 595.3 kB/s eta 0:00:01\n",
      "   ------------------------ ------------- 122.9/189.9 kB 599.1 kB/s eta 0:00:01\n",
      "   ---------------------------- --------- 143.4/189.9 kB 568.9 kB/s eta 0:00:01\n",
      "   ------------------------------ ------- 153.6/189.9 kB 510.2 kB/s eta 0:00:01\n",
      "   -------------------------------------- 189.9/189.9 kB 500.4 kB/s eta 0:00:00\n",
      "Downloading cycler-0.12.1-py3-none-any.whl (8.3 kB)\n",
      "Downloading fonttools-4.53.1-cp312-cp312-win_amd64.whl (2.2 MB)\n",
      "   ---------------------------------------- 0.0/2.2 MB ? eta -:--:--\n",
      "   ---------------------------------------- 0.0/2.2 MB ? eta -:--:--\n",
      "   ---------------------------------------- 0.0/2.2 MB ? eta -:--:--\n",
      "    --------------------------------------- 0.0/2.2 MB 325.1 kB/s eta 0:00:07\n",
      "   - -------------------------------------- 0.1/2.2 MB 363.1 kB/s eta 0:00:06\n",
      "   - -------------------------------------- 0.1/2.2 MB 363.1 kB/s eta 0:00:06\n",
      "   - -------------------------------------- 0.1/2.2 MB 351.4 kB/s eta 0:00:07\n",
      "   - -------------------------------------- 0.1/2.2 MB 308.0 kB/s eta 0:00:07\n",
      "   -- ------------------------------------- 0.1/2.2 MB 344.8 kB/s eta 0:00:07\n",
      "   -- ------------------------------------- 0.1/2.2 MB 327.4 kB/s eta 0:00:07\n",
      "   -- ------------------------------------- 0.1/2.2 MB 355.0 kB/s eta 0:00:06\n",
      "   -- ------------------------------------- 0.2/2.2 MB 364.0 kB/s eta 0:00:06\n",
      "   --- ------------------------------------ 0.2/2.2 MB 357.2 kB/s eta 0:00:06\n",
      "   --- ------------------------------------ 0.2/2.2 MB 357.2 kB/s eta 0:00:06\n",
      "   ---- ----------------------------------- 0.2/2.2 MB 352.5 kB/s eta 0:00:06\n",
      "   ---- ----------------------------------- 0.2/2.2 MB 367.4 kB/s eta 0:00:06\n",
      "   ---- ----------------------------------- 0.2/2.2 MB 367.4 kB/s eta 0:00:06\n",
      "   ---- ----------------------------------- 0.3/2.2 MB 348.3 kB/s eta 0:00:06\n",
      "   ----- ---------------------------------- 0.3/2.2 MB 353.6 kB/s eta 0:00:06\n",
      "   ----- ---------------------------------- 0.3/2.2 MB 353.6 kB/s eta 0:00:06\n",
      "   ----- ---------------------------------- 0.3/2.2 MB 339.7 kB/s eta 0:00:06\n",
      "   ----- ---------------------------------- 0.3/2.2 MB 338.7 kB/s eta 0:00:06\n",
      "   ----- ---------------------------------- 0.3/2.2 MB 327.6 kB/s eta 0:00:06\n",
      "   ------ --------------------------------- 0.3/2.2 MB 332.6 kB/s eta 0:00:06\n",
      "   ------ --------------------------------- 0.3/2.2 MB 332.6 kB/s eta 0:00:06\n",
      "   ------ --------------------------------- 0.4/2.2 MB 332.2 kB/s eta 0:00:06\n",
      "   ------ --------------------------------- 0.4/2.2 MB 327.7 kB/s eta 0:00:06\n",
      "   ------- -------------------------------- 0.4/2.2 MB 323.2 kB/s eta 0:00:06\n",
      "   ------- -------------------------------- 0.4/2.2 MB 327.6 kB/s eta 0:00:06\n",
      "   ------- -------------------------------- 0.4/2.2 MB 327.5 kB/s eta 0:00:06\n",
      "   -------- ------------------------------- 0.5/2.2 MB 327.6 kB/s eta 0:00:06\n",
      "   -------- ------------------------------- 0.5/2.2 MB 327.6 kB/s eta 0:00:06\n",
      "   -------- ------------------------------- 0.5/2.2 MB 320.2 kB/s eta 0:00:06\n",
      "   -------- ------------------------------- 0.5/2.2 MB 324.0 kB/s eta 0:00:06\n",
      "   -------- ------------------------------- 0.5/2.2 MB 317.5 kB/s eta 0:00:06\n",
      "   --------- ------------------------------ 0.5/2.2 MB 321.0 kB/s eta 0:00:06\n",
      "   --------- ------------------------------ 0.5/2.2 MB 321.0 kB/s eta 0:00:06\n",
      "   --------- ------------------------------ 0.5/2.2 MB 321.4 kB/s eta 0:00:06\n",
      "   --------- ------------------------------ 0.5/2.2 MB 312.5 kB/s eta 0:00:06\n",
      "   --------- ------------------------------ 0.5/2.2 MB 312.5 kB/s eta 0:00:06\n",
      "   ---------- ----------------------------- 0.6/2.2 MB 313.1 kB/s eta 0:00:06\n",
      "   ---------- ----------------------------- 0.6/2.2 MB 305.4 kB/s eta 0:00:06\n",
      "   ---------- ----------------------------- 0.6/2.2 MB 305.4 kB/s eta 0:00:06\n",
      "   ----------- ---------------------------- 0.6/2.2 MB 309.2 kB/s eta 0:00:06\n",
      "   ----------- ---------------------------- 0.6/2.2 MB 312.0 kB/s eta 0:00:06\n",
      "   ----------- ---------------------------- 0.7/2.2 MB 315.2 kB/s eta 0:00:05\n",
      "   ------------ --------------------------- 0.7/2.2 MB 320.2 kB/s eta 0:00:05\n",
      "   ------------ --------------------------- 0.7/2.2 MB 325.2 kB/s eta 0:00:05\n",
      "   ------------- -------------------------- 0.7/2.2 MB 330.0 kB/s eta 0:00:05\n",
      "   ------------- -------------------------- 0.8/2.2 MB 336.9 kB/s eta 0:00:05\n",
      "   -------------- ------------------------- 0.8/2.2 MB 341.3 kB/s eta 0:00:05\n",
      "   -------------- ------------------------- 0.8/2.2 MB 345.3 kB/s eta 0:00:05\n",
      "   --------------- ------------------------ 0.8/2.2 MB 351.5 kB/s eta 0:00:04\n",
      "   ---------------- ----------------------- 0.9/2.2 MB 361.6 kB/s eta 0:00:04\n",
      "   ---------------- ----------------------- 0.9/2.2 MB 367.2 kB/s eta 0:00:04\n",
      "   ----------------- ---------------------- 0.9/2.2 MB 372.7 kB/s eta 0:00:04\n",
      "   ----------------- ---------------------- 1.0/2.2 MB 380.2 kB/s eta 0:00:04\n",
      "   ------------------ --------------------- 1.0/2.2 MB 386.9 kB/s eta 0:00:04\n",
      "   ------------------- -------------------- 1.1/2.2 MB 397.9 kB/s eta 0:00:03\n",
      "   ------------------- -------------------- 1.1/2.2 MB 392.4 kB/s eta 0:00:03\n",
      "   ------------------- -------------------- 1.1/2.2 MB 399.2 kB/s eta 0:00:03\n",
      "   -------------------- ------------------- 1.1/2.2 MB 402.2 kB/s eta 0:00:03\n",
      "   -------------------- ------------------- 1.1/2.2 MB 404.1 kB/s eta 0:00:03\n",
      "   --------------------- ------------------ 1.2/2.2 MB 406.9 kB/s eta 0:00:03\n",
      "   --------------------- ------------------ 1.2/2.2 MB 410.9 kB/s eta 0:00:03\n",
      "   ---------------------- ----------------- 1.2/2.2 MB 412.5 kB/s eta 0:00:03\n",
      "   ---------------------- ----------------- 1.3/2.2 MB 416.4 kB/s eta 0:00:03\n",
      "   ----------------------- ---------------- 1.3/2.2 MB 418.8 kB/s eta 0:00:03\n",
      "   ----------------------- ---------------- 1.3/2.2 MB 419.0 kB/s eta 0:00:03\n",
      "   ----------------------- ---------------- 1.3/2.2 MB 419.0 kB/s eta 0:00:03\n",
      "   ----------------------- ---------------- 1.3/2.2 MB 411.9 kB/s eta 0:00:03\n",
      "   ------------------------ --------------- 1.3/2.2 MB 410.4 kB/s eta 0:00:03\n",
      "   ------------------------ --------------- 1.3/2.2 MB 407.6 kB/s eta 0:00:03\n",
      "   ------------------------ --------------- 1.4/2.2 MB 410.0 kB/s eta 0:00:03\n",
      "   ------------------------- -------------- 1.4/2.2 MB 409.6 kB/s eta 0:00:02\n",
      "   ------------------------- -------------- 1.4/2.2 MB 413.0 kB/s eta 0:00:02\n",
      "   -------------------------- ------------- 1.4/2.2 MB 415.1 kB/s eta 0:00:02\n",
      "   -------------------------- ------------- 1.5/2.2 MB 418.4 kB/s eta 0:00:02\n",
      "   --------------------------- ------------ 1.5/2.2 MB 422.5 kB/s eta 0:00:02\n",
      "   ---------------------------- ----------- 1.5/2.2 MB 427.4 kB/s eta 0:00:02\n",
      "   ---------------------------- ----------- 1.6/2.2 MB 429.4 kB/s eta 0:00:02\n",
      "   ----------------------------- ---------- 1.6/2.2 MB 430.4 kB/s eta 0:00:02\n",
      "   ----------------------------- ---------- 1.6/2.2 MB 431.4 kB/s eta 0:00:02\n",
      "   ------------------------------ --------- 1.6/2.2 MB 435.1 kB/s eta 0:00:02\n",
      "   ------------------------------ --------- 1.7/2.2 MB 437.7 kB/s eta 0:00:02\n",
      "   ------------------------------- -------- 1.7/2.2 MB 438.7 kB/s eta 0:00:02\n",
      "   ------------------------------- -------- 1.8/2.2 MB 442.1 kB/s eta 0:00:02\n",
      "   -------------------------------- ------- 1.8/2.2 MB 443.8 kB/s eta 0:00:01\n",
      "   -------------------------------- ------- 1.8/2.2 MB 446.2 kB/s eta 0:00:01\n",
      "   --------------------------------- ------ 1.8/2.2 MB 449.4 kB/s eta 0:00:01\n",
      "   --------------------------------- ------ 1.9/2.2 MB 450.2 kB/s eta 0:00:01\n",
      "   ---------------------------------- ----- 1.9/2.2 MB 450.8 kB/s eta 0:00:01\n",
      "   ---------------------------------- ----- 1.9/2.2 MB 450.6 kB/s eta 0:00:01\n",
      "   ----------------------------------- ---- 1.9/2.2 MB 450.6 kB/s eta 0:00:01\n",
      "   ----------------------------------- ---- 1.9/2.2 MB 450.6 kB/s eta 0:00:01\n",
      "   ----------------------------------- ---- 1.9/2.2 MB 446.4 kB/s eta 0:00:01\n",
      "   ----------------------------------- ---- 2.0/2.2 MB 445.4 kB/s eta 0:00:01\n",
      "   ----------------------------------- ---- 2.0/2.2 MB 445.4 kB/s eta 0:00:01\n",
      "   ------------------------------------ --- 2.0/2.2 MB 442.2 kB/s eta 0:00:01\n",
      "   ------------------------------------ --- 2.0/2.2 MB 442.2 kB/s eta 0:00:01\n",
      "   ------------------------------------ --- 2.0/2.2 MB 441.4 kB/s eta 0:00:01\n",
      "   ------------------------------------- -- 2.0/2.2 MB 441.3 kB/s eta 0:00:01\n",
      "   ------------------------------------- -- 2.0/2.2 MB 436.2 kB/s eta 0:00:01\n",
      "   ------------------------------------- -- 2.1/2.2 MB 439.0 kB/s eta 0:00:01\n",
      "   -------------------------------------- - 2.1/2.2 MB 436.2 kB/s eta 0:00:01\n",
      "   -------------------------------------- - 2.1/2.2 MB 434.0 kB/s eta 0:00:01\n",
      "   -------------------------------------- - 2.1/2.2 MB 434.0 kB/s eta 0:00:01\n",
      "   -------------------------------------- - 2.1/2.2 MB 432.7 kB/s eta 0:00:01\n",
      "   -------------------------------------- - 2.1/2.2 MB 430.7 kB/s eta 0:00:01\n",
      "   ---------------------------------------  2.2/2.2 MB 432.1 kB/s eta 0:00:01\n",
      "   ---------------------------------------  2.2/2.2 MB 432.2 kB/s eta 0:00:01\n",
      "   ---------------------------------------- 2.2/2.2 MB 429.8 kB/s eta 0:00:00\n",
      "Downloading kiwisolver-1.4.5-cp312-cp312-win_amd64.whl (56 kB)\n",
      "   ---------------------------------------- 0.0/56.0 kB ? eta -:--:--\n",
      "   ------- -------------------------------- 10.2/56.0 kB ? eta -:--:--\n",
      "   --------------------- ------------------ 30.7/56.0 kB 435.7 kB/s eta 0:00:01\n",
      "   ----------------------------- ---------- 41.0/56.0 kB 326.8 kB/s eta 0:00:01\n",
      "   ---------------------------------------- 56.0/56.0 kB 324.6 kB/s eta 0:00:00\n",
      "Downloading pillow-10.4.0-cp312-cp312-win_amd64.whl (2.6 MB)\n",
      "   ---------------------------------------- 0.0/2.6 MB ? eta -:--:--\n",
      "   ---------------------------------------- 0.0/2.6 MB ? eta -:--:--\n",
      "   ---------------------------------------- 0.0/2.6 MB 660.6 kB/s eta 0:00:04\n",
      "    --------------------------------------- 0.1/2.6 MB 469.7 kB/s eta 0:00:06\n",
      "    --------------------------------------- 0.1/2.6 MB 469.7 kB/s eta 0:00:06\n",
      "   - -------------------------------------- 0.1/2.6 MB 504.4 kB/s eta 0:00:05\n",
      "   - -------------------------------------- 0.1/2.6 MB 514.3 kB/s eta 0:00:05\n",
      "   -- ------------------------------------- 0.1/2.6 MB 500.5 kB/s eta 0:00:05\n",
      "   -- ------------------------------------- 0.2/2.6 MB 499.5 kB/s eta 0:00:05\n",
      "   --- ------------------------------------ 0.2/2.6 MB 491.5 kB/s eta 0:00:05\n",
      "   --- ------------------------------------ 0.2/2.6 MB 461.0 kB/s eta 0:00:06\n",
      "   --- ------------------------------------ 0.2/2.6 MB 461.0 kB/s eta 0:00:06\n",
      "   --- ------------------------------------ 0.2/2.6 MB 430.1 kB/s eta 0:00:06\n",
      "   --- ------------------------------------ 0.2/2.6 MB 424.3 kB/s eta 0:00:06\n",
      "   ---- ----------------------------------- 0.3/2.6 MB 425.2 kB/s eta 0:00:06\n",
      "   ---- ----------------------------------- 0.3/2.6 MB 415.4 kB/s eta 0:00:06\n",
      "   ---- ----------------------------------- 0.3/2.6 MB 402.4 kB/s eta 0:00:06\n",
      "   ---- ----------------------------------- 0.3/2.6 MB 404.6 kB/s eta 0:00:06\n",
      "   ----- ---------------------------------- 0.3/2.6 MB 411.1 kB/s eta 0:00:06\n",
      "   ----- ---------------------------------- 0.4/2.6 MB 420.5 kB/s eta 0:00:06\n",
      "   ----- ---------------------------------- 0.4/2.6 MB 417.2 kB/s eta 0:00:06\n",
      "   ------ --------------------------------- 0.4/2.6 MB 422.0 kB/s eta 0:00:06\n",
      "   ------ --------------------------------- 0.4/2.6 MB 422.7 kB/s eta 0:00:06\n",
      "   ------ --------------------------------- 0.4/2.6 MB 430.1 kB/s eta 0:00:05\n",
      "   ------- -------------------------------- 0.5/2.6 MB 427.5 kB/s eta 0:00:05\n",
      "   ------- -------------------------------- 0.5/2.6 MB 418.7 kB/s eta 0:00:05\n",
      "   ------- -------------------------------- 0.5/2.6 MB 425.2 kB/s eta 0:00:05\n",
      "   -------- ------------------------------- 0.5/2.6 MB 425.6 kB/s eta 0:00:05\n",
      "   -------- ------------------------------- 0.5/2.6 MB 423.2 kB/s eta 0:00:05\n",
      "   -------- ------------------------------- 0.6/2.6 MB 413.7 kB/s eta 0:00:05\n",
      "   -------- ------------------------------- 0.6/2.6 MB 416.4 kB/s eta 0:00:05\n",
      "   --------- ------------------------------ 0.6/2.6 MB 422.0 kB/s eta 0:00:05\n",
      "   --------- ------------------------------ 0.6/2.6 MB 415.8 kB/s eta 0:00:05\n",
      "   --------- ------------------------------ 0.6/2.6 MB 420.9 kB/s eta 0:00:05\n",
      "   ---------- ----------------------------- 0.7/2.6 MB 423.6 kB/s eta 0:00:05\n",
      "   ---------- ----------------------------- 0.7/2.6 MB 428.3 kB/s eta 0:00:05\n",
      "   ---------- ----------------------------- 0.7/2.6 MB 426.4 kB/s eta 0:00:05\n",
      "   ----------- ---------------------------- 0.7/2.6 MB 426.7 kB/s eta 0:00:05\n",
      "   ----------- ---------------------------- 0.7/2.6 MB 425.2 kB/s eta 0:00:05\n",
      "   ------------ --------------------------- 0.8/2.6 MB 429.1 kB/s eta 0:00:05\n",
      "   ------------ --------------------------- 0.8/2.6 MB 427.4 kB/s eta 0:00:05\n",
      "   ------------ --------------------------- 0.8/2.6 MB 429.6 kB/s eta 0:00:05\n",
      "   ------------- -------------------------- 0.8/2.6 MB 440.5 kB/s eta 0:00:04\n",
      "   ------------- -------------------------- 0.9/2.6 MB 449.4 kB/s eta 0:00:04\n",
      "   -------------- ------------------------- 0.9/2.6 MB 454.2 kB/s eta 0:00:04\n",
      "   -------------- ------------------------- 0.9/2.6 MB 453.8 kB/s eta 0:00:04\n",
      "   -------------- ------------------------- 0.9/2.6 MB 445.0 kB/s eta 0:00:04\n",
      "   --------------- ------------------------ 1.0/2.6 MB 444.8 kB/s eta 0:00:04\n",
      "   --------------- ------------------------ 1.0/2.6 MB 444.8 kB/s eta 0:00:04\n",
      "   --------------- ------------------------ 1.0/2.6 MB 436.9 kB/s eta 0:00:04\n",
      "   --------------- ------------------------ 1.0/2.6 MB 433.8 kB/s eta 0:00:04\n",
      "   --------------- ------------------------ 1.0/2.6 MB 436.9 kB/s eta 0:00:04\n",
      "   ---------------- ----------------------- 1.0/2.6 MB 429.7 kB/s eta 0:00:04\n",
      "   ---------------- ----------------------- 1.0/2.6 MB 432.6 kB/s eta 0:00:04\n",
      "   ---------------- ----------------------- 1.1/2.6 MB 428.6 kB/s eta 0:00:04\n",
      "   ---------------- ----------------------- 1.1/2.6 MB 428.7 kB/s eta 0:00:04\n",
      "   ----------------- ---------------------- 1.1/2.6 MB 427.7 kB/s eta 0:00:04\n",
      "   ----------------- ---------------------- 1.1/2.6 MB 430.3 kB/s eta 0:00:04\n",
      "   ------------------ --------------------- 1.2/2.6 MB 434.3 kB/s eta 0:00:04\n",
      "   ------------------ --------------------- 1.2/2.6 MB 428.1 kB/s eta 0:00:04\n",
      "   ------------------ --------------------- 1.2/2.6 MB 431.9 kB/s eta 0:00:04\n",
      "   ------------------- -------------------- 1.2/2.6 MB 434.5 kB/s eta 0:00:04\n",
      "   ------------------- -------------------- 1.2/2.6 MB 434.5 kB/s eta 0:00:04\n",
      "   ------------------- -------------------- 1.2/2.6 MB 435.7 kB/s eta 0:00:03\n",
      "   -------------------- ------------------- 1.3/2.6 MB 432.3 kB/s eta 0:00:03\n",
      "   -------------------- ------------------- 1.3/2.6 MB 432.3 kB/s eta 0:00:03\n",
      "   -------------------- ------------------- 1.3/2.6 MB 434.6 kB/s eta 0:00:03\n",
      "   -------------------- ------------------- 1.3/2.6 MB 431.4 kB/s eta 0:00:03\n",
      "   --------------------- ------------------ 1.4/2.6 MB 431.5 kB/s eta 0:00:03\n",
      "   --------------------- ------------------ 1.4/2.6 MB 428.3 kB/s eta 0:00:03\n",
      "   --------------------- ------------------ 1.4/2.6 MB 430.5 kB/s eta 0:00:03\n",
      "   ---------------------- ----------------- 1.4/2.6 MB 431.7 kB/s eta 0:00:03\n",
      "   ---------------------- ----------------- 1.4/2.6 MB 432.7 kB/s eta 0:00:03\n",
      "   ---------------------- ----------------- 1.5/2.6 MB 431.8 kB/s eta 0:00:03\n",
      "   ----------------------- ---------------- 1.5/2.6 MB 433.9 kB/s eta 0:00:03\n",
      "   ----------------------- ---------------- 1.5/2.6 MB 435.0 kB/s eta 0:00:03\n",
      "   ----------------------- ---------------- 1.5/2.6 MB 436.9 kB/s eta 0:00:03\n",
      "   ------------------------ --------------- 1.6/2.6 MB 437.9 kB/s eta 0:00:03\n",
      "   ------------------------ --------------- 1.6/2.6 MB 440.7 kB/s eta 0:00:03\n",
      "   ------------------------- -------------- 1.6/2.6 MB 443.5 kB/s eta 0:00:03\n",
      "   ------------------------- -------------- 1.6/2.6 MB 445.3 kB/s eta 0:00:03\n",
      "   ------------------------- -------------- 1.6/2.6 MB 445.3 kB/s eta 0:00:03\n",
      "   -------------------------- ------------- 1.7/2.6 MB 447.0 kB/s eta 0:00:02\n",
      "   -------------------------- ------------- 1.7/2.6 MB 447.7 kB/s eta 0:00:02\n",
      "   --------------------------- ------------ 1.8/2.6 MB 451.1 kB/s eta 0:00:02\n",
      "   --------------------------- ------------ 1.8/2.6 MB 451.1 kB/s eta 0:00:02\n",
      "   --------------------------- ------------ 1.8/2.6 MB 451.7 kB/s eta 0:00:02\n",
      "   ---------------------------- ----------- 1.8/2.6 MB 452.4 kB/s eta 0:00:02\n",
      "   ---------------------------- ----------- 1.8/2.6 MB 452.2 kB/s eta 0:00:02\n",
      "   ---------------------------- ----------- 1.8/2.6 MB 451.2 kB/s eta 0:00:02\n",
      "   ----------------------------- ---------- 1.9/2.6 MB 451.1 kB/s eta 0:00:02\n",
      "   ----------------------------- ---------- 1.9/2.6 MB 446.7 kB/s eta 0:00:02\n",
      "   ----------------------------- ---------- 1.9/2.6 MB 446.7 kB/s eta 0:00:02\n",
      "   ----------------------------- ---------- 1.9/2.6 MB 443.3 kB/s eta 0:00:02\n",
      "   ----------------------------- ---------- 1.9/2.6 MB 440.1 kB/s eta 0:00:02\n",
      "   ----------------------------- ---------- 1.9/2.6 MB 440.1 kB/s eta 0:00:02\n",
      "   ------------------------------ --------- 1.9/2.6 MB 436.1 kB/s eta 0:00:02\n",
      "   ------------------------------ --------- 1.9/2.6 MB 434.6 kB/s eta 0:00:02\n",
      "   ------------------------------ --------- 2.0/2.6 MB 432.4 kB/s eta 0:00:02\n",
      "   ------------------------------ --------- 2.0/2.6 MB 432.4 kB/s eta 0:00:02\n",
      "   ------------------------------- -------- 2.0/2.6 MB 432.4 kB/s eta 0:00:02\n",
      "   ------------------------------- -------- 2.0/2.6 MB 433.2 kB/s eta 0:00:02\n",
      "   ------------------------------- -------- 2.0/2.6 MB 433.3 kB/s eta 0:00:02\n",
      "   -------------------------------- ------- 2.1/2.6 MB 432.6 kB/s eta 0:00:02\n",
      "   -------------------------------- ------- 2.1/2.6 MB 432.6 kB/s eta 0:00:02\n",
      "   -------------------------------- ------- 2.1/2.6 MB 432.0 kB/s eta 0:00:02\n",
      "   --------------------------------- ------ 2.1/2.6 MB 434.8 kB/s eta 0:00:02\n",
      "   --------------------------------- ------ 2.1/2.6 MB 432.7 kB/s eta 0:00:01\n",
      "   --------------------------------- ------ 2.2/2.6 MB 435.6 kB/s eta 0:00:01\n",
      "   ---------------------------------- ----- 2.2/2.6 MB 432.8 kB/s eta 0:00:01\n",
      "   ---------------------------------- ----- 2.2/2.6 MB 432.9 kB/s eta 0:00:01\n",
      "   ---------------------------------- ----- 2.2/2.6 MB 434.2 kB/s eta 0:00:01\n",
      "   ----------------------------------- ---- 2.3/2.6 MB 436.2 kB/s eta 0:00:01\n",
      "   ----------------------------------- ---- 2.3/2.6 MB 437.6 kB/s eta 0:00:01\n",
      "   ------------------------------------ --- 2.3/2.6 MB 438.2 kB/s eta 0:00:01\n",
      "   ------------------------------------ --- 2.3/2.6 MB 438.2 kB/s eta 0:00:01\n",
      "   ------------------------------------ --- 2.3/2.6 MB 436.3 kB/s eta 0:00:01\n",
      "   ------------------------------------ --- 2.4/2.6 MB 437.6 kB/s eta 0:00:01\n",
      "   ------------------------------------- -- 2.4/2.6 MB 435.7 kB/s eta 0:00:01\n",
      "   ------------------------------------- -- 2.4/2.6 MB 435.7 kB/s eta 0:00:01\n",
      "   ------------------------------------- -- 2.4/2.6 MB 434.4 kB/s eta 0:00:01\n",
      "   ------------------------------------- -- 2.4/2.6 MB 432.6 kB/s eta 0:00:01\n",
      "   ------------------------------------- -- 2.4/2.6 MB 432.6 kB/s eta 0:00:01\n",
      "   -------------------------------------- - 2.4/2.6 MB 430.2 kB/s eta 0:00:01\n",
      "   -------------------------------------- - 2.4/2.6 MB 428.5 kB/s eta 0:00:01\n",
      "   -------------------------------------- - 2.4/2.6 MB 428.5 kB/s eta 0:00:01\n",
      "   -------------------------------------- - 2.5/2.6 MB 426.2 kB/s eta 0:00:01\n",
      "   -------------------------------------- - 2.5/2.6 MB 426.2 kB/s eta 0:00:01\n",
      "   -------------------------------------- - 2.5/2.6 MB 426.2 kB/s eta 0:00:01\n",
      "   -------------------------------------- - 2.5/2.6 MB 419.6 kB/s eta 0:00:01\n",
      "   -------------------------------------- - 2.5/2.6 MB 419.6 kB/s eta 0:00:01\n",
      "   -------------------------------------- - 2.5/2.6 MB 419.6 kB/s eta 0:00:01\n",
      "   ---------------------------------------  2.5/2.6 MB 410.5 kB/s eta 0:00:01\n",
      "   ---------------------------------------  2.5/2.6 MB 410.5 kB/s eta 0:00:01\n",
      "   ---------------------------------------  2.5/2.6 MB 410.5 kB/s eta 0:00:01\n",
      "   ---------------------------------------  2.5/2.6 MB 405.5 kB/s eta 0:00:01\n",
      "   ---------------------------------------  2.5/2.6 MB 403.0 kB/s eta 0:00:01\n",
      "   ---------------------------------------  2.5/2.6 MB 403.3 kB/s eta 0:00:01\n",
      "   ---------------------------------------- 2.6/2.6 MB 401.1 kB/s eta 0:00:00\n",
      "Downloading pyparsing-3.1.2-py3-none-any.whl (103 kB)\n",
      "   ---------------------------------------- 0.0/103.2 kB ? eta -:--:--\n",
      "   --- ------------------------------------ 10.2/103.2 kB ? eta -:--:--\n",
      "   ----------- --------------------------- 30.7/103.2 kB 435.7 kB/s eta 0:00:01\n",
      "   --------------- ----------------------- 41.0/103.2 kB 393.8 kB/s eta 0:00:01\n",
      "   ----------------------- --------------- 61.4/103.2 kB 465.5 kB/s eta 0:00:01\n",
      "   ----------------------- --------------- 61.4/103.2 kB 465.5 kB/s eta 0:00:01\n",
      "   ------------------------------ -------- 81.9/103.2 kB 381.3 kB/s eta 0:00:01\n",
      "   -------------------------------------- 103.2/103.2 kB 331.0 kB/s eta 0:00:00\n",
      "Installing collected packages: pyparsing, pillow, kiwisolver, fonttools, cycler, contourpy, matplotlib\n",
      "Successfully installed contourpy-1.2.1 cycler-0.12.1 fonttools-4.53.1 kiwisolver-1.4.5 matplotlib-3.9.1.post1 pillow-10.4.0 pyparsing-3.1.2\n",
      "Note: you may need to restart the kernel to use updated packages.\n"
     ]
    }
   ],
   "source": [
    "pip install matplotlib"
   ]
  },
  {
   "cell_type": "code",
   "execution_count": 118,
   "metadata": {},
   "outputs": [
    {
     "data": {
      "text/plain": [
       "<Axes: >"
      ]
     },
     "execution_count": 118,
     "metadata": {},
     "output_type": "execute_result"
    },
    {
     "data": {
      "image/png": "[encoded data removed]",
      "text/plain": [
       "<Figure size 640x480 with 1 Axes>"
      ]
     },
     "metadata": {},
     "output_type": "display_data"
    }
   ],
   "source": [
    "import matplotlib\n",
    "d = pd.Series([1,2,3,3,5,6,6,8])\n",
    "d.plot()"
   ]
  },
  {
   "cell_type": "code",
   "execution_count": 124,
   "metadata": {},
   "outputs": [],
   "source": [
    "df = pd.DataFrame({'a':[3,4,5,6,7],'b':[4,5,6,7,8]})"
   ]
  },
  {
   "cell_type": "code",
   "execution_count": 125,
   "metadata": {},
   "outputs": [
    {
     "data": {
      "text/html": [
       "<div>\n",
       "<style scoped>\n",
       "    .dataframe tbody tr th:only-of-type {\n",
       "        vertical-align: middle;\n",
       "    }\n",
       "\n",
       "    .dataframe tbody tr th {\n",
       "        vertical-align: top;\n",
       "    }\n",
       "\n",
       "    .dataframe thead th {\n",
       "        text-align: right;\n",
       "    }\n",
       "</style>\n",
       "<table border=\"1\" class=\"dataframe\">\n",
       "  <thead>\n",
       "    <tr style=\"text-align: right;\">\n",
       "      <th></th>\n",
       "      <th>a</th>\n",
       "      <th>b</th>\n",
       "    </tr>\n",
       "  </thead>\n",
       "  <tbody>\n",
       "    <tr>\n",
       "      <th>0</th>\n",
       "      <td>3</td>\n",
       "      <td>4</td>\n",
       "    </tr>\n",
       "    <tr>\n",
       "      <th>1</th>\n",
       "      <td>4</td>\n",
       "      <td>5</td>\n",
       "    </tr>\n",
       "    <tr>\n",
       "      <th>2</th>\n",
       "      <td>5</td>\n",
       "      <td>6</td>\n",
       "    </tr>\n",
       "    <tr>\n",
       "      <th>3</th>\n",
       "      <td>6</td>\n",
       "      <td>7</td>\n",
       "    </tr>\n",
       "    <tr>\n",
       "      <th>4</th>\n",
       "      <td>7</td>\n",
       "      <td>8</td>\n",
       "    </tr>\n",
       "  </tbody>\n",
       "</table>\n",
       "</div>"
      ],
      "text/plain": [
       "   a  b\n",
       "0  3  4\n",
       "1  4  5\n",
       "2  5  6\n",
       "3  6  7\n",
       "4  7  8"
      ]
     },
     "execution_count": 125,
     "metadata": {},
     "output_type": "execute_result"
    }
   ],
   "source": [
    "df"
   ]
  },
  {
   "cell_type": "code",
   "execution_count": 126,
   "metadata": {},
   "outputs": [
    {
     "data": {
      "text/plain": [
       "<Axes: xlabel='a'>"
      ]
     },
     "execution_count": 126,
     "metadata": {},
     "output_type": "execute_result"
    },
    {
     "data": {
      "image/png": "[encoded data removed]",
      "text/plain": [
       "<Figure size 640x480 with 1 Axes>"
      ]
     },
     "metadata": {},
     "output_type": "display_data"
    }
   ],
   "source": [
    "df.plot(x='a',y='b')"
   ]
  },
  {
   "cell_type": "code",
   "execution_count": 127,
   "metadata": {},
   "outputs": [
    {
     "data": {
      "text/plain": [
       "<Axes: xlabel='a', ylabel='b'>"
      ]
     },
     "execution_count": 127,
     "metadata": {},
     "output_type": "execute_result"
    },
    {
     "data": {
      "image/png": "[encoded data removed]",
      "text/plain": [
       "<Figure size 640x480 with 1 Axes>"
      ]
     },
     "metadata": {},
     "output_type": "display_data"
    }
   ],
   "source": [
    "df.plot.scatter(x='a',y='b')\n"
   ]
  },
  {
   "cell_type": "code",
   "execution_count": 128,
   "metadata": {},
   "outputs": [
    {
     "data": {
      "text/html": [
       "<div>\n",
       "<style scoped>\n",
       "    .dataframe tbody tr th:only-of-type {\n",
       "        vertical-align: middle;\n",
       "    }\n",
       "\n",
       "    .dataframe tbody tr th {\n",
       "        vertical-align: top;\n",
       "    }\n",
       "\n",
       "    .dataframe thead th {\n",
       "        text-align: right;\n",
       "    }\n",
       "</style>\n",
       "<table border=\"1\" class=\"dataframe\">\n",
       "  <thead>\n",
       "    <tr style=\"text-align: right;\">\n",
       "      <th></th>\n",
       "      <th>a</th>\n",
       "      <th>b</th>\n",
       "    </tr>\n",
       "  </thead>\n",
       "  <tbody>\n",
       "    <tr>\n",
       "      <th>0</th>\n",
       "      <td>3</td>\n",
       "      <td>4</td>\n",
       "    </tr>\n",
       "    <tr>\n",
       "      <th>1</th>\n",
       "      <td>4</td>\n",
       "      <td>5</td>\n",
       "    </tr>\n",
       "    <tr>\n",
       "      <th>2</th>\n",
       "      <td>5</td>\n",
       "      <td>6</td>\n",
       "    </tr>\n",
       "    <tr>\n",
       "      <th>3</th>\n",
       "      <td>6</td>\n",
       "      <td>7</td>\n",
       "    </tr>\n",
       "    <tr>\n",
       "      <th>4</th>\n",
       "      <td>7</td>\n",
       "      <td>8</td>\n",
       "    </tr>\n",
       "  </tbody>\n",
       "</table>\n",
       "</div>"
      ],
      "text/plain": [
       "   a  b\n",
       "0  3  4\n",
       "1  4  5\n",
       "2  5  6\n",
       "3  6  7\n",
       "4  7  8"
      ]
     },
     "execution_count": 128,
     "metadata": {},
     "output_type": "execute_result"
    }
   ],
   "source": [
    "df"
   ]
  },
  {
   "cell_type": "code",
   "execution_count": 129,
   "metadata": {},
   "outputs": [
    {
     "data": {
      "text/plain": [
       "<Axes: >"
      ]
     },
     "execution_count": 129,
     "metadata": {},
     "output_type": "execute_result"
    },
    {
     "data": {
      "image/png": "[encoded data removed]",
      "text/plain": [
       "<Figure size 640x480 with 1 Axes>"
      ]
     },
     "metadata": {},
     "output_type": "display_data"
    }
   ],
   "source": [
    "d.plot.pie()"
   ]
  },
  {
   "cell_type": "code",
   "execution_count": null,
   "metadata": {},
   "outputs": [],
   "source": []
  }
 ],
 "metadata": {
  "kernelspec": {
   "display_name": "Python 3",
   "language": "python",
   "name": "python3"
  },
  "language_info": {
   "codemirror_mode": {
    "name": "ipython",
    "version": 3
   },
   "file_extension": ".py",
   "mimetype": "text/x-python",
   "name": "python",
   "nbconvert_exporter": "python",
   "pygments_lexer": "ipython3",
   "version": "3.12.0"
  }
 },
 "nbformat": 4,
 "nbformat_minor": 2
}
