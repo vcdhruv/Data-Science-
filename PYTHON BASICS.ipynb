{
 "cells": [
  {
   "cell_type": "code",
   "execution_count": 1,
   "id": "2eecda94",
   "metadata": {},
   "outputs": [],
   "source": [
    "my_name = \"Vishmay Dhruv\"\n",
    "my_lst = [\"v\",\"i\",\"s\",\"h\",\"m\",\"a\",\"y\"]\n",
    "pi_value = 3.14\n",
    "my_tup = (\"a\",12,\"b\",3.14,True,1+2j)"
   ]
  },
  {
   "cell_type": "code",
   "execution_count": 5,
   "id": "f4f5cfad",
   "metadata": {},
   "outputs": [
    {
     "name": "stdout",
     "output_type": "stream",
     "text": [
      "<class 'str'>\n",
      "<class 'str'>\n",
      "<class 'list'>\n",
      "<class 'int'>\n"
     ]
    }
   ],
   "source": [
    "var1 = ''\n",
    "var2 = '[DS,ML,Python]'\n",
    "var3 = ['DS','ML','Python']\n",
    "var4 = 1\n",
    "print(type(var1))\n",
    "print(type(var2))\n",
    "print(type(var3))\n",
    "print(type(var4))"
   ]
  },
  {
   "cell_type": "code",
   "execution_count": 6,
   "id": "c176f18a",
   "metadata": {},
   "outputs": [
    {
     "name": "stdout",
     "output_type": "stream",
     "text": [
      "2.0\n",
      "0\n",
      "2\n",
      "100000\n"
     ]
    }
   ],
   "source": [
    "a = 10\n",
    "b = 5\n",
    "\n",
    "# (i) /\n",
    "c = a / b\n",
    "print(c)\n",
    "\n",
    "# (ii) %\n",
    "c = a % b\n",
    "print(c)\n",
    "\n",
    "# (iii) //\n",
    "c = a // b\n",
    "print(c)\n",
    "\n",
    "# (iv) **\n",
    "c = a ** b\n",
    "print(c)"
   ]
  },
  {
   "cell_type": "code",
   "execution_count": 10,
   "id": "9cdc6db2",
   "metadata": {},
   "outputs": [
    {
     "name": "stdout",
     "output_type": "stream",
     "text": [
      "a\n",
      "<class 'str'>\n",
      "1\n",
      "<class 'int'>\n",
      "1.2\n",
      "<class 'float'>\n",
      "True\n",
      "<class 'bool'>\n",
      "False\n",
      "<class 'bool'>\n",
      "(1+2j)\n",
      "<class 'complex'>\n",
      "(4+5j)\n",
      "<class 'complex'>\n",
      "[1, 2, 3]\n",
      "<class 'list'>\n",
      "(1, 2, 3)\n",
      "<class 'tuple'>\n",
      "c\n",
      "<class 'str'>\n"
     ]
    }
   ],
   "source": [
    "lst = [\"a\",1,1.2,True,False,1+2j,4+5j,[1,2,3],(1,2,3),\"c\"]\n",
    "for i in lst:\n",
    "    print(i)\n",
    "    print(type(i))"
   ]
  },
  {
   "cell_type": "code",
   "execution_count": 13,
   "id": "2b3d8b88",
   "metadata": {},
   "outputs": [
    {
     "name": "stdout",
     "output_type": "stream",
     "text": [
      "Enter No. 1:10\n",
      "Enter No. 2:2\n",
      "divisible by 2\n",
      "divisible by 5\n"
     ]
    }
   ],
   "source": [
    "A = int(input(\"Enter No. 1:\"))\n",
    "B = int(input(\"Enter No. 2:\"))\n",
    "while B < A:\n",
    "    if A % B == 0:\n",
    "        print(\"divisible by \"+str(B))\n",
    "    B=B+1"
   ]
  },
  {
   "cell_type": "code",
   "execution_count": 15,
   "id": "78a2f9d7",
   "metadata": {},
   "outputs": [
    {
     "name": "stdout",
     "output_type": "stream",
     "text": [
      "0\n",
      "3\n",
      "6\n",
      "9\n",
      "12\n",
      "15\n",
      "18\n",
      "21\n",
      "24\n"
     ]
    }
   ],
   "source": [
    "lst = list(range(25))\n",
    "for i in lst:\n",
    "    if i % 3 == 0:\n",
    "        print(i)"
   ]
  },
  {
   "cell_type": "code",
   "execution_count": 21,
   "id": "af464652",
   "metadata": {},
   "outputs": [
    {
     "name": "stdout",
     "output_type": "stream",
     "text": [
      "after modifying:['a', 'b', 'c']\n",
      "a1c\n"
     ]
    }
   ],
   "source": [
    "# Mutable \n",
    "lst = [\"a\",1,\"c\"]\n",
    "lst[1] = \"b\"\n",
    "print(\"after modifying:\"+str(lst))\n",
    "\n",
    "# Immutable\n",
    "s = \"a1c\"\n",
    "# s[1] = \"b\" modification cannot be done \n",
    "try:\n",
    "    s[1] = \"a1c\"\n",
    "except:\n",
    "    print(s)"
   ]
  },
  {
   "cell_type": "code",
   "execution_count": null,
   "id": "f7249d21",
   "metadata": {},
   "outputs": [],
   "source": []
  }
 ],
 "metadata": {
  "kernelspec": {
   "display_name": "Python 3 (ipykernel)",
   "language": "python",
   "name": "python3"
  },
  "language_info": {
   "codemirror_mode": {
    "name": "ipython",
    "version": 3
   },
   "file_extension": ".py",
   "mimetype": "text/x-python",
   "name": "python",
   "nbconvert_exporter": "python",
   "pygments_lexer": "ipython3",
   "version": "3.9.13"
  }
 },
 "nbformat": 4,
 "nbformat_minor": 5
}
