{
 "cells": [
  {
   "cell_type": "code",
   "execution_count": 27,
   "id": "7ef11cb4",
   "metadata": {},
   "outputs": [],
   "source": [
    "class student:\n",
    "    \n",
    "    #class variable\n",
    "    mobile_no = 123456789\n",
    "    \n",
    "    #init can be overloaded with class methods\n",
    "    \n",
    "    def __init__(self,name,email):\n",
    "        self.name = name\n",
    "        self.email = email\n",
    "    \n",
    "    @classmethod\n",
    "    def change_number(cls , number):\n",
    "        student.mobile_no = number\n",
    "     \n",
    "    @classmethod\n",
    "    def details( cls, name, email):\n",
    "        return cls( name,email )\n",
    "    \n",
    "    def return_details(self):\n",
    "        print(self.name , self.email , student.mobile_no)"
   ]
  },
  {
   "cell_type": "code",
   "execution_count": 23,
   "id": "5998723e",
   "metadata": {},
   "outputs": [
    {
     "data": {
      "text/plain": [
       "123456789"
      ]
     },
     "execution_count": 23,
     "metadata": {},
     "output_type": "execute_result"
    }
   ],
   "source": [
    "student.mobile_no"
   ]
  },
  {
   "cell_type": "code",
   "execution_count": 24,
   "id": "f14222ac",
   "metadata": {},
   "outputs": [],
   "source": [
    "student.change_number(456789321)"
   ]
  },
  {
   "cell_type": "code",
   "execution_count": 25,
   "id": "5567e915",
   "metadata": {},
   "outputs": [
    {
     "data": {
      "text/plain": [
       "456789321"
      ]
     },
     "execution_count": 25,
     "metadata": {},
     "output_type": "execute_result"
    }
   ],
   "source": [
    "student.mobile_no"
   ]
  },
  {
   "cell_type": "code",
   "execution_count": 26,
   "id": "816574a7",
   "metadata": {},
   "outputs": [],
   "source": [
    "st = student(\"vcd\",\"vc@gmail.com\") # created object"
   ]
  },
  {
   "cell_type": "code",
   "execution_count": 3,
   "id": "596a09ba",
   "metadata": {},
   "outputs": [
    {
     "name": "stdout",
     "output_type": "stream",
     "text": [
      "vcd vc@gmail.com\n"
     ]
    }
   ],
   "source": [
    "st.return_details()"
   ]
  },
  {
   "cell_type": "code",
   "execution_count": 4,
   "id": "5fe150b2",
   "metadata": {},
   "outputs": [
    {
     "data": {
      "text/plain": [
       "'vcd'"
      ]
     },
     "execution_count": 4,
     "metadata": {},
     "output_type": "execute_result"
    }
   ],
   "source": [
    "st.name"
   ]
  },
  {
   "cell_type": "code",
   "execution_count": 5,
   "id": "7c84925c",
   "metadata": {},
   "outputs": [
    {
     "data": {
      "text/plain": [
       "'vc@gmail.com'"
      ]
     },
     "execution_count": 5,
     "metadata": {},
     "output_type": "execute_result"
    }
   ],
   "source": [
    "st.email"
   ]
  },
  {
   "cell_type": "code",
   "execution_count": 12,
   "id": "e07eea64",
   "metadata": {},
   "outputs": [],
   "source": [
    "s1 = student.details(\"cmd\",\"cm@gmail.com\") #wthout creating object"
   ]
  },
  {
   "cell_type": "code",
   "execution_count": 13,
   "id": "29011cb9",
   "metadata": {},
   "outputs": [
    {
     "data": {
      "text/plain": [
       "'cmd'"
      ]
     },
     "execution_count": 13,
     "metadata": {},
     "output_type": "execute_result"
    }
   ],
   "source": [
    "s1.name"
   ]
  },
  {
   "cell_type": "code",
   "execution_count": 14,
   "id": "b7180099",
   "metadata": {},
   "outputs": [
    {
     "data": {
      "text/plain": [
       "'cm@gmail.com'"
      ]
     },
     "execution_count": 14,
     "metadata": {},
     "output_type": "execute_result"
    }
   ],
   "source": [
    "s1.email"
   ]
  },
  {
   "cell_type": "code",
   "execution_count": 15,
   "id": "f0bbc702",
   "metadata": {},
   "outputs": [
    {
     "name": "stdout",
     "output_type": "stream",
     "text": [
      "cmd cm@gmail.com\n"
     ]
    }
   ],
   "source": [
    "s1.return_details()"
   ]
  },
  {
   "cell_type": "markdown",
   "id": "8fd9817b",
   "metadata": {},
   "source": [
    "##### Adding Outsider Function To Class"
   ]
  },
  {
   "cell_type": "code",
   "execution_count": 28,
   "id": "ff20b715",
   "metadata": {},
   "outputs": [],
   "source": [
    "def new_student_details(cls,name):\n",
    "    print(f\"New Student : {name}\")"
   ]
  },
  {
   "cell_type": "code",
   "execution_count": 29,
   "id": "21913234",
   "metadata": {},
   "outputs": [],
   "source": [
    "student.new_student_details = classmethod(new_student_details)"
   ]
  },
  {
   "cell_type": "code",
   "execution_count": 30,
   "id": "e3790b38",
   "metadata": {},
   "outputs": [
    {
     "name": "stdout",
     "output_type": "stream",
     "text": [
      "New Student : Vishmay Dhruv\n"
     ]
    }
   ],
   "source": [
    "student.new_student_details(\"Vishmay Dhruv\")"
   ]
  },
  {
   "cell_type": "code",
   "execution_count": 31,
   "id": "077162d4",
   "metadata": {},
   "outputs": [],
   "source": [
    "def new_student_parents_details(cls,fname,mname,mobile_no):\n",
    "    print(f\"Father Name: {fname}\")\n",
    "    print(f\"Mother Name: {mname}\")\n",
    "    print(f\"Mobile No.: {mobile_no}\")"
   ]
  },
  {
   "cell_type": "code",
   "execution_count": 32,
   "id": "9b997081",
   "metadata": {},
   "outputs": [],
   "source": [
    "student.new_student_parents_details = classmethod(new_student_parents_details)"
   ]
  },
  {
   "cell_type": "code",
   "execution_count": 33,
   "id": "099498bc",
   "metadata": {},
   "outputs": [
    {
     "name": "stdout",
     "output_type": "stream",
     "text": [
      "Father Name: cmd\n",
      "Mother Name: mcd\n",
      "Mobile No.: 124578\n"
     ]
    }
   ],
   "source": [
    "student.new_student_parents_details(\"cmd\",\"mcd\",124578)"
   ]
  },
  {
   "cell_type": "markdown",
   "id": "ce767b88",
   "metadata": {},
   "source": [
    "#### Delete Function From Class"
   ]
  },
  {
   "cell_type": "code",
   "execution_count": 35,
   "id": "ef80f7a9",
   "metadata": {},
   "outputs": [],
   "source": [
    "del student.new_student_details"
   ]
  },
  {
   "cell_type": "code",
   "execution_count": 36,
   "id": "edd93533",
   "metadata": {},
   "outputs": [
    {
     "ename": "AttributeError",
     "evalue": "type object 'student' has no attribute 'new_student_details'",
     "output_type": "error",
     "traceback": [
      "\u001b[1;31m---------------------------------------------------------------------------\u001b[0m",
      "\u001b[1;31mAttributeError\u001b[0m                            Traceback (most recent call last)",
      "\u001b[1;32m~\\AppData\\Local\\Temp\\ipykernel_8732\\2662355882.py\u001b[0m in \u001b[0;36m<module>\u001b[1;34m\u001b[0m\n\u001b[1;32m----> 1\u001b[1;33m \u001b[0mstudent\u001b[0m\u001b[1;33m.\u001b[0m\u001b[0mnew_student_details\u001b[0m\u001b[1;33m(\u001b[0m\u001b[1;34m\"vcd\"\u001b[0m\u001b[1;33m)\u001b[0m\u001b[1;33m\u001b[0m\u001b[1;33m\u001b[0m\u001b[0m\n\u001b[0m",
      "\u001b[1;31mAttributeError\u001b[0m: type object 'student' has no attribute 'new_student_details'"
     ]
    }
   ],
   "source": [
    "student.new_student_details(\"vcd\")"
   ]
  },
  {
   "cell_type": "code",
   "execution_count": 38,
   "id": "80ffd10a",
   "metadata": {},
   "outputs": [],
   "source": [
    "delattr(student , \"new_student_parents_details\")"
   ]
  },
  {
   "cell_type": "code",
   "execution_count": 39,
   "id": "26f81138",
   "metadata": {},
   "outputs": [
    {
     "ename": "AttributeError",
     "evalue": "type object 'student' has no attribute 'new_student_parent_details'",
     "output_type": "error",
     "traceback": [
      "\u001b[1;31m---------------------------------------------------------------------------\u001b[0m",
      "\u001b[1;31mAttributeError\u001b[0m                            Traceback (most recent call last)",
      "\u001b[1;32m~\\AppData\\Local\\Temp\\ipykernel_8732\\1385851260.py\u001b[0m in \u001b[0;36m<module>\u001b[1;34m\u001b[0m\n\u001b[1;32m----> 1\u001b[1;33m \u001b[0mstudent\u001b[0m\u001b[1;33m.\u001b[0m\u001b[0mnew_student_parent_details\u001b[0m\u001b[1;33m\u001b[0m\u001b[1;33m\u001b[0m\u001b[0m\n\u001b[0m",
      "\u001b[1;31mAttributeError\u001b[0m: type object 'student' has no attribute 'new_student_parent_details'"
     ]
    }
   ],
   "source": [
    "student.new_student_parent_details"
   ]
  },
  {
   "cell_type": "code",
   "execution_count": 40,
   "id": "7070e0fc",
   "metadata": {},
   "outputs": [],
   "source": [
    "delattr(student , \"return_details\")"
   ]
  },
  {
   "cell_type": "code",
   "execution_count": 41,
   "id": "ad7b28ba",
   "metadata": {},
   "outputs": [
    {
     "ename": "AttributeError",
     "evalue": "type object 'student' has no attribute 'return_details'",
     "output_type": "error",
     "traceback": [
      "\u001b[1;31m---------------------------------------------------------------------------\u001b[0m",
      "\u001b[1;31mAttributeError\u001b[0m                            Traceback (most recent call last)",
      "\u001b[1;32m~\\AppData\\Local\\Temp\\ipykernel_8732\\207946953.py\u001b[0m in \u001b[0;36m<module>\u001b[1;34m\u001b[0m\n\u001b[1;32m----> 1\u001b[1;33m \u001b[0mstudent\u001b[0m\u001b[1;33m.\u001b[0m\u001b[0mreturn_details\u001b[0m\u001b[1;33m\u001b[0m\u001b[1;33m\u001b[0m\u001b[0m\n\u001b[0m",
      "\u001b[1;31mAttributeError\u001b[0m: type object 'student' has no attribute 'return_details'"
     ]
    }
   ],
   "source": [
    "student.return_details"
   ]
  },
  {
   "cell_type": "code",
   "execution_count": 43,
   "id": "3c5630af",
   "metadata": {},
   "outputs": [],
   "source": [
    "delattr(student , \"mobile_no\")"
   ]
  },
  {
   "cell_type": "code",
   "execution_count": 44,
   "id": "a0e3de79",
   "metadata": {},
   "outputs": [
    {
     "ename": "AttributeError",
     "evalue": "type object 'student' has no attribute 'mobile_no'",
     "output_type": "error",
     "traceback": [
      "\u001b[1;31m---------------------------------------------------------------------------\u001b[0m",
      "\u001b[1;31mAttributeError\u001b[0m                            Traceback (most recent call last)",
      "\u001b[1;32m~\\AppData\\Local\\Temp\\ipykernel_8732\\1584154668.py\u001b[0m in \u001b[0;36m<module>\u001b[1;34m\u001b[0m\n\u001b[1;32m----> 1\u001b[1;33m \u001b[0mstudent\u001b[0m\u001b[1;33m.\u001b[0m\u001b[0mmobile_no\u001b[0m\u001b[1;33m\u001b[0m\u001b[1;33m\u001b[0m\u001b[0m\n\u001b[0m",
      "\u001b[1;31mAttributeError\u001b[0m: type object 'student' has no attribute 'mobile_no'"
     ]
    }
   ],
   "source": [
    "student.mobile_no"
   ]
  },
  {
   "cell_type": "code",
   "execution_count": null,
   "id": "0cf63268",
   "metadata": {},
   "outputs": [],
   "source": []
  }
 ],
 "metadata": {
  "kernelspec": {
   "display_name": "Python 3 (ipykernel)",
   "language": "python",
   "name": "python3"
  },
  "language_info": {
   "codemirror_mode": {
    "name": "ipython",
    "version": 3
   },
   "file_extension": ".py",
   "mimetype": "text/x-python",
   "name": "python",
   "nbconvert_exporter": "python",
   "pygments_lexer": "ipython3",
   "version": "3.9.13"
  }
 },
 "nbformat": 4,
 "nbformat_minor": 5
}
